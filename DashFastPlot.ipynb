{
 "nbformat": 4,
 "nbformat_minor": 2,
 "metadata": {
  "language_info": {
   "name": "python",
   "codemirror_mode": {
    "name": "ipython",
    "version": 3
   },
   "version": "3.7.6-final"
  },
  "orig_nbformat": 2,
  "file_extension": ".py",
  "mimetype": "text/x-python",
  "name": "python",
  "npconvert_exporter": "python",
  "pygments_lexer": "ipython3",
  "version": 3,
  "kernelspec": {
   "name": "python37664bitdashenvcondaafc3fd1ed224455ca3aee86bd709bff6",
   "display_name": "Python 3.7.6 64-bit ('DashEnv': conda)"
  }
 },
 "cells": [
  {
   "cell_type": "code",
   "execution_count": null,
   "metadata": {},
   "outputs": [
    {
     "output_type": "error",
     "ename": "Error",
     "evalue": "Jupyter notebook failed to launch. \r\nError: Jupyter server crashed. Unable to connect. \r\nError code from jupyter: 0\nFailed to run jupyter as observable with args notebook --no-browser --notebook-dir=C:\\Users\\nms198\\AppData\\Local\\Temp\\6cddc191-ac62-420e-a754-57e7ebb4a2f0 --config=C:\\Users\\nms198\\AppData\\Local\\Temp\\6cddc191-ac62-420e-a754-57e7ebb4a2f0\\jupyter_notebook_config.py --NotebookApp.iopub_data_rate_limit=10000000000.0\n",
     "traceback": [
      "Error: Jupyter notebook failed to launch.",
      "Error: Jupyter server crashed. Unable to connect.",
      "Error code from jupyter: 0",
      "Failed to run jupyter as observable with args notebook --no-browser --notebook-dir=C:\\Users\\nms198\\AppData\\Local\\Temp\\6cddc191-ac62-420e-a754-57e7ebb4a2f0 --config=C:\\Users\\nms198\\AppData\\Local\\Temp\\6cddc191-ac62-420e-a754-57e7ebb4a2f0\\jupyter_notebook_config.py --NotebookApp.iopub_data_rate_limit=10000000000.0",
      "at E.start (c:\\Users\\nms198\\.vscode\\extensions\\ms-python.python-2020.2.64397\\out\\client\\extension.js:1:825656)"
     ]
    }
   ],
   "source": [
    "import pandas as pd\nfrom pandas.io.common import EmptyDataError\nfrom tqdm.autonotebook import trange, tqdm\n\nfrom plotly.subplots import make_subplots\nimport plotly.graph_objects as go\nimport datetime\nfrom datetime import datetime, timedelta, timezone\nfrom pytz import timezone\nimport humanize\n\nimport os\nimport re\n\nimport dash\nimport dash_core_components as dcc\nimport dash_bootstrap_components as dbc\nimport dash_html_components as html\nfrom dash.dependencies import Input, Output, State\nimport time\nimport numpy as np\nimport math\nimport seaborn as sns\n\nimport requests\nimport io\nimport warnings\n\nfrom collections import OrderedDict"
   ]
  },
  {
   "cell_type": "code",
   "execution_count": null,
   "metadata": {},
   "outputs": [
    {
     "output_type": "error",
     "ename": "Error",
     "evalue": "Jupyter notebook failed to launch. \r\nError: Jupyter server crashed. Unable to connect. \r\nError code from jupyter: 0\nFailed to run jupyter as observable with args notebook --no-browser --notebook-dir=C:\\Users\\nms198\\AppData\\Local\\Temp\\6cddc191-ac62-420e-a754-57e7ebb4a2f0 --config=C:\\Users\\nms198\\AppData\\Local\\Temp\\6cddc191-ac62-420e-a754-57e7ebb4a2f0\\jupyter_notebook_config.py --NotebookApp.iopub_data_rate_limit=10000000000.0\n",
     "traceback": [
      "Error: Jupyter notebook failed to launch.",
      "Error: Jupyter server crashed. Unable to connect.",
      "Error code from jupyter: 0",
      "Failed to run jupyter as observable with args notebook --no-browser --notebook-dir=C:\\Users\\nms198\\AppData\\Local\\Temp\\6cddc191-ac62-420e-a754-57e7ebb4a2f0 --config=C:\\Users\\nms198\\AppData\\Local\\Temp\\6cddc191-ac62-420e-a754-57e7ebb4a2f0\\jupyter_notebook_config.py --NotebookApp.iopub_data_rate_limit=10000000000.0",
      "at E.start (c:\\Users\\nms198\\.vscode\\extensions\\ms-python.python-2020.2.64397\\out\\client\\extension.js:1:825656)"
     ]
    }
   ],
   "source": [
    "def import_df(filename, index = False):\n    try:\n        if index == False:\n            df = pd.read_csv(filename)\n        else:\n            df = pd.read_csv(filename, index_col=0)\n    except EmptyDataError:\n        df = pd.DataFrame()\n    return df\n\ndef set_date(date_str, old_tz, dt_format = \"%d/%m/%Y %H:%M:%S\"):\n    if date_str == 'NaT':\n        return pd.NaT\n    else:\n        datetime_set_naive = datetime.strptime(date_str, dt_format)\n        datetime_set_old = timezone(old_tz).localize(datetime_set_naive)\n        datetime_set_utc = datetime_set_old.astimezone(timezone('UTC'))\n        return datetime_set_utc"
   ]
  },
  {
   "cell_type": "code",
   "execution_count": null,
   "metadata": {},
   "outputs": [
    {
     "output_type": "error",
     "ename": "Error",
     "evalue": "Jupyter notebook failed to launch. \r\nError: Jupyter server crashed. Unable to connect. \r\nError code from jupyter: 0\nFailed to run jupyter as observable with args notebook --no-browser --notebook-dir=C:\\Users\\nms198\\AppData\\Local\\Temp\\6cddc191-ac62-420e-a754-57e7ebb4a2f0 --config=C:\\Users\\nms198\\AppData\\Local\\Temp\\6cddc191-ac62-420e-a754-57e7ebb4a2f0\\jupyter_notebook_config.py --NotebookApp.iopub_data_rate_limit=10000000000.0\n",
     "traceback": [
      "Error: Jupyter notebook failed to launch.",
      "Error: Jupyter server crashed. Unable to connect.",
      "Error code from jupyter: 0",
      "Failed to run jupyter as observable with args notebook --no-browser --notebook-dir=C:\\Users\\nms198\\AppData\\Local\\Temp\\6cddc191-ac62-420e-a754-57e7ebb4a2f0 --config=C:\\Users\\nms198\\AppData\\Local\\Temp\\6cddc191-ac62-420e-a754-57e7ebb4a2f0\\jupyter_notebook_config.py --NotebookApp.iopub_data_rate_limit=10000000000.0",
      "at E.start (c:\\Users\\nms198\\.vscode\\extensions\\ms-python.python-2020.2.64397\\out\\client\\extension.js:1:825656)"
     ]
    }
   ],
   "source": [
    "info = OrderedDict()\ninfo['setup'] = import_df(\"Temp/Data/info/info_setup.csv\", index = True)\ndate_end = set_date(info['setup'].loc['date_end_utc','value'].replace('+00:00',''), \"UTC\", \"%Y-%m-%d %H:%M:%S.%f\")\ndiff = datetime.now(timezone('UTC')) - date_end\nlast_date = humanize.naturaldelta(diff)"
   ]
  },
  {
   "cell_type": "code",
   "execution_count": null,
   "metadata": {},
   "outputs": [
    {
     "output_type": "error",
     "ename": "Error",
     "evalue": "Jupyter notebook failed to launch. \r\nError: Jupyter server crashed. Unable to connect. \r\nError code from jupyter: 0\nFailed to run jupyter as observable with args notebook --no-browser --notebook-dir=C:\\Users\\nms198\\AppData\\Local\\Temp\\6cddc191-ac62-420e-a754-57e7ebb4a2f0 --config=C:\\Users\\nms198\\AppData\\Local\\Temp\\6cddc191-ac62-420e-a754-57e7ebb4a2f0\\jupyter_notebook_config.py --NotebookApp.iopub_data_rate_limit=10000000000.0\n",
     "traceback": [
      "Error: Jupyter notebook failed to launch.",
      "Error: Jupyter server crashed. Unable to connect.",
      "Error code from jupyter: 0",
      "Failed to run jupyter as observable with args notebook --no-browser --notebook-dir=C:\\Users\\nms198\\AppData\\Local\\Temp\\6cddc191-ac62-420e-a754-57e7ebb4a2f0 --config=C:\\Users\\nms198\\AppData\\Local\\Temp\\6cddc191-ac62-420e-a754-57e7ebb4a2f0\\jupyter_notebook_config.py --NotebookApp.iopub_data_rate_limit=10000000000.0",
      "at E.start (c:\\Users\\nms198\\.vscode\\extensions\\ms-python.python-2020.2.64397\\out\\client\\extension.js:1:825656)"
     ]
    }
   ],
   "source": [
    "if diff > timedelta(hours = 4):\n    from Scripts import GetLatestData"
   ]
  },
  {
   "cell_type": "code",
   "execution_count": null,
   "metadata": {},
   "outputs": [
    {
     "output_type": "error",
     "ename": "Error",
     "evalue": "Jupyter notebook failed to launch. \r\nError: Jupyter server crashed. Unable to connect. \r\nError code from jupyter: 0\nFailed to run jupyter as observable with args notebook --no-browser --notebook-dir=C:\\Users\\nms198\\AppData\\Local\\Temp\\6cddc191-ac62-420e-a754-57e7ebb4a2f0 --config=C:\\Users\\nms198\\AppData\\Local\\Temp\\6cddc191-ac62-420e-a754-57e7ebb4a2f0\\jupyter_notebook_config.py --NotebookApp.iopub_data_rate_limit=10000000000.0\n",
     "traceback": [
      "Error: Jupyter notebook failed to launch.",
      "Error: Jupyter server crashed. Unable to connect.",
      "Error code from jupyter: 0",
      "Failed to run jupyter as observable with args notebook --no-browser --notebook-dir=C:\\Users\\nms198\\AppData\\Local\\Temp\\6cddc191-ac62-420e-a754-57e7ebb4a2f0 --config=C:\\Users\\nms198\\AppData\\Local\\Temp\\6cddc191-ac62-420e-a754-57e7ebb4a2f0\\jupyter_notebook_config.py --NotebookApp.iopub_data_rate_limit=10000000000.0",
      "at E.start (c:\\Users\\nms198\\.vscode\\extensions\\ms-python.python-2020.2.64397\\out\\client\\extension.js:1:825656)"
     ]
    }
   ],
   "source": [
    "#Import data from temp_files\ninfo = OrderedDict()\nchart_dfs_mlt = []\nplot_pars = []\n\ndata_folder = \"Temp/Data/\"\n\nfor folder in tqdm(os.listdir(data_folder), desc = \"Open files to import\"):\n    if folder.startswith('info'):\n        for filename in os.listdir(data_folder + \"info\"):\n            file_id = filename.replace('info_', '')\n            file_id = file_id.replace('.csv', '')\n            info[file_id] = import_df(data_folder + \"info/\" + filename, index = True)\n    if folder.startswith('chart_dfs_mlt'):\n        for filename in os.listdir(data_folder + \"chart_dfs_mlt\"):\n            chart_dfs_mlt.append(import_df(data_folder + \"chart_dfs_mlt/\" + filename))\n    if folder.startswith('plot_pars'):\n        for filename in os.listdir(data_folder + \"plot_pars\"):\n            plot_pars.append(import_df(data_folder + \"plot_pars/\" + filename, index = True))\n\ncharts = info['charts'].index.to_list()\ndate_end = set_date(info['setup'].loc['date_end_utc','value'].replace('+00:00',''), \"UTC\", \"%Y-%m-%d %H:%M:%S.%f\")"
   ]
  },
  {
   "cell_type": "code",
   "execution_count": null,
   "metadata": {},
   "outputs": [
    {
     "output_type": "error",
     "ename": "Error",
     "evalue": "Jupyter notebook failed to launch. \r\nError: Jupyter server crashed. Unable to connect. \r\nError code from jupyter: 0\nFailed to run jupyter as observable with args notebook --no-browser --notebook-dir=C:\\Users\\nms198\\AppData\\Local\\Temp\\6cddc191-ac62-420e-a754-57e7ebb4a2f0 --config=C:\\Users\\nms198\\AppData\\Local\\Temp\\6cddc191-ac62-420e-a754-57e7ebb4a2f0\\jupyter_notebook_config.py --NotebookApp.iopub_data_rate_limit=10000000000.0\n",
     "traceback": [
      "Error: Jupyter notebook failed to launch.",
      "Error: Jupyter server crashed. Unable to connect.",
      "Error code from jupyter: 0",
      "Failed to run jupyter as observable with args notebook --no-browser --notebook-dir=C:\\Users\\nms198\\AppData\\Local\\Temp\\6cddc191-ac62-420e-a754-57e7ebb4a2f0 --config=C:\\Users\\nms198\\AppData\\Local\\Temp\\6cddc191-ac62-420e-a754-57e7ebb4a2f0\\jupyter_notebook_config.py --NotebookApp.iopub_data_rate_limit=10000000000.0",
      "at E.start (c:\\Users\\nms198\\.vscode\\extensions\\ms-python.python-2020.2.64397\\out\\client\\extension.js:1:825656)"
     ]
    }
   ],
   "source": [
    "chart_figs = []\nfor chart in charts:\n    if info['charts'].loc[chart, 'chart_status'] == 'ON':\n        chart_figs.append({})\n        selected_plot_info = info['plots'].loc[info['plots'].index == chart][info['plots'].loc[info['plots'].index == chart]['plot'].isin(chart_dfs_mlt[chart].Plot.unique().tolist())]\n        # For each plot\n        for plot in tqdm(selected_plot_info['plot'].to_list(), desc = \"Creating plots for chart \" + str(chart)):\n            \n            fig_par = info['plots'].loc[info['plots'].index == chart].query('plot == \"' + plot + '\"')\n            fig = go.Figure()\n            \n            #Add traces\n            for i in range(0, len(chart_dfs_mlt[chart].query('Plot == \"' + plot + '\"').Parameter.unique())):\n                par = chart_dfs_mlt[chart].query('Plot == \"' + plot + '\"').Parameter.unique()[i]\n                plot_par = plot_pars[chart].query('parameter == \"' + par + '\"')\n                if len(plot_par) != 0:\n                    x_data = chart_dfs_mlt[chart][chart_dfs_mlt[chart].Parameter == par].DateTime\n                    y_data = chart_dfs_mlt[chart][chart_dfs_mlt[chart].Parameter == par].Value\n                    y_error = chart_dfs_mlt[chart][chart_dfs_mlt[chart].Parameter == par].Error\n\n                    if plot_par['line'].values == True:\n                        if plot_par['show_in_legend'].values == True:\n                            if plot_par['point'].values == False and plot_par['bar'].values == False:\n                                legend_show = True\n                            else:\n                                legend_show = False\n                        else:\n                            legend_show = False\n                        fig.add_trace(go.Scatter(x=x_data, y=y_data, mode='lines',\n                                                name=plot_par['parameter_lab'][0], \n                                                line=dict(color=plot_par['colour'][0], width=2),\n                                                connectgaps=True,\n                                                legendgroup=plot_par['parameter_lab'][0],\n                                                showlegend=legend_show\n                                                ))\n                    if plot_par['point'].values == True:\n                        fig.add_trace(go.Scatter(x=x_data, y=y_data, mode='markers',\n                                                name=plot_par['parameter_lab'][0], \n                                                marker=dict(color=plot_par['fill'][0],\n                                                line=dict(color=plot_par['colour'][0],width=1)),\n                                                connectgaps=True,\n                                                legendgroup=plot_par['parameter_lab'][0],\n                                                showlegend=bool(plot_par['show_in_legend'][0]),\n                                                error_y=dict(\n                                                    type='data',\n                                                    array=y_error,\n                                                    visible=True)\n                                                ))\n                    if plot_par['ribbon'].values == True:\n                        fig.add_trace(go.Scatter(x=x_data, y=y_data + y_error, mode='lines',\n                                                name=plot_par['parameter_lab'][0], \n                                                line=dict(color=plot_par['colour'][0], width=0.5, dash = 'dot'),\n                                                connectgaps=True,\n                                                legendgroup=plot_par['parameter_lab'][0],\n                                                showlegend=False,\n                                                hoverinfo='skip'\n                                                ))\n                        fig.add_trace(go.Scatter(x=x_data, y=y_data - y_error, fill='tonexty', mode='lines',\n                                                fillcolor=plot_par['fill'][0],\n                                                name=plot_par['parameter_lab'][0], \n                                                line=dict(color=plot_par['colour'][0], width=0.5, dash = 'dot'),\n                                                connectgaps=True,\n                                                legendgroup=plot_par['parameter_lab'][0],\n                                                showlegend=False,\n                                                hoverinfo='skip'\n                                                )) # fill to trace0 y\n\n            #Modify plot\n            fig.update_layout(\n                margin=dict(l=100, r=220, b=15, t=15, pad=10),\n                template=\"simple_white\",\n                paper_bgcolor='rgba(0,0,0,0)',\n                font=dict(\n                    family=\"Arial\",\n                    size=12,\n                    color=\"black\"\n                ))\n            fig.update_yaxes(title_text=fig_par['ylab'][chart], mirror=True)\n            fig.update_xaxes(showgrid=True, showticklabels=False, ticks=\"\",\n                showline=True, mirror=True,\n                range=[min(chart_dfs_mlt[chart].DateTime), max(chart_dfs_mlt[chart].DateTime)])\n            \n            #Special plot mods\n            if fig_par['log'][chart] == True:\n                fig.update_layout(yaxis_type=\"log\")\n                fig.update_yaxes(range=[math.log(fig_par['ymin'][chart], 10), math.log(fig_par['ymax'][chart], 10)])\n            else:\n                fig.update_yaxes(range=[fig_par['ymin'][chart], fig_par['ymax'][chart]])\n\n            if plot == selected_plot_info['plot'].to_list()[len(selected_plot_info['plot'].to_list())-1]:\n                fig.update_xaxes(showticklabels=True, ticks=\"outside\")\n\n            chart_figs[chart][plot] = fig\n    else:\n        chart_figs.append(\"\")\n\n#del chart, fig, i, plot, par, plot_par, x_data, y_data, y_error"
   ]
  },
  {
   "cell_type": "code",
   "execution_count": null,
   "metadata": {},
   "outputs": [
    {
     "output_type": "error",
     "ename": "Error",
     "evalue": "Jupyter notebook failed to launch. \r\nError: Jupyter server crashed. Unable to connect. \r\nError code from jupyter: 0\nFailed to run jupyter as observable with args notebook --no-browser --notebook-dir=C:\\Users\\nms198\\AppData\\Local\\Temp\\6cddc191-ac62-420e-a754-57e7ebb4a2f0 --config=C:\\Users\\nms198\\AppData\\Local\\Temp\\6cddc191-ac62-420e-a754-57e7ebb4a2f0\\jupyter_notebook_config.py --NotebookApp.iopub_data_rate_limit=10000000000.0\n",
     "traceback": [
      "Error: Jupyter notebook failed to launch.",
      "Error: Jupyter server crashed. Unable to connect.",
      "Error code from jupyter: 0",
      "Failed to run jupyter as observable with args notebook --no-browser --notebook-dir=C:\\Users\\nms198\\AppData\\Local\\Temp\\6cddc191-ac62-420e-a754-57e7ebb4a2f0 --config=C:\\Users\\nms198\\AppData\\Local\\Temp\\6cddc191-ac62-420e-a754-57e7ebb4a2f0\\jupyter_notebook_config.py --NotebookApp.iopub_data_rate_limit=10000000000.0",
      "at E.start (c:\\Users\\nms198\\.vscode\\extensions\\ms-python.python-2020.2.64397\\out\\client\\extension.js:1:825656)"
     ]
    }
   ],
   "source": [
    "dcc_chart_figs = []\nfor chart in charts:\n    if info['charts'].loc[chart, 'chart_status'] == 'ON':\n        dcc_chart_figs.append([])\n        p = 0\n        for plot in chart_figs[chart]:\n            if p != len(chart_figs[chart])-1:\n                dcc_chart_figs[chart].append(\n                    dcc.Graph(id='graph' + str(p),\n                        figure=chart_figs[chart][plot],\n                        style={'width': '98vw', 'height': '20vh'})\n                    )\n            else:\n                dcc_chart_figs[chart].append(\n                    dcc.Graph(id='graph' + str(p),\n                        figure=chart_figs[chart][plot],\n                        style={'width': '98vw', 'height': '25vh'})\n                    )\n            p = p + 1\n    else:\n        dcc_chart_figs.append(\"\")\n\n#del chart, p, plot"
   ]
  },
  {
   "cell_type": "code",
   "execution_count": null,
   "metadata": {},
   "outputs": [
    {
     "output_type": "error",
     "ename": "Error",
     "evalue": "Jupyter notebook failed to launch. \r\nError: Jupyter server crashed. Unable to connect. \r\nError code from jupyter: 0\nFailed to run jupyter as observable with args notebook --no-browser --notebook-dir=C:\\Users\\nms198\\AppData\\Local\\Temp\\6cddc191-ac62-420e-a754-57e7ebb4a2f0 --config=C:\\Users\\nms198\\AppData\\Local\\Temp\\6cddc191-ac62-420e-a754-57e7ebb4a2f0\\jupyter_notebook_config.py --NotebookApp.iopub_data_rate_limit=10000000000.0\n",
     "traceback": [
      "Error: Jupyter notebook failed to launch.",
      "Error: Jupyter server crashed. Unable to connect.",
      "Error code from jupyter: 0",
      "Failed to run jupyter as observable with args notebook --no-browser --notebook-dir=C:\\Users\\nms198\\AppData\\Local\\Temp\\6cddc191-ac62-420e-a754-57e7ebb4a2f0 --config=C:\\Users\\nms198\\AppData\\Local\\Temp\\6cddc191-ac62-420e-a754-57e7ebb4a2f0\\jupyter_notebook_config.py --NotebookApp.iopub_data_rate_limit=10000000000.0",
      "at E.start (c:\\Users\\nms198\\.vscode\\extensions\\ms-python.python-2020.2.64397\\out\\client\\extension.js:1:825656)"
     ]
    }
   ],
   "source": [
    "external_stylesheets = ['https://codepen.io/chriddyp/pen/bWLwgP.css']\n#external_stylesheets = [dbc.themes.LITERA]\n\napp = dash.Dash(__name__, external_stylesheets = external_stylesheets)\n\ntabs_init = []\nfor chart in charts:\n    if info['charts'].loc[chart, 'chart_status'] == 'ON':\n        tabs_init.append(dcc.Tab(label=info['charts']['chart_label'][chart], value=\"\".join([\"tab-\", str(chart)])))\n\ndiff = datetime.now(timezone('UTC')) - date_end\nlast_date = humanize.naturaldelta(diff)\nupdate_text = html.Div(html.P('Data last retrieved ' + last_date + ' ago'))\n\napp.layout = html.Div(children=[\n    html.Div([html.Img(src=app.get_asset_url('ToOL-PRO-BES_2.png'), style={'width':'90%', 'max-width': '100%'})], style={'textAlign': 'center'}),\n    update_text,\n    html.Div(children=[\n        dcc.Tabs(id=\"tabs\",\n            value=\"tab-0\",\n            children=tabs_init),\n\n        html.Div(children=[\n            dcc.Loading(id='tabs-content')\n        ]),\n    ]),\n])\n\n@app.callback(Output('tabs-content', 'children'),\n              [Input('tabs', 'value')])\ndef render_content(tab):\n    time.sleep(2)\n    if tab == 'tab-0':\n        return html.Div(id='loading-0', children=dcc_chart_figs[0])\n    elif tab == 'tab-1':\n        return html.Div(id='loading-1', children=dcc_chart_figs[1])\n    elif tab == 'tab-2':\n        return html.Div(id='loading-2', children=dcc_chart_figs[2])\n    elif tab == 'tab-3':\n        return html.Div(id='loading-3', children=dcc_chart_figs[3])"
   ]
  },
  {
   "cell_type": "code",
   "execution_count": null,
   "metadata": {},
   "outputs": [
    {
     "output_type": "error",
     "ename": "Error",
     "evalue": "Jupyter notebook failed to launch. \r\nError: Jupyter server crashed. Unable to connect. \r\nError code from jupyter: 0\nFailed to run jupyter as observable with args notebook --no-browser --notebook-dir=C:\\Users\\nms198\\AppData\\Local\\Temp\\6cddc191-ac62-420e-a754-57e7ebb4a2f0 --config=C:\\Users\\nms198\\AppData\\Local\\Temp\\6cddc191-ac62-420e-a754-57e7ebb4a2f0\\jupyter_notebook_config.py --NotebookApp.iopub_data_rate_limit=10000000000.0\n",
     "traceback": [
      "Error: Jupyter notebook failed to launch.",
      "Error: Jupyter server crashed. Unable to connect.",
      "Error code from jupyter: 0",
      "Failed to run jupyter as observable with args notebook --no-browser --notebook-dir=C:\\Users\\nms198\\AppData\\Local\\Temp\\6cddc191-ac62-420e-a754-57e7ebb4a2f0 --config=C:\\Users\\nms198\\AppData\\Local\\Temp\\6cddc191-ac62-420e-a754-57e7ebb4a2f0\\jupyter_notebook_config.py --NotebookApp.iopub_data_rate_limit=10000000000.0",
      "at E.start (c:\\Users\\nms198\\.vscode\\extensions\\ms-python.python-2020.2.64397\\out\\client\\extension.js:1:825656)"
     ]
    }
   ],
   "source": [
    "if __name__ == '__main__':\n    app.run_server()\n    #debug=True, dev_tools_hot_reload_interval=5000)\n                   #dev_tools_hot_reload_max_retry=30)"
   ]
  },
  {
   "cell_type": "code",
   "execution_count": null,
   "metadata": {},
   "outputs": [],
   "source": [
    "graphs = [\n",
    "    'https://plot.ly/~christopherp/308',\n",
    "    'https://plot.ly/~christopherp/306',\n",
    "    'https://plot.ly/~christopherp/300',\n",
    "    'https://plot.ly/~christopherp/296'\n",
    "]"
   ]
  },
  {
   "cell_type": "code",
   "execution_count": null,
   "metadata": {},
   "outputs": [],
   "source": [
    "graphs[0]"
   ]
  },
  {
   "cell_type": "code",
   "execution_count": null,
   "metadata": {},
   "outputs": [],
   "source": [
    "from IPython.display import display, HTML\n",
    "\n",
    "def report_block_template(report_type, graph_url, caption=''):\n",
    "    if report_type == 'interactive':\n",
    "        graph_block = '<iframe style=\"border: none;\" src=\"{graph_url}.embed\" width=\"100%\" height=\"600px\"></iframe>'\n",
    "    elif report_type == 'static':\n",
    "        graph_block = (''\n",
    "            '<a href=\"{graph_url}\" target=\"_blank\">' # Open the interactive graph when you click on the image\n",
    "                '<img style=\"height: 400px;\" src=\"{graph_url}.png\">'\n",
    "            '</a>')\n",
    "\n",
    "    report_block = ('' +\n",
    "        graph_block +\n",
    "        '{caption}' + # Optional caption to include below the graph\n",
    "        '<br>'      + # Line break\n",
    "        '<a href=\"{graph_url}\" style=\"color: rgb(190,190,190); text-decoration: none; font-weight: 200;\" target=\"_blank\">'+\n",
    "            'Click to comment and see the interactive graph' + # Direct readers to Plotly for commenting, interactive graph\n",
    "        '</a>' +\n",
    "        '<br>' +\n",
    "        '<hr>') # horizontal line                       \n",
    "\n",
    "    return report_block.format(graph_url=graph_url, caption=caption)\n",
    "\n",
    "\n",
    "interactive_report = ''\n",
    "static_report = ''\n",
    "\n",
    "for graph_url in graphs:\n",
    "    _static_block = report_block_template('static', graph_url, caption='')\n",
    "    _interactive_block = report_block_template('interactive', graph_url, caption='')\n",
    "\n",
    "    static_report += _static_block\n",
    "    interactive_report += _interactive_block"
   ]
  },
  {
   "cell_type": "code",
   "execution_count": null,
   "metadata": {},
   "outputs": [],
   "source": [
    "from xhtml2pdf import pisa             # import python module\n",
    "\n",
    "# Utility function\n",
    "def convert_html_to_pdf(source_html, output_filename):\n",
    "    # open output file for writing (truncated binary)\n",
    "    result_file = open(output_filename, \"w+b\")\n",
    "\n",
    "    # convert HTML to PDF\n",
    "    pisa_status = pisa.CreatePDF(\n",
    "            source_html,                # the HTML to convert\n",
    "            dest=result_file)           # file handle to recieve result\n",
    "\n",
    "    # close output file\n",
    "    result_file.close()                 # close output file\n",
    "\n",
    "    # return True on success and False on errors\n",
    "    return pisa_status.err"
   ]
  },
  {
   "cell_type": "code",
   "execution_count": null,
   "metadata": {},
   "outputs": [],
   "source": [
    "convert_html_to_pdf(static_report, 'report.pdf')"
   ]
  },
  {
   "cell_type": "code",
   "execution_count": null,
   "metadata": {},
   "outputs": [],
   "source": [
    "import chart_studio.plotly as py\n",
    "import base64\n",
    "\n",
    "width = 600\n",
    "height = 600\n",
    "\n",
    "template = (''\n",
    "    '<img style=\"width: {width}; height: {height}\" src=\"data:image/png;base64,{image}\">'\n",
    "    '{caption}'                              # Optional caption to include below the graph\n",
    "    '<br>'\n",
    "    '<hr>'\n",
    "'')\n",
    "\n",
    "# A collection of Plotly graphs\n",
    "figures = [\n",
    "    {'data': [{'x': [1,2,3], 'y': [3,1,6]}], 'layout': {'title': 'the first graph'}},\n",
    "    {'data': [{'x': [1,2,3], 'y': [3,7,6], 'type': 'bar'}], 'layout': {'title': 'the second graph'}}\n",
    "]\n",
    "\n",
    "# Generate their images using `py.image.get`\n",
    "images = [base64.b64encode(py.image.get(figure, width=width, height=height)).decode('utf-8') for figure in figures]\n",
    "\n",
    "report_html = ''\n",
    "for image in images:\n",
    "    _ = template\n",
    "    _ = _.format(image=image, caption='', width=width, height=height)\n",
    "    report_html += _\n",
    "\n",
    "display(HTML(report_html))\n",
    "convert_html_to_pdf(report_html, 'Output/report-2.pdf')"
   ]
  },
  {
   "cell_type": "code",
   "execution_count": null,
   "metadata": {},
   "outputs": [],
   "source": [
    "for file in tqdm(os.listdir(\"Temp/SVGs\"), desc=\"Open files to import\"):\n",
    "    print(file)"
   ]
  },
  {
   "cell_type": "code",
   "execution_count": null,
   "metadata": {},
   "outputs": [],
   "source": [
    "chart = 0\n",
    "for plot in chart_figs[chart]:\n",
    "    print(plot)"
   ]
  },
  {
   "cell_type": "code",
   "execution_count": null,
   "metadata": {},
   "outputs": [],
   "source": [
    "import os, shutil\n",
    "\n",
    "def delete_folder_contents(folder):\n",
    "    for filename in os.listdir(folder):\n",
    "        file_path = os.path.join(folder, filename)\n",
    "        try:\n",
    "            if os.path.isfile(file_path) or os.path.islink(file_path):\n",
    "                os.unlink(file_path)\n",
    "            elif os.path.isdir(file_path):\n",
    "                shutil.rmtree(file_path)\n",
    "        except Exception as e:\n",
    "            print('Failed to delete %s. Reason: %s' % (file_path, e))"
   ]
  },
  {
   "cell_type": "code",
   "execution_count": null,
   "metadata": {},
   "outputs": [],
   "source": [
    "if not os.path.exists(\"Temp\"):\n",
    "    os.mkdir(\"Temp\")\n",
    "if not os.path.exists(\"Temp/SVGs\"):\n",
    "    os.mkdir(\"Temp/SVGs\")\n",
    "else:\n",
    "    delete_folder_contents(\"Temp/SVGs\")\n",
    "\n",
    "for chart in tqdm(charts, desc=\"Exporting SVGs\"):\n",
    "    if info['charts'].loc[chart, 'chart_status'] == 'ON':\n",
    "        folder = \"Temp/SVGs/\" + str(chart) + \"_\" + info['charts'].loc[chart, 'chart']\n",
    "        if not os.path.exists(folder):\n",
    "            os.mkdir(folder)\n",
    "        else:\n",
    "            delete_folder_contents(folder)\n",
    "        p = 0\n",
    "        for plot in chart_figs[chart]:\n",
    "            chart_figs[chart][plot].write_image(folder + \"/\" + str(p) + \"_\" + plot + \".svg\", width=210*6, height=29.7*6, scale=1)\n",
    "            p = p + 1"
   ]
  },
  {
   "cell_type": "code",
   "execution_count": null,
   "metadata": {},
   "outputs": [],
   "source": [
    "# svg_scaled_on_canvas.py\n",
    "from reportlab.graphics import renderPDF\n",
    "from reportlab.pdfgen import canvas\n",
    "from svglib.svglib import svg2rlg\n",
    "def scale(drawing, scaling_factor):\n",
    "    \"\"\"\n",
    "    Scale a reportlab.graphics.shapes.Drawing()\n",
    "    object while maintaining the aspect ratio\n",
    "    \"\"\"\n",
    "    scaling_x = scaling_factor\n",
    "    scaling_y = scaling_factor\n",
    "    \n",
    "    drawing.width = drawing.minWidth() * scaling_x\n",
    "    drawing.height = drawing.height * scaling_y\n",
    "    drawing.scale(scaling_x, scaling_y)\n",
    "    return drawing\n",
    "def add_image(image_path, scaling_factor, x, y):\n",
    "    drawing = svg2rlg(image_path)\n",
    "    scaled_drawing = scale(drawing, scaling_factor=scaling_factor)\n",
    "    renderPDF.draw(scaled_drawing, my_canvas, x, y)\n",
    "    #my_canvas.drawString(50, 30, 'My SVG Image')\n",
    "if __name__ == '__main__':\n",
    "    for chart in charts:\n",
    "        if info['charts'].loc[chart, 'chart_status'] == 'ON':\n",
    "            num_figs = len(os.listdir(\"Temp/SVGs/\" + str(chart) + \"_\" + info['charts'].loc[chart, 'chart']))\n",
    "            if num_figs > 8:\n",
    "                scaler = (10/num_figs) * 0.48\n",
    "            else:\n",
    "                scaler = 0.48\n",
    "            print(num_figs, scaler)\n",
    "            my_canvas = canvas.Canvas('Output/Report_' + str(chart) + \"_\" + info['charts'].loc[chart, 'chart'] + '.pdf')\n",
    "            s = 0\n",
    "            for svg in os.listdir(\"Temp/SVGs/\" + str(chart) + \"_\" + info['charts'].loc[chart, 'chart']):\n",
    "                image_path = \"Temp/SVGs/\" + str(chart) + \"_\" + info['charts'].loc[chart, 'chart'] + \"/\" + svg\n",
    "                add_image(image_path, scaling_factor=scaler, x=0, y=750-(100*s))\n",
    "                s = s + 1\n",
    "            my_canvas.save()"
   ]
  },
  {
   "cell_type": "code",
   "execution_count": null,
   "metadata": {},
   "outputs": [],
   "source": [
    "scaler"
   ]
  },
  {
   "cell_type": "code",
   "execution_count": null,
   "metadata": {},
   "outputs": [],
   "source": [
    "for svg in os.listdir(\"Temp/SVGs/\" + str(chart) + \"_\" + info['charts'].loc[chart, 'chart']):\n",
    "    print(svg)"
   ]
  },
  {
   "cell_type": "code",
   "execution_count": null,
   "metadata": {},
   "outputs": [],
   "source": [
    "# coding: utf-8\n",
    "import svgutils.transform as sg\n",
    "import sys \n",
    "\n",
    "#create new SVG figure\n",
    "fig = sg.SVGFigure(\"16cm\", \"6.5cm\")\n",
    "\n",
    "# load matpotlib-generated figures\n",
    "fig1 = sg.fromfile(\"Temp/SVGs/0_high/2_BES_CC.svg\")\n",
    "fig2 = sg.fromfile(\"Temp/SVGs/0_high/3_TEMP.svg\")\n",
    "\n",
    "# get the plot objects\n",
    "plot1 = fig1.getroot()\n",
    "plot2 = fig2.getroot()\n",
    "plot2.moveto(280, 0, scale=0.5)\n",
    "\n",
    "# add text labels\n",
    "txt1 = sg.TextElement(25,20, \"A\", size=12, weight=\"bold\")\n",
    "txt2 = sg.TextElement(305,20, \"B\", size=12, weight=\"bold\")\n",
    "\n",
    "# append plots and labels to figure\n",
    "fig.append([plot1, plot2])\n",
    "fig.append([txt1, txt2])\n",
    "\n",
    "# save generated SVG files\n",
    "fig.save(\"Output/fig_final.svg\")"
   ]
  },
  {
   "cell_type": "code",
   "execution_count": null,
   "metadata": {},
   "outputs": [],
   "source": [
    "#!/usr/bin/env python\n",
    "#coding=utf-8\n",
    "\n",
    "from svgutils.compose import *\n",
    "\n",
    "Figure(\"16cm\", \"6.5cm\", \n",
    "        Panel(\n",
    "              SVG(\"Temp/SVGs/0_high/2_BES_CC.svg\"),\n",
    "              Text(\"A\", 25, 20, size=12, weight='bold')\n",
    "             ),\n",
    "        Panel(\n",
    "              SVG(\"Temp/SVGs/0_high/2_BES_CC.svg\").scale(0.5),\n",
    "              Text(\"B\", 25, 20, size=12, weight='bold')\n",
    "             ).move(280, 0)\n",
    "        ).save(\"Output/fig_final_compose.svg\")"
   ]
  },
  {
   "cell_type": "code",
   "execution_count": null,
   "metadata": {},
   "outputs": [],
   "source": [
    "import os\n",
    "from reportlab.lib.pagesizes import A4\n",
    "from reportlab.platypus import SimpleDocTemplate, Image\n",
    "from reportlab.lib.units import cm\n",
    "from svglib.svglib import svg2rlg\n",
    "\n",
    "def scale(drawing, scaling_factor):\n",
    "    \"\"\"\n",
    "    Scale a reportlab.graphics.shapes.Drawing()\n",
    "    object while maintaining the aspect ratio\n",
    "    \"\"\"\n",
    "    scaling_x = scaling_factor\n",
    "    scaling_y = scaling_factor\n",
    "    \n",
    "    drawing.width = drawing.minWidth() * scaling_x\n",
    "    drawing.height = drawing.height * scaling_y\n",
    "    drawing.scale(scaling_x, scaling_y)\n",
    "    return drawing\n",
    "\n",
    "for chart in charts:\n",
    "    if info['charts'].loc[chart, 'chart_status'] == 'ON':\n",
    "        doc = SimpleDocTemplate(\"Output/\" + str(chart) + \"_\" + info['charts'].loc[chart, 'chart'] + \".pdf\",\n",
    "                                pagesize=A4, \n",
    "                                rightMargin=0,\n",
    "                                leftMargin=0)\n",
    "        parts = []\n",
    "        chart_dir = \"Temp/SVGs/\" + str(chart) + \"_\" + info['charts'].loc[chart, 'chart'] + \"/\"\n",
    "        for svg in os.listdir(chart_dir):\n",
    "            drawing = svg2rlg(chart_dir + svg)\n",
    "            #scaling_factor = 0.5\n",
    "            #scaled_drawing = scale(drawing, scaling_factor=scaling_factor)\n",
    "            print(drawing)\n",
    "            parts.append(drawing)\n",
    "            doc.build(parts)\n",
    "            print(svg)\n",
    "            print(parts)"
   ]
  },
  {
   "cell_type": "code",
   "execution_count": null,
   "metadata": {},
   "outputs": [],
   "source": [
    "from PIL import Image\n",
    "\n",
    "im1 = svg2rlg(\"Temp/SVGs/0_high/3_TEMP.svg\")\n",
    "im2 = svg2rlg(\"Temp/SVGs/0_high/2_BES_CC.svg\")\n",
    "\n",
    "def get_concat_h(im1, im2):\n",
    "    dst = Image.new('RGB', (im1.width + im2.width, im1.height))\n",
    "    dst.paste(im1, (0, 0))\n",
    "    dst.paste(im2, (im1.width, 0))\n",
    "    return dst\n",
    "\n",
    "def get_concat_v(im1, im2):\n",
    "    dst = Image.new('RGB', (im1.width, im1.height + im2.height))\n",
    "    dst.paste(im1, (0, 0))\n",
    "    dst.paste(im2, (0, im1.height))\n",
    "    return dst\n",
    "\n",
    "get_concat_h(im1, im1).save('data/dst/pillow_concat_h.jpg')\n",
    "get_concat_v(im1, im1).save('data/dst/pillow_concat_v.jpg')"
   ]
  },
  {
   "cell_type": "code",
   "execution_count": null,
   "metadata": {},
   "outputs": [],
   "source": [
    "from svglib.svglib import svg2rlg\n",
    "from reportlab.graphics import renderPDF, renderPM\n",
    "drawing = svg2rlg(\"Output/fig_final.svg\")\n",
    "renderPDF.drawToFile(drawing, \"Output/fig_final.pdf\")\n",
    "renderPM.drawToFile(drawing, \"Output/fig_final.png\", fmt=\"PNG\")"
   ]
  },
  {
   "cell_type": "code",
   "execution_count": null,
   "metadata": {},
   "outputs": [],
   "source": [
    "tab1_content = dbc.Card(\n",
    "    dbc.CardBody(\n",
    "        [\n",
    "            html.P(\"This is tab 1!\", className=\"card-text\"),\n",
    "            dbc.Button(\"Click here\", color=\"success\"),\n",
    "        ]\n",
    "    ),\n",
    "    className=\"mt-3\",\n",
    ")\n",
    "\n",
    "tab2_content = dbc.Card(\n",
    "    dbc.CardBody(\n",
    "        [\n",
    "            html.P(\"This is tab 2!\", className=\"card-text\"),\n",
    "            dbc.Button(\"Don't click here\", color=\"danger\"),\n",
    "        ]\n",
    "    ),\n",
    "    className=\"mt-3\",\n",
    ")\n",
    "\n",
    "\n",
    "tabs = dbc.Tabs(\n",
    "    [\n",
    "        dbc.Tab(tab1_content, label=\"Tab 1\"),\n",
    "        dbc.Tab(tab2_content, label=\"Tab 2\"),\n",
    "        dbc.Tab(\n",
    "            \"This tab's content is never seen\", label=\"Tab 3\", disabled=True\n",
    "        ),\n",
    "    ]\n",
    ")\n",
    "\n",
    "layout = html.Div([tabs])\n",
    "\n",
    "app = dash.Dash(__name__, external_stylesheets=[dbc.themes.LITERA]\n",
    "\n",
    "app.layout = layout"
   ]
  }
 ]
}