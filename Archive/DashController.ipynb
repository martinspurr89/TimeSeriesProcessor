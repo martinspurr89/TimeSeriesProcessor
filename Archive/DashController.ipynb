{
 "cells": [
  {
   "cell_type": "markdown",
   "execution_count": null,
   "metadata": {},
   "outputs": [],
   "source": [
    "![ToOL-PRO-BES.png](Info/ToOL-PRO-BES.png)"
   ]
  },
  {
   "cell_type": "markdown",
   "execution_count": null,
   "metadata": {},
   "outputs": [],
   "source": [
    "## Import packages"
   ]
  },
  {
   "cell_type": "code",
   "execution_count": 16,
   "metadata": {},
   "outputs": [],
   "source": [
    "import pandas as pd\n",
    "from tqdm import trange, tqdm\n",
    "#from tqdm.notebook import trange, tqdm\n",
    "\n",
    "from plotly.subplots import make_subplots\n",
    "import plotly.graph_objects as go\n",
    "import datetime\n",
    "from datetime import datetime, timedelta, timezone\n",
    "from pytz import timezone\n",
    "\n",
    "import os\n",
    "import re\n",
    "\n",
    "import dash\n",
    "import dash_core_components as dcc\n",
    "import dash_html_components as html\n",
    "from dash.dependencies import Input, Output, State\n",
    "import time\n",
    "import numpy as np\n",
    "import math\n",
    "import seaborn as sns\n",
    "\n",
    "import requests\n",
    "import io"
   ]
  },
  {
   "cell_type": "markdown",
   "execution_count": null,
   "metadata": {},
   "outputs": [],
   "source": [
    "## Setup from Info.xlsx"
   ]
  },
  {
   "cell_type": "code",
   "execution_count": 17,
   "metadata": {},
   "outputs": [
    {
     "name": "stdout",
     "output_type": "stream",
     "text": "setup | datasets | parameters | parameters_ave | charts | charts_ave | plots | colours\n"
    }
   ],
   "source": [
    "info = pd.read_excel(\"Info/Info.xlsx\", sheet_name=None, index_col=0)\n",
    "print(*info.keys(), sep = \" | \")"
   ]
  },
  {
   "cell_type": "markdown",
   "execution_count": null,
   "metadata": {},
   "outputs": [],
   "source": [
    "## Functions"
   ]
  },
  {
   "cell_type": "code",
   "execution_count": 18,
   "metadata": {},
   "outputs": [
    {
     "data": {
      "text/html": "<div>\n<style scoped>\n    .dataframe tbody tr th:only-of-type {\n        vertical-align: middle;\n    }\n\n    .dataframe tbody tr th {\n        vertical-align: top;\n    }\n\n    .dataframe thead th {\n        text-align: right;\n    }\n</style>\n<table border=\"1\" class=\"dataframe\">\n  <thead>\n    <tr style=\"text-align: right;\">\n      <th></th>\n      <th>value</th>\n    </tr>\n    <tr>\n      <th>id</th>\n      <th></th>\n    </tr>\n  </thead>\n  <tbody>\n    <tr>\n      <th>project</th>\n      <td>ToOLTuBES v2</td>\n    </tr>\n    <tr>\n      <th>date_start_utc</th>\n      <td>2019-06-04 13:03:17</td>\n    </tr>\n    <tr>\n      <th>date_end_utc</th>\n      <td>2020-02-06 13:00:43.567856+00:00</td>\n    </tr>\n  </tbody>\n</table>\n</div>",
      "text/plain": "                                           value\nid                                              \nproject                             ToOLTuBES v2\ndate_start_utc               2019-06-04 13:03:17\ndate_end_utc    2020-02-06 13:00:43.567856+00:00"
     },
     "execution_count": 18,
     "metadata": {},
     "output_type": "execute_result"
    }
   ],
   "source": [
    "# Date Functions\n",
    "def set_date(date_str, old_tz, dt_format = \"%d/%m/%Y %H:%M:%S\"):\n",
    "    if date_str == 'NaT':\n",
    "        return pd.NaT\n",
    "    else:\n",
    "        datetime_set_naive = datetime.strptime(date_str, dt_format)\n",
    "        datetime_set_old = timezone(old_tz).localize(datetime_set_naive)\n",
    "        datetime_set_utc = datetime_set_old.astimezone(timezone('UTC'))\n",
    "        return datetime_set_utc\n",
    "\n",
    "def date_parser(date_, time_, dt_format = \"%d/%m/%Y %H:%M:%S\"):\n",
    "    return set_date(date_ + \" \" + time_, 'UTC', dt_format)\n",
    "\n",
    "def date_parserYMD(date_, time_, dt_format = \"%Y-%m-%d %H:%M:%S\"):\n",
    "    return set_date(date_ + \" \" + time_, 'UTC', dt_format)\n",
    "\n",
    "\n",
    "# Experiment start/end date\n",
    "date_start = set_date(str(info['setup'].loc['date_start_utc','value']), \"UTC\", \"%Y-%m-%d %H:%M:%S\")\n",
    "if pd.isna(info['setup'].loc['date_end_utc','value']):\n",
    "    date_now = datetime.now(timezone('UTC'))\n",
    "    info['setup'].loc['date_end_utc','value'] = date_now\n",
    "else:\n",
    "    date_now = set_date(str(info['setup'].loc['date_end_utc','value']), \"UTC\", \"%Y-%m-%d %H:%M:%S\")\n",
    "\n",
    "# Date Functions continued\n",
    "def date_range(window=-1, start=date_start, end=date_now):\n",
    "    if pd.isna(start):\n",
    "        start = date_start\n",
    "    if pd.isna(end):\n",
    "        end = date_now\n",
    "    if window != -1:\n",
    "        if not pd.isna(window):\n",
    "            start = end - timedelta(days=window)\n",
    "    return start, end\n",
    "\n",
    "info['setup']"
   ]
  },
  {
   "cell_type": "markdown",
   "execution_count": null,
   "metadata": {},
   "outputs": [],
   "source": [
    "## Process Information sheets from Info.xlsx\n",
    "\n",
    "### Datasets:"
   ]
  },
  {
   "cell_type": "code",
   "execution_count": 19,
   "metadata": {},
   "outputs": [
    {
     "data": {
      "text/html": "<div>\n<style scoped>\n    .dataframe tbody tr th:only-of-type {\n        vertical-align: middle;\n    }\n\n    .dataframe tbody tr th {\n        vertical-align: top;\n    }\n\n    .dataframe thead th {\n        text-align: right;\n    }\n</style>\n<table border=\"1\" class=\"dataframe\">\n  <thead>\n    <tr style=\"text-align: right;\">\n      <th></th>\n      <th>folder</th>\n      <th>selection</th>\n      <th>melt</th>\n      <th>data_folder_path</th>\n      <th>supp_data_filepath</th>\n      <th>file_pat</th>\n      <th>skiprows</th>\n      <th>Slim</th>\n      <th>Del_unit_rows</th>\n      <th>Add_blank_rows</th>\n    </tr>\n    <tr>\n      <th>dataset</th>\n      <th></th>\n      <th></th>\n      <th></th>\n      <th></th>\n      <th></th>\n      <th></th>\n      <th></th>\n      <th></th>\n      <th></th>\n      <th></th>\n    </tr>\n  </thead>\n  <tbody>\n    <tr>\n      <th>UO</th>\n      <td>1</td>\n      <td>UO.wide</td>\n      <td>UO.wide</td>\n      <td>C:/Users/Martin/Google Drive/ToOLTuBES/LAB/Dat...</td>\n      <td>C:/Users/Martin/Google Drive/ToOLTuBES/LAB/Dat...</td>\n      <td>.csv</td>\n      <td>0</td>\n      <td>1.0</td>\n      <td>NaN</td>\n      <td>1.0</td>\n    </tr>\n    <tr>\n      <th>NWL</th>\n      <td>1</td>\n      <td>NWL</td>\n      <td>NWL</td>\n      <td>C:/Users/Martin/Google Drive/ToOLTuBES/LAB/Dat...</td>\n      <td>NaN</td>\n      <td>.xlsx</td>\n      <td>2</td>\n      <td>NaN</td>\n      <td>1.0</td>\n      <td>NaN</td>\n    </tr>\n    <tr>\n      <th>Skid</th>\n      <td>1</td>\n      <td>Skid</td>\n      <td>Skid.ave</td>\n      <td>C:/Users/Martin/Google Drive/BEWISE_shared/Ski...</td>\n      <td>NaN</td>\n      <td>.CSV</td>\n      <td>2</td>\n      <td>NaN</td>\n      <td>NaN</td>\n      <td>1.0</td>\n    </tr>\n    <tr>\n      <th>Skid</th>\n      <td>2</td>\n      <td>Skid</td>\n      <td>Skid.ave</td>\n      <td>C:/Users/Martin/Google Drive/BEWISE_shared/Ski...</td>\n      <td>NaN</td>\n      <td>.CSV</td>\n      <td>3</td>\n      <td>NaN</td>\n      <td>NaN</td>\n      <td>1.0</td>\n    </tr>\n    <tr>\n      <th>SampLog</th>\n      <td>1</td>\n      <td>SampLog.wide</td>\n      <td>SampLog.wide.ave</td>\n      <td>C:/Users/Martin/Google Drive/BEWISE_shared/Sam...</td>\n      <td>NaN</td>\n      <td>.csv</td>\n      <td>0</td>\n      <td>1.0</td>\n      <td>NaN</td>\n      <td>NaN</td>\n    </tr>\n    <tr>\n      <th>Sensor</th>\n      <td>1</td>\n      <td>SENSOR</td>\n      <td>SENSOR</td>\n      <td>C:/Users/Martin/Google Drive/ToOLTuBESv2/LAB/T...</td>\n      <td>NaN</td>\n      <td>\\d\\d_\\d\\d_\\d\\d\\d\\d\\.csv</td>\n      <td>0</td>\n      <td>NaN</td>\n      <td>NaN</td>\n      <td>NaN</td>\n    </tr>\n    <tr>\n      <th>Events</th>\n      <td>1</td>\n      <td>EV.wide</td>\n      <td>EV.ave</td>\n      <td>C:/Users/Martin/Google Drive/ToOLTuBESv2/LAB/T...</td>\n      <td>C:/Users/Martin/Google Drive/ToOLTuBESv2/LAB/T...</td>\n      <td>.csv</td>\n      <td>0</td>\n      <td>NaN</td>\n      <td>NaN</td>\n      <td>NaN</td>\n    </tr>\n  </tbody>\n</table>\n</div>",
      "text/plain": "         folder     selection              melt  \\\ndataset                                           \nUO            1       UO.wide           UO.wide   \nNWL           1           NWL               NWL   \nSkid          1          Skid          Skid.ave   \nSkid          2          Skid          Skid.ave   \nSampLog       1  SampLog.wide  SampLog.wide.ave   \nSensor        1        SENSOR            SENSOR   \nEvents        1       EV.wide            EV.ave   \n\n                                          data_folder_path  \\\ndataset                                                      \nUO       C:/Users/Martin/Google Drive/ToOLTuBES/LAB/Dat...   \nNWL      C:/Users/Martin/Google Drive/ToOLTuBES/LAB/Dat...   \nSkid     C:/Users/Martin/Google Drive/BEWISE_shared/Ski...   \nSkid     C:/Users/Martin/Google Drive/BEWISE_shared/Ski...   \nSampLog  C:/Users/Martin/Google Drive/BEWISE_shared/Sam...   \nSensor   C:/Users/Martin/Google Drive/ToOLTuBESv2/LAB/T...   \nEvents   C:/Users/Martin/Google Drive/ToOLTuBESv2/LAB/T...   \n\n                                        supp_data_filepath  \\\ndataset                                                      \nUO       C:/Users/Martin/Google Drive/ToOLTuBES/LAB/Dat...   \nNWL                                                    NaN   \nSkid                                                   NaN   \nSkid                                                   NaN   \nSampLog                                                NaN   \nSensor                                                 NaN   \nEvents   C:/Users/Martin/Google Drive/ToOLTuBESv2/LAB/T...   \n\n                        file_pat  skiprows  Slim  Del_unit_rows  \\\ndataset                                                           \nUO                          .csv         0   1.0            NaN   \nNWL                        .xlsx         2   NaN            1.0   \nSkid                        .CSV         2   NaN            NaN   \nSkid                        .CSV         3   NaN            NaN   \nSampLog                     .csv         0   1.0            NaN   \nSensor   \\d\\d_\\d\\d_\\d\\d\\d\\d\\.csv         0   NaN            NaN   \nEvents                      .csv         0   NaN            NaN   \n\n         Add_blank_rows  \ndataset                  \nUO                  1.0  \nNWL                 NaN  \nSkid                1.0  \nSkid                1.0  \nSampLog             NaN  \nSensor              NaN  \nEvents              NaN  "
     },
     "execution_count": 19,
     "metadata": {},
     "output_type": "execute_result"
    }
   ],
   "source": [
    "info['datasets']"
   ]
  },
  {
   "cell_type": "markdown",
   "execution_count": null,
   "metadata": {},
   "outputs": [],
   "source": [
    "### Parameters:"
   ]
  },
  {
   "cell_type": "code",
   "execution_count": 20,
   "metadata": {},
   "outputs": [
    {
     "data": {
      "text/html": "<div>\n<style scoped>\n    .dataframe tbody tr th:only-of-type {\n        vertical-align: middle;\n    }\n\n    .dataframe tbody tr th {\n        vertical-align: top;\n    }\n\n    .dataframe thead th {\n        text-align: right;\n    }\n</style>\n<table border=\"1\" class=\"dataframe\">\n  <thead>\n    <tr style=\"text-align: right;\">\n      <th></th>\n      <th>code</th>\n      <th>selected</th>\n      <th>parameter</th>\n      <th>parameter_ave</th>\n      <th>parameter_lab</th>\n      <th>chart</th>\n      <th>colours</th>\n      <th>ribbons</th>\n      <th>points</th>\n      <th>fills</th>\n      <th>ltypes</th>\n      <th>binary_bar</th>\n      <th>legend_shows</th>\n    </tr>\n    <tr>\n      <th>dataset</th>\n      <th></th>\n      <th></th>\n      <th></th>\n      <th></th>\n      <th></th>\n      <th></th>\n      <th></th>\n      <th></th>\n      <th></th>\n      <th></th>\n      <th></th>\n      <th></th>\n      <th></th>\n    </tr>\n  </thead>\n  <tbody>\n    <tr>\n      <th>Sensor</th>\n      <td>A1 V</td>\n      <td>1</td>\n      <td>BES_A1__V</td>\n      <td>BES_1__V_ave</td>\n      <td>!!BES 1A!!</td>\n      <td>BES_VA_indiv</td>\n      <td>0.0</td>\n      <td>0.0</td>\n      <td>NaN</td>\n      <td>NaN</td>\n      <td>solid</td>\n      <td>NaN</td>\n      <td>True</td>\n    </tr>\n    <tr>\n      <th>Sensor</th>\n      <td>A2 V</td>\n      <td>1</td>\n      <td>BES_A2__V</td>\n      <td>BES_2__V_ave</td>\n      <td>!!BES 2A!!</td>\n      <td>BES_VA_indiv</td>\n      <td>3.0</td>\n      <td>3.0</td>\n      <td>NaN</td>\n      <td>NaN</td>\n      <td>solid</td>\n      <td>NaN</td>\n      <td>True</td>\n    </tr>\n    <tr>\n      <th>Sensor</th>\n      <td>A3 V</td>\n      <td>1</td>\n      <td>BES_A3__V</td>\n      <td>BES_3__V_ave</td>\n      <td>!!BES 3A!!</td>\n      <td>BES_VA_indiv</td>\n      <td>5.0</td>\n      <td>5.0</td>\n      <td>NaN</td>\n      <td>NaN</td>\n      <td>solid</td>\n      <td>NaN</td>\n      <td>True</td>\n    </tr>\n    <tr>\n      <th>Sensor</th>\n      <td>A4 V</td>\n      <td>1</td>\n      <td>BES_A4__V</td>\n      <td>BES_4__V_ave</td>\n      <td>!!BES 4A!!</td>\n      <td>BES_VA_indiv</td>\n      <td>6.0</td>\n      <td>6.0</td>\n      <td>NaN</td>\n      <td>NaN</td>\n      <td>solid</td>\n      <td>NaN</td>\n      <td>True</td>\n    </tr>\n    <tr>\n      <th>Sensor</th>\n      <td>B1 V</td>\n      <td>1</td>\n      <td>BES_B1__V</td>\n      <td>BES_1__V_ave</td>\n      <td>!!BES 1B!!</td>\n      <td>BES_VB_indiv</td>\n      <td>0.0</td>\n      <td>0.0</td>\n      <td>NaN</td>\n      <td>NaN</td>\n      <td>longdash</td>\n      <td>NaN</td>\n      <td>True</td>\n    </tr>\n    <tr>\n      <th>...</th>\n      <td>...</td>\n      <td>...</td>\n      <td>...</td>\n      <td>...</td>\n      <td>...</td>\n      <td>...</td>\n      <td>...</td>\n      <td>...</td>\n      <td>...</td>\n      <td>...</td>\n      <td>...</td>\n      <td>...</td>\n      <td>...</td>\n    </tr>\n    <tr>\n      <th>Events</th>\n      <td>HOSE_B_STATUS</td>\n      <td>0</td>\n      <td>HOSE_B_STATUS</td>\n      <td>0</td>\n      <td>NaN</td>\n      <td>NaN</td>\n      <td>NaN</td>\n      <td>NaN</td>\n      <td>NaN</td>\n      <td>NaN</td>\n      <td>NaN</td>\n      <td>NaN</td>\n      <td>True</td>\n    </tr>\n    <tr>\n      <th>Events</th>\n      <td>HOSE_C_STATUS</td>\n      <td>0</td>\n      <td>HOSE_C_STATUS</td>\n      <td>0</td>\n      <td>NaN</td>\n      <td>NaN</td>\n      <td>NaN</td>\n      <td>NaN</td>\n      <td>NaN</td>\n      <td>NaN</td>\n      <td>NaN</td>\n      <td>NaN</td>\n      <td>True</td>\n    </tr>\n    <tr>\n      <th>Events</th>\n      <td>TILT_SP</td>\n      <td>0</td>\n      <td>TILT_SP</td>\n      <td>0</td>\n      <td>NaN</td>\n      <td>NaN</td>\n      <td>NaN</td>\n      <td>NaN</td>\n      <td>NaN</td>\n      <td>NaN</td>\n      <td>NaN</td>\n      <td>NaN</td>\n      <td>True</td>\n    </tr>\n    <tr>\n      <th>Events</th>\n      <td>TILT_AUTO</td>\n      <td>0</td>\n      <td>TILT_AUTO</td>\n      <td>0</td>\n      <td>NaN</td>\n      <td>NaN</td>\n      <td>NaN</td>\n      <td>NaN</td>\n      <td>NaN</td>\n      <td>NaN</td>\n      <td>NaN</td>\n      <td>NaN</td>\n      <td>True</td>\n    </tr>\n    <tr>\n      <th>Events</th>\n      <td>WAKEUP</td>\n      <td>0</td>\n      <td>WAKEUP</td>\n      <td>0</td>\n      <td>!!Wakeup from Restart!!</td>\n      <td>STATUS</td>\n      <td>6.0</td>\n      <td>6.0</td>\n      <td>NaN</td>\n      <td>NaN</td>\n      <td>solid</td>\n      <td>3.0</td>\n      <td>True</td>\n    </tr>\n  </tbody>\n</table>\n<p>152 rows × 13 columns</p>\n</div>",
      "text/plain": "                  code  selected      parameter parameter_ave  \\\ndataset                                                         \nSensor            A1 V         1      BES_A1__V  BES_1__V_ave   \nSensor            A2 V         1      BES_A2__V  BES_2__V_ave   \nSensor            A3 V         1      BES_A3__V  BES_3__V_ave   \nSensor            A4 V         1      BES_A4__V  BES_4__V_ave   \nSensor            B1 V         1      BES_B1__V  BES_1__V_ave   \n...                ...       ...            ...           ...   \nEvents   HOSE_B_STATUS         0  HOSE_B_STATUS             0   \nEvents   HOSE_C_STATUS         0  HOSE_C_STATUS             0   \nEvents         TILT_SP         0        TILT_SP             0   \nEvents       TILT_AUTO         0      TILT_AUTO             0   \nEvents          WAKEUP         0         WAKEUP             0   \n\n                   parameter_lab         chart  colours  ribbons  points  \\\ndataset                                                                    \nSensor                !!BES 1A!!  BES_VA_indiv      0.0      0.0     NaN   \nSensor                !!BES 2A!!  BES_VA_indiv      3.0      3.0     NaN   \nSensor                !!BES 3A!!  BES_VA_indiv      5.0      5.0     NaN   \nSensor                !!BES 4A!!  BES_VA_indiv      6.0      6.0     NaN   \nSensor                !!BES 1B!!  BES_VB_indiv      0.0      0.0     NaN   \n...                          ...           ...      ...      ...     ...   \nEvents                       NaN           NaN      NaN      NaN     NaN   \nEvents                       NaN           NaN      NaN      NaN     NaN   \nEvents                       NaN           NaN      NaN      NaN     NaN   \nEvents                       NaN           NaN      NaN      NaN     NaN   \nEvents   !!Wakeup from Restart!!        STATUS      6.0      6.0     NaN   \n\n         fills    ltypes  binary_bar  legend_shows  \ndataset                                             \nSensor     NaN     solid         NaN          True  \nSensor     NaN     solid         NaN          True  \nSensor     NaN     solid         NaN          True  \nSensor     NaN     solid         NaN          True  \nSensor     NaN  longdash         NaN          True  \n...        ...       ...         ...           ...  \nEvents     NaN       NaN         NaN          True  \nEvents     NaN       NaN         NaN          True  \nEvents     NaN       NaN         NaN          True  \nEvents     NaN       NaN         NaN          True  \nEvents     NaN     solid         3.0          True  \n\n[152 rows x 13 columns]"
     },
     "execution_count": 20,
     "metadata": {},
     "output_type": "execute_result"
    }
   ],
   "source": [
    "info['parameters']"
   ]
  },
  {
   "cell_type": "code",
   "execution_count": 21,
   "metadata": {},
   "outputs": [
    {
     "data": {
      "text/html": "<div>\n<style scoped>\n    .dataframe tbody tr th:only-of-type {\n        vertical-align: middle;\n    }\n\n    .dataframe tbody tr th {\n        vertical-align: top;\n    }\n\n    .dataframe thead th {\n        text-align: right;\n    }\n</style>\n<table border=\"1\" class=\"dataframe\">\n  <thead>\n    <tr style=\"text-align: right;\">\n      <th></th>\n      <th>selected</th>\n      <th>parameter_ave</th>\n      <th>parameter_lab</th>\n      <th>chart</th>\n      <th>colours</th>\n      <th>ribbons</th>\n      <th>fills</th>\n      <th>points</th>\n      <th>ltypes</th>\n      <th>binary_bar</th>\n      <th>legend_shows</th>\n    </tr>\n    <tr>\n      <th>dataset</th>\n      <th></th>\n      <th></th>\n      <th></th>\n      <th></th>\n      <th></th>\n      <th></th>\n      <th></th>\n      <th></th>\n      <th></th>\n      <th></th>\n      <th></th>\n    </tr>\n  </thead>\n  <tbody>\n    <tr>\n      <th>Sensor_ave</th>\n      <td>1</td>\n      <td>BES_1__V_ave</td>\n      <td>!!BES 1!!</td>\n      <td>BES_V_ave</td>\n      <td>1.0</td>\n      <td>1.0</td>\n      <td>NaN</td>\n      <td>NaN</td>\n      <td>solid</td>\n      <td>NaN</td>\n      <td>True</td>\n    </tr>\n    <tr>\n      <th>Sensor_ave</th>\n      <td>1</td>\n      <td>BES_2__V_ave</td>\n      <td>!!BES 2!!</td>\n      <td>BES_V_ave</td>\n      <td>4.0</td>\n      <td>4.0</td>\n      <td>NaN</td>\n      <td>NaN</td>\n      <td>solid</td>\n      <td>NaN</td>\n      <td>True</td>\n    </tr>\n    <tr>\n      <th>Sensor_ave</th>\n      <td>1</td>\n      <td>BES_3__V_ave</td>\n      <td>!!BES 3!!</td>\n      <td>BES_V_ave</td>\n      <td>7.0</td>\n      <td>7.0</td>\n      <td>NaN</td>\n      <td>NaN</td>\n      <td>solid</td>\n      <td>NaN</td>\n      <td>True</td>\n    </tr>\n    <tr>\n      <th>Sensor_ave</th>\n      <td>1</td>\n      <td>BES_4__V_ave</td>\n      <td>!!BES 4!!</td>\n      <td>BES_V_ave</td>\n      <td>10.0</td>\n      <td>10.0</td>\n      <td>NaN</td>\n      <td>NaN</td>\n      <td>solid</td>\n      <td>NaN</td>\n      <td>True</td>\n    </tr>\n    <tr>\n      <th>Sensor_ave</th>\n      <td>1</td>\n      <td>BES_1__C_ave</td>\n      <td>!!BES 1!!</td>\n      <td>BES_C_ave</td>\n      <td>1.0</td>\n      <td>1.0</td>\n      <td>NaN</td>\n      <td>NaN</td>\n      <td>solid</td>\n      <td>NaN</td>\n      <td>True</td>\n    </tr>\n    <tr>\n      <th>Sensor_ave</th>\n      <td>1</td>\n      <td>BES_2__C_ave</td>\n      <td>!!BES 2!!</td>\n      <td>BES_C_ave</td>\n      <td>4.0</td>\n      <td>4.0</td>\n      <td>NaN</td>\n      <td>NaN</td>\n      <td>solid</td>\n      <td>NaN</td>\n      <td>True</td>\n    </tr>\n    <tr>\n      <th>Sensor_ave</th>\n      <td>1</td>\n      <td>BES_3__C_ave</td>\n      <td>!!BES 3!!</td>\n      <td>BES_C_ave</td>\n      <td>7.0</td>\n      <td>7.0</td>\n      <td>NaN</td>\n      <td>NaN</td>\n      <td>solid</td>\n      <td>NaN</td>\n      <td>True</td>\n    </tr>\n    <tr>\n      <th>Sensor_ave</th>\n      <td>1</td>\n      <td>BES_4__C_ave</td>\n      <td>!!BES 4!!</td>\n      <td>BES_C_ave</td>\n      <td>10.0</td>\n      <td>10.0</td>\n      <td>NaN</td>\n      <td>NaN</td>\n      <td>solid</td>\n      <td>NaN</td>\n      <td>True</td>\n    </tr>\n    <tr>\n      <th>Sensor_ave</th>\n      <td>1</td>\n      <td>BES_SUM__V_ave</td>\n      <td>∑[BESs]₅</td>\n      <td>BES_V_ave</td>\n      <td>14.0</td>\n      <td>14.0</td>\n      <td>NaN</td>\n      <td>NaN</td>\n      <td>solid</td>\n      <td>NaN</td>\n      <td>True</td>\n    </tr>\n    <tr>\n      <th>Sensor_ave</th>\n      <td>1</td>\n      <td>BES_SUM__C_ave</td>\n      <td>!!  !!*Sigma*!![BESs]!!</td>\n      <td>BES_C_ave</td>\n      <td>14.0</td>\n      <td>14.0</td>\n      <td>NaN</td>\n      <td>NaN</td>\n      <td>solid</td>\n      <td>NaN</td>\n      <td>True</td>\n    </tr>\n    <tr>\n      <th>Sensor_ave</th>\n      <td>1</td>\n      <td>REXT_1_ave</td>\n      <td>!!BES 1 R!![Ext]</td>\n      <td>REXT_ave</td>\n      <td>1.0</td>\n      <td>1.0</td>\n      <td>NaN</td>\n      <td>NaN</td>\n      <td>solid</td>\n      <td>NaN</td>\n      <td>True</td>\n    </tr>\n    <tr>\n      <th>Sensor_ave</th>\n      <td>1</td>\n      <td>REXT_2_ave</td>\n      <td>!!BES 2 R!![Ext]</td>\n      <td>REXT_ave</td>\n      <td>4.0</td>\n      <td>4.0</td>\n      <td>NaN</td>\n      <td>NaN</td>\n      <td>solid</td>\n      <td>NaN</td>\n      <td>True</td>\n    </tr>\n    <tr>\n      <th>Sensor_ave</th>\n      <td>1</td>\n      <td>REXT_3_ave</td>\n      <td>!!BES 3 R!![Ext]</td>\n      <td>REXT_ave</td>\n      <td>7.0</td>\n      <td>7.0</td>\n      <td>NaN</td>\n      <td>NaN</td>\n      <td>solid</td>\n      <td>NaN</td>\n      <td>True</td>\n    </tr>\n    <tr>\n      <th>Sensor_ave</th>\n      <td>1</td>\n      <td>REXT_4_ave</td>\n      <td>!!BES 4 R!![Ext]</td>\n      <td>REXT_ave</td>\n      <td>10.0</td>\n      <td>10.0</td>\n      <td>NaN</td>\n      <td>NaN</td>\n      <td>solid</td>\n      <td>NaN</td>\n      <td>True</td>\n    </tr>\n    <tr>\n      <th>Sensor_ave</th>\n      <td>1</td>\n      <td>OCP_1_ave</td>\n      <td>!!BES 1!!</td>\n      <td>OCP_ave</td>\n      <td>1.0</td>\n      <td>1.0</td>\n      <td>NaN</td>\n      <td>NaN</td>\n      <td>solid</td>\n      <td>4.0</td>\n      <td>True</td>\n    </tr>\n    <tr>\n      <th>Sensor_ave</th>\n      <td>1</td>\n      <td>OCP_2_ave</td>\n      <td>!!BES 2!!</td>\n      <td>OCP_ave</td>\n      <td>4.0</td>\n      <td>4.0</td>\n      <td>NaN</td>\n      <td>NaN</td>\n      <td>solid</td>\n      <td>3.0</td>\n      <td>True</td>\n    </tr>\n    <tr>\n      <th>Sensor_ave</th>\n      <td>1</td>\n      <td>OCP_3_ave</td>\n      <td>!!BES 3!!</td>\n      <td>OCP_ave</td>\n      <td>7.0</td>\n      <td>7.0</td>\n      <td>NaN</td>\n      <td>NaN</td>\n      <td>solid</td>\n      <td>2.0</td>\n      <td>True</td>\n    </tr>\n    <tr>\n      <th>Sensor_ave</th>\n      <td>1</td>\n      <td>OCP_4_ave</td>\n      <td>!!BES 4!!</td>\n      <td>OCP_ave</td>\n      <td>10.0</td>\n      <td>10.0</td>\n      <td>NaN</td>\n      <td>NaN</td>\n      <td>solid</td>\n      <td>1.0</td>\n      <td>True</td>\n    </tr>\n    <tr>\n      <th>Sensor_ave</th>\n      <td>1</td>\n      <td>PUMP_SP</td>\n      <td>!!Set Point!!</td>\n      <td>PUMP</td>\n      <td>2.0</td>\n      <td>2.0</td>\n      <td>NaN</td>\n      <td>NaN</td>\n      <td>solid</td>\n      <td>NaN</td>\n      <td>True</td>\n    </tr>\n    <tr>\n      <th>Sensor_ave</th>\n      <td>1</td>\n      <td>PUMP_FR</td>\n      <td>!!Flow Rate!!</td>\n      <td>PUMP</td>\n      <td>14.0</td>\n      <td>14.0</td>\n      <td>NaN</td>\n      <td>NaN</td>\n      <td>solid</td>\n      <td>NaN</td>\n      <td>True</td>\n    </tr>\n    <tr>\n      <th>Sensor_ave</th>\n      <td>1</td>\n      <td>PUMP_STATUS</td>\n      <td>!!Running!!</td>\n      <td>PUMP_EVENT</td>\n      <td>14.0</td>\n      <td>14.0</td>\n      <td>NaN</td>\n      <td>NaN</td>\n      <td>solid</td>\n      <td>6.0</td>\n      <td>True</td>\n    </tr>\n    <tr>\n      <th>Sensor_ave</th>\n      <td>1</td>\n      <td>PUMP_REV</td>\n      <td>!!Reversed!!</td>\n      <td>PUMP_EVENT</td>\n      <td>12.0</td>\n      <td>12.0</td>\n      <td>NaN</td>\n      <td>NaN</td>\n      <td>solid</td>\n      <td>5.0</td>\n      <td>True</td>\n    </tr>\n    <tr>\n      <th>Sensor_ave</th>\n      <td>0</td>\n      <td>PUMP_ANALOG</td>\n      <td>!!Pump Analog!!</td>\n      <td>PUMP_EVENT</td>\n      <td>NaN</td>\n      <td>NaN</td>\n      <td>NaN</td>\n      <td>NaN</td>\n      <td>NaN</td>\n      <td>NaN</td>\n      <td>True</td>\n    </tr>\n    <tr>\n      <th>Sensor_ave</th>\n      <td>1</td>\n      <td>TEMP_SP</td>\n      <td>!!Set Point Temp!!</td>\n      <td>TEMP_ave</td>\n      <td>2.0</td>\n      <td>2.0</td>\n      <td>NaN</td>\n      <td>NaN</td>\n      <td>solid</td>\n      <td>NaN</td>\n      <td>True</td>\n    </tr>\n    <tr>\n      <th>Sensor_ave</th>\n      <td>1</td>\n      <td>TEMP_OS</td>\n      <td>!!Feed Water Temp!!</td>\n      <td>TEMP_ave</td>\n      <td>8.0</td>\n      <td>8.0</td>\n      <td>NaN</td>\n      <td>NaN</td>\n      <td>solid</td>\n      <td>NaN</td>\n      <td>True</td>\n    </tr>\n    <tr>\n      <th>Sensor_ave</th>\n      <td>1</td>\n      <td>TEMP_BES_ave</td>\n      <td>!!Heated Water!!</td>\n      <td>TEMP_ave</td>\n      <td>14.0</td>\n      <td>14.0</td>\n      <td>NaN</td>\n      <td>NaN</td>\n      <td>solid</td>\n      <td>NaN</td>\n      <td>True</td>\n    </tr>\n    <tr>\n      <th>Sensor_ave</th>\n      <td>1</td>\n      <td>TEMP_BOX</td>\n      <td>!!Enclosure Temp!!</td>\n      <td>TEMP_ave</td>\n      <td>12.0</td>\n      <td>12.0</td>\n      <td>NaN</td>\n      <td>NaN</td>\n      <td>solid</td>\n      <td>NaN</td>\n      <td>True</td>\n    </tr>\n    <tr>\n      <th>Sensor_ave</th>\n      <td>1</td>\n      <td>TEMP_AMB</td>\n      <td>!!Ambient Air Temp!!</td>\n      <td>TEMP_ave</td>\n      <td>9.0</td>\n      <td>9.0</td>\n      <td>NaN</td>\n      <td>NaN</td>\n      <td>solid</td>\n      <td>NaN</td>\n      <td>True</td>\n    </tr>\n    <tr>\n      <th>Sensor_ave</th>\n      <td>1</td>\n      <td>TEMP_MAT_ave</td>\n      <td>!!Heated Mats Temp!!</td>\n      <td>TEMP_PROCESS_ave</td>\n      <td>12.0</td>\n      <td>12.0</td>\n      <td>NaN</td>\n      <td>NaN</td>\n      <td>solid</td>\n      <td>NaN</td>\n      <td>True</td>\n    </tr>\n    <tr>\n      <th>Sensor_ave</th>\n      <td>1</td>\n      <td>TEMP_HOSE_ave</td>\n      <td>!!Heated Hoses Temp!!</td>\n      <td>TEMP_PROCESS_ave</td>\n      <td>14.0</td>\n      <td>14.0</td>\n      <td>NaN</td>\n      <td>NaN</td>\n      <td>solid</td>\n      <td>NaN</td>\n      <td>True</td>\n    </tr>\n    <tr>\n      <th>Sensor_ave</th>\n      <td>1</td>\n      <td>PRESSURE_OS</td>\n      <td>!!OS Pressure!!</td>\n      <td>PRESSURE_ave</td>\n      <td>8.0</td>\n      <td>8.0</td>\n      <td>NaN</td>\n      <td>NaN</td>\n      <td>solid</td>\n      <td>NaN</td>\n      <td>True</td>\n    </tr>\n    <tr>\n      <th>Sensor_ave</th>\n      <td>1</td>\n      <td>PRESSURE_BES_ave</td>\n      <td>!!BES Pressure!!</td>\n      <td>PRESSURE_ave</td>\n      <td>14.0</td>\n      <td>14.0</td>\n      <td>NaN</td>\n      <td>NaN</td>\n      <td>solid</td>\n      <td>NaN</td>\n      <td>True</td>\n    </tr>\n    <tr>\n      <th>Sensor_ave</th>\n      <td>1</td>\n      <td>SENSOR_pH</td>\n      <td>!!Feed pH!!</td>\n      <td>pH</td>\n      <td>8.0</td>\n      <td>8.0</td>\n      <td>NaN</td>\n      <td>NaN</td>\n      <td>solid</td>\n      <td>NaN</td>\n      <td>True</td>\n    </tr>\n    <tr>\n      <th>Sensor_ave</th>\n      <td>1</td>\n      <td>SENSOR_CONDUCTIVITY</td>\n      <td>!!Feed Conductivity!!</td>\n      <td>CONDUCTIVITY</td>\n      <td>8.0</td>\n      <td>8.0</td>\n      <td>NaN</td>\n      <td>NaN</td>\n      <td>solid</td>\n      <td>NaN</td>\n      <td>True</td>\n    </tr>\n    <tr>\n      <th>Sensor_ave</th>\n      <td>1</td>\n      <td>SENSOR_TILT</td>\n      <td>!!Enclosure Tilt!!</td>\n      <td>PRESSURE_ave</td>\n      <td>1.0</td>\n      <td>1.0</td>\n      <td>NaN</td>\n      <td>NaN</td>\n      <td>solid</td>\n      <td>NaN</td>\n      <td>True</td>\n    </tr>\n    <tr>\n      <th>Sensor_ave</th>\n      <td>1</td>\n      <td>SENSOR_HOSE_STATUS_ave</td>\n      <td>!!Water!!</td>\n      <td>TEMP_EVENT_ave</td>\n      <td>14.0</td>\n      <td>14.0</td>\n      <td>NaN</td>\n      <td>NaN</td>\n      <td>solid</td>\n      <td>1.0</td>\n      <td>True</td>\n    </tr>\n    <tr>\n      <th>Sensor_ave</th>\n      <td>0</td>\n      <td>SENSOR_MATS_STATUS</td>\n      <td>!!Heated Mats!!</td>\n      <td>TEMP_EVENT_ave</td>\n      <td>12.0</td>\n      <td>12.0</td>\n      <td>NaN</td>\n      <td>NaN</td>\n      <td>solid</td>\n      <td>2.0</td>\n      <td>True</td>\n    </tr>\n    <tr>\n      <th>Skid_ave</th>\n      <td>1</td>\n      <td>Inlet_pH</td>\n      <td>!!Pipe pH (BE:WISE)!!</td>\n      <td>pH</td>\n      <td>2.0</td>\n      <td>NaN</td>\n      <td>NaN</td>\n      <td>NaN</td>\n      <td>longdash</td>\n      <td>NaN</td>\n      <td>True</td>\n    </tr>\n    <tr>\n      <th>Skid_ave</th>\n      <td>1</td>\n      <td>Inlet_DO</td>\n      <td>!!Pipe DO (BE:WISE)!!</td>\n      <td>DO</td>\n      <td>2.0</td>\n      <td>NaN</td>\n      <td>NaN</td>\n      <td>NaN</td>\n      <td>longdash</td>\n      <td>NaN</td>\n      <td>True</td>\n    </tr>\n    <tr>\n      <th>Skid_ave</th>\n      <td>1</td>\n      <td>Inlet_Temp_ave</td>\n      <td>!!Pipe Temp (BE:WISE)!!</td>\n      <td>TEMP_ave</td>\n      <td>2.0</td>\n      <td>2.0</td>\n      <td>NaN</td>\n      <td>NaN</td>\n      <td>longdash</td>\n      <td>NaN</td>\n      <td>True</td>\n    </tr>\n    <tr>\n      <th>SampLog_ave</th>\n      <td>1</td>\n      <td>BOD5_ave</td>\n      <td>!!Feed BOD!![5]</td>\n      <td>BOD</td>\n      <td>1.0</td>\n      <td>NaN</td>\n      <td>NaN</td>\n      <td>21.0</td>\n      <td>solid</td>\n      <td>NaN</td>\n      <td>True</td>\n    </tr>\n    <tr>\n      <th>SampLog_ave</th>\n      <td>1</td>\n      <td>tCOD_ave</td>\n      <td>!!Feed tCOD!!</td>\n      <td>COD</td>\n      <td>1.0</td>\n      <td>NaN</td>\n      <td>NaN</td>\n      <td>21.0</td>\n      <td>solid</td>\n      <td>NaN</td>\n      <td>True</td>\n    </tr>\n    <tr>\n      <th>SampLog_ave</th>\n      <td>1</td>\n      <td>sCOD_ave</td>\n      <td>!!Feed sCOD!!</td>\n      <td>COD</td>\n      <td>2.0</td>\n      <td>NaN</td>\n      <td>NaN</td>\n      <td>21.0</td>\n      <td>solid</td>\n      <td>NaN</td>\n      <td>True</td>\n    </tr>\n  </tbody>\n</table>\n</div>",
      "text/plain": "             selected           parameter_ave            parameter_lab  \\\ndataset                                                                  \nSensor_ave          1            BES_1__V_ave                !!BES 1!!   \nSensor_ave          1            BES_2__V_ave                !!BES 2!!   \nSensor_ave          1            BES_3__V_ave                !!BES 3!!   \nSensor_ave          1            BES_4__V_ave                !!BES 4!!   \nSensor_ave          1            BES_1__C_ave                !!BES 1!!   \nSensor_ave          1            BES_2__C_ave                !!BES 2!!   \nSensor_ave          1            BES_3__C_ave                !!BES 3!!   \nSensor_ave          1            BES_4__C_ave                !!BES 4!!   \nSensor_ave          1          BES_SUM__V_ave                 ∑[BESs]₅   \nSensor_ave          1          BES_SUM__C_ave  !!  !!*Sigma*!![BESs]!!   \nSensor_ave          1              REXT_1_ave         !!BES 1 R!![Ext]   \nSensor_ave          1              REXT_2_ave         !!BES 2 R!![Ext]   \nSensor_ave          1              REXT_3_ave         !!BES 3 R!![Ext]   \nSensor_ave          1              REXT_4_ave         !!BES 4 R!![Ext]   \nSensor_ave          1               OCP_1_ave                !!BES 1!!   \nSensor_ave          1               OCP_2_ave                !!BES 2!!   \nSensor_ave          1               OCP_3_ave                !!BES 3!!   \nSensor_ave          1               OCP_4_ave                !!BES 4!!   \nSensor_ave          1                 PUMP_SP            !!Set Point!!   \nSensor_ave          1                 PUMP_FR            !!Flow Rate!!   \nSensor_ave          1             PUMP_STATUS              !!Running!!   \nSensor_ave          1                PUMP_REV             !!Reversed!!   \nSensor_ave          0             PUMP_ANALOG          !!Pump Analog!!   \nSensor_ave          1                 TEMP_SP       !!Set Point Temp!!   \nSensor_ave          1                 TEMP_OS      !!Feed Water Temp!!   \nSensor_ave          1            TEMP_BES_ave         !!Heated Water!!   \nSensor_ave          1                TEMP_BOX       !!Enclosure Temp!!   \nSensor_ave          1                TEMP_AMB     !!Ambient Air Temp!!   \nSensor_ave          1            TEMP_MAT_ave     !!Heated Mats Temp!!   \nSensor_ave          1           TEMP_HOSE_ave    !!Heated Hoses Temp!!   \nSensor_ave          1             PRESSURE_OS          !!OS Pressure!!   \nSensor_ave          1        PRESSURE_BES_ave         !!BES Pressure!!   \nSensor_ave          1               SENSOR_pH              !!Feed pH!!   \nSensor_ave          1     SENSOR_CONDUCTIVITY    !!Feed Conductivity!!   \nSensor_ave          1             SENSOR_TILT       !!Enclosure Tilt!!   \nSensor_ave          1  SENSOR_HOSE_STATUS_ave                !!Water!!   \nSensor_ave          0      SENSOR_MATS_STATUS          !!Heated Mats!!   \nSkid_ave            1                Inlet_pH    !!Pipe pH (BE:WISE)!!   \nSkid_ave            1                Inlet_DO    !!Pipe DO (BE:WISE)!!   \nSkid_ave            1          Inlet_Temp_ave  !!Pipe Temp (BE:WISE)!!   \nSampLog_ave         1                BOD5_ave          !!Feed BOD!![5]   \nSampLog_ave         1                tCOD_ave            !!Feed tCOD!!   \nSampLog_ave         1                sCOD_ave            !!Feed sCOD!!   \n\n                        chart  colours  ribbons  fills  points    ltypes  \\\ndataset                                                                    \nSensor_ave          BES_V_ave      1.0      1.0    NaN     NaN     solid   \nSensor_ave          BES_V_ave      4.0      4.0    NaN     NaN     solid   \nSensor_ave          BES_V_ave      7.0      7.0    NaN     NaN     solid   \nSensor_ave          BES_V_ave     10.0     10.0    NaN     NaN     solid   \nSensor_ave          BES_C_ave      1.0      1.0    NaN     NaN     solid   \nSensor_ave          BES_C_ave      4.0      4.0    NaN     NaN     solid   \nSensor_ave          BES_C_ave      7.0      7.0    NaN     NaN     solid   \nSensor_ave          BES_C_ave     10.0     10.0    NaN     NaN     solid   \nSensor_ave          BES_V_ave     14.0     14.0    NaN     NaN     solid   \nSensor_ave          BES_C_ave     14.0     14.0    NaN     NaN     solid   \nSensor_ave           REXT_ave      1.0      1.0    NaN     NaN     solid   \nSensor_ave           REXT_ave      4.0      4.0    NaN     NaN     solid   \nSensor_ave           REXT_ave      7.0      7.0    NaN     NaN     solid   \nSensor_ave           REXT_ave     10.0     10.0    NaN     NaN     solid   \nSensor_ave            OCP_ave      1.0      1.0    NaN     NaN     solid   \nSensor_ave            OCP_ave      4.0      4.0    NaN     NaN     solid   \nSensor_ave            OCP_ave      7.0      7.0    NaN     NaN     solid   \nSensor_ave            OCP_ave     10.0     10.0    NaN     NaN     solid   \nSensor_ave               PUMP      2.0      2.0    NaN     NaN     solid   \nSensor_ave               PUMP     14.0     14.0    NaN     NaN     solid   \nSensor_ave         PUMP_EVENT     14.0     14.0    NaN     NaN     solid   \nSensor_ave         PUMP_EVENT     12.0     12.0    NaN     NaN     solid   \nSensor_ave         PUMP_EVENT      NaN      NaN    NaN     NaN       NaN   \nSensor_ave           TEMP_ave      2.0      2.0    NaN     NaN     solid   \nSensor_ave           TEMP_ave      8.0      8.0    NaN     NaN     solid   \nSensor_ave           TEMP_ave     14.0     14.0    NaN     NaN     solid   \nSensor_ave           TEMP_ave     12.0     12.0    NaN     NaN     solid   \nSensor_ave           TEMP_ave      9.0      9.0    NaN     NaN     solid   \nSensor_ave   TEMP_PROCESS_ave     12.0     12.0    NaN     NaN     solid   \nSensor_ave   TEMP_PROCESS_ave     14.0     14.0    NaN     NaN     solid   \nSensor_ave       PRESSURE_ave      8.0      8.0    NaN     NaN     solid   \nSensor_ave       PRESSURE_ave     14.0     14.0    NaN     NaN     solid   \nSensor_ave                 pH      8.0      8.0    NaN     NaN     solid   \nSensor_ave       CONDUCTIVITY      8.0      8.0    NaN     NaN     solid   \nSensor_ave       PRESSURE_ave      1.0      1.0    NaN     NaN     solid   \nSensor_ave     TEMP_EVENT_ave     14.0     14.0    NaN     NaN     solid   \nSensor_ave     TEMP_EVENT_ave     12.0     12.0    NaN     NaN     solid   \nSkid_ave                   pH      2.0      NaN    NaN     NaN  longdash   \nSkid_ave                   DO      2.0      NaN    NaN     NaN  longdash   \nSkid_ave             TEMP_ave      2.0      2.0    NaN     NaN  longdash   \nSampLog_ave               BOD      1.0      NaN    NaN    21.0     solid   \nSampLog_ave               COD      1.0      NaN    NaN    21.0     solid   \nSampLog_ave               COD      2.0      NaN    NaN    21.0     solid   \n\n             binary_bar  legend_shows  \ndataset                                \nSensor_ave          NaN          True  \nSensor_ave          NaN          True  \nSensor_ave          NaN          True  \nSensor_ave          NaN          True  \nSensor_ave          NaN          True  \nSensor_ave          NaN          True  \nSensor_ave          NaN          True  \nSensor_ave          NaN          True  \nSensor_ave          NaN          True  \nSensor_ave          NaN          True  \nSensor_ave          NaN          True  \nSensor_ave          NaN          True  \nSensor_ave          NaN          True  \nSensor_ave          NaN          True  \nSensor_ave          4.0          True  \nSensor_ave          3.0          True  \nSensor_ave          2.0          True  \nSensor_ave          1.0          True  \nSensor_ave          NaN          True  \nSensor_ave          NaN          True  \nSensor_ave          6.0          True  \nSensor_ave          5.0          True  \nSensor_ave          NaN          True  \nSensor_ave          NaN          True  \nSensor_ave          NaN          True  \nSensor_ave          NaN          True  \nSensor_ave          NaN          True  \nSensor_ave          NaN          True  \nSensor_ave          NaN          True  \nSensor_ave          NaN          True  \nSensor_ave          NaN          True  \nSensor_ave          NaN          True  \nSensor_ave          NaN          True  \nSensor_ave          NaN          True  \nSensor_ave          NaN          True  \nSensor_ave          1.0          True  \nSensor_ave          2.0          True  \nSkid_ave            NaN          True  \nSkid_ave            NaN          True  \nSkid_ave            NaN          True  \nSampLog_ave         NaN          True  \nSampLog_ave         NaN          True  \nSampLog_ave         NaN          True  "
     },
     "execution_count": 21,
     "metadata": {},
     "output_type": "execute_result"
    }
   ],
   "source": [
    "info['parameters_ave']"
   ]
  },
  {
   "cell_type": "markdown",
   "execution_count": null,
   "metadata": {},
   "outputs": [],
   "source": [
    "### Charts:"
   ]
  },
  {
   "cell_type": "code",
   "execution_count": 22,
   "metadata": {},
   "outputs": [
    {
     "data": {
      "text/html": "<div>\n<style scoped>\n    .dataframe tbody tr th:only-of-type {\n        vertical-align: middle;\n    }\n\n    .dataframe tbody tr th {\n        vertical-align: top;\n    }\n\n    .dataframe thead th {\n        text-align: right;\n    }\n</style>\n<table border=\"1\" class=\"dataframe\">\n  <thead>\n    <tr style=\"text-align: right;\">\n      <th></th>\n      <th>chart</th>\n      <th>selected</th>\n      <th>chart_lab</th>\n      <th>ylab</th>\n      <th>ymin</th>\n      <th>ymax</th>\n      <th>height</th>\n    </tr>\n    <tr>\n      <th>row_order</th>\n      <th></th>\n      <th></th>\n      <th></th>\n      <th></th>\n      <th></th>\n      <th></th>\n      <th></th>\n    </tr>\n  </thead>\n  <tbody>\n    <tr>\n      <th>1</th>\n      <td>BES.INDIV_CA</td>\n      <td>1</td>\n      <td>BES</td>\n      <td>atop(textstyle(!!Current Density!!),textstyle(...</td>\n      <td>0</td>\n      <td>40</td>\n      <td>10</td>\n    </tr>\n    <tr>\n      <th>2</th>\n      <td>BES.INDIV_CB</td>\n      <td>1</td>\n      <td>BES</td>\n      <td>atop(textstyle(!!Current Density!!),textstyle(...</td>\n      <td>0</td>\n      <td>40</td>\n      <td>10</td>\n    </tr>\n    <tr>\n      <th>3</th>\n      <td>BES.INDIV_CC</td>\n      <td>1</td>\n      <td>BES</td>\n      <td>atop(textstyle(!!Current Density!!),textstyle(...</td>\n      <td>0</td>\n      <td>40</td>\n      <td>10</td>\n    </tr>\n    <tr>\n      <th>4</th>\n      <td>REXT.INDIV</td>\n      <td>1</td>\n      <td>REXT</td>\n      <td>atop(R[textstyle(!!Ext!!)],textstyle(!!(!!*Ome...</td>\n      <td>0</td>\n      <td>400</td>\n      <td>8</td>\n    </tr>\n    <tr>\n      <th>5</th>\n      <td>OCP.INDIV</td>\n      <td>1</td>\n      <td>OCP</td>\n      <td>textstyle(!!OCP!!)</td>\n      <td>0</td>\n      <td>1</td>\n      <td>6</td>\n    </tr>\n    <tr>\n      <th>6</th>\n      <td>BOD</td>\n      <td>1</td>\n      <td>BOD</td>\n      <td>atop(textstyle(!!BOD!![5]),textstyle(!!(mg/l O...</td>\n      <td>0</td>\n      <td>300</td>\n      <td>10</td>\n    </tr>\n    <tr>\n      <th>7</th>\n      <td>COD</td>\n      <td>1</td>\n      <td>COD</td>\n      <td>atop(textstyle(!!COD!!),textstyle(!!(mg/l O!![...</td>\n      <td>0</td>\n      <td>600</td>\n      <td>10</td>\n    </tr>\n    <tr>\n      <th>8</th>\n      <td>TEMP.INDIV</td>\n      <td>1</td>\n      <td>Temperature</td>\n      <td>atop(textstyle(!!Temperature!!),textstyle(!!(°...</td>\n      <td>0</td>\n      <td>60</td>\n      <td>10</td>\n    </tr>\n    <tr>\n      <th>9</th>\n      <td>TEMP_PROCESS.INDIV</td>\n      <td>1</td>\n      <td>TEMP_PROCESS</td>\n      <td>atop(textstyle(!!Control!!),textstyle(!!Temp (...</td>\n      <td>0</td>\n      <td>150</td>\n      <td>8</td>\n    </tr>\n    <tr>\n      <th>10</th>\n      <td>EVENT.INDIV</td>\n      <td>1</td>\n      <td>TEMP_EVENT</td>\n      <td>atop(textstyle(!!Heating!!),textstyle(!!Contro...</td>\n      <td>0</td>\n      <td>1</td>\n      <td>3</td>\n    </tr>\n    <tr>\n      <th>11</th>\n      <td>pH</td>\n      <td>1</td>\n      <td>pH</td>\n      <td>textstyle(!!pH!!)</td>\n      <td>4</td>\n      <td>10</td>\n      <td>10</td>\n    </tr>\n    <tr>\n      <th>12</th>\n      <td>Conductivity</td>\n      <td>1</td>\n      <td>Conductivity</td>\n      <td>atop(textstyle(!!Conductance!!),textstyle(!!(μ...</td>\n      <td>0</td>\n      <td>2500</td>\n      <td>10</td>\n    </tr>\n    <tr>\n      <th>13</th>\n      <td>PRESSURE.INDIV</td>\n      <td>1</td>\n      <td>Pressure</td>\n      <td>atop(textstyle(!!Pressure (mbar)!!),textstyle(...</td>\n      <td>-50</td>\n      <td>50</td>\n      <td>10</td>\n    </tr>\n    <tr>\n      <th>14</th>\n      <td>DO</td>\n      <td>1</td>\n      <td>Dissolved Oxygen</td>\n      <td>atop(textstyle(!!Dissolved!!),textstyle(!!Oxyg...</td>\n      <td>0</td>\n      <td>8</td>\n      <td>10</td>\n    </tr>\n    <tr>\n      <th>15</th>\n      <td>Level</td>\n      <td>1</td>\n      <td>Levels</td>\n      <td>atop(textstyle(!!River Level (m)!!),textstyle(...</td>\n      <td>0</td>\n      <td>3</td>\n      <td>10</td>\n    </tr>\n    <tr>\n      <th>16</th>\n      <td>Pump</td>\n      <td>1</td>\n      <td>Pump</td>\n      <td>atop(textstyle(!!Flow rate!!),textstyle(!!(ml/...</td>\n      <td>0</td>\n      <td>30</td>\n      <td>8</td>\n    </tr>\n    <tr>\n      <th>17</th>\n      <td>PUMP_EVENT</td>\n      <td>1</td>\n      <td>PUMP_EVENT</td>\n      <td>textstyle(!!Pump!!)</td>\n      <td>0</td>\n      <td>1</td>\n      <td>3</td>\n    </tr>\n  </tbody>\n</table>\n</div>",
      "text/plain": "                        chart  selected         chart_lab  \\\nrow_order                                                   \n1                BES.INDIV_CA         1               BES   \n2                BES.INDIV_CB         1               BES   \n3                BES.INDIV_CC         1               BES   \n4                  REXT.INDIV         1              REXT   \n5                   OCP.INDIV         1               OCP   \n6                         BOD         1               BOD   \n7                         COD         1               COD   \n8                  TEMP.INDIV         1       Temperature   \n9          TEMP_PROCESS.INDIV         1      TEMP_PROCESS   \n10                EVENT.INDIV         1        TEMP_EVENT   \n11                         pH         1                pH   \n12               Conductivity         1      Conductivity   \n13             PRESSURE.INDIV         1          Pressure   \n14                         DO         1  Dissolved Oxygen   \n15                      Level         1            Levels   \n16                       Pump         1              Pump   \n17                 PUMP_EVENT         1        PUMP_EVENT   \n\n                                                        ylab  ymin  ymax  \\\nrow_order                                                                  \n1          atop(textstyle(!!Current Density!!),textstyle(...     0    40   \n2          atop(textstyle(!!Current Density!!),textstyle(...     0    40   \n3          atop(textstyle(!!Current Density!!),textstyle(...     0    40   \n4          atop(R[textstyle(!!Ext!!)],textstyle(!!(!!*Ome...     0   400   \n5                                         textstyle(!!OCP!!)     0     1   \n6          atop(textstyle(!!BOD!![5]),textstyle(!!(mg/l O...     0   300   \n7          atop(textstyle(!!COD!!),textstyle(!!(mg/l O!![...     0   600   \n8          atop(textstyle(!!Temperature!!),textstyle(!!(°...     0    60   \n9          atop(textstyle(!!Control!!),textstyle(!!Temp (...     0   150   \n10         atop(textstyle(!!Heating!!),textstyle(!!Contro...     0     1   \n11                                         textstyle(!!pH!!)     4    10   \n12         atop(textstyle(!!Conductance!!),textstyle(!!(μ...     0  2500   \n13         atop(textstyle(!!Pressure (mbar)!!),textstyle(...   -50    50   \n14         atop(textstyle(!!Dissolved!!),textstyle(!!Oxyg...     0     8   \n15         atop(textstyle(!!River Level (m)!!),textstyle(...     0     3   \n16         atop(textstyle(!!Flow rate!!),textstyle(!!(ml/...     0    30   \n17                                       textstyle(!!Pump!!)     0     1   \n\n            height  \nrow_order           \n1               10  \n2               10  \n3               10  \n4                8  \n5                6  \n6               10  \n7               10  \n8               10  \n9                8  \n10               3  \n11              10  \n12              10  \n13              10  \n14              10  \n15              10  \n16               8  \n17               3  "
     },
     "execution_count": 22,
     "metadata": {},
     "output_type": "execute_result"
    }
   ],
   "source": [
    "info['charts']"
   ]
  },
  {
   "cell_type": "code",
   "execution_count": 23,
   "metadata": {},
   "outputs": [
    {
     "data": {
      "text/html": "<div>\n<style scoped>\n    .dataframe tbody tr th:only-of-type {\n        vertical-align: middle;\n    }\n\n    .dataframe tbody tr th {\n        vertical-align: top;\n    }\n\n    .dataframe thead th {\n        text-align: right;\n    }\n</style>\n<table border=\"1\" class=\"dataframe\">\n  <thead>\n    <tr style=\"text-align: right;\">\n      <th></th>\n      <th>chart</th>\n      <th>selected</th>\n      <th>chart_lab</th>\n      <th>ylab</th>\n      <th>ymin</th>\n      <th>ymax</th>\n      <th>height</th>\n    </tr>\n    <tr>\n      <th>order</th>\n      <th></th>\n      <th></th>\n      <th></th>\n      <th></th>\n      <th></th>\n      <th></th>\n      <th></th>\n    </tr>\n  </thead>\n  <tbody>\n    <tr>\n      <th>1</th>\n      <td>BES.INDIV_CA</td>\n      <td>1</td>\n      <td>BES</td>\n      <td>Current Density\\n(μA/cm²)</td>\n      <td>0</td>\n      <td>40</td>\n      <td>10</td>\n    </tr>\n    <tr>\n      <th>2</th>\n      <td>BES.INDIV_CB</td>\n      <td>1</td>\n      <td>BES</td>\n      <td>Current Density\\n(μA/cm²)</td>\n      <td>0</td>\n      <td>40</td>\n      <td>10</td>\n    </tr>\n    <tr>\n      <th>3</th>\n      <td>BES.INDIV_CC</td>\n      <td>1</td>\n      <td>BES</td>\n      <td>Current Density\\n(μA/cm²)</td>\n      <td>0</td>\n      <td>40</td>\n      <td>10</td>\n    </tr>\n    <tr>\n      <th>4</th>\n      <td>REXT.INDIV</td>\n      <td>1</td>\n      <td>REXT</td>\n      <td>R[textstyle(!!Ext!!)],textstyle(!!(!!*Omega*!!...</td>\n      <td>0</td>\n      <td>400</td>\n      <td>8</td>\n    </tr>\n    <tr>\n      <th>5</th>\n      <td>OCP.INDIV</td>\n      <td>1</td>\n      <td>OCP</td>\n      <td>textstyle(!!OCP!!)</td>\n      <td>0</td>\n      <td>1</td>\n      <td>6</td>\n    </tr>\n    <tr>\n      <th>6</th>\n      <td>BOD</td>\n      <td>1</td>\n      <td>BOD</td>\n      <td>atop(textstyle(!!BOD!![5]),textstyle(!!(mg/l O...</td>\n      <td>0</td>\n      <td>300</td>\n      <td>10</td>\n    </tr>\n    <tr>\n      <th>7</th>\n      <td>COD</td>\n      <td>1</td>\n      <td>COD</td>\n      <td>atop(textstyle(!!COD!!),textstyle(!!(mg/l O!![...</td>\n      <td>0</td>\n      <td>600</td>\n      <td>10</td>\n    </tr>\n    <tr>\n      <th>8</th>\n      <td>TEMP.INDIV</td>\n      <td>1</td>\n      <td>Temperature</td>\n      <td>atop(textstyle(!!Temperature!!),textstyle(!!(°...</td>\n      <td>0</td>\n      <td>60</td>\n      <td>10</td>\n    </tr>\n    <tr>\n      <th>9</th>\n      <td>TEMP_PROCESS.INDIV</td>\n      <td>1</td>\n      <td>TEMP_PROCESS</td>\n      <td>atop(textstyle(!!Control!!),textstyle(!!Temp (...</td>\n      <td>0</td>\n      <td>150</td>\n      <td>8</td>\n    </tr>\n    <tr>\n      <th>10</th>\n      <td>EVENT.INDIV</td>\n      <td>1</td>\n      <td>TEMP_EVENT</td>\n      <td>atop(textstyle(!!Heating!!),textstyle(!!Contro...</td>\n      <td>0</td>\n      <td>1</td>\n      <td>3</td>\n    </tr>\n    <tr>\n      <th>11</th>\n      <td>pH</td>\n      <td>1</td>\n      <td>pH</td>\n      <td>textstyle(!!pH!!)</td>\n      <td>4</td>\n      <td>10</td>\n      <td>10</td>\n    </tr>\n    <tr>\n      <th>12</th>\n      <td>Conductivity</td>\n      <td>1</td>\n      <td>Conductivity</td>\n      <td>atop(textstyle(!!Conductance!!),textstyle(!!(μ...</td>\n      <td>0</td>\n      <td>2500</td>\n      <td>10</td>\n    </tr>\n    <tr>\n      <th>13</th>\n      <td>PRESSURE.INDIV</td>\n      <td>1</td>\n      <td>Pressure</td>\n      <td>atop(textstyle(!!Pressure (mbar)!!),textstyle(...</td>\n      <td>-50</td>\n      <td>50</td>\n      <td>10</td>\n    </tr>\n    <tr>\n      <th>14</th>\n      <td>DO</td>\n      <td>1</td>\n      <td>Dissolved Oxygen</td>\n      <td>atop(textstyle(!!Dissolved!!),textstyle(!!Oxyg...</td>\n      <td>0</td>\n      <td>8</td>\n      <td>10</td>\n    </tr>\n    <tr>\n      <th>15</th>\n      <td>Level</td>\n      <td>1</td>\n      <td>Levels</td>\n      <td>atop(textstyle(!!River Level (m)!!),textstyle(...</td>\n      <td>0</td>\n      <td>3</td>\n      <td>10</td>\n    </tr>\n    <tr>\n      <th>16</th>\n      <td>Pump</td>\n      <td>1</td>\n      <td>Pump</td>\n      <td>atop(textstyle(!!Flow rate!!),textstyle(!!(ml/...</td>\n      <td>0</td>\n      <td>30</td>\n      <td>8</td>\n    </tr>\n    <tr>\n      <th>17</th>\n      <td>PUMP_EVENT</td>\n      <td>1</td>\n      <td>PUMP_EVENT</td>\n      <td>textstyle(!!Pump!!)</td>\n      <td>0</td>\n      <td>1</td>\n      <td>3</td>\n    </tr>\n  </tbody>\n</table>\n</div>",
      "text/plain": "                    chart  selected         chart_lab  \\\norder                                                   \n1            BES.INDIV_CA         1               BES   \n2            BES.INDIV_CB         1               BES   \n3            BES.INDIV_CC         1               BES   \n4              REXT.INDIV         1              REXT   \n5               OCP.INDIV         1               OCP   \n6                     BOD         1               BOD   \n7                     COD         1               COD   \n8              TEMP.INDIV         1       Temperature   \n9      TEMP_PROCESS.INDIV         1      TEMP_PROCESS   \n10            EVENT.INDIV         1        TEMP_EVENT   \n11                     pH         1                pH   \n12           Conductivity         1      Conductivity   \n13         PRESSURE.INDIV         1          Pressure   \n14                     DO         1  Dissolved Oxygen   \n15                  Level         1            Levels   \n16                   Pump         1              Pump   \n17             PUMP_EVENT         1        PUMP_EVENT   \n\n                                                    ylab  ymin  ymax   height  \norder                                                                          \n1                              Current Density\\n(μA/cm²)     0    40       10  \n2                              Current Density\\n(μA/cm²)     0    40       10  \n3                              Current Density\\n(μA/cm²)     0    40       10  \n4      R[textstyle(!!Ext!!)],textstyle(!!(!!*Omega*!!...     0   400        8  \n5                                     textstyle(!!OCP!!)     0     1        6  \n6      atop(textstyle(!!BOD!![5]),textstyle(!!(mg/l O...     0   300       10  \n7      atop(textstyle(!!COD!!),textstyle(!!(mg/l O!![...     0   600       10  \n8      atop(textstyle(!!Temperature!!),textstyle(!!(°...     0    60       10  \n9      atop(textstyle(!!Control!!),textstyle(!!Temp (...     0   150        8  \n10     atop(textstyle(!!Heating!!),textstyle(!!Contro...     0     1        3  \n11                                     textstyle(!!pH!!)     4    10       10  \n12     atop(textstyle(!!Conductance!!),textstyle(!!(μ...     0  2500       10  \n13     atop(textstyle(!!Pressure (mbar)!!),textstyle(...   -50    50       10  \n14     atop(textstyle(!!Dissolved!!),textstyle(!!Oxyg...     0     8       10  \n15     atop(textstyle(!!River Level (m)!!),textstyle(...     0     3       10  \n16     atop(textstyle(!!Flow rate!!),textstyle(!!(ml/...     0    30        8  \n17                                   textstyle(!!Pump!!)     0     1        3  "
     },
     "execution_count": 23,
     "metadata": {},
     "output_type": "execute_result"
    }
   ],
   "source": [
    "info['charts_ave']"
   ]
  },
  {
   "cell_type": "markdown",
   "execution_count": null,
   "metadata": {},
   "outputs": [],
   "source": [
    "### Plots:"
   ]
  },
  {
   "cell_type": "code",
   "execution_count": 24,
   "metadata": {},
   "outputs": [
    {
     "data": {
      "text/html": "<div>\n<style scoped>\n    .dataframe tbody tr th:only-of-type {\n        vertical-align: middle;\n    }\n\n    .dataframe tbody tr th {\n        vertical-align: top;\n    }\n\n    .dataframe thead th {\n        text-align: right;\n    }\n</style>\n<table border=\"1\" class=\"dataframe\">\n  <thead>\n    <tr style=\"text-align: right;\">\n      <th></th>\n      <th>plot_status</th>\n      <th>plot_res</th>\n      <th>plot_range_window</th>\n      <th>plot_range_start</th>\n      <th>plot_range_end</th>\n      <th>plot_label</th>\n    </tr>\n    <tr>\n      <th>plot</th>\n      <th></th>\n      <th></th>\n      <th></th>\n      <th></th>\n      <th></th>\n      <th></th>\n    </tr>\n  </thead>\n  <tbody>\n    <tr>\n      <th>high</th>\n      <td>ON</td>\n      <td>0</td>\n      <td>7 days, 0:00:00</td>\n      <td>2020-01-30 13:00:43.567856+00:00</td>\n      <td>2020-02-06 13:00:43.567856+00:00</td>\n      <td>High Resolution</td>\n    </tr>\n    <tr>\n      <th>med</th>\n      <td>ON</td>\n      <td>5</td>\n      <td>31 days, 0:00:00</td>\n      <td>2020-01-06 13:00:43.567856+00:00</td>\n      <td>2020-02-06 13:00:43.567856+00:00</td>\n      <td>Medium Resolution</td>\n    </tr>\n    <tr>\n      <th>low</th>\n      <td>ON</td>\n      <td>120</td>\n      <td>246 days, 23:57:26.567856</td>\n      <td>2019-06-04 13:03:17+00:00</td>\n      <td>2020-02-06 13:00:43.567856+00:00</td>\n      <td>Low Resolution</td>\n    </tr>\n    <tr>\n      <th>custom1</th>\n      <td>OFF</td>\n      <td>0</td>\n      <td>1 day, 0:00:00</td>\n      <td>2019-06-04 13:03:17+00:00</td>\n      <td>2019-06-05 13:03:17+00:00</td>\n      <td>Custom Plot</td>\n    </tr>\n  </tbody>\n</table>\n</div>",
      "text/plain": "        plot_status  plot_res          plot_range_window  \\\nplot                                                       \nhigh             ON         0            7 days, 0:00:00   \nmed              ON         5           31 days, 0:00:00   \nlow              ON       120  246 days, 23:57:26.567856   \ncustom1         OFF         0             1 day, 0:00:00   \n\n                         plot_range_start                    plot_range_end  \\\nplot                                                                          \nhigh     2020-01-30 13:00:43.567856+00:00  2020-02-06 13:00:43.567856+00:00   \nmed      2020-01-06 13:00:43.567856+00:00  2020-02-06 13:00:43.567856+00:00   \nlow             2019-06-04 13:03:17+00:00  2020-02-06 13:00:43.567856+00:00   \ncustom1         2019-06-04 13:03:17+00:00         2019-06-05 13:03:17+00:00   \n\n                plot_label  \nplot                        \nhigh       High Resolution  \nmed      Medium Resolution  \nlow         Low Resolution  \ncustom1        Custom Plot  "
     },
     "execution_count": 24,
     "metadata": {},
     "output_type": "execute_result"
    }
   ],
   "source": [
    "plots = []\n",
    "for plot, row in info['plots'].iterrows():\n",
    "    plot_range = date_range(window = row['plot_range_window'], start = set_date(str(row['plot_range_start']), \"UTC\", \"%Y-%m-%d %H:%M:%S\"), end = set_date(str(row['plot_range_end']), \"UTC\", \"%Y-%m-%d %H:%M:%S\"))\n",
    "    info['plots'].loc[plot, 'plot_range_start'] = plot_range[0]\n",
    "    info['plots'].loc[plot, 'plot_range_end'] = plot_range[1]\n",
    "    info['plots'].loc[plot, 'plot_range_window'] = plot_range[1] - plot_range[0]\n",
    "    plots.append(plot)\n",
    "\n",
    "del plot, plot_range, row\n",
    "\n",
    "info['plots']"
   ]
  },
  {
   "cell_type": "markdown",
   "execution_count": null,
   "metadata": {},
   "outputs": [],
   "source": [
    "### Colours:"
   ]
  },
  {
   "cell_type": "code",
   "execution_count": 25,
   "metadata": {},
   "outputs": [
    {
     "data": {
      "image/png": "[encoded data removed]",
      "image/svg+xml": "<?xml version=\"1.0\" encoding=\"utf-8\" standalone=\"no\"?>\r\n<!DOCTYPE svg PUBLIC \"-//W3C//DTD SVG 1.1//EN\"\r\n  \"http://www.w3.org/Graphics/SVG/1.1/DTD/svg11.dtd\">\r\n<!-- Created with matplotlib (https://matplotlib.org/) -->\r\n<svg height=\"72.26pt\" version=\"1.1\" viewBox=\"0 0 575.9 72.26\" width=\"575.9pt\" xmlns=\"http://www.w3.org/2000/svg\" xmlns:xlink=\"http://www.w3.org/1999/xlink\">\r\n <defs>\r\n  <style type=\"text/css\">\r\n*{stroke-linecap:butt;stroke-linejoin:round;}\r\n  </style>\r\n </defs>\r\n <g id=\"figure_1\">\r\n  <g id=\"patch_1\">\r\n   <path d=\"M 0 72.26 \r\nL 575.9 72.26 \r\nL 575.9 0 \r\nL 0 0 \r\nz\r\n\" style=\"fill:none;\"/>\r\n  </g>\r\n  <g id=\"axes_1\">\r\n   <g id=\"patch_2\">\r\n    <path d=\"M 10.7 61.56 \r\nL 568.7 61.56 \r\nL 568.7 7.2 \r\nL 10.7 7.2 \r\nz\r\n\" style=\"fill:#ffffff;\"/>\r\n   </g>\r\n   <g clip-path=\"url(#p13ba67cbc2)\">\r\n    <image height=\"55\" id=\"imageb2e707d4bd\" transform=\"scale(1 -1)translate(0 -55)\" width=\"558\" x=\"10.7\" xlink:href=\"data:image/png;base64,\r\niVBORw0KGgoAAAANSUhEUgAAAi4AAAA3CAYAAAArDMGlAAAABHNCSVQICAgIfAhkiAAAAWRJREFUeJzt1rEtBWAYQFEkEjQatZJQq98K2jfGawxhDpURJNZQK4RGJQZgBc2fL1fOmeCWd//l4vJn7x+73n5MJyz1vDmbTlhm93YynbDU5/nDdMJSR0/v0wlL3X0dTycsdXt6OJ2wzOPr/XTCUt9XN9MJSx1MBwAA/JVxAQAyjAsAkGFcAIAM4wIAZBgXACDDuAAAGcYFAMgwLgBAhnEBADKMCwCQYVwAgAzjAgBkGBcAIMO4AAAZxgUAyDAuAECGcQEAMowLAJBhXACADOMCAGQYFwAgw7gAABnGBQDIMC4AQIZxAQAyjAsAkGFcAIAM4wIAZBgXACDDuAAAGcYFAMgwLgBAhnEBADKMCwCQYVwAgAzjAgBkGBcAIMO4AAAZxgUAyDAuAECGcQEAMowLAJBhXACADOMCAGQYFwAgw7gAABnGBQDIMC4AQIZxAQAyjAsAkGFcAIAM4wIAZBgXACDjF20IDufCfwCiAAAAAElFTkSuQmCC\" y=\"-6.56\"/>\r\n   </g>\r\n   <g id=\"matplotlib.axis_1\">\r\n    <g id=\"xtick_1\">\r\n     <g id=\"line2d_1\">\r\n      <defs>\r\n       <path d=\"M 0 0 \r\nL 0 3.5 \r\n\" id=\"mf15aba36fa\" style=\"stroke:#000000;stroke-width:0.8;\"/>\r\n      </defs>\r\n      <g>\r\n       <use style=\"stroke:#000000;stroke-width:0.8;\" x=\"10.7\" xlink:href=\"#mf15aba36fa\" y=\"61.56\"/>\r\n      </g>\r\n     </g>\r\n    </g>\r\n    <g id=\"xtick_2\">\r\n     <g id=\"line2d_2\">\r\n      <g>\r\n       <use style=\"stroke:#000000;stroke-width:0.8;\" x=\"66.5\" xlink:href=\"#mf15aba36fa\" y=\"61.56\"/>\r\n      </g>\r\n     </g>\r\n    </g>\r\n    <g id=\"xtick_3\">\r\n     <g id=\"line2d_3\">\r\n      <g>\r\n       <use style=\"stroke:#000000;stroke-width:0.8;\" x=\"122.3\" xlink:href=\"#mf15aba36fa\" y=\"61.56\"/>\r\n      </g>\r\n     </g>\r\n    </g>\r\n    <g id=\"xtick_4\">\r\n     <g id=\"line2d_4\">\r\n      <g>\r\n       <use style=\"stroke:#000000;stroke-width:0.8;\" x=\"178.1\" xlink:href=\"#mf15aba36fa\" y=\"61.56\"/>\r\n      </g>\r\n     </g>\r\n    </g>\r\n    <g id=\"xtick_5\">\r\n     <g id=\"line2d_5\">\r\n      <g>\r\n       <use style=\"stroke:#000000;stroke-width:0.8;\" x=\"233.9\" xlink:href=\"#mf15aba36fa\" y=\"61.56\"/>\r\n      </g>\r\n     </g>\r\n    </g>\r\n    <g id=\"xtick_6\">\r\n     <g id=\"line2d_6\">\r\n      <g>\r\n       <use style=\"stroke:#000000;stroke-width:0.8;\" x=\"289.7\" xlink:href=\"#mf15aba36fa\" y=\"61.56\"/>\r\n      </g>\r\n     </g>\r\n    </g>\r\n    <g id=\"xtick_7\">\r\n     <g id=\"line2d_7\">\r\n      <g>\r\n       <use style=\"stroke:#000000;stroke-width:0.8;\" x=\"345.5\" xlink:href=\"#mf15aba36fa\" y=\"61.56\"/>\r\n      </g>\r\n     </g>\r\n    </g>\r\n    <g id=\"xtick_8\">\r\n     <g id=\"line2d_8\">\r\n      <g>\r\n       <use style=\"stroke:#000000;stroke-width:0.8;\" x=\"401.3\" xlink:href=\"#mf15aba36fa\" y=\"61.56\"/>\r\n      </g>\r\n     </g>\r\n    </g>\r\n    <g id=\"xtick_9\">\r\n     <g id=\"line2d_9\">\r\n      <g>\r\n       <use style=\"stroke:#000000;stroke-width:0.8;\" x=\"457.1\" xlink:href=\"#mf15aba36fa\" y=\"61.56\"/>\r\n      </g>\r\n     </g>\r\n    </g>\r\n    <g id=\"xtick_10\">\r\n     <g id=\"line2d_10\">\r\n      <g>\r\n       <use style=\"stroke:#000000;stroke-width:0.8;\" x=\"512.9\" xlink:href=\"#mf15aba36fa\" y=\"61.56\"/>\r\n      </g>\r\n     </g>\r\n    </g>\r\n   </g>\r\n   <g id=\"matplotlib.axis_2\">\r\n    <g id=\"ytick_1\">\r\n     <g id=\"line2d_11\">\r\n      <defs>\r\n       <path d=\"M 0 0 \r\nL -3.5 0 \r\n\" id=\"mf25b4efda9\" style=\"stroke:#000000;stroke-width:0.8;\"/>\r\n      </defs>\r\n      <g>\r\n       <use style=\"stroke:#000000;stroke-width:0.8;\" x=\"10.7\" xlink:href=\"#mf25b4efda9\" y=\"7.2\"/>\r\n      </g>\r\n     </g>\r\n    </g>\r\n    <g id=\"ytick_2\">\r\n     <g id=\"line2d_12\">\r\n      <g>\r\n       <use style=\"stroke:#000000;stroke-width:0.8;\" x=\"10.7\" xlink:href=\"#mf25b4efda9\" y=\"61.56\"/>\r\n      </g>\r\n     </g>\r\n    </g>\r\n   </g>\r\n   <g id=\"patch_3\">\r\n    <path d=\"M 10.7 61.56 \r\nL 10.7 7.2 \r\n\" style=\"fill:none;stroke:#000000;stroke-linecap:square;stroke-linejoin:miter;stroke-width:0.8;\"/>\r\n   </g>\r\n   <g id=\"patch_4\">\r\n    <path d=\"M 568.7 61.56 \r\nL 568.7 7.2 \r\n\" style=\"fill:none;stroke:#000000;stroke-linecap:square;stroke-linejoin:miter;stroke-width:0.8;\"/>\r\n   </g>\r\n   <g id=\"patch_5\">\r\n    <path d=\"M 10.7 61.56 \r\nL 568.7 61.56 \r\n\" style=\"fill:none;stroke:#000000;stroke-linecap:square;stroke-linejoin:miter;stroke-width:0.8;\"/>\r\n   </g>\r\n   <g id=\"patch_6\">\r\n    <path d=\"M 10.7 7.2 \r\nL 568.7 7.2 \r\n\" style=\"fill:none;stroke:#000000;stroke-linecap:square;stroke-linejoin:miter;stroke-width:0.8;\"/>\r\n   </g>\r\n  </g>\r\n </g>\r\n <defs>\r\n  <clipPath id=\"p13ba67cbc2\">\r\n   <rect height=\"54.36\" width=\"558\" x=\"10.7\" y=\"7.2\"/>\r\n  </clipPath>\r\n </defs>\r\n</svg>\r\n",
      "text/plain": "<Figure size 720x72 with 1 Axes>"
     },
     "metadata": {
      "needs_background": "light"
     },
     "output_type": "display_data"
    },
    {
     "data": {
      "image/png": "[encoded data removed]",
      "image/svg+xml": "<?xml version=\"1.0\" encoding=\"utf-8\" standalone=\"no\"?>\r\n<!DOCTYPE svg PUBLIC \"-//W3C//DTD SVG 1.1//EN\"\r\n  \"http://www.w3.org/Graphics/SVG/1.1/DTD/svg11.dtd\">\r\n<!-- Created with matplotlib (https://matplotlib.org/) -->\r\n<svg height=\"72.26pt\" version=\"1.1\" viewBox=\"0 0 575.9 72.26\" width=\"575.9pt\" xmlns=\"http://www.w3.org/2000/svg\" xmlns:xlink=\"http://www.w3.org/1999/xlink\">\r\n <defs>\r\n  <style type=\"text/css\">\r\n*{stroke-linecap:butt;stroke-linejoin:round;}\r\n  </style>\r\n </defs>\r\n <g id=\"figure_1\">\r\n  <g id=\"patch_1\">\r\n   <path d=\"M 0 72.26 \r\nL 575.9 72.26 \r\nL 575.9 0 \r\nL 0 0 \r\nz\r\n\" style=\"fill:none;\"/>\r\n  </g>\r\n  <g id=\"axes_1\">\r\n   <g id=\"patch_2\">\r\n    <path d=\"M 10.7 61.56 \r\nL 568.7 61.56 \r\nL 568.7 7.2 \r\nL 10.7 7.2 \r\nz\r\n\" style=\"fill:#ffffff;\"/>\r\n   </g>\r\n   <g clip-path=\"url(#pdfbee51fe9)\">\r\n    <image height=\"55\" id=\"image1a4f35543e\" transform=\"scale(1 -1)translate(0 -55)\" width=\"558\" x=\"10.7\" xlink:href=\"data:image/png;base64,\r\niVBORw0KGgoAAAANSUhEUgAAAi4AAAA3CAYAAAArDMGlAAAABHNCSVQICAgIfAhkiAAAAV9JREFUeJzt1qFNA2AYRVGggMYQbINEwjidqwnTIPBMgKshiE5ASFkB8+fLbc6Z4JmX3MvT6/50cc4eD9MLlvrc3k9PWObt+nd6wlI3P7vpCUvdHTfTE5Z6+D5OT1jq+fZ8//fx9T49YanN08v0hKWupgcAAPyXcAEAMoQLAJAhXACADOECAGQIFwAgQ7gAABnCBQDIEC4AQIZwAQAyhAsAkCFcAIAM4QIAZAgXACBDuAAAGcIFAMgQLgBAhnABADKECwCQIVwAgAzhAgBkCBcAIEO4AAAZwgUAyBAuAECGcAEAMoQLAJAhXACADOECAGQIFwAgQ7gAABnCBQDIEC4AQIZwAQAyhAsAkCFcAIAM4QIAZAgXACBDuAAAGcIFAMgQLgBAhnABADKECwCQIVwAgAzhAgBkCBcAIEO4AAAZwgUAyBAuAECGcAEAMoQLAJAhXACADOECAGQIFwAg4w+Ojw+/oOP44gAAAABJRU5ErkJggg==\" y=\"-6.56\"/>\r\n   </g>\r\n   <g id=\"matplotlib.axis_1\">\r\n    <g id=\"xtick_1\">\r\n     <g id=\"line2d_1\">\r\n      <defs>\r\n       <path d=\"M 0 0 \r\nL 0 3.5 \r\n\" id=\"mb72bdb843f\" style=\"stroke:#000000;stroke-width:0.8;\"/>\r\n      </defs>\r\n      <g>\r\n       <use style=\"stroke:#000000;stroke-width:0.8;\" x=\"10.7\" xlink:href=\"#mb72bdb843f\" y=\"61.56\"/>\r\n      </g>\r\n     </g>\r\n    </g>\r\n    <g id=\"xtick_2\">\r\n     <g id=\"line2d_2\">\r\n      <g>\r\n       <use style=\"stroke:#000000;stroke-width:0.8;\" x=\"66.5\" xlink:href=\"#mb72bdb843f\" y=\"61.56\"/>\r\n      </g>\r\n     </g>\r\n    </g>\r\n    <g id=\"xtick_3\">\r\n     <g id=\"line2d_3\">\r\n      <g>\r\n       <use style=\"stroke:#000000;stroke-width:0.8;\" x=\"122.3\" xlink:href=\"#mb72bdb843f\" y=\"61.56\"/>\r\n      </g>\r\n     </g>\r\n    </g>\r\n    <g id=\"xtick_4\">\r\n     <g id=\"line2d_4\">\r\n      <g>\r\n       <use style=\"stroke:#000000;stroke-width:0.8;\" x=\"178.1\" xlink:href=\"#mb72bdb843f\" y=\"61.56\"/>\r\n      </g>\r\n     </g>\r\n    </g>\r\n    <g id=\"xtick_5\">\r\n     <g id=\"line2d_5\">\r\n      <g>\r\n       <use style=\"stroke:#000000;stroke-width:0.8;\" x=\"233.9\" xlink:href=\"#mb72bdb843f\" y=\"61.56\"/>\r\n      </g>\r\n     </g>\r\n    </g>\r\n    <g id=\"xtick_6\">\r\n     <g id=\"line2d_6\">\r\n      <g>\r\n       <use style=\"stroke:#000000;stroke-width:0.8;\" x=\"289.7\" xlink:href=\"#mb72bdb843f\" y=\"61.56\"/>\r\n      </g>\r\n     </g>\r\n    </g>\r\n    <g id=\"xtick_7\">\r\n     <g id=\"line2d_7\">\r\n      <g>\r\n       <use style=\"stroke:#000000;stroke-width:0.8;\" x=\"345.5\" xlink:href=\"#mb72bdb843f\" y=\"61.56\"/>\r\n      </g>\r\n     </g>\r\n    </g>\r\n    <g id=\"xtick_8\">\r\n     <g id=\"line2d_8\">\r\n      <g>\r\n       <use style=\"stroke:#000000;stroke-width:0.8;\" x=\"401.3\" xlink:href=\"#mb72bdb843f\" y=\"61.56\"/>\r\n      </g>\r\n     </g>\r\n    </g>\r\n    <g id=\"xtick_9\">\r\n     <g id=\"line2d_9\">\r\n      <g>\r\n       <use style=\"stroke:#000000;stroke-width:0.8;\" x=\"457.1\" xlink:href=\"#mb72bdb843f\" y=\"61.56\"/>\r\n      </g>\r\n     </g>\r\n    </g>\r\n    <g id=\"xtick_10\">\r\n     <g id=\"line2d_10\">\r\n      <g>\r\n       <use style=\"stroke:#000000;stroke-width:0.8;\" x=\"512.9\" xlink:href=\"#mb72bdb843f\" y=\"61.56\"/>\r\n      </g>\r\n     </g>\r\n    </g>\r\n   </g>\r\n   <g id=\"matplotlib.axis_2\">\r\n    <g id=\"ytick_1\">\r\n     <g id=\"line2d_11\">\r\n      <defs>\r\n       <path d=\"M 0 0 \r\nL -3.5 0 \r\n\" id=\"ma0958058b8\" style=\"stroke:#000000;stroke-width:0.8;\"/>\r\n      </defs>\r\n      <g>\r\n       <use style=\"stroke:#000000;stroke-width:0.8;\" x=\"10.7\" xlink:href=\"#ma0958058b8\" y=\"7.2\"/>\r\n      </g>\r\n     </g>\r\n    </g>\r\n    <g id=\"ytick_2\">\r\n     <g id=\"line2d_12\">\r\n      <g>\r\n       <use style=\"stroke:#000000;stroke-width:0.8;\" x=\"10.7\" xlink:href=\"#ma0958058b8\" y=\"61.56\"/>\r\n      </g>\r\n     </g>\r\n    </g>\r\n   </g>\r\n   <g id=\"patch_3\">\r\n    <path d=\"M 10.7 61.56 \r\nL 10.7 7.2 \r\n\" style=\"fill:none;stroke:#000000;stroke-linecap:square;stroke-linejoin:miter;stroke-width:0.8;\"/>\r\n   </g>\r\n   <g id=\"patch_4\">\r\n    <path d=\"M 568.7 61.56 \r\nL 568.7 7.2 \r\n\" style=\"fill:none;stroke:#000000;stroke-linecap:square;stroke-linejoin:miter;stroke-width:0.8;\"/>\r\n   </g>\r\n   <g id=\"patch_5\">\r\n    <path d=\"M 10.7 61.56 \r\nL 568.7 61.56 \r\n\" style=\"fill:none;stroke:#000000;stroke-linecap:square;stroke-linejoin:miter;stroke-width:0.8;\"/>\r\n   </g>\r\n   <g id=\"patch_6\">\r\n    <path d=\"M 10.7 7.2 \r\nL 568.7 7.2 \r\n\" style=\"fill:none;stroke:#000000;stroke-linecap:square;stroke-linejoin:miter;stroke-width:0.8;\"/>\r\n   </g>\r\n  </g>\r\n </g>\r\n <defs>\r\n  <clipPath id=\"pdfbee51fe9\">\r\n   <rect height=\"54.36\" width=\"558\" x=\"10.7\" y=\"7.2\"/>\r\n  </clipPath>\r\n </defs>\r\n</svg>\r\n",
      "text/plain": "<Figure size 720x72 with 1 Axes>"
     },
     "metadata": {
      "needs_background": "light"
     },
     "output_type": "display_data"
    },
    {
     "data": {
      "image/png": "[encoded data removed]",
      "image/svg+xml": "<?xml version=\"1.0\" encoding=\"utf-8\" standalone=\"no\"?>\r\n<!DOCTYPE svg PUBLIC \"-//W3C//DTD SVG 1.1//EN\"\r\n  \"http://www.w3.org/Graphics/SVG/1.1/DTD/svg11.dtd\">\r\n<!-- Created with matplotlib (https://matplotlib.org/) -->\r\n<svg height=\"72.26pt\" version=\"1.1\" viewBox=\"0 0 575.9 72.26\" width=\"575.9pt\" xmlns=\"http://www.w3.org/2000/svg\" xmlns:xlink=\"http://www.w3.org/1999/xlink\">\r\n <defs>\r\n  <style type=\"text/css\">\r\n*{stroke-linecap:butt;stroke-linejoin:round;}\r\n  </style>\r\n </defs>\r\n <g id=\"figure_1\">\r\n  <g id=\"patch_1\">\r\n   <path d=\"M 0 72.26 \r\nL 575.9 72.26 \r\nL 575.9 0 \r\nL 0 0 \r\nz\r\n\" style=\"fill:none;\"/>\r\n  </g>\r\n  <g id=\"axes_1\">\r\n   <g id=\"patch_2\">\r\n    <path d=\"M 10.7 61.56 \r\nL 568.7 61.56 \r\nL 568.7 7.2 \r\nL 10.7 7.2 \r\nz\r\n\" style=\"fill:#ffffff;\"/>\r\n   </g>\r\n   <g clip-path=\"url(#pdf899737cc)\">\r\n    <image height=\"55\" id=\"image0d645d827f\" transform=\"scale(1 -1)translate(0 -55)\" width=\"558\" x=\"10.7\" xlink:href=\"data:image/png;base64,\r\niVBORw0KGgoAAAANSUhEUgAAAi4AAAA3CAYAAAArDMGlAAAABHNCSVQICAgIfAhkiAAAAWRJREFUeJzt1qFNA2AYRVGKQGFQSEIQpFOgkbiOgegKFShYhQnYArB4PBJWwPz5cptzJnju3c3Tdvt7csQe7j6mJyz1enMxPWGZl8/z6QlLfV/vpycsdfb2Pj1hqcfN/fSEpXaXx3sNz1+H6QlL/VzdTk9Y6nR6AADAfwkXACBDuAAAGcIFAMgQLgBAhnABADKECwCQIVwAgAzhAgBkCBcAIEO4AAAZwgUAyBAuAECGcAEAMoQLAJAhXACADOECAGQIFwAgQ7gAABnCBQDIEC4AQIZwAQAyhAsAkCFcAIAM4QIAZAgXACBDuAAAGcIFAMgQLgBAhnABADKECwCQIVwAgAzhAgBkCBcAIEO4AAAZwgUAyBAuAECGcAEAMoQLAJAhXACADOECAGQIFwAgQ7gAABnCBQDIEC4AQIZwAQAyhAsAkCFcAIAM4QIAZAgXACBDuAAAGcIFAMgQLgBAhnABADL+ABq8Dn7VSBZHAAAAAElFTkSuQmCC\" y=\"-6.56\"/>\r\n   </g>\r\n   <g id=\"matplotlib.axis_1\">\r\n    <g id=\"xtick_1\">\r\n     <g id=\"line2d_1\">\r\n      <defs>\r\n       <path d=\"M 0 0 \r\nL 0 3.5 \r\n\" id=\"m5e9b04b079\" style=\"stroke:#000000;stroke-width:0.8;\"/>\r\n      </defs>\r\n      <g>\r\n       <use style=\"stroke:#000000;stroke-width:0.8;\" x=\"10.7\" xlink:href=\"#m5e9b04b079\" y=\"61.56\"/>\r\n      </g>\r\n     </g>\r\n    </g>\r\n    <g id=\"xtick_2\">\r\n     <g id=\"line2d_2\">\r\n      <g>\r\n       <use style=\"stroke:#000000;stroke-width:0.8;\" x=\"66.5\" xlink:href=\"#m5e9b04b079\" y=\"61.56\"/>\r\n      </g>\r\n     </g>\r\n    </g>\r\n    <g id=\"xtick_3\">\r\n     <g id=\"line2d_3\">\r\n      <g>\r\n       <use style=\"stroke:#000000;stroke-width:0.8;\" x=\"122.3\" xlink:href=\"#m5e9b04b079\" y=\"61.56\"/>\r\n      </g>\r\n     </g>\r\n    </g>\r\n    <g id=\"xtick_4\">\r\n     <g id=\"line2d_4\">\r\n      <g>\r\n       <use style=\"stroke:#000000;stroke-width:0.8;\" x=\"178.1\" xlink:href=\"#m5e9b04b079\" y=\"61.56\"/>\r\n      </g>\r\n     </g>\r\n    </g>\r\n    <g id=\"xtick_5\">\r\n     <g id=\"line2d_5\">\r\n      <g>\r\n       <use style=\"stroke:#000000;stroke-width:0.8;\" x=\"233.9\" xlink:href=\"#m5e9b04b079\" y=\"61.56\"/>\r\n      </g>\r\n     </g>\r\n    </g>\r\n    <g id=\"xtick_6\">\r\n     <g id=\"line2d_6\">\r\n      <g>\r\n       <use style=\"stroke:#000000;stroke-width:0.8;\" x=\"289.7\" xlink:href=\"#m5e9b04b079\" y=\"61.56\"/>\r\n      </g>\r\n     </g>\r\n    </g>\r\n    <g id=\"xtick_7\">\r\n     <g id=\"line2d_7\">\r\n      <g>\r\n       <use style=\"stroke:#000000;stroke-width:0.8;\" x=\"345.5\" xlink:href=\"#m5e9b04b079\" y=\"61.56\"/>\r\n      </g>\r\n     </g>\r\n    </g>\r\n    <g id=\"xtick_8\">\r\n     <g id=\"line2d_8\">\r\n      <g>\r\n       <use style=\"stroke:#000000;stroke-width:0.8;\" x=\"401.3\" xlink:href=\"#m5e9b04b079\" y=\"61.56\"/>\r\n      </g>\r\n     </g>\r\n    </g>\r\n    <g id=\"xtick_9\">\r\n     <g id=\"line2d_9\">\r\n      <g>\r\n       <use style=\"stroke:#000000;stroke-width:0.8;\" x=\"457.1\" xlink:href=\"#m5e9b04b079\" y=\"61.56\"/>\r\n      </g>\r\n     </g>\r\n    </g>\r\n    <g id=\"xtick_10\">\r\n     <g id=\"line2d_10\">\r\n      <g>\r\n       <use style=\"stroke:#000000;stroke-width:0.8;\" x=\"512.9\" xlink:href=\"#m5e9b04b079\" y=\"61.56\"/>\r\n      </g>\r\n     </g>\r\n    </g>\r\n   </g>\r\n   <g id=\"matplotlib.axis_2\">\r\n    <g id=\"ytick_1\">\r\n     <g id=\"line2d_11\">\r\n      <defs>\r\n       <path d=\"M 0 0 \r\nL -3.5 0 \r\n\" id=\"md3f335d403\" style=\"stroke:#000000;stroke-width:0.8;\"/>\r\n      </defs>\r\n      <g>\r\n       <use style=\"stroke:#000000;stroke-width:0.8;\" x=\"10.7\" xlink:href=\"#md3f335d403\" y=\"7.2\"/>\r\n      </g>\r\n     </g>\r\n    </g>\r\n    <g id=\"ytick_2\">\r\n     <g id=\"line2d_12\">\r\n      <g>\r\n       <use style=\"stroke:#000000;stroke-width:0.8;\" x=\"10.7\" xlink:href=\"#md3f335d403\" y=\"61.56\"/>\r\n      </g>\r\n     </g>\r\n    </g>\r\n   </g>\r\n   <g id=\"patch_3\">\r\n    <path d=\"M 10.7 61.56 \r\nL 10.7 7.2 \r\n\" style=\"fill:none;stroke:#000000;stroke-linecap:square;stroke-linejoin:miter;stroke-width:0.8;\"/>\r\n   </g>\r\n   <g id=\"patch_4\">\r\n    <path d=\"M 568.7 61.56 \r\nL 568.7 7.2 \r\n\" style=\"fill:none;stroke:#000000;stroke-linecap:square;stroke-linejoin:miter;stroke-width:0.8;\"/>\r\n   </g>\r\n   <g id=\"patch_5\">\r\n    <path d=\"M 10.7 61.56 \r\nL 568.7 61.56 \r\n\" style=\"fill:none;stroke:#000000;stroke-linecap:square;stroke-linejoin:miter;stroke-width:0.8;\"/>\r\n   </g>\r\n   <g id=\"patch_6\">\r\n    <path d=\"M 10.7 7.2 \r\nL 568.7 7.2 \r\n\" style=\"fill:none;stroke:#000000;stroke-linecap:square;stroke-linejoin:miter;stroke-width:0.8;\"/>\r\n   </g>\r\n  </g>\r\n </g>\r\n <defs>\r\n  <clipPath id=\"pdf899737cc\">\r\n   <rect height=\"54.36\" width=\"558\" x=\"10.7\" y=\"7.2\"/>\r\n  </clipPath>\r\n </defs>\r\n</svg>\r\n",
      "text/plain": "<Figure size 720x72 with 1 Axes>"
     },
     "metadata": {
      "needs_background": "light"
     },
     "output_type": "display_data"
    }
   ],
   "source": [
    "info['colours']\n",
    "\n",
    "info['colours']['rgb'] = list(zip((info['colours']['r']/255), (info['colours']['g']/255), (info['colours']['b']/255)))\n",
    "colour_palettes = {}\n",
    "colour_palettes['all'] = info['colours']['rgb'].tolist()\n",
    "\n",
    "for theme in info['colours']['theme'].unique():\n",
    "    colour_palettes[theme] = info['colours'].query('theme == \"' + theme + '\"')['rgb'].tolist()\n",
    "    sns.palplot(colour_palettes[theme])"
   ]
  },
  {
   "cell_type": "code",
   "execution_count": 26,
   "metadata": {},
   "outputs": [
    {
     "data": {
      "image/png": "[encoded data removed]",
      "image/svg+xml": "<?xml version=\"1.0\" encoding=\"utf-8\" standalone=\"no\"?>\r\n<!DOCTYPE svg PUBLIC \"-//W3C//DTD SVG 1.1//EN\"\r\n  \"http://www.w3.org/Graphics/SVG/1.1/DTD/svg11.dtd\">\r\n<!-- Created with matplotlib (https://matplotlib.org/) -->\r\n<svg height=\"72.26pt\" version=\"1.1\" viewBox=\"0 0 241.1 72.26\" width=\"241.1pt\" xmlns=\"http://www.w3.org/2000/svg\" xmlns:xlink=\"http://www.w3.org/1999/xlink\">\r\n <defs>\r\n  <style type=\"text/css\">\r\n*{stroke-linecap:butt;stroke-linejoin:round;}\r\n  </style>\r\n </defs>\r\n <g id=\"figure_1\">\r\n  <g id=\"patch_1\">\r\n   <path d=\"M 0 72.26 \r\nL 241.1 72.26 \r\nL 241.1 0 \r\nL 0 0 \r\nz\r\n\" style=\"fill:none;\"/>\r\n  </g>\r\n  <g id=\"axes_1\">\r\n   <g id=\"patch_2\">\r\n    <path d=\"M 10.7 61.56 \r\nL 233.9 61.56 \r\nL 233.9 7.2 \r\nL 10.7 7.2 \r\nz\r\n\" style=\"fill:#ffffff;\"/>\r\n   </g>\r\n   <g clip-path=\"url(#p891dcc7b00)\">\r\n    <image height=\"55\" id=\"image7d17973a5d\" transform=\"scale(1 -1)translate(0 -55)\" width=\"224\" x=\"10.7\" xlink:href=\"data:image/png;base64,\r\niVBORw0KGgoAAAANSUhEUgAAAOAAAAA3CAYAAAAVFkZ2AAAABHNCSVQICAgIfAhkiAAAANVJREFUeJzt00ENwkAAAMG24YMR6qhOeNRBDRJ0EARQFZdN6IyC/ez8eqy/6Y9t+61OGOr7PuqEoZ6fe50w1FIHwJUZEEIGhJABIWRACBkQQgaEkAEhZEAIGRBCBoSQASFkQAgZEEIGhJABIWRACBkQQgaEkAEhZEAIGRBCBoSQASFkQAgZEEIGhJABIWRACBkQQgaEkAEhZEAIGRBCBoSQASFkQAgZEEIGhJABIWRACBkQQgaEkAEhZEAIGRBCBoSQASFkQAgZEEIGhJABIWRACBkQQidoDAcjCAfTMgAAAABJRU5ErkJggg==\" y=\"-6.56\"/>\r\n   </g>\r\n   <g id=\"matplotlib.axis_1\">\r\n    <g id=\"xtick_1\">\r\n     <g id=\"line2d_1\">\r\n      <defs>\r\n       <path d=\"M 0 0 \r\nL 0 3.5 \r\n\" id=\"mabbe8cb822\" style=\"stroke:#000000;stroke-width:0.8;\"/>\r\n      </defs>\r\n      <g>\r\n       <use style=\"stroke:#000000;stroke-width:0.8;\" x=\"10.7\" xlink:href=\"#mabbe8cb822\" y=\"61.56\"/>\r\n      </g>\r\n     </g>\r\n    </g>\r\n    <g id=\"xtick_2\">\r\n     <g id=\"line2d_2\">\r\n      <g>\r\n       <use style=\"stroke:#000000;stroke-width:0.8;\" x=\"66.5\" xlink:href=\"#mabbe8cb822\" y=\"61.56\"/>\r\n      </g>\r\n     </g>\r\n    </g>\r\n    <g id=\"xtick_3\">\r\n     <g id=\"line2d_3\">\r\n      <g>\r\n       <use style=\"stroke:#000000;stroke-width:0.8;\" x=\"122.3\" xlink:href=\"#mabbe8cb822\" y=\"61.56\"/>\r\n      </g>\r\n     </g>\r\n    </g>\r\n    <g id=\"xtick_4\">\r\n     <g id=\"line2d_4\">\r\n      <g>\r\n       <use style=\"stroke:#000000;stroke-width:0.8;\" x=\"178.1\" xlink:href=\"#mabbe8cb822\" y=\"61.56\"/>\r\n      </g>\r\n     </g>\r\n    </g>\r\n   </g>\r\n   <g id=\"matplotlib.axis_2\">\r\n    <g id=\"ytick_1\">\r\n     <g id=\"line2d_5\">\r\n      <defs>\r\n       <path d=\"M 0 0 \r\nL -3.5 0 \r\n\" id=\"m0bc1158268\" style=\"stroke:#000000;stroke-width:0.8;\"/>\r\n      </defs>\r\n      <g>\r\n       <use style=\"stroke:#000000;stroke-width:0.8;\" x=\"10.7\" xlink:href=\"#m0bc1158268\" y=\"7.2\"/>\r\n      </g>\r\n     </g>\r\n    </g>\r\n    <g id=\"ytick_2\">\r\n     <g id=\"line2d_6\">\r\n      <g>\r\n       <use style=\"stroke:#000000;stroke-width:0.8;\" x=\"10.7\" xlink:href=\"#m0bc1158268\" y=\"61.56\"/>\r\n      </g>\r\n     </g>\r\n    </g>\r\n   </g>\r\n   <g id=\"patch_3\">\r\n    <path d=\"M 10.7 61.56 \r\nL 10.7 7.2 \r\n\" style=\"fill:none;stroke:#000000;stroke-linecap:square;stroke-linejoin:miter;stroke-width:0.8;\"/>\r\n   </g>\r\n   <g id=\"patch_4\">\r\n    <path d=\"M 233.9 61.56 \r\nL 233.9 7.2 \r\n\" style=\"fill:none;stroke:#000000;stroke-linecap:square;stroke-linejoin:miter;stroke-width:0.8;\"/>\r\n   </g>\r\n   <g id=\"patch_5\">\r\n    <path d=\"M 10.7 61.56 \r\nL 233.9 61.56 \r\n\" style=\"fill:none;stroke:#000000;stroke-linecap:square;stroke-linejoin:miter;stroke-width:0.8;\"/>\r\n   </g>\r\n   <g id=\"patch_6\">\r\n    <path d=\"M 10.7 7.2 \r\nL 233.9 7.2 \r\n\" style=\"fill:none;stroke:#000000;stroke-linecap:square;stroke-linejoin:miter;stroke-width:0.8;\"/>\r\n   </g>\r\n  </g>\r\n </g>\r\n <defs>\r\n  <clipPath id=\"p891dcc7b00\">\r\n   <rect height=\"54.36\" width=\"223.2\" x=\"10.7\" y=\"7.2\"/>\r\n  </clipPath>\r\n </defs>\r\n</svg>\r\n",
      "text/plain": "<Figure size 288x72 with 1 Axes>"
     },
     "metadata": {
      "needs_background": "light"
     },
     "output_type": "display_data"
    },
    {
     "data": {
      "image/png": "[encoded data removed]",
      "image/svg+xml": "<?xml version=\"1.0\" encoding=\"utf-8\" standalone=\"no\"?>\r\n<!DOCTYPE svg PUBLIC \"-//W3C//DTD SVG 1.1//EN\"\r\n  \"http://www.w3.org/Graphics/SVG/1.1/DTD/svg11.dtd\">\r\n<!-- Created with matplotlib (https://matplotlib.org/) -->\r\n<svg height=\"72.26pt\" version=\"1.1\" viewBox=\"0 0 241.1 72.26\" width=\"241.1pt\" xmlns=\"http://www.w3.org/2000/svg\" xmlns:xlink=\"http://www.w3.org/1999/xlink\">\r\n <defs>\r\n  <style type=\"text/css\">\r\n*{stroke-linecap:butt;stroke-linejoin:round;}\r\n  </style>\r\n </defs>\r\n <g id=\"figure_1\">\r\n  <g id=\"patch_1\">\r\n   <path d=\"M 0 72.26 \r\nL 241.1 72.26 \r\nL 241.1 0 \r\nL 0 0 \r\nz\r\n\" style=\"fill:none;\"/>\r\n  </g>\r\n  <g id=\"axes_1\">\r\n   <g id=\"patch_2\">\r\n    <path d=\"M 10.7 61.56 \r\nL 233.9 61.56 \r\nL 233.9 7.2 \r\nL 10.7 7.2 \r\nz\r\n\" style=\"fill:#ffffff;\"/>\r\n   </g>\r\n   <g clip-path=\"url(#pcfd72efee5)\">\r\n    <image height=\"55\" id=\"imageabf1ce4a31\" transform=\"scale(1 -1)translate(0 -55)\" width=\"224\" x=\"10.7\" xlink:href=\"data:image/png;base64,\r\niVBORw0KGgoAAAANSUhEUgAAAOAAAAA3CAYAAAAVFkZ2AAAABHNCSVQICAgIfAhkiAAAANVJREFUeJzt00ENwkAAAEGOPz/01Ei91BECSJCAmwpoVVw2aWcU7GfHsb2Ox4X9lnedMNU6PnXCVP/vXidM9awD4M4MCCEDQsiAEDIghAwIIQNCyIAQMiCEDAghA0LIgBAyIIQMCCEDQsiAEDIghAwIIQNCyIAQMiCEDAghA0LIgBAyIIQMCCEDQsiAEDIghAwIIQNCyIAQMiCEDAghA0LIgBAyIIQMCCEDQsiAEDIghAwIIQNCyIAQMiCEDAghA0LIgBAyIIQMCCEDQsiAEDIghAwIoRNGKweG7vwF8gAAAABJRU5ErkJggg==\" y=\"-6.56\"/>\r\n   </g>\r\n   <g id=\"matplotlib.axis_1\">\r\n    <g id=\"xtick_1\">\r\n     <g id=\"line2d_1\">\r\n      <defs>\r\n       <path d=\"M 0 0 \r\nL 0 3.5 \r\n\" id=\"m3012314caa\" style=\"stroke:#000000;stroke-width:0.8;\"/>\r\n      </defs>\r\n      <g>\r\n       <use style=\"stroke:#000000;stroke-width:0.8;\" x=\"10.7\" xlink:href=\"#m3012314caa\" y=\"61.56\"/>\r\n      </g>\r\n     </g>\r\n    </g>\r\n    <g id=\"xtick_2\">\r\n     <g id=\"line2d_2\">\r\n      <g>\r\n       <use style=\"stroke:#000000;stroke-width:0.8;\" x=\"66.5\" xlink:href=\"#m3012314caa\" y=\"61.56\"/>\r\n      </g>\r\n     </g>\r\n    </g>\r\n    <g id=\"xtick_3\">\r\n     <g id=\"line2d_3\">\r\n      <g>\r\n       <use style=\"stroke:#000000;stroke-width:0.8;\" x=\"122.3\" xlink:href=\"#m3012314caa\" y=\"61.56\"/>\r\n      </g>\r\n     </g>\r\n    </g>\r\n    <g id=\"xtick_4\">\r\n     <g id=\"line2d_4\">\r\n      <g>\r\n       <use style=\"stroke:#000000;stroke-width:0.8;\" x=\"178.1\" xlink:href=\"#m3012314caa\" y=\"61.56\"/>\r\n      </g>\r\n     </g>\r\n    </g>\r\n   </g>\r\n   <g id=\"matplotlib.axis_2\">\r\n    <g id=\"ytick_1\">\r\n     <g id=\"line2d_5\">\r\n      <defs>\r\n       <path d=\"M 0 0 \r\nL -3.5 0 \r\n\" id=\"m36d11960bf\" style=\"stroke:#000000;stroke-width:0.8;\"/>\r\n      </defs>\r\n      <g>\r\n       <use style=\"stroke:#000000;stroke-width:0.8;\" x=\"10.7\" xlink:href=\"#m36d11960bf\" y=\"7.2\"/>\r\n      </g>\r\n     </g>\r\n    </g>\r\n    <g id=\"ytick_2\">\r\n     <g id=\"line2d_6\">\r\n      <g>\r\n       <use style=\"stroke:#000000;stroke-width:0.8;\" x=\"10.7\" xlink:href=\"#m36d11960bf\" y=\"61.56\"/>\r\n      </g>\r\n     </g>\r\n    </g>\r\n   </g>\r\n   <g id=\"patch_3\">\r\n    <path d=\"M 10.7 61.56 \r\nL 10.7 7.2 \r\n\" style=\"fill:none;stroke:#000000;stroke-linecap:square;stroke-linejoin:miter;stroke-width:0.8;\"/>\r\n   </g>\r\n   <g id=\"patch_4\">\r\n    <path d=\"M 233.9 61.56 \r\nL 233.9 7.2 \r\n\" style=\"fill:none;stroke:#000000;stroke-linecap:square;stroke-linejoin:miter;stroke-width:0.8;\"/>\r\n   </g>\r\n   <g id=\"patch_5\">\r\n    <path d=\"M 10.7 61.56 \r\nL 233.9 61.56 \r\n\" style=\"fill:none;stroke:#000000;stroke-linecap:square;stroke-linejoin:miter;stroke-width:0.8;\"/>\r\n   </g>\r\n   <g id=\"patch_6\">\r\n    <path d=\"M 10.7 7.2 \r\nL 233.9 7.2 \r\n\" style=\"fill:none;stroke:#000000;stroke-linecap:square;stroke-linejoin:miter;stroke-width:0.8;\"/>\r\n   </g>\r\n  </g>\r\n </g>\r\n <defs>\r\n  <clipPath id=\"pcfd72efee5\">\r\n   <rect height=\"54.36\" width=\"223.2\" x=\"10.7\" y=\"7.2\"/>\r\n  </clipPath>\r\n </defs>\r\n</svg>\r\n",
      "text/plain": "<Figure size 288x72 with 1 Axes>"
     },
     "metadata": {
      "needs_background": "light"
     },
     "output_type": "display_data"
    },
    {
     "data": {
      "image/png": "[encoded data removed]",
      "image/svg+xml": "<?xml version=\"1.0\" encoding=\"utf-8\" standalone=\"no\"?>\r\n<!DOCTYPE svg PUBLIC \"-//W3C//DTD SVG 1.1//EN\"\r\n  \"http://www.w3.org/Graphics/SVG/1.1/DTD/svg11.dtd\">\r\n<!-- Created with matplotlib (https://matplotlib.org/) -->\r\n<svg height=\"72.26pt\" version=\"1.1\" viewBox=\"0 0 129.5 72.26\" width=\"129.5pt\" xmlns=\"http://www.w3.org/2000/svg\" xmlns:xlink=\"http://www.w3.org/1999/xlink\">\r\n <defs>\r\n  <style type=\"text/css\">\r\n*{stroke-linecap:butt;stroke-linejoin:round;}\r\n  </style>\r\n </defs>\r\n <g id=\"figure_1\">\r\n  <g id=\"patch_1\">\r\n   <path d=\"M 0 72.26 \r\nL 129.5 72.26 \r\nL 129.5 0 \r\nL 0 0 \r\nz\r\n\" style=\"fill:none;\"/>\r\n  </g>\r\n  <g id=\"axes_1\">\r\n   <g id=\"patch_2\">\r\n    <path d=\"M 10.7 61.56 \r\nL 122.3 61.56 \r\nL 122.3 7.2 \r\nL 10.7 7.2 \r\nz\r\n\" style=\"fill:#ffffff;\"/>\r\n   </g>\r\n   <g clip-path=\"url(#p8d4dbf084e)\">\r\n    <image height=\"55\" id=\"image818bdd24f6\" transform=\"scale(1 -1)translate(0 -55)\" width=\"112\" x=\"10.7\" xlink:href=\"data:image/png;base64,\r\niVBORw0KGgoAAAANSUhEUgAAAHAAAAA3CAYAAADUvc6fAAAABHNCSVQICAgIfAhkiAAAAKlJREFUeJzt0cENQEAAAEF0468Kf1UpVwEUIXJZmalgk53PY7+nH7vWbXTCp5bRAbxjYJyBcQbGGRhnYJyBcQbGGRhnYJyBcQbGGRhnYJyBcQbGGRhnYJyBcQbGGRhnYJyBcQbGGRhnYJyBcQbGGRhnYJyBcQbGGRhnYJyBcQbGGRhnYJyBcQbGGRhnYJyBcQbGGRhnYJyBcQbGGRhnYJyBcQbGGRhnYNwD/hUD54QWceQAAAAASUVORK5CYII=\" y=\"-6.56\"/>\r\n   </g>\r\n   <g id=\"matplotlib.axis_1\">\r\n    <g id=\"xtick_1\">\r\n     <g id=\"line2d_1\">\r\n      <defs>\r\n       <path d=\"M 0 0 \r\nL 0 3.5 \r\n\" id=\"me0df1c2258\" style=\"stroke:#000000;stroke-width:0.8;\"/>\r\n      </defs>\r\n      <g>\r\n       <use style=\"stroke:#000000;stroke-width:0.8;\" x=\"10.7\" xlink:href=\"#me0df1c2258\" y=\"61.56\"/>\r\n      </g>\r\n     </g>\r\n    </g>\r\n    <g id=\"xtick_2\">\r\n     <g id=\"line2d_2\">\r\n      <g>\r\n       <use style=\"stroke:#000000;stroke-width:0.8;\" x=\"66.5\" xlink:href=\"#me0df1c2258\" y=\"61.56\"/>\r\n      </g>\r\n     </g>\r\n    </g>\r\n   </g>\r\n   <g id=\"matplotlib.axis_2\">\r\n    <g id=\"ytick_1\">\r\n     <g id=\"line2d_3\">\r\n      <defs>\r\n       <path d=\"M 0 0 \r\nL -3.5 0 \r\n\" id=\"mac21b8ac09\" style=\"stroke:#000000;stroke-width:0.8;\"/>\r\n      </defs>\r\n      <g>\r\n       <use style=\"stroke:#000000;stroke-width:0.8;\" x=\"10.7\" xlink:href=\"#mac21b8ac09\" y=\"7.2\"/>\r\n      </g>\r\n     </g>\r\n    </g>\r\n    <g id=\"ytick_2\">\r\n     <g id=\"line2d_4\">\r\n      <g>\r\n       <use style=\"stroke:#000000;stroke-width:0.8;\" x=\"10.7\" xlink:href=\"#mac21b8ac09\" y=\"61.56\"/>\r\n      </g>\r\n     </g>\r\n    </g>\r\n   </g>\r\n   <g id=\"patch_3\">\r\n    <path d=\"M 10.7 61.56 \r\nL 10.7 7.2 \r\n\" style=\"fill:none;stroke:#000000;stroke-linecap:square;stroke-linejoin:miter;stroke-width:0.8;\"/>\r\n   </g>\r\n   <g id=\"patch_4\">\r\n    <path d=\"M 122.3 61.56 \r\nL 122.3 7.2 \r\n\" style=\"fill:none;stroke:#000000;stroke-linecap:square;stroke-linejoin:miter;stroke-width:0.8;\"/>\r\n   </g>\r\n   <g id=\"patch_5\">\r\n    <path d=\"M 10.7 61.56 \r\nL 122.3 61.56 \r\n\" style=\"fill:none;stroke:#000000;stroke-linecap:square;stroke-linejoin:miter;stroke-width:0.8;\"/>\r\n   </g>\r\n   <g id=\"patch_6\">\r\n    <path d=\"M 10.7 7.2 \r\nL 122.3 7.2 \r\n\" style=\"fill:none;stroke:#000000;stroke-linecap:square;stroke-linejoin:miter;stroke-width:0.8;\"/>\r\n   </g>\r\n  </g>\r\n </g>\r\n <defs>\r\n  <clipPath id=\"p8d4dbf084e\">\r\n   <rect height=\"54.36\" width=\"111.6\" x=\"10.7\" y=\"7.2\"/>\r\n  </clipPath>\r\n </defs>\r\n</svg>\r\n",
      "text/plain": "<Figure size 144x72 with 1 Axes>"
     },
     "metadata": {
      "needs_background": "light"
     },
     "output_type": "display_data"
    }
   ],
   "source": [
    "sns.palplot([colour_palettes['mid'][i] for i in [0,3,5,6]])\n",
    "sns.palplot([colour_palettes['mid'][i] for i in [1,2,4,7]])\n",
    "sns.palplot([colour_palettes['mid'][i] for i in [8,9]])"
   ]
  },
  {
   "cell_type": "markdown",
   "execution_count": null,
   "metadata": {},
   "outputs": [],
   "source": [
    "## Import Data\n",
    "### Custom Support Data Functions"
   ]
  },
  {
   "cell_type": "code",
   "execution_count": 27,
   "metadata": {},
   "outputs": [],
   "source": [
    "def get_UO_support_data(dataset_f_info, dataset = \"UO\"):\n",
    "    \n",
    "    def import_UO_log_dates():\n",
    "        UO_log_dates = pd.read_csv(dataset_f_info['supp_data_filepath'][dataset], sep = \"\\t\")\n",
    "        UO_log_dates['start'] = pd.to_datetime(UO_log_dates['start'], format=\"%Y-%m-%d\")\n",
    "        UO_log_dates['end'] = pd.to_datetime(UO_log_dates['end'], format=\"%Y-%m-%d\")\n",
    "        return UO_log_dates\n",
    "    \n",
    "    UO_log_dates = import_UO_log_dates()\n",
    "    \n",
    "    #Check LogDates file\n",
    "    if max(UO_log_dates['end']) < date_now.date() - timedelta(days=1):\n",
    "        print(\"Retrieving latest Urban Observatory data...\")\n",
    "        # api-endpoint \n",
    "        URL = \"http://uoweb3.ncl.ac.uk/api/v1.1/sensors/data/csv/?\"\n",
    "        # location given here \n",
    "        poly = '0103000000010000000600000001000020a2baf9bf58094ee3a2764b4001000020f268fbbf90c059b5b5714b4000000020ba37fbbfc4e78445c6704b4001000020b203fbbf9ce8d60e68714b40010000209a59f9bf346a0efd06714b4001000020a2baf9bf58094ee3a2764b40'\n",
    "        # defining a params dict for the parameters to be sent to the API \n",
    "        PARAMS = {'polygon_wkb': poly,\n",
    "                  'starttime': max(UO_log_dates['end']).strftime(\"%Y%m%d%H%M%S\"), #\"%Y%m%d%H%M%S\"\n",
    "                  'endtime': date_now.strftime(\"%Y%m%d%H%M%S\"), #\"%Y%m%d%H%M%S\"\n",
    "                  'data_variable': 'River Level,Temperature,Rainfall'} \n",
    "        # sending get request and saving the response as response object \n",
    "        data_content = requests.get(url = URL, params = PARAMS).content\n",
    "        UO_data = pd.read_csv(io.StringIO(data_content.decode(\"utf-8\")))\n",
    "        min_date = pd.to_datetime(min(UO_data['Timestamp'])).strftime(\"%Y-%m-%d\")\n",
    "        max_date = pd.to_datetime(max(UO_data['Timestamp'])).strftime(\"%Y-%m-%d\")\n",
    "        \n",
    "        if pd.to_datetime(max_date) > max(UO_log_dates['end']):\n",
    "            UO_data.to_csv(dataset_f_info['data_folder_path'][dataset] + \"UO_data_\" + str(min_date) + \"_to_\" + str(max_date) + \".csv\",\n",
    "                           index = False)\n",
    "            UO_Files = []\n",
    "            for filename in tqdm(os.listdir(str(dataset_f_info['data_folder_path'][dataset])), desc = \"Open existing UO files\"):\n",
    "                if re.search(dataset_f_info['file_pat'][dataset], filename) and not filename.startswith('.'):\n",
    "                    UO_Files.append(filename)\n",
    "            UO_starts = []\n",
    "            for string in UO_Files: UO_starts.append(string[8:18])\n",
    "            UO_ends = []\n",
    "            for string in UO_Files: UO_ends.append(string[22:32])\n",
    "\n",
    "\n",
    "            new_UO_file_data = {'file': UO_Files,\n",
    "                                'start': UO_starts,\n",
    "                                'end': UO_ends}\n",
    "            UO_log_dates_new = pd.DataFrame(new_UO_file_data, columns = ['file', 'start', 'end'])\n",
    "            UO_log_dates_new.to_csv(dataset_f_info['supp_data_filepath'][dataset], index = False, sep = \"\\t\")\n",
    "            print(\"Urban Observatory data updated!\")\n",
    "        else:\n",
    "            print(\"Urban Observatory data up-to-date!\")\n",
    "        \n",
    "    UO_log_dates = import_UO_log_dates\n",
    "    \n",
    "    return UO_log_dates\n",
    "\n",
    "def get_Events_support_data(dataset_f_info, dataset = \"Events\"):\n",
    "    Events_info = pd.read_csv(dataset_f_info['supp_data_filepath'][dataset], sep = \"\\t\", index_col = \"Code\")\n",
    "    return Events_info\n",
    "\n",
    "custom_preimport_functions = {'UO': get_UO_support_data,\n",
    "                              'Events': get_Events_support_data}"
   ]
  },
  {
   "cell_type": "markdown",
   "execution_count": null,
   "metadata": {},
   "outputs": [],
   "source": [
    "### Custom Imported Data Functions"
   ]
  },
  {
   "cell_type": "markdown",
   "execution_count": null,
   "metadata": {},
   "outputs": [],
   "source": [
    "### Data Import Functions"
   ]
  },
  {
   "cell_type": "code",
   "execution_count": 28,
   "metadata": {},
   "outputs": [],
   "source": [
    "#Data import\n",
    "def import_data(dataset):\n",
    "    dataset_all_days = []\n",
    "    for folder in range(1,len(info['datasets'].query('dataset == \"' + dataset + '\"'))+1):\n",
    "        print(dataset + \": Folder \" + str(folder))\n",
    "        \n",
    "        #Shorthand info:\n",
    "        dataset_f_info = info['datasets'].query('dataset == \"' + dataset + '\" & folder == \"' + str(folder) + '\"')\n",
    "        #File format to import\n",
    "        f_file_import = select_file_importer(dataset, dataset_f_info)\n",
    "        \n",
    "        #Custom pre-import functions\n",
    "        if dataset in custom_preimport_functions:\n",
    "            dataset_supp_data = custom_preimport_functions[dataset](dataset_f_info)\n",
    "        else:\n",
    "            dataset_supp_data = \"\"\n",
    "        #Import files\n",
    "        for filename in tqdm(os.listdir(str(dataset_f_info['data_folder_path'][dataset])), desc = \"Open files to import\"):\n",
    "            if re.search(dataset_f_info['file_pat'][dataset], filename) and not filename.startswith('.'):\n",
    "                day_df = file_import_handler(dataset, dataset_f_info, filename, dataset_supp_data, f_file_import)\n",
    "                # Keep if longer than 0 lines\n",
    "                if len(day_df) > 0:\n",
    "                    #Keep if within DateTime range in Info file\n",
    "                    if max(day_df['DateTime']) >= min(info['plots']['plot_range_start']) and \\\n",
    "                       min(day_df['DateTime']) <= max(info['plots']['plot_range_end']):\n",
    "                        dataset_all_days.append(day_df)\n",
    "    \n",
    "    #Create one dataframe from all days data\n",
    "    dataset_all_data = pd.concat(dataset_all_days, axis=0, ignore_index=True)\n",
    "    dataset_all_data.sort_values(by=['DateTime'], inplace=True)\n",
    "    dataset_all_data = dataset_all_data.reset_index(drop=True)\n",
    "    \n",
    "    dataset_all_data = dataset_all_data[dataset_all_data['DateTime'] >= min(info['plots']['plot_range_start'])]\n",
    "    dataset_all_data = dataset_all_data[dataset_all_data['DateTime'] <= max(info['plots']['plot_range_end'])]\n",
    "    \n",
    "    return(dataset_all_data)\n",
    "\n",
    "#File Import functions\n",
    "def select_file_importer(dataset, dataset_f_info):\n",
    "    if re.search(\"xls\", dataset_f_info['file_pat'][dataset], re.IGNORECASE):\n",
    "        return file_import_functions[\"xls\"]\n",
    "    elif re.search(\"csv\", dataset_f_info['file_pat'][dataset], re.IGNORECASE):\n",
    "        return file_import_functions[\"csv\"]\n",
    "    elif re.search(\"txt\", dataset_f_info['file_pat'][dataset], re.IGNORECASE):\n",
    "        return file_import_functions[\"txt\"]\n",
    "    else:\n",
    "        raise ValueError(\"Unknown file pattern!\")\n",
    "\n",
    "def file_import_xls(dataset, dataset_f_info, filename):\n",
    "    df = pd.read_excel(\"\".join([str(dataset_f_info['data_folder_path'][dataset]), filename]), \n",
    "                       skiprows = dataset_f_info['skiprows'][dataset])\n",
    "    return df\n",
    "\n",
    "def file_import_csv(dataset, dataset_f_info, filename):\n",
    "    df = pd.read_csv(\"\".join([str(dataset_f_info['data_folder_path'][dataset]), filename]), \n",
    "                     skiprows = dataset_f_info['skiprows'][dataset])\n",
    "    return df\n",
    "\n",
    "def file_import_txt(dataset, dataset_f_info, filename):\n",
    "    df = pd.read_csv(\"\".join([str(dataset_f_info['data_folder_path'][dataset]), filename]), \n",
    "                     sep=\"\\t\", skiprows = dataset_f_info['skiprows'][dataset])\n",
    "    return df\n",
    "\n",
    "file_import_functions = {'xls': file_import_xls,\n",
    "                         'csv': file_import_csv,\n",
    "                         'txt': file_import_txt}\n",
    "\n",
    "def file_import_handler(dataset, dataset_f_info, filename, dataset_supp_data, f_file_import):\n",
    "    day_df = f_file_import(dataset, dataset_f_info, filename)\n",
    "    if len(day_df) > 0:\n",
    "        # Name parameter columns\n",
    "        day_df = day_df.rename(columns=dict(zip(info['parameters'].query('dataset == \"' + dataset + '\"')['code'], \n",
    "                                                info['parameters'].query('dataset == \"' + dataset + '\"')['parameter'])))\n",
    "        # Delete unit rows\n",
    "        if not pd.isna(dataset_f_info['Del_unit_rows'][dataset]):\n",
    "            day_df = day_df.drop(0).reset_index()\n",
    "        ##Load custom data mod function?\n",
    "        if dataset in custom_import_functions:\n",
    "            day_df = custom_import_functions[dataset](day_df, filename, dataset_supp_data, dataset_f_info, dataset)\n",
    "        \n",
    "        #Choose selected parameters\n",
    "        selected_pars = list(info['parameters'].query('dataset == \"' + dataset + '\" & selected == 1')['parameter'].values)\n",
    "        day_df = day_df[['DateTime'] + selected_pars]\n",
    "        #Add blank row between files - to be implemented\n",
    "        #if len(day_df) > 0:\n",
    "        #    if not pd.isna(dataset_f_info['Add_blank_rows'][dataset]):\n",
    "        #        day_df = day_df.append(pd.Series(), ignore_index=True)\n",
    "                \n",
    "\n",
    "    return(day_df)"
   ]
  },
  {
   "cell_type": "code",
   "execution_count": 29,
   "metadata": {},
   "outputs": [],
   "source": [
    "def mod_imported_Sensor_data(day_df, filename, dataset_supp_data, dataset_f_info, dataset = \"Sensor\"):\n",
    "    day_df['DateTime'] = day_df['Date'] + \" \" + day_df['Time']\n",
    "    day_df['DateTime'] = pd.to_datetime(day_df['DateTime'], format = '%d/%m/%Y %H:%M:%S')\n",
    "    day_df['DateTime'] = day_df['DateTime'].dt.tz_localize('UTC')\n",
    "    \n",
    "    #Make on/off events integer binary numbers 1/0\n",
    "    #on_events = [\"^ON$\", \"^RUNNING$\", \"^CW$\", \"^AUTO$\"]\n",
    "    #off_events = [\"^OFF$\", \"^STOP$\", \"^CCW$\", \"^MANUAL$\"]\n",
    "\n",
    "    #all_rgx = re.compile(\"|\".join(on_events + off_events))\n",
    "    #on_rgx = re.compile(\"|\".join(on_events))\n",
    "    #off_rgx = re.compile(\"|\".join(off_events))\n",
    "    \n",
    "    #Sensor_events = {'ON': 1,\n",
    "    #                 'RUNNING': 1,\n",
    "    #                 'CW': 1,\n",
    "    #                 'AUTO': 1,\n",
    "    #                 'OFF': 0,\n",
    "    #                 'STOP': 0,\n",
    "    #                 'CCW': 0,\n",
    "    #                 'MANUAL': 0}\n",
    "\n",
    "    #string_cols = (day_df.applymap(type) == str).all(0).values\n",
    "    #for col in day_df.iloc[:, string_cols]:\n",
    "    #    if day_df[col].str.contains(all_rgx).any():\n",
    "    #        day_df[col] = day_df[col].replace(on_rgx, '1', regex=True)\n",
    "    #        day_df[col] = day_df[col].replace(off_rgx, '0', regex=True)\n",
    "    #        day_df[col] = day_df[col].astype(int)\n",
    "    #for col in day_df.iloc[:, string_cols]:\n",
    "    #if day_df.iloc[:, string_cols].str.contains(all_rgx).any():\n",
    "    #day_df[[i for i in list(day_df.columns) if i not in ['DateTime', 'Date', 'Time']]] = \\\n",
    "    #day_df[[i for i in list(day_df.columns) if i not in ['DateTime', 'Date', 'Time']]].replace(Sensor_events).apply(pd.to_numeric)\n",
    "    #day_df.iloc[:, string_cols] = day_df.astype(int)\n",
    "    \n",
    "    #Current density\n",
    "    day_df.iloc[:, day_df.columns.str.contains(\"__C\")] = day_df.iloc[:, day_df.columns.str.contains(\"__C\")]/(math.pi*(0.6)**2*10)\n",
    "    #Sum Current density\n",
    "    day_df.iloc[:, day_df.columns.str.contains(\"SUM__C\")] = day_df.iloc[:, day_df.columns.str.contains(\"SUM__C\")]/4\n",
    "    \n",
    "    #Sensible tilt (up = positive)\n",
    "    day_df['SENSOR_TILT'] = -day_df['SENSOR_TILT']\n",
    "\n",
    "    return(day_df)\n",
    "\n",
    "def mod_imported_Skid_data(day_df, filename, dataset_supp_data, dataset_f_info, dataset = \"Skid\"):\n",
    "    day_df = day_df.rename(columns={\"TIME\": \"DateTime\"})\n",
    "    day_df['DateTime'] = pd.to_datetime(day_df['DateTime'], format = '%Y/%m/%d %H:%M:%S.%f')\n",
    "    day_df['DateTime'] = day_df['DateTime'].dt.tz_localize('UTC')\n",
    "    selected_pars = list(info['parameters'].query('dataset == \"' + dataset + '\" & selected == 1')['parameter'].values)\n",
    "    day_df = day_df[day_df[selected_pars].sum(axis = 1, skipna = True) != 0]\n",
    "    return(day_df)\n",
    "\n",
    "def mod_imported_SampLog_data(day_df, filename, dataset_supp_data, dataset_f_info, dataset = \"SampLog\"):\n",
    "    day_df = day_df.rename(columns={\"Date\": \"DateTime\"})\n",
    "    day_df['DateTime'] = pd.to_datetime(day_df['DateTime'], format = '%d/%m/%Y %H:%M')\n",
    "    day_df['DateTime'] = day_df['DateTime'].dt.tz_localize('Europe/London')\n",
    "    day_df['DateTime'] = day_df['DateTime'].dt.tz_convert('UTC')\n",
    "\n",
    "    selected_read_cols = ['R1', 'R2', 'R3']\n",
    "    day_df[selected_read_cols] = day_df[selected_read_cols].apply(pd.to_numeric, errors='coerce')\n",
    "\n",
    "    #Average readings\n",
    "    day_df['Read_ave'] = day_df[selected_read_cols].mean(axis = 1, skipna = True)\n",
    "    \n",
    "    #Widen DF\n",
    "    day_df_wide = pd.pivot_table(day_df,values='Read_ave',index=['DateTime', 'Location'],columns=['Type','Vial'])\n",
    "    #Fix col header and names\n",
    "    day_df_wide.columns = map(''.join, (str(v) for v in day_df_wide.columns))\n",
    "    day_df_wide.columns = [re.sub(r'\\W', '', i) for i in day_df_wide.columns]\n",
    "    day_df_wide.columns = [s[:len(s)-1] + \"_\" + s[len(s)-1:] for s in day_df_wide.columns]\n",
    "    day_df_wide = day_df_wide.reset_index()\n",
    "    \n",
    "    return(day_df_wide)\n",
    "\n",
    "def mod_imported_NWL_data(day_df, filename, dataset_supp_data, dataset_f_info, dataset = \"NWL\"):\n",
    "    day_df['DateTime'] = day_df['DATE'].astype(str) + \" \" + day_df['TIME']\n",
    "    day_df['DateTime'] = pd.to_datetime(day_df['DateTime'], format = '%Y-%m-%d %H:%M')\n",
    "    day_df['DateTime'] = day_df['DateTime'].dt.tz_localize('Europe/London')\n",
    "    day_df['DateTime'] = day_df['DateTime'].dt.tz_convert('UTC')\n",
    "    \n",
    "    day_df = day_df[day_df['SITE'].str.contains('SETTLED')]\n",
    "    \n",
    "    return(day_df)\n",
    "\n",
    "def mod_imported_UO_data(day_df, filename, dataset_supp_data, dataset_f_info, dataset = \"UO\"):\n",
    "    day_df['DateTime'] = pd.to_datetime(day_df['Timestamp'], format = '%Y-%m-%d %H:%M:%S')\n",
    "    day_df['DateTime'] = day_df['DateTime'].dt.tz_localize('UTC')\n",
    "  \n",
    "    # Create Type column\n",
    "    day_df['Type'] = day_df['Sensor Name'].astype(str) + \"_\" + day_df['Variable']\n",
    "  \n",
    "    #Widen DF\n",
    "    day_df_wide = pd.pivot_table(day_df,values='Value',index=['DateTime'],columns=['Type'])\n",
    "    #Fix col header and names\n",
    "    day_df_wide = day_df_wide.reset_index()\n",
    "    day_df_wide = day_df_wide.rename(columns=dict(zip(info['parameters'].query('dataset == \"' + dataset + '\"')['code'], \n",
    "                                                info['parameters'].query('dataset == \"' + dataset + '\"')['parameter'])))\n",
    "    return(day_df_wide)\n",
    "\n",
    "custom_import_functions = {'Sensor': mod_imported_Sensor_data,\n",
    "                           'Skid': mod_imported_Skid_data,\n",
    "                           'SampLog': mod_imported_SampLog_data,\n",
    "                           'NWL': mod_imported_NWL_data,\n",
    "                           'UO': mod_imported_UO_data}"
   ]
  },
  {
   "cell_type": "markdown",
   "execution_count": null,
   "metadata": {},
   "outputs": [],
   "source": [
    "### Data Import"
   ]
  },
  {
   "cell_type": "code",
   "execution_count": 30,
   "metadata": {},
   "outputs": [
    {
     "data": {
      "text/plain": "['Sensor', 'Skid', 'SampLog', 'NWL', 'UO']"
     },
     "execution_count": 30,
     "metadata": {},
     "output_type": "execute_result"
    }
   ],
   "source": [
    "selected_datasets = list(info['parameters'].query('selected == 1').index.unique())\n",
    "selected_datasets"
   ]
  },
  {
   "cell_type": "code",
   "execution_count": 31,
   "metadata": {},
   "outputs": [
    {
     "name": "stderr",
     "output_type": "stream",
     "text": ".74it/s]\u001b[A\nOpen files to import:  80%|███████▉  | 138/173 [00:10<00:02, 11.73it/s]\u001b[A\nOpen files to import:  81%|████████  | 140/173 [00:11<00:02, 12.19it/s]\u001b[A\nOpen files to import:  82%|████████▏ | 142/173 [00:11<00:02, 12.77it/s]\u001b[A\nOpen files to import:  83%|████████▎ | 144/173 [00:11<00:02, 12.52it/s]\u001b[A\nOpen files to import:  84%|████████▍ | 146/173 [00:11<00:02, 11.97it/s]\u001b[A\nOpen files to import:  86%|████████▌ | 148/173 [00:11<00:01, 12.56it/s]\u001b[A\nOpen files to import:  87%|████████▋ | 150/173 [00:11<00:01, 11.95it/s]\u001b[A\nOpen files to import:  88%|████████▊ | 152/173 [00:12<00:01, 11.60it/s]\u001b[A\nOpen files to import:  89%|████████▉ | 154/173 [00:12<00:01, 12.43it/s]\u001b[A\nOpen files to import:  90%|█████████ | 156/173 [00:12<00:01, 12.69it/s]\u001b[A\nOpen files to import:  91%|█████████▏| 158/173 [00:12<00:01, 11.07it/s]\u001b[A\nOpen files to import:  92%|█████████▏| 160/173 [00:12<00:01, 12.52it/s]\u001b[A\nOpen files to import:  94%|█████████▎| 162/173 [00:12<00:00, 13.95it/s]\u001b[A\nOpen files to import:  95%|█████████▍| 164/173 [00:12<00:00, 14.73it/s]\u001b[A\nOpen files to import:  96%|█████████▌| 166/173 [00:13<00:00, 15.33it/s]\u001b[A\nOpen files to import:  97%|█████████▋| 168/173 [00:13<00:00, 15.17it/s]\u001b[A\nOpen files to import:  98%|█████████▊| 170/173 [00:13<00:00, 14.19it/s]\u001b[A\nOpen files to import: 100%|██████████| 173/173 [00:13<00:00, 12.86it/s]\n\nOpen files to import:   0%|          | 0/309 [00:00<?, ?it/s]\u001b[ASkid: Folder 2\n\nOpen files to import:   0%|          | 1/309 [00:00<01:43,  2.97it/s]\u001b[A\nOpen files to import:   1%|          | 3/309 [00:00<01:17,  3.92it/s]\u001b[A\nOpen files to import:   2%|▏         | 5/309 [00:00<01:01,  4.96it/s]\u001b[A\nOpen files to import:   2%|▏         | 7/309 [00:01<01:05,  4.64it/s]\u001b[A\nOpen files to import:   3%|▎         | 9/309 [00:01<00:52,  5.72it/s]\u001b[A\nOpen files to import:   4%|▎         | 11/309 [00:01<00:44,  6.76it/s]\u001b[A\nOpen files to import:   4%|▍         | 12/309 [00:01<00:43,  6.82it/s]\u001b[A\nOpen files to import:   4%|▍         | 13/309 [00:01<00:44,  6.66it/s]\u001b[A\nOpen files to import:   5%|▍         | 14/309 [00:01<00:40,  7.26it/s]\u001b[A\nOpen files to import:   5%|▍         | 15/309 [00:01<00:38,  7.60it/s]\u001b[A\nOpen files to import:   5%|▌         | 16/309 [00:02<00:38,  7.59it/s]\u001b[A\nOpen files to import:   6%|▌         | 17/309 [00:02<00:38,  7.50it/s]\u001b[A\nOpen files to import:   6%|▌         | 18/309 [00:02<00:37,  7.86it/s]\u001b[A\nOpen files to import:   6%|▌         | 19/309 [00:02<00:35,  8.23it/s]\u001b[A\nOpen files to import:   7%|▋         | 21/309 [00:02<00:33,  8.51it/s]\u001b[A\nOpen files to import:   7%|▋         | 23/309 [00:02<00:32,  8.86it/s]\u001b[A\nOpen files to import:   8%|▊         | 24/309 [00:02<00:32,  8.81it/s]\u001b[A\nOpen files to import:   8%|▊         | 25/309 [00:03<00:33,  8.50it/s]\u001b[A\nOpen files to import:   8%|▊         | 26/309 [00:03<00:35,  8.06it/s]\u001b[A\nOpen files to import:   9%|▊         | 27/309 [00:03<00:36,  7.69it/s]\u001b[A\nOpen files to import:   9%|▉         | 28/309 [00:03<00:37,  7.48it/s]\u001b[A\nOpen files to import:   9%|▉         | 29/309 [00:03<00:37,  7.44it/s]\u001b[A\nOpen files to import:  10%|▉         | 30/309 [00:03<00:38,  7.27it/s]\u001b[A\nOpen files to import:  10%|█         | 31/309 [00:03<00:36,  7.59it/s]\u001b[A\nOpen files to import:  10%|█         | 32/309 [00:04<00:34,  7.93it/s]\u001b[A\nOpen files to import:  11%|█         | 33/309 [00:04<00:34,  8.00it/s]\u001b[A\nOpen files to import:  11%|█         | 34/309 [00:04<00:35,  7.71it/s]\u001b[A\nOpen files to import:  11%|█▏        | 35/309 [00:04<00:35,  7.79it/s]\u001b[A\nOpen files to import:  12%|█▏        | 36/309 [00:04<00:33,  8.08it/s]\u001b[A\nOpen files to import:  12%|█▏        | 37/309 [00:04<00:32,  8.25it/s]\u001b[A\nOpen files to import:  12%|█▏        | 38/309 [00:04<00:34,  7.94it/s]\u001b[A\nOpen files to import:  13%|█▎        | 39/309 [00:04<00:34,  7.72it/s]\u001b[A\nOpen files to import:  13%|█▎        | 40/309 [00:05<00:33,  7.97it/s]\u001b[A\nOpen files to import:  13%|█▎        | 41/309 [00:05<00:34,  7.72it/s]\u001b[A\nOpen files to import:  14%|█▎        | 42/309 [00:05<00:36,  7.32it/s]\u001b[A\nOpen files to import:  14%|█▍        | 43/309 [00:05<00:35,  7.58it/s]\u001b[A\nOpen files to import:  14%|█▍        | 44/309 [00:05<00:32,  8.07it/s]\u001b[A\nOpen files to import:  15%|█▍        | 45/309 [00:05<00:34,  7.73it/s]\u001b[A\nOpen files to import:  15%|█▍        | 46/309 [00:05<00:34,  7.58it/s]\u001b[A\nOpen files to import:  15%|█▌        | 47/309 [00:05<00:33,  7.86it/s]\u001b[A\nOpen files to import:  16%|█▌        | 48/309 [00:06<00:31,  8.27it/s]\u001b[A\nOpen files to import:  16%|█▌        | 49/309 [00:06<00:31,  8.37it/s]\u001b[A\nOpen files to import:  16%|█▌        | 50/309 [00:06<00:32,  7.96it/s]\u001b[A\nOpen files to import:  17%|█▋        | 51/309 [00:06<00:33,  7.71it/s]\u001b[A\nOpen files to import:  17%|█▋        | 52/309 [00:06<00:31,  8.08it/s]\u001b[A\nOpen files to import:  17%|█▋        | 53/309 [00:06<00:31,  8.19it/s]\u001b[A\nOpen files to import:  17%|█▋        | 54/309 [00:06<00:34,  7.46it/s]\u001b[A\nOpen files to import:  18%|█▊        | 55/309 [00:07<00:35,  7.25it/s]\u001b[A\nOpen files to import:  18%|█▊        | 56/309 [00:07<00:34,  7.31it/s]\u001b[A\nOpen files to import:  18%|█▊        | 57/309 [00:07<00:34,  7.30it/s]\u001b[A\nOpen files to import:  19%|█▉        | 58/309 [00:07<00:34,  7.30it/s]\u001b[A\nOpen files to import:  19%|█▉        | 59/309 [00:07<00:32,  7.69it/s]\u001b[A\nOpen files to import:  19%|█▉        | 60/309 [00:07<00:30,  8.16it/s]\u001b[A\nOpen files to import:  20%|█▉        | 61/309 [00:07<00:30,  8.23it/s]\u001b[A\nOpen files to import:  20%|██        | 62/309 [00:07<00:30,  8.08it/s]\u001b[A\nOpen files to import:  20%|██        | 63/309 [00:08<00:32,  7.66it/s]\u001b[A\nOpen files to import:  21%|██        | 64/309 [00:08<00:30,  8.14it/s]\u001b[A\nOpen files to import:  21%|██        | 65/309 [00:08<00:29,  8.15it/s]\u001b[A\nOpen files to import:  21%|██▏       | 66/309 [00:08<00:32,  7.57it/s]\u001b[A\nOpen files to import:  22%|██▏       | 67/309 [00:08<00:32,  7.45it/s]\u001b[A\nOpen files to import:  22%|██▏       | 68/309 [00:08<00:30,  7.82it/s]\u001b[A\nOpen files to import:  22%|██▏       | 69/309 [00:08<00:29,  8.02it/s]\u001b[A\nOpen files to import:  23%|██▎       | 70/309 [00:08<00:33,  7.12it/s]\u001b[A\nOpen files to import:  23%|██▎       | 71/309 [00:09<00:32,  7.30it/s]\u001b[A\nOpen files to import:  23%|██▎       | 72/309 [00:09<00:30,  7.72it/s]\u001b[A\nOpen files to import:  24%|██▎       | 73/309 [00:09<00:29,  7.99it/s]\u001b[A\nOpen files to import:  24%|██▍       | 74/309 [00:09<00:29,  7.86it/s]\u001b[A\nOpen files to import:  24%|██▍       | 75/309 [00:09<00:31,  7.51it/s]\u001b[A\nOpen files to import:  25%|██▍       | 76/309 [00:09<00:29,  7.96it/s]\u001b[A\nOpen files to import:  25%|██▍       | 77/309 [00:09<00:28,  8.20it/s]\u001b[A\nOpen files to import:  25%|██▌       | 78/309 [00:09<00:28,  7.98it/s]\u001b[A\nOpen files to import:  26%|██▌       | 79/309 [00:10<00:30,  7.66it/s]\u001b[A\nOpen files to import:  26%|██▌       | 80/309 [00:10<00:29,  7.75it/s]\u001b[A\nOpen files to import:  26%|██▌       | 81/309 [00:10<00:28,  8.07it/s]\u001b[A\nOpen files to import:  27%|██▋       | 82/309 [00:10<00:28,  8.11it/s]\u001b[A\nOpen files to import:  27%|██▋       | 83/309 [00:10<00:28,  8.00it/s]\u001b[A\nOpen files to import:  27%|██▋       | 84/309 [00:10<00:27,  8.11it/s]\u001b[A\nOpen files to import:  28%|██▊       | 85/309 [00:10<00:27,  8.24it/s]\u001b[A\nOpen files to import:  28%|██▊       | 86/309 [00:10<00:28,  7.93it/s]\u001b[A\nOpen files to import:  28%|██▊       | 87/309 [00:11<00:28,  7.87it/s]\u001b[A\nOpen files to import:  28%|██▊       | 88/309 [00:11<00:28,  7.69it/s]\u001b[A\nOpen files to import:  29%|██▉       | 89/309 [00:11<00:27,  7.95it/s]\u001b[A\nOpen files to import:  29%|██▉       | 90/309 [00:11<00:27,  7.83it/s]\u001b[A\nOpen files to import:  29%|██▉       | 91/309 [00:11<00:28,  7.70it/s]\u001b[A\nOpen files to import:  30%|██▉       | 92/309 [00:11<00:28,  7.49it/s]\u001b[A\nOpen files to import:  30%|███       | 93/309 [00:11<00:27,  7.72it/s]\u001b[A\nOpen files to import:  30%|███       | 94/309 [00:12<00:29,  7.37it/s]\u001b[A\nOpen files to import:  31%|███       | 95/309 [00:12<00:28,  7.50it/s]\u001b[A\nOpen files to import:  31%|███       | 96/309 [00:12<00:28,  7.52it/s]\u001b[A\nOpen files to import:  31%|███▏      | 97/309 [00:12<00:26,  7.89it/s]\u001b[A\nOpen files to import:  32%|███▏      | 99/309 [00:12<00:23,  8.87it/s]\u001b[A\nOpen files to import:  33%|███▎      | 101/309 [00:12<00:20, 10.11it/s]\u001b[A\nOpen files to import:  33%|███▎      | 103/309 [00:12<00:18, 11.16it/s]\u001b[A\nOpen files to import:  34%|███▍      | 105/309 [00:12<00:16, 12.25it/s]\u001b[A\nOpen files to import:  35%|███▍      | 107/309 [00:13<00:19, 10.54it/s]\u001b[A\nOpen files to import:  35%|███▌      | 109/309 [00:13<00:19, 10.06it/s]\u001b[A\nOpen files to import:  36%|███▌      | 111/309 [00:13<00:21,  9.17it/s]\u001b[A\nOpen files to import:  36%|███▌      | 112/309 [00:13<00:22,  8.60it/s]\u001b[A\nOpen files to import:  37%|███▋      | 113/309 [00:13<00:23,  8.49it/s]\u001b[A\nOpen files to import:  37%|███▋      | 114/309 [00:14<00:22,  8.53it/s]\u001b[A\nOpen files to import:  37%|███▋      | 115/309 [00:14<00:23,  8.10it/s]\u001b[A\nOpen files to import:  38%|███▊      | 116/309 [00:14<00:24,  7.73it/s]\u001b[A\nOpen files to import:  38%|███▊      | 117/309 [00:14<00:24,  7.98it/s]\u001b[A\nOpen files to import:  38%|███▊      | 118/309 [00:14<00:23,  8.00it/s]\u001b[A\nOpen files to import:  39%|███▉      | 120/309 [00:14<00:22,  8.41it/s]\u001b[A\nOpen files to import:  39%|███▉      | 121/309 [00:14<00:23,  8.14it/s]\u001b[A\nOpen files to import:  39%|███▉      | 122/309 [00:15<00:21,  8.51it/s]\u001b[A\nOpen files to import:  40%|███▉      | 123/309 [00:15<00:22,  8.25it/s]\u001b[A\nOpen files to import:  40%|████      | 124/309 [00:15<00:24,  7.59it/s]\u001b[A\nOpen files to import:  40%|████      | 125/309 [00:15<00:23,  7.93it/s]\u001b[A\nOpen files to import:  41%|████      | 126/309 [00:15<00:21,  8.37it/s]\u001b[A\nOpen files to import:  41%|████      | 127/309 [00:15<00:22,  7.96it/s]\u001b[A\nOpen files to import:  41%|████▏     | 128/309 [00:15<00:22,  7.97it/s]\u001b[A\nOpen files to import:  42%|████▏     | 129/309 [00:15<00:23,  7.61it/s]\u001b[A\nOpen files to import:  42%|████▏     | 130/309 [00:16<00:22,  7.79it/s]\u001b[A\nOpen files to import:  42%|████▏     | 131/309 [00:16<00:22,  8.02it/s]\u001b[A\nOpen files to import:  43%|████▎     | 132/309 [00:16<00:22,  7.77it/s]\u001b[A\nOpen files to import:  43%|████▎     | 134/309 [00:16<00:20,  8.41it/s]\u001b[A\nOpen files to import:  44%|████▎     | 135/309 [00:16<00:21,  8.28it/s]\u001b[A\nOpen files to import:  44%|████▍     | 136/309 [00:16<00:21,  7.92it/s]\u001b[A\nOpen files to import:  44%|████▍     | 137/309 [00:16<00:23,  7.36it/s]\u001b[A\nOpen files to import:  45%|████▍     | 138/309 [00:17<00:22,  7.72it/s]\u001b[A\nOpen files to import:  45%|████▍     | 139/309 [00:17<00:22,  7.73it/s]\u001b[A\nOpen files to import:  45%|████▌     | 140/309 [00:17<00:24,  6.83it/s]\u001b[A\nOpen files to import:  46%|████▌     | 141/309 [00:17<00:24,  6.98it/s]\u001b[A\nOpen files to import:  46%|████▌     | 142/309 [00:17<00:22,  7.48it/s]\u001b[A\nOpen files to import:  46%|████▋     | 143/309 [00:17<00:20,  8.03it/s]\u001b[A\nOpen files to import:  47%|████▋     | 144/309 [00:17<00:21,  7.58it/s]\u001b[A\nOpen files to import:  47%|████▋     | 146/309 [00:18<00:18,  8.71it/s]\u001b[A\nOpen files to import:  48%|████▊     | 147/309 [00:18<00:18,  8.73it/s]\u001b[A\nOpen files to import:  48%|████▊     | 149/309 [00:18<00:16,  9.68it/s]\u001b[A\nOpen files to import:  49%|████▉     | 151/309 [00:18<00:15, 10.51it/s]\u001b[A\nOpen files to import:  50%|████▉     | 153/309 [00:18<00:13, 11.24it/s]\u001b[A\nOpen files to import:  50%|█████     | 155/309 [00:18<00:14, 10.85it/s]\u001b[A\nOpen files to import:  51%|█████     | 157/309 [00:19<00:15,  9.66it/s]\u001b[A\nOpen files to import:  51%|█████▏    | 159/309 [00:19<00:15,  9.84it/s]\u001b[A\nOpen files to import:  52%|█████▏    | 161/309 [00:19<00:14, 10.48it/s]\u001b[A\nOpen files to import:  53%|█████▎    | 163/309 [00:19<00:14, 10.34it/s]\u001b[A\nOpen files to import:  53%|█████▎    | 165/309 [00:19<00:15,  9.25it/s]\u001b[A\nOpen files to import:  54%|█████▎    | 166/309 [00:19<00:15,  9.20it/s]\u001b[A\nOpen files to import:  54%|█████▍    | 168/309 [00:20<00:13, 10.14it/s]\u001b[A\nOpen files to import:  55%|█████▌    | 170/309 [00:20<00:15,  9.13it/s]\u001b[A\nOpen files to import:  56%|█████▌    | 172/309 [00:20<00:14,  9.77it/s]\u001b[A\nOpen files to import:  56%|█████▋    | 174/309 [00:20<00:14,  9.09it/s]\u001b[A\nOpen files to import:  57%|█████▋    | 175/309 [00:20<00:15,  8.40it/s]\u001b[A\nOpen files to import:  57%|█████▋    | 176/309 [00:21<00:15,  8.53it/s]\u001b[A\nOpen files to import:  58%|█████▊    | 178/309 [00:21<00:13,  9.38it/s]\u001b[A\nOpen files to import:  58%|█████▊    | 180/309 [00:21<00:12,  9.93it/s]\u001b[A\nOpen files to import:  59%|█████▉    | 182/309 [00:21<00:12,  9.90it/s]\u001b[A\nOpen files to import:  60%|█████▉    | 184/309 [00:21<00:13,  9.48it/s]\u001b[A\nOpen files to import:  60%|█████▉    | 185/309 [00:21<00:14,  8.58it/s]\u001b[A\nOpen files to import:  60%|██████    | 186/309 [00:22<00:14,  8.23it/s]\u001b[A\nOpen files to import:  61%|██████    | 187/309 [00:22<00:16,  7.55it/s]\u001b[A\nOpen files to import:  61%|██████    | 188/309 [00:22<00:16,  7.31it/s]\u001b[A\nOpen files to import:  61%|██████    | 189/309 [00:22<00:15,  7.66it/s]\u001b[A\nOpen files to import:  61%|██████▏   | 190/309 [00:22<00:15,  7.65it/s]\u001b[A\nOpen files to import:  62%|██████▏   | 191/309 [00:22<00:14,  7.95it/s]\u001b[A\nOpen files to import:  62%|██████▏   | 192/309 [00:22<00:13,  8.39it/s]\u001b[A\nOpen files to import:  62%|██████▏   | 193/309 [00:22<00:13,  8.79it/s]\u001b[A\nOpen files to import:  63%|██████▎   | 194/309 [00:23<00:12,  8.97it/s]\u001b[A\nOpen files to import:  63%|██████▎   | 195/309 [00:23<00:12,  8.96it/s]\u001b[A\nOpen files to import:  63%|██████▎   | 196/309 [00:23<00:12,  8.97it/s]\u001b[A\nOpen files to import:  64%|██████▍   | 198/309 [00:23<00:11,  9.36it/s]\u001b[A\nOpen files to import:  65%|██████▍   | 200/309 [00:23<00:11,  9.43it/s]\u001b[A\nOpen files to import:  65%|██████▌   | 201/309 [00:23<00:12,  8.36it/s]\u001b[A\nOpen files to import:  65%|██████▌   | 202/309 [00:24<00:13,  7.99it/s]\u001b[A\nOpen files to import:  66%|██████▌   | 203/309 [00:24<00:12,  8.40it/s]\u001b[A\nOpen files to import:  66%|██████▌   | 204/309 [00:24<00:13,  7.96it/s]\u001b[A\nOpen files to import:  66%|██████▋   | 205/309 [00:24<00:13,  7.87it/s]\u001b[A\nOpen files to import:  67%|██████▋   | 206/309 [00:24<00:12,  7.97it/s]\u001b[A\nOpen files to import:  67%|██████▋   | 207/309 [00:24<00:13,  7.64it/s]\u001b[A\nOpen files to import:  67%|██████▋   | 208/309 [00:24<00:13,  7.29it/s]\u001b[A\nOpen files to import:  68%|██████▊   | 209/309 [00:24<00:13,  7.32it/s]\u001b[A\nOpen files to import:  68%|██████▊   | 210/309 [00:25<00:13,  7.35it/s]\u001b[A\nOpen files to import:  68%|██████▊   | 211/309 [00:25<00:13,  7.35it/s]\u001b[A\nOpen files to import:  69%|██████▊   | 212/309 [00:25<00:12,  7.48it/s]\u001b[A\nOpen files to import:  69%|██████▉   | 213/309 [00:25<00:12,  7.42it/s]\u001b[A\nOpen files to import:  69%|██████▉   | 214/309 [00:25<00:14,  6.73it/s]\u001b[A\nOpen files to import:  70%|██████▉   | 216/309 [00:25<00:12,  7.31it/s]\u001b[A\nOpen files to import:  70%|███████   | 217/309 [00:26<00:12,  7.09it/s]\u001b[A\nOpen files to import:  71%|███████   | 218/309 [00:26<00:12,  7.50it/s]\u001b[A\nOpen files to import:  71%|███████   | 220/309 [00:26<00:10,  8.46it/s]\u001b[A\nOpen files to import:  72%|███████▏  | 221/309 [00:26<00:10,  8.59it/s]\u001b[A\nOpen files to import:  72%|███████▏  | 222/309 [00:26<00:09,  8.97it/s]\u001b[A\nOpen files to import:  72%|███████▏  | 224/309 [00:26<00:08,  9.66it/s]\u001b[A\nOpen files to import:  73%|███████▎  | 226/309 [00:26<00:08,  9.49it/s]\u001b[A\nOpen files to import:  74%|███████▍  | 228/309 [00:27<00:08,  9.94it/s]\u001b[A\nOpen files to import:  74%|███████▍  | 230/309 [00:27<00:07, 10.21it/s]\u001b[A\nOpen files to import:  75%|███████▌  | 232/309 [00:27<00:07, 10.12it/s]\u001b[A\nOpen files to import:  76%|███████▌  | 234/309 [00:27<00:07, 10.22it/s]\u001b[A\nOpen files to import:  76%|███████▋  | 236/309 [00:27<00:07,  9.16it/s]\u001b[A\nOpen files to import:  77%|███████▋  | 237/309 [00:28<00:07,  9.34it/s]\u001b[A\nOpen files to import:  77%|███████▋  | 239/309 [00:28<00:06, 10.09it/s]\u001b[A\nOpen files to import:  78%|███████▊  | 241/309 [00:28<00:07,  9.71it/s]\u001b[A\nOpen files to import:  79%|███████▊  | 243/309 [00:28<00:06, 10.34it/s]\u001b[A\nOpen files to import:  79%|███████▉  | 245/309 [00:28<00:06, 10.20it/s]\u001b[A\nOpen files to import:  80%|███████▉  | 247/309 [00:28<00:05, 10.88it/s]\u001b[A\nOpen files to import:  81%|████████  | 249/309 [00:29<00:05, 10.63it/s]\u001b[A\nOpen files to import:  81%|████████  | 251/309 [00:29<00:05, 10.95it/s]\u001b[A\nOpen files to import:  82%|████████▏ | 253/309 [00:29<00:05, 10.49it/s]\u001b[A\nOpen files to import:  83%|████████▎ | 255/309 [00:29<00:04, 10.97it/s]\u001b[A\nOpen files to import:  83%|████████▎ | 257/309 [00:29<00:04, 10.64it/s]\u001b[A\nOpen files to import:  84%|████████▍ | 259/309 [00:30<00:04, 11.34it/s]\u001b[A\nOpen files to import:  84%|████████▍ | 261/309 [00:30<00:04, 10.56it/s]\u001b[A\nOpen files to import:  85%|████████▌ | 263/309 [00:30<00:04, 11.01it/s]\u001b[A\nOpen files to import:  86%|████████▌ | 265/309 [00:30<00:04, 10.44it/s]\u001b[A\nOpen files to import:  86%|████████▋ | 267/309 [00:30<00:03, 10.98it/s]\u001b[A\nOpen files to import:  87%|████████▋ | 269/309 [00:30<00:03, 10.68it/s]\u001b[A\nOpen files to import:  88%|████████▊ | 271/309 [00:31<00:03, 10.98it/s]\u001b[A\nOpen files to import:  88%|████████▊ | 273/309 [00:31<00:03, 10.38it/s]\u001b[A\nOpen files to import:  89%|████████▉ | 275/309 [00:31<00:03, 10.83it/s]\u001b[A\nOpen files to import:  90%|████████▉ | 277/309 [00:31<00:03, 10.40it/s]\u001b[A\nOpen files to import:  90%|█████████ | 279/309 [00:31<00:02, 10.93it/s]\u001b[A\nOpen files to import:  91%|█████████ | 281/309 [00:32<00:02, 10.48it/s]\u001b[A\nOpen files to import:  92%|█████████▏| 283/309 [00:32<00:02, 10.87it/s]\u001b[A\nOpen files to import:  92%|█████████▏| 285/309 [00:32<00:02, 10.09it/s]\u001b[A\nOpen files to import:  93%|█████████▎| 287/309 [00:32<00:02, 10.03it/s]\u001b[A\nOpen files to import:  94%|█████████▎| 289/309 [00:32<00:02,  9.74it/s]\u001b[A\nOpen files to import:  94%|█████████▍| 290/309 [00:33<00:01,  9.76it/s]\u001b[A\nOpen files to import:  94%|█████████▍| 291/309 [00:33<00:02,  8.77it/s]\u001b[A\nOpen files to import:  94%|█████████▍| 292/309 [00:33<00:01,  8.74it/s]\u001b[A\nOpen files to import:  95%|█████████▌| 294/309 [00:33<00:01,  9.25it/s]\u001b[A\nOpen files to import:  95%|█████████▌| 295/309 [00:33<00:01,  8.58it/s]\u001b[A\nOpen files to import:  96%|█████████▌| 296/309 [00:33<00:01,  8.70it/s]\u001b[A\nOpen files to import:  96%|█████████▌| 297/309 [00:33<00:01,  8.96it/s]\u001b[A\nOpen files to import:  96%|█████████▋| 298/309 [00:33<00:01,  8.47it/s]\u001b[A\nOpen files to import:  97%|█████████▋| 299/309 [00:34<00:01,  8.16it/s]\u001b[A\nOpen files to import:  97%|█████████▋| 300/309 [00:34<00:01,  8.50it/s]\u001b[A\nOpen files to import:  97%|█████████▋| 301/309 [00:34<00:00,  8.30it/s]\u001b[A\nOpen files to import:  98%|█████████▊| 302/309 [00:34<00:00,  8.11it/s]\u001b[A\nOpen files to import:  98%|█████████▊| 304/309 [00:34<00:00,  7.53it/s]\u001b[A\nOpen files to import:  99%|█████████▊| 305/309 [00:34<00:00,  8.02it/s]\u001b[A\nOpen files to import:  99%|█████████▉| 306/309 [00:35<00:00,  8.29it/s]\u001b[A\nOpen files to import: 100%|██████████| 309/309 [00:35<00:00,  8.79it/s]\nImport data from each dataset:  40%|████      | 2/5 [01:47<02:47, 55.90s/it]\nOpen files to import:   0%|          | 0/4 [00:00<?, ?it/s]\u001b[A\nOpen files to import: 100%|██████████| 4/4 [00:00<00:00, 30.28it/s]\nImport data from each dataset:  60%|██████    | 3/5 [01:47<01:18, 39.18s/it]\nSampLog: Folder 1\nNWL: Folder 1\nOpen files to import:   0%|          | 0/7 [00:00<?, ?it/s]\u001b[A\nOpen files to import:  14%|█▍        | 1/7 [00:00<00:01,  5.49it/s]\u001b[A\nOpen files to import:  43%|████▎     | 3/7 [00:00<00:00,  6.51it/s]\u001b[A\nOpen files to import:  57%|█████▋    | 4/7 [00:00<00:00,  6.74it/s]\u001b[A\nOpen files to import:  71%|███████▏  | 5/7 [00:00<00:00,  7.24it/s]\u001b[A\nOpen files to import: 100%|██████████| 7/7 [00:00<00:00,  9.61it/s]\nImport data from each dataset:  80%|████████  | 4/5 [01:48<00:27, 27.66s/it]UO: Folder 1\nRetrieving latest Urban Observatory data...\n\nOpen files to import:   0%|          | 0/4 [00:00<?, ?it/s]\u001b[AUrban Observatory data up-to-date!\n\nOpen files to import: 100%|██████████| 4/4 [00:05<00:00,  1.34s/it]\nImport data from each dataset: 100%|██████████| 5/5 [01:54<00:00, 22.90s/it]\n"
    }
   ],
   "source": [
    "dataset_data = []\n",
    "for dataset in tqdm(selected_datasets, desc = \"Import data from each dataset\"):\n",
    "    dataset_data.append(import_data(dataset))"
   ]
  },
  {
   "cell_type": "code",
   "execution_count": 32,
   "metadata": {},
   "outputs": [
    {
     "data": {
      "text/plain": "[                        DateTime  BES_A1__V  BES_A2__V  BES_A3__V  BES_A4__V  \\\n 777    2019-06-04 13:03:45+00:00       44.0      219.2      213.0      221.8   \n 778    2019-06-04 13:04:45+00:00       95.1      231.7      244.1      221.9   \n 779    2019-06-04 13:05:45+00:00       64.9      217.5      225.8      222.2   \n 780    2019-06-04 13:06:45+00:00       58.9      217.3      217.9      220.2   \n 781    2019-06-04 13:07:45+00:00       58.9      208.6      217.5      221.2   \n ...                          ...        ...        ...        ...        ...   \n 347301 2020-02-06 12:40:20+00:00       15.3       18.0       13.3       14.9   \n 347302 2020-02-06 12:41:20+00:00       15.5       18.2       13.7       14.9   \n 347303 2020-02-06 12:42:20+00:00       15.3       18.3       13.4       15.1   \n 347304 2020-02-06 12:43:20+00:00       15.4       18.0       13.8       14.9   \n 347305 2020-02-06 12:44:20+00:00       15.3       18.1       13.5       15.1   \n \n         BES_B1__V  BES_B2__V  BES_B3__V  BES_B4__V  BES_C1__V  ...  \\\n 777         288.2      289.0      328.2      329.1      245.9  ...   \n 778         288.6      282.9      325.6      327.3      274.5  ...   \n 779         288.4      289.3      329.5      329.5      248.4  ...   \n 780         293.2      290.5      330.3      329.6      248.8  ...   \n 781         297.8      291.0      330.4      329.7      248.6  ...   \n ...           ...        ...        ...        ...        ...  ...   \n 347301       19.9       13.1       15.8        8.1       20.3  ...   \n 347302       20.1       13.2       15.9        8.5       20.3  ...   \n 347303       20.1       13.1       16.0        8.2       20.6  ...   \n 347304       20.3       13.0       15.9        8.4       20.3  ...   \n 347305       19.9       13.1       15.8        8.1       20.5  ...   \n \n         TEMP_MAT_1  TEMP_MAT_2  TEMP_MAT_3  PRESSURE_OS  PRESSURE_A  \\\n 777           36.0        40.0        35.0         36.0         5.0   \n 778           36.0        39.0        34.0         36.0         5.0   \n 779           43.0        43.0        40.0         36.0         5.0   \n 780           40.0        42.0        37.0         36.0         5.0   \n 781           37.0        40.0        35.0         37.0         5.0   \n ...            ...         ...         ...          ...         ...   \n 347301        12.0        11.0        12.0         26.0         6.0   \n 347302        12.0        11.0        12.0         26.0         7.0   \n 347303        12.0        11.0        12.0         27.0         8.0   \n 347304        12.0        11.0        12.0         26.0         7.0   \n 347305        12.0        11.0        12.0         26.0         6.0   \n \n         PRESSURE_B  PRESSURE_C  SENSOR_pH  SENSOR_CONDUCTIVITY  SENSOR_TILT  \n 777           -0.0        -3.0       7.10             1.340000          6.0  \n 778            0.0        -3.0       7.14             1.400000          6.0  \n 779           -0.0        -3.0       7.14             1.340000          6.0  \n 780           -0.0        -3.0       7.14             1.390000          6.0  \n 781           -0.0        -3.0       7.14             1.390000          6.0  \n ...            ...         ...        ...                  ...          ...  \n 347301         0.0         2.0       7.16           609.070007         -0.0  \n 347302         2.0        -0.0       7.16           603.390015         -0.0  \n 347303         1.0        -1.0       7.16           604.070007         -0.0  \n 347304         0.0         1.0       7.16           604.250000         -0.0  \n 347305         0.0         2.0       7.16           603.659973         -0.0  \n \n [346529 rows x 51 columns],\n                               DateTime  Inlet_pH  Inlet_Temp1  Inlet_DO  \\\n 0     2019-11-24 08:31:25.995000+00:00  7.062508     9.400920  0.185547   \n 1     2019-11-24 08:32:25.996000+00:00  7.062508     9.400920  0.185547   \n 2     2019-11-24 08:33:25.997000+00:00  7.062508     9.400920  0.185547   \n 3     2019-11-24 08:34:25.999000+00:00  7.062508     9.400920  0.185547   \n 4     2019-11-24 08:35:26.001000+00:00  7.062508     9.400920  0.184571   \n ...                                ...       ...          ...       ...   \n 34554 2019-12-18 08:27:17.869000+00:00  6.656258     3.550015  0.225586   \n 34555 2019-12-18 08:28:17.870000+00:00  6.656258     3.561050  0.226563   \n 34556 2019-12-18 08:29:17.873000+00:00  6.656258     3.556755  0.225586   \n 34557 2019-12-18 08:30:17.875000+00:00  6.656258     3.555530  0.225586   \n 34558 2019-12-18 08:31:17.875000+00:00  6.656258     3.554300  0.225586   \n \n        Inlet_Temp2  \n 0         9.570636  \n 1         9.587084  \n 2         9.567180  \n 3         9.577292  \n 4         9.600368  \n ...            ...  \n 34554     3.998584  \n 34555     3.987871  \n 34556     3.993816  \n 34557     3.994568  \n 34558     3.996008  \n \n [34559 rows x 5 columns],\n                      DateTime  BOD5_1  BOD5_2  BOD5_3      BOD5_4      BOD5_5  \\\n 180 2019-06-06 09:34:00+00:00     NaN     NaN     NaN         NaN         NaN   \n 181 2019-06-06 09:40:00+00:00  157.51  154.84  172.84  158.686154  183.301538   \n 182 2019-06-11 08:05:00+00:00     NaN     NaN     NaN         NaN         NaN   \n 183 2019-06-12 09:30:00+00:00   96.10   95.70   89.70  106.033333  105.633333   \n 184 2019-06-12 09:30:00+00:00     NaN     NaN     NaN         NaN         NaN   \n ..                        ...     ...     ...     ...         ...         ...   \n 245 2019-12-12 15:50:00+00:00     NaN     NaN     NaN         NaN         NaN   \n 246 2019-12-16 15:27:00+00:00     NaN     NaN     NaN         NaN         NaN   \n 247 2019-12-18 13:25:00+00:00     NaN     NaN     NaN         NaN         NaN   \n 248 2020-01-07 15:55:00+00:00     NaN     NaN     NaN         NaN         NaN   \n 249 2020-01-21 09:50:00+00:00     NaN     NaN     NaN         NaN         NaN   \n \n          BOD5_6      tCOD_1      tCOD_2      sCOD_1      sCOD_2  \n 180         NaN  400.333333  383.333333         NaN  191.333333  \n 181  169.455385  350.333333  344.666667  191.333333  187.666667  \n 182         NaN  270.000000  282.000000  173.000000  170.666667  \n 183  106.433333  234.666667  228.666667   94.000000   89.333333  \n 184         NaN  293.666667  306.000000   90.000000   82.333333  \n ..          ...         ...         ...         ...         ...  \n 245         NaN  293.333333  340.000000  209.000000  213.000000  \n 246         NaN  355.666667  356.333333  180.333333  181.000000  \n 247         NaN  284.666667  277.333333  154.666667  151.666667  \n 248         NaN  402.000000  411.666667  221.666667  220.333333  \n 249         NaN  236.333333  255.333333  118.333333  117.000000  \n \n [70 rows x 11 columns],\n                    DateTime NWL_BOD5 NWL_tCOD NWL_pH\n 3 2019-06-10 09:00:00+00:00       77      180    7.6\n 4 2019-07-09 11:30:00+00:00       69      210    7.3\n 5 2019-09-13 10:50:00+00:00      180      350    7.2\n 6 2019-10-23 07:40:00+00:00       49      140    7.5,\n Type                    DateTime  WU_Temp  EA_Uplevel  EA_Downlevel  \\\n 153518 2019-07-07 00:00:00+00:00      NaN       0.203         0.237   \n 153519 2019-07-07 00:15:00+00:00      NaN       0.204         0.236   \n 153520 2019-07-07 00:30:00+00:00      NaN         NaN         0.237   \n 153521 2019-07-07 00:45:00+00:00      NaN       0.204         0.236   \n 153522 2019-07-07 01:00:00+00:00      NaN       0.203         0.237   \n ...                          ...      ...         ...           ...   \n 162290 2019-10-09 04:45:00+00:00      NaN       0.402         0.291   \n 162291 2019-10-09 05:00:00+00:00      NaN       0.401         0.291   \n 162292 2019-10-09 05:15:00+00:00      NaN       0.401         0.293   \n 162293 2019-10-09 05:30:00+00:00      NaN       0.400         0.290   \n 162294 2019-10-09 05:45:00+00:00      NaN       0.400         0.296   \n \n Type    WU_Rainfall  \n 153518          NaN  \n 153519          NaN  \n 153520          NaN  \n 153521          NaN  \n 153522          NaN  \n ...             ...  \n 162290          NaN  \n 162291          NaN  \n 162292          NaN  \n 162293          NaN  \n 162294          NaN  \n \n [8777 rows x 5 columns]]"
     },
     "execution_count": 32,
     "metadata": {},
     "output_type": "execute_result"
    }
   ],
   "source": [
    "dataset_data"
   ]
  },
  {
   "cell_type": "code",
   "execution_count": null,
   "metadata": {},
   "outputs": [],
   "source": [
    "ave_df = pd.DataFrame()\n",
    "\n",
    "for date in tqdm(day_df_wide['DateTime'].unique(), desc = \"Average data\"):\n",
    "    for loc in day_df_wide[(day_df_wide['DateTime'] == date)]['Location'].unique():\n",
    "        selected_row = day_df_wide[(day_df_wide['DateTime'] == date) & (day_df_wide['Location'] == loc)]\n",
    "        for par in day_dfx['Type'].unique():\n",
    "            vals = selected_row[[s for s in day_df_wide.columns if par in s]].values.tolist()[0]\n",
    "            if list(pd.isna(vals)).count(False) > 0:\n",
    "                ave = np.nanmean(vals)\n",
    "                if list(pd.isna(vals)).count(False) > 2:\n",
    "                    err = np.nanstd(vals)\n",
    "                else:\n",
    "                    err = (max(vals) - min(vals))/2\n",
    "                ave_row = pd.DataFrame({\"DateTime\": selected_row['DateTime'], \"Location\": loc, \"Type\": par, \"Read_ave\": ave, \"Read_err\": err})\n",
    "                ave_df = ave_df.append(ave_row)\n",
    "ave_df"
   ]
  },
  {
   "cell_type": "code",
   "execution_count": 33,
   "metadata": {},
   "outputs": [],
   "source": [
    "all_data = pd.concat(dataset_data, axis=0, ignore_index=True, sort=False)\n",
    "all_data.sort_values(by=['DateTime'], inplace=True)\n",
    "cols = ['DateTime']  + [col for col in all_data if col != 'DateTime']\n",
    "all_data = all_data[cols]\n",
    "all_data = all_data.reset_index(drop=True)"
   ]
  },
  {
   "cell_type": "code",
   "execution_count": 34,
   "metadata": {},
   "outputs": [
    {
     "data": {
      "text/html": "<div>\n<style scoped>\n    .dataframe tbody tr th:only-of-type {\n        vertical-align: middle;\n    }\n\n    .dataframe tbody tr th {\n        vertical-align: top;\n    }\n\n    .dataframe thead th {\n        text-align: right;\n    }\n</style>\n<table border=\"1\" class=\"dataframe\">\n  <thead>\n    <tr style=\"text-align: right;\">\n      <th></th>\n      <th>DateTime</th>\n      <th>BES_A1__V</th>\n      <th>BES_A2__V</th>\n      <th>BES_A3__V</th>\n      <th>BES_A4__V</th>\n      <th>BES_B1__V</th>\n      <th>BES_B2__V</th>\n      <th>BES_B3__V</th>\n      <th>BES_B4__V</th>\n      <th>BES_C1__V</th>\n      <th>...</th>\n      <th>tCOD_2</th>\n      <th>sCOD_1</th>\n      <th>sCOD_2</th>\n      <th>NWL_BOD5</th>\n      <th>NWL_tCOD</th>\n      <th>NWL_pH</th>\n      <th>WU_Temp</th>\n      <th>EA_Uplevel</th>\n      <th>EA_Downlevel</th>\n      <th>WU_Rainfall</th>\n    </tr>\n  </thead>\n  <tbody>\n    <tr>\n      <th>0</th>\n      <td>2019-06-04 13:03:45+00:00</td>\n      <td>44.0</td>\n      <td>219.2</td>\n      <td>213.0</td>\n      <td>221.8</td>\n      <td>288.2</td>\n      <td>289.0</td>\n      <td>328.2</td>\n      <td>329.1</td>\n      <td>245.9</td>\n      <td>...</td>\n      <td>NaN</td>\n      <td>NaN</td>\n      <td>NaN</td>\n      <td>NaN</td>\n      <td>NaN</td>\n      <td>NaN</td>\n      <td>NaN</td>\n      <td>NaN</td>\n      <td>NaN</td>\n      <td>NaN</td>\n    </tr>\n    <tr>\n      <th>1</th>\n      <td>2019-06-04 13:04:45+00:00</td>\n      <td>95.1</td>\n      <td>231.7</td>\n      <td>244.1</td>\n      <td>221.9</td>\n      <td>288.6</td>\n      <td>282.9</td>\n      <td>325.6</td>\n      <td>327.3</td>\n      <td>274.5</td>\n      <td>...</td>\n      <td>NaN</td>\n      <td>NaN</td>\n      <td>NaN</td>\n      <td>NaN</td>\n      <td>NaN</td>\n      <td>NaN</td>\n      <td>NaN</td>\n      <td>NaN</td>\n      <td>NaN</td>\n      <td>NaN</td>\n    </tr>\n    <tr>\n      <th>2</th>\n      <td>2019-06-04 13:05:45+00:00</td>\n      <td>64.9</td>\n      <td>217.5</td>\n      <td>225.8</td>\n      <td>222.2</td>\n      <td>288.4</td>\n      <td>289.3</td>\n      <td>329.5</td>\n      <td>329.5</td>\n      <td>248.4</td>\n      <td>...</td>\n      <td>NaN</td>\n      <td>NaN</td>\n      <td>NaN</td>\n      <td>NaN</td>\n      <td>NaN</td>\n      <td>NaN</td>\n      <td>NaN</td>\n      <td>NaN</td>\n      <td>NaN</td>\n      <td>NaN</td>\n    </tr>\n    <tr>\n      <th>3</th>\n      <td>2019-06-04 13:06:45+00:00</td>\n      <td>58.9</td>\n      <td>217.3</td>\n      <td>217.9</td>\n      <td>220.2</td>\n      <td>293.2</td>\n      <td>290.5</td>\n      <td>330.3</td>\n      <td>329.6</td>\n      <td>248.8</td>\n      <td>...</td>\n      <td>NaN</td>\n      <td>NaN</td>\n      <td>NaN</td>\n      <td>NaN</td>\n      <td>NaN</td>\n      <td>NaN</td>\n      <td>NaN</td>\n      <td>NaN</td>\n      <td>NaN</td>\n      <td>NaN</td>\n    </tr>\n    <tr>\n      <th>4</th>\n      <td>2019-06-04 13:07:45+00:00</td>\n      <td>58.9</td>\n      <td>208.6</td>\n      <td>217.5</td>\n      <td>221.2</td>\n      <td>297.8</td>\n      <td>291.0</td>\n      <td>330.4</td>\n      <td>329.7</td>\n      <td>248.6</td>\n      <td>...</td>\n      <td>NaN</td>\n      <td>NaN</td>\n      <td>NaN</td>\n      <td>NaN</td>\n      <td>NaN</td>\n      <td>NaN</td>\n      <td>NaN</td>\n      <td>NaN</td>\n      <td>NaN</td>\n      <td>NaN</td>\n    </tr>\n    <tr>\n      <th>...</th>\n      <td>...</td>\n      <td>...</td>\n      <td>...</td>\n      <td>...</td>\n      <td>...</td>\n      <td>...</td>\n      <td>...</td>\n      <td>...</td>\n      <td>...</td>\n      <td>...</td>\n      <td>...</td>\n      <td>...</td>\n      <td>...</td>\n      <td>...</td>\n      <td>...</td>\n      <td>...</td>\n      <td>...</td>\n      <td>...</td>\n      <td>...</td>\n      <td>...</td>\n      <td>...</td>\n    </tr>\n    <tr>\n      <th>389934</th>\n      <td>2020-02-06 12:40:20+00:00</td>\n      <td>15.3</td>\n      <td>18.0</td>\n      <td>13.3</td>\n      <td>14.9</td>\n      <td>19.9</td>\n      <td>13.1</td>\n      <td>15.8</td>\n      <td>8.1</td>\n      <td>20.3</td>\n      <td>...</td>\n      <td>NaN</td>\n      <td>NaN</td>\n      <td>NaN</td>\n      <td>NaN</td>\n      <td>NaN</td>\n      <td>NaN</td>\n      <td>NaN</td>\n      <td>NaN</td>\n      <td>NaN</td>\n      <td>NaN</td>\n    </tr>\n    <tr>\n      <th>389935</th>\n      <td>2020-02-06 12:41:20+00:00</td>\n      <td>15.5</td>\n      <td>18.2</td>\n      <td>13.7</td>\n      <td>14.9</td>\n      <td>20.1</td>\n      <td>13.2</td>\n      <td>15.9</td>\n      <td>8.5</td>\n      <td>20.3</td>\n      <td>...</td>\n      <td>NaN</td>\n      <td>NaN</td>\n      <td>NaN</td>\n      <td>NaN</td>\n      <td>NaN</td>\n      <td>NaN</td>\n      <td>NaN</td>\n      <td>NaN</td>\n      <td>NaN</td>\n      <td>NaN</td>\n    </tr>\n    <tr>\n      <th>389936</th>\n      <td>2020-02-06 12:42:20+00:00</td>\n      <td>15.3</td>\n      <td>18.3</td>\n      <td>13.4</td>\n      <td>15.1</td>\n      <td>20.1</td>\n      <td>13.1</td>\n      <td>16.0</td>\n      <td>8.2</td>\n      <td>20.6</td>\n      <td>...</td>\n      <td>NaN</td>\n      <td>NaN</td>\n      <td>NaN</td>\n      <td>NaN</td>\n      <td>NaN</td>\n      <td>NaN</td>\n      <td>NaN</td>\n      <td>NaN</td>\n      <td>NaN</td>\n      <td>NaN</td>\n    </tr>\n    <tr>\n      <th>389937</th>\n      <td>2020-02-06 12:43:20+00:00</td>\n      <td>15.4</td>\n      <td>18.0</td>\n      <td>13.8</td>\n      <td>14.9</td>\n      <td>20.3</td>\n      <td>13.0</td>\n      <td>15.9</td>\n      <td>8.4</td>\n      <td>20.3</td>\n      <td>...</td>\n      <td>NaN</td>\n      <td>NaN</td>\n      <td>NaN</td>\n      <td>NaN</td>\n      <td>NaN</td>\n      <td>NaN</td>\n      <td>NaN</td>\n      <td>NaN</td>\n      <td>NaN</td>\n      <td>NaN</td>\n    </tr>\n    <tr>\n      <th>389938</th>\n      <td>2020-02-06 12:44:20+00:00</td>\n      <td>15.3</td>\n      <td>18.1</td>\n      <td>13.5</td>\n      <td>15.1</td>\n      <td>19.9</td>\n      <td>13.1</td>\n      <td>15.8</td>\n      <td>8.1</td>\n      <td>20.5</td>\n      <td>...</td>\n      <td>NaN</td>\n      <td>NaN</td>\n      <td>NaN</td>\n      <td>NaN</td>\n      <td>NaN</td>\n      <td>NaN</td>\n      <td>NaN</td>\n      <td>NaN</td>\n      <td>NaN</td>\n      <td>NaN</td>\n    </tr>\n  </tbody>\n</table>\n<p>389939 rows × 72 columns</p>\n</div>",
      "text/plain": "                        DateTime  BES_A1__V  BES_A2__V  BES_A3__V  BES_A4__V  \\\n0      2019-06-04 13:03:45+00:00       44.0      219.2      213.0      221.8   \n1      2019-06-04 13:04:45+00:00       95.1      231.7      244.1      221.9   \n2      2019-06-04 13:05:45+00:00       64.9      217.5      225.8      222.2   \n3      2019-06-04 13:06:45+00:00       58.9      217.3      217.9      220.2   \n4      2019-06-04 13:07:45+00:00       58.9      208.6      217.5      221.2   \n...                          ...        ...        ...        ...        ...   \n389934 2020-02-06 12:40:20+00:00       15.3       18.0       13.3       14.9   \n389935 2020-02-06 12:41:20+00:00       15.5       18.2       13.7       14.9   \n389936 2020-02-06 12:42:20+00:00       15.3       18.3       13.4       15.1   \n389937 2020-02-06 12:43:20+00:00       15.4       18.0       13.8       14.9   \n389938 2020-02-06 12:44:20+00:00       15.3       18.1       13.5       15.1   \n\n        BES_B1__V  BES_B2__V  BES_B3__V  BES_B4__V  BES_C1__V  ...  tCOD_2  \\\n0           288.2      289.0      328.2      329.1      245.9  ...     NaN   \n1           288.6      282.9      325.6      327.3      274.5  ...     NaN   \n2           288.4      289.3      329.5      329.5      248.4  ...     NaN   \n3           293.2      290.5      330.3      329.6      248.8  ...     NaN   \n4           297.8      291.0      330.4      329.7      248.6  ...     NaN   \n...           ...        ...        ...        ...        ...  ...     ...   \n389934       19.9       13.1       15.8        8.1       20.3  ...     NaN   \n389935       20.1       13.2       15.9        8.5       20.3  ...     NaN   \n389936       20.1       13.1       16.0        8.2       20.6  ...     NaN   \n389937       20.3       13.0       15.9        8.4       20.3  ...     NaN   \n389938       19.9       13.1       15.8        8.1       20.5  ...     NaN   \n\n        sCOD_1  sCOD_2  NWL_BOD5  NWL_tCOD  NWL_pH  WU_Temp  EA_Uplevel  \\\n0          NaN     NaN       NaN       NaN     NaN      NaN         NaN   \n1          NaN     NaN       NaN       NaN     NaN      NaN         NaN   \n2          NaN     NaN       NaN       NaN     NaN      NaN         NaN   \n3          NaN     NaN       NaN       NaN     NaN      NaN         NaN   \n4          NaN     NaN       NaN       NaN     NaN      NaN         NaN   \n...        ...     ...       ...       ...     ...      ...         ...   \n389934     NaN     NaN       NaN       NaN     NaN      NaN         NaN   \n389935     NaN     NaN       NaN       NaN     NaN      NaN         NaN   \n389936     NaN     NaN       NaN       NaN     NaN      NaN         NaN   \n389937     NaN     NaN       NaN       NaN     NaN      NaN         NaN   \n389938     NaN     NaN       NaN       NaN     NaN      NaN         NaN   \n\n        EA_Downlevel  WU_Rainfall  \n0                NaN          NaN  \n1                NaN          NaN  \n2                NaN          NaN  \n3                NaN          NaN  \n4                NaN          NaN  \n...              ...          ...  \n389934           NaN          NaN  \n389935           NaN          NaN  \n389936           NaN          NaN  \n389937           NaN          NaN  \n389938           NaN          NaN  \n\n[389939 rows x 72 columns]"
     },
     "execution_count": 34,
     "metadata": {},
     "output_type": "execute_result"
    }
   ],
   "source": [
    "all_data"
   ]
  },
  {
   "cell_type": "code",
   "execution_count": 35,
   "metadata": {},
   "outputs": [
    {
     "name": "stderr",
     "output_type": "stream",
     "text": "Assign data to Plot DFs: 100%|██████████| 4/4 [00:01<00:00,  2.61it/s]\nMelt DFs: 100%|██████████| 4/4 [00:14<00:00,  3.51s/it]\n"
    }
   ],
   "source": [
    "plot_dfs = []\n",
    "\n",
    "for plot in tqdm(plots, desc = \"Assign data to Plot DFs\"):\n",
    "    if info['plots'].loc[plot, 'plot_status'] == 'ON':\n",
    "        mask = (all_data['DateTime'] >= info['plots'].loc[plot, 'plot_range_start']) & (all_data['DateTime'] <= info['plots'].loc[plot, 'plot_range_end'])\n",
    "        df = all_data.loc[mask]\n",
    "        if info['plots'].loc[plot, 'plot_res'] != 0:\n",
    "            df = df.resample(\"\".join([str(info['plots'].loc[plot, 'plot_res']), 'T']), on='DateTime').mean()\n",
    "            df = df.reset_index()\n",
    "        else:\n",
    "            df = df.reset_index(drop=True)\n",
    "        plot_dfs.append(df)\n",
    "    else:\n",
    "        plot_dfs.append(\"\")\n",
    "\n",
    "plot_dfs_mlt = []\n",
    "\n",
    "a = 0\n",
    "for plot in tqdm(plots, desc = \"Melt DFs\"):\n",
    "    if info['plots'].loc[plot, 'plot_status'] == 'ON':\n",
    "        df = plot_dfs[a].melt(id_vars=['DateTime'], var_name='Parameter', value_name='Value')\n",
    "        plot_dfs_mlt.append(df)\n",
    "    else:\n",
    "        plot_dfs_mlt.append(\"\")\n",
    "    a = a + 1"
   ]
  },
  {
   "cell_type": "code",
   "execution_count": 36,
   "metadata": {},
   "outputs": [
    {
     "data": {
      "text/plain": "[                        DateTime    Parameter Value\n 0      2020-01-30 13:01:18+00:00    BES_A1__V  19.3\n 1      2020-01-30 13:02:18+00:00    BES_A1__V  19.3\n 2      2020-01-30 13:03:18+00:00    BES_A1__V  19.3\n 3      2020-01-30 13:04:18+00:00    BES_A1__V  19.3\n 4      2020-01-30 13:05:18+00:00    BES_A1__V  19.7\n ...                          ...          ...   ...\n 705593 2020-02-06 12:40:20+00:00  WU_Rainfall   NaN\n 705594 2020-02-06 12:41:20+00:00  WU_Rainfall   NaN\n 705595 2020-02-06 12:42:20+00:00  WU_Rainfall   NaN\n 705596 2020-02-06 12:43:20+00:00  WU_Rainfall   NaN\n 705597 2020-02-06 12:44:20+00:00  WU_Rainfall   NaN\n \n [705598 rows x 3 columns],\n                         DateTime    Parameter   Value\n 0      2020-01-06 13:00:00+00:00    BES_A1__V  20.150\n 1      2020-01-06 13:05:00+00:00    BES_A1__V  19.920\n 2      2020-01-06 13:10:00+00:00    BES_A1__V  20.160\n 3      2020-01-06 13:15:00+00:00    BES_A1__V  19.925\n 4      2020-01-06 13:20:00+00:00    BES_A1__V  20.020\n ...                          ...          ...     ...\n 606895 2020-02-06 12:20:00+00:00  WU_Rainfall     NaN\n 606896 2020-02-06 12:25:00+00:00  WU_Rainfall     NaN\n 606897 2020-02-06 12:30:00+00:00  WU_Rainfall     NaN\n 606898 2020-02-06 12:35:00+00:00  WU_Rainfall     NaN\n 606899 2020-02-06 12:40:00+00:00  WU_Rainfall     NaN\n \n [606900 rows x 3 columns],\n                         DateTime    Parameter       Value\n 0      2019-06-04 12:00:00+00:00    BES_A1__V  356.662500\n 1      2019-06-04 14:00:00+00:00    BES_A1__V  303.512712\n 2      2019-06-04 16:00:00+00:00    BES_A1__V    1.228333\n 3      2019-06-04 18:00:00+00:00    BES_A1__V    1.327966\n 4      2019-06-04 20:00:00+00:00    BES_A1__V    1.175833\n ...                          ...          ...         ...\n 201615 2020-02-06 04:00:00+00:00  WU_Rainfall         NaN\n 201616 2020-02-06 06:00:00+00:00  WU_Rainfall         NaN\n 201617 2020-02-06 08:00:00+00:00  WU_Rainfall         NaN\n 201618 2020-02-06 10:00:00+00:00  WU_Rainfall         NaN\n 201619 2020-02-06 12:00:00+00:00  WU_Rainfall         NaN\n \n [201620 rows x 3 columns],\n '']"
     },
     "execution_count": 36,
     "metadata": {},
     "output_type": "execute_result"
    }
   ],
   "source": [
    "plot_dfs_mlt"
   ]
  },
  {
   "cell_type": "code",
   "execution_count": null,
   "metadata": {},
   "outputs": [],
   "source": [
    "# Assign chart etc\n",
    "colors = [\"red\", \"yellow\", \"orange\", \"green\", \"blue\", \"violet\"]\n",
    "\n",
    "row_order = [1, 1, 1, 1,\n",
    "        2, 2, 2, 2,\n",
    "        3, 3, 3, 3,\n",
    "        4, 4, 4, 4,\n",
    "        4, 4, 4,\n",
    "        5,\n",
    "        6, 6, 6,\n",
    "        6, 6, 6]\n",
    "labels = [\"1\", \"2\", \"3\", \"4\",\n",
    "          \"1\", \"2\", \"3\", \"4\",\n",
    "          \"1\", \"2\", \"3\", \"4\",\n",
    "          \"SP\", \"A\", \"B\", \"C\",\n",
    "          \"BOX\", \"WATER\", \"AMBIENT\", \n",
    "          \"PUMP\",\n",
    "          \"HA\", \"HB\", \"HC\",\n",
    "          \"M1\", \"M2\", \"M3\"]\n",
    "legend_shows = [True, True, True, True,\n",
    "                False, False, False, False,\n",
    "                False, False, False, False,\n",
    "                True, True, True, True,\n",
    "                True, True, True,\n",
    "                True,\n",
    "                True, True, True,\n",
    "                True, True, True]\n",
    "\n",
    "if not os.path.exists(\"Images\"):\n",
    "    os.mkdir(\"Images\")\n"
   ]
  },
  {
   "cell_type": "code",
   "execution_count": null,
   "metadata": {},
   "outputs": [],
   "source": []
  },
  {
   "cell_type": "code",
   "execution_count": 37,
   "metadata": {},
   "outputs": [
    {
     "data": {
      "text/plain": "['!!BES 1A!!',\n '!!BES 2A!!',\n '!!BES 3A!!',\n '!!BES 4A!!',\n '!!BES 1B!!',\n '!!BES 2B!!',\n '!!BES 3B!!',\n '!!BES 4B!!',\n '!!BES 1C!!',\n '!!BES 2C!!',\n '!!BES 3C!!',\n '!!BES 4C!!',\n '!!BES 1A!!',\n '!!BES 2A!!',\n '!!BES 3A!!',\n '!!BES 4A!!',\n '!!BES 1B!!',\n '!!BES 2B!!',\n '!!BES 3B!!',\n '!!BES 4B!!',\n '!!BES 1C!!',\n '!!BES 2C!!',\n '!!BES 3C!!',\n '!!BES 4C!!',\n '!!  !!*Sigma*!![BES A]!!',\n '!!  !!*Sigma*!![BES B]!!',\n '!!  !!*Sigma*!![BES C]!!',\n '!!  !!*Sigma*!![BES A]!!',\n '!!  !!*Sigma*!![BES B]!!',\n '!!  !!*Sigma*!![BES C]!!',\n '!!Flow Rate!!',\n '!!Feed Water Temp!!',\n '!!Heated Line A Temp!!',\n '!!Heated Line B Temp!!',\n '!!Heated Line C Temp!!',\n '!!Enclosure Temp!!',\n '!!Ambient Air Temp!!',\n '!!Heated Hose A Temp!!',\n '!!Heated Hose B Temp!!',\n '!!Heated Hose C Temp!!',\n '!!Heated Mat A Temp!!',\n '!!Heated Mat B Temp!!',\n '!!Heated Mat C Temp!!',\n '!!OS Pressure!!',\n '!!Line A Pressure!!',\n '!!Line B Pressure!!',\n '!!Line C Pressure!!',\n '!!Feed pH!!',\n '!!Feed Conductivity!!',\n '!!Enclosure Tilt!!',\n '!!Pipe pH (BE:WISE)!!',\n '!!Pipe Temp 1 (BE:WISE)!!',\n '!!Pipe DO (BE:WISE)!!',\n '!!Pipe Temp 2 (BE:WISE)!!',\n nan,\n nan,\n nan,\n nan,\n nan,\n nan,\n nan,\n nan,\n nan,\n nan,\n '!!WWTP BOD!![5]*!! (NWG)!!',\n '!!WWTP tCOD (NWG)!!',\n '!!WWTP pH (NWG)!!',\n '!!Ambient Temp (WU)!!',\n '!!Upstream River (EA)!!',\n '!!Downstream River (EA)!!',\n '!!Rainfall (WU)!!']"
     },
     "execution_count": 37,
     "metadata": {},
     "output_type": "execute_result"
    }
   ],
   "source": [
    "colours = []\n",
    "charts = []\n",
    "par_labels = []\n",
    "par_legend_shows = []\n",
    "for par in plot_dfs_mlt[0].Parameter.unique():\n",
    "    if par in list(info['parameters']['parameter']):\n",
    "        temp_info = info['parameters'].query('parameter == \"' + par + '\"')\n",
    "    elif par in list(info['parameters_ave']['parameter_ave']):\n",
    "        temp_info = info['parameters_ave'].query('parameter_ave == \"' + par + '\"')\n",
    "    else:\n",
    "        temp_info = []\n",
    "    colours.append(temp_info['colours'][0])\n",
    "    charts.append(temp_info['chart'][0])\n",
    "    par_labels.append(temp_info['parameter_lab'][0])\n",
    "    par_legend_shows.append(temp_info['legend_shows'][0])\n",
    "par_labels"
   ]
  },
  {
   "cell_type": "code",
   "execution_count": 38,
   "metadata": {},
   "outputs": [
    {
     "name": "stderr",
     "output_type": "stream",
     "text": "Make each plot:   0%|          | 0/4 [00:00<?, ?it/s]\n"
    },
    {
     "ename": "NameError",
     "evalue": "name 'rows' is not defined",
     "output_type": "error",
     "traceback": [
      "\u001b[1;31m---------------------------------------------------------------------------\u001b[0m",
      "\u001b[1;31mNameError\u001b[0m                                 Traceback (most recent call last)",
      "\u001b[1;32m<ipython-input-38-854540a0a279>\u001b[0m in \u001b[0;36m<module>\u001b[1;34m\u001b[0m\n\u001b[0;32m      5\u001b[0m     \u001b[1;32mif\u001b[0m \u001b[0minfo\u001b[0m\u001b[1;33m[\u001b[0m\u001b[1;34m'plots'\u001b[0m\u001b[1;33m]\u001b[0m\u001b[1;33m.\u001b[0m\u001b[0mloc\u001b[0m\u001b[1;33m[\u001b[0m\u001b[0mplot\u001b[0m\u001b[1;33m,\u001b[0m \u001b[1;34m'plot_status'\u001b[0m\u001b[1;33m]\u001b[0m \u001b[1;33m==\u001b[0m \u001b[1;34m'ON'\u001b[0m\u001b[1;33m:\u001b[0m\u001b[1;33m\u001b[0m\u001b[1;33m\u001b[0m\u001b[0m\n\u001b[0;32m      6\u001b[0m         fig = make_subplots(\n\u001b[1;32m----> 7\u001b[1;33m             \u001b[0mrows\u001b[0m\u001b[1;33m=\u001b[0m\u001b[0mmax\u001b[0m\u001b[1;33m(\u001b[0m\u001b[0mrows\u001b[0m\u001b[1;33m[\u001b[0m\u001b[1;36m0\u001b[0m\u001b[1;33m:\u001b[0m\u001b[0mlen\u001b[0m\u001b[1;33m(\u001b[0m\u001b[0mplot_dfs_mlt\u001b[0m\u001b[1;33m[\u001b[0m\u001b[0ma\u001b[0m\u001b[1;33m]\u001b[0m\u001b[1;33m.\u001b[0m\u001b[0mParameter\u001b[0m\u001b[1;33m.\u001b[0m\u001b[0munique\u001b[0m\u001b[1;33m(\u001b[0m\u001b[1;33m)\u001b[0m\u001b[1;33m)\u001b[0m\u001b[1;33m]\u001b[0m\u001b[1;33m)\u001b[0m\u001b[1;33m,\u001b[0m \u001b[0mcols\u001b[0m\u001b[1;33m=\u001b[0m\u001b[1;36m1\u001b[0m\u001b[1;33m,\u001b[0m \u001b[0mshared_xaxes\u001b[0m\u001b[1;33m=\u001b[0m\u001b[1;32mTrue\u001b[0m\u001b[1;33m,\u001b[0m \u001b[0mvertical_spacing\u001b[0m\u001b[1;33m=\u001b[0m\u001b[1;36m0.05\u001b[0m\u001b[1;33m\u001b[0m\u001b[1;33m\u001b[0m\u001b[0m\n\u001b[0m\u001b[0;32m      8\u001b[0m         )\n\u001b[0;32m      9\u001b[0m \u001b[1;33m\u001b[0m\u001b[0m\n",
      "\u001b[1;31mNameError\u001b[0m: name 'rows' is not defined"
     ]
    }
   ],
   "source": [
    "figs = []\n",
    "a = 0\n",
    "\n",
    "for plot in tqdm(plots, desc = \"Make each plot\"):\n",
    "    if info['plots'].loc[plot, 'plot_status'] == 'ON':\n",
    "        fig = make_subplots(\n",
    "            rows=max(rows[0:len(plot_dfs_mlt[a].Parameter.unique())]), cols=1, shared_xaxes=True, vertical_spacing=0.05\n",
    "        )\n",
    "\n",
    "        for i in range(0, len(plot_dfs_mlt[a].Parameter.unique())):\n",
    "            print(plot_dfs_mlt[a].Parameter.unique()[i])\n",
    "            x_data = plot_dfs_mlt[a][plot_dfs_mlt[a].Parameter == plot_dfs_mlt[a].Parameter.unique()[i]].DateTime\n",
    "            y_data = plot_dfs_mlt[a][plot_dfs_mlt[a].Parameter == plot_dfs_mlt[a].Parameter.unique()[i]].Value\n",
    "            name = labels[i]\n",
    "\n",
    "            fig.add_trace(go.Scatter(x=x_data, y=y_data, mode='lines',\n",
    "                                     name=name, \n",
    "                                     line=dict(color=colours[i], width=1),\n",
    "                                     connectgaps=True, legendgroup=labels[i], showlegend=legend_shows[i]\n",
    "                                     ), row=row_order[i], \n",
    "                                     col=1\n",
    "                            )\n",
    "\n",
    "        # Update yaxis properties\n",
    "        #fig.update_yaxes(title_text=\"BES A (uA)\", range=[0, max(plot_dfs_mlt[a]['Value'])], row=1, col=1)\n",
    "        #fig.update_yaxes(title_text=\"BES B (uA)\", range=[0, max(plot_dfs_mlt[a]['Value'])], row=2, col=1)\n",
    "        #fig.update_yaxes(title_text=\"BES C (uA)\", range=[0, max(plot_dfs_mlt[a]['Value'])], row=3, col=1)\n",
    "        #fig.update_yaxes(title_text=\"Temp (°C)\",  range=[0, 30], row=4, col=1)\n",
    "        #fig.update_yaxes(title_text=\"Pump FR (ml/min)\", range=[0, 33], row=5, col=1)\n",
    "        #fig.update_yaxes(title_text=\"Heater Temp (°C)\", row=6, col=1)\n",
    "\n",
    "        fig.update_layout(\n",
    "            paper_bgcolor='rgb(255,255,255,0)',\n",
    "            legend_bgcolor='rgb(255,255,255,0)',\n",
    "            font=dict(\n",
    "                family=\"Arial\", size=11, color=\"#000000\"))\n",
    "        figs.append(fig)\n",
    "    else:\n",
    "        figs.append(\"\")\n",
    "    a = a + 1"
   ]
  },
  {
   "cell_type": "code",
   "execution_count": null,
   "metadata": {},
   "outputs": [],
   "source": [
    "a = 0\n",
    "for plot in tqdm(plots, desc = \"Export PDFs\"):\n",
    "    if info['plots'].loc[plot, 'plot_status'] == 'ON':\n",
    "        figs[a].write_image(\"Images/fig_\" + plot + \".pdf\", width=794, height=1123, scale=10 / 3)\n",
    "    a = a + 1\n",
    "\n",
    "a = 0\n",
    "for plot in tqdm(plots, desc = \"Export PNGs\"):\n",
    "    if info['plots'].loc[plot, 'plot_status'] == 'ON':\n",
    "        figs[a].write_image(\"Images/fig_\" + plot + \".png\", width=800, height=450, scale=5)\n",
    "    a = a + 1\n",
    "\n",
    "a = 0\n",
    "for plot in tqdm(plots, \"Update plots for interactivity\"):\n",
    "    if info['plots'].loc[plot, 'plot_status'] == 'ON':\n",
    "        figs[a].update_layout(\n",
    "            # height=600,\n",
    "            # width=900,\n",
    "            **{\"\".join(\n",
    "                [\"xaxis\", str(max(rows[0:len(plot_dfs_mlt[a].Parameter.unique())])), \"_rangeslider_visible\"]): True})\n",
    "\n",
    "        # figs[a].show()\n",
    "    a = a + 1"
   ]
  },
  {
   "cell_type": "code",
   "execution_count": null,
   "metadata": {},
   "outputs": [],
   "source": [
    "# Dash app\n",
    "\n",
    "dfs = [pd.DataFrame({\"xaxis\": [\"thing\", \"otherthing\", \"anotherthing\"],\n",
    "                     \"yaxis\": [64, 14, 62]}),\n",
    "       pd.DataFrame({\"xaxis\": [\"newthing\", \"newotherthing\", \"newanotherthing\"],\n",
    "                     \"yaxis\": [344, 554, 112]})]\n",
    "\n",
    "external_stylesheets = ['https://codepen.io/chriddyp/pen/bWLwgP.css']"
   ]
  },
  {
   "cell_type": "code",
   "execution_count": null,
   "metadata": {},
   "outputs": [],
   "source": [
    "\n",
    "i = 0\n",
    "output = []\n",
    "# here you can define your logic on how many times you want to loop\n",
    "a = 0\n",
    "for plot in tqdm(plots, \"Make subplots\"):\n",
    "    if info['plot'].loc[plot, 'plot_status'] == 'ON':\n",
    "        fig = make_subplots(\n",
    "            rows=max(rows[0:len(plot_dfs_mlt[a].Parameter.unique())]), cols=1, shared_xaxes=True, vertical_spacing=0.05\n",
    "        )\n",
    "\n",
    "        for i in range(0, len(plot_dfs_mlt[a].Parameter.unique())):\n",
    "            x_data = plot_dfs_mlt[a][plot_dfs_mlt[a].Parameter == plot_dfs_mlt[a].Parameter.unique()[i]].Date_Time\n",
    "            y_data = plot_dfs_mlt[a][plot_dfs_mlt[a].Parameter == plot_dfs_mlt[a].Parameter.unique()[i]].Value\n",
    "            name = labels[i]\n",
    "\n",
    "            fig.add_trace(go.Scatter(x=x_data, y=y_data, mode='lines',\n",
    "                                     name=name, line=dict(color=colors[i], width=line_sizes[i]),\n",
    "                                     connectgaps=True, legendgroup=labels[i], showlegend=legend_shows[i]\n",
    "                                     ), row=rows[i], col=1)\n",
    "\n",
    "        # Update yaxis properties\n",
    "        fig.update_yaxes(title_text=\"BES A (uA)\", range=[0, max(plot_dfs_mlt[a]['Value'])], row=1, col=1)\n",
    "        fig.update_yaxes(title_text=\"BES B (uA)\", range=[0, max(plot_dfs_mlt[a]['Value'])], row=2, col=1)\n",
    "        fig.update_yaxes(title_text=\"BES C (uA)\", range=[0, max(plot_dfs_mlt[a]['Value'])], row=3, col=1)\n",
    "        fig.update_yaxes(title_text=\"Temp (°C)\",  range=[0, 30], row=4, col=1)\n",
    "        fig.update_yaxes(title_text=\"Pump FR (ml/min)\", range=[0, 33], row=5, col=1)\n",
    "        fig.update_yaxes(title_text=\"Heater Temp (°C)\", row=6, col=1)\n",
    "        \n",
    "        fig.update_xaxes(range=[min(plot_dfs_mlt[a]['Date_Time']), max(plot_dfs_mlt[a]['Date_Time'])])\n",
    "\n",
    "        fig.update_layout(\n",
    "            paper_bgcolor='rgb(255,255,255,0)',\n",
    "            legend_bgcolor='rgb(255,255,255,0)',\n",
    "            font=dict(\n",
    "                family=\"Arial\", size=11, color=\"#000000\"),\n",
    "            yaxis=dict(\n",
    "                scaleanchor=\"x\",\n",
    "                scaleratio=0.2)\n",
    "            #**{\"\".join(\n",
    "            #    [\"xaxis\", str(max(rows[0:len(plot_dfs_mlt[a].Parameter.unique())])), \"_rangeslider_visible\"]): True}\n",
    "            )\n",
    "\n",
    "        output.append(\n",
    "            dcc.Graph(id='graph' + str(a),\n",
    "                      figure=fig,\n",
    "                      style={'width': '98vw', 'height': '98vh'})\n",
    "        )\n",
    "    else:\n",
    "        output.append(\"Plot switched off in Info.csv\")\n",
    "    a = a + 1\n"
   ]
  },
  {
   "cell_type": "code",
   "execution_count": null,
   "metadata": {},
   "outputs": [],
   "source": [
    "#output[0].figure.update_xaxes(range=[0,1])"
   ]
  },
  {
   "cell_type": "code",
   "execution_count": null,
   "metadata": {},
   "outputs": [],
   "source": [
    "app = JupyterDash('__name__')\n",
    "#app = dash.Dash(__name__, external_stylesheets=external_stylesheets)\n",
    "\n",
    "card_style = {\n",
    "    \"box-shadow\": \"0 4px 5px 0 rgba(0,0,0,0.14), 0 1px 10px 0 rgba(0,0,0,0.12), 0 2px 4px -1px rgba(0,0,0,0.3)\"\n",
    "}\n",
    "\n",
    "#app.scripts.config.serve_locally = True\n",
    "\n",
    "# app.layout = dcc.Loading(\n",
    "#     children=[html.Div(\n",
    "\n",
    "tabs_init = []\n",
    "p = 0\n",
    "for plot in plots:\n",
    "    if info['plot'].loc[plot, 'plot_status'] == 'ON':\n",
    "        tabs_init.append(dcc.Tab(label=info['plot']['plot_label'][plot], value=\"\".join([\"tab-\", str(p)]),\n",
    "                                            style={'backgroundColor': '#f5f5f5'}))\n",
    "    p = p+1\n",
    "\n",
    "app.layout = html.Div(className=\"sans-serif\",\n",
    "                      children=[\n",
    "                    html.Div(\n",
    "                        className=\"w-60 center pt4\",\n",
    "                        children=[\n",
    "                            dcc.Tabs(\n",
    "                                id=\"tabs\",\n",
    "                                value=\"tab-0\",\n",
    "                                children=tabs_init,\n",
    "                                colors={\n",
    "                                    \"primary\": \"white\",\n",
    "                                    \"background\": \"white\",\n",
    "                                    \"border\": \"#d2d2d2\",\n",
    "                                },\n",
    "                                parent_style=card_style,\n",
    "                            ),\n",
    "                            html.Div(\n",
    "                                children=[\n",
    "                                    dcc.Loading(id='tabs-content',\n",
    "                                                type='graph', className='pv6')\n",
    "                                ],\n",
    "                                className='pa4'\n",
    "                            ),\n",
    "                        ],\n",
    "                        style={},\n",
    "                    ),\n",
    "                ],\n",
    "            )# ], type='default', fullscreen=True)\n",
    "\n",
    "@app.callback(Output('tabs-content', 'children'),\n",
    "              [Input('tabs', 'value')])\n",
    "def render_content(tab):\n",
    "    time.sleep(2)\n",
    "    if tab == 'tab-0':\n",
    "        return html.Div(children=[\n",
    "            # html.Label('From 1994 to 2018', id='time-range-label'),\n",
    "            html.Div(id='loading-0', children=output[0])])\n",
    "    elif tab == 'tab-1':\n",
    "        return html.Div(id='loading-1', children=output[1])\n",
    "    elif tab == 'tab-2':\n",
    "        return html.Div(id='loading-2', children=output[2])\n",
    "    elif tab == 'tab-3':\n",
    "        return html.Div(id='loading-3', children=output[3])\n"
   ]
  },
  {
   "cell_type": "code",
   "execution_count": null,
   "metadata": {},
   "outputs": [],
   "source": [
    "app"
   ]
  },
  {
   "cell_type": "code",
   "execution_count": null,
   "metadata": {},
   "outputs": [],
   "source": [
    "plot_info['plot_label']['high']"
   ]
  },
  {
   "cell_type": "code",
   "execution_count": null,
   "metadata": {},
   "outputs": [],
   "source": [
    "daterange = pd.date_range(start='2019',end='2020',freq='W')\n",
    "\n",
    "def unixTimeMillis(dt):\n",
    "    ''' Convert datetime to unix timestamp '''\n",
    "    return int(time.mktime(dt.timetuple()))\n",
    "\n",
    "def unixToDatetime(unix):\n",
    "    ''' Convert unix timestamp to datetime. '''\n",
    "    return pd.to_datetime(unix,unit='s')\n",
    "\n",
    "def getMarks(start, end, Nth=100):\n",
    "    ''' Returns the marks for labeling. \n",
    "        Every Nth value will be used.\n",
    "    '''\n",
    "    result = {}\n",
    "    for i, date in enumerate(daterange):\n",
    "        if(i%Nth == 1):\n",
    "            # Append value to dict\n",
    "            result[unixTimeMillis(date)] = str(date.strftime('%Y-%m-%d'))\n",
    "    return result\n",
    "\n",
    "def get_marks(f, Nth=10000):\n",
    "    dates = []\n",
    "    for z in f:\n",
    "        dates.append(str(z.month) + \"-\" + str(z.day))\n",
    "    result = []\n",
    "    for i, date in enumerate(dates):\n",
    "        if(i%Nth == 1):\n",
    "            # Append value to dict\n",
    "            result.append(date)\n",
    "    return result\n",
    "\n",
    "start = set_date(str(row['plot_range_start']), \"UTC\")\n",
    "end = set_date(str(row['plot_range_end']), \"UTC\")\n",
    "dates_ = plot_dfs_mlt[0][plot_dfs_mlt[0].Parameter == plot_dfs_mlt[0].Parameter.unique()[1]].Date_Time\n",
    "\n",
    "app = JupyterDash('__name__')\n",
    "\n",
    "app.layout = html.Div(children=[\n",
    "\n",
    "html.Label('', id='time-range-label'),\n",
    "    \n",
    "dcc.RangeSlider(\n",
    "    id='date_slider',\n",
    "    updatemode='mouseup',\n",
    "    min=0,\n",
    "    max=len(dates_) - 1,\n",
    "    count=1,\n",
    "    step=1,\n",
    "    value=[0, len(dates_) - 1],\n",
    "    marks=get_marks(dates_),\n",
    "),\n",
    "\n",
    "html.Div(id='loading-0', children=output[0])\n",
    "\n",
    "])\n",
    "\n",
    "@app.callback(\n",
    "    dash.dependencies.Output('time-range-label', 'children'),\n",
    "    [dash.dependencies.Input('date_slider', 'value')])\n",
    "def _update_time_range_label(value):\n",
    "    return '{} --- {}'.format(dates_.iloc[value[0]].strftime(\"%d/%m/%Y %H:%M\"),\n",
    "                                  dates_.iloc[value[1]].strftime(\"%d/%m/%Y %H:%M\"))\n",
    "\n",
    "@app.callback(\n",
    "    Output('loading-0','children'), [Input('date_slider','value')]\n",
    ")\n",
    "def update_graph(value): \n",
    "    output[0].figure.update_xaxes(range=[dates_.iloc[value[0]], \n",
    "                                         dates_.iloc[value[1]]])\n",
    "    return output[0]\n",
    "\n",
    "app"
   ]
  },
  {
   "cell_type": "code",
   "execution_count": null,
   "metadata": {},
   "outputs": [],
   "source": [
    "dates_.iloc[1].strftime(\"%d/%m/%Y, %H:%M\")\n"
   ]
  },
  {
   "cell_type": "code",
   "execution_count": null,
   "metadata": {},
   "outputs": [],
   "source": [
    "import dash\n",
    "import dash_core_components as dcc\n",
    "import dash_html_components as html\n",
    "import plotly.graph_objs as go\n",
    "import pandas as pd\n",
    "\n",
    "import time\n",
    "\n",
    "app = JupyterDash('__name__')\n",
    "\n",
    "daterange = pd.date_range(start='1994',end='2018',freq='W')\n",
    "\n",
    "def unixTimeMillis(dt):\n",
    "    ''' Convert datetime to unix timestamp '''\n",
    "    return int(time.mktime(dt.timetuple()))\n",
    "\n",
    "def unixToDatetime(unix):\n",
    "    ''' Convert unix timestamp to datetime. '''\n",
    "    return pd.to_datetime(unix,unit='s')\n",
    "\n",
    "def getMarks(start, end, Nth=100):\n",
    "    ''' Returns the marks for labeling. \n",
    "        Every Nth value will be used.\n",
    "    '''\n",
    "\n",
    "    result = {}\n",
    "    for i, date in enumerate(daterange):\n",
    "        if(i%Nth == 1):\n",
    "            # Append value to dict\n",
    "            result[unixTimeMillis(date)] = str(date.strftime('%Y-%m-%d'))\n",
    "\n",
    "    return result\n",
    "\n",
    "app.layout = html.Div(children=[\n",
    "    html.H1('Range Slider Testing'),\n",
    "    html.Div(\n",
    "        [\n",
    "            html.Label('From 1994 to 2018', id='time-range-label'),\n",
    "            dcc.RangeSlider(\n",
    "                id='year_slider',\n",
    "                min = unixTimeMillis(daterange.min()),\n",
    "                max = unixTimeMillis(daterange.max()),\n",
    "                value = [unixTimeMillis(daterange.min()),\n",
    "                         unixTimeMillis(daterange.max())],\n",
    "                marks=getMarks(daterange.min(),\n",
    "                            daterange.max()),\n",
    "            ),\n",
    "        ],\n",
    "        style={'margin-top': '20'}\n",
    "    ),\n",
    "    html.Hr(),\n",
    "\n",
    "    dcc.Graph(id='my-graph')\n",
    "])\n",
    "\n",
    "@app.callback(\n",
    "    dash.dependencies.Output('time-range-label', 'children'),\n",
    "    [dash.dependencies.Input('year_slider', 'value')])\n",
    "def _update_time_range_label(year_range):\n",
    "    return 'From {} to {}'.format(unixToDatetime(year_range[0]),\n",
    "                                  unixToDatetime(year_range[1]))\n",
    "\n",
    "@app.callback(\n",
    "    dash.dependencies.Output('my-graph', 'figure'),\n",
    "    [dash.dependencies.Input('year_slider', 'value')])\n",
    "def _update_graph(year_range):\n",
    "    date_start = '{}'.format(year_range[0])\n",
    "    date_end = '{}'.format(year_range[1])\n",
    "\n",
    "app"
   ]
  },
  {
   "cell_type": "code",
   "execution_count": null,
   "metadata": {},
   "outputs": [],
   "source": [
    "import dash\n",
    "import dash_core_components as dcc\n",
    "import dash_html_components as html\n",
    "from dash.dependencies import Input, Output, State\n",
    "import plotly.graph_objs as go\n",
    "import quandl\n",
    "import pandas as pd\n",
    "import datetime\n",
    "quandl.ApiConfig.api_key = \"\"\n",
    "\n",
    "app=JupyterDash('__name__')\n",
    "#app.css.append_css({'external_url':'https://codepen.io/chriddyp/pen/bWLwgP.css 8'})\n",
    "\n",
    "df = quandl.get(\"FRED/GDP\")\n",
    "df= df.reset_index()\n",
    "df['Date']=pd.to_datetime(df.Date.values)\n",
    "df['Date']=df[\"Date\"].apply(lambda x: x.year)\n",
    "\n",
    "unique_years = df.Date.unique()\n",
    "\n",
    "app.layout = html.Div([\n",
    "dcc.Graph(id='figure'),\n",
    "\n",
    "html.Div(\n",
    "    dcc.RangeSlider(\n",
    "        id='year-slider',\n",
    "        min=unique_years[0],\n",
    "        max=unique_years[-1],\n",
    "        value=[unique_years[0], unique_years[-1]]\n",
    "    ),\n",
    "    style={'padding': '0px 60px'}\n",
    ")\n",
    "])\n",
    "\n",
    "@app.callback(\n",
    "Output('figure', 'figure'),\n",
    "[Input('year-slider', 'value')])\n",
    "def update_figure(selected_years):\n",
    "    filtered_df = df[\n",
    "    (df.Date >= selected_years[0]) &\n",
    "    (df.Date <= selected_years[1])\n",
    "    ]\n",
    "\n",
    "    trace = [go.Scatter(\n",
    "        x=filtered_df.Date,\n",
    "        y=filtered_df['Value'],\n",
    "        mode='lines',\n",
    "        fill='tonexty'\n",
    "    )]\n",
    "\n",
    "    return {\n",
    "        'data': trace,\n",
    "        'layout': go.Layout(\n",
    "            title='<b>US GDP over time</b>',\n",
    "            xaxis={'title': 'Year'},\n",
    "            yaxis={'title': 'GDP Value'}\n",
    "        )\n",
    "    }\n",
    "app"
   ]
  },
  {
   "cell_type": "code",
   "execution_count": null,
   "metadata": {},
   "outputs": [],
   "source": [
    "import dash\n",
    "import dash_core_components as dcc\n",
    "import dash_html_components as html\n",
    "from dash.dependencies import Input, Output\n",
    "from plotly.subplots import make_subplots\n",
    "from plotly import graph_objs as go\n",
    "\n",
    "fig = make_subplots(rows=2, shared_xaxes=True)\n",
    "fig.add_scatter(x=[1,2,3], y=[2,1,2])\n",
    "fig.add_scatter(x=[1,2,3], y=[5,3,3], yaxis='y2')\n",
    "fig.layout.xaxis.dtick=0.5\n",
    "\n",
    "external_stylesheets = ['https://codepen.io/chriddyp/pen/bWLwgP.css']\n",
    "\n",
    "app = JupyterDash('__name__')\n",
    "\n",
    "app.layout = html.Div(children=[\n",
    "\n",
    "dcc.Graph(\n",
    "    id='graph1',\n",
    "    figure = fig\n",
    "),\n",
    "\n",
    "dcc.Slider(\n",
    "    id='temp-slider',\n",
    "    min=0,\n",
    "    max=10,\n",
    "    step=0.2,\n",
    "    value=0\n",
    ")\n",
    "\n",
    "])\n",
    "\n",
    "@app.callback(\n",
    "    Output('graph1','figure'), [Input('temp-slider','value')]\n",
    ")\n",
    "\n",
    "def update_graph(value): \n",
    "    fig.layout.xaxis.range = [value,value+1]\n",
    "    return fig\n",
    "\n",
    "\n",
    "app"
   ]
  }
 ],
 "metadata": {
  "kernelspec": {
   "display_name": "Python 3",
   "language": "python",
   "name": "python3"
  },
  "language_info": {
   "codemirror_mode": {
    "name": "ipython",
    "version": 3
   },
   "file_extension": ".py",
   "mimetype": "text/x-python",
   "name": "python",
   "nbconvert_exporter": "python",
   "pygments_lexer": "ipython3",
   "version": "3.7.5-final"
  },
  "varInspector": {
   "cols": {
    "lenName": 16,
    "lenType": 16,
    "lenVar": 40
   },
   "kernels_config": {
    "python": {
     "delete_cmd_postfix": "",
     "delete_cmd_prefix": "del ",
     "library": "var_list.py",
     "varRefreshCmd": "print(var_dic_list())"
    },
    "r": {
     "delete_cmd_postfix": ") ",
     "delete_cmd_prefix": "rm(",
     "library": "var_list.r",
     "varRefreshCmd": "cat(var_dic_list()) "
    }
   },
   "position": {
    "height": "250px",
    "left": "1330px",
    "right": "20px",
    "top": "109px",
    "width": "575px"
   },
   "types_to_exclude": [
    "module",
    "function",
    "builtin_function_or_method",
    "instance",
    "_Feature"
   ],
   "window_display": true
  }
 },
 "nbformat": 4,
 "nbformat_minor": 4
}