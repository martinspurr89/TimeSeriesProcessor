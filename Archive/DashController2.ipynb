{
 "cells": [
  {
   "cell_type": "markdown",
   "execution_count": null,
   "metadata": {},
   "outputs": [],
   "source": [
    "![ToOL-PRO-BES.png](Info/ToOL-PRO-BES.png)"
   ]
  },
  {
   "cell_type": "markdown",
   "execution_count": null,
   "metadata": {},
   "outputs": [],
   "source": [
    "## Import packages"
   ]
  },
  {
   "cell_type": "code",
   "execution_count": 59,
   "metadata": {},
   "outputs": [],
   "source": [
    "import pandas as pd\n",
    "from tqdm.autonotebook import trange, tqdm\n",
    "\n",
    "from plotly.subplots import make_subplots\n",
    "import plotly.graph_objects as go\n",
    "import datetime\n",
    "from datetime import datetime, timedelta, timezone\n",
    "from pytz import timezone\n",
    "\n",
    "import os\n",
    "import re\n",
    "\n",
    "import dash\n",
    "import dash_core_components as dcc\n",
    "import dash_bootstrap_components as dbc\n",
    "import dash_html_components as html\n",
    "from dash.dependencies import Input, Output, State\n",
    "import time\n",
    "import numpy as np\n",
    "import math\n",
    "import seaborn as sns\n",
    "\n",
    "import requests\n",
    "import io\n",
    "import warnings"
   ]
  },
  {
   "cell_type": "markdown",
   "execution_count": null,
   "metadata": {},
   "outputs": [],
   "source": [
    "## Setup from Info.xlsx"
   ]
  },
  {
   "cell_type": "code",
   "execution_count": 60,
   "metadata": {},
   "outputs": [
    {
     "output_type": "stream",
     "name": "stdout",
     "text": "setup | datasets | charts | plots | parameters | parameters_ave | colours\n"
    }
   ],
   "source": [
    "info = pd.read_excel(\"Info/Info.xlsx\", sheet_name=None, index_col=0)\n",
    "print(*info.keys(), sep = \" | \")"
   ]
  },
  {
   "cell_type": "markdown",
   "execution_count": null,
   "metadata": {},
   "outputs": [],
   "source": [
    "## Functions"
   ]
  },
  {
   "cell_type": "code",
   "execution_count": 61,
   "metadata": {},
   "outputs": [
    {
     "output_type": "execute_result",
     "data": {
      "text/plain": "                                           value\nid                                              \nproject                             ToOLTuBES v2\ndate_start_utc               2019-06-04 13:03:17\ndate_end_utc    2020-02-27 15:26:05.291123+00:00",
      "text/html": "<div>\n<style scoped>\n    .dataframe tbody tr th:only-of-type {\n        vertical-align: middle;\n    }\n\n    .dataframe tbody tr th {\n        vertical-align: top;\n    }\n\n    .dataframe thead th {\n        text-align: right;\n    }\n</style>\n<table border=\"1\" class=\"dataframe\">\n  <thead>\n    <tr style=\"text-align: right;\">\n      <th></th>\n      <th>value</th>\n    </tr>\n    <tr>\n      <th>id</th>\n      <th></th>\n    </tr>\n  </thead>\n  <tbody>\n    <tr>\n      <th>project</th>\n      <td>ToOLTuBES v2</td>\n    </tr>\n    <tr>\n      <th>date_start_utc</th>\n      <td>2019-06-04 13:03:17</td>\n    </tr>\n    <tr>\n      <th>date_end_utc</th>\n      <td>2020-02-27 15:26:05.291123+00:00</td>\n    </tr>\n  </tbody>\n</table>\n</div>"
     },
     "metadata": {},
     "execution_count": 61
    }
   ],
   "source": [
    "# Date Functions\n",
    "def set_date(date_str, old_tz, dt_format = \"%d/%m/%Y %H:%M:%S\"):\n",
    "    if date_str == 'NaT':\n",
    "        return pd.NaT\n",
    "    else:\n",
    "        datetime_set_naive = datetime.strptime(date_str, dt_format)\n",
    "        datetime_set_old = timezone(old_tz).localize(datetime_set_naive)\n",
    "        datetime_set_utc = datetime_set_old.astimezone(timezone('UTC'))\n",
    "        return datetime_set_utc\n",
    "\n",
    "def date_parser(date_, time_, dt_format = \"%d/%m/%Y %H:%M:%S\"):\n",
    "    return set_date(date_ + \" \" + time_, 'UTC', dt_format)\n",
    "\n",
    "def date_parserYMD(date_, time_, dt_format = \"%Y-%m-%d %H:%M:%S\"):\n",
    "    return set_date(date_ + \" \" + time_, 'UTC', dt_format)\n",
    "\n",
    "\n",
    "# Experiment start/end date\n",
    "date_start = set_date(str(info['setup'].loc['date_start_utc','value']), \"UTC\", \"%Y-%m-%d %H:%M:%S\")\n",
    "if pd.isna(info['setup'].loc['date_end_utc','value']):\n",
    "    date_now = datetime.now(timezone('UTC'))\n",
    "    info['setup'].loc['date_end_utc','value'] = date_now\n",
    "else:\n",
    "    date_now = set_date(str(info['setup'].loc['date_end_utc','value']), \"UTC\", \"%Y-%m-%d %H:%M:%S\")\n",
    "\n",
    "# Date Functions continued\n",
    "def date_range(window=-1, start=date_start, end=date_now):\n",
    "    if pd.isna(start):\n",
    "        start = date_start\n",
    "    if pd.isna(end):\n",
    "        end = date_now\n",
    "    if window != -1:\n",
    "        if not pd.isna(window):\n",
    "            start = end - timedelta(days=window)\n",
    "    return start, end\n",
    "\n",
    "info['setup']"
   ]
  },
  {
   "cell_type": "markdown",
   "execution_count": null,
   "metadata": {},
   "outputs": [],
   "source": [
    "## Process Information sheets from Info.xlsx\n",
    "\n",
    "### Datasets:"
   ]
  },
  {
   "cell_type": "code",
   "execution_count": 62,
   "metadata": {},
   "outputs": [
    {
     "output_type": "execute_result",
     "data": {
      "text/plain": "         folder     selection              melt  \\\ndataset                                           \nUO            1       UO.wide           UO.wide   \nNWL           1           NWL               NWL   \nSkid          1          Skid          Skid.ave   \nSampLog       1  SampLog.wide  SampLog.wide.ave   \nSensor        1        SENSOR            SENSOR   \nEvents        1       EV.wide            EV.ave   \n\n                                          data_folder_path  \\\ndataset                                                      \nUO       C:/Users/nms198/Google Drive/ToOLTuBES/LAB/Dat...   \nNWL      C:/Users/nms198/Google Drive/ToOLTuBES/LAB/Dat...   \nSkid     C:/Users/nms198/Google Drive/BEWISE_shared/Ski...   \nSampLog  C:/Users/nms198/Google Drive/BEWISE_shared/Sam...   \nSensor   C:/Users/nms198/Google Drive/ToOLTuBESv2/LAB/T...   \nEvents   C:/Users/nms198/Google Drive/ToOLTuBESv2/LAB/T...   \n\n                                        supp_data_filepath  \\\ndataset                                                      \nUO       C:/Users/nms198/Google Drive/ToOLTuBES/LAB/Dat...   \nNWL                                                    NaN   \nSkid                                                   NaN   \nSampLog                                                NaN   \nSensor                                                 NaN   \nEvents   C:/Users/nms198/Google Drive/ToOLTuBESv2/LAB/T...   \n\n                        file_pat  skiprows  Slim  Del_unit_rows  \\\ndataset                                                           \nUO                          .csv         0   1.0            NaN   \nNWL                        .xlsx         2   NaN            1.0   \nSkid                        .CSV         3   NaN            NaN   \nSampLog                     .csv         0   1.0            NaN   \nSensor   \\d\\d_\\d\\d_\\d\\d\\d\\d\\.csv         0   NaN            NaN   \nEvents                      .csv         0   NaN            NaN   \n\n         Add_blank_rows  \ndataset                  \nUO                  1.0  \nNWL                 NaN  \nSkid                1.0  \nSampLog             NaN  \nSensor              NaN  \nEvents              NaN  ",
      "text/html": "<div>\n<style scoped>\n    .dataframe tbody tr th:only-of-type {\n        vertical-align: middle;\n    }\n\n    .dataframe tbody tr th {\n        vertical-align: top;\n    }\n\n    .dataframe thead th {\n        text-align: right;\n    }\n</style>\n<table border=\"1\" class=\"dataframe\">\n  <thead>\n    <tr style=\"text-align: right;\">\n      <th></th>\n      <th>folder</th>\n      <th>selection</th>\n      <th>melt</th>\n      <th>data_folder_path</th>\n      <th>supp_data_filepath</th>\n      <th>file_pat</th>\n      <th>skiprows</th>\n      <th>Slim</th>\n      <th>Del_unit_rows</th>\n      <th>Add_blank_rows</th>\n    </tr>\n    <tr>\n      <th>dataset</th>\n      <th></th>\n      <th></th>\n      <th></th>\n      <th></th>\n      <th></th>\n      <th></th>\n      <th></th>\n      <th></th>\n      <th></th>\n      <th></th>\n    </tr>\n  </thead>\n  <tbody>\n    <tr>\n      <th>UO</th>\n      <td>1</td>\n      <td>UO.wide</td>\n      <td>UO.wide</td>\n      <td>C:/Users/nms198/Google Drive/ToOLTuBES/LAB/Dat...</td>\n      <td>C:/Users/nms198/Google Drive/ToOLTuBES/LAB/Dat...</td>\n      <td>.csv</td>\n      <td>0</td>\n      <td>1.0</td>\n      <td>NaN</td>\n      <td>1.0</td>\n    </tr>\n    <tr>\n      <th>NWL</th>\n      <td>1</td>\n      <td>NWL</td>\n      <td>NWL</td>\n      <td>C:/Users/nms198/Google Drive/ToOLTuBES/LAB/Dat...</td>\n      <td>NaN</td>\n      <td>.xlsx</td>\n      <td>2</td>\n      <td>NaN</td>\n      <td>1.0</td>\n      <td>NaN</td>\n    </tr>\n    <tr>\n      <th>Skid</th>\n      <td>1</td>\n      <td>Skid</td>\n      <td>Skid.ave</td>\n      <td>C:/Users/nms198/Google Drive/BEWISE_shared/Ski...</td>\n      <td>NaN</td>\n      <td>.CSV</td>\n      <td>3</td>\n      <td>NaN</td>\n      <td>NaN</td>\n      <td>1.0</td>\n    </tr>\n    <tr>\n      <th>SampLog</th>\n      <td>1</td>\n      <td>SampLog.wide</td>\n      <td>SampLog.wide.ave</td>\n      <td>C:/Users/nms198/Google Drive/BEWISE_shared/Sam...</td>\n      <td>NaN</td>\n      <td>.csv</td>\n      <td>0</td>\n      <td>1.0</td>\n      <td>NaN</td>\n      <td>NaN</td>\n    </tr>\n    <tr>\n      <th>Sensor</th>\n      <td>1</td>\n      <td>SENSOR</td>\n      <td>SENSOR</td>\n      <td>C:/Users/nms198/Google Drive/ToOLTuBESv2/LAB/T...</td>\n      <td>NaN</td>\n      <td>\\d\\d_\\d\\d_\\d\\d\\d\\d\\.csv</td>\n      <td>0</td>\n      <td>NaN</td>\n      <td>NaN</td>\n      <td>NaN</td>\n    </tr>\n    <tr>\n      <th>Events</th>\n      <td>1</td>\n      <td>EV.wide</td>\n      <td>EV.ave</td>\n      <td>C:/Users/nms198/Google Drive/ToOLTuBESv2/LAB/T...</td>\n      <td>C:/Users/nms198/Google Drive/ToOLTuBESv2/LAB/T...</td>\n      <td>.csv</td>\n      <td>0</td>\n      <td>NaN</td>\n      <td>NaN</td>\n      <td>NaN</td>\n    </tr>\n  </tbody>\n</table>\n</div>"
     },
     "metadata": {},
     "execution_count": 62
    }
   ],
   "source": [
    "info['datasets']"
   ]
  },
  {
   "cell_type": "markdown",
   "execution_count": null,
   "metadata": {},
   "outputs": [],
   "source": [
    "### Chartxs:"
   ]
  },
  {
   "cell_type": "code",
   "execution_count": 63,
   "metadata": {},
   "outputs": [
    {
     "output_type": "execute_result",
     "data": {
      "text/plain": "         chart chart_status  chart_res        chart_range_window  \\\norder                                                              \n0         high           ON          0           3 days, 0:00:00   \n1          med           ON          5          14 days, 0:00:00   \n2          low           ON        120  268 days, 2:22:48.291123   \n3      low_ave           ON        120  268 days, 2:22:48.291123   \n4      custom1          OFF          0            1 day, 0:00:00   \n\n                      chart_range_start                   chart_range_end  \\\norder                                                                       \n0      2020-02-24 15:26:05.291123+00:00  2020-02-27 15:26:05.291123+00:00   \n1      2020-02-13 15:26:05.291123+00:00  2020-02-27 15:26:05.291123+00:00   \n2             2019-06-04 13:03:17+00:00  2020-02-27 15:26:05.291123+00:00   \n3             2019-06-04 13:03:17+00:00  2020-02-27 15:26:05.291123+00:00   \n4             2019-06-04 13:03:17+00:00         2019-06-05 13:03:17+00:00   \n\n                    chart_label  \norder                            \n0               High Resolution  \n1             Medium Resolution  \n2                Low Resolution  \n3      Low Resolution (average)  \n4                  Custom Chart  ",
      "text/html": "<div>\n<style scoped>\n    .dataframe tbody tr th:only-of-type {\n        vertical-align: middle;\n    }\n\n    .dataframe tbody tr th {\n        vertical-align: top;\n    }\n\n    .dataframe thead th {\n        text-align: right;\n    }\n</style>\n<table border=\"1\" class=\"dataframe\">\n  <thead>\n    <tr style=\"text-align: right;\">\n      <th></th>\n      <th>chart</th>\n      <th>chart_status</th>\n      <th>chart_res</th>\n      <th>chart_range_window</th>\n      <th>chart_range_start</th>\n      <th>chart_range_end</th>\n      <th>chart_label</th>\n    </tr>\n    <tr>\n      <th>order</th>\n      <th></th>\n      <th></th>\n      <th></th>\n      <th></th>\n      <th></th>\n      <th></th>\n      <th></th>\n    </tr>\n  </thead>\n  <tbody>\n    <tr>\n      <th>0</th>\n      <td>high</td>\n      <td>ON</td>\n      <td>0</td>\n      <td>3 days, 0:00:00</td>\n      <td>2020-02-24 15:26:05.291123+00:00</td>\n      <td>2020-02-27 15:26:05.291123+00:00</td>\n      <td>High Resolution</td>\n    </tr>\n    <tr>\n      <th>1</th>\n      <td>med</td>\n      <td>ON</td>\n      <td>5</td>\n      <td>14 days, 0:00:00</td>\n      <td>2020-02-13 15:26:05.291123+00:00</td>\n      <td>2020-02-27 15:26:05.291123+00:00</td>\n      <td>Medium Resolution</td>\n    </tr>\n    <tr>\n      <th>2</th>\n      <td>low</td>\n      <td>ON</td>\n      <td>120</td>\n      <td>268 days, 2:22:48.291123</td>\n      <td>2019-06-04 13:03:17+00:00</td>\n      <td>2020-02-27 15:26:05.291123+00:00</td>\n      <td>Low Resolution</td>\n    </tr>\n    <tr>\n      <th>3</th>\n      <td>low_ave</td>\n      <td>ON</td>\n      <td>120</td>\n      <td>268 days, 2:22:48.291123</td>\n      <td>2019-06-04 13:03:17+00:00</td>\n      <td>2020-02-27 15:26:05.291123+00:00</td>\n      <td>Low Resolution (average)</td>\n    </tr>\n    <tr>\n      <th>4</th>\n      <td>custom1</td>\n      <td>OFF</td>\n      <td>0</td>\n      <td>1 day, 0:00:00</td>\n      <td>2019-06-04 13:03:17+00:00</td>\n      <td>2019-06-05 13:03:17+00:00</td>\n      <td>Custom Chart</td>\n    </tr>\n  </tbody>\n</table>\n</div>"
     },
     "metadata": {},
     "execution_count": 63
    }
   ],
   "source": [
    "charts = []\n",
    "for chart, row in info['charts'].iterrows():\n",
    "    chart_range = date_range(window = row['chart_range_window'], start = set_date(str(row['chart_range_start']), \"UTC\", \"%Y-%m-%d %H:%M:%S\"), end = set_date(str(row['chart_range_end']), \"UTC\", \"%Y-%m-%d %H:%M:%S\"))\n",
    "    info['charts'].loc[chart, 'chart_range_start'] = chart_range[0]\n",
    "    info['charts'].loc[chart, 'chart_range_end'] = chart_range[1]\n",
    "    info['charts'].loc[chart, 'chart_range_window'] = chart_range[1] - chart_range[0]\n",
    "    charts.append(chart)\n",
    "\n",
    "del chart, chart_range, row\n",
    "\n",
    "info['charts']"
   ]
  },
  {
   "cell_type": "markdown",
   "execution_count": null,
   "metadata": {},
   "outputs": [],
   "source": [
    "### Parameters:"
   ]
  },
  {
   "cell_type": "code",
   "execution_count": 64,
   "metadata": {},
   "outputs": [
    {
     "output_type": "execute_result",
     "data": {
      "text/plain": "                  code         parameter     parameter_ave  \\\ndataset                                                      \nSensor            A1 V         BES_A1__V      BES_1__V_ave   \nSensor            A2 V         BES_A2__V      BES_2__V_ave   \nSensor            A3 V         BES_A3__V      BES_3__V_ave   \nSensor            A4 V         BES_A4__V      BES_4__V_ave   \nSensor            B1 V         BES_B1__V      BES_1__V_ave   \n...                ...               ...               ...   \nEvents   HOSE_B_STATUS  HOSE_B_STATUS_EV  HOSE_B_STATUS_EV   \nEvents   HOSE_C_STATUS  HOSE_C_STATUS_EV  HOSE_C_STATUS_EV   \nEvents         TILT_SP        TILT_SP_EV        TILT_SP_EV   \nEvents       TILT_AUTO      TILT_AUTO_EV      TILT_AUTO_EV   \nEvents          WAKEUP         WAKEUP_EV         WAKEUP_EV   \n\n                       parameter_lab        plot  line  ribbon    bar  point  \\\ndataset                                                                        \nSensor                        BES 1A      BES_VA  True   False  False  False   \nSensor                        BES 2A      BES_VA  True   False  False  False   \nSensor                        BES 3A      BES_VA  True   False  False  False   \nSensor                        BES 4A      BES_VA  True   False  False  False   \nSensor                        BES 1B      BES_VB  True   False  False  False   \n...                              ...         ...   ...     ...    ...    ...   \nEvents       Heated Hose B Status EV  TEMP_EVENT  True   False  False  False   \nEvents       Heated Hose C Status EV  TEMP_EVENT  True   False  False  False   \nEvents   Enclosure Tilt Set Point EV    PRESSURE  True   False  False  False   \nEvents   Enclosure Tilt Automated EV      STATUS  True   False  False  False   \nEvents        Wakeup from Restart EV      STATUS  True   False  False  False   \n\n         colour  fill shape   dash  bar_order  show_in_legend  \\\ndataset                                                         \nSensor      0.0   0.0   NaN  solid        NaN            True   \nSensor      3.0   3.0   NaN  solid        NaN            True   \nSensor      5.0   5.0   NaN  solid        NaN            True   \nSensor      6.0   6.0   NaN  solid        NaN            True   \nSensor      0.0   0.0   NaN  solid        NaN            True   \n...         ...   ...   ...    ...        ...             ...   \nEvents      NaN   NaN   NaN    NaN        NaN            True   \nEvents      NaN   NaN   NaN    NaN        NaN            True   \nEvents      NaN   NaN   NaN    NaN        NaN            True   \nEvents      NaN   NaN   NaN    NaN        NaN            True   \nEvents      6.0   6.0   NaN  solid        3.0            True   \n\n         selected_chart_0  selected_chart_1  selected_chart_2  \\\ndataset                                                         \nSensor                  1                 1                 1   \nSensor                  1                 1                 1   \nSensor                  1                 1                 1   \nSensor                  1                 1                 1   \nSensor                  1                 1                 1   \n...                   ...               ...               ...   \nEvents                  0                 0                 0   \nEvents                  0                 0                 0   \nEvents                  0                 0                 0   \nEvents                  0                 0                 0   \nEvents                  0                 0                 0   \n\n         selected_chart_3  \ndataset                    \nSensor                  1  \nSensor                  1  \nSensor                  1  \nSensor                  1  \nSensor                  1  \n...                   ...  \nEvents                  0  \nEvents                  0  \nEvents                  0  \nEvents                  0  \nEvents                  0  \n\n[152 rows x 19 columns]",
      "text/html": "<div>\n<style scoped>\n    .dataframe tbody tr th:only-of-type {\n        vertical-align: middle;\n    }\n\n    .dataframe tbody tr th {\n        vertical-align: top;\n    }\n\n    .dataframe thead th {\n        text-align: right;\n    }\n</style>\n<table border=\"1\" class=\"dataframe\">\n  <thead>\n    <tr style=\"text-align: right;\">\n      <th></th>\n      <th>code</th>\n      <th>parameter</th>\n      <th>parameter_ave</th>\n      <th>parameter_lab</th>\n      <th>plot</th>\n      <th>line</th>\n      <th>ribbon</th>\n      <th>bar</th>\n      <th>point</th>\n      <th>colour</th>\n      <th>fill</th>\n      <th>shape</th>\n      <th>dash</th>\n      <th>bar_order</th>\n      <th>show_in_legend</th>\n      <th>selected_chart_0</th>\n      <th>selected_chart_1</th>\n      <th>selected_chart_2</th>\n      <th>selected_chart_3</th>\n    </tr>\n    <tr>\n      <th>dataset</th>\n      <th></th>\n      <th></th>\n      <th></th>\n      <th></th>\n      <th></th>\n      <th></th>\n      <th></th>\n      <th></th>\n      <th></th>\n      <th></th>\n      <th></th>\n      <th></th>\n      <th></th>\n      <th></th>\n      <th></th>\n      <th></th>\n      <th></th>\n      <th></th>\n      <th></th>\n    </tr>\n  </thead>\n  <tbody>\n    <tr>\n      <th>Sensor</th>\n      <td>A1 V</td>\n      <td>BES_A1__V</td>\n      <td>BES_1__V_ave</td>\n      <td>BES 1A</td>\n      <td>BES_VA</td>\n      <td>True</td>\n      <td>False</td>\n      <td>False</td>\n      <td>False</td>\n      <td>0.0</td>\n      <td>0.0</td>\n      <td>NaN</td>\n      <td>solid</td>\n      <td>NaN</td>\n      <td>True</td>\n      <td>1</td>\n      <td>1</td>\n      <td>1</td>\n      <td>1</td>\n    </tr>\n    <tr>\n      <th>Sensor</th>\n      <td>A2 V</td>\n      <td>BES_A2__V</td>\n      <td>BES_2__V_ave</td>\n      <td>BES 2A</td>\n      <td>BES_VA</td>\n      <td>True</td>\n      <td>False</td>\n      <td>False</td>\n      <td>False</td>\n      <td>3.0</td>\n      <td>3.0</td>\n      <td>NaN</td>\n      <td>solid</td>\n      <td>NaN</td>\n      <td>True</td>\n      <td>1</td>\n      <td>1</td>\n      <td>1</td>\n      <td>1</td>\n    </tr>\n    <tr>\n      <th>Sensor</th>\n      <td>A3 V</td>\n      <td>BES_A3__V</td>\n      <td>BES_3__V_ave</td>\n      <td>BES 3A</td>\n      <td>BES_VA</td>\n      <td>True</td>\n      <td>False</td>\n      <td>False</td>\n      <td>False</td>\n      <td>5.0</td>\n      <td>5.0</td>\n      <td>NaN</td>\n      <td>solid</td>\n      <td>NaN</td>\n      <td>True</td>\n      <td>1</td>\n      <td>1</td>\n      <td>1</td>\n      <td>1</td>\n    </tr>\n    <tr>\n      <th>Sensor</th>\n      <td>A4 V</td>\n      <td>BES_A4__V</td>\n      <td>BES_4__V_ave</td>\n      <td>BES 4A</td>\n      <td>BES_VA</td>\n      <td>True</td>\n      <td>False</td>\n      <td>False</td>\n      <td>False</td>\n      <td>6.0</td>\n      <td>6.0</td>\n      <td>NaN</td>\n      <td>solid</td>\n      <td>NaN</td>\n      <td>True</td>\n      <td>1</td>\n      <td>1</td>\n      <td>1</td>\n      <td>1</td>\n    </tr>\n    <tr>\n      <th>Sensor</th>\n      <td>B1 V</td>\n      <td>BES_B1__V</td>\n      <td>BES_1__V_ave</td>\n      <td>BES 1B</td>\n      <td>BES_VB</td>\n      <td>True</td>\n      <td>False</td>\n      <td>False</td>\n      <td>False</td>\n      <td>0.0</td>\n      <td>0.0</td>\n      <td>NaN</td>\n      <td>solid</td>\n      <td>NaN</td>\n      <td>True</td>\n      <td>1</td>\n      <td>1</td>\n      <td>1</td>\n      <td>1</td>\n    </tr>\n    <tr>\n      <th>...</th>\n      <td>...</td>\n      <td>...</td>\n      <td>...</td>\n      <td>...</td>\n      <td>...</td>\n      <td>...</td>\n      <td>...</td>\n      <td>...</td>\n      <td>...</td>\n      <td>...</td>\n      <td>...</td>\n      <td>...</td>\n      <td>...</td>\n      <td>...</td>\n      <td>...</td>\n      <td>...</td>\n      <td>...</td>\n      <td>...</td>\n      <td>...</td>\n    </tr>\n    <tr>\n      <th>Events</th>\n      <td>HOSE_B_STATUS</td>\n      <td>HOSE_B_STATUS_EV</td>\n      <td>HOSE_B_STATUS_EV</td>\n      <td>Heated Hose B Status EV</td>\n      <td>TEMP_EVENT</td>\n      <td>True</td>\n      <td>False</td>\n      <td>False</td>\n      <td>False</td>\n      <td>NaN</td>\n      <td>NaN</td>\n      <td>NaN</td>\n      <td>NaN</td>\n      <td>NaN</td>\n      <td>True</td>\n      <td>0</td>\n      <td>0</td>\n      <td>0</td>\n      <td>0</td>\n    </tr>\n    <tr>\n      <th>Events</th>\n      <td>HOSE_C_STATUS</td>\n      <td>HOSE_C_STATUS_EV</td>\n      <td>HOSE_C_STATUS_EV</td>\n      <td>Heated Hose C Status EV</td>\n      <td>TEMP_EVENT</td>\n      <td>True</td>\n      <td>False</td>\n      <td>False</td>\n      <td>False</td>\n      <td>NaN</td>\n      <td>NaN</td>\n      <td>NaN</td>\n      <td>NaN</td>\n      <td>NaN</td>\n      <td>True</td>\n      <td>0</td>\n      <td>0</td>\n      <td>0</td>\n      <td>0</td>\n    </tr>\n    <tr>\n      <th>Events</th>\n      <td>TILT_SP</td>\n      <td>TILT_SP_EV</td>\n      <td>TILT_SP_EV</td>\n      <td>Enclosure Tilt Set Point EV</td>\n      <td>PRESSURE</td>\n      <td>True</td>\n      <td>False</td>\n      <td>False</td>\n      <td>False</td>\n      <td>NaN</td>\n      <td>NaN</td>\n      <td>NaN</td>\n      <td>NaN</td>\n      <td>NaN</td>\n      <td>True</td>\n      <td>0</td>\n      <td>0</td>\n      <td>0</td>\n      <td>0</td>\n    </tr>\n    <tr>\n      <th>Events</th>\n      <td>TILT_AUTO</td>\n      <td>TILT_AUTO_EV</td>\n      <td>TILT_AUTO_EV</td>\n      <td>Enclosure Tilt Automated EV</td>\n      <td>STATUS</td>\n      <td>True</td>\n      <td>False</td>\n      <td>False</td>\n      <td>False</td>\n      <td>NaN</td>\n      <td>NaN</td>\n      <td>NaN</td>\n      <td>NaN</td>\n      <td>NaN</td>\n      <td>True</td>\n      <td>0</td>\n      <td>0</td>\n      <td>0</td>\n      <td>0</td>\n    </tr>\n    <tr>\n      <th>Events</th>\n      <td>WAKEUP</td>\n      <td>WAKEUP_EV</td>\n      <td>WAKEUP_EV</td>\n      <td>Wakeup from Restart EV</td>\n      <td>STATUS</td>\n      <td>True</td>\n      <td>False</td>\n      <td>False</td>\n      <td>False</td>\n      <td>6.0</td>\n      <td>6.0</td>\n      <td>NaN</td>\n      <td>solid</td>\n      <td>3.0</td>\n      <td>True</td>\n      <td>0</td>\n      <td>0</td>\n      <td>0</td>\n      <td>0</td>\n    </tr>\n  </tbody>\n</table>\n<p>152 rows × 19 columns</p>\n</div>"
     },
     "metadata": {},
     "execution_count": 64
    }
   ],
   "source": [
    "info['parameters']"
   ]
  },
  {
   "cell_type": "code",
   "execution_count": 65,
   "metadata": {},
   "outputs": [
    {
     "output_type": "execute_result",
     "data": {
      "text/plain": "                  parameter_ave          parameter_lab          plot  line  \\\ndataset                                                                      \nSensor             BES_1__V_ave                  BES 1         BES_V  True   \nSensor             BES_2__V_ave                  BES 2         BES_V  True   \nSensor             BES_3__V_ave                  BES 3         BES_V  True   \nSensor             BES_4__V_ave                  BES 4         BES_V  True   \nSensor             BES_1__C_ave                  BES 1         BES_C  True   \nSensor             BES_2__C_ave                  BES 2         BES_C  True   \nSensor             BES_3__C_ave                  BES 3         BES_C  True   \nSensor             BES_4__C_ave                  BES 4         BES_C  True   \nSensor           BES_SUM__V_ave               ∑ [BESs]         BES_V  True   \nSensor           BES_SUM__C_ave               ∑ [BESs]         BES_C  True   \nSensor               REXT_1_ave  BES 1 R<sub>Ext</sub>          REXT  True   \nSensor               REXT_2_ave  BES 2 R<sub>Ext</sub>          REXT  True   \nSensor               REXT_3_ave  BES 3 R<sub>Ext</sub>          REXT  True   \nSensor               REXT_4_ave  BES 4 R<sub>Ext</sub>          REXT  True   \nSensor                OCP_1_ave                  BES 1           OCP  True   \nSensor                OCP_2_ave                  BES 2           OCP  True   \nSensor                OCP_3_ave                  BES 3           OCP  True   \nSensor                OCP_4_ave                  BES 4           OCP  True   \nSensor             TEMP_BES_ave      Heated Water Temp          TEMP  True   \nSensor             TEMP_MAT_ave       Heated Mats Temp  TEMP_PROCESS  True   \nSensor            TEMP_HOSE_ave      Heated Hoses Temp  TEMP_PROCESS  True   \nSensor         PRESSURE_BES_ave           BES Pressure      PRESSURE  True   \nSensor   SENSOR_HOSE_STATUS_ave    Heated Hoses Status    TEMP_EVENT  True   \nSkid             Inlet_Temp_ave    Pipe Temp (BE:WISE)          TEMP  True   \nSampLog                BOD5_ave              Feed BOD₅           BOD  True   \nSampLog                tCOD_ave              Feed tCOD           COD  True   \nSampLog                sCOD_ave              Feed sCOD           COD  True   \n\n         ribbon    bar  point  colour  fill   shape      dash  bar_order  \\\ndataset                                                                    \nSensor     True  False  False       0     0     NaN     solid        NaN   \nSensor     True  False  False       3     3     NaN     solid        NaN   \nSensor     True  False  False       5     5     NaN     solid        NaN   \nSensor     True  False  False       6     6     NaN     solid        NaN   \nSensor     True  False  False       0     0     NaN     solid        NaN   \nSensor     True  False  False       3     3     NaN     solid        NaN   \nSensor     True  False  False       5     5     NaN     solid        NaN   \nSensor     True  False  False       6     6     NaN     solid        NaN   \nSensor     True  False  False      29    29     NaN     solid        NaN   \nSensor     True  False  False      29    29     NaN     solid        NaN   \nSensor     True  False  False       0     0     NaN     solid        NaN   \nSensor     True  False  False       3     3     NaN     solid        NaN   \nSensor     True  False  False       5     5     NaN     solid        NaN   \nSensor     True  False  False       6     6     NaN     solid        NaN   \nSensor     True  False  False       0     0     NaN     solid        4.0   \nSensor     True  False  False       3     3     NaN     solid        3.0   \nSensor     True  False  False       5     5     NaN     solid        2.0   \nSensor     True  False  False       6     6     NaN     solid        1.0   \nSensor     True  False  False       3     3     NaN     solid        NaN   \nSensor     True  False  False       2     2     NaN     solid        NaN   \nSensor     True  False  False       3     3     NaN     solid        NaN   \nSensor     True  False  False       4     4     NaN     solid        NaN   \nSensor     True  False  False       3     3     NaN     solid        1.0   \nSkid       True  False  False       0     0     NaN  longdash        NaN   \nSampLog   False  False   True       4    14  circle     solid        NaN   \nSampLog   False  False   True       1    11  circle     solid        NaN   \nSampLog   False  False   True       4    14  circle     solid        NaN   \n\n         show_in_legend  selected_chart_0  selected_chart_1  selected_chart_2  \\\ndataset                                                                         \nSensor             True                 0                 0                 0   \nSensor             True                 0                 0                 0   \nSensor             True                 0                 0                 0   \nSensor             True                 0                 0                 0   \nSensor             True                 0                 0                 0   \nSensor             True                 0                 0                 0   \nSensor             True                 0                 0                 0   \nSensor             True                 0                 0                 0   \nSensor             True                 0                 0                 0   \nSensor             True                 0                 0                 0   \nSensor             True                 0                 0                 0   \nSensor             True                 0                 0                 0   \nSensor             True                 0                 0                 0   \nSensor             True                 0                 0                 0   \nSensor             True                 0                 0                 0   \nSensor             True                 0                 0                 0   \nSensor             True                 0                 0                 0   \nSensor             True                 0                 0                 0   \nSensor             True                 0                 0                 0   \nSensor             True                 0                 0                 0   \nSensor             True                 0                 0                 0   \nSensor             True                 0                 0                 0   \nSensor             True                 0                 0                 0   \nSkid               True                 1                 1                 1   \nSampLog            True                 1                 1                 1   \nSampLog            True                 1                 1                 1   \nSampLog            True                 1                 1                 1   \n\n         selected_chart_3  \ndataset                    \nSensor                  1  \nSensor                  1  \nSensor                  1  \nSensor                  1  \nSensor                  1  \nSensor                  1  \nSensor                  1  \nSensor                  1  \nSensor                  1  \nSensor                  1  \nSensor                  1  \nSensor                  1  \nSensor                  1  \nSensor                  1  \nSensor                  0  \nSensor                  0  \nSensor                  0  \nSensor                  0  \nSensor                  1  \nSensor                  1  \nSensor                  1  \nSensor                  1  \nSensor                  0  \nSkid                    1  \nSampLog                 1  \nSampLog                 1  \nSampLog                 1  ",
      "text/html": "<div>\n<style scoped>\n    .dataframe tbody tr th:only-of-type {\n        vertical-align: middle;\n    }\n\n    .dataframe tbody tr th {\n        vertical-align: top;\n    }\n\n    .dataframe thead th {\n        text-align: right;\n    }\n</style>\n<table border=\"1\" class=\"dataframe\">\n  <thead>\n    <tr style=\"text-align: right;\">\n      <th></th>\n      <th>parameter_ave</th>\n      <th>parameter_lab</th>\n      <th>plot</th>\n      <th>line</th>\n      <th>ribbon</th>\n      <th>bar</th>\n      <th>point</th>\n      <th>colour</th>\n      <th>fill</th>\n      <th>shape</th>\n      <th>dash</th>\n      <th>bar_order</th>\n      <th>show_in_legend</th>\n      <th>selected_chart_0</th>\n      <th>selected_chart_1</th>\n      <th>selected_chart_2</th>\n      <th>selected_chart_3</th>\n    </tr>\n    <tr>\n      <th>dataset</th>\n      <th></th>\n      <th></th>\n      <th></th>\n      <th></th>\n      <th></th>\n      <th></th>\n      <th></th>\n      <th></th>\n      <th></th>\n      <th></th>\n      <th></th>\n      <th></th>\n      <th></th>\n      <th></th>\n      <th></th>\n      <th></th>\n      <th></th>\n    </tr>\n  </thead>\n  <tbody>\n    <tr>\n      <th>Sensor</th>\n      <td>BES_1__V_ave</td>\n      <td>BES 1</td>\n      <td>BES_V</td>\n      <td>True</td>\n      <td>True</td>\n      <td>False</td>\n      <td>False</td>\n      <td>0</td>\n      <td>0</td>\n      <td>NaN</td>\n      <td>solid</td>\n      <td>NaN</td>\n      <td>True</td>\n      <td>0</td>\n      <td>0</td>\n      <td>0</td>\n      <td>1</td>\n    </tr>\n    <tr>\n      <th>Sensor</th>\n      <td>BES_2__V_ave</td>\n      <td>BES 2</td>\n      <td>BES_V</td>\n      <td>True</td>\n      <td>True</td>\n      <td>False</td>\n      <td>False</td>\n      <td>3</td>\n      <td>3</td>\n      <td>NaN</td>\n      <td>solid</td>\n      <td>NaN</td>\n      <td>True</td>\n      <td>0</td>\n      <td>0</td>\n      <td>0</td>\n      <td>1</td>\n    </tr>\n    <tr>\n      <th>Sensor</th>\n      <td>BES_3__V_ave</td>\n      <td>BES 3</td>\n      <td>BES_V</td>\n      <td>True</td>\n      <td>True</td>\n      <td>False</td>\n      <td>False</td>\n      <td>5</td>\n      <td>5</td>\n      <td>NaN</td>\n      <td>solid</td>\n      <td>NaN</td>\n      <td>True</td>\n      <td>0</td>\n      <td>0</td>\n      <td>0</td>\n      <td>1</td>\n    </tr>\n    <tr>\n      <th>Sensor</th>\n      <td>BES_4__V_ave</td>\n      <td>BES 4</td>\n      <td>BES_V</td>\n      <td>True</td>\n      <td>True</td>\n      <td>False</td>\n      <td>False</td>\n      <td>6</td>\n      <td>6</td>\n      <td>NaN</td>\n      <td>solid</td>\n      <td>NaN</td>\n      <td>True</td>\n      <td>0</td>\n      <td>0</td>\n      <td>0</td>\n      <td>1</td>\n    </tr>\n    <tr>\n      <th>Sensor</th>\n      <td>BES_1__C_ave</td>\n      <td>BES 1</td>\n      <td>BES_C</td>\n      <td>True</td>\n      <td>True</td>\n      <td>False</td>\n      <td>False</td>\n      <td>0</td>\n      <td>0</td>\n      <td>NaN</td>\n      <td>solid</td>\n      <td>NaN</td>\n      <td>True</td>\n      <td>0</td>\n      <td>0</td>\n      <td>0</td>\n      <td>1</td>\n    </tr>\n    <tr>\n      <th>Sensor</th>\n      <td>BES_2__C_ave</td>\n      <td>BES 2</td>\n      <td>BES_C</td>\n      <td>True</td>\n      <td>True</td>\n      <td>False</td>\n      <td>False</td>\n      <td>3</td>\n      <td>3</td>\n      <td>NaN</td>\n      <td>solid</td>\n      <td>NaN</td>\n      <td>True</td>\n      <td>0</td>\n      <td>0</td>\n      <td>0</td>\n      <td>1</td>\n    </tr>\n    <tr>\n      <th>Sensor</th>\n      <td>BES_3__C_ave</td>\n      <td>BES 3</td>\n      <td>BES_C</td>\n      <td>True</td>\n      <td>True</td>\n      <td>False</td>\n      <td>False</td>\n      <td>5</td>\n      <td>5</td>\n      <td>NaN</td>\n      <td>solid</td>\n      <td>NaN</td>\n      <td>True</td>\n      <td>0</td>\n      <td>0</td>\n      <td>0</td>\n      <td>1</td>\n    </tr>\n    <tr>\n      <th>Sensor</th>\n      <td>BES_4__C_ave</td>\n      <td>BES 4</td>\n      <td>BES_C</td>\n      <td>True</td>\n      <td>True</td>\n      <td>False</td>\n      <td>False</td>\n      <td>6</td>\n      <td>6</td>\n      <td>NaN</td>\n      <td>solid</td>\n      <td>NaN</td>\n      <td>True</td>\n      <td>0</td>\n      <td>0</td>\n      <td>0</td>\n      <td>1</td>\n    </tr>\n    <tr>\n      <th>Sensor</th>\n      <td>BES_SUM__V_ave</td>\n      <td>∑ [BESs]</td>\n      <td>BES_V</td>\n      <td>True</td>\n      <td>True</td>\n      <td>False</td>\n      <td>False</td>\n      <td>29</td>\n      <td>29</td>\n      <td>NaN</td>\n      <td>solid</td>\n      <td>NaN</td>\n      <td>True</td>\n      <td>0</td>\n      <td>0</td>\n      <td>0</td>\n      <td>1</td>\n    </tr>\n    <tr>\n      <th>Sensor</th>\n      <td>BES_SUM__C_ave</td>\n      <td>∑ [BESs]</td>\n      <td>BES_C</td>\n      <td>True</td>\n      <td>True</td>\n      <td>False</td>\n      <td>False</td>\n      <td>29</td>\n      <td>29</td>\n      <td>NaN</td>\n      <td>solid</td>\n      <td>NaN</td>\n      <td>True</td>\n      <td>0</td>\n      <td>0</td>\n      <td>0</td>\n      <td>1</td>\n    </tr>\n    <tr>\n      <th>Sensor</th>\n      <td>REXT_1_ave</td>\n      <td>BES 1 R&lt;sub&gt;Ext&lt;/sub&gt;</td>\n      <td>REXT</td>\n      <td>True</td>\n      <td>True</td>\n      <td>False</td>\n      <td>False</td>\n      <td>0</td>\n      <td>0</td>\n      <td>NaN</td>\n      <td>solid</td>\n      <td>NaN</td>\n      <td>True</td>\n      <td>0</td>\n      <td>0</td>\n      <td>0</td>\n      <td>1</td>\n    </tr>\n    <tr>\n      <th>Sensor</th>\n      <td>REXT_2_ave</td>\n      <td>BES 2 R&lt;sub&gt;Ext&lt;/sub&gt;</td>\n      <td>REXT</td>\n      <td>True</td>\n      <td>True</td>\n      <td>False</td>\n      <td>False</td>\n      <td>3</td>\n      <td>3</td>\n      <td>NaN</td>\n      <td>solid</td>\n      <td>NaN</td>\n      <td>True</td>\n      <td>0</td>\n      <td>0</td>\n      <td>0</td>\n      <td>1</td>\n    </tr>\n    <tr>\n      <th>Sensor</th>\n      <td>REXT_3_ave</td>\n      <td>BES 3 R&lt;sub&gt;Ext&lt;/sub&gt;</td>\n      <td>REXT</td>\n      <td>True</td>\n      <td>True</td>\n      <td>False</td>\n      <td>False</td>\n      <td>5</td>\n      <td>5</td>\n      <td>NaN</td>\n      <td>solid</td>\n      <td>NaN</td>\n      <td>True</td>\n      <td>0</td>\n      <td>0</td>\n      <td>0</td>\n      <td>1</td>\n    </tr>\n    <tr>\n      <th>Sensor</th>\n      <td>REXT_4_ave</td>\n      <td>BES 4 R&lt;sub&gt;Ext&lt;/sub&gt;</td>\n      <td>REXT</td>\n      <td>True</td>\n      <td>True</td>\n      <td>False</td>\n      <td>False</td>\n      <td>6</td>\n      <td>6</td>\n      <td>NaN</td>\n      <td>solid</td>\n      <td>NaN</td>\n      <td>True</td>\n      <td>0</td>\n      <td>0</td>\n      <td>0</td>\n      <td>1</td>\n    </tr>\n    <tr>\n      <th>Sensor</th>\n      <td>OCP_1_ave</td>\n      <td>BES 1</td>\n      <td>OCP</td>\n      <td>True</td>\n      <td>True</td>\n      <td>False</td>\n      <td>False</td>\n      <td>0</td>\n      <td>0</td>\n      <td>NaN</td>\n      <td>solid</td>\n      <td>4.0</td>\n      <td>True</td>\n      <td>0</td>\n      <td>0</td>\n      <td>0</td>\n      <td>0</td>\n    </tr>\n    <tr>\n      <th>Sensor</th>\n      <td>OCP_2_ave</td>\n      <td>BES 2</td>\n      <td>OCP</td>\n      <td>True</td>\n      <td>True</td>\n      <td>False</td>\n      <td>False</td>\n      <td>3</td>\n      <td>3</td>\n      <td>NaN</td>\n      <td>solid</td>\n      <td>3.0</td>\n      <td>True</td>\n      <td>0</td>\n      <td>0</td>\n      <td>0</td>\n      <td>0</td>\n    </tr>\n    <tr>\n      <th>Sensor</th>\n      <td>OCP_3_ave</td>\n      <td>BES 3</td>\n      <td>OCP</td>\n      <td>True</td>\n      <td>True</td>\n      <td>False</td>\n      <td>False</td>\n      <td>5</td>\n      <td>5</td>\n      <td>NaN</td>\n      <td>solid</td>\n      <td>2.0</td>\n      <td>True</td>\n      <td>0</td>\n      <td>0</td>\n      <td>0</td>\n      <td>0</td>\n    </tr>\n    <tr>\n      <th>Sensor</th>\n      <td>OCP_4_ave</td>\n      <td>BES 4</td>\n      <td>OCP</td>\n      <td>True</td>\n      <td>True</td>\n      <td>False</td>\n      <td>False</td>\n      <td>6</td>\n      <td>6</td>\n      <td>NaN</td>\n      <td>solid</td>\n      <td>1.0</td>\n      <td>True</td>\n      <td>0</td>\n      <td>0</td>\n      <td>0</td>\n      <td>0</td>\n    </tr>\n    <tr>\n      <th>Sensor</th>\n      <td>TEMP_BES_ave</td>\n      <td>Heated Water Temp</td>\n      <td>TEMP</td>\n      <td>True</td>\n      <td>True</td>\n      <td>False</td>\n      <td>False</td>\n      <td>3</td>\n      <td>3</td>\n      <td>NaN</td>\n      <td>solid</td>\n      <td>NaN</td>\n      <td>True</td>\n      <td>0</td>\n      <td>0</td>\n      <td>0</td>\n      <td>1</td>\n    </tr>\n    <tr>\n      <th>Sensor</th>\n      <td>TEMP_MAT_ave</td>\n      <td>Heated Mats Temp</td>\n      <td>TEMP_PROCESS</td>\n      <td>True</td>\n      <td>True</td>\n      <td>False</td>\n      <td>False</td>\n      <td>2</td>\n      <td>2</td>\n      <td>NaN</td>\n      <td>solid</td>\n      <td>NaN</td>\n      <td>True</td>\n      <td>0</td>\n      <td>0</td>\n      <td>0</td>\n      <td>1</td>\n    </tr>\n    <tr>\n      <th>Sensor</th>\n      <td>TEMP_HOSE_ave</td>\n      <td>Heated Hoses Temp</td>\n      <td>TEMP_PROCESS</td>\n      <td>True</td>\n      <td>True</td>\n      <td>False</td>\n      <td>False</td>\n      <td>3</td>\n      <td>3</td>\n      <td>NaN</td>\n      <td>solid</td>\n      <td>NaN</td>\n      <td>True</td>\n      <td>0</td>\n      <td>0</td>\n      <td>0</td>\n      <td>1</td>\n    </tr>\n    <tr>\n      <th>Sensor</th>\n      <td>PRESSURE_BES_ave</td>\n      <td>BES Pressure</td>\n      <td>PRESSURE</td>\n      <td>True</td>\n      <td>True</td>\n      <td>False</td>\n      <td>False</td>\n      <td>4</td>\n      <td>4</td>\n      <td>NaN</td>\n      <td>solid</td>\n      <td>NaN</td>\n      <td>True</td>\n      <td>0</td>\n      <td>0</td>\n      <td>0</td>\n      <td>1</td>\n    </tr>\n    <tr>\n      <th>Sensor</th>\n      <td>SENSOR_HOSE_STATUS_ave</td>\n      <td>Heated Hoses Status</td>\n      <td>TEMP_EVENT</td>\n      <td>True</td>\n      <td>True</td>\n      <td>False</td>\n      <td>False</td>\n      <td>3</td>\n      <td>3</td>\n      <td>NaN</td>\n      <td>solid</td>\n      <td>1.0</td>\n      <td>True</td>\n      <td>0</td>\n      <td>0</td>\n      <td>0</td>\n      <td>0</td>\n    </tr>\n    <tr>\n      <th>Skid</th>\n      <td>Inlet_Temp_ave</td>\n      <td>Pipe Temp (BE:WISE)</td>\n      <td>TEMP</td>\n      <td>True</td>\n      <td>True</td>\n      <td>False</td>\n      <td>False</td>\n      <td>0</td>\n      <td>0</td>\n      <td>NaN</td>\n      <td>longdash</td>\n      <td>NaN</td>\n      <td>True</td>\n      <td>1</td>\n      <td>1</td>\n      <td>1</td>\n      <td>1</td>\n    </tr>\n    <tr>\n      <th>SampLog</th>\n      <td>BOD5_ave</td>\n      <td>Feed BOD₅</td>\n      <td>BOD</td>\n      <td>True</td>\n      <td>False</td>\n      <td>False</td>\n      <td>True</td>\n      <td>4</td>\n      <td>14</td>\n      <td>circle</td>\n      <td>solid</td>\n      <td>NaN</td>\n      <td>True</td>\n      <td>1</td>\n      <td>1</td>\n      <td>1</td>\n      <td>1</td>\n    </tr>\n    <tr>\n      <th>SampLog</th>\n      <td>tCOD_ave</td>\n      <td>Feed tCOD</td>\n      <td>COD</td>\n      <td>True</td>\n      <td>False</td>\n      <td>False</td>\n      <td>True</td>\n      <td>1</td>\n      <td>11</td>\n      <td>circle</td>\n      <td>solid</td>\n      <td>NaN</td>\n      <td>True</td>\n      <td>1</td>\n      <td>1</td>\n      <td>1</td>\n      <td>1</td>\n    </tr>\n    <tr>\n      <th>SampLog</th>\n      <td>sCOD_ave</td>\n      <td>Feed sCOD</td>\n      <td>COD</td>\n      <td>True</td>\n      <td>False</td>\n      <td>False</td>\n      <td>True</td>\n      <td>4</td>\n      <td>14</td>\n      <td>circle</td>\n      <td>solid</td>\n      <td>NaN</td>\n      <td>True</td>\n      <td>1</td>\n      <td>1</td>\n      <td>1</td>\n      <td>1</td>\n    </tr>\n  </tbody>\n</table>\n</div>"
     },
     "metadata": {},
     "execution_count": 65
    }
   ],
   "source": [
    "info['parameters_ave']"
   ]
  },
  {
   "cell_type": "markdown",
   "execution_count": null,
   "metadata": {},
   "outputs": [],
   "source": [
    "### Plots:"
   ]
  },
  {
   "cell_type": "code",
   "execution_count": 66,
   "metadata": {},
   "outputs": [
    {
     "output_type": "execute_result",
     "data": {
      "text/plain": "       row  col    plot          plot_lab                                ylab  \\\nchart                                                                           \n0        1    1  BES_CA               BES         Current Density<br>(μA/cm²)   \n0        2    1  BES_CB               BES         Current Density<br>(μA/cm²)   \n0        3    1  BES_CC               BES         Current Density<br>(μA/cm²)   \n0        4    1     COD               COD                    COD<br>(mg/l O₂)   \n0        5    1     BOD               BOD                   BOD₅<br>(mg/l O₂)   \n...    ...  ...     ...               ...                                 ...   \n3       11    1    REXT              REXT              R<sub>Ext</sub><br>(Ω)   \n3       12    1     OCP               OCP                                 OCP   \n3       13    1      DO  Dissolved Oxygen          Dissolved<br>Oxygen (mg/l)   \n3       14    1   LEVEL            Levels  River Level (m)<br>& Rainfall (mm)   \n3       15    1   EVENT        TEMP_EVENT                  Heating<br>Control   \n\n       ymin   ymax   height    log  Unnamed: 10  Unnamed: 11  Unnamed: 12  \\\nchart                                                                       \n0         0     40       10  False          NaN          NaN          NaN   \n0         0     40       10  False          NaN          NaN          NaN   \n0         0     40       10  False          NaN          NaN          NaN   \n0         0    600       10  False          NaN          NaN          NaN   \n0         0    400       10  False          NaN          NaN          NaN   \n...     ...    ...      ...    ...          ...          ...          ...   \n3         1  51101        8   True          NaN          NaN          NaN   \n3         0      1        6  False          NaN          NaN          NaN   \n3         0      8       10  False          NaN          NaN          NaN   \n3         0      3       10  False          NaN          NaN          NaN   \n3         0      1        3  False          NaN          NaN          NaN   \n\n       Unnamed: 13  Unnamed: 14  Unnamed: 15 Unnamed: 16  \nchart                                                     \n0              NaN          NaN          NaN         NaN  \n0              NaN          NaN          NaN         NaN  \n0              NaN          NaN          NaN         NaN  \n0              NaN          NaN          NaN         NaN  \n0              NaN          NaN          NaN         NaN  \n...            ...          ...          ...         ...  \n3              NaN          NaN          NaN         NaN  \n3              NaN          NaN          NaN         NaN  \n3              NaN          NaN          NaN         NaN  \n3              NaN          NaN          NaN         NaN  \n3              NaN          NaN          NaN         NaN  \n\n[66 rows x 16 columns]",
      "text/html": "<div>\n<style scoped>\n    .dataframe tbody tr th:only-of-type {\n        vertical-align: middle;\n    }\n\n    .dataframe tbody tr th {\n        vertical-align: top;\n    }\n\n    .dataframe thead th {\n        text-align: right;\n    }\n</style>\n<table border=\"1\" class=\"dataframe\">\n  <thead>\n    <tr style=\"text-align: right;\">\n      <th></th>\n      <th>row</th>\n      <th>col</th>\n      <th>plot</th>\n      <th>plot_lab</th>\n      <th>ylab</th>\n      <th>ymin</th>\n      <th>ymax</th>\n      <th>height</th>\n      <th>log</th>\n      <th>Unnamed: 10</th>\n      <th>Unnamed: 11</th>\n      <th>Unnamed: 12</th>\n      <th>Unnamed: 13</th>\n      <th>Unnamed: 14</th>\n      <th>Unnamed: 15</th>\n      <th>Unnamed: 16</th>\n    </tr>\n    <tr>\n      <th>chart</th>\n      <th></th>\n      <th></th>\n      <th></th>\n      <th></th>\n      <th></th>\n      <th></th>\n      <th></th>\n      <th></th>\n      <th></th>\n      <th></th>\n      <th></th>\n      <th></th>\n      <th></th>\n      <th></th>\n      <th></th>\n      <th></th>\n    </tr>\n  </thead>\n  <tbody>\n    <tr>\n      <th>0</th>\n      <td>1</td>\n      <td>1</td>\n      <td>BES_CA</td>\n      <td>BES</td>\n      <td>Current Density&lt;br&gt;(μA/cm²)</td>\n      <td>0</td>\n      <td>40</td>\n      <td>10</td>\n      <td>False</td>\n      <td>NaN</td>\n      <td>NaN</td>\n      <td>NaN</td>\n      <td>NaN</td>\n      <td>NaN</td>\n      <td>NaN</td>\n      <td>NaN</td>\n    </tr>\n    <tr>\n      <th>0</th>\n      <td>2</td>\n      <td>1</td>\n      <td>BES_CB</td>\n      <td>BES</td>\n      <td>Current Density&lt;br&gt;(μA/cm²)</td>\n      <td>0</td>\n      <td>40</td>\n      <td>10</td>\n      <td>False</td>\n      <td>NaN</td>\n      <td>NaN</td>\n      <td>NaN</td>\n      <td>NaN</td>\n      <td>NaN</td>\n      <td>NaN</td>\n      <td>NaN</td>\n    </tr>\n    <tr>\n      <th>0</th>\n      <td>3</td>\n      <td>1</td>\n      <td>BES_CC</td>\n      <td>BES</td>\n      <td>Current Density&lt;br&gt;(μA/cm²)</td>\n      <td>0</td>\n      <td>40</td>\n      <td>10</td>\n      <td>False</td>\n      <td>NaN</td>\n      <td>NaN</td>\n      <td>NaN</td>\n      <td>NaN</td>\n      <td>NaN</td>\n      <td>NaN</td>\n      <td>NaN</td>\n    </tr>\n    <tr>\n      <th>0</th>\n      <td>4</td>\n      <td>1</td>\n      <td>COD</td>\n      <td>COD</td>\n      <td>COD&lt;br&gt;(mg/l O₂)</td>\n      <td>0</td>\n      <td>600</td>\n      <td>10</td>\n      <td>False</td>\n      <td>NaN</td>\n      <td>NaN</td>\n      <td>NaN</td>\n      <td>NaN</td>\n      <td>NaN</td>\n      <td>NaN</td>\n      <td>NaN</td>\n    </tr>\n    <tr>\n      <th>0</th>\n      <td>5</td>\n      <td>1</td>\n      <td>BOD</td>\n      <td>BOD</td>\n      <td>BOD₅&lt;br&gt;(mg/l O₂)</td>\n      <td>0</td>\n      <td>400</td>\n      <td>10</td>\n      <td>False</td>\n      <td>NaN</td>\n      <td>NaN</td>\n      <td>NaN</td>\n      <td>NaN</td>\n      <td>NaN</td>\n      <td>NaN</td>\n      <td>NaN</td>\n    </tr>\n    <tr>\n      <th>...</th>\n      <td>...</td>\n      <td>...</td>\n      <td>...</td>\n      <td>...</td>\n      <td>...</td>\n      <td>...</td>\n      <td>...</td>\n      <td>...</td>\n      <td>...</td>\n      <td>...</td>\n      <td>...</td>\n      <td>...</td>\n      <td>...</td>\n      <td>...</td>\n      <td>...</td>\n      <td>...</td>\n    </tr>\n    <tr>\n      <th>3</th>\n      <td>11</td>\n      <td>1</td>\n      <td>REXT</td>\n      <td>REXT</td>\n      <td>R&lt;sub&gt;Ext&lt;/sub&gt;&lt;br&gt;(Ω)</td>\n      <td>1</td>\n      <td>51101</td>\n      <td>8</td>\n      <td>True</td>\n      <td>NaN</td>\n      <td>NaN</td>\n      <td>NaN</td>\n      <td>NaN</td>\n      <td>NaN</td>\n      <td>NaN</td>\n      <td>NaN</td>\n    </tr>\n    <tr>\n      <th>3</th>\n      <td>12</td>\n      <td>1</td>\n      <td>OCP</td>\n      <td>OCP</td>\n      <td>OCP</td>\n      <td>0</td>\n      <td>1</td>\n      <td>6</td>\n      <td>False</td>\n      <td>NaN</td>\n      <td>NaN</td>\n      <td>NaN</td>\n      <td>NaN</td>\n      <td>NaN</td>\n      <td>NaN</td>\n      <td>NaN</td>\n    </tr>\n    <tr>\n      <th>3</th>\n      <td>13</td>\n      <td>1</td>\n      <td>DO</td>\n      <td>Dissolved Oxygen</td>\n      <td>Dissolved&lt;br&gt;Oxygen (mg/l)</td>\n      <td>0</td>\n      <td>8</td>\n      <td>10</td>\n      <td>False</td>\n      <td>NaN</td>\n      <td>NaN</td>\n      <td>NaN</td>\n      <td>NaN</td>\n      <td>NaN</td>\n      <td>NaN</td>\n      <td>NaN</td>\n    </tr>\n    <tr>\n      <th>3</th>\n      <td>14</td>\n      <td>1</td>\n      <td>LEVEL</td>\n      <td>Levels</td>\n      <td>River Level (m)&lt;br&gt;&amp; Rainfall (mm)</td>\n      <td>0</td>\n      <td>3</td>\n      <td>10</td>\n      <td>False</td>\n      <td>NaN</td>\n      <td>NaN</td>\n      <td>NaN</td>\n      <td>NaN</td>\n      <td>NaN</td>\n      <td>NaN</td>\n      <td>NaN</td>\n    </tr>\n    <tr>\n      <th>3</th>\n      <td>15</td>\n      <td>1</td>\n      <td>EVENT</td>\n      <td>TEMP_EVENT</td>\n      <td>Heating&lt;br&gt;Control</td>\n      <td>0</td>\n      <td>1</td>\n      <td>3</td>\n      <td>False</td>\n      <td>NaN</td>\n      <td>NaN</td>\n      <td>NaN</td>\n      <td>NaN</td>\n      <td>NaN</td>\n      <td>NaN</td>\n      <td>NaN</td>\n    </tr>\n  </tbody>\n</table>\n<p>66 rows × 16 columns</p>\n</div>"
     },
     "metadata": {},
     "execution_count": 66
    }
   ],
   "source": [
    "info['plots']"
   ]
  },
  {
   "cell_type": "markdown",
   "execution_count": null,
   "metadata": {},
   "outputs": [],
   "source": [
    "### Colours:"
   ]
  },
  {
   "cell_type": "code",
   "execution_count": 67,
   "metadata": {},
   "outputs": [
    {
     "output_type": "display_data",
     "data": {
      "text/plain": "<Figure size 720x72 with 1 Axes>",
      "image/svg+xml": "<?xml version=\"1.0\" encoding=\"utf-8\" standalone=\"no\"?>\r\n<!DOCTYPE svg PUBLIC \"-//W3C//DTD SVG 1.1//EN\"\r\n  \"http://www.w3.org/Graphics/SVG/1.1/DTD/svg11.dtd\">\r\n<!-- Created with matplotlib (https://matplotlib.org/) -->\r\n<svg height=\"72.26pt\" version=\"1.1\" viewBox=\"0 0 575.9 72.26\" width=\"575.9pt\" xmlns=\"http://www.w3.org/2000/svg\" xmlns:xlink=\"http://www.w3.org/1999/xlink\">\r\n <defs>\r\n  <style type=\"text/css\">\r\n*{stroke-linecap:butt;stroke-linejoin:round;}\r\n  </style>\r\n </defs>\r\n <g id=\"figure_1\">\r\n  <g id=\"patch_1\">\r\n   <path d=\"M 0 72.26 \r\nL 575.9 72.26 \r\nL 575.9 0 \r\nL 0 0 \r\nz\r\n\" style=\"fill:none;\"/>\r\n  </g>\r\n  <g id=\"axes_1\">\r\n   <g id=\"patch_2\">\r\n    <path d=\"M 10.7 61.56 \r\nL 568.7 61.56 \r\nL 568.7 7.2 \r\nL 10.7 7.2 \r\nz\r\n\" style=\"fill:#ffffff;\"/>\r\n   </g>\r\n   <g clip-path=\"url(#p8fb893e9e0)\">\r\n    <image height=\"55\" id=\"imagec6121b8b22\" transform=\"scale(1 -1)translate(0 -55)\" width=\"558\" x=\"10.7\" xlink:href=\"data:image/png;base64,\r\niVBORw0KGgoAAAANSUhEUgAAAi4AAAA3CAYAAAArDMGlAAAABHNCSVQICAgIfAhkiAAAAWRJREFUeJzt1rEtBWAYQFEkEjQatZJQq98K2jfGawxhDpURJNZQK4RGJQZgBc2fL1fOmeCWd//l4vJn7x+73n5MJyz1vDmbTlhm93YynbDU5/nDdMJSR0/v0wlL3X0dTycsdXt6OJ2wzOPr/XTCUt9XN9MJSx1MBwAA/JVxAQAyjAsAkGFcAIAM4wIAZBgXACDDuAAAGcYFAMgwLgBAhnEBADKMCwCQYVwAgAzjAgBkGBcAIMO4AAAZxgUAyDAuAECGcQEAMowLAJBhXACADOMCAGQYFwAgw7gAABnGBQDIMC4AQIZxAQAyjAsAkGFcAIAM4wIAZBgXACDDuAAAGcYFAMgwLgBAhnEBADKMCwCQYVwAgAzjAgBkGBcAIMO4AAAZxgUAyDAuAECGcQEAMowLAJBhXACADOMCAGQYFwAgw7gAABnGBQDIMC4AQIZxAQAyjAsAkGFcAIAM4wIAZBgXACDjF20IDufCfwCiAAAAAElFTkSuQmCC\" y=\"-6.56\"/>\r\n   </g>\r\n   <g id=\"matplotlib.axis_1\">\r\n    <g id=\"xtick_1\">\r\n     <g id=\"line2d_1\">\r\n      <defs>\r\n       <path d=\"M 0 0 \r\nL 0 3.5 \r\n\" id=\"mc62c3eefc2\" style=\"stroke:#000000;stroke-width:0.8;\"/>\r\n      </defs>\r\n      <g>\r\n       <use style=\"stroke:#000000;stroke-width:0.8;\" x=\"10.7\" xlink:href=\"#mc62c3eefc2\" y=\"61.56\"/>\r\n      </g>\r\n     </g>\r\n    </g>\r\n    <g id=\"xtick_2\">\r\n     <g id=\"line2d_2\">\r\n      <g>\r\n       <use style=\"stroke:#000000;stroke-width:0.8;\" x=\"66.5\" xlink:href=\"#mc62c3eefc2\" y=\"61.56\"/>\r\n      </g>\r\n     </g>\r\n    </g>\r\n    <g id=\"xtick_3\">\r\n     <g id=\"line2d_3\">\r\n      <g>\r\n       <use style=\"stroke:#000000;stroke-width:0.8;\" x=\"122.3\" xlink:href=\"#mc62c3eefc2\" y=\"61.56\"/>\r\n      </g>\r\n     </g>\r\n    </g>\r\n    <g id=\"xtick_4\">\r\n     <g id=\"line2d_4\">\r\n      <g>\r\n       <use style=\"stroke:#000000;stroke-width:0.8;\" x=\"178.1\" xlink:href=\"#mc62c3eefc2\" y=\"61.56\"/>\r\n      </g>\r\n     </g>\r\n    </g>\r\n    <g id=\"xtick_5\">\r\n     <g id=\"line2d_5\">\r\n      <g>\r\n       <use style=\"stroke:#000000;stroke-width:0.8;\" x=\"233.9\" xlink:href=\"#mc62c3eefc2\" y=\"61.56\"/>\r\n      </g>\r\n     </g>\r\n    </g>\r\n    <g id=\"xtick_6\">\r\n     <g id=\"line2d_6\">\r\n      <g>\r\n       <use style=\"stroke:#000000;stroke-width:0.8;\" x=\"289.7\" xlink:href=\"#mc62c3eefc2\" y=\"61.56\"/>\r\n      </g>\r\n     </g>\r\n    </g>\r\n    <g id=\"xtick_7\">\r\n     <g id=\"line2d_7\">\r\n      <g>\r\n       <use style=\"stroke:#000000;stroke-width:0.8;\" x=\"345.5\" xlink:href=\"#mc62c3eefc2\" y=\"61.56\"/>\r\n      </g>\r\n     </g>\r\n    </g>\r\n    <g id=\"xtick_8\">\r\n     <g id=\"line2d_8\">\r\n      <g>\r\n       <use style=\"stroke:#000000;stroke-width:0.8;\" x=\"401.3\" xlink:href=\"#mc62c3eefc2\" y=\"61.56\"/>\r\n      </g>\r\n     </g>\r\n    </g>\r\n    <g id=\"xtick_9\">\r\n     <g id=\"line2d_9\">\r\n      <g>\r\n       <use style=\"stroke:#000000;stroke-width:0.8;\" x=\"457.1\" xlink:href=\"#mc62c3eefc2\" y=\"61.56\"/>\r\n      </g>\r\n     </g>\r\n    </g>\r\n    <g id=\"xtick_10\">\r\n     <g id=\"line2d_10\">\r\n      <g>\r\n       <use style=\"stroke:#000000;stroke-width:0.8;\" x=\"512.9\" xlink:href=\"#mc62c3eefc2\" y=\"61.56\"/>\r\n      </g>\r\n     </g>\r\n    </g>\r\n   </g>\r\n   <g id=\"matplotlib.axis_2\">\r\n    <g id=\"ytick_1\">\r\n     <g id=\"line2d_11\">\r\n      <defs>\r\n       <path d=\"M 0 0 \r\nL -3.5 0 \r\n\" id=\"m5d94db3c2d\" style=\"stroke:#000000;stroke-width:0.8;\"/>\r\n      </defs>\r\n      <g>\r\n       <use style=\"stroke:#000000;stroke-width:0.8;\" x=\"10.7\" xlink:href=\"#m5d94db3c2d\" y=\"7.2\"/>\r\n      </g>\r\n     </g>\r\n    </g>\r\n    <g id=\"ytick_2\">\r\n     <g id=\"line2d_12\">\r\n      <g>\r\n       <use style=\"stroke:#000000;stroke-width:0.8;\" x=\"10.7\" xlink:href=\"#m5d94db3c2d\" y=\"61.56\"/>\r\n      </g>\r\n     </g>\r\n    </g>\r\n   </g>\r\n   <g id=\"patch_3\">\r\n    <path d=\"M 10.7 61.56 \r\nL 10.7 7.2 \r\n\" style=\"fill:none;stroke:#000000;stroke-linecap:square;stroke-linejoin:miter;stroke-width:0.8;\"/>\r\n   </g>\r\n   <g id=\"patch_4\">\r\n    <path d=\"M 568.7 61.56 \r\nL 568.7 7.2 \r\n\" style=\"fill:none;stroke:#000000;stroke-linecap:square;stroke-linejoin:miter;stroke-width:0.8;\"/>\r\n   </g>\r\n   <g id=\"patch_5\">\r\n    <path d=\"M 10.7 61.56 \r\nL 568.7 61.56 \r\n\" style=\"fill:none;stroke:#000000;stroke-linecap:square;stroke-linejoin:miter;stroke-width:0.8;\"/>\r\n   </g>\r\n   <g id=\"patch_6\">\r\n    <path d=\"M 10.7 7.2 \r\nL 568.7 7.2 \r\n\" style=\"fill:none;stroke:#000000;stroke-linecap:square;stroke-linejoin:miter;stroke-width:0.8;\"/>\r\n   </g>\r\n  </g>\r\n </g>\r\n <defs>\r\n  <clipPath id=\"p8fb893e9e0\">\r\n   <rect height=\"54.36\" width=\"558\" x=\"10.7\" y=\"7.2\"/>\r\n  </clipPath>\r\n </defs>\r\n</svg>\r\n",
      "image/png": "[encoded data removed]"
     },
     "metadata": {
      "needs_background": "light"
     }
    },
    {
     "output_type": "display_data",
     "data": {
      "text/plain": "<Figure size 720x72 with 1 Axes>",
      "image/svg+xml": "<?xml version=\"1.0\" encoding=\"utf-8\" standalone=\"no\"?>\r\n<!DOCTYPE svg PUBLIC \"-//W3C//DTD SVG 1.1//EN\"\r\n  \"http://www.w3.org/Graphics/SVG/1.1/DTD/svg11.dtd\">\r\n<!-- Created with matplotlib (https://matplotlib.org/) -->\r\n<svg height=\"72.26pt\" version=\"1.1\" viewBox=\"0 0 575.9 72.26\" width=\"575.9pt\" xmlns=\"http://www.w3.org/2000/svg\" xmlns:xlink=\"http://www.w3.org/1999/xlink\">\r\n <defs>\r\n  <style type=\"text/css\">\r\n*{stroke-linecap:butt;stroke-linejoin:round;}\r\n  </style>\r\n </defs>\r\n <g id=\"figure_1\">\r\n  <g id=\"patch_1\">\r\n   <path d=\"M 0 72.26 \r\nL 575.9 72.26 \r\nL 575.9 0 \r\nL 0 0 \r\nz\r\n\" style=\"fill:none;\"/>\r\n  </g>\r\n  <g id=\"axes_1\">\r\n   <g id=\"patch_2\">\r\n    <path d=\"M 10.7 61.56 \r\nL 568.7 61.56 \r\nL 568.7 7.2 \r\nL 10.7 7.2 \r\nz\r\n\" style=\"fill:#ffffff;\"/>\r\n   </g>\r\n   <g clip-path=\"url(#p38f5f7b8da)\">\r\n    <image height=\"55\" id=\"imagebf80f2183b\" transform=\"scale(1 -1)translate(0 -55)\" width=\"558\" x=\"10.7\" xlink:href=\"data:image/png;base64,\r\niVBORw0KGgoAAAANSUhEUgAAAi4AAAA3CAYAAAArDMGlAAAABHNCSVQICAgIfAhkiAAAAV9JREFUeJzt1qFNA2AYRVGggMYQbINEwjidqwnTIPBMgKshiE5ASFkB8+fLbc6Z4JmX3MvT6/50cc4eD9MLlvrc3k9PWObt+nd6wlI3P7vpCUvdHTfTE5Z6+D5OT1jq+fZ8//fx9T49YanN08v0hKWupgcAAPyXcAEAMoQLAJAhXACADOECAGQIFwAgQ7gAABnCBQDIEC4AQIZwAQAyhAsAkCFcAIAM4QIAZAgXACBDuAAAGcIFAMgQLgBAhnABADKECwCQIVwAgAzhAgBkCBcAIEO4AAAZwgUAyBAuAECGcAEAMoQLAJAhXACADOECAGQIFwAgQ7gAABnCBQDIEC4AQIZwAQAyhAsAkCFcAIAM4QIAZAgXACBDuAAAGcIFAMgQLgBAhnABADKECwCQIVwAgAzhAgBkCBcAIEO4AAAZwgUAyBAuAECGcAEAMoQLAJAhXACADOECAGQIFwAg4w+Ojw+/oOP44gAAAABJRU5ErkJggg==\" y=\"-6.56\"/>\r\n   </g>\r\n   <g id=\"matplotlib.axis_1\">\r\n    <g id=\"xtick_1\">\r\n     <g id=\"line2d_1\">\r\n      <defs>\r\n       <path d=\"M 0 0 \r\nL 0 3.5 \r\n\" id=\"m48515ef601\" style=\"stroke:#000000;stroke-width:0.8;\"/>\r\n      </defs>\r\n      <g>\r\n       <use style=\"stroke:#000000;stroke-width:0.8;\" x=\"10.7\" xlink:href=\"#m48515ef601\" y=\"61.56\"/>\r\n      </g>\r\n     </g>\r\n    </g>\r\n    <g id=\"xtick_2\">\r\n     <g id=\"line2d_2\">\r\n      <g>\r\n       <use style=\"stroke:#000000;stroke-width:0.8;\" x=\"66.5\" xlink:href=\"#m48515ef601\" y=\"61.56\"/>\r\n      </g>\r\n     </g>\r\n    </g>\r\n    <g id=\"xtick_3\">\r\n     <g id=\"line2d_3\">\r\n      <g>\r\n       <use style=\"stroke:#000000;stroke-width:0.8;\" x=\"122.3\" xlink:href=\"#m48515ef601\" y=\"61.56\"/>\r\n      </g>\r\n     </g>\r\n    </g>\r\n    <g id=\"xtick_4\">\r\n     <g id=\"line2d_4\">\r\n      <g>\r\n       <use style=\"stroke:#000000;stroke-width:0.8;\" x=\"178.1\" xlink:href=\"#m48515ef601\" y=\"61.56\"/>\r\n      </g>\r\n     </g>\r\n    </g>\r\n    <g id=\"xtick_5\">\r\n     <g id=\"line2d_5\">\r\n      <g>\r\n       <use style=\"stroke:#000000;stroke-width:0.8;\" x=\"233.9\" xlink:href=\"#m48515ef601\" y=\"61.56\"/>\r\n      </g>\r\n     </g>\r\n    </g>\r\n    <g id=\"xtick_6\">\r\n     <g id=\"line2d_6\">\r\n      <g>\r\n       <use style=\"stroke:#000000;stroke-width:0.8;\" x=\"289.7\" xlink:href=\"#m48515ef601\" y=\"61.56\"/>\r\n      </g>\r\n     </g>\r\n    </g>\r\n    <g id=\"xtick_7\">\r\n     <g id=\"line2d_7\">\r\n      <g>\r\n       <use style=\"stroke:#000000;stroke-width:0.8;\" x=\"345.5\" xlink:href=\"#m48515ef601\" y=\"61.56\"/>\r\n      </g>\r\n     </g>\r\n    </g>\r\n    <g id=\"xtick_8\">\r\n     <g id=\"line2d_8\">\r\n      <g>\r\n       <use style=\"stroke:#000000;stroke-width:0.8;\" x=\"401.3\" xlink:href=\"#m48515ef601\" y=\"61.56\"/>\r\n      </g>\r\n     </g>\r\n    </g>\r\n    <g id=\"xtick_9\">\r\n     <g id=\"line2d_9\">\r\n      <g>\r\n       <use style=\"stroke:#000000;stroke-width:0.8;\" x=\"457.1\" xlink:href=\"#m48515ef601\" y=\"61.56\"/>\r\n      </g>\r\n     </g>\r\n    </g>\r\n    <g id=\"xtick_10\">\r\n     <g id=\"line2d_10\">\r\n      <g>\r\n       <use style=\"stroke:#000000;stroke-width:0.8;\" x=\"512.9\" xlink:href=\"#m48515ef601\" y=\"61.56\"/>\r\n      </g>\r\n     </g>\r\n    </g>\r\n   </g>\r\n   <g id=\"matplotlib.axis_2\">\r\n    <g id=\"ytick_1\">\r\n     <g id=\"line2d_11\">\r\n      <defs>\r\n       <path d=\"M 0 0 \r\nL -3.5 0 \r\n\" id=\"m88286af869\" style=\"stroke:#000000;stroke-width:0.8;\"/>\r\n      </defs>\r\n      <g>\r\n       <use style=\"stroke:#000000;stroke-width:0.8;\" x=\"10.7\" xlink:href=\"#m88286af869\" y=\"7.2\"/>\r\n      </g>\r\n     </g>\r\n    </g>\r\n    <g id=\"ytick_2\">\r\n     <g id=\"line2d_12\">\r\n      <g>\r\n       <use style=\"stroke:#000000;stroke-width:0.8;\" x=\"10.7\" xlink:href=\"#m88286af869\" y=\"61.56\"/>\r\n      </g>\r\n     </g>\r\n    </g>\r\n   </g>\r\n   <g id=\"patch_3\">\r\n    <path d=\"M 10.7 61.56 \r\nL 10.7 7.2 \r\n\" style=\"fill:none;stroke:#000000;stroke-linecap:square;stroke-linejoin:miter;stroke-width:0.8;\"/>\r\n   </g>\r\n   <g id=\"patch_4\">\r\n    <path d=\"M 568.7 61.56 \r\nL 568.7 7.2 \r\n\" style=\"fill:none;stroke:#000000;stroke-linecap:square;stroke-linejoin:miter;stroke-width:0.8;\"/>\r\n   </g>\r\n   <g id=\"patch_5\">\r\n    <path d=\"M 10.7 61.56 \r\nL 568.7 61.56 \r\n\" style=\"fill:none;stroke:#000000;stroke-linecap:square;stroke-linejoin:miter;stroke-width:0.8;\"/>\r\n   </g>\r\n   <g id=\"patch_6\">\r\n    <path d=\"M 10.7 7.2 \r\nL 568.7 7.2 \r\n\" style=\"fill:none;stroke:#000000;stroke-linecap:square;stroke-linejoin:miter;stroke-width:0.8;\"/>\r\n   </g>\r\n  </g>\r\n </g>\r\n <defs>\r\n  <clipPath id=\"p38f5f7b8da\">\r\n   <rect height=\"54.36\" width=\"558\" x=\"10.7\" y=\"7.2\"/>\r\n  </clipPath>\r\n </defs>\r\n</svg>\r\n",
      "image/png": "[encoded data removed]"
     },
     "metadata": {
      "needs_background": "light"
     }
    },
    {
     "output_type": "display_data",
     "data": {
      "text/plain": "<Figure size 792x72 with 1 Axes>",
      "image/svg+xml": "<?xml version=\"1.0\" encoding=\"utf-8\" standalone=\"no\"?>\r\n<!DOCTYPE svg PUBLIC \"-//W3C//DTD SVG 1.1//EN\"\r\n  \"http://www.w3.org/Graphics/SVG/1.1/DTD/svg11.dtd\">\r\n<!-- Created with matplotlib (https://matplotlib.org/) -->\r\n<svg height=\"72.26pt\" version=\"1.1\" viewBox=\"0 0 631.7 72.26\" width=\"631.7pt\" xmlns=\"http://www.w3.org/2000/svg\" xmlns:xlink=\"http://www.w3.org/1999/xlink\">\r\n <defs>\r\n  <style type=\"text/css\">\r\n*{stroke-linecap:butt;stroke-linejoin:round;}\r\n  </style>\r\n </defs>\r\n <g id=\"figure_1\">\r\n  <g id=\"patch_1\">\r\n   <path d=\"M 0 72.26 \r\nL 631.7 72.26 \r\nL 631.7 0 \r\nL 0 0 \r\nz\r\n\" style=\"fill:none;\"/>\r\n  </g>\r\n  <g id=\"axes_1\">\r\n   <g id=\"patch_2\">\r\n    <path d=\"M 10.7 61.56 \r\nL 624.5 61.56 \r\nL 624.5 7.2 \r\nL 10.7 7.2 \r\nz\r\n\" style=\"fill:#ffffff;\"/>\r\n   </g>\r\n   <g clip-path=\"url(#pd5ba41a8da)\">\r\n    <image height=\"55\" id=\"image2a0b33f795\" transform=\"scale(1 -1)translate(0 -55)\" width=\"614\" x=\"10.7\" xlink:href=\"data:image/png;base64,\r\niVBORw0KGgoAAAANSUhEUgAAAmYAAAA3CAYAAACmYYbxAAAABHNCSVQICAgIfAhkiAAAAXhJREFUeJzt1iEyBHAchmErSIokGiOYPYUsansMwRUEiUvsAZzALVB1XSQ4w39+7+w8zwm+9r2bp+329+iA3d18TE9Y6vXqbHrCMi+fp9MTlvq+fJiesNTJ2/v0hKXuN7fTE5banR/uNTx/PU5PWOrn4np6wlL7/X56wlLH0wMAAPgnzAAAIoQZAECEMAMAiBBmAAARwgwAIEKYAQBECDMAgAhhBgAQIcwAACKEGQBAhDADAIgQZgAAEcIMACBCmAEARAgzAIAIYQYAECHMAAAihBkAQIQwAwCIEGYAABHCDAAgQpgBAEQIMwCACGEGABAhzAAAIoQZAECEMAMAiBBmAAARwgwAIEKYAQBECDMAgAhhBgAQIcwAACKEGQBAhDADAIgQZgAAEcIMACBCmAEARAgzAIAIYQYAECHMAAAihBkAQIQwAwCIEGYAABHCDAAgQpgBAEQIMwCACGEGABAhzAAAIoQZAECEMAMAiBBmAAARwgwAIOIPl1wQbTQFLhoAAAAASUVORK5CYII=\" y=\"-6.56\"/>\r\n   </g>\r\n   <g id=\"matplotlib.axis_1\">\r\n    <g id=\"xtick_1\">\r\n     <g id=\"line2d_1\">\r\n      <defs>\r\n       <path d=\"M 0 0 \r\nL 0 3.5 \r\n\" id=\"mc273c484aa\" style=\"stroke:#000000;stroke-width:0.8;\"/>\r\n      </defs>\r\n      <g>\r\n       <use style=\"stroke:#000000;stroke-width:0.8;\" x=\"10.7\" xlink:href=\"#mc273c484aa\" y=\"61.56\"/>\r\n      </g>\r\n     </g>\r\n    </g>\r\n    <g id=\"xtick_2\">\r\n     <g id=\"line2d_2\">\r\n      <g>\r\n       <use style=\"stroke:#000000;stroke-width:0.8;\" x=\"66.5\" xlink:href=\"#mc273c484aa\" y=\"61.56\"/>\r\n      </g>\r\n     </g>\r\n    </g>\r\n    <g id=\"xtick_3\">\r\n     <g id=\"line2d_3\">\r\n      <g>\r\n       <use style=\"stroke:#000000;stroke-width:0.8;\" x=\"122.3\" xlink:href=\"#mc273c484aa\" y=\"61.56\"/>\r\n      </g>\r\n     </g>\r\n    </g>\r\n    <g id=\"xtick_4\">\r\n     <g id=\"line2d_4\">\r\n      <g>\r\n       <use style=\"stroke:#000000;stroke-width:0.8;\" x=\"178.1\" xlink:href=\"#mc273c484aa\" y=\"61.56\"/>\r\n      </g>\r\n     </g>\r\n    </g>\r\n    <g id=\"xtick_5\">\r\n     <g id=\"line2d_5\">\r\n      <g>\r\n       <use style=\"stroke:#000000;stroke-width:0.8;\" x=\"233.9\" xlink:href=\"#mc273c484aa\" y=\"61.56\"/>\r\n      </g>\r\n     </g>\r\n    </g>\r\n    <g id=\"xtick_6\">\r\n     <g id=\"line2d_6\">\r\n      <g>\r\n       <use style=\"stroke:#000000;stroke-width:0.8;\" x=\"289.7\" xlink:href=\"#mc273c484aa\" y=\"61.56\"/>\r\n      </g>\r\n     </g>\r\n    </g>\r\n    <g id=\"xtick_7\">\r\n     <g id=\"line2d_7\">\r\n      <g>\r\n       <use style=\"stroke:#000000;stroke-width:0.8;\" x=\"345.5\" xlink:href=\"#mc273c484aa\" y=\"61.56\"/>\r\n      </g>\r\n     </g>\r\n    </g>\r\n    <g id=\"xtick_8\">\r\n     <g id=\"line2d_8\">\r\n      <g>\r\n       <use style=\"stroke:#000000;stroke-width:0.8;\" x=\"401.3\" xlink:href=\"#mc273c484aa\" y=\"61.56\"/>\r\n      </g>\r\n     </g>\r\n    </g>\r\n    <g id=\"xtick_9\">\r\n     <g id=\"line2d_9\">\r\n      <g>\r\n       <use style=\"stroke:#000000;stroke-width:0.8;\" x=\"457.1\" xlink:href=\"#mc273c484aa\" y=\"61.56\"/>\r\n      </g>\r\n     </g>\r\n    </g>\r\n    <g id=\"xtick_10\">\r\n     <g id=\"line2d_10\">\r\n      <g>\r\n       <use style=\"stroke:#000000;stroke-width:0.8;\" x=\"512.9\" xlink:href=\"#mc273c484aa\" y=\"61.56\"/>\r\n      </g>\r\n     </g>\r\n    </g>\r\n    <g id=\"xtick_11\">\r\n     <g id=\"line2d_11\">\r\n      <g>\r\n       <use style=\"stroke:#000000;stroke-width:0.8;\" x=\"568.7\" xlink:href=\"#mc273c484aa\" y=\"61.56\"/>\r\n      </g>\r\n     </g>\r\n    </g>\r\n   </g>\r\n   <g id=\"matplotlib.axis_2\">\r\n    <g id=\"ytick_1\">\r\n     <g id=\"line2d_12\">\r\n      <defs>\r\n       <path d=\"M 0 0 \r\nL -3.5 0 \r\n\" id=\"ma563d9b284\" style=\"stroke:#000000;stroke-width:0.8;\"/>\r\n      </defs>\r\n      <g>\r\n       <use style=\"stroke:#000000;stroke-width:0.8;\" x=\"10.7\" xlink:href=\"#ma563d9b284\" y=\"7.2\"/>\r\n      </g>\r\n     </g>\r\n    </g>\r\n    <g id=\"ytick_2\">\r\n     <g id=\"line2d_13\">\r\n      <g>\r\n       <use style=\"stroke:#000000;stroke-width:0.8;\" x=\"10.7\" xlink:href=\"#ma563d9b284\" y=\"61.56\"/>\r\n      </g>\r\n     </g>\r\n    </g>\r\n   </g>\r\n   <g id=\"patch_3\">\r\n    <path d=\"M 10.7 61.56 \r\nL 10.7 7.2 \r\n\" style=\"fill:none;stroke:#000000;stroke-linecap:square;stroke-linejoin:miter;stroke-width:0.8;\"/>\r\n   </g>\r\n   <g id=\"patch_4\">\r\n    <path d=\"M 624.5 61.56 \r\nL 624.5 7.2 \r\n\" style=\"fill:none;stroke:#000000;stroke-linecap:square;stroke-linejoin:miter;stroke-width:0.8;\"/>\r\n   </g>\r\n   <g id=\"patch_5\">\r\n    <path d=\"M 10.7 61.56 \r\nL 624.5 61.56 \r\n\" style=\"fill:none;stroke:#000000;stroke-linecap:square;stroke-linejoin:miter;stroke-width:0.8;\"/>\r\n   </g>\r\n   <g id=\"patch_6\">\r\n    <path d=\"M 10.7 7.2 \r\nL 624.5 7.2 \r\n\" style=\"fill:none;stroke:#000000;stroke-linecap:square;stroke-linejoin:miter;stroke-width:0.8;\"/>\r\n   </g>\r\n  </g>\r\n </g>\r\n <defs>\r\n  <clipPath id=\"pd5ba41a8da\">\r\n   <rect height=\"54.36\" width=\"613.8\" x=\"10.7\" y=\"7.2\"/>\r\n  </clipPath>\r\n </defs>\r\n</svg>\r\n",
      "image/png": "[encoded data removed]"
     },
     "metadata": {
      "needs_background": "light"
     }
    }
   ],
   "source": [
    "info['colours']\n",
    "\n",
    "info['colours']['rgb'] = list(zip((info['colours']['r']/255), (info['colours']['g']/255), (info['colours']['b']/255)))\n",
    "info['colours']['rgba_str'] = \"rgba(\" + info['colours']['r'].astype(int).astype(str) + \",\" + info['colours']['g'].astype(int).astype(str) + \",\" + info['colours']['b'].astype(int).astype(str) + \",1)\"\n",
    "\n",
    "colour_palettes = {}\n",
    "colour_palettes['all'] = info['colours']['rgb'].tolist()\n",
    "\n",
    "for theme in info['colours']['theme'].unique():\n",
    "    colour_palettes[theme] = info['colours'].query('theme == \"' + theme + '\"')['rgb'].tolist()\n",
    "    sns.palplot(colour_palettes[theme])\n",
    "\n",
    "del theme"
   ]
  },
  {
   "cell_type": "code",
   "execution_count": 68,
   "metadata": {},
   "outputs": [
    {
     "output_type": "display_data",
     "data": {
      "text/plain": "<Figure size 288x72 with 1 Axes>",
      "image/svg+xml": "<?xml version=\"1.0\" encoding=\"utf-8\" standalone=\"no\"?>\r\n<!DOCTYPE svg PUBLIC \"-//W3C//DTD SVG 1.1//EN\"\r\n  \"http://www.w3.org/Graphics/SVG/1.1/DTD/svg11.dtd\">\r\n<!-- Created with matplotlib (https://matplotlib.org/) -->\r\n<svg height=\"72.26pt\" version=\"1.1\" viewBox=\"0 0 241.1 72.26\" width=\"241.1pt\" xmlns=\"http://www.w3.org/2000/svg\" xmlns:xlink=\"http://www.w3.org/1999/xlink\">\r\n <defs>\r\n  <style type=\"text/css\">\r\n*{stroke-linecap:butt;stroke-linejoin:round;}\r\n  </style>\r\n </defs>\r\n <g id=\"figure_1\">\r\n  <g id=\"patch_1\">\r\n   <path d=\"M 0 72.26 \r\nL 241.1 72.26 \r\nL 241.1 0 \r\nL 0 0 \r\nz\r\n\" style=\"fill:none;\"/>\r\n  </g>\r\n  <g id=\"axes_1\">\r\n   <g id=\"patch_2\">\r\n    <path d=\"M 10.7 61.56 \r\nL 233.9 61.56 \r\nL 233.9 7.2 \r\nL 10.7 7.2 \r\nz\r\n\" style=\"fill:#ffffff;\"/>\r\n   </g>\r\n   <g clip-path=\"url(#p6763d56cee)\">\r\n    <image height=\"55\" id=\"image74ea98d966\" transform=\"scale(1 -1)translate(0 -55)\" width=\"224\" x=\"10.7\" xlink:href=\"data:image/png;base64,\r\niVBORw0KGgoAAAANSUhEUgAAAOAAAAA3CAYAAAAVFkZ2AAAABHNCSVQICAgIfAhkiAAAANVJREFUeJzt00ENwkAAAMG24YMR6qhOeNRBDRJ0EARQFZdN6IyC/ez8eqy/6Y9t+61OGOr7PuqEoZ6fe50w1FIHwJUZEEIGhJABIWRACBkQQgaEkAEhZEAIGRBCBoSQASFkQAgZEEIGhJABIWRACBkQQgaEkAEhZEAIGRBCBoSQASFkQAgZEEIGhJABIWRACBkQQgaEkAEhZEAIGRBCBoSQASFkQAgZEEIGhJABIWRACBkQQgaEkAEhZEAIGRBCBoSQASFkQAgZEEIGhJABIWRACBkQQidoDAcjCAfTMgAAAABJRU5ErkJggg==\" y=\"-6.56\"/>\r\n   </g>\r\n   <g id=\"matplotlib.axis_1\">\r\n    <g id=\"xtick_1\">\r\n     <g id=\"line2d_1\">\r\n      <defs>\r\n       <path d=\"M 0 0 \r\nL 0 3.5 \r\n\" id=\"m397813005c\" style=\"stroke:#000000;stroke-width:0.8;\"/>\r\n      </defs>\r\n      <g>\r\n       <use style=\"stroke:#000000;stroke-width:0.8;\" x=\"10.7\" xlink:href=\"#m397813005c\" y=\"61.56\"/>\r\n      </g>\r\n     </g>\r\n    </g>\r\n    <g id=\"xtick_2\">\r\n     <g id=\"line2d_2\">\r\n      <g>\r\n       <use style=\"stroke:#000000;stroke-width:0.8;\" x=\"66.5\" xlink:href=\"#m397813005c\" y=\"61.56\"/>\r\n      </g>\r\n     </g>\r\n    </g>\r\n    <g id=\"xtick_3\">\r\n     <g id=\"line2d_3\">\r\n      <g>\r\n       <use style=\"stroke:#000000;stroke-width:0.8;\" x=\"122.3\" xlink:href=\"#m397813005c\" y=\"61.56\"/>\r\n      </g>\r\n     </g>\r\n    </g>\r\n    <g id=\"xtick_4\">\r\n     <g id=\"line2d_4\">\r\n      <g>\r\n       <use style=\"stroke:#000000;stroke-width:0.8;\" x=\"178.1\" xlink:href=\"#m397813005c\" y=\"61.56\"/>\r\n      </g>\r\n     </g>\r\n    </g>\r\n   </g>\r\n   <g id=\"matplotlib.axis_2\">\r\n    <g id=\"ytick_1\">\r\n     <g id=\"line2d_5\">\r\n      <defs>\r\n       <path d=\"M 0 0 \r\nL -3.5 0 \r\n\" id=\"md09e60990e\" style=\"stroke:#000000;stroke-width:0.8;\"/>\r\n      </defs>\r\n      <g>\r\n       <use style=\"stroke:#000000;stroke-width:0.8;\" x=\"10.7\" xlink:href=\"#md09e60990e\" y=\"7.2\"/>\r\n      </g>\r\n     </g>\r\n    </g>\r\n    <g id=\"ytick_2\">\r\n     <g id=\"line2d_6\">\r\n      <g>\r\n       <use style=\"stroke:#000000;stroke-width:0.8;\" x=\"10.7\" xlink:href=\"#md09e60990e\" y=\"61.56\"/>\r\n      </g>\r\n     </g>\r\n    </g>\r\n   </g>\r\n   <g id=\"patch_3\">\r\n    <path d=\"M 10.7 61.56 \r\nL 10.7 7.2 \r\n\" style=\"fill:none;stroke:#000000;stroke-linecap:square;stroke-linejoin:miter;stroke-width:0.8;\"/>\r\n   </g>\r\n   <g id=\"patch_4\">\r\n    <path d=\"M 233.9 61.56 \r\nL 233.9 7.2 \r\n\" style=\"fill:none;stroke:#000000;stroke-linecap:square;stroke-linejoin:miter;stroke-width:0.8;\"/>\r\n   </g>\r\n   <g id=\"patch_5\">\r\n    <path d=\"M 10.7 61.56 \r\nL 233.9 61.56 \r\n\" style=\"fill:none;stroke:#000000;stroke-linecap:square;stroke-linejoin:miter;stroke-width:0.8;\"/>\r\n   </g>\r\n   <g id=\"patch_6\">\r\n    <path d=\"M 10.7 7.2 \r\nL 233.9 7.2 \r\n\" style=\"fill:none;stroke:#000000;stroke-linecap:square;stroke-linejoin:miter;stroke-width:0.8;\"/>\r\n   </g>\r\n  </g>\r\n </g>\r\n <defs>\r\n  <clipPath id=\"p6763d56cee\">\r\n   <rect height=\"54.36\" width=\"223.2\" x=\"10.7\" y=\"7.2\"/>\r\n  </clipPath>\r\n </defs>\r\n</svg>\r\n",
      "image/png": "[encoded data removed]"
     },
     "metadata": {
      "needs_background": "light"
     }
    },
    {
     "output_type": "display_data",
     "data": {
      "text/plain": "<Figure size 288x72 with 1 Axes>",
      "image/svg+xml": "<?xml version=\"1.0\" encoding=\"utf-8\" standalone=\"no\"?>\r\n<!DOCTYPE svg PUBLIC \"-//W3C//DTD SVG 1.1//EN\"\r\n  \"http://www.w3.org/Graphics/SVG/1.1/DTD/svg11.dtd\">\r\n<!-- Created with matplotlib (https://matplotlib.org/) -->\r\n<svg height=\"72.26pt\" version=\"1.1\" viewBox=\"0 0 241.1 72.26\" width=\"241.1pt\" xmlns=\"http://www.w3.org/2000/svg\" xmlns:xlink=\"http://www.w3.org/1999/xlink\">\r\n <defs>\r\n  <style type=\"text/css\">\r\n*{stroke-linecap:butt;stroke-linejoin:round;}\r\n  </style>\r\n </defs>\r\n <g id=\"figure_1\">\r\n  <g id=\"patch_1\">\r\n   <path d=\"M 0 72.26 \r\nL 241.1 72.26 \r\nL 241.1 0 \r\nL 0 0 \r\nz\r\n\" style=\"fill:none;\"/>\r\n  </g>\r\n  <g id=\"axes_1\">\r\n   <g id=\"patch_2\">\r\n    <path d=\"M 10.7 61.56 \r\nL 233.9 61.56 \r\nL 233.9 7.2 \r\nL 10.7 7.2 \r\nz\r\n\" style=\"fill:#ffffff;\"/>\r\n   </g>\r\n   <g clip-path=\"url(#p5032f20b71)\">\r\n    <image height=\"55\" id=\"image15e4857ef8\" transform=\"scale(1 -1)translate(0 -55)\" width=\"224\" x=\"10.7\" xlink:href=\"data:image/png;base64,\r\niVBORw0KGgoAAAANSUhEUgAAAOAAAAA3CAYAAAAVFkZ2AAAABHNCSVQICAgIfAhkiAAAANVJREFUeJzt00ENwkAAAEGOPz/01Ei91BECSJCAmwpoVVw2aWcU7GfHsb2Ox4X9lnedMNU6PnXCVP/vXidM9awD4M4MCCEDQsiAEDIghAwIIQNCyIAQMiCEDAghA0LIgBAyIIQMCCEDQsiAEDIghAwIIQNCyIAQMiCEDAghA0LIgBAyIIQMCCEDQsiAEDIghAwIIQNCyIAQMiCEDAghA0LIgBAyIIQMCCEDQsiAEDIghAwIIQNCyIAQMiCEDAghA0LIgBAyIIQMCCEDQsiAEDIghAwIoRNGKweG7vwF8gAAAABJRU5ErkJggg==\" y=\"-6.56\"/>\r\n   </g>\r\n   <g id=\"matplotlib.axis_1\">\r\n    <g id=\"xtick_1\">\r\n     <g id=\"line2d_1\">\r\n      <defs>\r\n       <path d=\"M 0 0 \r\nL 0 3.5 \r\n\" id=\"ma64ef39f62\" style=\"stroke:#000000;stroke-width:0.8;\"/>\r\n      </defs>\r\n      <g>\r\n       <use style=\"stroke:#000000;stroke-width:0.8;\" x=\"10.7\" xlink:href=\"#ma64ef39f62\" y=\"61.56\"/>\r\n      </g>\r\n     </g>\r\n    </g>\r\n    <g id=\"xtick_2\">\r\n     <g id=\"line2d_2\">\r\n      <g>\r\n       <use style=\"stroke:#000000;stroke-width:0.8;\" x=\"66.5\" xlink:href=\"#ma64ef39f62\" y=\"61.56\"/>\r\n      </g>\r\n     </g>\r\n    </g>\r\n    <g id=\"xtick_3\">\r\n     <g id=\"line2d_3\">\r\n      <g>\r\n       <use style=\"stroke:#000000;stroke-width:0.8;\" x=\"122.3\" xlink:href=\"#ma64ef39f62\" y=\"61.56\"/>\r\n      </g>\r\n     </g>\r\n    </g>\r\n    <g id=\"xtick_4\">\r\n     <g id=\"line2d_4\">\r\n      <g>\r\n       <use style=\"stroke:#000000;stroke-width:0.8;\" x=\"178.1\" xlink:href=\"#ma64ef39f62\" y=\"61.56\"/>\r\n      </g>\r\n     </g>\r\n    </g>\r\n   </g>\r\n   <g id=\"matplotlib.axis_2\">\r\n    <g id=\"ytick_1\">\r\n     <g id=\"line2d_5\">\r\n      <defs>\r\n       <path d=\"M 0 0 \r\nL -3.5 0 \r\n\" id=\"m6afeb0d40c\" style=\"stroke:#000000;stroke-width:0.8;\"/>\r\n      </defs>\r\n      <g>\r\n       <use style=\"stroke:#000000;stroke-width:0.8;\" x=\"10.7\" xlink:href=\"#m6afeb0d40c\" y=\"7.2\"/>\r\n      </g>\r\n     </g>\r\n    </g>\r\n    <g id=\"ytick_2\">\r\n     <g id=\"line2d_6\">\r\n      <g>\r\n       <use style=\"stroke:#000000;stroke-width:0.8;\" x=\"10.7\" xlink:href=\"#m6afeb0d40c\" y=\"61.56\"/>\r\n      </g>\r\n     </g>\r\n    </g>\r\n   </g>\r\n   <g id=\"patch_3\">\r\n    <path d=\"M 10.7 61.56 \r\nL 10.7 7.2 \r\n\" style=\"fill:none;stroke:#000000;stroke-linecap:square;stroke-linejoin:miter;stroke-width:0.8;\"/>\r\n   </g>\r\n   <g id=\"patch_4\">\r\n    <path d=\"M 233.9 61.56 \r\nL 233.9 7.2 \r\n\" style=\"fill:none;stroke:#000000;stroke-linecap:square;stroke-linejoin:miter;stroke-width:0.8;\"/>\r\n   </g>\r\n   <g id=\"patch_5\">\r\n    <path d=\"M 10.7 61.56 \r\nL 233.9 61.56 \r\n\" style=\"fill:none;stroke:#000000;stroke-linecap:square;stroke-linejoin:miter;stroke-width:0.8;\"/>\r\n   </g>\r\n   <g id=\"patch_6\">\r\n    <path d=\"M 10.7 7.2 \r\nL 233.9 7.2 \r\n\" style=\"fill:none;stroke:#000000;stroke-linecap:square;stroke-linejoin:miter;stroke-width:0.8;\"/>\r\n   </g>\r\n  </g>\r\n </g>\r\n <defs>\r\n  <clipPath id=\"p5032f20b71\">\r\n   <rect height=\"54.36\" width=\"223.2\" x=\"10.7\" y=\"7.2\"/>\r\n  </clipPath>\r\n </defs>\r\n</svg>\r\n",
      "image/png": "[encoded data removed]"
     },
     "metadata": {
      "needs_background": "light"
     }
    },
    {
     "output_type": "display_data",
     "data": {
      "text/plain": "<Figure size 144x72 with 1 Axes>",
      "image/svg+xml": "<?xml version=\"1.0\" encoding=\"utf-8\" standalone=\"no\"?>\r\n<!DOCTYPE svg PUBLIC \"-//W3C//DTD SVG 1.1//EN\"\r\n  \"http://www.w3.org/Graphics/SVG/1.1/DTD/svg11.dtd\">\r\n<!-- Created with matplotlib (https://matplotlib.org/) -->\r\n<svg height=\"72.26pt\" version=\"1.1\" viewBox=\"0 0 129.5 72.26\" width=\"129.5pt\" xmlns=\"http://www.w3.org/2000/svg\" xmlns:xlink=\"http://www.w3.org/1999/xlink\">\r\n <defs>\r\n  <style type=\"text/css\">\r\n*{stroke-linecap:butt;stroke-linejoin:round;}\r\n  </style>\r\n </defs>\r\n <g id=\"figure_1\">\r\n  <g id=\"patch_1\">\r\n   <path d=\"M 0 72.26 \r\nL 129.5 72.26 \r\nL 129.5 0 \r\nL 0 0 \r\nz\r\n\" style=\"fill:none;\"/>\r\n  </g>\r\n  <g id=\"axes_1\">\r\n   <g id=\"patch_2\">\r\n    <path d=\"M 10.7 61.56 \r\nL 122.3 61.56 \r\nL 122.3 7.2 \r\nL 10.7 7.2 \r\nz\r\n\" style=\"fill:#ffffff;\"/>\r\n   </g>\r\n   <g clip-path=\"url(#p951300f85b)\">\r\n    <image height=\"55\" id=\"imagec73bdeb227\" transform=\"scale(1 -1)translate(0 -55)\" width=\"112\" x=\"10.7\" xlink:href=\"data:image/png;base64,\r\niVBORw0KGgoAAAANSUhEUgAAAHAAAAA3CAYAAADUvc6fAAAABHNCSVQICAgIfAhkiAAAAKlJREFUeJzt0cENQEAAAEF0468Kf1UpVwEUIXJZmalgk53PY7+nH7vWbXTCp5bRAbxjYJyBcQbGGRhnYJyBcQbGGRhnYJyBcQbGGRhnYJyBcQbGGRhnYJyBcQbGGRhnYJyBcQbGGRhnYJyBcQbGGRhnYJyBcQbGGRhnYJyBcQbGGRhnYJyBcQbGGRhnYJyBcQbGGRhnYJyBcQbGGRhnYJyBcQbGGRhnYNwD/hUD54QWceQAAAAASUVORK5CYII=\" y=\"-6.56\"/>\r\n   </g>\r\n   <g id=\"matplotlib.axis_1\">\r\n    <g id=\"xtick_1\">\r\n     <g id=\"line2d_1\">\r\n      <defs>\r\n       <path d=\"M 0 0 \r\nL 0 3.5 \r\n\" id=\"m5cca54008c\" style=\"stroke:#000000;stroke-width:0.8;\"/>\r\n      </defs>\r\n      <g>\r\n       <use style=\"stroke:#000000;stroke-width:0.8;\" x=\"10.7\" xlink:href=\"#m5cca54008c\" y=\"61.56\"/>\r\n      </g>\r\n     </g>\r\n    </g>\r\n    <g id=\"xtick_2\">\r\n     <g id=\"line2d_2\">\r\n      <g>\r\n       <use style=\"stroke:#000000;stroke-width:0.8;\" x=\"66.5\" xlink:href=\"#m5cca54008c\" y=\"61.56\"/>\r\n      </g>\r\n     </g>\r\n    </g>\r\n   </g>\r\n   <g id=\"matplotlib.axis_2\">\r\n    <g id=\"ytick_1\">\r\n     <g id=\"line2d_3\">\r\n      <defs>\r\n       <path d=\"M 0 0 \r\nL -3.5 0 \r\n\" id=\"me8e3cfc34d\" style=\"stroke:#000000;stroke-width:0.8;\"/>\r\n      </defs>\r\n      <g>\r\n       <use style=\"stroke:#000000;stroke-width:0.8;\" x=\"10.7\" xlink:href=\"#me8e3cfc34d\" y=\"7.2\"/>\r\n      </g>\r\n     </g>\r\n    </g>\r\n    <g id=\"ytick_2\">\r\n     <g id=\"line2d_4\">\r\n      <g>\r\n       <use style=\"stroke:#000000;stroke-width:0.8;\" x=\"10.7\" xlink:href=\"#me8e3cfc34d\" y=\"61.56\"/>\r\n      </g>\r\n     </g>\r\n    </g>\r\n   </g>\r\n   <g id=\"patch_3\">\r\n    <path d=\"M 10.7 61.56 \r\nL 10.7 7.2 \r\n\" style=\"fill:none;stroke:#000000;stroke-linecap:square;stroke-linejoin:miter;stroke-width:0.8;\"/>\r\n   </g>\r\n   <g id=\"patch_4\">\r\n    <path d=\"M 122.3 61.56 \r\nL 122.3 7.2 \r\n\" style=\"fill:none;stroke:#000000;stroke-linecap:square;stroke-linejoin:miter;stroke-width:0.8;\"/>\r\n   </g>\r\n   <g id=\"patch_5\">\r\n    <path d=\"M 10.7 61.56 \r\nL 122.3 61.56 \r\n\" style=\"fill:none;stroke:#000000;stroke-linecap:square;stroke-linejoin:miter;stroke-width:0.8;\"/>\r\n   </g>\r\n   <g id=\"patch_6\">\r\n    <path d=\"M 10.7 7.2 \r\nL 122.3 7.2 \r\n\" style=\"fill:none;stroke:#000000;stroke-linecap:square;stroke-linejoin:miter;stroke-width:0.8;\"/>\r\n   </g>\r\n  </g>\r\n </g>\r\n <defs>\r\n  <clipPath id=\"p951300f85b\">\r\n   <rect height=\"54.36\" width=\"111.6\" x=\"10.7\" y=\"7.2\"/>\r\n  </clipPath>\r\n </defs>\r\n</svg>\r\n",
      "image/png": "[encoded data removed]"
     },
     "metadata": {
      "needs_background": "light"
     }
    }
   ],
   "source": [
    "sns.palplot([colour_palettes['mid'][i] for i in [0,3,5,6]])\n",
    "sns.palplot([colour_palettes['mid'][i] for i in [1,2,4,7]])\n",
    "sns.palplot([colour_palettes['mid'][i] for i in [8,9]])\n",
    "\n",
    "del colour_palettes"
   ]
  },
  {
   "cell_type": "markdown",
   "execution_count": null,
   "metadata": {},
   "outputs": [],
   "source": [
    "## Import Data\n",
    "### Custom Support Data Functions"
   ]
  },
  {
   "cell_type": "code",
   "execution_count": 69,
   "metadata": {},
   "outputs": [],
   "source": [
    "def get_UO_support_data(dataset_f_info, dataset = \"UO\"):\n",
    "    \n",
    "    def import_UO_log_dates():\n",
    "        UO_log_dates = pd.read_csv(dataset_f_info['supp_data_filepath'][dataset], sep = \"\\t\")\n",
    "        UO_log_dates['start'] = pd.to_datetime(UO_log_dates['start'], format=\"%Y-%m-%d\")\n",
    "        UO_log_dates['end'] = pd.to_datetime(UO_log_dates['end'], format=\"%Y-%m-%d\")\n",
    "        return UO_log_dates\n",
    "    \n",
    "    UO_log_dates = import_UO_log_dates()\n",
    "    \n",
    "    #Check LogDates file\n",
    "    if max(UO_log_dates['end']) < date_now.date() - timedelta(days=1):\n",
    "        #print(\"Retrieving latest Urban Observatory data...\")\n",
    "        # api-endpoint \n",
    "        URL = \"http://uoweb3.ncl.ac.uk/api/v1.1/sensors/data/csv/?\"\n",
    "        # location given here \n",
    "        poly = '0103000000010000000600000001000020a2baf9bf58094ee3a2764b4001000020f268fbbf90c059b5b5714b4000000020ba37fbbfc4e78445c6704b4001000020b203fbbf9ce8d60e68714b40010000209a59f9bf346a0efd06714b4001000020a2baf9bf58094ee3a2764b40'\n",
    "        # defining a params dict for the parameters to be sent to the API \n",
    "        PARAMS = {'polygon_wkb': poly,\n",
    "                  'starttime': max(UO_log_dates['end']).strftime(\"%Y%m%d%H%M%S\"), #\"%Y%m%d%H%M%S\"\n",
    "                  'endtime': date_now.strftime(\"%Y%m%d%H%M%S\"), #\"%Y%m%d%H%M%S\"\n",
    "                  'data_variable': 'River Level,Temperature,Rainfall'} \n",
    "        # sending get request and saving the response as response object \n",
    "        data_content = requests.get(url = URL, params = PARAMS).content\n",
    "        UO_data = pd.read_csv(io.StringIO(data_content.decode(\"utf-8\")))\n",
    "        min_date = pd.to_datetime(min(UO_data['Timestamp'])).strftime(\"%Y-%m-%d\")\n",
    "        max_date = pd.to_datetime(max(UO_data['Timestamp'])).strftime(\"%Y-%m-%d\")\n",
    "        \n",
    "        if pd.to_datetime(max_date) > max(UO_log_dates['end']):\n",
    "            UO_data.to_csv(dataset_f_info['data_folder_path'][dataset] + \"UO_data_\" + str(min_date) + \"_to_\" + str(max_date) + \".csv\",\n",
    "                           index = False)\n",
    "            UO_Files = []\n",
    "            for filename in tqdm(os.listdir(str(dataset_f_info['data_folder_path'][dataset])), desc = \"Open existing UO files\"):\n",
    "                if re.search(dataset_f_info['file_pat'][dataset], filename) and not filename.startswith('.'):\n",
    "                    UO_Files.append(filename)\n",
    "            UO_starts = []\n",
    "            for string in UO_Files: UO_starts.append(string[8:18])\n",
    "            UO_ends = []\n",
    "            for string in UO_Files: UO_ends.append(string[22:32])\n",
    "\n",
    "\n",
    "            new_UO_file_data = {'file': UO_Files,\n",
    "                                'start': UO_starts,\n",
    "                                'end': UO_ends}\n",
    "            UO_log_dates_new = pd.DataFrame(new_UO_file_data, columns = ['file', 'start', 'end'])\n",
    "            UO_log_dates_new.to_csv(dataset_f_info['supp_data_filepath'][dataset], index = False, sep = \"\\t\")\n",
    "            print(\"Urban Observatory data updated!\")\n",
    "        else:\n",
    "            print(\"Urban Observatory data up-to-date!\")\n",
    "        \n",
    "    UO_log_dates = import_UO_log_dates\n",
    "    \n",
    "    return UO_log_dates\n",
    "\n",
    "def get_Events_support_data(dataset_f_info, dataset = \"Events\"):\n",
    "    Events_info = pd.read_csv(dataset_f_info['supp_data_filepath'][dataset], sep = \"\\t\", index_col = \"Code\")\n",
    "    return Events_info\n",
    "\n",
    "custom_preimport_functions = {'UO': get_UO_support_data,\n",
    "                              'Events': get_Events_support_data}"
   ]
  },
  {
   "cell_type": "markdown",
   "execution_count": null,
   "metadata": {},
   "outputs": [],
   "source": [
    "### Custom Imported Data Functions"
   ]
  },
  {
   "cell_type": "code",
   "execution_count": 70,
   "metadata": {},
   "outputs": [],
   "source": [
    "def mod_imported_Sensor_data(day_df, filename, dataset_supp_data, dataset_f_info, dataset = \"Sensor\"):\n",
    "    day_df['DateTime'] = day_df['Date'] + \" \" + day_df['Time']\n",
    "    day_df['DateTime'] = pd.to_datetime(day_df['DateTime'], format = '%d/%m/%Y %H:%M:%S')\n",
    "    day_df['DateTime'] = day_df['DateTime'].dt.tz_localize('UTC')\n",
    "    \n",
    "    #Make on/off events integer binary numbers 1/0\n",
    "    #on_events = [\"^ON$\", \"^RUNNING$\", \"^CW$\", \"^AUTO$\"]\n",
    "    #off_events = [\"^OFF$\", \"^STOP$\", \"^CCW$\", \"^MANUAL$\"]\n",
    "\n",
    "    #all_rgx = re.compile(\"|\".join(on_events + off_events))\n",
    "    #on_rgx = re.compile(\"|\".join(on_events))\n",
    "    #off_rgx = re.compile(\"|\".join(off_events))\n",
    "    \n",
    "    #Sensor_events = {'ON': 1,\n",
    "    #                 'RUNNING': 1,\n",
    "    #                 'CW': 1,\n",
    "    #                 'AUTO': 1,\n",
    "    #                 'OFF': 0,\n",
    "    #                 'STOP': 0,\n",
    "    #                 'CCW': 0,\n",
    "    #                 'MANUAL': 0}\n",
    "\n",
    "    #string_cols = (day_df.applymap(type) == str).all(0).values\n",
    "    #for col in day_df.iloc[:, string_cols]:\n",
    "    #    if day_df[col].str.contains(all_rgx).any():\n",
    "    #        day_df[col] = day_df[col].replace(on_rgx, '1', regex=True)\n",
    "    #        day_df[col] = day_df[col].replace(off_rgx, '0', regex=True)\n",
    "    #        day_df[col] = day_df[col].astype(int)\n",
    "    #for col in day_df.iloc[:, string_cols]:\n",
    "    #if day_df.iloc[:, string_cols].str.contains(all_rgx).any():\n",
    "    #day_df[[i for i in list(day_df.columns) if i not in ['DateTime', 'Date', 'Time']]] = \\\n",
    "    #day_df[[i for i in list(day_df.columns) if i not in ['DateTime', 'Date', 'Time']]].replace(Sensor_events).apply(pd.to_numeric)\n",
    "    #day_df.iloc[:, string_cols] = day_df.astype(int)\n",
    "    \n",
    "    #Current density\n",
    "    day_df.iloc[:, day_df.columns.str.contains(\"__C\")] = day_df.iloc[:, day_df.columns.str.contains(\"__C\")]/(math.pi*(0.6)**2*10)\n",
    "    #Sum Current density\n",
    "    day_df.iloc[:, day_df.columns.str.contains(\"SUM__C\")] = day_df.iloc[:, day_df.columns.str.contains(\"SUM__C\")]/4\n",
    "    \n",
    "    #Sensible tilt (up = positive)\n",
    "    day_df['SENSOR_TILT'] = -day_df['SENSOR_TILT']\n",
    "\n",
    "    return(day_df)\n",
    "\n",
    "def mod_imported_Skid_data(day_df, filename, dataset_supp_data, dataset_f_info, dataset = \"Skid\"):\n",
    "    day_df = day_df.rename(columns={\"TIME\": \"DateTime\"})\n",
    "    day_df['DateTime'] = pd.to_datetime(day_df['DateTime'], format = '%Y/%m/%d %H:%M:%S.%f')\n",
    "    day_df['DateTime'] = day_df['DateTime'].dt.tz_localize('UTC')\n",
    "    selected_pars = list(info['parameters'][selected].query('dataset == \"' + dataset + '\"')['parameter'].values)\n",
    "    day_df = day_df[day_df[selected_pars].sum(axis = 1, skipna = True) != 0]\n",
    "    return(day_df)\n",
    "\n",
    "def mod_imported_SampLog_data(day_df, filename, dataset_supp_data, dataset_f_info, dataset = \"SampLog\"):\n",
    "    day_df = day_df.rename(columns={\"Date\": \"DateTime\"})\n",
    "    day_df['DateTime'] = pd.to_datetime(day_df['DateTime'], format = '%d/%m/%Y %H:%M')\n",
    "    day_df['DateTime'] = day_df['DateTime'].dt.tz_localize('Europe/London')\n",
    "    day_df['DateTime'] = day_df['DateTime'].dt.tz_convert('UTC')\n",
    "\n",
    "    selected_read_cols = ['R1', 'R2', 'R3']\n",
    "    day_df[selected_read_cols] = day_df[selected_read_cols].apply(pd.to_numeric, errors='coerce')\n",
    "\n",
    "    #Average readings\n",
    "    day_df['Read_ave'] = day_df[selected_read_cols].mean(axis = 1, skipna = True)\n",
    "    \n",
    "    #Widen DF\n",
    "    day_df_wide = pd.pivot_table(day_df,values='Read_ave',index=['DateTime', 'Location'],columns=['Type','Vial'])\n",
    "    #Fix col header and names\n",
    "    day_df_wide.columns = map(''.join, (str(v) for v in day_df_wide.columns))\n",
    "    day_df_wide.columns = [re.sub(r'\\W', '', i) for i in day_df_wide.columns]\n",
    "    day_df_wide.columns = [s[:len(s)-1] + \"_\" + s[len(s)-1:] for s in day_df_wide.columns]\n",
    "    day_df_wide = day_df_wide.reset_index()\n",
    "    \n",
    "    return(day_df_wide)\n",
    "\n",
    "def mod_imported_NWL_data(day_df, filename, dataset_supp_data, dataset_f_info, dataset = \"NWL\"):\n",
    "    day_df['DateTime'] = day_df['DATE'].astype(str) + \" \" + day_df['TIME']\n",
    "    day_df['DateTime'] = pd.to_datetime(day_df['DateTime'], format = '%Y-%m-%d %H:%M')\n",
    "    day_df['DateTime'] = day_df['DateTime'].dt.tz_localize('Europe/London')\n",
    "    day_df['DateTime'] = day_df['DateTime'].dt.tz_convert('UTC')\n",
    "    \n",
    "    day_df = day_df[day_df['SITE'].str.contains('SETTLED')]\n",
    "    \n",
    "    return(day_df)\n",
    "\n",
    "def mod_imported_UO_data(day_df, filename, dataset_supp_data, dataset_f_info, dataset = \"UO\"):\n",
    "    day_df['DateTime'] = pd.to_datetime(day_df['Timestamp'], format = '%Y-%m-%d %H:%M:%S')\n",
    "    day_df['DateTime'] = day_df['DateTime'].dt.tz_localize('UTC')\n",
    "  \n",
    "    # Create Type column\n",
    "    day_df['Type'] = day_df['Sensor Name'].astype(str) + \"_\" + day_df['Variable']\n",
    "  \n",
    "    #Widen DF\n",
    "    day_df_wide = pd.pivot_table(day_df,values='Value',index=['DateTime'],columns=['Type'])\n",
    "    #Fix col header and names\n",
    "    day_df_wide = day_df_wide.reset_index()\n",
    "    day_df_wide = day_df_wide.rename(columns=dict(zip(info['parameters'].query('dataset == \"' + dataset + '\"')['code'], \n",
    "                                                info['parameters'].query('dataset == \"' + dataset + '\"')['parameter'])))\n",
    "    return(day_df_wide)\n",
    "\n",
    "custom_import_functions = {'Sensor': mod_imported_Sensor_data,\n",
    "                           'Skid': mod_imported_Skid_data,\n",
    "                           'SampLog': mod_imported_SampLog_data,\n",
    "                           'NWL': mod_imported_NWL_data,\n",
    "                           'UO': mod_imported_UO_data}"
   ]
  },
  {
   "cell_type": "markdown",
   "execution_count": null,
   "metadata": {},
   "outputs": [],
   "source": [
    "### Data Import Functions"
   ]
  },
  {
   "cell_type": "code",
   "execution_count": 71,
   "metadata": {},
   "outputs": [],
   "source": [
    "#Data import\n",
    "def import_data(dataset):\n",
    "    dataset_all_days = []\n",
    "    for folder in range(1,len(info['datasets'].query('dataset == \"' + dataset + '\"'))+1):\n",
    "        #print(dataset + \": Folder \" + str(folder))\n",
    "        \n",
    "        #Shorthand info:\n",
    "        dataset_f_info = info['datasets'].query('dataset == \"' + dataset + '\" & folder == \"' + str(folder) + '\"')\n",
    "        #File format to import\n",
    "        f_file_import = select_file_importer(dataset, dataset_f_info)\n",
    "        \n",
    "        #Custom pre-import functions\n",
    "        if dataset in custom_preimport_functions:\n",
    "            dataset_supp_data = custom_preimport_functions[dataset](dataset_f_info)\n",
    "        else:\n",
    "            dataset_supp_data = \"\"\n",
    "        #Import files\n",
    "        for filename in tqdm(os.listdir(str(dataset_f_info['data_folder_path'][dataset])), desc = \"Open files to import\"):\n",
    "            if re.search(dataset_f_info['file_pat'][dataset], filename) and not filename.startswith('.'):\n",
    "                day_df = file_import_handler(dataset, dataset_f_info, filename, dataset_supp_data, f_file_import)\n",
    "                # Keep if longer than 0 lines\n",
    "                if len(day_df) > 0:\n",
    "                    #Keep if within DateTime range in Info file\n",
    "                    if max(day_df['DateTime']) >= min(info['charts']['chart_range_start']) and \\\n",
    "                       min(day_df['DateTime']) <= max(info['charts']['chart_range_end']):\n",
    "                        dataset_all_days.append(day_df)\n",
    "    \n",
    "    #Create one dataframe from all days data\n",
    "    dataset_all_data = pd.concat(dataset_all_days, axis=0, ignore_index=True)\n",
    "    dataset_all_data.sort_values(by=['DateTime'], inplace=True)\n",
    "    dataset_all_data = dataset_all_data.reset_index(drop=True)\n",
    "    \n",
    "    dataset_all_data = dataset_all_data[dataset_all_data['DateTime'] >= min(info['charts']['chart_range_start'])]\n",
    "    dataset_all_data = dataset_all_data[dataset_all_data['DateTime'] <= max(info['charts']['chart_range_end'])]\n",
    "    \n",
    "    return(dataset_all_data)\n",
    "\n",
    "#File Import functions\n",
    "def select_file_importer(dataset, dataset_f_info):\n",
    "    if re.search(\"xls\", dataset_f_info['file_pat'][dataset], re.IGNORECASE):\n",
    "        return file_import_functions[\"xls\"]\n",
    "    elif re.search(\"csv\", dataset_f_info['file_pat'][dataset], re.IGNORECASE):\n",
    "        return file_import_functions[\"csv\"]\n",
    "    elif re.search(\"txt\", dataset_f_info['file_pat'][dataset], re.IGNORECASE):\n",
    "        return file_import_functions[\"txt\"]\n",
    "    else:\n",
    "        raise ValueError(\"Unknown file pattern!\")\n",
    "\n",
    "def file_import_xls(dataset, dataset_f_info, filename):\n",
    "    df = pd.read_excel(\"\".join([str(dataset_f_info['data_folder_path'][dataset]), filename]), \n",
    "                       skiprows = dataset_f_info['skiprows'][dataset])\n",
    "    return df\n",
    "\n",
    "def file_import_csv(dataset, dataset_f_info, filename):\n",
    "    df = pd.read_csv(\"\".join([str(dataset_f_info['data_folder_path'][dataset]), filename]), \n",
    "                     skiprows = dataset_f_info['skiprows'][dataset])\n",
    "    return df\n",
    "\n",
    "def file_import_txt(dataset, dataset_f_info, filename):\n",
    "    df = pd.read_csv(\"\".join([str(dataset_f_info['data_folder_path'][dataset]), filename]), \n",
    "                     sep=\"\\t\", skiprows = dataset_f_info['skiprows'][dataset])\n",
    "    return df\n",
    "\n",
    "file_import_functions = {'xls': file_import_xls,\n",
    "                         'csv': file_import_csv,\n",
    "                         'txt': file_import_txt}\n",
    "\n",
    "def file_import_handler(dataset, dataset_f_info, filename, dataset_supp_data, f_file_import):\n",
    "    day_df = f_file_import(dataset, dataset_f_info, filename)\n",
    "    if len(day_df) > 0:\n",
    "        # Name parameter columns\n",
    "        day_df = day_df.rename(columns=dict(zip(info['parameters'].query('dataset == \"' + dataset + '\"')['code'], \n",
    "                                                info['parameters'].query('dataset == \"' + dataset + '\"')['parameter'])))\n",
    "        # Delete unit rows\n",
    "        if not pd.isna(dataset_f_info['Del_unit_rows'][dataset]):\n",
    "            day_df = day_df.drop(0).reset_index()\n",
    "        ##Load custom data mod function?\n",
    "        if dataset in custom_import_functions:\n",
    "            day_df = custom_import_functions[dataset](day_df, filename, dataset_supp_data, dataset_f_info, dataset)\n",
    "        \n",
    "        #Choose parameters included in parameters sheet\n",
    "        selected_pars = list(info['parameters'].query('dataset == \"' + dataset + '\"')['parameter'].values)\n",
    "        day_df = day_df[['DateTime'] + selected_pars]\n",
    "\n",
    "        #Make floats\n",
    "        for col in selected_pars:\n",
    "            try:\n",
    "                day_df[col] = day_df[col].astype(float)\n",
    "            except:\n",
    "                pass\n",
    "\n",
    "        #Add blank row between files - to be implemented\n",
    "        #if len(day_df) > 0:\n",
    "        #    if not pd.isna(dataset_f_info['Add_blank_rows'][dataset]):\n",
    "        #        day_df = day_df.append(pd.Series(), ignore_index=True)\n",
    "                \n",
    "\n",
    "    return(day_df)"
   ]
  },
  {
   "cell_type": "markdown",
   "execution_count": null,
   "metadata": {},
   "outputs": [],
   "source": [
    "### Data Import"
   ]
  },
  {
   "cell_type": "code",
   "execution_count": 72,
   "metadata": {},
   "outputs": [],
   "source": [
    "selected_cols = [s for s in info['parameters'].columns.to_list() if \"selected\" in s]\n",
    "selected = info['parameters'][selected_cols].isin([1]).any(axis=1)\n",
    "\n",
    "selected_cols_ave = [s for s in info['parameters_ave'].columns.to_list() if \"selected\" in s]\n",
    "selected_ave = info['parameters_ave'][selected_cols_ave].isin([1]).any(axis=1)\n",
    "\n",
    "selected_datasets = list(selected[selected].index.unique().values) + list(selected_ave[selected_ave].index.unique().values)\n",
    "selected_datasets = [x for i, x in enumerate(selected_datasets) if i == selected_datasets.index(x)]\n",
    "\n",
    "del selected_cols, selected_cols_ave"
   ]
  },
  {
   "cell_type": "code",
   "execution_count": 73,
   "metadata": {},
   "outputs": [
    {
     "output_type": "stream",
     "name": "stderr",
     "text": "Import data from each dataset:   0%|          | 0/5 [00:00<?, ?it/s]\nOpen files to import:   0%|          | 0/336 [00:00<?, ?it/s]\u001b[A\nOpen files to import:   0%|          | 1/336 [00:00<00:35,  9.44it/s]\u001b[A\nOpen files to import:   1%|          | 3/336 [00:00<00:32, 10.33it/s]\u001b[A\nOpen files to import:   1%|▏         | 5/336 [00:00<00:27, 11.96it/s]\u001b[A\nOpen files to import:   2%|▏         | 7/336 [00:00<00:25, 13.03it/s]\u001b[A\nOpen files to import:   3%|▎         | 9/336 [00:00<00:23, 13.78it/s]\u001b[A\nOpen files to import:   3%|▎         | 11/336 [00:00<00:22, 14.60it/s]\u001b[A\nOpen files to import:   4%|▍         | 13/336 [00:00<00:20, 15.55it/s]\u001b[A\nOpen files to import:   4%|▍         | 15/336 [00:00<00:19, 16.21it/s]\u001b[A\nOpen files to import:   5%|▌         | 17/336 [00:01<00:19, 15.96it/s]\u001b[A\nOpen files to import:   6%|▌         | 19/336 [00:01<00:20, 15.17it/s]\u001b[A\nOpen files to import:   6%|▋         | 21/336 [00:01<00:20, 15.47it/s]\u001b[A\nOpen files to import:   7%|▋         | 23/336 [00:01<00:19, 15.81it/s]\u001b[A\nOpen files to import:   7%|▋         | 25/336 [00:01<00:19, 15.58it/s]\u001b[A\nOpen files to import:   8%|▊         | 27/336 [00:01<00:20, 15.38it/s]\u001b[A\nOpen files to import:   9%|▊         | 29/336 [00:01<00:19, 15.70it/s]\u001b[A\nOpen files to import:   9%|▉         | 31/336 [00:01<00:19, 15.53it/s]\u001b[A\nOpen files to import:  10%|▉         | 33/336 [00:02<00:20, 14.88it/s]\u001b[A\nOpen files to import:  10%|█         | 35/336 [00:02<00:19, 15.41it/s]\u001b[A\nOpen files to import:  11%|█         | 37/336 [00:02<00:18, 15.83it/s]\u001b[A\nOpen files to import:  12%|█▏        | 39/336 [00:02<00:18, 15.87it/s]\u001b[A\nOpen files to import:  12%|█▏        | 41/336 [00:02<00:18, 16.01it/s]\u001b[A\nOpen files to import:  13%|█▎        | 43/336 [00:02<00:18, 15.66it/s]\u001b[A\nOpen files to import:  13%|█▎        | 45/336 [00:02<00:19, 15.08it/s]\u001b[A\nOpen files to import:  14%|█▍        | 47/336 [00:03<00:18, 15.39it/s]\u001b[A\nOpen files to import:  15%|█▍        | 49/336 [00:03<00:18, 15.28it/s]\u001b[A\nOpen files to import:  15%|█▌        | 51/336 [00:03<00:19, 14.63it/s]\u001b[A\nOpen files to import:  16%|█▌        | 53/336 [00:03<00:19, 14.63it/s]\u001b[A\nOpen files to import:  16%|█▋        | 55/336 [00:03<00:19, 14.73it/s]\u001b[A\nOpen files to import:  17%|█▋        | 57/336 [00:03<00:18, 14.70it/s]\u001b[A\nOpen files to import:  18%|█▊        | 59/336 [00:03<00:18, 14.91it/s]\u001b[A\nOpen files to import:  18%|█▊        | 61/336 [00:03<00:18, 15.19it/s]\u001b[A\nOpen files to import:  19%|█▉        | 63/336 [00:04<00:18, 14.83it/s]\u001b[A\nOpen files to import:  19%|█▉        | 65/336 [00:04<00:18, 14.35it/s]\u001b[A\nOpen files to import:  20%|█▉        | 67/336 [00:04<00:17, 15.54it/s]\u001b[A\nOpen files to import:  21%|██        | 69/336 [00:04<00:16, 16.05it/s]\u001b[A\nOpen files to import:  21%|██        | 71/336 [00:04<00:16, 16.46it/s]\u001b[A\nOpen files to import:  22%|██▏       | 73/336 [00:04<00:15, 16.77it/s]\u001b[A\nOpen files to import:  22%|██▏       | 75/336 [00:04<00:15, 16.83it/s]\u001b[A\nOpen files to import:  23%|██▎       | 77/336 [00:04<00:15, 16.54it/s]\u001b[A\nOpen files to import:  24%|██▎       | 79/336 [00:05<00:16, 15.42it/s]\u001b[A\nOpen files to import:  24%|██▍       | 81/336 [00:05<00:16, 15.48it/s]\u001b[A\nOpen files to import:  25%|██▍       | 83/336 [00:05<00:15, 16.09it/s]\u001b[A\nOpen files to import:  25%|██▌       | 85/336 [00:05<00:15, 16.46it/s]\u001b[A\nOpen files to import:  26%|██▌       | 87/336 [00:05<00:14, 16.69it/s]\u001b[A\nOpen files to import:  26%|██▋       | 89/336 [00:05<00:14, 16.67it/s]\u001b[A\nOpen files to import:  27%|██▋       | 91/336 [00:05<00:14, 16.39it/s]\u001b[A\nOpen files to import:  28%|██▊       | 93/336 [00:05<00:14, 16.67it/s]\u001b[A\nOpen files to import:  28%|██▊       | 95/336 [00:06<00:14, 17.09it/s]\u001b[A\nOpen files to import:  29%|██▉       | 97/336 [00:06<00:13, 17.37it/s]\u001b[A\nOpen files to import:  29%|██▉       | 99/336 [00:06<00:13, 17.51it/s]\u001b[A\nOpen files to import:  30%|███       | 101/336 [00:06<00:13, 16.82it/s]\u001b[A\nOpen files to import:  31%|███       | 103/336 [00:06<00:14, 16.35it/s]\u001b[A\nOpen files to import:  31%|███▏      | 105/336 [00:06<00:13, 16.61it/s]\u001b[A\nOpen files to import:  32%|███▏      | 107/336 [00:06<00:13, 16.80it/s]\u001b[A\nOpen files to import:  32%|███▏      | 109/336 [00:06<00:13, 16.31it/s]\u001b[A\nOpen files to import:  33%|███▎      | 111/336 [00:06<00:13, 17.16it/s]\u001b[A\nOpen files to import:  34%|███▎      | 113/336 [00:07<00:12, 17.20it/s]\u001b[A\nOpen files to import:  34%|███▍      | 115/336 [00:07<00:12, 17.34it/s]\u001b[A\nOpen files to import:  35%|███▍      | 117/336 [00:07<00:12, 17.36it/s]\u001b[A\nOpen files to import:  35%|███▌      | 119/336 [00:07<00:12, 17.15it/s]\u001b[A\nOpen files to import:  36%|███▌      | 121/336 [00:07<00:12, 17.57it/s]\u001b[A\nOpen files to import:  37%|███▋      | 123/336 [00:07<00:12, 17.66it/s]\u001b[A\nOpen files to import:  37%|███▋      | 125/336 [00:07<00:12, 17.50it/s]\u001b[A\nOpen files to import:  38%|███▊      | 127/336 [00:07<00:12, 17.28it/s]\u001b[A\nOpen files to import:  38%|███▊      | 129/336 [00:08<00:11, 17.40it/s]\u001b[A\nOpen files to import:  39%|███▉      | 131/336 [00:08<00:11, 17.35it/s]\u001b[A\nOpen files to import:  40%|███▉      | 133/336 [00:08<00:11, 17.53it/s]\u001b[A\nOpen files to import:  40%|████      | 135/336 [00:08<00:11, 17.60it/s]\u001b[A\nOpen files to import:  41%|████      | 137/336 [00:08<00:11, 17.59it/s]\u001b[A\nOpen files to import:  41%|████▏     | 139/336 [00:08<00:11, 17.25it/s]\u001b[A\nOpen files to import:  42%|████▏     | 141/336 [00:08<00:11, 17.46it/s]\u001b[A\nOpen files to import:  43%|████▎     | 143/336 [00:08<00:10, 17.82it/s]\u001b[A\nOpen files to import:  43%|████▎     | 145/336 [00:08<00:10, 17.50it/s]\u001b[A\nOpen files to import:  44%|████▍     | 147/336 [00:09<00:10, 17.75it/s]\u001b[A\nOpen files to import:  44%|████▍     | 149/336 [00:09<00:10, 17.46it/s]\u001b[A\nOpen files to import:  45%|████▍     | 151/336 [00:09<00:11, 16.53it/s]\u001b[A\nOpen files to import:  46%|████▌     | 153/336 [00:09<00:10, 16.78it/s]\u001b[A\nOpen files to import:  46%|████▌     | 155/336 [00:09<00:10, 17.44it/s]\u001b[A\nOpen files to import:  47%|████▋     | 157/336 [00:09<00:10, 17.57it/s]\u001b[A\nOpen files to import:  47%|████▋     | 159/336 [00:09<00:10, 17.22it/s]\u001b[A\nOpen files to import:  48%|████▊     | 161/336 [00:09<00:10, 16.95it/s]\u001b[A\nOpen files to import:  49%|████▊     | 163/336 [00:09<00:10, 16.91it/s]\u001b[A\nOpen files to import:  49%|████▉     | 165/336 [00:10<00:10, 16.98it/s]\u001b[A\nOpen files to import:  50%|████▉     | 167/336 [00:10<00:09, 17.16it/s]\u001b[A\nOpen files to import:  50%|█████     | 169/336 [00:10<00:09, 17.28it/s]\u001b[A\nOpen files to import:  51%|█████     | 171/336 [00:10<00:09, 17.09it/s]\u001b[A\nOpen files to import:  51%|█████▏    | 173/336 [00:10<00:09, 17.07it/s]\u001b[A\nOpen files to import:  52%|█████▏    | 175/336 [00:10<00:09, 17.23it/s]\u001b[A\nOpen files to import:  53%|█████▎    | 177/336 [00:10<00:09, 17.34it/s]\u001b[A\nOpen files to import:  53%|█████▎    | 179/336 [00:10<00:09, 17.02it/s]\u001b[A\nOpen files to import:  54%|█████▍    | 181/336 [00:11<00:09, 17.14it/s]\u001b[A\nOpen files to import:  54%|█████▍    | 183/336 [00:11<00:09, 17.00it/s]\u001b[A\nOpen files to import:  55%|█████▌    | 185/336 [00:11<00:09, 16.55it/s]\u001b[A\nOpen files to import:  56%|█████▌    | 187/336 [00:11<00:08, 16.91it/s]\u001b[A\nOpen files to import:  57%|█████▋    | 190/336 [00:11<00:08, 17.56it/s]\u001b[A\nOpen files to import:  57%|█████▋    | 192/336 [00:11<00:08, 17.41it/s]\u001b[A\nOpen files to import:  58%|█████▊    | 194/336 [00:11<00:08, 17.49it/s]\u001b[A\nOpen files to import:  58%|█████▊    | 196/336 [00:11<00:08, 16.92it/s]\u001b[A\nOpen files to import:  59%|█████▉    | 198/336 [00:12<00:07, 17.30it/s]\u001b[A\nOpen files to import:  60%|█████▉    | 200/336 [00:12<00:07, 17.98it/s]\u001b[A\nOpen files to import:  60%|██████    | 202/336 [00:12<00:07, 17.89it/s]\u001b[A\nOpen files to import:  61%|██████    | 204/336 [00:12<00:07, 17.64it/s]\u001b[A\nOpen files to import:  61%|██████▏   | 206/336 [00:12<00:07, 17.53it/s]\u001b[A\nOpen files to import:  62%|██████▏   | 208/336 [00:12<00:07, 17.34it/s]\u001b[A\nOpen files to import:  62%|██████▎   | 210/336 [00:12<00:07, 17.69it/s]\u001b[A\nOpen files to import:  63%|██████▎   | 212/336 [00:12<00:07, 17.69it/s]\u001b[A\nOpen files to import:  64%|██████▎   | 214/336 [00:12<00:06, 17.64it/s]\u001b[A\nOpen files to import:  64%|██████▍   | 216/336 [00:13<00:06, 17.25it/s]\u001b[A\nOpen files to import:  65%|██████▍   | 218/336 [00:13<00:06, 17.34it/s]\u001b[A\nOpen files to import:  65%|██████▌   | 220/336 [00:13<00:06, 17.67it/s]\u001b[A\nOpen files to import:  66%|██████▌   | 222/336 [00:13<00:06, 17.77it/s]\u001b[A\nOpen files to import:  67%|██████▋   | 224/336 [00:13<00:06, 17.71it/s]\u001b[A\nOpen files to import:  67%|██████▋   | 226/336 [00:13<00:06, 17.65it/s]\u001b[A\nOpen files to import:  68%|██████▊   | 228/336 [00:13<00:06, 17.57it/s]\u001b[A\nOpen files to import:  68%|██████▊   | 230/336 [00:13<00:06, 17.19it/s]\u001b[A\nOpen files to import:  69%|██████▉   | 232/336 [00:13<00:05, 17.63it/s]\u001b[A\nOpen files to import:  70%|██████▉   | 234/336 [00:14<00:05, 17.19it/s]\u001b[A\nOpen files to import:  70%|███████   | 236/336 [00:14<00:05, 17.21it/s]\u001b[A\nOpen files to import:  71%|███████   | 238/336 [00:14<00:05, 17.31it/s]\u001b[A\nOpen files to import:  71%|███████▏  | 240/336 [00:14<00:05, 16.94it/s]\u001b[A\nOpen files to import:  72%|███████▏  | 242/336 [00:14<00:05, 16.32it/s]\u001b[A\nOpen files to import:  73%|███████▎  | 244/336 [00:14<00:05, 17.14it/s]\u001b[A\nOpen files to import:  73%|███████▎  | 246/336 [00:14<00:05, 17.30it/s]\u001b[A\nOpen files to import:  74%|███████▍  | 248/336 [00:14<00:05, 17.06it/s]\u001b[A\nOpen files to import:  74%|███████▍  | 250/336 [00:15<00:04, 17.25it/s]\u001b[A\nOpen files to import:  75%|███████▌  | 252/336 [00:15<00:04, 17.48it/s]\u001b[A\nOpen files to import:  76%|███████▌  | 254/336 [00:15<00:04, 17.62it/s]\u001b[A\nOpen files to import:  76%|███████▌  | 256/336 [00:15<00:04, 17.38it/s]\u001b[A\nOpen files to import:  77%|███████▋  | 258/336 [00:15<00:04, 16.84it/s]\u001b[A\nOpen files to import:  77%|███████▋  | 260/336 [00:15<00:04, 16.42it/s]\u001b[A\nOpen files to import:  78%|███████▊  | 262/336 [00:15<00:04, 15.95it/s]\u001b[A\nOpen files to import:  79%|███████▊  | 264/336 [00:15<00:04, 16.63it/s]\u001b[A\nOpen files to import:  79%|███████▉  | 266/336 [00:15<00:04, 16.70it/s]\u001b[A\nOpen files to import:  80%|███████▉  | 268/336 [00:16<00:04, 16.75it/s]\u001b[A\nOpen files to import:  80%|████████  | 270/336 [00:16<00:03, 16.95it/s]\u001b[A\nOpen files to import:  81%|████████  | 272/336 [00:16<00:03, 16.57it/s]\u001b[A\nOpen files to import:  82%|████████▏ | 274/336 [00:16<00:03, 16.69it/s]\u001b[A\nOpen files to import:  82%|████████▏ | 276/336 [00:16<00:03, 17.42it/s]\u001b[A\nOpen files to import:  83%|████████▎ | 278/336 [00:16<00:03, 17.54it/s]\u001b[A\nOpen files to import:  83%|████████▎ | 280/336 [00:16<00:03, 17.19it/s]\u001b[A\nOpen files to import:  84%|████████▍ | 282/336 [00:16<00:03, 17.07it/s]\u001b[A\nOpen files to import:  85%|████████▍ | 284/336 [00:17<00:02, 17.35it/s]\u001b[A\nOpen files to import:  85%|████████▌ | 286/336 [00:17<00:02, 17.68it/s]\u001b[A\nOpen files to import:  86%|████████▌ | 288/336 [00:17<00:02, 17.82it/s]\u001b[A\nOpen files to import:  86%|████████▋ | 290/336 [00:17<00:02, 17.70it/s]\u001b[A\nOpen files to import:  87%|████████▋ | 292/336 [00:17<00:02, 18.12it/s]\u001b[A\nOpen files to import:  88%|████████▊ | 294/336 [00:17<00:02, 17.72it/s]\u001b[A\nOpen files to import:  88%|████████▊ | 296/336 [00:17<00:02, 17.66it/s]\u001b[A\nOpen files to import:  89%|████████▊ | 298/336 [00:17<00:02, 18.25it/s]\u001b[A\nOpen files to import:  89%|████████▉ | 300/336 [00:17<00:02, 17.84it/s]\u001b[A\nOpen files to import:  90%|████████▉ | 302/336 [00:18<00:01, 17.66it/s]\u001b[A\nOpen files to import:  90%|█████████ | 304/336 [00:18<00:01, 17.66it/s]\u001b[A\nOpen files to import:  91%|█████████ | 306/336 [00:18<00:01, 17.44it/s]\u001b[A\nOpen files to import:  92%|█████████▏| 308/336 [00:18<00:01, 17.29it/s]\u001b[A\nOpen files to import:  92%|█████████▏| 310/336 [00:18<00:01, 17.98it/s]\u001b[A\nOpen files to import:  93%|█████████▎| 312/336 [00:18<00:01, 17.35it/s]\u001b[A\nOpen files to import:  93%|█████████▎| 314/336 [00:18<00:01, 17.23it/s]\u001b[A\nOpen files to import:  94%|█████████▍| 316/336 [00:18<00:01, 16.95it/s]\u001b[A\nOpen files to import:  95%|█████████▍| 318/336 [00:18<00:01, 17.05it/s]\u001b[A\nOpen files to import:  95%|█████████▌| 320/336 [00:19<00:00, 17.75it/s]\u001b[A\nOpen files to import:  96%|█████████▌| 322/336 [00:19<00:00, 17.88it/s]\u001b[A\nOpen files to import:  96%|█████████▋| 324/336 [00:19<00:00, 17.82it/s]\u001b[A\nOpen files to import:  97%|█████████▋| 326/336 [00:19<00:00, 17.83it/s]\u001b[A\nOpen files to import:  98%|█████████▊| 328/336 [00:19<00:00, 17.83it/s]\u001b[A\nOpen files to import:  98%|█████████▊| 330/336 [00:19<00:00, 17.63it/s]\u001b[A\nOpen files to import:  99%|█████████▉| 332/336 [00:19<00:00, 18.11it/s]\u001b[A\nOpen files to import: 100%|██████████| 336/336 [00:19<00:00, 16.89it/s]\nImport data from each dataset:  20%|██        | 1/5 [00:21<01:24, 21.11s/it]\nOpen files to import:   0%|          | 0/371 [00:00<?, ?it/s]\u001b[A\nOpen files to import:   1%|          | 4/371 [00:00<00:09, 37.76it/s]\u001b[A\nOpen files to import:   2%|▏         | 7/371 [00:00<00:10, 33.60it/s]\u001b[A\nOpen files to import:   4%|▎         | 13/371 [00:00<00:09, 37.50it/s]\u001b[A\nOpen files to import:   5%|▍         | 18/371 [00:00<00:09, 38.44it/s]\u001b[A\nOpen files to import:   6%|▌         | 23/371 [00:00<00:08, 40.54it/s]\u001b[A\nOpen files to import:   7%|▋         | 27/371 [00:00<00:08, 39.38it/s]\u001b[A\nOpen files to import:   9%|▊         | 32/371 [00:00<00:08, 39.97it/s]\u001b[A\nOpen files to import:  10%|▉         | 36/371 [00:00<00:08, 38.82it/s]\u001b[A\nOpen files to import:  11%|█         | 40/371 [00:01<00:08, 36.80it/s]\u001b[A\nOpen files to import:  12%|█▏        | 44/371 [00:01<00:08, 37.39it/s]\u001b[A\nOpen files to import:  13%|█▎        | 49/371 [00:01<00:08, 38.56it/s]\u001b[A\nOpen files to import:  14%|█▍        | 53/371 [00:01<00:08, 38.58it/s]\u001b[A\nOpen files to import:  15%|█▌        | 57/371 [00:01<00:08, 38.17it/s]\u001b[A\nOpen files to import:  17%|█▋        | 62/371 [00:01<00:07, 39.25it/s]\u001b[A\nOpen files to import:  18%|█▊        | 66/371 [00:01<00:07, 38.13it/s]\u001b[A\nOpen files to import:  19%|█▉        | 70/371 [00:01<00:08, 37.03it/s]\u001b[A\nOpen files to import:  20%|██        | 75/371 [00:01<00:07, 38.23it/s]\u001b[A\nOpen files to import:  21%|██▏       | 79/371 [00:02<00:07, 38.40it/s]\u001b[A\nOpen files to import:  22%|██▏       | 83/371 [00:02<00:07, 37.33it/s]\u001b[A\nOpen files to import:  23%|██▎       | 87/371 [00:02<00:07, 37.80it/s]\u001b[A\nOpen files to import:  25%|██▍       | 91/371 [00:02<00:07, 37.89it/s]\u001b[A\nOpen files to import:  26%|██▌       | 95/371 [00:02<00:07, 37.71it/s]\u001b[A\nOpen files to import:  27%|██▋       | 100/371 [00:02<00:06, 40.65it/s]\u001b[A\nOpen files to import:  29%|██▉       | 107/371 [00:02<00:05, 44.86it/s]\u001b[A\nOpen files to import:  30%|███       | 112/371 [00:02<00:06, 42.41it/s]\u001b[A\nOpen files to import:  32%|███▏      | 117/371 [00:02<00:06, 41.56it/s]\u001b[A\nOpen files to import:  33%|███▎      | 122/371 [00:03<00:05, 42.11it/s]\u001b[A\nOpen files to import:  34%|███▍      | 127/371 [00:03<00:05, 41.03it/s]\u001b[A\nOpen files to import:  36%|███▌      | 132/371 [00:03<00:05, 40.20it/s]\u001b[A\nOpen files to import:  37%|███▋      | 137/371 [00:03<00:05, 41.58it/s]\u001b[A\nOpen files to import:  38%|███▊      | 142/371 [00:03<00:05, 39.74it/s]\u001b[A\nOpen files to import:  40%|███▉      | 147/371 [00:03<00:05, 40.98it/s]\u001b[A\nOpen files to import:  42%|████▏     | 154/371 [00:03<00:04, 45.61it/s]\u001b[A\nOpen files to import:  43%|████▎     | 159/371 [00:03<00:04, 43.53it/s]\u001b[A\nOpen files to import:  44%|████▍     | 164/371 [00:04<00:05, 41.06it/s]\u001b[A\nOpen files to import:  46%|████▌     | 169/371 [00:04<00:04, 40.84it/s]\u001b[A\nOpen files to import:  47%|████▋     | 174/371 [00:04<00:04, 40.59it/s]\u001b[A\nOpen files to import:  48%|████▊     | 179/371 [00:04<00:04, 42.15it/s]\u001b[A\nOpen files to import:  50%|████▉     | 184/371 [00:04<00:04, 42.00it/s]\u001b[A\nOpen files to import:  51%|█████     | 189/371 [00:04<00:04, 40.97it/s]\u001b[A\nOpen files to import:  52%|█████▏    | 194/371 [00:04<00:04, 40.96it/s]\u001b[A\nOpen files to import:  54%|█████▎    | 199/371 [00:04<00:04, 40.29it/s]\u001b[A\nOpen files to import:  55%|█████▍    | 204/371 [00:05<00:04, 39.80it/s]\u001b[A\nOpen files to import:  56%|█████▌    | 208/371 [00:05<00:04, 39.60it/s]\u001b[A\nOpen files to import:  57%|█████▋    | 213/371 [00:05<00:03, 39.96it/s]\u001b[A\nOpen files to import:  59%|█████▉    | 218/371 [00:05<00:03, 40.53it/s]\u001b[A\nOpen files to import:  60%|██████    | 223/371 [00:05<00:03, 39.99it/s]\u001b[A\nOpen files to import:  61%|██████▏   | 228/371 [00:05<00:03, 39.76it/s]\u001b[A\nOpen files to import:  63%|██████▎   | 232/371 [00:05<00:03, 39.78it/s]\u001b[A\nOpen files to import:  64%|██████▍   | 237/371 [00:05<00:03, 40.18it/s]\u001b[A\nOpen files to import:  65%|██████▌   | 242/371 [00:06<00:03, 38.29it/s]\u001b[A\nOpen files to import:  67%|██████▋   | 247/371 [00:06<00:03, 39.09it/s]\u001b[A\nOpen files to import:  68%|██████▊   | 251/371 [00:06<00:03, 39.02it/s]\u001b[A\nOpen files to import:  69%|██████▊   | 255/371 [00:06<00:03, 38.03it/s]\u001b[A\nOpen files to import:  70%|██████▉   | 259/371 [00:06<00:02, 38.40it/s]\u001b[A\nOpen files to import:  71%|███████   | 263/371 [00:06<00:02, 38.29it/s]\u001b[A\nOpen files to import:  72%|███████▏  | 267/371 [00:06<00:02, 38.67it/s]\u001b[A\nOpen files to import:  73%|███████▎  | 271/371 [00:06<00:02, 37.98it/s]\u001b[A\nOpen files to import:  74%|███████▍  | 276/371 [00:06<00:02, 38.38it/s]\u001b[A\nOpen files to import:  75%|███████▌  | 280/371 [00:06<00:02, 37.84it/s]\u001b[A\nOpen files to import:  77%|███████▋  | 284/371 [00:07<00:02, 37.61it/s]\u001b[A\nOpen files to import:  78%|███████▊  | 289/371 [00:07<00:02, 40.07it/s]\u001b[A\nOpen files to import:  79%|███████▉  | 294/371 [00:07<00:01, 39.37it/s]\u001b[A\nOpen files to import:  80%|████████  | 298/371 [00:07<00:01, 39.20it/s]\u001b[A\nOpen files to import:  82%|████████▏ | 303/371 [00:07<00:01, 39.91it/s]\u001b[A\nOpen files to import:  83%|████████▎ | 308/371 [00:07<00:01, 40.07it/s]\u001b[A\nOpen files to import:  84%|████████▍ | 313/371 [00:07<00:01, 38.54it/s]\u001b[A\nOpen files to import:  85%|████████▌ | 317/371 [00:07<00:01, 36.29it/s]\u001b[A\nOpen files to import:  87%|████████▋ | 321/371 [00:08<00:01, 35.94it/s]\u001b[A\nOpen files to import:  88%|████████▊ | 325/371 [00:08<00:01, 36.76it/s]\u001b[A\nOpen files to import:  89%|████████▉ | 330/371 [00:08<00:01, 39.03it/s]\u001b[A\nOpen files to import:  90%|█████████ | 335/371 [00:08<00:00, 39.17it/s]\u001b[A\nOpen files to import:  91%|█████████▏| 339/371 [00:08<00:00, 37.16it/s]\u001b[A\nOpen files to import:  92%|█████████▏| 343/371 [00:08<00:00, 34.94it/s]\u001b[A\nOpen files to import:  94%|█████████▎| 347/371 [00:08<00:00, 33.99it/s]\u001b[A\nOpen files to import:  95%|█████████▍| 351/371 [00:08<00:00, 34.00it/s]\u001b[A\nOpen files to import:  96%|█████████▌| 355/371 [00:09<00:00, 33.19it/s]\u001b[A\nOpen files to import:  97%|█████████▋| 359/371 [00:09<00:00, 33.25it/s]\u001b[A\nOpen files to import:  98%|█████████▊| 363/371 [00:09<00:00, 31.66it/s]\u001b[A\nOpen files to import: 100%|██████████| 371/371 [00:09<00:00, 39.19it/s]\nImport data from each dataset:  40%|████      | 2/5 [00:30<00:52, 17.62s/it]\nOpen files to import:   0%|          | 0/8 [00:00<?, ?it/s]\u001b[A\nOpen files to import:  38%|███▊      | 3/8 [00:00<00:00, 27.15it/s]\u001b[A\nOpen files to import: 100%|██████████| 8/8 [00:00<00:00, 29.60it/s]\nImport data from each dataset:  60%|██████    | 3/5 [00:30<00:24, 12.42s/it]\nOpen files to import:   0%|          | 0/4 [00:00<?, ?it/s]\u001b[AUrban Observatory data up-to-date!\n\nOpen files to import: 100%|██████████| 4/4 [00:03<00:00,  1.33it/s]\nImport data from each dataset:  80%|████████  | 4/5 [00:35<00:09,  9.94s/it]\nOpen files to import: 100%|██████████| 4/4 [00:00<00:00, 90.88it/s]\nImport data from each dataset: 100%|██████████| 5/5 [00:35<00:00,  7.01s/it]\n"
    }
   ],
   "source": [
    "dataset_data = []\n",
    "for dataset in tqdm(selected_datasets, desc = \"Import data from each dataset\"):\n",
    "    dataset_data.append(import_data(dataset))"
   ]
  },
  {
   "cell_type": "code",
   "execution_count": 74,
   "metadata": {},
   "outputs": [],
   "source": [
    "all_data = pd.concat(dataset_data, axis=0, ignore_index=True, sort=False)\n",
    "all_data.sort_values(by=['DateTime'], inplace=True)\n",
    "cols = ['DateTime']  + [col for col in all_data if col != 'DateTime']\n",
    "all_data = all_data[cols]\n",
    "all_data = all_data.reset_index(drop=True)\n",
    "\n",
    "del selected_datasets, cols, dataset_data, dataset"
   ]
  },
  {
   "cell_type": "code",
   "execution_count": 75,
   "metadata": {},
   "outputs": [],
   "source": [
    "with warnings.catch_warnings():\n",
    "    warnings.filterwarnings('ignore', r'All-NaN (slice|axis) encountered')\n",
    "    warnings.filterwarnings('ignore', r'Degrees of freedom <= 0 for slice.')\n",
    "    ave_cols = []\n",
    "    for col in all_data.columns[1:].to_list():\n",
    "        ave_col = info['parameters'].query('parameter == \"' + col + '\"')['parameter_ave'][0]\n",
    "        if ave_col != col:\n",
    "            if ave_col not in ave_cols:\n",
    "                cols = info['parameters'].query('parameter_ave == \"' + ave_col + '\"')['parameter'].to_list()\n",
    "                all_data[ave_col] = all_data[cols].mean(axis=1)\n",
    "                if len(cols) > 2:\n",
    "                    all_data[ave_col + \"_err\"] = np.nanstd(all_data[cols], axis=1)\n",
    "                elif len(cols) == 2:\n",
    "                    all_data[ave_col + \"_err\"] = np.abs((all_data[cols[0]] - all_data[cols[1]])/2)\n",
    "                else:\n",
    "                    all_data[ave_col + \"_err\"] = 0\n",
    "                ave_cols.append(info['parameters'].query('parameter == \"' + col + '\"')['parameter_ave'][0])\n",
    "\n",
    "del ave_col, col, ave_cols, cols"
   ]
  },
  {
   "cell_type": "code",
   "execution_count": 76,
   "metadata": {},
   "outputs": [],
   "source": [
    "ave_pars = list(info['parameters_ave'][selected_ave]['parameter_ave'].values)\n",
    "err_pars = [ave_par + \"_err\" for ave_par in ave_pars]\n",
    "\n",
    "selected_pars = list(info['parameters'][selected]['parameter'].values) + ave_pars + err_pars\n",
    "\n",
    "del selected, selected_ave, ave_pars, err_pars"
   ]
  },
  {
   "cell_type": "code",
   "execution_count": 77,
   "metadata": {},
   "outputs": [],
   "source": [
    "all_data = all_data[[\"DateTime\"]+ selected_pars]"
   ]
  },
  {
   "cell_type": "code",
   "execution_count": 78,
   "metadata": {},
   "outputs": [
    {
     "output_type": "stream",
     "name": "stderr",
     "text": "Assign data to chart DFs: 100%|██████████| 5/5 [00:01<00:00,  3.38it/s]\n"
    }
   ],
   "source": [
    "chart_dfs = []\n",
    "for chart in tqdm(charts, desc = \"Assign data to chart DFs\"):\n",
    "    if info['charts'].loc[chart, 'chart_status'] == 'ON':\n",
    "        mask = (all_data['DateTime'] >= info['charts'].loc[chart, 'chart_range_start']) & (all_data['DateTime'] <= info['charts'].loc[chart, 'chart_range_end'])\n",
    "        df = all_data.loc[mask]\n",
    "        if info['charts'].loc[chart, 'chart_res'] != 0:\n",
    "            df = df.resample(\"\".join([str(info['charts'].loc[chart, 'chart_res']), 'T']), on='DateTime').mean()\n",
    "            df = df.reset_index()\n",
    "        else:\n",
    "            df = df.reset_index(drop=True)\n",
    "        chart_dfs.append(df)\n",
    "    else:\n",
    "        chart_dfs.append(\"\")\n",
    "\n",
    "#del df, chart, mask, all_data"
   ]
  },
  {
   "cell_type": "code",
   "execution_count": 79,
   "metadata": {},
   "outputs": [],
   "source": [
    "#Create plot dictionary\n",
    "plot_dict = dict(zip(info['parameters']['parameter'], info['parameters']['plot']))\n",
    "plot_dict2 = dict(zip(info['parameters_ave']['parameter_ave'], info['parameters_ave']['plot']))\n",
    "plot_dict.update(plot_dict2)\n",
    "\n",
    "point_pars = info['parameters'].query('point == True')['parameter'].to_list() + info['parameters_ave'].query('point == True')['parameter_ave'].to_list()\n",
    "\n",
    "chart_dfs_mlt = []\n",
    "for chart in charts:\n",
    "    if info['charts'].loc[chart, 'chart_status'] == 'ON':\n",
    "        data_cols = []\n",
    "        err_cols = [\"DateTime\"]\n",
    "\n",
    "        criteria = chart_dfs[chart].isna().all()\n",
    "        wide_data = chart_dfs[chart][criteria.index[-criteria]]\n",
    "\n",
    "        for col in wide_data.columns:\n",
    "            if not \"_err\" in col:\n",
    "                data_cols.append(col)\n",
    "            else:\n",
    "                err_cols.append(col)\n",
    "\n",
    "        df = wide_data[data_cols].melt(id_vars=['DateTime'], var_name='Parameter', value_name='Value')\n",
    "        df_err = wide_data[err_cols].melt(id_vars=['DateTime'], var_name='Parameter', value_name='Error')\n",
    "        \n",
    "        df = df.set_index(['DateTime', 'Parameter', df.groupby(['DateTime', 'Parameter']).cumcount()])\n",
    "        df_err['Parameter'] = df_err['Parameter'].str.replace(r'_err', '')\n",
    "        df_err = df_err.set_index(['DateTime', 'Parameter', df_err.groupby(['DateTime', 'Parameter']).cumcount()])\n",
    "        \n",
    "        df3 = (pd.concat([df, df_err],axis=1)\n",
    "        .sort_index(level=2)\n",
    "        .reset_index(level=2, drop=True)\n",
    "        .reset_index())\n",
    "        df3.sort_values(by=['DateTime', 'Parameter'], inplace=True)\n",
    "\n",
    "        #Assign plots\n",
    "        df3.loc[:,'Plot'] = df3['Parameter'].map(plot_dict)\n",
    "\n",
    "        df3.drop(\n",
    "            df3[df3['Parameter'].isin(point_pars) & np.isnan(df3['Value'])].index, inplace=True)\n",
    "\n",
    "        chart_dfs_mlt.append(df3)\n",
    "    else:\n",
    "        chart_dfs_mlt.append(pd.DataFrame())\n",
    "\n",
    "del chart, data_cols, err_cols, col, df, df_err, df3, chart_dfs, plot_dict, plot_dict2, wide_data, criteria"
   ]
  },
  {
   "cell_type": "code",
   "execution_count": 82,
   "metadata": {},
   "outputs": [
    {
     "output_type": "execute_result",
     "data": {
      "text/plain": "[                   parameter      parameter_lab          plot  line  ribbon  \\\n dataset                                                                       \n Sensor             BES_A1__V             BES 1A        BES_VA  True   False   \n Sensor             BES_A2__V             BES 2A        BES_VA  True   False   \n Sensor             BES_A3__V             BES 3A        BES_VA  True   False   \n Sensor             BES_A4__V             BES 4A        BES_VA  True   False   \n Sensor             BES_B1__V             BES 1B        BES_VB  True   False   \n ...                      ...                ...           ...   ...     ...   \n Sensor            PRESSURE_B    Line B Pressure      PRESSURE  True   False   \n Sensor            PRESSURE_C    Line C Pressure      PRESSURE  True   False   \n Sensor             SENSOR_pH            Feed pH            pH  True   False   \n Sensor   SENSOR_CONDUCTIVITY  Feed Conductivity  CONDUCTIVITY  True   False   \n Sensor           SENSOR_TILT     Enclosure Tilt      PRESSURE  True   False   \n \n            bar  point               colour                 fill  shape   dash  \\\n dataset                                                                         \n Sensor   False  False    rgba(213,38,39,1)    rgba(213,38,39,1)      1  solid   \n Sensor   False  False    rgba(43,159,43,1)    rgba(43,159,43,1)      1  solid   \n Sensor   False  False   rgba(30,118,179,1)   rgba(30,118,179,1)      1  solid   \n Sensor   False  False  rgba(147,103,188,1)  rgba(147,103,188,1)      1  solid   \n Sensor   False  False    rgba(213,38,39,1)    rgba(213,38,39,1)      1  solid   \n ...        ...    ...                  ...                  ...    ...    ...   \n Sensor   False  False   rgba(187,188,33,1)   rgba(187,188,33,1)      1  solid   \n Sensor   False  False   rgba(22,189,206,1)   rgba(22,189,206,1)      1  solid   \n Sensor   False  False    rgba(139,85,74,1)    rgba(139,85,74,1)      1  solid   \n Sensor   False  False    rgba(139,85,74,1)    rgba(139,85,74,1)      1  solid   \n Sensor   False  False  rgba(126,126,126,1)  rgba(126,126,126,1)      1  solid   \n \n          bar_order  show_in_legend  selected_chart_0  selected_chart_1  \\\n dataset                                                                  \n Sensor         NaN            True                 1                 1   \n Sensor         NaN            True                 1                 1   \n Sensor         NaN            True                 1                 1   \n Sensor         NaN            True                 1                 1   \n Sensor         NaN            True                 1                 1   \n ...            ...             ...               ...               ...   \n Sensor         NaN            True                 1                 1   \n Sensor         NaN            True                 1                 1   \n Sensor         NaN            True                 1                 1   \n Sensor         NaN            True                 1                 1   \n Sensor         NaN            True                 1                 1   \n \n          selected_chart_2  selected_chart_3  \n dataset                                      \n Sensor                  1                 1  \n Sensor                  1                 1  \n Sensor                  1                 1  \n Sensor                  1                 1  \n Sensor                  1                 1  \n ...                   ...               ...  \n Sensor                  1                 0  \n Sensor                  1                 0  \n Sensor                  1                 1  \n Sensor                  1                 1  \n Sensor                  1                 1  \n \n [64 rows x 17 columns],\n               parameter                      parameter_lab       plot  line  \\\n dataset                                                                       \n Sensor        BES_A1__V                             BES 1A     BES_VA  True   \n Sensor        BES_A2__V                             BES 2A     BES_VA  True   \n Sensor        BES_A3__V                             BES 3A     BES_VA  True   \n Sensor        BES_A4__V                             BES 4A     BES_VA  True   \n Sensor        BES_B1__V                             BES 1B     BES_VB  True   \n ...                 ...                                ...        ...   ...   \n NWL         NWL_Nitrite                 WWTW Nitrite (NWG)  Chemistry  True   \n NWL         NWL_N_Ammon  WWTW N<sub>Ammoniacal</sub> (NWG)  Chemistry  True   \n NWL             NWL_SSu        WWTW S<sub>Susp</sub> (NWG)  Chemistry  True   \n NWL              NWL_pH                      WWTW pH (NWG)         pH  True   \n Skid     Inlet_Temp_ave                Pipe Temp (BE:WISE)       TEMP  True   \n \n          ribbon    bar  point               colour                 fill  \\\n dataset                                                                   \n Sensor    False  False  False    rgba(213,38,39,1)    rgba(213,38,39,1)   \n Sensor    False  False  False    rgba(43,159,43,1)    rgba(43,159,43,1)   \n Sensor    False  False  False   rgba(30,118,179,1)   rgba(30,118,179,1)   \n Sensor    False  False  False  rgba(147,103,188,1)  rgba(147,103,188,1)   \n Sensor    False  False  False    rgba(213,38,39,1)    rgba(213,38,39,1)   \n ...         ...    ...    ...                  ...                  ...   \n NWL       False  False   True    rgba(137,41,41,1)    rgba(137,41,41,1)   \n NWL       False  False   True    rgba(137,41,41,1)    rgba(137,41,41,1)   \n NWL       False  False   True    rgba(137,41,41,1)    rgba(137,41,41,1)   \n NWL       False  False   True   rgba(30,118,179,1)  rgba(173,198,231,1)   \n Skid       True  False  False    rgba(213,38,39,1)  rgba(213,38,39,0.5)   \n \n            shape         dash  bar_order  show_in_legend  selected_chart_0  \\\n dataset                                                                      \n Sensor         1        solid        NaN            True                 1   \n Sensor         1        solid        NaN            True                 1   \n Sensor         1        solid        NaN            True                 1   \n Sensor         1        solid        NaN            True                 1   \n Sensor         1        solid        NaN            True                 1   \n ...          ...          ...        ...             ...               ...   \n NWL            1        solid        NaN            True                 1   \n NWL            1        solid        NaN            True                 1   \n NWL            1        solid        NaN            True                 1   \n NWL      diamond  longdashdot        NaN            True                 1   \n Skid           1     longdash        NaN            True                 1   \n \n          selected_chart_1  selected_chart_2  selected_chart_3  \n dataset                                                        \n Sensor                  1                 1                 1  \n Sensor                  1                 1                 1  \n Sensor                  1                 1                 1  \n Sensor                  1                 1                 1  \n Sensor                  1                 1                 1  \n ...                   ...               ...               ...  \n NWL                     1                 1                 1  \n NWL                     1                 1                 1  \n NWL                     1                 1                 1  \n NWL                     1                 1                 1  \n Skid                    1                 1                 1  \n \n [74 rows x 17 columns],\n               parameter          parameter_lab    plot  line  ribbon    bar  \\\n dataset                                                                       \n Sensor        BES_A1__V                 BES 1A  BES_VA  True   False  False   \n Sensor        BES_A2__V                 BES 2A  BES_VA  True   False  False   \n Sensor        BES_A3__V                 BES 3A  BES_VA  True   False  False   \n Sensor        BES_A4__V                 BES 4A  BES_VA  True   False  False   \n Sensor        BES_B1__V                 BES 1B  BES_VB  True   False  False   \n ...                 ...                    ...     ...   ...     ...    ...   \n UO         EA_Downlevel  Downstream River (EA)   LEVEL  True   False  False   \n Skid     Inlet_Temp_ave    Pipe Temp (BE:WISE)    TEMP  True    True  False   \n SampLog        BOD5_ave              Feed BOD₅     BOD  True   False  False   \n SampLog        tCOD_ave              Feed tCOD     COD  True   False  False   \n SampLog        sCOD_ave              Feed sCOD     COD  True   False  False   \n \n          point               colour                 fill   shape      dash  \\\n dataset                                                                      \n Sensor   False    rgba(213,38,39,1)    rgba(213,38,39,1)       1     solid   \n Sensor   False    rgba(43,159,43,1)    rgba(43,159,43,1)       1     solid   \n Sensor   False   rgba(30,118,179,1)   rgba(30,118,179,1)       1     solid   \n Sensor   False  rgba(147,103,188,1)  rgba(147,103,188,1)       1     solid   \n Sensor   False    rgba(213,38,39,1)    rgba(213,38,39,1)       1     solid   \n ...        ...                  ...                  ...     ...       ...   \n UO       False   rgba(187,188,33,1)    rgba(137,41,41,1)       1   dashdot   \n Skid     False    rgba(213,38,39,1)  rgba(213,38,39,0.5)       1  longdash   \n SampLog   True   rgba(22,189,206,1)  rgba(157,217,228,1)  circle     solid   \n SampLog   True   rgba(255,126,13,1)  rgba(255,186,119,1)  circle     solid   \n SampLog   True   rgba(22,189,206,1)  rgba(157,217,228,1)  circle     solid   \n \n          bar_order  show_in_legend  selected_chart_0  selected_chart_1  \\\n dataset                                                                  \n Sensor         NaN            True                 1                 1   \n Sensor         NaN            True                 1                 1   \n Sensor         NaN            True                 1                 1   \n Sensor         NaN            True                 1                 1   \n Sensor         NaN            True                 1                 1   \n ...            ...             ...               ...               ...   \n UO             NaN            True                 1                 1   \n Skid           NaN            True                 1                 1   \n SampLog        NaN            True                 1                 1   \n SampLog        NaN            True                 1                 1   \n SampLog        NaN            True                 1                 1   \n \n          selected_chart_2  selected_chart_3  \n dataset                                      \n Sensor                  1                 1  \n Sensor                  1                 1  \n Sensor                  1                 1  \n Sensor                  1                 1  \n Sensor                  1                 1  \n ...                   ...               ...  \n UO                      1                 1  \n Skid                    1                 1  \n SampLog                 1                 1  \n SampLog                 1                 1  \n SampLog                 1                 1  \n \n [79 rows x 17 columns],\n                 parameter        parameter_lab      plot  line  ribbon    bar  \\\n dataset                                                                         \n Sensor          BES_A1__V               BES 1A    BES_VA  True   False  False   \n Sensor          BES_A2__V               BES 2A    BES_VA  True   False  False   \n Sensor          BES_A3__V               BES 3A    BES_VA  True   False  False   \n Sensor          BES_A4__V               BES 4A    BES_VA  True   False  False   \n Sensor          BES_B1__V               BES 1B    BES_VB  True   False  False   \n ...                   ...                  ...       ...   ...     ...    ...   \n Sensor   PRESSURE_BES_ave         BES Pressure  PRESSURE  True    True  False   \n Skid       Inlet_Temp_ave  Pipe Temp (BE:WISE)      TEMP  True    True  False   \n SampLog          BOD5_ave            Feed BOD₅       BOD  True   False  False   \n SampLog          tCOD_ave            Feed tCOD       COD  True   False  False   \n SampLog          sCOD_ave            Feed sCOD       COD  True   False  False   \n \n          point               colour                  fill   shape      dash  \\\n dataset                                                                       \n Sensor   False    rgba(213,38,39,1)     rgba(213,38,39,1)       1     solid   \n Sensor   False    rgba(43,159,43,1)     rgba(43,159,43,1)       1     solid   \n Sensor   False   rgba(30,118,179,1)    rgba(30,118,179,1)       1     solid   \n Sensor   False  rgba(147,103,188,1)   rgba(147,103,188,1)       1     solid   \n Sensor   False    rgba(213,38,39,1)     rgba(213,38,39,1)       1     solid   \n ...        ...                  ...                   ...     ...       ...   \n Sensor   False   rgba(22,189,206,1)  rgba(22,189,206,0.5)       1     solid   \n Skid     False    rgba(213,38,39,1)   rgba(213,38,39,0.5)       1  longdash   \n SampLog   True   rgba(22,189,206,1)   rgba(157,217,228,1)  circle     solid   \n SampLog   True   rgba(255,126,13,1)   rgba(255,186,119,1)  circle     solid   \n SampLog   True   rgba(22,189,206,1)   rgba(157,217,228,1)  circle     solid   \n \n          bar_order  show_in_legend  selected_chart_0  selected_chart_1  \\\n dataset                                                                  \n Sensor         NaN            True                 1                 1   \n Sensor         NaN            True                 1                 1   \n Sensor         NaN            True                 1                 1   \n Sensor         NaN            True                 1                 1   \n Sensor         NaN            True                 1                 1   \n ...            ...             ...               ...               ...   \n Sensor         NaN            True                 0                 0   \n Skid           NaN            True                 1                 1   \n SampLog        NaN            True                 1                 1   \n SampLog        NaN            True                 1                 1   \n SampLog        NaN            True                 1                 1   \n \n          selected_chart_2  selected_chart_3  \n dataset                                      \n Sensor                  1                 1  \n Sensor                  1                 1  \n Sensor                  1                 1  \n Sensor                  1                 1  \n Sensor                  1                 1  \n ...                   ...               ...  \n Sensor                  0                 1  \n Skid                    1                 1  \n SampLog                 1                 1  \n SampLog                 1                 1  \n SampLog                 1                 1  \n \n [73 rows x 17 columns],\n Empty DataFrame\n Columns: []\n Index: []]"
     },
     "metadata": {},
     "execution_count": 82
    }
   ],
   "source": [
    "plot_pars = []\n",
    "for chart in charts:\n",
    "    if info['charts'].loc[chart, 'chart_status'] == 'ON':\n",
    "        par_info1 = info['parameters'][info['parameters']['parameter'].isin(chart_dfs_mlt[chart].Parameter.unique())].drop(columns=[\"code\", \"parameter_ave\"])\n",
    "        par_info2 = info['parameters_ave'][info['parameters_ave']['parameter_ave'].isin(chart_dfs_mlt[chart].Parameter.unique())].rename(columns={\"parameter_ave\": \"parameter\"})\n",
    "        par_info_all = (par_info1.append(par_info2)).query('selected_chart_' + str(chart) + ' == 1')\n",
    "\n",
    "        #Convert colour id to rgb string\n",
    "        par_info_all['colour'].replace(info['colours']['rgba_str'].to_dict(), inplace=True)\n",
    "        par_info_all['fill'].replace(info['colours']['rgba_str'].to_dict(), inplace=True)\n",
    "\n",
    "        #Set defaults for NAs\n",
    "        par_info_all['colour'].fillna(info['colours'].query(\"theme == 'dark'\")['rgba_str'].to_list()[0], inplace=True)\n",
    "        par_info_all['fill'].fillna(info['colours'].query(\"theme == 'dark'\")['rgba_str'].to_list()[0], inplace=True)\n",
    "        par_info_all['shape'].fillna(1, inplace=True)\n",
    "        par_info_all['dash'].fillna(\"solid\", inplace=True)\n",
    "        par_info_all['show_in_legend'].fillna(True, inplace=True)\n",
    "\n",
    "        par_info_all.loc[par_info_all['ribbon'] == True, 'fill'] = par_info_all.loc[par_info_all['ribbon'] == True, 'fill'].str.replace(\",1\\)\", \",0.5)\")\n",
    "        \n",
    "        plot_pars.append(par_info_all)\n",
    "    else:\n",
    "        plot_pars.append(pd.DataFrame())\n",
    "plot_pars\n",
    "\n",
    "#del chart, par_info1, par_info2, par_info_all"
   ]
  },
  {
   "cell_type": "code",
   "execution_count": 83,
   "metadata": {},
   "outputs": [],
   "source": [
    "#Export data to temp files\n",
    "temp_folder = \"Temp\"\n",
    "data_folder = temp_folder + \"/Data\"\n",
    "data_types = [\"info\", \"chart_dfs_mlt\", \"plot_pars\"]\n",
    "\n",
    "if not os.path.exists(temp_folder):\n",
    "    os.mkdir(temp_folder)\n",
    "else:\n",
    "    delete_folder_contents(temp_folder)\n",
    "\n",
    "os.mkdir(data_folder)\n",
    "for data_type in data_types:\n",
    "    os.mkdir(data_folder + \"/\" + data_type)\n",
    "\n",
    "for A in info:\n",
    "    info[A].to_csv(data_folder + \"/info/info_\" + str(A) + \".csv\", encoding='utf-8')\n",
    "for i, A in enumerate(chart_dfs_mlt):\n",
    "    A.to_csv(data_folder + \"/chart_dfs_mlt/chart_dfs_mlt_\" + str(i) + \".csv\", encoding='utf-8', index=False)\n",
    "for i, A in enumerate(plot_pars):\n",
    "    A.to_csv(data_folder + \"/plot_pars/plot_pars_\" + str(i) + \".csv\", encoding='utf-8')"
   ]
  }
 ],
 "metadata": {
  "kernelspec": {
   "display_name": "Python 3",
   "language": "python",
   "name": "python3"
  },
  "language_info": {
   "codemirror_mode": {
    "name": "ipython",
    "version": 3
   },
   "file_extension": ".py",
   "mimetype": "text/x-python",
   "name": "python",
   "nbconvert_exporter": "python",
   "pygments_lexer": "ipython3",
   "version": "3.7.6-final"
  },
  "varInspector": {
   "cols": {
    "lenName": 16,
    "lenType": 16,
    "lenVar": 40
   },
   "kernels_config": {
    "python": {
     "delete_cmd_postfix": "",
     "delete_cmd_prefix": "del ",
     "library": "var_list.py",
     "varRefreshCmd": "print(var_dic_list())"
    },
    "r": {
     "delete_cmd_postfix": ") ",
     "delete_cmd_prefix": "rm(",
     "library": "var_list.r",
     "varRefreshCmd": "cat(var_dic_list()) "
    }
   },
   "position": {
    "height": "250px",
    "left": "1330px",
    "right": "20px",
    "top": "109px",
    "width": "575px"
   },
   "types_to_exclude": [
    "module",
    "function",
    "builtin_function_or_method",
    "instance",
    "_Feature"
   ],
   "window_display": true
  }
 },
 "nbformat": 4,
 "nbformat_minor": 4
}