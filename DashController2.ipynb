{
 "cells": [
  {
   "cell_type": "markdown",
   "execution_count": null,
   "metadata": {},
   "outputs": [],
   "source": [
    "![ToOL-PRO-BES.png](Info/ToOL-PRO-BES.png)"
   ]
  },
  {
   "cell_type": "markdown",
   "execution_count": null,
   "metadata": {},
   "outputs": [],
   "source": [
    "## Import packages"
   ]
  },
  {
   "source": [
    "import pandas as pd\n",
    "from tqdm.autonotebook import trange, tqdm\n",
    "\n",
    "from plotly.subplots import make_subplots\n",
    "import plotly.graph_objects as go\n",
    "import datetime\n",
    "from datetime import datetime, timedelta, timezone\n",
    "from pytz import timezone\n",
    "\n",
    "import os\n",
    "import re\n",
    "\n",
    "import dash\n",
    "import dash_core_components as dcc\n",
    "import dash_bootstrap_components as dbc\n",
    "import dash_html_components as html\n",
    "from dash.dependencies import Input, Output, State\n",
    "import time\n",
    "import numpy as np\n",
    "import math\n",
    "import seaborn as sns\n",
    "\n",
    "import requests\n",
    "import io\n",
    "import warnings"
   ],
   "cell_type": "code",
   "outputs": [],
   "metadata": {},
   "execution_count": 125
  },
  {
   "cell_type": "markdown",
   "execution_count": null,
   "metadata": {},
   "outputs": [],
   "source": [
    "## Setup from Info.xlsx"
   ]
  },
  {
   "source": [
    "info = pd.read_excel(\"Info/Info.xlsx\", sheet_name=None, index_col=0)\n",
    "print(*info.keys(), sep = \" | \")"
   ],
   "cell_type": "code",
   "outputs": [
    {
     "output_type": "stream",
     "name": "stdout",
     "text": "setup | datasets | charts | plots | parameters | parameters_ave | colours\n"
    }
   ],
   "metadata": {},
   "execution_count": 126
  },
  {
   "cell_type": "markdown",
   "execution_count": null,
   "metadata": {},
   "outputs": [],
   "source": [
    "## Functions"
   ]
  },
  {
   "source": [
    "# Date Functions\n",
    "def set_date(date_str, old_tz, dt_format = \"%d/%m/%Y %H:%M:%S\"):\n",
    "    if date_str == 'NaT':\n",
    "        return pd.NaT\n",
    "    else:\n",
    "        datetime_set_naive = datetime.strptime(date_str, dt_format)\n",
    "        datetime_set_old = timezone(old_tz).localize(datetime_set_naive)\n",
    "        datetime_set_utc = datetime_set_old.astimezone(timezone('UTC'))\n",
    "        return datetime_set_utc\n",
    "\n",
    "def date_parser(date_, time_, dt_format = \"%d/%m/%Y %H:%M:%S\"):\n",
    "    return set_date(date_ + \" \" + time_, 'UTC', dt_format)\n",
    "\n",
    "def date_parserYMD(date_, time_, dt_format = \"%Y-%m-%d %H:%M:%S\"):\n",
    "    return set_date(date_ + \" \" + time_, 'UTC', dt_format)\n",
    "\n",
    "\n",
    "# Experiment start/end date\n",
    "date_start = set_date(str(info['setup'].loc['date_start_utc','value']), \"UTC\", \"%Y-%m-%d %H:%M:%S\")\n",
    "if pd.isna(info['setup'].loc['date_end_utc','value']):\n",
    "    date_now = datetime.now(timezone('UTC'))\n",
    "    info['setup'].loc['date_end_utc','value'] = date_now\n",
    "else:\n",
    "    date_now = set_date(str(info['setup'].loc['date_end_utc','value']), \"UTC\", \"%Y-%m-%d %H:%M:%S\")\n",
    "\n",
    "# Date Functions continued\n",
    "def date_range(window=-1, start=date_start, end=date_now):\n",
    "    if pd.isna(start):\n",
    "        start = date_start\n",
    "    if pd.isna(end):\n",
    "        end = date_now\n",
    "    if window != -1:\n",
    "        if not pd.isna(window):\n",
    "            start = end - timedelta(days=window)\n",
    "    return start, end\n",
    "\n",
    "info['setup']"
   ],
   "cell_type": "code",
   "outputs": [
    {
     "output_type": "execute_result",
     "data": {
      "text/plain": "                                           value\nid                                              \nproject                             ToOLTuBES v2\ndate_start_utc               2019-06-04 13:03:17\ndate_end_utc    2020-02-13 16:19:41.443601+00:00",
      "text/html": "<div>\n<style scoped>\n    .dataframe tbody tr th:only-of-type {\n        vertical-align: middle;\n    }\n\n    .dataframe tbody tr th {\n        vertical-align: top;\n    }\n\n    .dataframe thead th {\n        text-align: right;\n    }\n</style>\n<table border=\"1\" class=\"dataframe\">\n  <thead>\n    <tr style=\"text-align: right;\">\n      <th></th>\n      <th>value</th>\n    </tr>\n    <tr>\n      <th>id</th>\n      <th></th>\n    </tr>\n  </thead>\n  <tbody>\n    <tr>\n      <th>project</th>\n      <td>ToOLTuBES v2</td>\n    </tr>\n    <tr>\n      <th>date_start_utc</th>\n      <td>2019-06-04 13:03:17</td>\n    </tr>\n    <tr>\n      <th>date_end_utc</th>\n      <td>2020-02-13 16:19:41.443601+00:00</td>\n    </tr>\n  </tbody>\n</table>\n</div>"
     },
     "metadata": {},
     "execution_count": 127
    }
   ],
   "metadata": {},
   "execution_count": 127
  },
  {
   "cell_type": "markdown",
   "execution_count": null,
   "metadata": {},
   "outputs": [],
   "source": [
    "## Process Information sheets from Info.xlsx\n",
    "\n",
    "### Datasets:"
   ]
  },
  {
   "source": [
    "info['datasets']"
   ],
   "cell_type": "code",
   "outputs": [
    {
     "output_type": "execute_result",
     "data": {
      "text/plain": "         folder     selection              melt  \\\ndataset                                           \nUO            1       UO.wide           UO.wide   \nNWL           1           NWL               NWL   \nSkid          1          Skid          Skid.ave   \nSkid          2          Skid          Skid.ave   \nSampLog       1  SampLog.wide  SampLog.wide.ave   \nSensor        1        SENSOR            SENSOR   \nEvents        1       EV.wide            EV.ave   \n\n                                          data_folder_path  \\\ndataset                                                      \nUO       C:/Users/Martin/Google Drive/ToOLTuBES/LAB/Dat...   \nNWL      C:/Users/Martin/Google Drive/ToOLTuBES/LAB/Dat...   \nSkid     C:/Users/Martin/Google Drive/BEWISE_shared/Ski...   \nSkid     C:/Users/Martin/Google Drive/BEWISE_shared/Ski...   \nSampLog  C:/Users/Martin/Google Drive/BEWISE_shared/Sam...   \nSensor   C:/Users/Martin/Google Drive/ToOLTuBESv2/LAB/T...   \nEvents   C:/Users/Martin/Google Drive/ToOLTuBESv2/LAB/T...   \n\n                                        supp_data_filepath  \\\ndataset                                                      \nUO       C:/Users/Martin/Google Drive/ToOLTuBES/LAB/Dat...   \nNWL                                                    NaN   \nSkid                                                   NaN   \nSkid                                                   NaN   \nSampLog                                                NaN   \nSensor                                                 NaN   \nEvents   C:/Users/Martin/Google Drive/ToOLTuBESv2/LAB/T...   \n\n                        file_pat  skiprows  Slim  Del_unit_rows  \\\ndataset                                                           \nUO                          .csv         0   1.0            NaN   \nNWL                        .xlsx         2   NaN            1.0   \nSkid                        .CSV         2   NaN            NaN   \nSkid                        .CSV         3   NaN            NaN   \nSampLog                     .csv         0   1.0            NaN   \nSensor   \\d\\d_\\d\\d_\\d\\d\\d\\d\\.csv         0   NaN            NaN   \nEvents                      .csv         0   NaN            NaN   \n\n         Add_blank_rows  \ndataset                  \nUO                  1.0  \nNWL                 NaN  \nSkid                1.0  \nSkid                1.0  \nSampLog             NaN  \nSensor              NaN  \nEvents              NaN  ",
      "text/html": "<div>\n<style scoped>\n    .dataframe tbody tr th:only-of-type {\n        vertical-align: middle;\n    }\n\n    .dataframe tbody tr th {\n        vertical-align: top;\n    }\n\n    .dataframe thead th {\n        text-align: right;\n    }\n</style>\n<table border=\"1\" class=\"dataframe\">\n  <thead>\n    <tr style=\"text-align: right;\">\n      <th></th>\n      <th>folder</th>\n      <th>selection</th>\n      <th>melt</th>\n      <th>data_folder_path</th>\n      <th>supp_data_filepath</th>\n      <th>file_pat</th>\n      <th>skiprows</th>\n      <th>Slim</th>\n      <th>Del_unit_rows</th>\n      <th>Add_blank_rows</th>\n    </tr>\n    <tr>\n      <th>dataset</th>\n      <th></th>\n      <th></th>\n      <th></th>\n      <th></th>\n      <th></th>\n      <th></th>\n      <th></th>\n      <th></th>\n      <th></th>\n      <th></th>\n    </tr>\n  </thead>\n  <tbody>\n    <tr>\n      <th>UO</th>\n      <td>1</td>\n      <td>UO.wide</td>\n      <td>UO.wide</td>\n      <td>C:/Users/Martin/Google Drive/ToOLTuBES/LAB/Dat...</td>\n      <td>C:/Users/Martin/Google Drive/ToOLTuBES/LAB/Dat...</td>\n      <td>.csv</td>\n      <td>0</td>\n      <td>1.0</td>\n      <td>NaN</td>\n      <td>1.0</td>\n    </tr>\n    <tr>\n      <th>NWL</th>\n      <td>1</td>\n      <td>NWL</td>\n      <td>NWL</td>\n      <td>C:/Users/Martin/Google Drive/ToOLTuBES/LAB/Dat...</td>\n      <td>NaN</td>\n      <td>.xlsx</td>\n      <td>2</td>\n      <td>NaN</td>\n      <td>1.0</td>\n      <td>NaN</td>\n    </tr>\n    <tr>\n      <th>Skid</th>\n      <td>1</td>\n      <td>Skid</td>\n      <td>Skid.ave</td>\n      <td>C:/Users/Martin/Google Drive/BEWISE_shared/Ski...</td>\n      <td>NaN</td>\n      <td>.CSV</td>\n      <td>2</td>\n      <td>NaN</td>\n      <td>NaN</td>\n      <td>1.0</td>\n    </tr>\n    <tr>\n      <th>Skid</th>\n      <td>2</td>\n      <td>Skid</td>\n      <td>Skid.ave</td>\n      <td>C:/Users/Martin/Google Drive/BEWISE_shared/Ski...</td>\n      <td>NaN</td>\n      <td>.CSV</td>\n      <td>3</td>\n      <td>NaN</td>\n      <td>NaN</td>\n      <td>1.0</td>\n    </tr>\n    <tr>\n      <th>SampLog</th>\n      <td>1</td>\n      <td>SampLog.wide</td>\n      <td>SampLog.wide.ave</td>\n      <td>C:/Users/Martin/Google Drive/BEWISE_shared/Sam...</td>\n      <td>NaN</td>\n      <td>.csv</td>\n      <td>0</td>\n      <td>1.0</td>\n      <td>NaN</td>\n      <td>NaN</td>\n    </tr>\n    <tr>\n      <th>Sensor</th>\n      <td>1</td>\n      <td>SENSOR</td>\n      <td>SENSOR</td>\n      <td>C:/Users/Martin/Google Drive/ToOLTuBESv2/LAB/T...</td>\n      <td>NaN</td>\n      <td>\\d\\d_\\d\\d_\\d\\d\\d\\d\\.csv</td>\n      <td>0</td>\n      <td>NaN</td>\n      <td>NaN</td>\n      <td>NaN</td>\n    </tr>\n    <tr>\n      <th>Events</th>\n      <td>1</td>\n      <td>EV.wide</td>\n      <td>EV.ave</td>\n      <td>C:/Users/Martin/Google Drive/ToOLTuBESv2/LAB/T...</td>\n      <td>C:/Users/Martin/Google Drive/ToOLTuBESv2/LAB/T...</td>\n      <td>.csv</td>\n      <td>0</td>\n      <td>NaN</td>\n      <td>NaN</td>\n      <td>NaN</td>\n    </tr>\n  </tbody>\n</table>\n</div>"
     },
     "metadata": {},
     "execution_count": 128
    }
   ],
   "metadata": {},
   "execution_count": 128
  },
  {
   "cell_type": "markdown",
   "execution_count": null,
   "metadata": {},
   "outputs": [],
   "source": [
    "### Chartxs:"
   ]
  },
  {
   "source": [
    "charts = []\n",
    "for chart, row in info['charts'].iterrows():\n",
    "    chart_range = date_range(window = row['chart_range_window'], start = set_date(str(row['chart_range_start']), \"UTC\", \"%Y-%m-%d %H:%M:%S\"), end = set_date(str(row['chart_range_end']), \"UTC\", \"%Y-%m-%d %H:%M:%S\"))\n",
    "    info['charts'].loc[chart, 'chart_range_start'] = chart_range[0]\n",
    "    info['charts'].loc[chart, 'chart_range_end'] = chart_range[1]\n",
    "    info['charts'].loc[chart, 'chart_range_window'] = chart_range[1] - chart_range[0]\n",
    "    charts.append(chart)\n",
    "\n",
    "del chart, chart_range, row\n",
    "\n",
    "info['charts']"
   ],
   "cell_type": "code",
   "outputs": [
    {
     "output_type": "execute_result",
     "data": {
      "text/plain": "         chart chart_status  chart_res        chart_range_window  \\\norder                                                              \n0         high           ON          0           3 days, 0:00:00   \n1          med           ON          5          14 days, 0:00:00   \n2          low           ON        120  254 days, 3:16:24.443601   \n3      low_ave           ON        120  254 days, 3:16:24.443601   \n4      custom1          OFF          0            1 day, 0:00:00   \n\n                      chart_range_start                   chart_range_end  \\\norder                                                                       \n0      2020-02-10 16:19:41.443601+00:00  2020-02-13 16:19:41.443601+00:00   \n1      2020-01-30 16:19:41.443601+00:00  2020-02-13 16:19:41.443601+00:00   \n2             2019-06-04 13:03:17+00:00  2020-02-13 16:19:41.443601+00:00   \n3             2019-06-04 13:03:17+00:00  2020-02-13 16:19:41.443601+00:00   \n4             2019-06-04 13:03:17+00:00         2019-06-05 13:03:17+00:00   \n\n                    chart_label  \norder                            \n0               High Resolution  \n1             Medium Resolution  \n2                Low Resolution  \n3      Low Resolution (average)  \n4                  Custom Chart  ",
      "text/html": "<div>\n<style scoped>\n    .dataframe tbody tr th:only-of-type {\n        vertical-align: middle;\n    }\n\n    .dataframe tbody tr th {\n        vertical-align: top;\n    }\n\n    .dataframe thead th {\n        text-align: right;\n    }\n</style>\n<table border=\"1\" class=\"dataframe\">\n  <thead>\n    <tr style=\"text-align: right;\">\n      <th></th>\n      <th>chart</th>\n      <th>chart_status</th>\n      <th>chart_res</th>\n      <th>chart_range_window</th>\n      <th>chart_range_start</th>\n      <th>chart_range_end</th>\n      <th>chart_label</th>\n    </tr>\n    <tr>\n      <th>order</th>\n      <th></th>\n      <th></th>\n      <th></th>\n      <th></th>\n      <th></th>\n      <th></th>\n      <th></th>\n    </tr>\n  </thead>\n  <tbody>\n    <tr>\n      <th>0</th>\n      <td>high</td>\n      <td>ON</td>\n      <td>0</td>\n      <td>3 days, 0:00:00</td>\n      <td>2020-02-10 16:19:41.443601+00:00</td>\n      <td>2020-02-13 16:19:41.443601+00:00</td>\n      <td>High Resolution</td>\n    </tr>\n    <tr>\n      <th>1</th>\n      <td>med</td>\n      <td>ON</td>\n      <td>5</td>\n      <td>14 days, 0:00:00</td>\n      <td>2020-01-30 16:19:41.443601+00:00</td>\n      <td>2020-02-13 16:19:41.443601+00:00</td>\n      <td>Medium Resolution</td>\n    </tr>\n    <tr>\n      <th>2</th>\n      <td>low</td>\n      <td>ON</td>\n      <td>120</td>\n      <td>254 days, 3:16:24.443601</td>\n      <td>2019-06-04 13:03:17+00:00</td>\n      <td>2020-02-13 16:19:41.443601+00:00</td>\n      <td>Low Resolution</td>\n    </tr>\n    <tr>\n      <th>3</th>\n      <td>low_ave</td>\n      <td>ON</td>\n      <td>120</td>\n      <td>254 days, 3:16:24.443601</td>\n      <td>2019-06-04 13:03:17+00:00</td>\n      <td>2020-02-13 16:19:41.443601+00:00</td>\n      <td>Low Resolution (average)</td>\n    </tr>\n    <tr>\n      <th>4</th>\n      <td>custom1</td>\n      <td>OFF</td>\n      <td>0</td>\n      <td>1 day, 0:00:00</td>\n      <td>2019-06-04 13:03:17+00:00</td>\n      <td>2019-06-05 13:03:17+00:00</td>\n      <td>Custom Chart</td>\n    </tr>\n  </tbody>\n</table>\n</div>"
     },
     "metadata": {},
     "execution_count": 129
    }
   ],
   "metadata": {},
   "execution_count": 129
  },
  {
   "cell_type": "markdown",
   "execution_count": null,
   "metadata": {},
   "outputs": [],
   "source": [
    "### Parameters:"
   ]
  },
  {
   "source": [
    "info['parameters']"
   ],
   "cell_type": "code",
   "outputs": [
    {
     "output_type": "execute_result",
     "data": {
      "text/plain": "                  code         parameter     parameter_ave  \\\ndataset                                                      \nSensor            A1 V         BES_A1__V      BES_1__V_ave   \nSensor            A2 V         BES_A2__V      BES_2__V_ave   \nSensor            A3 V         BES_A3__V      BES_3__V_ave   \nSensor            A4 V         BES_A4__V      BES_4__V_ave   \nSensor            B1 V         BES_B1__V      BES_1__V_ave   \n...                ...               ...               ...   \nEvents   HOSE_B_STATUS  HOSE_B_STATUS_EV  HOSE_B_STATUS_EV   \nEvents   HOSE_C_STATUS  HOSE_C_STATUS_EV  HOSE_C_STATUS_EV   \nEvents         TILT_SP        TILT_SP_EV        TILT_SP_EV   \nEvents       TILT_AUTO      TILT_AUTO_EV      TILT_AUTO_EV   \nEvents          WAKEUP         WAKEUP_EV         WAKEUP_EV   \n\n                       parameter_lab              plot  line  ribbon  bar  \\\ndataset                                                                     \nSensor                        BES 1A      BES_VA_indiv   1.0     NaN  NaN   \nSensor                        BES 2A      BES_VA_indiv   1.0     NaN  NaN   \nSensor                        BES 3A      BES_VA_indiv   1.0     NaN  NaN   \nSensor                        BES 4A      BES_VA_indiv   1.0     NaN  NaN   \nSensor                        BES 1B      BES_VB_indiv   1.0     NaN  NaN   \n...                              ...               ...   ...     ...  ...   \nEvents       Heated Hose B Status EV  TEMP_EVENT_indiv   1.0     NaN  NaN   \nEvents       Heated Hose C Status EV  TEMP_EVENT_indiv   1.0     NaN  NaN   \nEvents   Enclosure Tilt Set Point EV    PRESSURE_indiv   1.0     NaN  NaN   \nEvents   Enclosure Tilt Automated EV            STATUS   1.0     NaN  NaN   \nEvents        Wakeup from Restart EV            STATUS   1.0     NaN  NaN   \n\n         point  colour  fill  shape line_type  bar_order  show_in_legend  \\\ndataset                                                                    \nSensor     NaN     0.0   0.0    NaN     solid        NaN            True   \nSensor     NaN     3.0   3.0    NaN     solid        NaN            True   \nSensor     NaN     5.0   5.0    NaN     solid        NaN            True   \nSensor     NaN     6.0   6.0    NaN     solid        NaN            True   \nSensor     NaN     0.0   0.0    NaN  longdash        NaN            True   \n...        ...     ...   ...    ...       ...        ...             ...   \nEvents     NaN     NaN   NaN    NaN       NaN        NaN            True   \nEvents     NaN     NaN   NaN    NaN       NaN        NaN            True   \nEvents     NaN     NaN   NaN    NaN       NaN        NaN            True   \nEvents     NaN     NaN   NaN    NaN       NaN        NaN            True   \nEvents     NaN     6.0   6.0    NaN     solid        3.0            True   \n\n         selected_chart_0  selected_chart_1  selected_chart_2  \\\ndataset                                                         \nSensor                  1                 1                 1   \nSensor                  1                 1                 1   \nSensor                  1                 1                 1   \nSensor                  1                 1                 1   \nSensor                  1                 1                 1   \n...                   ...               ...               ...   \nEvents                  0                 0                 0   \nEvents                  0                 0                 0   \nEvents                  0                 0                 0   \nEvents                  0                 0                 0   \nEvents                  0                 0                 0   \n\n         selected_chart_3  \ndataset                    \nSensor                  1  \nSensor                  1  \nSensor                  1  \nSensor                  1  \nSensor                  1  \n...                   ...  \nEvents                  0  \nEvents                  0  \nEvents                  0  \nEvents                  0  \nEvents                  0  \n\n[152 rows x 19 columns]",
      "text/html": "<div>\n<style scoped>\n    .dataframe tbody tr th:only-of-type {\n        vertical-align: middle;\n    }\n\n    .dataframe tbody tr th {\n        vertical-align: top;\n    }\n\n    .dataframe thead th {\n        text-align: right;\n    }\n</style>\n<table border=\"1\" class=\"dataframe\">\n  <thead>\n    <tr style=\"text-align: right;\">\n      <th></th>\n      <th>code</th>\n      <th>parameter</th>\n      <th>parameter_ave</th>\n      <th>parameter_lab</th>\n      <th>plot</th>\n      <th>line</th>\n      <th>ribbon</th>\n      <th>bar</th>\n      <th>point</th>\n      <th>colour</th>\n      <th>fill</th>\n      <th>shape</th>\n      <th>line_type</th>\n      <th>bar_order</th>\n      <th>show_in_legend</th>\n      <th>selected_chart_0</th>\n      <th>selected_chart_1</th>\n      <th>selected_chart_2</th>\n      <th>selected_chart_3</th>\n    </tr>\n    <tr>\n      <th>dataset</th>\n      <th></th>\n      <th></th>\n      <th></th>\n      <th></th>\n      <th></th>\n      <th></th>\n      <th></th>\n      <th></th>\n      <th></th>\n      <th></th>\n      <th></th>\n      <th></th>\n      <th></th>\n      <th></th>\n      <th></th>\n      <th></th>\n      <th></th>\n      <th></th>\n      <th></th>\n    </tr>\n  </thead>\n  <tbody>\n    <tr>\n      <th>Sensor</th>\n      <td>A1 V</td>\n      <td>BES_A1__V</td>\n      <td>BES_1__V_ave</td>\n      <td>BES 1A</td>\n      <td>BES_VA_indiv</td>\n      <td>1.0</td>\n      <td>NaN</td>\n      <td>NaN</td>\n      <td>NaN</td>\n      <td>0.0</td>\n      <td>0.0</td>\n      <td>NaN</td>\n      <td>solid</td>\n      <td>NaN</td>\n      <td>True</td>\n      <td>1</td>\n      <td>1</td>\n      <td>1</td>\n      <td>1</td>\n    </tr>\n    <tr>\n      <th>Sensor</th>\n      <td>A2 V</td>\n      <td>BES_A2__V</td>\n      <td>BES_2__V_ave</td>\n      <td>BES 2A</td>\n      <td>BES_VA_indiv</td>\n      <td>1.0</td>\n      <td>NaN</td>\n      <td>NaN</td>\n      <td>NaN</td>\n      <td>3.0</td>\n      <td>3.0</td>\n      <td>NaN</td>\n      <td>solid</td>\n      <td>NaN</td>\n      <td>True</td>\n      <td>1</td>\n      <td>1</td>\n      <td>1</td>\n      <td>1</td>\n    </tr>\n    <tr>\n      <th>Sensor</th>\n      <td>A3 V</td>\n      <td>BES_A3__V</td>\n      <td>BES_3__V_ave</td>\n      <td>BES 3A</td>\n      <td>BES_VA_indiv</td>\n      <td>1.0</td>\n      <td>NaN</td>\n      <td>NaN</td>\n      <td>NaN</td>\n      <td>5.0</td>\n      <td>5.0</td>\n      <td>NaN</td>\n      <td>solid</td>\n      <td>NaN</td>\n      <td>True</td>\n      <td>1</td>\n      <td>1</td>\n      <td>1</td>\n      <td>1</td>\n    </tr>\n    <tr>\n      <th>Sensor</th>\n      <td>A4 V</td>\n      <td>BES_A4__V</td>\n      <td>BES_4__V_ave</td>\n      <td>BES 4A</td>\n      <td>BES_VA_indiv</td>\n      <td>1.0</td>\n      <td>NaN</td>\n      <td>NaN</td>\n      <td>NaN</td>\n      <td>6.0</td>\n      <td>6.0</td>\n      <td>NaN</td>\n      <td>solid</td>\n      <td>NaN</td>\n      <td>True</td>\n      <td>1</td>\n      <td>1</td>\n      <td>1</td>\n      <td>1</td>\n    </tr>\n    <tr>\n      <th>Sensor</th>\n      <td>B1 V</td>\n      <td>BES_B1__V</td>\n      <td>BES_1__V_ave</td>\n      <td>BES 1B</td>\n      <td>BES_VB_indiv</td>\n      <td>1.0</td>\n      <td>NaN</td>\n      <td>NaN</td>\n      <td>NaN</td>\n      <td>0.0</td>\n      <td>0.0</td>\n      <td>NaN</td>\n      <td>longdash</td>\n      <td>NaN</td>\n      <td>True</td>\n      <td>1</td>\n      <td>1</td>\n      <td>1</td>\n      <td>1</td>\n    </tr>\n    <tr>\n      <th>...</th>\n      <td>...</td>\n      <td>...</td>\n      <td>...</td>\n      <td>...</td>\n      <td>...</td>\n      <td>...</td>\n      <td>...</td>\n      <td>...</td>\n      <td>...</td>\n      <td>...</td>\n      <td>...</td>\n      <td>...</td>\n      <td>...</td>\n      <td>...</td>\n      <td>...</td>\n      <td>...</td>\n      <td>...</td>\n      <td>...</td>\n      <td>...</td>\n    </tr>\n    <tr>\n      <th>Events</th>\n      <td>HOSE_B_STATUS</td>\n      <td>HOSE_B_STATUS_EV</td>\n      <td>HOSE_B_STATUS_EV</td>\n      <td>Heated Hose B Status EV</td>\n      <td>TEMP_EVENT_indiv</td>\n      <td>1.0</td>\n      <td>NaN</td>\n      <td>NaN</td>\n      <td>NaN</td>\n      <td>NaN</td>\n      <td>NaN</td>\n      <td>NaN</td>\n      <td>NaN</td>\n      <td>NaN</td>\n      <td>True</td>\n      <td>0</td>\n      <td>0</td>\n      <td>0</td>\n      <td>0</td>\n    </tr>\n    <tr>\n      <th>Events</th>\n      <td>HOSE_C_STATUS</td>\n      <td>HOSE_C_STATUS_EV</td>\n      <td>HOSE_C_STATUS_EV</td>\n      <td>Heated Hose C Status EV</td>\n      <td>TEMP_EVENT_indiv</td>\n      <td>1.0</td>\n      <td>NaN</td>\n      <td>NaN</td>\n      <td>NaN</td>\n      <td>NaN</td>\n      <td>NaN</td>\n      <td>NaN</td>\n      <td>NaN</td>\n      <td>NaN</td>\n      <td>True</td>\n      <td>0</td>\n      <td>0</td>\n      <td>0</td>\n      <td>0</td>\n    </tr>\n    <tr>\n      <th>Events</th>\n      <td>TILT_SP</td>\n      <td>TILT_SP_EV</td>\n      <td>TILT_SP_EV</td>\n      <td>Enclosure Tilt Set Point EV</td>\n      <td>PRESSURE_indiv</td>\n      <td>1.0</td>\n      <td>NaN</td>\n      <td>NaN</td>\n      <td>NaN</td>\n      <td>NaN</td>\n      <td>NaN</td>\n      <td>NaN</td>\n      <td>NaN</td>\n      <td>NaN</td>\n      <td>True</td>\n      <td>0</td>\n      <td>0</td>\n      <td>0</td>\n      <td>0</td>\n    </tr>\n    <tr>\n      <th>Events</th>\n      <td>TILT_AUTO</td>\n      <td>TILT_AUTO_EV</td>\n      <td>TILT_AUTO_EV</td>\n      <td>Enclosure Tilt Automated EV</td>\n      <td>STATUS</td>\n      <td>1.0</td>\n      <td>NaN</td>\n      <td>NaN</td>\n      <td>NaN</td>\n      <td>NaN</td>\n      <td>NaN</td>\n      <td>NaN</td>\n      <td>NaN</td>\n      <td>NaN</td>\n      <td>True</td>\n      <td>0</td>\n      <td>0</td>\n      <td>0</td>\n      <td>0</td>\n    </tr>\n    <tr>\n      <th>Events</th>\n      <td>WAKEUP</td>\n      <td>WAKEUP_EV</td>\n      <td>WAKEUP_EV</td>\n      <td>Wakeup from Restart EV</td>\n      <td>STATUS</td>\n      <td>1.0</td>\n      <td>NaN</td>\n      <td>NaN</td>\n      <td>NaN</td>\n      <td>6.0</td>\n      <td>6.0</td>\n      <td>NaN</td>\n      <td>solid</td>\n      <td>3.0</td>\n      <td>True</td>\n      <td>0</td>\n      <td>0</td>\n      <td>0</td>\n      <td>0</td>\n    </tr>\n  </tbody>\n</table>\n<p>152 rows × 19 columns</p>\n</div>"
     },
     "metadata": {},
     "execution_count": 130
    }
   ],
   "metadata": {},
   "execution_count": 130
  },
  {
   "source": [
    "info['parameters_ave']"
   ],
   "cell_type": "code",
   "outputs": [
    {
     "output_type": "execute_result",
     "data": {
      "text/plain": "                      parameter_ave          parameter_lab              plot  \\\ndataset                                                                        \nSensor_ave             BES_1__V_ave                  BES 1         BES_V_ave   \nSensor_ave             BES_2__V_ave                  BES 2         BES_V_ave   \nSensor_ave             BES_3__V_ave                  BES 3         BES_V_ave   \nSensor_ave             BES_4__V_ave                  BES 4         BES_V_ave   \nSensor_ave             BES_1__C_ave                  BES 1         BES_C_ave   \nSensor_ave             BES_2__C_ave                  BES 2         BES_C_ave   \nSensor_ave             BES_3__C_ave                  BES 3         BES_C_ave   \nSensor_ave             BES_4__C_ave                  BES 4         BES_C_ave   \nSensor_ave           BES_SUM__V_ave               ∑ [BESs]         BES_V_ave   \nSensor_ave           BES_SUM__C_ave               ∑ [BESs]         BES_C_ave   \nSensor_ave               REXT_1_ave  BES 1 R<sub>Ext</sub>          REXT_ave   \nSensor_ave               REXT_2_ave  BES 2 R<sub>Ext</sub>          REXT_ave   \nSensor_ave               REXT_3_ave  BES 3 R<sub>Ext</sub>          REXT_ave   \nSensor_ave               REXT_4_ave  BES 4 R<sub>Ext</sub>          REXT_ave   \nSensor_ave                OCP_1_ave                  BES 1           OCP_ave   \nSensor_ave                OCP_2_ave                  BES 2           OCP_ave   \nSensor_ave                OCP_3_ave                  BES 3           OCP_ave   \nSensor_ave                OCP_4_ave                  BES 4           OCP_ave   \nSensor_ave             TEMP_BES_ave      Heated Water Temp          TEMP_ave   \nSensor_ave             TEMP_MAT_ave       Heated Mats Temp  TEMP_PROCESS_ave   \nSensor_ave            TEMP_HOSE_ave      Heated Hoses Temp  TEMP_PROCESS_ave   \nSensor_ave         PRESSURE_BES_ave           BES Pressure      PRESSURE_ave   \nSensor_ave   SENSOR_HOSE_STATUS_ave    Heated Hoses Status    TEMP_EVENT_ave   \nSkid_ave             Inlet_Temp_ave    Pipe Temp (BE:WISE)          TEMP_ave   \nSampLog_ave                BOD5_ave              Feed BOD₅               BOD   \nSampLog_ave                tCOD_ave              Feed tCOD               COD   \nSampLog_ave                sCOD_ave              Feed sCOD               COD   \n\n             line  ribbon  bar  point  colour  fill  shape line_type  \\\ndataset                                                                \nSensor_ave    1.0     1.0  NaN    NaN       1   1.0    NaN     solid   \nSensor_ave    1.0     1.0  NaN    NaN       4   4.0    NaN     solid   \nSensor_ave    1.0     1.0  NaN    NaN       7   7.0    NaN     solid   \nSensor_ave    1.0     1.0  NaN    NaN      10  10.0    NaN     solid   \nSensor_ave    1.0     1.0  NaN    NaN       1   1.0    NaN     solid   \nSensor_ave    1.0     1.0  NaN    NaN       4   4.0    NaN     solid   \nSensor_ave    1.0     1.0  NaN    NaN       7   7.0    NaN     solid   \nSensor_ave    1.0     1.0  NaN    NaN      10  10.0    NaN     solid   \nSensor_ave    1.0     1.0  NaN    NaN      14  14.0    NaN     solid   \nSensor_ave    1.0     1.0  NaN    NaN      14  14.0    NaN     solid   \nSensor_ave    1.0     1.0  NaN    NaN       1   1.0    NaN     solid   \nSensor_ave    1.0     1.0  NaN    NaN       4   4.0    NaN     solid   \nSensor_ave    1.0     1.0  NaN    NaN       7   7.0    NaN     solid   \nSensor_ave    1.0     1.0  NaN    NaN      10  10.0    NaN     solid   \nSensor_ave    1.0     1.0  NaN    NaN       1   1.0    NaN     solid   \nSensor_ave    1.0     1.0  NaN    NaN       4   4.0    NaN     solid   \nSensor_ave    1.0     1.0  NaN    NaN       7   7.0    NaN     solid   \nSensor_ave    1.0     1.0  NaN    NaN      10  10.0    NaN     solid   \nSensor_ave    1.0     1.0  NaN    NaN      14  14.0    NaN     solid   \nSensor_ave    1.0     1.0  NaN    NaN      12  12.0    NaN     solid   \nSensor_ave    1.0     1.0  NaN    NaN      14  14.0    NaN     solid   \nSensor_ave    1.0     1.0  NaN    NaN      14  14.0    NaN     solid   \nSensor_ave    1.0     1.0  NaN    NaN      14  14.0    NaN     solid   \nSkid_ave      1.0     1.0  NaN    NaN       2   2.0    NaN  longdash   \nSampLog_ave   NaN     NaN  NaN    1.0       1   NaN   21.0     solid   \nSampLog_ave   NaN     NaN  NaN    1.0       1   NaN   21.0     solid   \nSampLog_ave   NaN     NaN  NaN    1.0       2   NaN   21.0     solid   \n\n             bar_order  show_in_legend  selected_chart_0  selected_chart_1  \\\ndataset                                                                      \nSensor_ave         NaN            True                 1                 1   \nSensor_ave         NaN            True                 1                 1   \nSensor_ave         NaN            True                 1                 1   \nSensor_ave         NaN            True                 1                 1   \nSensor_ave         NaN            True                 1                 1   \nSensor_ave         NaN            True                 1                 1   \nSensor_ave         NaN            True                 1                 1   \nSensor_ave         NaN            True                 1                 1   \nSensor_ave         NaN            True                 1                 1   \nSensor_ave         NaN            True                 1                 1   \nSensor_ave         NaN            True                 1                 1   \nSensor_ave         NaN            True                 1                 1   \nSensor_ave         NaN            True                 1                 1   \nSensor_ave         NaN            True                 1                 1   \nSensor_ave         4.0            True                 0                 0   \nSensor_ave         3.0            True                 0                 0   \nSensor_ave         2.0            True                 0                 0   \nSensor_ave         1.0            True                 0                 0   \nSensor_ave         NaN            True                 1                 1   \nSensor_ave         NaN            True                 1                 1   \nSensor_ave         NaN            True                 1                 1   \nSensor_ave         NaN            True                 1                 1   \nSensor_ave         1.0            True                 1                 1   \nSkid_ave           NaN            True                 1                 1   \nSampLog_ave        NaN            True                 1                 1   \nSampLog_ave        NaN            True                 1                 1   \nSampLog_ave        NaN            True                 1                 1   \n\n             selected_chart_2  selected_chart_3  \ndataset                                          \nSensor_ave                  1                 1  \nSensor_ave                  1                 1  \nSensor_ave                  1                 1  \nSensor_ave                  1                 1  \nSensor_ave                  1                 1  \nSensor_ave                  1                 1  \nSensor_ave                  1                 1  \nSensor_ave                  1                 1  \nSensor_ave                  1                 1  \nSensor_ave                  1                 1  \nSensor_ave                  1                 1  \nSensor_ave                  1                 1  \nSensor_ave                  1                 1  \nSensor_ave                  1                 1  \nSensor_ave                  0                 0  \nSensor_ave                  0                 0  \nSensor_ave                  0                 0  \nSensor_ave                  0                 0  \nSensor_ave                  1                 1  \nSensor_ave                  1                 1  \nSensor_ave                  1                 1  \nSensor_ave                  1                 1  \nSensor_ave                  1                 1  \nSkid_ave                    1                 1  \nSampLog_ave                 1                 1  \nSampLog_ave                 1                 1  \nSampLog_ave                 1                 1  ",
      "text/html": "<div>\n<style scoped>\n    .dataframe tbody tr th:only-of-type {\n        vertical-align: middle;\n    }\n\n    .dataframe tbody tr th {\n        vertical-align: top;\n    }\n\n    .dataframe thead th {\n        text-align: right;\n    }\n</style>\n<table border=\"1\" class=\"dataframe\">\n  <thead>\n    <tr style=\"text-align: right;\">\n      <th></th>\n      <th>parameter_ave</th>\n      <th>parameter_lab</th>\n      <th>plot</th>\n      <th>line</th>\n      <th>ribbon</th>\n      <th>bar</th>\n      <th>point</th>\n      <th>colour</th>\n      <th>fill</th>\n      <th>shape</th>\n      <th>line_type</th>\n      <th>bar_order</th>\n      <th>show_in_legend</th>\n      <th>selected_chart_0</th>\n      <th>selected_chart_1</th>\n      <th>selected_chart_2</th>\n      <th>selected_chart_3</th>\n    </tr>\n    <tr>\n      <th>dataset</th>\n      <th></th>\n      <th></th>\n      <th></th>\n      <th></th>\n      <th></th>\n      <th></th>\n      <th></th>\n      <th></th>\n      <th></th>\n      <th></th>\n      <th></th>\n      <th></th>\n      <th></th>\n      <th></th>\n      <th></th>\n      <th></th>\n      <th></th>\n    </tr>\n  </thead>\n  <tbody>\n    <tr>\n      <th>Sensor_ave</th>\n      <td>BES_1__V_ave</td>\n      <td>BES 1</td>\n      <td>BES_V_ave</td>\n      <td>1.0</td>\n      <td>1.0</td>\n      <td>NaN</td>\n      <td>NaN</td>\n      <td>1</td>\n      <td>1.0</td>\n      <td>NaN</td>\n      <td>solid</td>\n      <td>NaN</td>\n      <td>True</td>\n      <td>1</td>\n      <td>1</td>\n      <td>1</td>\n      <td>1</td>\n    </tr>\n    <tr>\n      <th>Sensor_ave</th>\n      <td>BES_2__V_ave</td>\n      <td>BES 2</td>\n      <td>BES_V_ave</td>\n      <td>1.0</td>\n      <td>1.0</td>\n      <td>NaN</td>\n      <td>NaN</td>\n      <td>4</td>\n      <td>4.0</td>\n      <td>NaN</td>\n      <td>solid</td>\n      <td>NaN</td>\n      <td>True</td>\n      <td>1</td>\n      <td>1</td>\n      <td>1</td>\n      <td>1</td>\n    </tr>\n    <tr>\n      <th>Sensor_ave</th>\n      <td>BES_3__V_ave</td>\n      <td>BES 3</td>\n      <td>BES_V_ave</td>\n      <td>1.0</td>\n      <td>1.0</td>\n      <td>NaN</td>\n      <td>NaN</td>\n      <td>7</td>\n      <td>7.0</td>\n      <td>NaN</td>\n      <td>solid</td>\n      <td>NaN</td>\n      <td>True</td>\n      <td>1</td>\n      <td>1</td>\n      <td>1</td>\n      <td>1</td>\n    </tr>\n    <tr>\n      <th>Sensor_ave</th>\n      <td>BES_4__V_ave</td>\n      <td>BES 4</td>\n      <td>BES_V_ave</td>\n      <td>1.0</td>\n      <td>1.0</td>\n      <td>NaN</td>\n      <td>NaN</td>\n      <td>10</td>\n      <td>10.0</td>\n      <td>NaN</td>\n      <td>solid</td>\n      <td>NaN</td>\n      <td>True</td>\n      <td>1</td>\n      <td>1</td>\n      <td>1</td>\n      <td>1</td>\n    </tr>\n    <tr>\n      <th>Sensor_ave</th>\n      <td>BES_1__C_ave</td>\n      <td>BES 1</td>\n      <td>BES_C_ave</td>\n      <td>1.0</td>\n      <td>1.0</td>\n      <td>NaN</td>\n      <td>NaN</td>\n      <td>1</td>\n      <td>1.0</td>\n      <td>NaN</td>\n      <td>solid</td>\n      <td>NaN</td>\n      <td>True</td>\n      <td>1</td>\n      <td>1</td>\n      <td>1</td>\n      <td>1</td>\n    </tr>\n    <tr>\n      <th>Sensor_ave</th>\n      <td>BES_2__C_ave</td>\n      <td>BES 2</td>\n      <td>BES_C_ave</td>\n      <td>1.0</td>\n      <td>1.0</td>\n      <td>NaN</td>\n      <td>NaN</td>\n      <td>4</td>\n      <td>4.0</td>\n      <td>NaN</td>\n      <td>solid</td>\n      <td>NaN</td>\n      <td>True</td>\n      <td>1</td>\n      <td>1</td>\n      <td>1</td>\n      <td>1</td>\n    </tr>\n    <tr>\n      <th>Sensor_ave</th>\n      <td>BES_3__C_ave</td>\n      <td>BES 3</td>\n      <td>BES_C_ave</td>\n      <td>1.0</td>\n      <td>1.0</td>\n      <td>NaN</td>\n      <td>NaN</td>\n      <td>7</td>\n      <td>7.0</td>\n      <td>NaN</td>\n      <td>solid</td>\n      <td>NaN</td>\n      <td>True</td>\n      <td>1</td>\n      <td>1</td>\n      <td>1</td>\n      <td>1</td>\n    </tr>\n    <tr>\n      <th>Sensor_ave</th>\n      <td>BES_4__C_ave</td>\n      <td>BES 4</td>\n      <td>BES_C_ave</td>\n      <td>1.0</td>\n      <td>1.0</td>\n      <td>NaN</td>\n      <td>NaN</td>\n      <td>10</td>\n      <td>10.0</td>\n      <td>NaN</td>\n      <td>solid</td>\n      <td>NaN</td>\n      <td>True</td>\n      <td>1</td>\n      <td>1</td>\n      <td>1</td>\n      <td>1</td>\n    </tr>\n    <tr>\n      <th>Sensor_ave</th>\n      <td>BES_SUM__V_ave</td>\n      <td>∑ [BESs]</td>\n      <td>BES_V_ave</td>\n      <td>1.0</td>\n      <td>1.0</td>\n      <td>NaN</td>\n      <td>NaN</td>\n      <td>14</td>\n      <td>14.0</td>\n      <td>NaN</td>\n      <td>solid</td>\n      <td>NaN</td>\n      <td>True</td>\n      <td>1</td>\n      <td>1</td>\n      <td>1</td>\n      <td>1</td>\n    </tr>\n    <tr>\n      <th>Sensor_ave</th>\n      <td>BES_SUM__C_ave</td>\n      <td>∑ [BESs]</td>\n      <td>BES_C_ave</td>\n      <td>1.0</td>\n      <td>1.0</td>\n      <td>NaN</td>\n      <td>NaN</td>\n      <td>14</td>\n      <td>14.0</td>\n      <td>NaN</td>\n      <td>solid</td>\n      <td>NaN</td>\n      <td>True</td>\n      <td>1</td>\n      <td>1</td>\n      <td>1</td>\n      <td>1</td>\n    </tr>\n    <tr>\n      <th>Sensor_ave</th>\n      <td>REXT_1_ave</td>\n      <td>BES 1 R&lt;sub&gt;Ext&lt;/sub&gt;</td>\n      <td>REXT_ave</td>\n      <td>1.0</td>\n      <td>1.0</td>\n      <td>NaN</td>\n      <td>NaN</td>\n      <td>1</td>\n      <td>1.0</td>\n      <td>NaN</td>\n      <td>solid</td>\n      <td>NaN</td>\n      <td>True</td>\n      <td>1</td>\n      <td>1</td>\n      <td>1</td>\n      <td>1</td>\n    </tr>\n    <tr>\n      <th>Sensor_ave</th>\n      <td>REXT_2_ave</td>\n      <td>BES 2 R&lt;sub&gt;Ext&lt;/sub&gt;</td>\n      <td>REXT_ave</td>\n      <td>1.0</td>\n      <td>1.0</td>\n      <td>NaN</td>\n      <td>NaN</td>\n      <td>4</td>\n      <td>4.0</td>\n      <td>NaN</td>\n      <td>solid</td>\n      <td>NaN</td>\n      <td>True</td>\n      <td>1</td>\n      <td>1</td>\n      <td>1</td>\n      <td>1</td>\n    </tr>\n    <tr>\n      <th>Sensor_ave</th>\n      <td>REXT_3_ave</td>\n      <td>BES 3 R&lt;sub&gt;Ext&lt;/sub&gt;</td>\n      <td>REXT_ave</td>\n      <td>1.0</td>\n      <td>1.0</td>\n      <td>NaN</td>\n      <td>NaN</td>\n      <td>7</td>\n      <td>7.0</td>\n      <td>NaN</td>\n      <td>solid</td>\n      <td>NaN</td>\n      <td>True</td>\n      <td>1</td>\n      <td>1</td>\n      <td>1</td>\n      <td>1</td>\n    </tr>\n    <tr>\n      <th>Sensor_ave</th>\n      <td>REXT_4_ave</td>\n      <td>BES 4 R&lt;sub&gt;Ext&lt;/sub&gt;</td>\n      <td>REXT_ave</td>\n      <td>1.0</td>\n      <td>1.0</td>\n      <td>NaN</td>\n      <td>NaN</td>\n      <td>10</td>\n      <td>10.0</td>\n      <td>NaN</td>\n      <td>solid</td>\n      <td>NaN</td>\n      <td>True</td>\n      <td>1</td>\n      <td>1</td>\n      <td>1</td>\n      <td>1</td>\n    </tr>\n    <tr>\n      <th>Sensor_ave</th>\n      <td>OCP_1_ave</td>\n      <td>BES 1</td>\n      <td>OCP_ave</td>\n      <td>1.0</td>\n      <td>1.0</td>\n      <td>NaN</td>\n      <td>NaN</td>\n      <td>1</td>\n      <td>1.0</td>\n      <td>NaN</td>\n      <td>solid</td>\n      <td>4.0</td>\n      <td>True</td>\n      <td>0</td>\n      <td>0</td>\n      <td>0</td>\n      <td>0</td>\n    </tr>\n    <tr>\n      <th>Sensor_ave</th>\n      <td>OCP_2_ave</td>\n      <td>BES 2</td>\n      <td>OCP_ave</td>\n      <td>1.0</td>\n      <td>1.0</td>\n      <td>NaN</td>\n      <td>NaN</td>\n      <td>4</td>\n      <td>4.0</td>\n      <td>NaN</td>\n      <td>solid</td>\n      <td>3.0</td>\n      <td>True</td>\n      <td>0</td>\n      <td>0</td>\n      <td>0</td>\n      <td>0</td>\n    </tr>\n    <tr>\n      <th>Sensor_ave</th>\n      <td>OCP_3_ave</td>\n      <td>BES 3</td>\n      <td>OCP_ave</td>\n      <td>1.0</td>\n      <td>1.0</td>\n      <td>NaN</td>\n      <td>NaN</td>\n      <td>7</td>\n      <td>7.0</td>\n      <td>NaN</td>\n      <td>solid</td>\n      <td>2.0</td>\n      <td>True</td>\n      <td>0</td>\n      <td>0</td>\n      <td>0</td>\n      <td>0</td>\n    </tr>\n    <tr>\n      <th>Sensor_ave</th>\n      <td>OCP_4_ave</td>\n      <td>BES 4</td>\n      <td>OCP_ave</td>\n      <td>1.0</td>\n      <td>1.0</td>\n      <td>NaN</td>\n      <td>NaN</td>\n      <td>10</td>\n      <td>10.0</td>\n      <td>NaN</td>\n      <td>solid</td>\n      <td>1.0</td>\n      <td>True</td>\n      <td>0</td>\n      <td>0</td>\n      <td>0</td>\n      <td>0</td>\n    </tr>\n    <tr>\n      <th>Sensor_ave</th>\n      <td>TEMP_BES_ave</td>\n      <td>Heated Water Temp</td>\n      <td>TEMP_ave</td>\n      <td>1.0</td>\n      <td>1.0</td>\n      <td>NaN</td>\n      <td>NaN</td>\n      <td>14</td>\n      <td>14.0</td>\n      <td>NaN</td>\n      <td>solid</td>\n      <td>NaN</td>\n      <td>True</td>\n      <td>1</td>\n      <td>1</td>\n      <td>1</td>\n      <td>1</td>\n    </tr>\n    <tr>\n      <th>Sensor_ave</th>\n      <td>TEMP_MAT_ave</td>\n      <td>Heated Mats Temp</td>\n      <td>TEMP_PROCESS_ave</td>\n      <td>1.0</td>\n      <td>1.0</td>\n      <td>NaN</td>\n      <td>NaN</td>\n      <td>12</td>\n      <td>12.0</td>\n      <td>NaN</td>\n      <td>solid</td>\n      <td>NaN</td>\n      <td>True</td>\n      <td>1</td>\n      <td>1</td>\n      <td>1</td>\n      <td>1</td>\n    </tr>\n    <tr>\n      <th>Sensor_ave</th>\n      <td>TEMP_HOSE_ave</td>\n      <td>Heated Hoses Temp</td>\n      <td>TEMP_PROCESS_ave</td>\n      <td>1.0</td>\n      <td>1.0</td>\n      <td>NaN</td>\n      <td>NaN</td>\n      <td>14</td>\n      <td>14.0</td>\n      <td>NaN</td>\n      <td>solid</td>\n      <td>NaN</td>\n      <td>True</td>\n      <td>1</td>\n      <td>1</td>\n      <td>1</td>\n      <td>1</td>\n    </tr>\n    <tr>\n      <th>Sensor_ave</th>\n      <td>PRESSURE_BES_ave</td>\n      <td>BES Pressure</td>\n      <td>PRESSURE_ave</td>\n      <td>1.0</td>\n      <td>1.0</td>\n      <td>NaN</td>\n      <td>NaN</td>\n      <td>14</td>\n      <td>14.0</td>\n      <td>NaN</td>\n      <td>solid</td>\n      <td>NaN</td>\n      <td>True</td>\n      <td>1</td>\n      <td>1</td>\n      <td>1</td>\n      <td>1</td>\n    </tr>\n    <tr>\n      <th>Sensor_ave</th>\n      <td>SENSOR_HOSE_STATUS_ave</td>\n      <td>Heated Hoses Status</td>\n      <td>TEMP_EVENT_ave</td>\n      <td>1.0</td>\n      <td>1.0</td>\n      <td>NaN</td>\n      <td>NaN</td>\n      <td>14</td>\n      <td>14.0</td>\n      <td>NaN</td>\n      <td>solid</td>\n      <td>1.0</td>\n      <td>True</td>\n      <td>1</td>\n      <td>1</td>\n      <td>1</td>\n      <td>1</td>\n    </tr>\n    <tr>\n      <th>Skid_ave</th>\n      <td>Inlet_Temp_ave</td>\n      <td>Pipe Temp (BE:WISE)</td>\n      <td>TEMP_ave</td>\n      <td>1.0</td>\n      <td>1.0</td>\n      <td>NaN</td>\n      <td>NaN</td>\n      <td>2</td>\n      <td>2.0</td>\n      <td>NaN</td>\n      <td>longdash</td>\n      <td>NaN</td>\n      <td>True</td>\n      <td>1</td>\n      <td>1</td>\n      <td>1</td>\n      <td>1</td>\n    </tr>\n    <tr>\n      <th>SampLog_ave</th>\n      <td>BOD5_ave</td>\n      <td>Feed BOD₅</td>\n      <td>BOD</td>\n      <td>NaN</td>\n      <td>NaN</td>\n      <td>NaN</td>\n      <td>1.0</td>\n      <td>1</td>\n      <td>NaN</td>\n      <td>21.0</td>\n      <td>solid</td>\n      <td>NaN</td>\n      <td>True</td>\n      <td>1</td>\n      <td>1</td>\n      <td>1</td>\n      <td>1</td>\n    </tr>\n    <tr>\n      <th>SampLog_ave</th>\n      <td>tCOD_ave</td>\n      <td>Feed tCOD</td>\n      <td>COD</td>\n      <td>NaN</td>\n      <td>NaN</td>\n      <td>NaN</td>\n      <td>1.0</td>\n      <td>1</td>\n      <td>NaN</td>\n      <td>21.0</td>\n      <td>solid</td>\n      <td>NaN</td>\n      <td>True</td>\n      <td>1</td>\n      <td>1</td>\n      <td>1</td>\n      <td>1</td>\n    </tr>\n    <tr>\n      <th>SampLog_ave</th>\n      <td>sCOD_ave</td>\n      <td>Feed sCOD</td>\n      <td>COD</td>\n      <td>NaN</td>\n      <td>NaN</td>\n      <td>NaN</td>\n      <td>1.0</td>\n      <td>2</td>\n      <td>NaN</td>\n      <td>21.0</td>\n      <td>solid</td>\n      <td>NaN</td>\n      <td>True</td>\n      <td>1</td>\n      <td>1</td>\n      <td>1</td>\n      <td>1</td>\n    </tr>\n  </tbody>\n</table>\n</div>"
     },
     "metadata": {},
     "execution_count": 131
    }
   ],
   "metadata": {},
   "execution_count": 131
  },
  {
   "cell_type": "markdown",
   "execution_count": null,
   "metadata": {},
   "outputs": [],
   "source": [
    "### Plots:"
   ]
  },
  {
   "source": [
    "info['plots']"
   ],
   "cell_type": "code",
   "outputs": [
    {
     "output_type": "execute_result",
     "data": {
      "text/plain": "       row  col          plot          plot_lab  \\\nchart                                             \n0        1    1  BES_CA_indiv               BES   \n0        2    1  BES_CB_indiv               BES   \n0        3    1  BES_CC_indiv               BES   \n0        4    1    REXT_indiv              REXT   \n0        5    1     OCP_indiv               OCP   \n...    ...  ...           ...               ...   \n3       11    1  PRESSURE_ave          Pressure   \n3       12    1            DO  Dissolved Oxygen   \n3       13    1         LEVEL            Levels   \n3       14    1          PUMP              Pump   \n3       15    1    PUMP_EVENT        PUMP_EVENT   \n\n                                        ylab  ymin  ymax   height  Unnamed: 9  \\\nchart                                                                           \n0                Current Density<br>(μA/cm²)     0    40       10         NaN   \n0                Current Density<br>(μA/cm²)     0    40       10         NaN   \n0                Current Density<br>(μA/cm²)     0    40       10         NaN   \n0                     R<sub>Ext</sub><br>(Ω)     0   400        8         NaN   \n0                                        OCP     0     1        6         NaN   \n...                                      ...   ...   ...      ...         ...   \n3      Pressure (mbar)<br>Enclosure Tilt (°)   -50    50       10         NaN   \n3                 Dissolved<br>Oxygen (mg/l)     0     8       10         NaN   \n3         River Level (m)<br>& Rainfall (mm)     0     3       10         NaN   \n3                      Flow rate<br>(ml/min)     0    30        8         NaN   \n3                                       Pump     0     1        3         NaN   \n\n       Unnamed: 10  Unnamed: 11  Unnamed: 12 Unnamed: 13  Unnamed: 14  \\\nchart                                                                   \n0              NaN          NaN          NaN         NaN          NaN   \n0              NaN          NaN          NaN         NaN          NaN   \n0              NaN          NaN          NaN         NaN          NaN   \n0              NaN          NaN          NaN                      NaN   \n0              NaN          NaN          NaN         NaN          NaN   \n...            ...          ...          ...         ...          ...   \n3              NaN          NaN          NaN         NaN          NaN   \n3              NaN          NaN          NaN         NaN          NaN   \n3              NaN          NaN          NaN         NaN          NaN   \n3              NaN          NaN          NaN         NaN          NaN   \n3              NaN          NaN          NaN         NaN          NaN   \n\n       Unnamed: 15 Unnamed: 16  \nchart                           \n0              NaN         NaN  \n0              NaN         NaN  \n0              NaN         NaN  \n0              NaN              \n0              NaN         NaN  \n...            ...         ...  \n3              NaN         NaN  \n3              NaN         NaN  \n3              NaN         NaN  \n3              NaN         NaN  \n3              NaN         NaN  \n\n[66 rows x 16 columns]",
      "text/html": "<div>\n<style scoped>\n    .dataframe tbody tr th:only-of-type {\n        vertical-align: middle;\n    }\n\n    .dataframe tbody tr th {\n        vertical-align: top;\n    }\n\n    .dataframe thead th {\n        text-align: right;\n    }\n</style>\n<table border=\"1\" class=\"dataframe\">\n  <thead>\n    <tr style=\"text-align: right;\">\n      <th></th>\n      <th>row</th>\n      <th>col</th>\n      <th>plot</th>\n      <th>plot_lab</th>\n      <th>ylab</th>\n      <th>ymin</th>\n      <th>ymax</th>\n      <th>height</th>\n      <th>Unnamed: 9</th>\n      <th>Unnamed: 10</th>\n      <th>Unnamed: 11</th>\n      <th>Unnamed: 12</th>\n      <th>Unnamed: 13</th>\n      <th>Unnamed: 14</th>\n      <th>Unnamed: 15</th>\n      <th>Unnamed: 16</th>\n    </tr>\n    <tr>\n      <th>chart</th>\n      <th></th>\n      <th></th>\n      <th></th>\n      <th></th>\n      <th></th>\n      <th></th>\n      <th></th>\n      <th></th>\n      <th></th>\n      <th></th>\n      <th></th>\n      <th></th>\n      <th></th>\n      <th></th>\n      <th></th>\n      <th></th>\n    </tr>\n  </thead>\n  <tbody>\n    <tr>\n      <th>0</th>\n      <td>1</td>\n      <td>1</td>\n      <td>BES_CA_indiv</td>\n      <td>BES</td>\n      <td>Current Density&lt;br&gt;(μA/cm²)</td>\n      <td>0</td>\n      <td>40</td>\n      <td>10</td>\n      <td>NaN</td>\n      <td>NaN</td>\n      <td>NaN</td>\n      <td>NaN</td>\n      <td>NaN</td>\n      <td>NaN</td>\n      <td>NaN</td>\n      <td>NaN</td>\n    </tr>\n    <tr>\n      <th>0</th>\n      <td>2</td>\n      <td>1</td>\n      <td>BES_CB_indiv</td>\n      <td>BES</td>\n      <td>Current Density&lt;br&gt;(μA/cm²)</td>\n      <td>0</td>\n      <td>40</td>\n      <td>10</td>\n      <td>NaN</td>\n      <td>NaN</td>\n      <td>NaN</td>\n      <td>NaN</td>\n      <td>NaN</td>\n      <td>NaN</td>\n      <td>NaN</td>\n      <td>NaN</td>\n    </tr>\n    <tr>\n      <th>0</th>\n      <td>3</td>\n      <td>1</td>\n      <td>BES_CC_indiv</td>\n      <td>BES</td>\n      <td>Current Density&lt;br&gt;(μA/cm²)</td>\n      <td>0</td>\n      <td>40</td>\n      <td>10</td>\n      <td>NaN</td>\n      <td>NaN</td>\n      <td>NaN</td>\n      <td>NaN</td>\n      <td>NaN</td>\n      <td>NaN</td>\n      <td>NaN</td>\n      <td>NaN</td>\n    </tr>\n    <tr>\n      <th>0</th>\n      <td>4</td>\n      <td>1</td>\n      <td>REXT_indiv</td>\n      <td>REXT</td>\n      <td>R&lt;sub&gt;Ext&lt;/sub&gt;&lt;br&gt;(Ω)</td>\n      <td>0</td>\n      <td>400</td>\n      <td>8</td>\n      <td>NaN</td>\n      <td>NaN</td>\n      <td>NaN</td>\n      <td>NaN</td>\n      <td></td>\n      <td>NaN</td>\n      <td>NaN</td>\n      <td></td>\n    </tr>\n    <tr>\n      <th>0</th>\n      <td>5</td>\n      <td>1</td>\n      <td>OCP_indiv</td>\n      <td>OCP</td>\n      <td>OCP</td>\n      <td>0</td>\n      <td>1</td>\n      <td>6</td>\n      <td>NaN</td>\n      <td>NaN</td>\n      <td>NaN</td>\n      <td>NaN</td>\n      <td>NaN</td>\n      <td>NaN</td>\n      <td>NaN</td>\n      <td>NaN</td>\n    </tr>\n    <tr>\n      <th>...</th>\n      <td>...</td>\n      <td>...</td>\n      <td>...</td>\n      <td>...</td>\n      <td>...</td>\n      <td>...</td>\n      <td>...</td>\n      <td>...</td>\n      <td>...</td>\n      <td>...</td>\n      <td>...</td>\n      <td>...</td>\n      <td>...</td>\n      <td>...</td>\n      <td>...</td>\n      <td>...</td>\n    </tr>\n    <tr>\n      <th>3</th>\n      <td>11</td>\n      <td>1</td>\n      <td>PRESSURE_ave</td>\n      <td>Pressure</td>\n      <td>Pressure (mbar)&lt;br&gt;Enclosure Tilt (°)</td>\n      <td>-50</td>\n      <td>50</td>\n      <td>10</td>\n      <td>NaN</td>\n      <td>NaN</td>\n      <td>NaN</td>\n      <td>NaN</td>\n      <td>NaN</td>\n      <td>NaN</td>\n      <td>NaN</td>\n      <td>NaN</td>\n    </tr>\n    <tr>\n      <th>3</th>\n      <td>12</td>\n      <td>1</td>\n      <td>DO</td>\n      <td>Dissolved Oxygen</td>\n      <td>Dissolved&lt;br&gt;Oxygen (mg/l)</td>\n      <td>0</td>\n      <td>8</td>\n      <td>10</td>\n      <td>NaN</td>\n      <td>NaN</td>\n      <td>NaN</td>\n      <td>NaN</td>\n      <td>NaN</td>\n      <td>NaN</td>\n      <td>NaN</td>\n      <td>NaN</td>\n    </tr>\n    <tr>\n      <th>3</th>\n      <td>13</td>\n      <td>1</td>\n      <td>LEVEL</td>\n      <td>Levels</td>\n      <td>River Level (m)&lt;br&gt;&amp; Rainfall (mm)</td>\n      <td>0</td>\n      <td>3</td>\n      <td>10</td>\n      <td>NaN</td>\n      <td>NaN</td>\n      <td>NaN</td>\n      <td>NaN</td>\n      <td>NaN</td>\n      <td>NaN</td>\n      <td>NaN</td>\n      <td>NaN</td>\n    </tr>\n    <tr>\n      <th>3</th>\n      <td>14</td>\n      <td>1</td>\n      <td>PUMP</td>\n      <td>Pump</td>\n      <td>Flow rate&lt;br&gt;(ml/min)</td>\n      <td>0</td>\n      <td>30</td>\n      <td>8</td>\n      <td>NaN</td>\n      <td>NaN</td>\n      <td>NaN</td>\n      <td>NaN</td>\n      <td>NaN</td>\n      <td>NaN</td>\n      <td>NaN</td>\n      <td>NaN</td>\n    </tr>\n    <tr>\n      <th>3</th>\n      <td>15</td>\n      <td>1</td>\n      <td>PUMP_EVENT</td>\n      <td>PUMP_EVENT</td>\n      <td>Pump</td>\n      <td>0</td>\n      <td>1</td>\n      <td>3</td>\n      <td>NaN</td>\n      <td>NaN</td>\n      <td>NaN</td>\n      <td>NaN</td>\n      <td>NaN</td>\n      <td>NaN</td>\n      <td>NaN</td>\n      <td>NaN</td>\n    </tr>\n  </tbody>\n</table>\n<p>66 rows × 16 columns</p>\n</div>"
     },
     "metadata": {},
     "execution_count": 132
    }
   ],
   "metadata": {},
   "execution_count": 132
  },
  {
   "cell_type": "markdown",
   "execution_count": null,
   "metadata": {},
   "outputs": [],
   "source": [
    "### Colours:"
   ]
  },
  {
   "source": [
    "info['colours']\n",
    "\n",
    "info['colours']['rgb'] = list(zip((info['colours']['r']/255), (info['colours']['g']/255), (info['colours']['b']/255)))\n",
    "info['colours']['rgb_str'] = \"rgb(\" + info['colours']['r'].astype(int).astype(str) + \",\" + info['colours']['g'].astype(int).astype(str) + \",\" + info['colours']['b'].astype(int).astype(str) + \")\"\n",
    "\n",
    "colour_palettes = {}\n",
    "colour_palettes['all'] = info['colours']['rgb'].tolist()\n",
    "\n",
    "for theme in info['colours']['theme'].unique():\n",
    "    colour_palettes[theme] = info['colours'].query('theme == \"' + theme + '\"')['rgb'].tolist()\n",
    "    sns.palplot(colour_palettes[theme])\n",
    "\n",
    "del theme"
   ],
   "cell_type": "code",
   "outputs": [
    {
     "output_type": "display_data",
     "data": {
      "text/plain": "<Figure size 720x72 with 1 Axes>",
      "image/svg+xml": "<?xml version=\"1.0\" encoding=\"utf-8\" standalone=\"no\"?>\r\n<!DOCTYPE svg PUBLIC \"-//W3C//DTD SVG 1.1//EN\"\r\n  \"http://www.w3.org/Graphics/SVG/1.1/DTD/svg11.dtd\">\r\n<!-- Created with matplotlib (https://matplotlib.org/) -->\r\n<svg height=\"72.26pt\" version=\"1.1\" viewBox=\"0 0 575.9 72.26\" width=\"575.9pt\" xmlns=\"http://www.w3.org/2000/svg\" xmlns:xlink=\"http://www.w3.org/1999/xlink\">\r\n <defs>\r\n  <style type=\"text/css\">\r\n*{stroke-linecap:butt;stroke-linejoin:round;}\r\n  </style>\r\n </defs>\r\n <g id=\"figure_1\">\r\n  <g id=\"patch_1\">\r\n   <path d=\"M 0 72.26 \r\nL 575.9 72.26 \r\nL 575.9 0 \r\nL 0 0 \r\nz\r\n\" style=\"fill:none;\"/>\r\n  </g>\r\n  <g id=\"axes_1\">\r\n   <g id=\"patch_2\">\r\n    <path d=\"M 10.7 61.56 \r\nL 568.7 61.56 \r\nL 568.7 7.2 \r\nL 10.7 7.2 \r\nz\r\n\" style=\"fill:#ffffff;\"/>\r\n   </g>\r\n   <g clip-path=\"url(#p5b8d05eeae)\">\r\n    <image height=\"55\" id=\"imaged7c165b7b0\" transform=\"scale(1 -1)translate(0 -55)\" width=\"558\" x=\"10.7\" xlink:href=\"data:image/png;base64,\r\niVBORw0KGgoAAAANSUhEUgAAAi4AAAA3CAYAAAArDMGlAAAABHNCSVQICAgIfAhkiAAAAWRJREFUeJzt1rEtBWAYQFEkEjQatZJQq98K2jfGawxhDpURJNZQK4RGJQZgBc2fL1fOmeCWd//l4vJn7x+73n5MJyz1vDmbTlhm93YynbDU5/nDdMJSR0/v0wlL3X0dTycsdXt6OJ2wzOPr/XTCUt9XN9MJSx1MBwAA/JVxAQAyjAsAkGFcAIAM4wIAZBgXACDDuAAAGcYFAMgwLgBAhnEBADKMCwCQYVwAgAzjAgBkGBcAIMO4AAAZxgUAyDAuAECGcQEAMowLAJBhXACADOMCAGQYFwAgw7gAABnGBQDIMC4AQIZxAQAyjAsAkGFcAIAM4wIAZBgXACDDuAAAGcYFAMgwLgBAhnEBADKMCwCQYVwAgAzjAgBkGBcAIMO4AAAZxgUAyDAuAECGcQEAMowLAJBhXACADOMCAGQYFwAgw7gAABnGBQDIMC4AQIZxAQAyjAsAkGFcAIAM4wIAZBgXACDjF20IDufCfwCiAAAAAElFTkSuQmCC\" y=\"-6.56\"/>\r\n   </g>\r\n   <g id=\"matplotlib.axis_1\">\r\n    <g id=\"xtick_1\">\r\n     <g id=\"line2d_1\">\r\n      <defs>\r\n       <path d=\"M 0 0 \r\nL 0 3.5 \r\n\" id=\"mdc2f5ae8e2\" style=\"stroke:#000000;stroke-width:0.8;\"/>\r\n      </defs>\r\n      <g>\r\n       <use style=\"stroke:#000000;stroke-width:0.8;\" x=\"10.7\" xlink:href=\"#mdc2f5ae8e2\" y=\"61.56\"/>\r\n      </g>\r\n     </g>\r\n    </g>\r\n    <g id=\"xtick_2\">\r\n     <g id=\"line2d_2\">\r\n      <g>\r\n       <use style=\"stroke:#000000;stroke-width:0.8;\" x=\"66.5\" xlink:href=\"#mdc2f5ae8e2\" y=\"61.56\"/>\r\n      </g>\r\n     </g>\r\n    </g>\r\n    <g id=\"xtick_3\">\r\n     <g id=\"line2d_3\">\r\n      <g>\r\n       <use style=\"stroke:#000000;stroke-width:0.8;\" x=\"122.3\" xlink:href=\"#mdc2f5ae8e2\" y=\"61.56\"/>\r\n      </g>\r\n     </g>\r\n    </g>\r\n    <g id=\"xtick_4\">\r\n     <g id=\"line2d_4\">\r\n      <g>\r\n       <use style=\"stroke:#000000;stroke-width:0.8;\" x=\"178.1\" xlink:href=\"#mdc2f5ae8e2\" y=\"61.56\"/>\r\n      </g>\r\n     </g>\r\n    </g>\r\n    <g id=\"xtick_5\">\r\n     <g id=\"line2d_5\">\r\n      <g>\r\n       <use style=\"stroke:#000000;stroke-width:0.8;\" x=\"233.9\" xlink:href=\"#mdc2f5ae8e2\" y=\"61.56\"/>\r\n      </g>\r\n     </g>\r\n    </g>\r\n    <g id=\"xtick_6\">\r\n     <g id=\"line2d_6\">\r\n      <g>\r\n       <use style=\"stroke:#000000;stroke-width:0.8;\" x=\"289.7\" xlink:href=\"#mdc2f5ae8e2\" y=\"61.56\"/>\r\n      </g>\r\n     </g>\r\n    </g>\r\n    <g id=\"xtick_7\">\r\n     <g id=\"line2d_7\">\r\n      <g>\r\n       <use style=\"stroke:#000000;stroke-width:0.8;\" x=\"345.5\" xlink:href=\"#mdc2f5ae8e2\" y=\"61.56\"/>\r\n      </g>\r\n     </g>\r\n    </g>\r\n    <g id=\"xtick_8\">\r\n     <g id=\"line2d_8\">\r\n      <g>\r\n       <use style=\"stroke:#000000;stroke-width:0.8;\" x=\"401.3\" xlink:href=\"#mdc2f5ae8e2\" y=\"61.56\"/>\r\n      </g>\r\n     </g>\r\n    </g>\r\n    <g id=\"xtick_9\">\r\n     <g id=\"line2d_9\">\r\n      <g>\r\n       <use style=\"stroke:#000000;stroke-width:0.8;\" x=\"457.1\" xlink:href=\"#mdc2f5ae8e2\" y=\"61.56\"/>\r\n      </g>\r\n     </g>\r\n    </g>\r\n    <g id=\"xtick_10\">\r\n     <g id=\"line2d_10\">\r\n      <g>\r\n       <use style=\"stroke:#000000;stroke-width:0.8;\" x=\"512.9\" xlink:href=\"#mdc2f5ae8e2\" y=\"61.56\"/>\r\n      </g>\r\n     </g>\r\n    </g>\r\n   </g>\r\n   <g id=\"matplotlib.axis_2\">\r\n    <g id=\"ytick_1\">\r\n     <g id=\"line2d_11\">\r\n      <defs>\r\n       <path d=\"M 0 0 \r\nL -3.5 0 \r\n\" id=\"mb433130d6a\" style=\"stroke:#000000;stroke-width:0.8;\"/>\r\n      </defs>\r\n      <g>\r\n       <use style=\"stroke:#000000;stroke-width:0.8;\" x=\"10.7\" xlink:href=\"#mb433130d6a\" y=\"7.2\"/>\r\n      </g>\r\n     </g>\r\n    </g>\r\n    <g id=\"ytick_2\">\r\n     <g id=\"line2d_12\">\r\n      <g>\r\n       <use style=\"stroke:#000000;stroke-width:0.8;\" x=\"10.7\" xlink:href=\"#mb433130d6a\" y=\"61.56\"/>\r\n      </g>\r\n     </g>\r\n    </g>\r\n   </g>\r\n   <g id=\"patch_3\">\r\n    <path d=\"M 10.7 61.56 \r\nL 10.7 7.2 \r\n\" style=\"fill:none;stroke:#000000;stroke-linecap:square;stroke-linejoin:miter;stroke-width:0.8;\"/>\r\n   </g>\r\n   <g id=\"patch_4\">\r\n    <path d=\"M 568.7 61.56 \r\nL 568.7 7.2 \r\n\" style=\"fill:none;stroke:#000000;stroke-linecap:square;stroke-linejoin:miter;stroke-width:0.8;\"/>\r\n   </g>\r\n   <g id=\"patch_5\">\r\n    <path d=\"M 10.7 61.56 \r\nL 568.7 61.56 \r\n\" style=\"fill:none;stroke:#000000;stroke-linecap:square;stroke-linejoin:miter;stroke-width:0.8;\"/>\r\n   </g>\r\n   <g id=\"patch_6\">\r\n    <path d=\"M 10.7 7.2 \r\nL 568.7 7.2 \r\n\" style=\"fill:none;stroke:#000000;stroke-linecap:square;stroke-linejoin:miter;stroke-width:0.8;\"/>\r\n   </g>\r\n  </g>\r\n </g>\r\n <defs>\r\n  <clipPath id=\"p5b8d05eeae\">\r\n   <rect height=\"54.36\" width=\"558\" x=\"10.7\" y=\"7.2\"/>\r\n  </clipPath>\r\n </defs>\r\n</svg>\r\n",
      "image/png": "[encoded data removed]"
     },
     "metadata": {
      "needs_background": "light"
     }
    },
    {
     "output_type": "display_data",
     "data": {
      "text/plain": "<Figure size 720x72 with 1 Axes>",
      "image/svg+xml": "<?xml version=\"1.0\" encoding=\"utf-8\" standalone=\"no\"?>\r\n<!DOCTYPE svg PUBLIC \"-//W3C//DTD SVG 1.1//EN\"\r\n  \"http://www.w3.org/Graphics/SVG/1.1/DTD/svg11.dtd\">\r\n<!-- Created with matplotlib (https://matplotlib.org/) -->\r\n<svg height=\"72.26pt\" version=\"1.1\" viewBox=\"0 0 575.9 72.26\" width=\"575.9pt\" xmlns=\"http://www.w3.org/2000/svg\" xmlns:xlink=\"http://www.w3.org/1999/xlink\">\r\n <defs>\r\n  <style type=\"text/css\">\r\n*{stroke-linecap:butt;stroke-linejoin:round;}\r\n  </style>\r\n </defs>\r\n <g id=\"figure_1\">\r\n  <g id=\"patch_1\">\r\n   <path d=\"M 0 72.26 \r\nL 575.9 72.26 \r\nL 575.9 0 \r\nL 0 0 \r\nz\r\n\" style=\"fill:none;\"/>\r\n  </g>\r\n  <g id=\"axes_1\">\r\n   <g id=\"patch_2\">\r\n    <path d=\"M 10.7 61.56 \r\nL 568.7 61.56 \r\nL 568.7 7.2 \r\nL 10.7 7.2 \r\nz\r\n\" style=\"fill:#ffffff;\"/>\r\n   </g>\r\n   <g clip-path=\"url(#p129669fed0)\">\r\n    <image height=\"55\" id=\"image513f72280e\" transform=\"scale(1 -1)translate(0 -55)\" width=\"558\" x=\"10.7\" xlink:href=\"data:image/png;base64,\r\niVBORw0KGgoAAAANSUhEUgAAAi4AAAA3CAYAAAArDMGlAAAABHNCSVQICAgIfAhkiAAAAV9JREFUeJzt1qFNA2AYRVGggMYQbINEwjidqwnTIPBMgKshiE5ASFkB8+fLbc6Z4JmX3MvT6/50cc4eD9MLlvrc3k9PWObt+nd6wlI3P7vpCUvdHTfTE5Z6+D5OT1jq+fZ8//fx9T49YanN08v0hKWupgcAAPyXcAEAMoQLAJAhXACADOECAGQIFwAgQ7gAABnCBQDIEC4AQIZwAQAyhAsAkCFcAIAM4QIAZAgXACBDuAAAGcIFAMgQLgBAhnABADKECwCQIVwAgAzhAgBkCBcAIEO4AAAZwgUAyBAuAECGcAEAMoQLAJAhXACADOECAGQIFwAgQ7gAABnCBQDIEC4AQIZwAQAyhAsAkCFcAIAM4QIAZAgXACBDuAAAGcIFAMgQLgBAhnABADKECwCQIVwAgAzhAgBkCBcAIEO4AAAZwgUAyBAuAECGcAEAMoQLAJAhXACADOECAGQIFwAg4w+Ojw+/oOP44gAAAABJRU5ErkJggg==\" y=\"-6.56\"/>\r\n   </g>\r\n   <g id=\"matplotlib.axis_1\">\r\n    <g id=\"xtick_1\">\r\n     <g id=\"line2d_1\">\r\n      <defs>\r\n       <path d=\"M 0 0 \r\nL 0 3.5 \r\n\" id=\"mb211e4c6c4\" style=\"stroke:#000000;stroke-width:0.8;\"/>\r\n      </defs>\r\n      <g>\r\n       <use style=\"stroke:#000000;stroke-width:0.8;\" x=\"10.7\" xlink:href=\"#mb211e4c6c4\" y=\"61.56\"/>\r\n      </g>\r\n     </g>\r\n    </g>\r\n    <g id=\"xtick_2\">\r\n     <g id=\"line2d_2\">\r\n      <g>\r\n       <use style=\"stroke:#000000;stroke-width:0.8;\" x=\"66.5\" xlink:href=\"#mb211e4c6c4\" y=\"61.56\"/>\r\n      </g>\r\n     </g>\r\n    </g>\r\n    <g id=\"xtick_3\">\r\n     <g id=\"line2d_3\">\r\n      <g>\r\n       <use style=\"stroke:#000000;stroke-width:0.8;\" x=\"122.3\" xlink:href=\"#mb211e4c6c4\" y=\"61.56\"/>\r\n      </g>\r\n     </g>\r\n    </g>\r\n    <g id=\"xtick_4\">\r\n     <g id=\"line2d_4\">\r\n      <g>\r\n       <use style=\"stroke:#000000;stroke-width:0.8;\" x=\"178.1\" xlink:href=\"#mb211e4c6c4\" y=\"61.56\"/>\r\n      </g>\r\n     </g>\r\n    </g>\r\n    <g id=\"xtick_5\">\r\n     <g id=\"line2d_5\">\r\n      <g>\r\n       <use style=\"stroke:#000000;stroke-width:0.8;\" x=\"233.9\" xlink:href=\"#mb211e4c6c4\" y=\"61.56\"/>\r\n      </g>\r\n     </g>\r\n    </g>\r\n    <g id=\"xtick_6\">\r\n     <g id=\"line2d_6\">\r\n      <g>\r\n       <use style=\"stroke:#000000;stroke-width:0.8;\" x=\"289.7\" xlink:href=\"#mb211e4c6c4\" y=\"61.56\"/>\r\n      </g>\r\n     </g>\r\n    </g>\r\n    <g id=\"xtick_7\">\r\n     <g id=\"line2d_7\">\r\n      <g>\r\n       <use style=\"stroke:#000000;stroke-width:0.8;\" x=\"345.5\" xlink:href=\"#mb211e4c6c4\" y=\"61.56\"/>\r\n      </g>\r\n     </g>\r\n    </g>\r\n    <g id=\"xtick_8\">\r\n     <g id=\"line2d_8\">\r\n      <g>\r\n       <use style=\"stroke:#000000;stroke-width:0.8;\" x=\"401.3\" xlink:href=\"#mb211e4c6c4\" y=\"61.56\"/>\r\n      </g>\r\n     </g>\r\n    </g>\r\n    <g id=\"xtick_9\">\r\n     <g id=\"line2d_9\">\r\n      <g>\r\n       <use style=\"stroke:#000000;stroke-width:0.8;\" x=\"457.1\" xlink:href=\"#mb211e4c6c4\" y=\"61.56\"/>\r\n      </g>\r\n     </g>\r\n    </g>\r\n    <g id=\"xtick_10\">\r\n     <g id=\"line2d_10\">\r\n      <g>\r\n       <use style=\"stroke:#000000;stroke-width:0.8;\" x=\"512.9\" xlink:href=\"#mb211e4c6c4\" y=\"61.56\"/>\r\n      </g>\r\n     </g>\r\n    </g>\r\n   </g>\r\n   <g id=\"matplotlib.axis_2\">\r\n    <g id=\"ytick_1\">\r\n     <g id=\"line2d_11\">\r\n      <defs>\r\n       <path d=\"M 0 0 \r\nL -3.5 0 \r\n\" id=\"m531e5ec932\" style=\"stroke:#000000;stroke-width:0.8;\"/>\r\n      </defs>\r\n      <g>\r\n       <use style=\"stroke:#000000;stroke-width:0.8;\" x=\"10.7\" xlink:href=\"#m531e5ec932\" y=\"7.2\"/>\r\n      </g>\r\n     </g>\r\n    </g>\r\n    <g id=\"ytick_2\">\r\n     <g id=\"line2d_12\">\r\n      <g>\r\n       <use style=\"stroke:#000000;stroke-width:0.8;\" x=\"10.7\" xlink:href=\"#m531e5ec932\" y=\"61.56\"/>\r\n      </g>\r\n     </g>\r\n    </g>\r\n   </g>\r\n   <g id=\"patch_3\">\r\n    <path d=\"M 10.7 61.56 \r\nL 10.7 7.2 \r\n\" style=\"fill:none;stroke:#000000;stroke-linecap:square;stroke-linejoin:miter;stroke-width:0.8;\"/>\r\n   </g>\r\n   <g id=\"patch_4\">\r\n    <path d=\"M 568.7 61.56 \r\nL 568.7 7.2 \r\n\" style=\"fill:none;stroke:#000000;stroke-linecap:square;stroke-linejoin:miter;stroke-width:0.8;\"/>\r\n   </g>\r\n   <g id=\"patch_5\">\r\n    <path d=\"M 10.7 61.56 \r\nL 568.7 61.56 \r\n\" style=\"fill:none;stroke:#000000;stroke-linecap:square;stroke-linejoin:miter;stroke-width:0.8;\"/>\r\n   </g>\r\n   <g id=\"patch_6\">\r\n    <path d=\"M 10.7 7.2 \r\nL 568.7 7.2 \r\n\" style=\"fill:none;stroke:#000000;stroke-linecap:square;stroke-linejoin:miter;stroke-width:0.8;\"/>\r\n   </g>\r\n  </g>\r\n </g>\r\n <defs>\r\n  <clipPath id=\"p129669fed0\">\r\n   <rect height=\"54.36\" width=\"558\" x=\"10.7\" y=\"7.2\"/>\r\n  </clipPath>\r\n </defs>\r\n</svg>\r\n",
      "image/png": "[encoded data removed]"
     },
     "metadata": {
      "needs_background": "light"
     }
    },
    {
     "output_type": "display_data",
     "data": {
      "text/plain": "<Figure size 720x72 with 1 Axes>",
      "image/svg+xml": "<?xml version=\"1.0\" encoding=\"utf-8\" standalone=\"no\"?>\r\n<!DOCTYPE svg PUBLIC \"-//W3C//DTD SVG 1.1//EN\"\r\n  \"http://www.w3.org/Graphics/SVG/1.1/DTD/svg11.dtd\">\r\n<!-- Created with matplotlib (https://matplotlib.org/) -->\r\n<svg height=\"72.26pt\" version=\"1.1\" viewBox=\"0 0 575.9 72.26\" width=\"575.9pt\" xmlns=\"http://www.w3.org/2000/svg\" xmlns:xlink=\"http://www.w3.org/1999/xlink\">\r\n <defs>\r\n  <style type=\"text/css\">\r\n*{stroke-linecap:butt;stroke-linejoin:round;}\r\n  </style>\r\n </defs>\r\n <g id=\"figure_1\">\r\n  <g id=\"patch_1\">\r\n   <path d=\"M 0 72.26 \r\nL 575.9 72.26 \r\nL 575.9 0 \r\nL 0 0 \r\nz\r\n\" style=\"fill:none;\"/>\r\n  </g>\r\n  <g id=\"axes_1\">\r\n   <g id=\"patch_2\">\r\n    <path d=\"M 10.7 61.56 \r\nL 568.7 61.56 \r\nL 568.7 7.2 \r\nL 10.7 7.2 \r\nz\r\n\" style=\"fill:#ffffff;\"/>\r\n   </g>\r\n   <g clip-path=\"url(#p3a04eea36a)\">\r\n    <image height=\"55\" id=\"imagec45ffaf668\" transform=\"scale(1 -1)translate(0 -55)\" width=\"558\" x=\"10.7\" xlink:href=\"data:image/png;base64,\r\niVBORw0KGgoAAAANSUhEUgAAAi4AAAA3CAYAAAArDMGlAAAABHNCSVQICAgIfAhkiAAAAWRJREFUeJzt1qFNA2AYRVGKQGFQSEIQpFOgkbiOgegKFShYhQnYArB4PBJWwPz5cptzJnju3c3Tdvt7csQe7j6mJyz1enMxPWGZl8/z6QlLfV/vpycsdfb2Pj1hqcfN/fSEpXaXx3sNz1+H6QlL/VzdTk9Y6nR6AADAfwkXACBDuAAAGcIFAMgQLgBAhnABADKECwCQIVwAgAzhAgBkCBcAIEO4AAAZwgUAyBAuAECGcAEAMoQLAJAhXACADOECAGQIFwAgQ7gAABnCBQDIEC4AQIZwAQAyhAsAkCFcAIAM4QIAZAgXACBDuAAAGcIFAMgQLgBAhnABADKECwCQIVwAgAzhAgBkCBcAIEO4AAAZwgUAyBAuAECGcAEAMoQLAJAhXACADOECAGQIFwAgQ7gAABnCBQDIEC4AQIZwAQAyhAsAkCFcAIAM4QIAZAgXACBDuAAAGcIFAMgQLgBAhnABADL+ABq8Dn7VSBZHAAAAAElFTkSuQmCC\" y=\"-6.56\"/>\r\n   </g>\r\n   <g id=\"matplotlib.axis_1\">\r\n    <g id=\"xtick_1\">\r\n     <g id=\"line2d_1\">\r\n      <defs>\r\n       <path d=\"M 0 0 \r\nL 0 3.5 \r\n\" id=\"m1271f40002\" style=\"stroke:#000000;stroke-width:0.8;\"/>\r\n      </defs>\r\n      <g>\r\n       <use style=\"stroke:#000000;stroke-width:0.8;\" x=\"10.7\" xlink:href=\"#m1271f40002\" y=\"61.56\"/>\r\n      </g>\r\n     </g>\r\n    </g>\r\n    <g id=\"xtick_2\">\r\n     <g id=\"line2d_2\">\r\n      <g>\r\n       <use style=\"stroke:#000000;stroke-width:0.8;\" x=\"66.5\" xlink:href=\"#m1271f40002\" y=\"61.56\"/>\r\n      </g>\r\n     </g>\r\n    </g>\r\n    <g id=\"xtick_3\">\r\n     <g id=\"line2d_3\">\r\n      <g>\r\n       <use style=\"stroke:#000000;stroke-width:0.8;\" x=\"122.3\" xlink:href=\"#m1271f40002\" y=\"61.56\"/>\r\n      </g>\r\n     </g>\r\n    </g>\r\n    <g id=\"xtick_4\">\r\n     <g id=\"line2d_4\">\r\n      <g>\r\n       <use style=\"stroke:#000000;stroke-width:0.8;\" x=\"178.1\" xlink:href=\"#m1271f40002\" y=\"61.56\"/>\r\n      </g>\r\n     </g>\r\n    </g>\r\n    <g id=\"xtick_5\">\r\n     <g id=\"line2d_5\">\r\n      <g>\r\n       <use style=\"stroke:#000000;stroke-width:0.8;\" x=\"233.9\" xlink:href=\"#m1271f40002\" y=\"61.56\"/>\r\n      </g>\r\n     </g>\r\n    </g>\r\n    <g id=\"xtick_6\">\r\n     <g id=\"line2d_6\">\r\n      <g>\r\n       <use style=\"stroke:#000000;stroke-width:0.8;\" x=\"289.7\" xlink:href=\"#m1271f40002\" y=\"61.56\"/>\r\n      </g>\r\n     </g>\r\n    </g>\r\n    <g id=\"xtick_7\">\r\n     <g id=\"line2d_7\">\r\n      <g>\r\n       <use style=\"stroke:#000000;stroke-width:0.8;\" x=\"345.5\" xlink:href=\"#m1271f40002\" y=\"61.56\"/>\r\n      </g>\r\n     </g>\r\n    </g>\r\n    <g id=\"xtick_8\">\r\n     <g id=\"line2d_8\">\r\n      <g>\r\n       <use style=\"stroke:#000000;stroke-width:0.8;\" x=\"401.3\" xlink:href=\"#m1271f40002\" y=\"61.56\"/>\r\n      </g>\r\n     </g>\r\n    </g>\r\n    <g id=\"xtick_9\">\r\n     <g id=\"line2d_9\">\r\n      <g>\r\n       <use style=\"stroke:#000000;stroke-width:0.8;\" x=\"457.1\" xlink:href=\"#m1271f40002\" y=\"61.56\"/>\r\n      </g>\r\n     </g>\r\n    </g>\r\n    <g id=\"xtick_10\">\r\n     <g id=\"line2d_10\">\r\n      <g>\r\n       <use style=\"stroke:#000000;stroke-width:0.8;\" x=\"512.9\" xlink:href=\"#m1271f40002\" y=\"61.56\"/>\r\n      </g>\r\n     </g>\r\n    </g>\r\n   </g>\r\n   <g id=\"matplotlib.axis_2\">\r\n    <g id=\"ytick_1\">\r\n     <g id=\"line2d_11\">\r\n      <defs>\r\n       <path d=\"M 0 0 \r\nL -3.5 0 \r\n\" id=\"m8a70b0f61b\" style=\"stroke:#000000;stroke-width:0.8;\"/>\r\n      </defs>\r\n      <g>\r\n       <use style=\"stroke:#000000;stroke-width:0.8;\" x=\"10.7\" xlink:href=\"#m8a70b0f61b\" y=\"7.2\"/>\r\n      </g>\r\n     </g>\r\n    </g>\r\n    <g id=\"ytick_2\">\r\n     <g id=\"line2d_12\">\r\n      <g>\r\n       <use style=\"stroke:#000000;stroke-width:0.8;\" x=\"10.7\" xlink:href=\"#m8a70b0f61b\" y=\"61.56\"/>\r\n      </g>\r\n     </g>\r\n    </g>\r\n   </g>\r\n   <g id=\"patch_3\">\r\n    <path d=\"M 10.7 61.56 \r\nL 10.7 7.2 \r\n\" style=\"fill:none;stroke:#000000;stroke-linecap:square;stroke-linejoin:miter;stroke-width:0.8;\"/>\r\n   </g>\r\n   <g id=\"patch_4\">\r\n    <path d=\"M 568.7 61.56 \r\nL 568.7 7.2 \r\n\" style=\"fill:none;stroke:#000000;stroke-linecap:square;stroke-linejoin:miter;stroke-width:0.8;\"/>\r\n   </g>\r\n   <g id=\"patch_5\">\r\n    <path d=\"M 10.7 61.56 \r\nL 568.7 61.56 \r\n\" style=\"fill:none;stroke:#000000;stroke-linecap:square;stroke-linejoin:miter;stroke-width:0.8;\"/>\r\n   </g>\r\n   <g id=\"patch_6\">\r\n    <path d=\"M 10.7 7.2 \r\nL 568.7 7.2 \r\n\" style=\"fill:none;stroke:#000000;stroke-linecap:square;stroke-linejoin:miter;stroke-width:0.8;\"/>\r\n   </g>\r\n  </g>\r\n </g>\r\n <defs>\r\n  <clipPath id=\"p3a04eea36a\">\r\n   <rect height=\"54.36\" width=\"558\" x=\"10.7\" y=\"7.2\"/>\r\n  </clipPath>\r\n </defs>\r\n</svg>\r\n",
      "image/png": "[encoded data removed]"
     },
     "metadata": {
      "needs_background": "light"
     }
    }
   ],
   "metadata": {},
   "execution_count": 133
  },
  {
   "source": [
    "sns.palplot([colour_palettes['mid'][i] for i in [0,3,5,6]])\n",
    "sns.palplot([colour_palettes['mid'][i] for i in [1,2,4,7]])\n",
    "sns.palplot([colour_palettes['mid'][i] for i in [8,9]])\n",
    "\n",
    "del colour_palettes"
   ],
   "cell_type": "code",
   "outputs": [
    {
     "output_type": "display_data",
     "data": {
      "text/plain": "<Figure size 288x72 with 1 Axes>",
      "image/svg+xml": "<?xml version=\"1.0\" encoding=\"utf-8\" standalone=\"no\"?>\r\n<!DOCTYPE svg PUBLIC \"-//W3C//DTD SVG 1.1//EN\"\r\n  \"http://www.w3.org/Graphics/SVG/1.1/DTD/svg11.dtd\">\r\n<!-- Created with matplotlib (https://matplotlib.org/) -->\r\n<svg height=\"72.26pt\" version=\"1.1\" viewBox=\"0 0 241.1 72.26\" width=\"241.1pt\" xmlns=\"http://www.w3.org/2000/svg\" xmlns:xlink=\"http://www.w3.org/1999/xlink\">\r\n <defs>\r\n  <style type=\"text/css\">\r\n*{stroke-linecap:butt;stroke-linejoin:round;}\r\n  </style>\r\n </defs>\r\n <g id=\"figure_1\">\r\n  <g id=\"patch_1\">\r\n   <path d=\"M 0 72.26 \r\nL 241.1 72.26 \r\nL 241.1 0 \r\nL 0 0 \r\nz\r\n\" style=\"fill:none;\"/>\r\n  </g>\r\n  <g id=\"axes_1\">\r\n   <g id=\"patch_2\">\r\n    <path d=\"M 10.7 61.56 \r\nL 233.9 61.56 \r\nL 233.9 7.2 \r\nL 10.7 7.2 \r\nz\r\n\" style=\"fill:#ffffff;\"/>\r\n   </g>\r\n   <g clip-path=\"url(#p0affd6a2db)\">\r\n    <image height=\"55\" id=\"image3289ed8662\" transform=\"scale(1 -1)translate(0 -55)\" width=\"224\" x=\"10.7\" xlink:href=\"data:image/png;base64,\r\niVBORw0KGgoAAAANSUhEUgAAAOAAAAA3CAYAAAAVFkZ2AAAABHNCSVQICAgIfAhkiAAAANVJREFUeJzt00ENwkAAAMG24YMR6qhOeNRBDRJ0EARQFZdN6IyC/ez8eqy/6Y9t+61OGOr7PuqEoZ6fe50w1FIHwJUZEEIGhJABIWRACBkQQgaEkAEhZEAIGRBCBoSQASFkQAgZEEIGhJABIWRACBkQQgaEkAEhZEAIGRBCBoSQASFkQAgZEEIGhJABIWRACBkQQgaEkAEhZEAIGRBCBoSQASFkQAgZEEIGhJABIWRACBkQQgaEkAEhZEAIGRBCBoSQASFkQAgZEEIGhJABIWRACBkQQidoDAcjCAfTMgAAAABJRU5ErkJggg==\" y=\"-6.56\"/>\r\n   </g>\r\n   <g id=\"matplotlib.axis_1\">\r\n    <g id=\"xtick_1\">\r\n     <g id=\"line2d_1\">\r\n      <defs>\r\n       <path d=\"M 0 0 \r\nL 0 3.5 \r\n\" id=\"m6a783ec94c\" style=\"stroke:#000000;stroke-width:0.8;\"/>\r\n      </defs>\r\n      <g>\r\n       <use style=\"stroke:#000000;stroke-width:0.8;\" x=\"10.7\" xlink:href=\"#m6a783ec94c\" y=\"61.56\"/>\r\n      </g>\r\n     </g>\r\n    </g>\r\n    <g id=\"xtick_2\">\r\n     <g id=\"line2d_2\">\r\n      <g>\r\n       <use style=\"stroke:#000000;stroke-width:0.8;\" x=\"66.5\" xlink:href=\"#m6a783ec94c\" y=\"61.56\"/>\r\n      </g>\r\n     </g>\r\n    </g>\r\n    <g id=\"xtick_3\">\r\n     <g id=\"line2d_3\">\r\n      <g>\r\n       <use style=\"stroke:#000000;stroke-width:0.8;\" x=\"122.3\" xlink:href=\"#m6a783ec94c\" y=\"61.56\"/>\r\n      </g>\r\n     </g>\r\n    </g>\r\n    <g id=\"xtick_4\">\r\n     <g id=\"line2d_4\">\r\n      <g>\r\n       <use style=\"stroke:#000000;stroke-width:0.8;\" x=\"178.1\" xlink:href=\"#m6a783ec94c\" y=\"61.56\"/>\r\n      </g>\r\n     </g>\r\n    </g>\r\n   </g>\r\n   <g id=\"matplotlib.axis_2\">\r\n    <g id=\"ytick_1\">\r\n     <g id=\"line2d_5\">\r\n      <defs>\r\n       <path d=\"M 0 0 \r\nL -3.5 0 \r\n\" id=\"meef8c7d3fc\" style=\"stroke:#000000;stroke-width:0.8;\"/>\r\n      </defs>\r\n      <g>\r\n       <use style=\"stroke:#000000;stroke-width:0.8;\" x=\"10.7\" xlink:href=\"#meef8c7d3fc\" y=\"7.2\"/>\r\n      </g>\r\n     </g>\r\n    </g>\r\n    <g id=\"ytick_2\">\r\n     <g id=\"line2d_6\">\r\n      <g>\r\n       <use style=\"stroke:#000000;stroke-width:0.8;\" x=\"10.7\" xlink:href=\"#meef8c7d3fc\" y=\"61.56\"/>\r\n      </g>\r\n     </g>\r\n    </g>\r\n   </g>\r\n   <g id=\"patch_3\">\r\n    <path d=\"M 10.7 61.56 \r\nL 10.7 7.2 \r\n\" style=\"fill:none;stroke:#000000;stroke-linecap:square;stroke-linejoin:miter;stroke-width:0.8;\"/>\r\n   </g>\r\n   <g id=\"patch_4\">\r\n    <path d=\"M 233.9 61.56 \r\nL 233.9 7.2 \r\n\" style=\"fill:none;stroke:#000000;stroke-linecap:square;stroke-linejoin:miter;stroke-width:0.8;\"/>\r\n   </g>\r\n   <g id=\"patch_5\">\r\n    <path d=\"M 10.7 61.56 \r\nL 233.9 61.56 \r\n\" style=\"fill:none;stroke:#000000;stroke-linecap:square;stroke-linejoin:miter;stroke-width:0.8;\"/>\r\n   </g>\r\n   <g id=\"patch_6\">\r\n    <path d=\"M 10.7 7.2 \r\nL 233.9 7.2 \r\n\" style=\"fill:none;stroke:#000000;stroke-linecap:square;stroke-linejoin:miter;stroke-width:0.8;\"/>\r\n   </g>\r\n  </g>\r\n </g>\r\n <defs>\r\n  <clipPath id=\"p0affd6a2db\">\r\n   <rect height=\"54.36\" width=\"223.2\" x=\"10.7\" y=\"7.2\"/>\r\n  </clipPath>\r\n </defs>\r\n</svg>\r\n",
      "image/png": "[encoded data removed]"
     },
     "metadata": {
      "needs_background": "light"
     }
    },
    {
     "output_type": "display_data",
     "data": {
      "text/plain": "<Figure size 288x72 with 1 Axes>",
      "image/svg+xml": "<?xml version=\"1.0\" encoding=\"utf-8\" standalone=\"no\"?>\r\n<!DOCTYPE svg PUBLIC \"-//W3C//DTD SVG 1.1//EN\"\r\n  \"http://www.w3.org/Graphics/SVG/1.1/DTD/svg11.dtd\">\r\n<!-- Created with matplotlib (https://matplotlib.org/) -->\r\n<svg height=\"72.26pt\" version=\"1.1\" viewBox=\"0 0 241.1 72.26\" width=\"241.1pt\" xmlns=\"http://www.w3.org/2000/svg\" xmlns:xlink=\"http://www.w3.org/1999/xlink\">\r\n <defs>\r\n  <style type=\"text/css\">\r\n*{stroke-linecap:butt;stroke-linejoin:round;}\r\n  </style>\r\n </defs>\r\n <g id=\"figure_1\">\r\n  <g id=\"patch_1\">\r\n   <path d=\"M 0 72.26 \r\nL 241.1 72.26 \r\nL 241.1 0 \r\nL 0 0 \r\nz\r\n\" style=\"fill:none;\"/>\r\n  </g>\r\n  <g id=\"axes_1\">\r\n   <g id=\"patch_2\">\r\n    <path d=\"M 10.7 61.56 \r\nL 233.9 61.56 \r\nL 233.9 7.2 \r\nL 10.7 7.2 \r\nz\r\n\" style=\"fill:#ffffff;\"/>\r\n   </g>\r\n   <g clip-path=\"url(#p933959a2b8)\">\r\n    <image height=\"55\" id=\"image510583fcbc\" transform=\"scale(1 -1)translate(0 -55)\" width=\"224\" x=\"10.7\" xlink:href=\"data:image/png;base64,\r\niVBORw0KGgoAAAANSUhEUgAAAOAAAAA3CAYAAAAVFkZ2AAAABHNCSVQICAgIfAhkiAAAANVJREFUeJzt00ENwkAAAEGOPz/01Ei91BECSJCAmwpoVVw2aWcU7GfHsb2Ox4X9lnedMNU6PnXCVP/vXidM9awD4M4MCCEDQsiAEDIghAwIIQNCyIAQMiCEDAghA0LIgBAyIIQMCCEDQsiAEDIghAwIIQNCyIAQMiCEDAghA0LIgBAyIIQMCCEDQsiAEDIghAwIIQNCyIAQMiCEDAghA0LIgBAyIIQMCCEDQsiAEDIghAwIIQNCyIAQMiCEDAghA0LIgBAyIIQMCCEDQsiAEDIghAwIoRNGKweG7vwF8gAAAABJRU5ErkJggg==\" y=\"-6.56\"/>\r\n   </g>\r\n   <g id=\"matplotlib.axis_1\">\r\n    <g id=\"xtick_1\">\r\n     <g id=\"line2d_1\">\r\n      <defs>\r\n       <path d=\"M 0 0 \r\nL 0 3.5 \r\n\" id=\"m892ba767d8\" style=\"stroke:#000000;stroke-width:0.8;\"/>\r\n      </defs>\r\n      <g>\r\n       <use style=\"stroke:#000000;stroke-width:0.8;\" x=\"10.7\" xlink:href=\"#m892ba767d8\" y=\"61.56\"/>\r\n      </g>\r\n     </g>\r\n    </g>\r\n    <g id=\"xtick_2\">\r\n     <g id=\"line2d_2\">\r\n      <g>\r\n       <use style=\"stroke:#000000;stroke-width:0.8;\" x=\"66.5\" xlink:href=\"#m892ba767d8\" y=\"61.56\"/>\r\n      </g>\r\n     </g>\r\n    </g>\r\n    <g id=\"xtick_3\">\r\n     <g id=\"line2d_3\">\r\n      <g>\r\n       <use style=\"stroke:#000000;stroke-width:0.8;\" x=\"122.3\" xlink:href=\"#m892ba767d8\" y=\"61.56\"/>\r\n      </g>\r\n     </g>\r\n    </g>\r\n    <g id=\"xtick_4\">\r\n     <g id=\"line2d_4\">\r\n      <g>\r\n       <use style=\"stroke:#000000;stroke-width:0.8;\" x=\"178.1\" xlink:href=\"#m892ba767d8\" y=\"61.56\"/>\r\n      </g>\r\n     </g>\r\n    </g>\r\n   </g>\r\n   <g id=\"matplotlib.axis_2\">\r\n    <g id=\"ytick_1\">\r\n     <g id=\"line2d_5\">\r\n      <defs>\r\n       <path d=\"M 0 0 \r\nL -3.5 0 \r\n\" id=\"m1245274d99\" style=\"stroke:#000000;stroke-width:0.8;\"/>\r\n      </defs>\r\n      <g>\r\n       <use style=\"stroke:#000000;stroke-width:0.8;\" x=\"10.7\" xlink:href=\"#m1245274d99\" y=\"7.2\"/>\r\n      </g>\r\n     </g>\r\n    </g>\r\n    <g id=\"ytick_2\">\r\n     <g id=\"line2d_6\">\r\n      <g>\r\n       <use style=\"stroke:#000000;stroke-width:0.8;\" x=\"10.7\" xlink:href=\"#m1245274d99\" y=\"61.56\"/>\r\n      </g>\r\n     </g>\r\n    </g>\r\n   </g>\r\n   <g id=\"patch_3\">\r\n    <path d=\"M 10.7 61.56 \r\nL 10.7 7.2 \r\n\" style=\"fill:none;stroke:#000000;stroke-linecap:square;stroke-linejoin:miter;stroke-width:0.8;\"/>\r\n   </g>\r\n   <g id=\"patch_4\">\r\n    <path d=\"M 233.9 61.56 \r\nL 233.9 7.2 \r\n\" style=\"fill:none;stroke:#000000;stroke-linecap:square;stroke-linejoin:miter;stroke-width:0.8;\"/>\r\n   </g>\r\n   <g id=\"patch_5\">\r\n    <path d=\"M 10.7 61.56 \r\nL 233.9 61.56 \r\n\" style=\"fill:none;stroke:#000000;stroke-linecap:square;stroke-linejoin:miter;stroke-width:0.8;\"/>\r\n   </g>\r\n   <g id=\"patch_6\">\r\n    <path d=\"M 10.7 7.2 \r\nL 233.9 7.2 \r\n\" style=\"fill:none;stroke:#000000;stroke-linecap:square;stroke-linejoin:miter;stroke-width:0.8;\"/>\r\n   </g>\r\n  </g>\r\n </g>\r\n <defs>\r\n  <clipPath id=\"p933959a2b8\">\r\n   <rect height=\"54.36\" width=\"223.2\" x=\"10.7\" y=\"7.2\"/>\r\n  </clipPath>\r\n </defs>\r\n</svg>\r\n",
      "image/png": "[encoded data removed]"
     },
     "metadata": {
      "needs_background": "light"
     }
    },
    {
     "output_type": "display_data",
     "data": {
      "text/plain": "<Figure size 144x72 with 1 Axes>",
      "image/svg+xml": "<?xml version=\"1.0\" encoding=\"utf-8\" standalone=\"no\"?>\r\n<!DOCTYPE svg PUBLIC \"-//W3C//DTD SVG 1.1//EN\"\r\n  \"http://www.w3.org/Graphics/SVG/1.1/DTD/svg11.dtd\">\r\n<!-- Created with matplotlib (https://matplotlib.org/) -->\r\n<svg height=\"72.26pt\" version=\"1.1\" viewBox=\"0 0 129.5 72.26\" width=\"129.5pt\" xmlns=\"http://www.w3.org/2000/svg\" xmlns:xlink=\"http://www.w3.org/1999/xlink\">\r\n <defs>\r\n  <style type=\"text/css\">\r\n*{stroke-linecap:butt;stroke-linejoin:round;}\r\n  </style>\r\n </defs>\r\n <g id=\"figure_1\">\r\n  <g id=\"patch_1\">\r\n   <path d=\"M 0 72.26 \r\nL 129.5 72.26 \r\nL 129.5 0 \r\nL 0 0 \r\nz\r\n\" style=\"fill:none;\"/>\r\n  </g>\r\n  <g id=\"axes_1\">\r\n   <g id=\"patch_2\">\r\n    <path d=\"M 10.7 61.56 \r\nL 122.3 61.56 \r\nL 122.3 7.2 \r\nL 10.7 7.2 \r\nz\r\n\" style=\"fill:#ffffff;\"/>\r\n   </g>\r\n   <g clip-path=\"url(#p654ba5f14b)\">\r\n    <image height=\"55\" id=\"imagebc6523e634\" transform=\"scale(1 -1)translate(0 -55)\" width=\"112\" x=\"10.7\" xlink:href=\"data:image/png;base64,\r\niVBORw0KGgoAAAANSUhEUgAAAHAAAAA3CAYAAADUvc6fAAAABHNCSVQICAgIfAhkiAAAAKlJREFUeJzt0cENQEAAAEF0468Kf1UpVwEUIXJZmalgk53PY7+nH7vWbXTCp5bRAbxjYJyBcQbGGRhnYJyBcQbGGRhnYJyBcQbGGRhnYJyBcQbGGRhnYJyBcQbGGRhnYJyBcQbGGRhnYJyBcQbGGRhnYJyBcQbGGRhnYJyBcQbGGRhnYJyBcQbGGRhnYJyBcQbGGRhnYJyBcQbGGRhnYJyBcQbGGRhnYNwD/hUD54QWceQAAAAASUVORK5CYII=\" y=\"-6.56\"/>\r\n   </g>\r\n   <g id=\"matplotlib.axis_1\">\r\n    <g id=\"xtick_1\">\r\n     <g id=\"line2d_1\">\r\n      <defs>\r\n       <path d=\"M 0 0 \r\nL 0 3.5 \r\n\" id=\"m96e9df99be\" style=\"stroke:#000000;stroke-width:0.8;\"/>\r\n      </defs>\r\n      <g>\r\n       <use style=\"stroke:#000000;stroke-width:0.8;\" x=\"10.7\" xlink:href=\"#m96e9df99be\" y=\"61.56\"/>\r\n      </g>\r\n     </g>\r\n    </g>\r\n    <g id=\"xtick_2\">\r\n     <g id=\"line2d_2\">\r\n      <g>\r\n       <use style=\"stroke:#000000;stroke-width:0.8;\" x=\"66.5\" xlink:href=\"#m96e9df99be\" y=\"61.56\"/>\r\n      </g>\r\n     </g>\r\n    </g>\r\n   </g>\r\n   <g id=\"matplotlib.axis_2\">\r\n    <g id=\"ytick_1\">\r\n     <g id=\"line2d_3\">\r\n      <defs>\r\n       <path d=\"M 0 0 \r\nL -3.5 0 \r\n\" id=\"mbc1de4a2b5\" style=\"stroke:#000000;stroke-width:0.8;\"/>\r\n      </defs>\r\n      <g>\r\n       <use style=\"stroke:#000000;stroke-width:0.8;\" x=\"10.7\" xlink:href=\"#mbc1de4a2b5\" y=\"7.2\"/>\r\n      </g>\r\n     </g>\r\n    </g>\r\n    <g id=\"ytick_2\">\r\n     <g id=\"line2d_4\">\r\n      <g>\r\n       <use style=\"stroke:#000000;stroke-width:0.8;\" x=\"10.7\" xlink:href=\"#mbc1de4a2b5\" y=\"61.56\"/>\r\n      </g>\r\n     </g>\r\n    </g>\r\n   </g>\r\n   <g id=\"patch_3\">\r\n    <path d=\"M 10.7 61.56 \r\nL 10.7 7.2 \r\n\" style=\"fill:none;stroke:#000000;stroke-linecap:square;stroke-linejoin:miter;stroke-width:0.8;\"/>\r\n   </g>\r\n   <g id=\"patch_4\">\r\n    <path d=\"M 122.3 61.56 \r\nL 122.3 7.2 \r\n\" style=\"fill:none;stroke:#000000;stroke-linecap:square;stroke-linejoin:miter;stroke-width:0.8;\"/>\r\n   </g>\r\n   <g id=\"patch_5\">\r\n    <path d=\"M 10.7 61.56 \r\nL 122.3 61.56 \r\n\" style=\"fill:none;stroke:#000000;stroke-linecap:square;stroke-linejoin:miter;stroke-width:0.8;\"/>\r\n   </g>\r\n   <g id=\"patch_6\">\r\n    <path d=\"M 10.7 7.2 \r\nL 122.3 7.2 \r\n\" style=\"fill:none;stroke:#000000;stroke-linecap:square;stroke-linejoin:miter;stroke-width:0.8;\"/>\r\n   </g>\r\n  </g>\r\n </g>\r\n <defs>\r\n  <clipPath id=\"p654ba5f14b\">\r\n   <rect height=\"54.36\" width=\"111.6\" x=\"10.7\" y=\"7.2\"/>\r\n  </clipPath>\r\n </defs>\r\n</svg>\r\n",
      "image/png": "[encoded data removed]"
     },
     "metadata": {
      "needs_background": "light"
     }
    }
   ],
   "metadata": {},
   "execution_count": 134
  },
  {
   "cell_type": "markdown",
   "execution_count": null,
   "metadata": {},
   "outputs": [],
   "source": [
    "## Import Data\n",
    "### Custom Support Data Functions"
   ]
  },
  {
   "source": [
    "def get_UO_support_data(dataset_f_info, dataset = \"UO\"):\n",
    "    \n",
    "    def import_UO_log_dates():\n",
    "        UO_log_dates = pd.read_csv(dataset_f_info['supp_data_filepath'][dataset], sep = \"\\t\")\n",
    "        UO_log_dates['start'] = pd.to_datetime(UO_log_dates['start'], format=\"%Y-%m-%d\")\n",
    "        UO_log_dates['end'] = pd.to_datetime(UO_log_dates['end'], format=\"%Y-%m-%d\")\n",
    "        return UO_log_dates\n",
    "    \n",
    "    UO_log_dates = import_UO_log_dates()\n",
    "    \n",
    "    #Check LogDates file\n",
    "    if max(UO_log_dates['end']) < date_now.date() - timedelta(days=1):\n",
    "        #print(\"Retrieving latest Urban Observatory data...\")\n",
    "        # api-endpoint \n",
    "        URL = \"http://uoweb3.ncl.ac.uk/api/v1.1/sensors/data/csv/?\"\n",
    "        # location given here \n",
    "        poly = '0103000000010000000600000001000020a2baf9bf58094ee3a2764b4001000020f268fbbf90c059b5b5714b4000000020ba37fbbfc4e78445c6704b4001000020b203fbbf9ce8d60e68714b40010000209a59f9bf346a0efd06714b4001000020a2baf9bf58094ee3a2764b40'\n",
    "        # defining a params dict for the parameters to be sent to the API \n",
    "        PARAMS = {'polygon_wkb': poly,\n",
    "                  'starttime': max(UO_log_dates['end']).strftime(\"%Y%m%d%H%M%S\"), #\"%Y%m%d%H%M%S\"\n",
    "                  'endtime': date_now.strftime(\"%Y%m%d%H%M%S\"), #\"%Y%m%d%H%M%S\"\n",
    "                  'data_variable': 'River Level,Temperature,Rainfall'} \n",
    "        # sending get request and saving the response as response object \n",
    "        data_content = requests.get(url = URL, params = PARAMS).content\n",
    "        UO_data = pd.read_csv(io.StringIO(data_content.decode(\"utf-8\")))\n",
    "        min_date = pd.to_datetime(min(UO_data['Timestamp'])).strftime(\"%Y-%m-%d\")\n",
    "        max_date = pd.to_datetime(max(UO_data['Timestamp'])).strftime(\"%Y-%m-%d\")\n",
    "        \n",
    "        if pd.to_datetime(max_date) > max(UO_log_dates['end']):\n",
    "            UO_data.to_csv(dataset_f_info['data_folder_path'][dataset] + \"UO_data_\" + str(min_date) + \"_to_\" + str(max_date) + \".csv\",\n",
    "                           index = False)\n",
    "            UO_Files = []\n",
    "            for filename in tqdm(os.listdir(str(dataset_f_info['data_folder_path'][dataset])), desc = \"Open existing UO files\"):\n",
    "                if re.search(dataset_f_info['file_pat'][dataset], filename) and not filename.startswith('.'):\n",
    "                    UO_Files.append(filename)\n",
    "            UO_starts = []\n",
    "            for string in UO_Files: UO_starts.append(string[8:18])\n",
    "            UO_ends = []\n",
    "            for string in UO_Files: UO_ends.append(string[22:32])\n",
    "\n",
    "\n",
    "            new_UO_file_data = {'file': UO_Files,\n",
    "                                'start': UO_starts,\n",
    "                                'end': UO_ends}\n",
    "            UO_log_dates_new = pd.DataFrame(new_UO_file_data, columns = ['file', 'start', 'end'])\n",
    "            UO_log_dates_new.to_csv(dataset_f_info['supp_data_filepath'][dataset], index = False, sep = \"\\t\")\n",
    "            print(\"Urban Observatory data updated!\")\n",
    "        else:\n",
    "            print(\"Urban Observatory data up-to-date!\")\n",
    "        \n",
    "    UO_log_dates = import_UO_log_dates\n",
    "    \n",
    "    return UO_log_dates\n",
    "\n",
    "def get_Events_support_data(dataset_f_info, dataset = \"Events\"):\n",
    "    Events_info = pd.read_csv(dataset_f_info['supp_data_filepath'][dataset], sep = \"\\t\", index_col = \"Code\")\n",
    "    return Events_info\n",
    "\n",
    "custom_preimport_functions = {'UO': get_UO_support_data,\n",
    "                              'Events': get_Events_support_data}"
   ],
   "cell_type": "code",
   "outputs": [],
   "metadata": {},
   "execution_count": 135
  },
  {
   "cell_type": "markdown",
   "execution_count": null,
   "metadata": {},
   "outputs": [],
   "source": [
    "### Custom Imported Data Functions"
   ]
  },
  {
   "source": [
    "def mod_imported_Sensor_data(day_df, filename, dataset_supp_data, dataset_f_info, dataset = \"Sensor\"):\n",
    "    day_df['DateTime'] = day_df['Date'] + \" \" + day_df['Time']\n",
    "    day_df['DateTime'] = pd.to_datetime(day_df['DateTime'], format = '%d/%m/%Y %H:%M:%S')\n",
    "    day_df['DateTime'] = day_df['DateTime'].dt.tz_localize('UTC')\n",
    "    \n",
    "    #Make on/off events integer binary numbers 1/0\n",
    "    #on_events = [\"^ON$\", \"^RUNNING$\", \"^CW$\", \"^AUTO$\"]\n",
    "    #off_events = [\"^OFF$\", \"^STOP$\", \"^CCW$\", \"^MANUAL$\"]\n",
    "\n",
    "    #all_rgx = re.compile(\"|\".join(on_events + off_events))\n",
    "    #on_rgx = re.compile(\"|\".join(on_events))\n",
    "    #off_rgx = re.compile(\"|\".join(off_events))\n",
    "    \n",
    "    #Sensor_events = {'ON': 1,\n",
    "    #                 'RUNNING': 1,\n",
    "    #                 'CW': 1,\n",
    "    #                 'AUTO': 1,\n",
    "    #                 'OFF': 0,\n",
    "    #                 'STOP': 0,\n",
    "    #                 'CCW': 0,\n",
    "    #                 'MANUAL': 0}\n",
    "\n",
    "    #string_cols = (day_df.applymap(type) == str).all(0).values\n",
    "    #for col in day_df.iloc[:, string_cols]:\n",
    "    #    if day_df[col].str.contains(all_rgx).any():\n",
    "    #        day_df[col] = day_df[col].replace(on_rgx, '1', regex=True)\n",
    "    #        day_df[col] = day_df[col].replace(off_rgx, '0', regex=True)\n",
    "    #        day_df[col] = day_df[col].astype(int)\n",
    "    #for col in day_df.iloc[:, string_cols]:\n",
    "    #if day_df.iloc[:, string_cols].str.contains(all_rgx).any():\n",
    "    #day_df[[i for i in list(day_df.columns) if i not in ['DateTime', 'Date', 'Time']]] = \\\n",
    "    #day_df[[i for i in list(day_df.columns) if i not in ['DateTime', 'Date', 'Time']]].replace(Sensor_events).apply(pd.to_numeric)\n",
    "    #day_df.iloc[:, string_cols] = day_df.astype(int)\n",
    "    \n",
    "    #Current density\n",
    "    day_df.iloc[:, day_df.columns.str.contains(\"__C\")] = day_df.iloc[:, day_df.columns.str.contains(\"__C\")]/(math.pi*(0.6)**2*10)\n",
    "    #Sum Current density\n",
    "    day_df.iloc[:, day_df.columns.str.contains(\"SUM__C\")] = day_df.iloc[:, day_df.columns.str.contains(\"SUM__C\")]/4\n",
    "    \n",
    "    #Sensible tilt (up = positive)\n",
    "    day_df['SENSOR_TILT'] = -day_df['SENSOR_TILT']\n",
    "\n",
    "    return(day_df)\n",
    "\n",
    "def mod_imported_Skid_data(day_df, filename, dataset_supp_data, dataset_f_info, dataset = \"Skid\"):\n",
    "    day_df = day_df.rename(columns={\"TIME\": \"DateTime\"})\n",
    "    day_df['DateTime'] = pd.to_datetime(day_df['DateTime'], format = '%Y/%m/%d %H:%M:%S.%f')\n",
    "    day_df['DateTime'] = day_df['DateTime'].dt.tz_localize('UTC')\n",
    "    selected_pars = list(info['parameters'][selected].query('dataset == \"' + dataset + '\"')['parameter'].values)\n",
    "    day_df = day_df[day_df[selected_pars].sum(axis = 1, skipna = True) != 0]\n",
    "    return(day_df)\n",
    "\n",
    "def mod_imported_SampLog_data(day_df, filename, dataset_supp_data, dataset_f_info, dataset = \"SampLog\"):\n",
    "    day_df = day_df.rename(columns={\"Date\": \"DateTime\"})\n",
    "    day_df['DateTime'] = pd.to_datetime(day_df['DateTime'], format = '%d/%m/%Y %H:%M')\n",
    "    day_df['DateTime'] = day_df['DateTime'].dt.tz_localize('Europe/London')\n",
    "    day_df['DateTime'] = day_df['DateTime'].dt.tz_convert('UTC')\n",
    "\n",
    "    selected_read_cols = ['R1', 'R2', 'R3']\n",
    "    day_df[selected_read_cols] = day_df[selected_read_cols].apply(pd.to_numeric, errors='coerce')\n",
    "\n",
    "    #Average readings\n",
    "    day_df['Read_ave'] = day_df[selected_read_cols].mean(axis = 1, skipna = True)\n",
    "    \n",
    "    #Widen DF\n",
    "    day_df_wide = pd.pivot_table(day_df,values='Read_ave',index=['DateTime', 'Location'],columns=['Type','Vial'])\n",
    "    #Fix col header and names\n",
    "    day_df_wide.columns = map(''.join, (str(v) for v in day_df_wide.columns))\n",
    "    day_df_wide.columns = [re.sub(r'\\W', '', i) for i in day_df_wide.columns]\n",
    "    day_df_wide.columns = [s[:len(s)-1] + \"_\" + s[len(s)-1:] for s in day_df_wide.columns]\n",
    "    day_df_wide = day_df_wide.reset_index()\n",
    "    \n",
    "    return(day_df_wide)\n",
    "\n",
    "def mod_imported_NWL_data(day_df, filename, dataset_supp_data, dataset_f_info, dataset = \"NWL\"):\n",
    "    day_df['DateTime'] = day_df['DATE'].astype(str) + \" \" + day_df['TIME']\n",
    "    day_df['DateTime'] = pd.to_datetime(day_df['DateTime'], format = '%Y-%m-%d %H:%M')\n",
    "    day_df['DateTime'] = day_df['DateTime'].dt.tz_localize('Europe/London')\n",
    "    day_df['DateTime'] = day_df['DateTime'].dt.tz_convert('UTC')\n",
    "    \n",
    "    day_df = day_df[day_df['SITE'].str.contains('SETTLED')]\n",
    "    \n",
    "    return(day_df)\n",
    "\n",
    "def mod_imported_UO_data(day_df, filename, dataset_supp_data, dataset_f_info, dataset = \"UO\"):\n",
    "    day_df['DateTime'] = pd.to_datetime(day_df['Timestamp'], format = '%Y-%m-%d %H:%M:%S')\n",
    "    day_df['DateTime'] = day_df['DateTime'].dt.tz_localize('UTC')\n",
    "  \n",
    "    # Create Type column\n",
    "    day_df['Type'] = day_df['Sensor Name'].astype(str) + \"_\" + day_df['Variable']\n",
    "  \n",
    "    #Widen DF\n",
    "    day_df_wide = pd.pivot_table(day_df,values='Value',index=['DateTime'],columns=['Type'])\n",
    "    #Fix col header and names\n",
    "    day_df_wide = day_df_wide.reset_index()\n",
    "    day_df_wide = day_df_wide.rename(columns=dict(zip(info['parameters'].query('dataset == \"' + dataset + '\"')['code'], \n",
    "                                                info['parameters'].query('dataset == \"' + dataset + '\"')['parameter'])))\n",
    "    return(day_df_wide)\n",
    "\n",
    "custom_import_functions = {'Sensor': mod_imported_Sensor_data,\n",
    "                           'Skid': mod_imported_Skid_data,\n",
    "                           'SampLog': mod_imported_SampLog_data,\n",
    "                           'NWL': mod_imported_NWL_data,\n",
    "                           'UO': mod_imported_UO_data}"
   ],
   "cell_type": "code",
   "outputs": [],
   "metadata": {},
   "execution_count": 136
  },
  {
   "cell_type": "markdown",
   "execution_count": null,
   "metadata": {},
   "outputs": [],
   "source": [
    "### Data Import Functions"
   ]
  },
  {
   "source": [
    "#Data import\n",
    "def import_data(dataset):\n",
    "    dataset_all_days = []\n",
    "    for folder in range(1,len(info['datasets'].query('dataset == \"' + dataset + '\"'))+1):\n",
    "        #print(dataset + \": Folder \" + str(folder))\n",
    "        \n",
    "        #Shorthand info:\n",
    "        dataset_f_info = info['datasets'].query('dataset == \"' + dataset + '\" & folder == \"' + str(folder) + '\"')\n",
    "        #File format to import\n",
    "        f_file_import = select_file_importer(dataset, dataset_f_info)\n",
    "        \n",
    "        #Custom pre-import functions\n",
    "        if dataset in custom_preimport_functions:\n",
    "            dataset_supp_data = custom_preimport_functions[dataset](dataset_f_info)\n",
    "        else:\n",
    "            dataset_supp_data = \"\"\n",
    "        #Import files\n",
    "        for filename in tqdm(os.listdir(str(dataset_f_info['data_folder_path'][dataset])), desc = \"Open files to import\"):\n",
    "            if re.search(dataset_f_info['file_pat'][dataset], filename) and not filename.startswith('.'):\n",
    "                day_df = file_import_handler(dataset, dataset_f_info, filename, dataset_supp_data, f_file_import)\n",
    "                # Keep if longer than 0 lines\n",
    "                if len(day_df) > 0:\n",
    "                    #Keep if within DateTime range in Info file\n",
    "                    if max(day_df['DateTime']) >= min(info['charts']['chart_range_start']) and \\\n",
    "                       min(day_df['DateTime']) <= max(info['charts']['chart_range_end']):\n",
    "                        dataset_all_days.append(day_df)\n",
    "    \n",
    "    #Create one dataframe from all days data\n",
    "    dataset_all_data = pd.concat(dataset_all_days, axis=0, ignore_index=True)\n",
    "    dataset_all_data.sort_values(by=['DateTime'], inplace=True)\n",
    "    dataset_all_data = dataset_all_data.reset_index(drop=True)\n",
    "    \n",
    "    dataset_all_data = dataset_all_data[dataset_all_data['DateTime'] >= min(info['charts']['chart_range_start'])]\n",
    "    dataset_all_data = dataset_all_data[dataset_all_data['DateTime'] <= max(info['charts']['chart_range_end'])]\n",
    "    \n",
    "    return(dataset_all_data)\n",
    "\n",
    "#File Import functions\n",
    "def select_file_importer(dataset, dataset_f_info):\n",
    "    if re.search(\"xls\", dataset_f_info['file_pat'][dataset], re.IGNORECASE):\n",
    "        return file_import_functions[\"xls\"]\n",
    "    elif re.search(\"csv\", dataset_f_info['file_pat'][dataset], re.IGNORECASE):\n",
    "        return file_import_functions[\"csv\"]\n",
    "    elif re.search(\"txt\", dataset_f_info['file_pat'][dataset], re.IGNORECASE):\n",
    "        return file_import_functions[\"txt\"]\n",
    "    else:\n",
    "        raise ValueError(\"Unknown file pattern!\")\n",
    "\n",
    "def file_import_xls(dataset, dataset_f_info, filename):\n",
    "    df = pd.read_excel(\"\".join([str(dataset_f_info['data_folder_path'][dataset]), filename]), \n",
    "                       skiprows = dataset_f_info['skiprows'][dataset])\n",
    "    return df\n",
    "\n",
    "def file_import_csv(dataset, dataset_f_info, filename):\n",
    "    df = pd.read_csv(\"\".join([str(dataset_f_info['data_folder_path'][dataset]), filename]), \n",
    "                     skiprows = dataset_f_info['skiprows'][dataset])\n",
    "    return df\n",
    "\n",
    "def file_import_txt(dataset, dataset_f_info, filename):\n",
    "    df = pd.read_csv(\"\".join([str(dataset_f_info['data_folder_path'][dataset]), filename]), \n",
    "                     sep=\"\\t\", skiprows = dataset_f_info['skiprows'][dataset])\n",
    "    return df\n",
    "\n",
    "file_import_functions = {'xls': file_import_xls,\n",
    "                         'csv': file_import_csv,\n",
    "                         'txt': file_import_txt}\n",
    "\n",
    "def file_import_handler(dataset, dataset_f_info, filename, dataset_supp_data, f_file_import):\n",
    "    day_df = f_file_import(dataset, dataset_f_info, filename)\n",
    "    if len(day_df) > 0:\n",
    "        # Name parameter columns\n",
    "        day_df = day_df.rename(columns=dict(zip(info['parameters'].query('dataset == \"' + dataset + '\"')['code'], \n",
    "                                                info['parameters'].query('dataset == \"' + dataset + '\"')['parameter'])))\n",
    "        # Delete unit rows\n",
    "        if not pd.isna(dataset_f_info['Del_unit_rows'][dataset]):\n",
    "            day_df = day_df.drop(0).reset_index()\n",
    "        ##Load custom data mod function?\n",
    "        if dataset in custom_import_functions:\n",
    "            day_df = custom_import_functions[dataset](day_df, filename, dataset_supp_data, dataset_f_info, dataset)\n",
    "        \n",
    "        #Choose selected parameters\n",
    "        selected_pars = list(info['parameters'][selected].query('dataset == \"' + dataset + '\"')['parameter'].values)\n",
    "        day_df = day_df[['DateTime'] + selected_pars]\n",
    "        #Add blank row between files - to be implemented\n",
    "        #if len(day_df) > 0:\n",
    "        #    if not pd.isna(dataset_f_info['Add_blank_rows'][dataset]):\n",
    "        #        day_df = day_df.append(pd.Series(), ignore_index=True)\n",
    "                \n",
    "\n",
    "    return(day_df)"
   ],
   "cell_type": "code",
   "outputs": [],
   "metadata": {},
   "execution_count": 137
  },
  {
   "cell_type": "markdown",
   "execution_count": null,
   "metadata": {},
   "outputs": [],
   "source": [
    "### Data Import"
   ]
  },
  {
   "source": [
    "selected_cols = [s for s in info['parameters'].columns.to_list() if \"selected\" in s]\n",
    "selected = info['parameters'][selected_cols].isin([1]).any(axis=1)\n",
    "selected_datasets = list(selected[selected == True].index.unique())\n",
    "selected_datasets\n",
    "\n",
    "del selected_cols"
   ],
   "cell_type": "code",
   "outputs": [],
   "metadata": {},
   "execution_count": 138
  },
  {
   "source": [
    "dataset_data = []\n",
    "for dataset in tqdm(selected_datasets, desc = \"Import data from each dataset\"):\n",
    "    dataset_data.append(import_data(dataset))"
   ],
   "cell_type": "code",
   "outputs": [
    {
     "output_type": "stream",
     "name": "stderr",
     "text": " import:  16%|█▌        | 50/309 [00:11<01:08,  3.80it/s]\u001b[A\nOpen files to import:  17%|█▋        | 51/309 [00:12<01:05,  3.96it/s]\u001b[A\nOpen files to import:  17%|█▋        | 52/309 [00:12<01:01,  4.16it/s]\u001b[A\nOpen files to import:  17%|█▋        | 53/309 [00:12<01:01,  4.18it/s]\u001b[A\nOpen files to import:  17%|█▋        | 54/309 [00:12<01:00,  4.20it/s]\u001b[A\nOpen files to import:  18%|█▊        | 55/309 [00:13<00:57,  4.39it/s]\u001b[A\nOpen files to import:  18%|█▊        | 56/309 [00:13<00:59,  4.26it/s]\u001b[A\nOpen files to import:  18%|█▊        | 57/309 [00:13<01:10,  3.55it/s]\u001b[A\nOpen files to import:  19%|█▉        | 58/309 [00:13<01:05,  3.82it/s]\u001b[A\nOpen files to import:  19%|█▉        | 59/309 [00:14<01:04,  3.89it/s]\u001b[A\nOpen files to import:  19%|█▉        | 60/309 [00:14<01:07,  3.68it/s]\u001b[A\nOpen files to import:  20%|█▉        | 61/309 [00:14<01:01,  4.01it/s]\u001b[A\nOpen files to import:  20%|██        | 62/309 [00:14<01:00,  4.10it/s]\u001b[A\nOpen files to import:  20%|██        | 63/309 [00:15<00:59,  4.15it/s]\u001b[A\nOpen files to import:  21%|██        | 64/309 [00:15<00:56,  4.32it/s]\u001b[A\nOpen files to import:  21%|██        | 65/309 [00:15<00:54,  4.49it/s]\u001b[A\nOpen files to import:  21%|██▏       | 66/309 [00:15<00:56,  4.28it/s]\u001b[A\nOpen files to import:  22%|██▏       | 67/309 [00:16<00:56,  4.30it/s]\u001b[A\nOpen files to import:  22%|██▏       | 68/309 [00:16<00:54,  4.41it/s]\u001b[A\nOpen files to import:  22%|██▏       | 69/309 [00:16<00:58,  4.08it/s]\u001b[A\nOpen files to import:  23%|██▎       | 70/309 [00:16<00:56,  4.21it/s]\u001b[A\nOpen files to import:  23%|██▎       | 71/309 [00:17<01:01,  3.86it/s]\u001b[A\nOpen files to import:  23%|██▎       | 72/309 [00:17<00:57,  4.16it/s]\u001b[A\nOpen files to import:  24%|██▎       | 73/309 [00:17<00:54,  4.33it/s]\u001b[A\nOpen files to import:  24%|██▍       | 74/309 [00:17<00:50,  4.64it/s]\u001b[A\nOpen files to import:  24%|██▍       | 75/309 [00:17<00:50,  4.64it/s]\u001b[A\nOpen files to import:  25%|██▍       | 76/309 [00:18<00:49,  4.66it/s]\u001b[A\nOpen files to import:  25%|██▍       | 77/309 [00:18<00:49,  4.65it/s]\u001b[A\nOpen files to import:  25%|██▌       | 78/309 [00:18<00:47,  4.86it/s]\u001b[A\nOpen files to import:  26%|██▌       | 79/309 [00:18<00:47,  4.81it/s]\u001b[A\nOpen files to import:  26%|██▌       | 80/309 [00:18<00:49,  4.58it/s]\u001b[A\nOpen files to import:  26%|██▌       | 81/309 [00:19<00:51,  4.41it/s]\u001b[A\nOpen files to import:  27%|██▋       | 82/309 [00:19<00:52,  4.34it/s]\u001b[A\nOpen files to import:  27%|██▋       | 83/309 [00:19<00:49,  4.56it/s]\u001b[A\nOpen files to import:  27%|██▋       | 84/309 [00:19<00:50,  4.47it/s]\u001b[A\nOpen files to import:  28%|██▊       | 85/309 [00:20<00:46,  4.79it/s]\u001b[A\nOpen files to import:  28%|██▊       | 86/309 [00:20<00:47,  4.65it/s]\u001b[A\nOpen files to import:  28%|██▊       | 87/309 [00:20<00:45,  4.90it/s]\u001b[A\nOpen files to import:  28%|██▊       | 88/309 [00:20<00:47,  4.68it/s]\u001b[A\nOpen files to import:  29%|██▉       | 89/309 [00:20<00:44,  4.89it/s]\u001b[A\nOpen files to import:  29%|██▉       | 90/309 [00:21<00:49,  4.47it/s]\u001b[A\nOpen files to import:  29%|██▉       | 91/309 [00:21<00:48,  4.47it/s]\u001b[A\nOpen files to import:  30%|██▉       | 92/309 [00:21<00:47,  4.55it/s]\u001b[A\nOpen files to import:  30%|███       | 93/309 [00:21<00:46,  4.62it/s]\u001b[A\nOpen files to import:  30%|███       | 94/309 [00:21<00:45,  4.71it/s]\u001b[A\nOpen files to import:  31%|███       | 95/309 [00:22<00:46,  4.63it/s]\u001b[A\nOpen files to import:  31%|███       | 96/309 [00:22<00:45,  4.64it/s]\u001b[A\nOpen files to import:  31%|███▏      | 97/309 [00:22<00:44,  4.81it/s]\u001b[A\nOpen files to import:  32%|███▏      | 98/309 [00:22<00:40,  5.21it/s]\u001b[A\nOpen files to import:  32%|███▏      | 99/309 [00:22<00:36,  5.69it/s]\u001b[A\nOpen files to import:  32%|███▏      | 100/309 [00:22<00:32,  6.43it/s]\u001b[A\nOpen files to import:  33%|███▎      | 101/309 [00:23<00:31,  6.70it/s]\u001b[A\nOpen files to import:  33%|███▎      | 102/309 [00:23<00:30,  6.84it/s]\u001b[A\nOpen files to import:  33%|███▎      | 103/309 [00:23<00:28,  7.12it/s]\u001b[A\nOpen files to import:  34%|███▎      | 104/309 [00:23<00:27,  7.53it/s]\u001b[A\nOpen files to import:  34%|███▍      | 105/309 [00:23<00:29,  7.03it/s]\u001b[A\nOpen files to import:  34%|███▍      | 106/309 [00:23<00:31,  6.55it/s]\u001b[A\nOpen files to import:  35%|███▍      | 107/309 [00:24<00:33,  6.00it/s]\u001b[A\nOpen files to import:  35%|███▍      | 108/309 [00:24<00:35,  5.59it/s]\u001b[A\nOpen files to import:  35%|███▌      | 109/309 [00:24<00:36,  5.43it/s]\u001b[A\nOpen files to import:  36%|███▌      | 110/309 [00:24<00:39,  5.08it/s]\u001b[A\nOpen files to import:  36%|███▌      | 111/309 [00:24<00:38,  5.19it/s]\u001b[A\nOpen files to import:  36%|███▌      | 112/309 [00:25<00:40,  4.84it/s]\u001b[A\nOpen files to import:  37%|███▋      | 113/309 [00:25<00:38,  5.05it/s]\u001b[A\nOpen files to import:  37%|███▋      | 114/309 [00:25<00:39,  4.91it/s]\u001b[A\nOpen files to import:  37%|███▋      | 115/309 [00:25<00:38,  5.01it/s]\u001b[A\nOpen files to import:  38%|███▊      | 116/309 [00:25<00:39,  4.93it/s]\u001b[A\nOpen files to import:  38%|███▊      | 117/309 [00:26<00:40,  4.79it/s]\u001b[A\nOpen files to import:  38%|███▊      | 118/309 [00:26<00:38,  4.91it/s]\u001b[A\nOpen files to import:  39%|███▊      | 119/309 [00:26<00:35,  5.33it/s]\u001b[A\nOpen files to import:  39%|███▉      | 120/309 [00:26<00:34,  5.41it/s]\u001b[A\nOpen files to import:  39%|███▉      | 121/309 [00:26<00:34,  5.42it/s]\u001b[A\nOpen files to import:  39%|███▉      | 122/309 [00:27<00:37,  4.97it/s]\u001b[A\nOpen files to import:  40%|███▉      | 123/309 [00:27<00:42,  4.41it/s]\u001b[A\nOpen files to import:  40%|████      | 124/309 [00:27<00:40,  4.59it/s]\u001b[A\nOpen files to import:  40%|████      | 125/309 [00:27<00:37,  4.96it/s]\u001b[A\nOpen files to import:  41%|████      | 126/309 [00:27<00:36,  5.04it/s]\u001b[A\nOpen files to import:  41%|████      | 127/309 [00:28<00:33,  5.37it/s]\u001b[A\nOpen files to import:  41%|████▏     | 128/309 [00:28<00:33,  5.47it/s]\u001b[A\nOpen files to import:  42%|████▏     | 129/309 [00:28<00:31,  5.68it/s]\u001b[A\nOpen files to import:  42%|████▏     | 130/309 [00:28<00:30,  5.90it/s]\u001b[A\nOpen files to import:  42%|████▏     | 131/309 [00:28<00:29,  5.94it/s]\u001b[A\nOpen files to import:  43%|████▎     | 132/309 [00:28<00:28,  6.25it/s]\u001b[A\nOpen files to import:  43%|████▎     | 134/309 [00:29<00:25,  6.85it/s]\u001b[A\nOpen files to import:  44%|████▎     | 135/309 [00:29<00:24,  7.22it/s]\u001b[A\nOpen files to import:  44%|████▍     | 136/309 [00:29<00:24,  7.15it/s]\u001b[A\nOpen files to import:  44%|████▍     | 137/309 [00:29<00:24,  7.07it/s]\u001b[A\nOpen files to import:  45%|████▍     | 138/309 [00:29<00:22,  7.59it/s]\u001b[A\nOpen files to import:  45%|████▍     | 139/309 [00:29<00:24,  6.88it/s]\u001b[A\nOpen files to import:  45%|████▌     | 140/309 [00:29<00:25,  6.73it/s]\u001b[A\nOpen files to import:  46%|████▌     | 141/309 [00:30<00:26,  6.26it/s]\u001b[A\nOpen files to import:  46%|████▌     | 142/309 [00:30<00:26,  6.30it/s]\u001b[A\nOpen files to import:  46%|████▋     | 143/309 [00:30<00:24,  6.80it/s]\u001b[A\nOpen files to import:  47%|████▋     | 144/309 [00:30<00:26,  6.19it/s]\u001b[A\nOpen files to import:  47%|████▋     | 145/309 [00:30<00:25,  6.45it/s]\u001b[A\nOpen files to import:  47%|████▋     | 146/309 [00:30<00:22,  7.17it/s]\u001b[A\nOpen files to import:  48%|████▊     | 147/309 [00:30<00:22,  7.19it/s]\u001b[A\nOpen files to import:  48%|████▊     | 149/309 [00:31<00:19,  8.20it/s]\u001b[A\nOpen files to import:  49%|████▉     | 151/309 [00:31<00:18,  8.53it/s]\u001b[A\nOpen files to import:  49%|████▉     | 152/309 [00:31<00:18,  8.49it/s]\u001b[A\nOpen files to import:  50%|████▉     | 153/309 [00:31<00:20,  7.48it/s]\u001b[A\nOpen files to import:  50%|████▉     | 154/309 [00:31<00:19,  7.88it/s]\u001b[A\nOpen files to import:  50%|█████     | 155/309 [00:31<00:22,  7.00it/s]\u001b[A\nOpen files to import:  50%|█████     | 156/309 [00:32<00:23,  6.54it/s]\u001b[A\nOpen files to import:  51%|█████     | 157/309 [00:32<00:25,  5.88it/s]\u001b[A\nOpen files to import:  51%|█████     | 158/309 [00:32<00:27,  5.57it/s]\u001b[A\nOpen files to import:  51%|█████▏    | 159/309 [00:32<00:25,  5.85it/s]\u001b[A\nOpen files to import:  52%|█████▏    | 160/309 [00:32<00:25,  5.91it/s]\u001b[A\nOpen files to import:  52%|█████▏    | 161/309 [00:32<00:23,  6.39it/s]\u001b[A\nOpen files to import:  52%|█████▏    | 162/309 [00:33<00:22,  6.64it/s]\u001b[A\nOpen files to import:  53%|█████▎    | 163/309 [00:33<00:22,  6.60it/s]\u001b[A\nOpen files to import:  53%|█████▎    | 164/309 [00:33<00:21,  6.87it/s]\u001b[A\nOpen files to import:  53%|█████▎    | 165/309 [00:33<00:23,  6.18it/s]\u001b[A\nOpen files to import:  54%|█████▎    | 166/309 [00:33<00:21,  6.77it/s]\u001b[A\nOpen files to import:  54%|█████▍    | 167/309 [00:33<00:22,  6.19it/s]\u001b[A\nOpen files to import:  54%|█████▍    | 168/309 [00:34<00:27,  5.12it/s]\u001b[A\nOpen files to import:  55%|█████▍    | 169/309 [00:34<00:26,  5.28it/s]\u001b[A\nOpen files to import:  55%|█████▌    | 170/309 [00:34<00:24,  5.68it/s]\u001b[A\nOpen files to import:  55%|█████▌    | 171/309 [00:34<00:22,  6.06it/s]\u001b[A\nOpen files to import:  56%|█████▌    | 172/309 [00:34<00:22,  6.18it/s]\u001b[A\nOpen files to import:  56%|█████▌    | 173/309 [00:34<00:21,  6.47it/s]\u001b[A\nOpen files to import:  56%|█████▋    | 174/309 [00:35<00:21,  6.29it/s]\u001b[A\nOpen files to import:  57%|█████▋    | 175/309 [00:35<00:22,  6.06it/s]\u001b[A\nOpen files to import:  57%|█████▋    | 176/309 [00:35<00:19,  6.77it/s]\u001b[A\nOpen files to import:  58%|█████▊    | 178/309 [00:35<00:18,  7.24it/s]\u001b[A\nOpen files to import:  58%|█████▊    | 179/309 [00:35<00:20,  6.42it/s]\u001b[A\nOpen files to import:  58%|█████▊    | 180/309 [00:35<00:21,  6.07it/s]\u001b[A\nOpen files to import:  59%|█████▊    | 181/309 [00:36<00:21,  5.96it/s]\u001b[A\nOpen files to import:  59%|█████▉    | 182/309 [00:36<00:24,  5.13it/s]\u001b[A\nOpen files to import:  59%|█████▉    | 183/309 [00:36<00:24,  5.06it/s]\u001b[A\nOpen files to import:  60%|█████▉    | 184/309 [00:36<00:21,  5.70it/s]\u001b[A\nOpen files to import:  60%|█████▉    | 185/309 [00:36<00:22,  5.42it/s]\u001b[A\nOpen files to import:  60%|██████    | 186/309 [00:37<00:22,  5.57it/s]\u001b[A\nOpen files to import:  61%|██████    | 187/309 [00:37<00:20,  5.90it/s]\u001b[A\nOpen files to import:  61%|██████    | 188/309 [00:37<00:20,  5.92it/s]\u001b[A\nOpen files to import:  61%|██████    | 189/309 [00:37<00:18,  6.55it/s]\u001b[A\nOpen files to import:  61%|██████▏   | 190/309 [00:37<00:16,  7.10it/s]\u001b[A\nOpen files to import:  62%|██████▏   | 191/309 [00:37<00:15,  7.76it/s]\u001b[A\nOpen files to import:  62%|██████▏   | 192/309 [00:37<00:15,  7.49it/s]\u001b[A\nOpen files to import:  62%|██████▏   | 193/309 [00:38<00:15,  7.42it/s]\u001b[A\nOpen files to import:  63%|██████▎   | 194/309 [00:38<00:15,  7.33it/s]\u001b[A\nOpen files to import:  63%|██████▎   | 195/309 [00:38<00:15,  7.30it/s]\u001b[A\nOpen files to import:  63%|██████▎   | 196/309 [00:38<00:14,  7.63it/s]\u001b[A\nOpen files to import:  64%|██████▍   | 197/309 [00:38<00:14,  7.58it/s]\u001b[A\nOpen files to import:  64%|██████▍   | 198/309 [00:38<00:14,  7.61it/s]\u001b[A\nOpen files to import:  64%|██████▍   | 199/309 [00:38<00:14,  7.78it/s]\u001b[A\nOpen files to import:  65%|██████▍   | 200/309 [00:38<00:14,  7.37it/s]\u001b[A\nOpen files to import:  65%|██████▌   | 201/309 [00:39<00:14,  7.62it/s]\u001b[A\nOpen files to import:  65%|██████▌   | 202/309 [00:39<00:13,  7.95it/s]\u001b[A\nOpen files to import:  66%|██████▌   | 203/309 [00:39<00:13,  7.83it/s]\u001b[A\nOpen files to import:  66%|██████▌   | 204/309 [00:39<00:13,  7.63it/s]\u001b[A\nOpen files to import:  66%|██████▋   | 205/309 [00:39<00:13,  7.95it/s]\u001b[A\nOpen files to import:  67%|██████▋   | 206/309 [00:39<00:13,  7.78it/s]\u001b[A\nOpen files to import:  67%|██████▋   | 207/309 [00:39<00:13,  7.72it/s]\u001b[A\nOpen files to import:  67%|██████▋   | 208/309 [00:39<00:13,  7.57it/s]\u001b[A\nOpen files to import:  68%|██████▊   | 209/309 [00:40<00:13,  7.15it/s]\u001b[A\nOpen files to import:  68%|██████▊   | 210/309 [00:40<00:13,  7.16it/s]\u001b[A\nOpen files to import:  68%|██████▊   | 211/309 [00:40<00:15,  6.43it/s]\u001b[A\nOpen files to import:  69%|██████▊   | 212/309 [00:40<00:16,  5.78it/s]\u001b[A\nOpen files to import:  69%|██████▉   | 213/309 [00:40<00:14,  6.46it/s]\u001b[A\nOpen files to import:  69%|██████▉   | 214/309 [00:40<00:14,  6.48it/s]\u001b[A\nOpen files to import:  70%|██████▉   | 216/309 [00:41<00:12,  7.33it/s]\u001b[A\nOpen files to import:  70%|███████   | 217/309 [00:41<00:12,  7.36it/s]\u001b[A\nOpen files to import:  71%|███████   | 218/309 [00:41<00:13,  6.69it/s]\u001b[A\nOpen files to import:  71%|███████   | 219/309 [00:41<00:15,  5.99it/s]\u001b[A\nOpen files to import:  71%|███████   | 220/309 [00:41<00:15,  5.91it/s]\u001b[A\nOpen files to import:  72%|███████▏  | 221/309 [00:42<00:14,  6.11it/s]\u001b[A\nOpen files to import:  72%|███████▏  | 222/309 [00:42<00:14,  6.00it/s]\u001b[A\nOpen files to import:  72%|███████▏  | 223/309 [00:42<00:16,  5.24it/s]\u001b[A\nOpen files to import:  72%|███████▏  | 224/309 [00:42<00:15,  5.50it/s]\u001b[A\nOpen files to import:  73%|███████▎  | 225/309 [00:42<00:13,  6.11it/s]\u001b[A\nOpen files to import:  73%|███████▎  | 226/309 [00:42<00:15,  5.43it/s]\u001b[A\nOpen files to import:  73%|███████▎  | 227/309 [00:43<00:14,  5.48it/s]\u001b[A\nOpen files to import:  74%|███████▍  | 228/309 [00:43<00:13,  6.11it/s]\u001b[A\nOpen files to import:  74%|███████▍  | 229/309 [00:43<00:13,  5.81it/s]\u001b[A\nOpen files to import:  74%|███████▍  | 230/309 [00:43<00:14,  5.45it/s]\u001b[A\nOpen files to import:  75%|███████▍  | 231/309 [00:43<00:12,  6.17it/s]\u001b[A\nOpen files to import:  75%|███████▌  | 232/309 [00:43<00:12,  6.28it/s]\u001b[A\nOpen files to import:  75%|███████▌  | 233/309 [00:44<00:13,  5.65it/s]\u001b[A\nOpen files to import:  76%|███████▌  | 234/309 [00:44<00:13,  5.68it/s]\u001b[A\nOpen files to import:  76%|███████▌  | 235/309 [00:44<00:11,  6.21it/s]\u001b[A\nOpen files to import:  76%|███████▋  | 236/309 [00:44<00:12,  5.76it/s]\u001b[A\nOpen files to import:  77%|███████▋  | 237/309 [00:44<00:12,  5.67it/s]\u001b[A\nOpen files to import:  77%|███████▋  | 238/309 [00:44<00:11,  6.38it/s]\u001b[A\nOpen files to import:  77%|███████▋  | 239/309 [00:45<00:10,  6.55it/s]\u001b[A\nOpen files to import:  78%|███████▊  | 240/309 [00:45<00:12,  5.42it/s]\u001b[A\nOpen files to import:  78%|███████▊  | 241/309 [00:45<00:11,  6.07it/s]\u001b[A\nOpen files to import:  78%|███████▊  | 242/309 [00:45<00:10,  6.36it/s]\u001b[A\nOpen files to import:  79%|███████▊  | 243/309 [00:45<00:10,  6.57it/s]\u001b[A\nOpen files to import:  79%|███████▉  | 244/309 [00:45<00:09,  7.06it/s]\u001b[A\nOpen files to import:  79%|███████▉  | 245/309 [00:45<00:09,  6.87it/s]\u001b[A\nOpen files to import:  80%|███████▉  | 246/309 [00:46<00:09,  6.90it/s]\u001b[A\nOpen files to import:  80%|███████▉  | 247/309 [00:46<00:08,  7.44it/s]\u001b[A\nOpen files to import:  80%|████████  | 248/309 [00:46<00:08,  7.22it/s]\u001b[A\nOpen files to import:  81%|████████  | 249/309 [00:46<00:08,  7.03it/s]\u001b[A\nOpen files to import:  81%|████████  | 250/309 [00:46<00:09,  6.46it/s]\u001b[A\nOpen files to import:  81%|████████  | 251/309 [00:46<00:08,  6.57it/s]\u001b[A\nOpen files to import:  82%|████████▏ | 252/309 [00:46<00:08,  7.06it/s]\u001b[A\nOpen files to import:  82%|████████▏ | 253/309 [00:47<00:07,  7.07it/s]\u001b[A\nOpen files to import:  82%|████████▏ | 254/309 [00:47<00:07,  6.91it/s]\u001b[A\nOpen files to import:  83%|████████▎ | 255/309 [00:47<00:07,  7.43it/s]\u001b[A\nOpen files to import:  83%|████████▎ | 256/309 [00:47<00:07,  6.64it/s]\u001b[A\nOpen files to import:  83%|████████▎ | 257/309 [00:47<00:07,  6.58it/s]\u001b[A\nOpen files to import:  83%|████████▎ | 258/309 [00:47<00:08,  6.27it/s]\u001b[A\nOpen files to import:  84%|████████▍ | 259/309 [00:48<00:07,  6.36it/s]\u001b[A\nOpen files to import:  84%|████████▍ | 260/309 [00:48<00:07,  6.91it/s]\u001b[A\nOpen files to import:  84%|████████▍ | 261/309 [00:48<00:06,  7.01it/s]\u001b[A\nOpen files to import:  85%|████████▍ | 262/309 [00:48<00:06,  6.89it/s]\u001b[A\nOpen files to import:  85%|████████▌ | 263/309 [00:48<00:06,  7.09it/s]\u001b[A\nOpen files to import:  85%|████████▌ | 264/309 [00:48<00:06,  6.89it/s]\u001b[A\nOpen files to import:  86%|████████▌ | 265/309 [00:48<00:06,  6.99it/s]\u001b[A\nOpen files to import:  86%|████████▌ | 266/309 [00:49<00:05,  7.39it/s]\u001b[A\nOpen files to import:  86%|████████▋ | 267/309 [00:49<00:05,  7.27it/s]\u001b[A\nOpen files to import:  87%|████████▋ | 268/309 [00:49<00:05,  7.42it/s]\u001b[A\nOpen files to import:  87%|████████▋ | 269/309 [00:49<00:05,  7.71it/s]\u001b[A\nOpen files to import:  87%|████████▋ | 270/309 [00:49<00:05,  7.38it/s]\u001b[A\nOpen files to import:  88%|████████▊ | 271/309 [00:49<00:05,  7.48it/s]\u001b[A\nOpen files to import:  88%|████████▊ | 272/309 [00:49<00:04,  7.85it/s]\u001b[A\nOpen files to import:  88%|████████▊ | 273/309 [00:49<00:04,  7.47it/s]\u001b[A\nOpen files to import:  89%|████████▊ | 274/309 [00:50<00:04,  7.56it/s]\u001b[A\nOpen files to import:  89%|████████▉ | 275/309 [00:50<00:04,  7.72it/s]\u001b[A\nOpen files to import:  89%|████████▉ | 276/309 [00:50<00:04,  7.42it/s]\u001b[A\nOpen files to import:  90%|████████▉ | 277/309 [00:50<00:04,  7.71it/s]\u001b[A\nOpen files to import:  90%|████████▉ | 278/309 [00:50<00:03,  8.00it/s]\u001b[A\nOpen files to import:  90%|█████████ | 279/309 [00:50<00:03,  7.58it/s]\u001b[A\nOpen files to import:  91%|█████████ | 280/309 [00:50<00:03,  7.73it/s]\u001b[A\nOpen files to import:  91%|█████████ | 281/309 [00:50<00:03,  8.02it/s]\u001b[A\nOpen files to import:  91%|█████████▏| 282/309 [00:51<00:03,  7.50it/s]\u001b[A\nOpen files to import:  92%|█████████▏| 283/309 [00:51<00:03,  7.68it/s]\u001b[A\nOpen files to import:  92%|█████████▏| 284/309 [00:51<00:03,  7.81it/s]\u001b[A\nOpen files to import:  92%|█████████▏| 285/309 [00:51<00:03,  6.93it/s]\u001b[A\nOpen files to import:  93%|█████████▎| 286/309 [00:51<00:03,  6.75it/s]\u001b[A\nOpen files to import:  93%|█████████▎| 287/309 [00:51<00:03,  6.44it/s]\u001b[A\nOpen files to import:  93%|█████████▎| 288/309 [00:52<00:03,  6.42it/s]\u001b[A\nOpen files to import:  94%|█████████▎| 289/309 [00:52<00:02,  6.74it/s]\u001b[A\nOpen files to import:  94%|█████████▍| 290/309 [00:52<00:03,  5.42it/s]\u001b[A\nOpen files to import:  94%|█████████▍| 291/309 [00:52<00:03,  5.81it/s]\u001b[A\nOpen files to import:  94%|█████████▍| 292/309 [00:52<00:03,  5.62it/s]\u001b[A\nOpen files to import:  95%|█████████▍| 293/309 [00:52<00:02,  5.97it/s]\u001b[A\nOpen files to import:  95%|█████████▌| 294/309 [00:53<00:02,  6.22it/s]\u001b[A\nOpen files to import:  95%|█████████▌| 295/309 [00:53<00:02,  6.41it/s]\u001b[A\nOpen files to import:  96%|█████████▌| 296/309 [00:53<00:01,  6.84it/s]\u001b[A\nOpen files to import:  96%|█████████▌| 297/309 [00:53<00:01,  6.94it/s]\u001b[A\nOpen files to import:  96%|█████████▋| 298/309 [00:53<00:01,  6.84it/s]\u001b[A\nOpen files to import:  97%|█████████▋| 299/309 [00:53<00:01,  7.12it/s]\u001b[A\nOpen files to import:  97%|█████████▋| 300/309 [00:53<00:01,  6.78it/s]\u001b[A\nOpen files to import:  97%|█████████▋| 301/309 [00:54<00:01,  7.13it/s]\u001b[A\nOpen files to import:  98%|█████████▊| 302/309 [00:54<00:00,  7.07it/s]\u001b[A\nOpen files to import:  98%|█████████▊| 303/309 [00:54<00:00,  6.64it/s]\u001b[A\nOpen files to import:  98%|█████████▊| 304/309 [00:54<00:00,  6.87it/s]\u001b[A\nOpen files to import:  99%|█████████▊| 305/309 [00:54<00:00,  6.68it/s]\u001b[A\nOpen files to import:  99%|█████████▉| 306/309 [00:54<00:00,  6.92it/s]\u001b[A\nOpen files to import: 100%|██████████| 309/309 [00:54<00:00,  5.63it/s]\nImport data from each dataset:  40%|████      | 2/5 [02:42<04:10, 83.44s/it]\nOpen files to import:   0%|          | 0/4 [00:00<?, ?it/s]\u001b[A\nOpen files to import: 100%|██████████| 4/4 [00:00<00:00, 18.34it/s]\nImport data from each dataset:  60%|██████    | 3/5 [02:42<01:56, 58.49s/it]\nOpen files to import:   0%|          | 0/7 [00:00<?, ?it/s]\u001b[A\nOpen files to import:  14%|█▍        | 1/7 [00:00<00:01,  4.56it/s]\u001b[A\nOpen files to import:  29%|██▊       | 2/7 [00:00<00:00,  5.19it/s]\u001b[A\nOpen files to import:  43%|████▎     | 3/7 [00:00<00:00,  5.24it/s]\u001b[A\nOpen files to import:  57%|█████▋    | 4/7 [00:00<00:00,  5.79it/s]\u001b[A\nOpen files to import:  71%|███████▏  | 5/7 [00:00<00:00,  6.30it/s]\u001b[A\nOpen files to import: 100%|██████████| 7/7 [00:01<00:00,  6.97it/s]\nImport data from each dataset:  80%|████████  | 4/5 [02:44<00:41, 41.26s/it]\nOpen files to import:   0%|          | 0/4 [00:00<?, ?it/s]\u001b[AUrban Observatory data up-to-date!\n\nOpen files to import: 100%|██████████| 4/4 [00:06<00:00,  1.55s/it]\nImport data from each dataset: 100%|██████████| 5/5 [02:52<00:00, 34.46s/it]\n"
    }
   ],
   "metadata": {},
   "execution_count": 139
  },
  {
   "source": [
    "all_data = pd.concat(dataset_data, axis=0, ignore_index=True, sort=False)\n",
    "all_data.sort_values(by=['DateTime'], inplace=True)\n",
    "cols = ['DateTime']  + [col for col in all_data if col != 'DateTime']\n",
    "all_data = all_data[cols]\n",
    "all_data = all_data.reset_index(drop=True)\n",
    "\n",
    "del selected_datasets, selected, cols, dataset_data, dataset"
   ],
   "cell_type": "code",
   "outputs": [],
   "metadata": {},
   "execution_count": 140
  },
  {
   "source": [
    "with warnings.catch_warnings():\n",
    "    warnings.filterwarnings('ignore', r'All-NaN (slice|axis) encountered')\n",
    "    warnings.filterwarnings('ignore', r'Degrees of freedom <= 0 for slice.')\n",
    "    ave_cols = []\n",
    "    for col in all_data.columns[1:].to_list():\n",
    "        ave_col = info['parameters'].query('parameter == \"' + col + '\"')['parameter_ave'][0]\n",
    "        if ave_col != col:\n",
    "            if ave_col not in ave_cols:\n",
    "                cols = info['parameters'].query('parameter_ave == \"' + ave_col + '\"')['parameter'].to_list()\n",
    "                all_data[ave_col] = all_data[cols].mean(axis=1)\n",
    "                if len(cols) > 2:\n",
    "                    all_data[ave_col + \"_err\"] = np.nanstd(all_data[cols], axis=1)\n",
    "                elif len(cols) == 2:\n",
    "                    all_data[ave_col + \"_err\"] = np.abs((all_data[cols[0]] - all_data[cols[1]])/2)\n",
    "                else:\n",
    "                    all_data[ave_col + \"_err\"] = 0\n",
    "                ave_cols.append(info['parameters'].query('parameter == \"' + col + '\"')['parameter_ave'][0])\n",
    "\n",
    "del ave_col, col, ave_cols, cols"
   ],
   "cell_type": "code",
   "outputs": [],
   "metadata": {},
   "execution_count": 141
  },
  {
   "source": [
    "all_data"
   ],
   "cell_type": "code",
   "outputs": [
    {
     "output_type": "execute_result",
     "data": {
      "text/plain": "                        DateTime  BES_A1__V  BES_A2__V  BES_A3__V  BES_A4__V  \\\n0      2019-06-04 13:03:45+00:00       44.0      219.2      213.0      221.8   \n1      2019-06-04 13:04:45+00:00       95.1      231.7      244.1      221.9   \n2      2019-06-04 13:05:45+00:00       64.9      217.5      225.8      222.2   \n3      2019-06-04 13:06:45+00:00       58.9      217.3      217.9      220.2   \n4      2019-06-04 13:07:45+00:00       58.9      208.6      217.5      221.2   \n...                          ...        ...        ...        ...        ...   \n400132 2020-02-13 16:10:21+00:00      187.3      214.7      175.0      193.8   \n400133 2020-02-13 16:11:21+00:00      186.8      214.4      175.0      193.5   \n400134 2020-02-13 16:12:21+00:00      186.9      214.9      174.8      193.3   \n400135 2020-02-13 16:13:21+00:00      187.0      214.7      174.4      193.6   \n400136 2020-02-13 16:14:21+00:00      187.3      214.6      175.1      193.4   \n\n        BES_B1__V  BES_B2__V  BES_B3__V  BES_B4__V  BES_C1__V  ...  \\\n0           288.2      289.0      328.2      329.1      245.9  ...   \n1           288.6      282.9      325.6      327.3      274.5  ...   \n2           288.4      289.3      329.5      329.5      248.4  ...   \n3           293.2      290.5      330.3      329.6      248.8  ...   \n4           297.8      291.0      330.4      329.7      248.6  ...   \n...           ...        ...        ...        ...        ...  ...   \n400132      244.9      155.4      205.3      131.3      234.2  ...   \n400133      244.9      155.3      205.0      131.0      234.1  ...   \n400134      245.0      155.5      205.1      131.0      234.3  ...   \n400135      244.9      155.6      205.1      131.1      234.4  ...   \n400136      244.9      155.4      205.0      131.2      234.5  ...   \n\n        PRESSURE_BES_ave  PRESSURE_BES_ave_err  Inlet_Temp_ave  \\\n0               0.666667              3.299832             NaN   \n1               0.666667              3.299832             NaN   \n2               0.666667              3.299832             NaN   \n3               0.666667              3.299832             NaN   \n4               0.666667              3.299832             NaN   \n...                  ...                   ...             ...   \n400132          3.000000              3.741657             NaN   \n400133          3.000000              2.828427             NaN   \n400134          3.000000              2.828427             NaN   \n400135          4.000000              3.741657             NaN   \n400136          3.333333              4.189935             NaN   \n\n        Inlet_Temp_ave_err  BOD5_ave  BOD5_ave_err  tCOD_ave  tCOD_ave_err  \\\n0                      NaN       NaN           NaN       NaN           NaN   \n1                      NaN       NaN           NaN       NaN           NaN   \n2                      NaN       NaN           NaN       NaN           NaN   \n3                      NaN       NaN           NaN       NaN           NaN   \n4                      NaN       NaN           NaN       NaN           NaN   \n...                    ...       ...           ...       ...           ...   \n400132                 NaN       NaN           NaN       NaN           NaN   \n400133                 NaN       NaN           NaN       NaN           NaN   \n400134                 NaN       NaN           NaN       NaN           NaN   \n400135                 NaN       NaN           NaN       NaN           NaN   \n400136                 NaN       NaN           NaN       NaN           NaN   \n\n        sCOD_ave  sCOD_ave_err  \n0            NaN           NaN  \n1            NaN           NaN  \n2            NaN           NaN  \n3            NaN           NaN  \n4            NaN           NaN  \n...          ...           ...  \n400132       NaN           NaN  \n400133       NaN           NaN  \n400134       NaN           NaN  \n400135       NaN           NaN  \n400136       NaN           NaN  \n\n[400137 rows x 140 columns]",
      "text/html": "<div>\n<style scoped>\n    .dataframe tbody tr th:only-of-type {\n        vertical-align: middle;\n    }\n\n    .dataframe tbody tr th {\n        vertical-align: top;\n    }\n\n    .dataframe thead th {\n        text-align: right;\n    }\n</style>\n<table border=\"1\" class=\"dataframe\">\n  <thead>\n    <tr style=\"text-align: right;\">\n      <th></th>\n      <th>DateTime</th>\n      <th>BES_A1__V</th>\n      <th>BES_A2__V</th>\n      <th>BES_A3__V</th>\n      <th>BES_A4__V</th>\n      <th>BES_B1__V</th>\n      <th>BES_B2__V</th>\n      <th>BES_B3__V</th>\n      <th>BES_B4__V</th>\n      <th>BES_C1__V</th>\n      <th>...</th>\n      <th>PRESSURE_BES_ave</th>\n      <th>PRESSURE_BES_ave_err</th>\n      <th>Inlet_Temp_ave</th>\n      <th>Inlet_Temp_ave_err</th>\n      <th>BOD5_ave</th>\n      <th>BOD5_ave_err</th>\n      <th>tCOD_ave</th>\n      <th>tCOD_ave_err</th>\n      <th>sCOD_ave</th>\n      <th>sCOD_ave_err</th>\n    </tr>\n  </thead>\n  <tbody>\n    <tr>\n      <th>0</th>\n      <td>2019-06-04 13:03:45+00:00</td>\n      <td>44.0</td>\n      <td>219.2</td>\n      <td>213.0</td>\n      <td>221.8</td>\n      <td>288.2</td>\n      <td>289.0</td>\n      <td>328.2</td>\n      <td>329.1</td>\n      <td>245.9</td>\n      <td>...</td>\n      <td>0.666667</td>\n      <td>3.299832</td>\n      <td>NaN</td>\n      <td>NaN</td>\n      <td>NaN</td>\n      <td>NaN</td>\n      <td>NaN</td>\n      <td>NaN</td>\n      <td>NaN</td>\n      <td>NaN</td>\n    </tr>\n    <tr>\n      <th>1</th>\n      <td>2019-06-04 13:04:45+00:00</td>\n      <td>95.1</td>\n      <td>231.7</td>\n      <td>244.1</td>\n      <td>221.9</td>\n      <td>288.6</td>\n      <td>282.9</td>\n      <td>325.6</td>\n      <td>327.3</td>\n      <td>274.5</td>\n      <td>...</td>\n      <td>0.666667</td>\n      <td>3.299832</td>\n      <td>NaN</td>\n      <td>NaN</td>\n      <td>NaN</td>\n      <td>NaN</td>\n      <td>NaN</td>\n      <td>NaN</td>\n      <td>NaN</td>\n      <td>NaN</td>\n    </tr>\n    <tr>\n      <th>2</th>\n      <td>2019-06-04 13:05:45+00:00</td>\n      <td>64.9</td>\n      <td>217.5</td>\n      <td>225.8</td>\n      <td>222.2</td>\n      <td>288.4</td>\n      <td>289.3</td>\n      <td>329.5</td>\n      <td>329.5</td>\n      <td>248.4</td>\n      <td>...</td>\n      <td>0.666667</td>\n      <td>3.299832</td>\n      <td>NaN</td>\n      <td>NaN</td>\n      <td>NaN</td>\n      <td>NaN</td>\n      <td>NaN</td>\n      <td>NaN</td>\n      <td>NaN</td>\n      <td>NaN</td>\n    </tr>\n    <tr>\n      <th>3</th>\n      <td>2019-06-04 13:06:45+00:00</td>\n      <td>58.9</td>\n      <td>217.3</td>\n      <td>217.9</td>\n      <td>220.2</td>\n      <td>293.2</td>\n      <td>290.5</td>\n      <td>330.3</td>\n      <td>329.6</td>\n      <td>248.8</td>\n      <td>...</td>\n      <td>0.666667</td>\n      <td>3.299832</td>\n      <td>NaN</td>\n      <td>NaN</td>\n      <td>NaN</td>\n      <td>NaN</td>\n      <td>NaN</td>\n      <td>NaN</td>\n      <td>NaN</td>\n      <td>NaN</td>\n    </tr>\n    <tr>\n      <th>4</th>\n      <td>2019-06-04 13:07:45+00:00</td>\n      <td>58.9</td>\n      <td>208.6</td>\n      <td>217.5</td>\n      <td>221.2</td>\n      <td>297.8</td>\n      <td>291.0</td>\n      <td>330.4</td>\n      <td>329.7</td>\n      <td>248.6</td>\n      <td>...</td>\n      <td>0.666667</td>\n      <td>3.299832</td>\n      <td>NaN</td>\n      <td>NaN</td>\n      <td>NaN</td>\n      <td>NaN</td>\n      <td>NaN</td>\n      <td>NaN</td>\n      <td>NaN</td>\n      <td>NaN</td>\n    </tr>\n    <tr>\n      <th>...</th>\n      <td>...</td>\n      <td>...</td>\n      <td>...</td>\n      <td>...</td>\n      <td>...</td>\n      <td>...</td>\n      <td>...</td>\n      <td>...</td>\n      <td>...</td>\n      <td>...</td>\n      <td>...</td>\n      <td>...</td>\n      <td>...</td>\n      <td>...</td>\n      <td>...</td>\n      <td>...</td>\n      <td>...</td>\n      <td>...</td>\n      <td>...</td>\n      <td>...</td>\n      <td>...</td>\n    </tr>\n    <tr>\n      <th>400132</th>\n      <td>2020-02-13 16:10:21+00:00</td>\n      <td>187.3</td>\n      <td>214.7</td>\n      <td>175.0</td>\n      <td>193.8</td>\n      <td>244.9</td>\n      <td>155.4</td>\n      <td>205.3</td>\n      <td>131.3</td>\n      <td>234.2</td>\n      <td>...</td>\n      <td>3.000000</td>\n      <td>3.741657</td>\n      <td>NaN</td>\n      <td>NaN</td>\n      <td>NaN</td>\n      <td>NaN</td>\n      <td>NaN</td>\n      <td>NaN</td>\n      <td>NaN</td>\n      <td>NaN</td>\n    </tr>\n    <tr>\n      <th>400133</th>\n      <td>2020-02-13 16:11:21+00:00</td>\n      <td>186.8</td>\n      <td>214.4</td>\n      <td>175.0</td>\n      <td>193.5</td>\n      <td>244.9</td>\n      <td>155.3</td>\n      <td>205.0</td>\n      <td>131.0</td>\n      <td>234.1</td>\n      <td>...</td>\n      <td>3.000000</td>\n      <td>2.828427</td>\n      <td>NaN</td>\n      <td>NaN</td>\n      <td>NaN</td>\n      <td>NaN</td>\n      <td>NaN</td>\n      <td>NaN</td>\n      <td>NaN</td>\n      <td>NaN</td>\n    </tr>\n    <tr>\n      <th>400134</th>\n      <td>2020-02-13 16:12:21+00:00</td>\n      <td>186.9</td>\n      <td>214.9</td>\n      <td>174.8</td>\n      <td>193.3</td>\n      <td>245.0</td>\n      <td>155.5</td>\n      <td>205.1</td>\n      <td>131.0</td>\n      <td>234.3</td>\n      <td>...</td>\n      <td>3.000000</td>\n      <td>2.828427</td>\n      <td>NaN</td>\n      <td>NaN</td>\n      <td>NaN</td>\n      <td>NaN</td>\n      <td>NaN</td>\n      <td>NaN</td>\n      <td>NaN</td>\n      <td>NaN</td>\n    </tr>\n    <tr>\n      <th>400135</th>\n      <td>2020-02-13 16:13:21+00:00</td>\n      <td>187.0</td>\n      <td>214.7</td>\n      <td>174.4</td>\n      <td>193.6</td>\n      <td>244.9</td>\n      <td>155.6</td>\n      <td>205.1</td>\n      <td>131.1</td>\n      <td>234.4</td>\n      <td>...</td>\n      <td>4.000000</td>\n      <td>3.741657</td>\n      <td>NaN</td>\n      <td>NaN</td>\n      <td>NaN</td>\n      <td>NaN</td>\n      <td>NaN</td>\n      <td>NaN</td>\n      <td>NaN</td>\n      <td>NaN</td>\n    </tr>\n    <tr>\n      <th>400136</th>\n      <td>2020-02-13 16:14:21+00:00</td>\n      <td>187.3</td>\n      <td>214.6</td>\n      <td>175.1</td>\n      <td>193.4</td>\n      <td>244.9</td>\n      <td>155.4</td>\n      <td>205.0</td>\n      <td>131.2</td>\n      <td>234.5</td>\n      <td>...</td>\n      <td>3.333333</td>\n      <td>4.189935</td>\n      <td>NaN</td>\n      <td>NaN</td>\n      <td>NaN</td>\n      <td>NaN</td>\n      <td>NaN</td>\n      <td>NaN</td>\n      <td>NaN</td>\n      <td>NaN</td>\n    </tr>\n  </tbody>\n</table>\n<p>400137 rows × 140 columns</p>\n</div>"
     },
     "metadata": {},
     "execution_count": 142
    }
   ],
   "metadata": {},
   "execution_count": 142
  },
  {
   "source": [
    "chart_dfs = []\n",
    "for chart in tqdm(charts, desc = \"Assign data to chart DFs\"):\n",
    "    if info['charts'].loc[chart, 'chart_status'] == 'ON':\n",
    "        mask = (all_data['DateTime'] >= info['charts'].loc[chart, 'chart_range_start']) & (all_data['DateTime'] <= info['charts'].loc[chart, 'chart_range_end'])\n",
    "        df = all_data.loc[mask]\n",
    "        if info['charts'].loc[chart, 'chart_res'] != 0:\n",
    "            df = df.resample(\"\".join([str(info['charts'].loc[chart, 'chart_res']), 'T']), on='DateTime').mean()\n",
    "            df = df.reset_index()\n",
    "        else:\n",
    "            df = df.reset_index(drop=True)\n",
    "        chart_dfs.append(df)\n",
    "    else:\n",
    "        chart_dfs.append(\"\")\n",
    "\n",
    "del df, chart, mask, all_data"
   ],
   "cell_type": "code",
   "outputs": [
    {
     "output_type": "stream",
     "name": "stderr",
     "text": "Assign data to chart DFs: 100%|██████████| 5/5 [00:06<00:00,  1.26s/it]\n"
    }
   ],
   "metadata": {},
   "execution_count": 143
  },
  {
   "source": [
    "#Create plot dictionary\n",
    "plot_dict = dict(zip(info['parameters']['parameter'], info['parameters']['plot']))\n",
    "plot_dict2 = dict(zip(info['parameters_ave']['parameter_ave'], info['parameters_ave']['plot']))\n",
    "plot_dict.update(plot_dict2)\n",
    "\n",
    "chart_dfs_mlt = []\n",
    "for chart in charts:\n",
    "    if info['charts'].loc[chart, 'chart_status'] == 'ON':\n",
    "        data_cols = []\n",
    "        err_cols = [\"DateTime\"]\n",
    "\n",
    "        criteria = chart_dfs[chart].isna().all()\n",
    "        wide_data = chart_dfs[chart][criteria.index[-criteria]]\n",
    "\n",
    "        for col in wide_data.columns:\n",
    "            if not \"_err\" in col:\n",
    "                data_cols.append(col)\n",
    "            else:\n",
    "                err_cols.append(col)\n",
    "\n",
    "        df = wide_data[data_cols].melt(id_vars=['DateTime'], var_name='Parameter', value_name='Value')\n",
    "        df_err = wide_data[err_cols].melt(id_vars=['DateTime'], var_name='Parameter', value_name='Error')\n",
    "        \n",
    "        df = df.set_index(['DateTime', 'Parameter', df.groupby(['DateTime', 'Parameter']).cumcount()])\n",
    "        df_err['Parameter'] = df_err['Parameter'].str.replace(r'_err', '')\n",
    "        df_err = df_err.set_index(['DateTime', 'Parameter', df_err.groupby(['DateTime', 'Parameter']).cumcount()])\n",
    "        \n",
    "        df3 = (pd.concat([df, df_err],axis=1)\n",
    "        .sort_index(level=2)\n",
    "        .reset_index(level=2, drop=True)\n",
    "        .reset_index())\n",
    "        df3.sort_values(by=['DateTime', 'Parameter'], inplace=True)\n",
    "\n",
    "        #Assign plots\n",
    "        df3.loc[:,'Plot'] = df3['Parameter'].map(plot_dict)\n",
    "\n",
    "        chart_dfs_mlt.append(df3)\n",
    "    else:\n",
    "        chart_dfs_mlt.append(pd.DataFrame())\n",
    "\n",
    "del chart, data_cols, err_cols, col, df, df_err, df3, chart_dfs, plot_dict, plot_dict2, wide_data, criteria"
   ],
   "cell_type": "code",
   "outputs": [],
   "metadata": {},
   "execution_count": 144
  },
  {
   "source": [
    "chart_dfs_mlt"
   ],
   "cell_type": "code",
   "outputs": [
    {
     "output_type": "execute_result",
     "data": {
      "text/plain": "[                        DateTime     Parameter       Value      Error  \\\n 0      2020-02-10 16:20:21+00:00  BES_1__C_ave    4.232048   0.471564   \n 1      2020-02-10 16:20:21+00:00  BES_1__V_ave  243.533333  27.139434   \n 2      2020-02-10 16:20:21+00:00  BES_2__C_ave    3.886328   0.208353   \n 3      2020-02-10 16:20:21+00:00  BES_2__V_ave  223.633333  11.991478   \n 4      2020-02-10 16:20:21+00:00  BES_3__C_ave    3.859213   0.331301   \n ...                          ...           ...         ...        ...   \n 351283 2020-02-13 16:14:21+00:00    TEMP_MAT_2   11.000000        NaN   \n 351284 2020-02-13 16:14:21+00:00    TEMP_MAT_3   12.000000        NaN   \n 351285 2020-02-13 16:14:21+00:00  TEMP_MAT_ave   11.666667   0.471405   \n 351286 2020-02-13 16:14:21+00:00       TEMP_OS    8.300000        NaN   \n 351287 2020-02-13 16:14:21+00:00       TEMP_SP   11.000000        NaN   \n \n                       Plot  \n 0                BES_C_ave  \n 1                BES_V_ave  \n 2                BES_C_ave  \n 3                BES_V_ave  \n 4                BES_C_ave  \n ...                    ...  \n 351283  TEMP_PROCESS_indiv  \n 351284  TEMP_PROCESS_indiv  \n 351285    TEMP_PROCESS_ave  \n 351286          TEMP_indiv  \n 351287          TEMP_indiv  \n \n [351288 rows x 5 columns],\n                         DateTime     Parameter      Value     Error  \\\n 0      2020-01-30 16:20:00+00:00  BES_1__C_ave   7.812327  1.176366   \n 1      2020-01-30 16:20:00+00:00  BES_1__V_ave  26.506667  3.991006   \n 2      2020-01-30 16:20:00+00:00  BES_2__C_ave   7.163918  0.445490   \n 3      2020-01-30 16:20:00+00:00  BES_2__V_ave  24.306667  1.511449   \n 4      2020-01-30 16:20:00+00:00  BES_3__C_ave   6.208988  0.678031   \n ...                          ...           ...        ...       ...   \n 330537 2020-02-13 16:10:00+00:00    TEMP_MAT_2  11.800000       NaN   \n 330538 2020-02-13 16:10:00+00:00    TEMP_MAT_3  12.000000       NaN   \n 330539 2020-02-13 16:10:00+00:00  TEMP_MAT_ave  11.933333  0.094281   \n 330540 2020-02-13 16:10:00+00:00       TEMP_OS   8.260000       NaN   \n 330541 2020-02-13 16:10:00+00:00       TEMP_SP  11.000000       NaN   \n \n                       Plot  \n 0                BES_C_ave  \n 1                BES_V_ave  \n 2                BES_C_ave  \n 3                BES_V_ave  \n 4                BES_C_ave  \n ...                    ...  \n 330537  TEMP_PROCESS_indiv  \n 330538  TEMP_PROCESS_indiv  \n 330539    TEMP_PROCESS_ave  \n 330540          TEMP_indiv  \n 330541          TEMP_indiv  \n \n [330542 rows x 5 columns],\n                         DateTime     Parameter       Value      Error  \\\n 0      2019-06-04 12:00:00+00:00  BES_1__C_ave         NaN        NaN   \n 1      2019-06-04 12:00:00+00:00  BES_1__V_ave  384.320833  22.059613   \n 2      2019-06-04 12:00:00+00:00  BES_2__C_ave         NaN        NaN   \n 3      2019-06-04 12:00:00+00:00  BES_2__V_ave  362.151190  16.444433   \n 4      2019-06-04 12:00:00+00:00  BES_3__C_ave         NaN        NaN   \n ...                          ...           ...         ...        ...   \n 311197 2020-02-13 16:00:00+00:00        sCOD_2         NaN        NaN   \n 311198 2020-02-13 16:00:00+00:00      sCOD_ave         NaN        NaN   \n 311199 2020-02-13 16:00:00+00:00        tCOD_1         NaN        NaN   \n 311200 2020-02-13 16:00:00+00:00        tCOD_2         NaN        NaN   \n 311201 2020-02-13 16:00:00+00:00      tCOD_ave         NaN        NaN   \n \n              Plot  \n 0       BES_C_ave  \n 1       BES_V_ave  \n 2       BES_C_ave  \n 3       BES_V_ave  \n 4       BES_C_ave  \n ...           ...  \n 311197        COD  \n 311198        COD  \n 311199        COD  \n 311200        COD  \n 311201        COD  \n \n [311202 rows x 5 columns],\n                         DateTime     Parameter       Value      Error  \\\n 0      2019-06-04 12:00:00+00:00  BES_1__C_ave         NaN        NaN   \n 1      2019-06-04 12:00:00+00:00  BES_1__V_ave  384.320833  22.059613   \n 2      2019-06-04 12:00:00+00:00  BES_2__C_ave         NaN        NaN   \n 3      2019-06-04 12:00:00+00:00  BES_2__V_ave  362.151190  16.444433   \n 4      2019-06-04 12:00:00+00:00  BES_3__C_ave         NaN        NaN   \n ...                          ...           ...         ...        ...   \n 311197 2020-02-13 16:00:00+00:00        sCOD_2         NaN        NaN   \n 311198 2020-02-13 16:00:00+00:00      sCOD_ave         NaN        NaN   \n 311199 2020-02-13 16:00:00+00:00        tCOD_1         NaN        NaN   \n 311200 2020-02-13 16:00:00+00:00        tCOD_2         NaN        NaN   \n 311201 2020-02-13 16:00:00+00:00      tCOD_ave         NaN        NaN   \n \n              Plot  \n 0       BES_C_ave  \n 1       BES_V_ave  \n 2       BES_C_ave  \n 3       BES_V_ave  \n 4       BES_C_ave  \n ...           ...  \n 311197        COD  \n 311198        COD  \n 311199        COD  \n 311200        COD  \n 311201        COD  \n \n [311202 rows x 5 columns],\n Empty DataFrame\n Columns: []\n Index: []]"
     },
     "metadata": {},
     "execution_count": 145
    }
   ],
   "metadata": {},
   "execution_count": 145
  },
  {
   "source": [
    "plot_pars = []\n",
    "for chart in charts:\n",
    "    if info['charts'].loc[chart, 'chart_status'] == 'ON':\n",
    "        par_info1 = info['parameters'][info['parameters']['parameter'].isin(chart_dfs_mlt[chart].Parameter.unique())].drop(columns=[\"code\", \"parameter_ave\"])\n",
    "        par_info2 = info['parameters_ave'][info['parameters_ave']['parameter_ave'].isin(chart_dfs_mlt[chart].Parameter.unique())].rename(columns={\"parameter_ave\": \"parameter\"})\n",
    "        par_info_all = (par_info1.append(par_info2)).query('selected_chart_' + str(chart) + ' == 1')\n",
    "\n",
    "        #Convert colour id to rgb string\n",
    "        par_info_all['colour'].replace(info['colours']['rgb_str'].to_dict(), inplace=True)\n",
    "        par_info_all['fill'].replace(info['colours']['rgb_str'].to_dict(), inplace=True)\n",
    "\n",
    "        #Set defaults for NAs\n",
    "        par_info_all['colour'].fillna(info['colours'].query(\"theme == 'dark'\")['rgb_str'].to_list()[0], inplace=True)\n",
    "        par_info_all['fill'].fillna(info['colours'].query(\"theme == 'dark'\")['rgb_str'].to_list()[0], inplace=True)\n",
    "        par_info_all['shape'].fillna(1, inplace=True)\n",
    "        par_info_all['line_type'].fillna(\"solid\", inplace=True)\n",
    "        par_info_all['show_in_legend'].fillna(True, inplace=True)\n",
    "        \n",
    "        plot_pars.append(par_info_all)\n",
    "    else:\n",
    "        plot_pars.append(pd.DataFrame())\n",
    "plot_pars\n",
    "\n",
    "del chart, par_info1, par_info2, par_info_all"
   ],
   "cell_type": "code",
   "outputs": [],
   "metadata": {},
   "execution_count": 146
  },
  {
   "source": [
    "#Export data to temp files\n",
    "if not os.path.exists(\"images\"):\n",
    "    os.mkdir(\"imaTemp_Data\n",
    "for A in info:\n",
    "    info[A].to_csv(\"Temp_Data/info_\" + str(A) + \".csv\", encoding='utf-8')\n",
    "for i, A in enumerate(chart_dfs_mlt):\n",
    "    A.to_csv(\"Temp_Data/chart_dfs_mlt_\" + str(i) + \".csv\", encoding='utf-8', index=False)\n",
    "for i, A in enumerate(plot_pars):\n",
    "    A.to_csv(\"Temp_Data/plot_pars_\" + str(i) + \".csv\", encoding='utf-8')"
   ],
   "cell_type": "code",
   "outputs": [],
   "metadata": {},
   "execution_count": 147
  }
 ],
 "metadata": {
  "kernelspec": {
   "display_name": "Python 3",
   "language": "python",
   "name": "python3"
  },
  "language_info": {
   "codemirror_mode": {
    "name": "ipython",
    "version": 3
   },
   "file_extension": ".py",
   "mimetype": "text/x-python",
   "name": "python",
   "nbconvert_exporter": "python",
   "pygments_lexer": "ipython3",
   "version": "3.7.5-final"
  },
  "varInspector": {
   "cols": {
    "lenName": 16,
    "lenType": 16,
    "lenVar": 40
   },
   "kernels_config": {
    "python": {
     "delete_cmd_postfix": "",
     "delete_cmd_prefix": "del ",
     "library": "var_list.py",
     "varRefreshCmd": "print(var_dic_list())"
    },
    "r": {
     "delete_cmd_postfix": ") ",
     "delete_cmd_prefix": "rm(",
     "library": "var_list.r",
     "varRefreshCmd": "cat(var_dic_list()) "
    }
   },
   "position": {
    "height": "250px",
    "left": "1330px",
    "right": "20px",
    "top": "109px",
    "width": "575px"
   },
   "types_to_exclude": [
    "module",
    "function",
    "builtin_function_or_method",
    "instance",
    "_Feature"
   ],
   "window_display": true
  }
 },
 "nbformat": 4,
 "nbformat_minor": 4
}