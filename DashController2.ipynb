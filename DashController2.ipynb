{
 "cells": [
  {
   "cell_type": "markdown",
   "execution_count": null,
   "metadata": {},
   "outputs": [],
   "source": [
    "![ToOL-PRO-BES.png](Info/ToOL-PRO-BES.png)"
   ]
  },
  {
   "cell_type": "markdown",
   "execution_count": null,
   "metadata": {},
   "outputs": [],
   "source": [
    "## Import packages"
   ]
  },
  {
   "cell_type": "code",
   "execution_count": 1,
   "metadata": {},
   "outputs": [],
   "source": [
    "import pandas as pd\n",
    "from tqdm.autonotebook import trange, tqdm\n",
    "\n",
    "from plotly.subplots import make_subplots\n",
    "import plotly.graph_objects as go\n",
    "import datetime\n",
    "from datetime import datetime, timedelta, timezone\n",
    "from pytz import timezone\n",
    "\n",
    "import os\n",
    "import re\n",
    "\n",
    "import dash\n",
    "import dash_core_components as dcc\n",
    "import dash_html_components as html\n",
    "from dash.dependencies import Input, Output, State\n",
    "import time\n",
    "import numpy as np\n",
    "import math\n",
    "import seaborn as sns\n",
    "\n",
    "import requests\n",
    "import io\n",
    "import warnings"
   ]
  },
  {
   "cell_type": "markdown",
   "execution_count": null,
   "metadata": {},
   "outputs": [],
   "source": [
    "## Setup from Info.xlsx"
   ]
  },
  {
   "cell_type": "code",
   "execution_count": 2,
   "metadata": {},
   "outputs": [
    {
     "name": "stdout",
     "output_type": "stream",
     "text": "setup | datasets | charts | plots | parameters | parameters_ave | colours\n"
    }
   ],
   "source": [
    "info = pd.read_excel(\"Info/Info.xlsx\", sheet_name=None, index_col=0)\n",
    "print(*info.keys(), sep = \" | \")"
   ]
  },
  {
   "cell_type": "markdown",
   "execution_count": null,
   "metadata": {},
   "outputs": [],
   "source": [
    "## Functions"
   ]
  },
  {
   "cell_type": "code",
   "execution_count": 3,
   "metadata": {},
   "outputs": [
    {
     "data": {
      "text/html": "<div>\n<style scoped>\n    .dataframe tbody tr th:only-of-type {\n        vertical-align: middle;\n    }\n\n    .dataframe tbody tr th {\n        vertical-align: top;\n    }\n\n    .dataframe thead th {\n        text-align: right;\n    }\n</style>\n<table border=\"1\" class=\"dataframe\">\n  <thead>\n    <tr style=\"text-align: right;\">\n      <th></th>\n      <th>value</th>\n    </tr>\n    <tr>\n      <th>id</th>\n      <th></th>\n    </tr>\n  </thead>\n  <tbody>\n    <tr>\n      <th>project</th>\n      <td>ToOLTuBES v2</td>\n    </tr>\n    <tr>\n      <th>date_start_utc</th>\n      <td>2019-06-04 13:03:17</td>\n    </tr>\n    <tr>\n      <th>date_end_utc</th>\n      <td>2020-02-07 16:52:23.635327+00:00</td>\n    </tr>\n  </tbody>\n</table>\n</div>",
      "text/plain": "                                           value\nid                                              \nproject                             ToOLTuBES v2\ndate_start_utc               2019-06-04 13:03:17\ndate_end_utc    2020-02-07 16:52:23.635327+00:00"
     },
     "execution_count": 3,
     "metadata": {},
     "output_type": "execute_result"
    }
   ],
   "source": [
    "# Date Functions\n",
    "def set_date(date_str, old_tz, dt_format = \"%d/%m/%Y %H:%M:%S\"):\n",
    "    if date_str == 'NaT':\n",
    "        return pd.NaT\n",
    "    else:\n",
    "        datetime_set_naive = datetime.strptime(date_str, dt_format)\n",
    "        datetime_set_old = timezone(old_tz).localize(datetime_set_naive)\n",
    "        datetime_set_utc = datetime_set_old.astimezone(timezone('UTC'))\n",
    "        return datetime_set_utc\n",
    "\n",
    "def date_parser(date_, time_, dt_format = \"%d/%m/%Y %H:%M:%S\"):\n",
    "    return set_date(date_ + \" \" + time_, 'UTC', dt_format)\n",
    "\n",
    "def date_parserYMD(date_, time_, dt_format = \"%Y-%m-%d %H:%M:%S\"):\n",
    "    return set_date(date_ + \" \" + time_, 'UTC', dt_format)\n",
    "\n",
    "\n",
    "# Experiment start/end date\n",
    "date_start = set_date(str(info['setup'].loc['date_start_utc','value']), \"UTC\", \"%Y-%m-%d %H:%M:%S\")\n",
    "if pd.isna(info['setup'].loc['date_end_utc','value']):\n",
    "    date_now = datetime.now(timezone('UTC'))\n",
    "    info['setup'].loc['date_end_utc','value'] = date_now\n",
    "else:\n",
    "    date_now = set_date(str(info['setup'].loc['date_end_utc','value']), \"UTC\", \"%Y-%m-%d %H:%M:%S\")\n",
    "\n",
    "# Date Functions continued\n",
    "def date_range(window=-1, start=date_start, end=date_now):\n",
    "    if pd.isna(start):\n",
    "        start = date_start\n",
    "    if pd.isna(end):\n",
    "        end = date_now\n",
    "    if window != -1:\n",
    "        if not pd.isna(window):\n",
    "            start = end - timedelta(days=window)\n",
    "    return start, end\n",
    "\n",
    "info['setup']"
   ]
  },
  {
   "cell_type": "markdown",
   "execution_count": null,
   "metadata": {},
   "outputs": [],
   "source": [
    "## Process Information sheets from Info.xlsx\n",
    "\n",
    "### Datasets:"
   ]
  },
  {
   "cell_type": "code",
   "execution_count": 4,
   "metadata": {},
   "outputs": [
    {
     "data": {
      "text/html": "<div>\n<style scoped>\n    .dataframe tbody tr th:only-of-type {\n        vertical-align: middle;\n    }\n\n    .dataframe tbody tr th {\n        vertical-align: top;\n    }\n\n    .dataframe thead th {\n        text-align: right;\n    }\n</style>\n<table border=\"1\" class=\"dataframe\">\n  <thead>\n    <tr style=\"text-align: right;\">\n      <th></th>\n      <th>folder</th>\n      <th>selection</th>\n      <th>melt</th>\n      <th>data_folder_path</th>\n      <th>supp_data_filepath</th>\n      <th>file_pat</th>\n      <th>skiprows</th>\n      <th>Slim</th>\n      <th>Del_unit_rows</th>\n      <th>Add_blank_rows</th>\n    </tr>\n    <tr>\n      <th>dataset</th>\n      <th></th>\n      <th></th>\n      <th></th>\n      <th></th>\n      <th></th>\n      <th></th>\n      <th></th>\n      <th></th>\n      <th></th>\n      <th></th>\n    </tr>\n  </thead>\n  <tbody>\n    <tr>\n      <th>UO</th>\n      <td>1</td>\n      <td>UO.wide</td>\n      <td>UO.wide</td>\n      <td>C:/Users/Martin/Google Drive/ToOLTuBES/LAB/Dat...</td>\n      <td>C:/Users/Martin/Google Drive/ToOLTuBES/LAB/Dat...</td>\n      <td>.csv</td>\n      <td>0</td>\n      <td>1.0</td>\n      <td>NaN</td>\n      <td>1.0</td>\n    </tr>\n    <tr>\n      <th>NWL</th>\n      <td>1</td>\n      <td>NWL</td>\n      <td>NWL</td>\n      <td>C:/Users/Martin/Google Drive/ToOLTuBES/LAB/Dat...</td>\n      <td>NaN</td>\n      <td>.xlsx</td>\n      <td>2</td>\n      <td>NaN</td>\n      <td>1.0</td>\n      <td>NaN</td>\n    </tr>\n    <tr>\n      <th>Skid</th>\n      <td>1</td>\n      <td>Skid</td>\n      <td>Skid.ave</td>\n      <td>C:/Users/Martin/Google Drive/BEWISE_shared/Ski...</td>\n      <td>NaN</td>\n      <td>.CSV</td>\n      <td>2</td>\n      <td>NaN</td>\n      <td>NaN</td>\n      <td>1.0</td>\n    </tr>\n    <tr>\n      <th>Skid</th>\n      <td>2</td>\n      <td>Skid</td>\n      <td>Skid.ave</td>\n      <td>C:/Users/Martin/Google Drive/BEWISE_shared/Ski...</td>\n      <td>NaN</td>\n      <td>.CSV</td>\n      <td>3</td>\n      <td>NaN</td>\n      <td>NaN</td>\n      <td>1.0</td>\n    </tr>\n    <tr>\n      <th>SampLog</th>\n      <td>1</td>\n      <td>SampLog.wide</td>\n      <td>SampLog.wide.ave</td>\n      <td>C:/Users/Martin/Google Drive/BEWISE_shared/Sam...</td>\n      <td>NaN</td>\n      <td>.csv</td>\n      <td>0</td>\n      <td>1.0</td>\n      <td>NaN</td>\n      <td>NaN</td>\n    </tr>\n    <tr>\n      <th>Sensor</th>\n      <td>1</td>\n      <td>SENSOR</td>\n      <td>SENSOR</td>\n      <td>C:/Users/Martin/Google Drive/ToOLTuBESv2/LAB/T...</td>\n      <td>NaN</td>\n      <td>\\d\\d_\\d\\d_\\d\\d\\d\\d\\.csv</td>\n      <td>0</td>\n      <td>NaN</td>\n      <td>NaN</td>\n      <td>NaN</td>\n    </tr>\n    <tr>\n      <th>Events</th>\n      <td>1</td>\n      <td>EV.wide</td>\n      <td>EV.ave</td>\n      <td>C:/Users/Martin/Google Drive/ToOLTuBESv2/LAB/T...</td>\n      <td>C:/Users/Martin/Google Drive/ToOLTuBESv2/LAB/T...</td>\n      <td>.csv</td>\n      <td>0</td>\n      <td>NaN</td>\n      <td>NaN</td>\n      <td>NaN</td>\n    </tr>\n  </tbody>\n</table>\n</div>",
      "text/plain": "         folder     selection              melt  \\\ndataset                                           \nUO            1       UO.wide           UO.wide   \nNWL           1           NWL               NWL   \nSkid          1          Skid          Skid.ave   \nSkid          2          Skid          Skid.ave   \nSampLog       1  SampLog.wide  SampLog.wide.ave   \nSensor        1        SENSOR            SENSOR   \nEvents        1       EV.wide            EV.ave   \n\n                                          data_folder_path  \\\ndataset                                                      \nUO       C:/Users/Martin/Google Drive/ToOLTuBES/LAB/Dat...   \nNWL      C:/Users/Martin/Google Drive/ToOLTuBES/LAB/Dat...   \nSkid     C:/Users/Martin/Google Drive/BEWISE_shared/Ski...   \nSkid     C:/Users/Martin/Google Drive/BEWISE_shared/Ski...   \nSampLog  C:/Users/Martin/Google Drive/BEWISE_shared/Sam...   \nSensor   C:/Users/Martin/Google Drive/ToOLTuBESv2/LAB/T...   \nEvents   C:/Users/Martin/Google Drive/ToOLTuBESv2/LAB/T...   \n\n                                        supp_data_filepath  \\\ndataset                                                      \nUO       C:/Users/Martin/Google Drive/ToOLTuBES/LAB/Dat...   \nNWL                                                    NaN   \nSkid                                                   NaN   \nSkid                                                   NaN   \nSampLog                                                NaN   \nSensor                                                 NaN   \nEvents   C:/Users/Martin/Google Drive/ToOLTuBESv2/LAB/T...   \n\n                        file_pat  skiprows  Slim  Del_unit_rows  \\\ndataset                                                           \nUO                          .csv         0   1.0            NaN   \nNWL                        .xlsx         2   NaN            1.0   \nSkid                        .CSV         2   NaN            NaN   \nSkid                        .CSV         3   NaN            NaN   \nSampLog                     .csv         0   1.0            NaN   \nSensor   \\d\\d_\\d\\d_\\d\\d\\d\\d\\.csv         0   NaN            NaN   \nEvents                      .csv         0   NaN            NaN   \n\n         Add_blank_rows  \ndataset                  \nUO                  1.0  \nNWL                 NaN  \nSkid                1.0  \nSkid                1.0  \nSampLog             NaN  \nSensor              NaN  \nEvents              NaN  "
     },
     "execution_count": 4,
     "metadata": {},
     "output_type": "execute_result"
    }
   ],
   "source": [
    "info['datasets']"
   ]
  },
  {
   "cell_type": "markdown",
   "execution_count": null,
   "metadata": {},
   "outputs": [],
   "source": [
    "### Chartxs:"
   ]
  },
  {
   "cell_type": "code",
   "execution_count": 5,
   "metadata": {},
   "outputs": [
    {
     "data": {
      "text/html": "<div>\n<style scoped>\n    .dataframe tbody tr th:only-of-type {\n        vertical-align: middle;\n    }\n\n    .dataframe tbody tr th {\n        vertical-align: top;\n    }\n\n    .dataframe thead th {\n        text-align: right;\n    }\n</style>\n<table border=\"1\" class=\"dataframe\">\n  <thead>\n    <tr style=\"text-align: right;\">\n      <th></th>\n      <th>chart</th>\n      <th>chart_status</th>\n      <th>chart_res</th>\n      <th>chart_range_window</th>\n      <th>chart_range_start</th>\n      <th>chart_range_end</th>\n      <th>chart_label</th>\n    </tr>\n    <tr>\n      <th>order</th>\n      <th></th>\n      <th></th>\n      <th></th>\n      <th></th>\n      <th></th>\n      <th></th>\n      <th></th>\n    </tr>\n  </thead>\n  <tbody>\n    <tr>\n      <th>0</th>\n      <td>high</td>\n      <td>ON</td>\n      <td>0</td>\n      <td>3 days, 0:00:00</td>\n      <td>2020-02-04 16:52:23.635327+00:00</td>\n      <td>2020-02-07 16:52:23.635327+00:00</td>\n      <td>High Resolution</td>\n    </tr>\n    <tr>\n      <th>1</th>\n      <td>med</td>\n      <td>ON</td>\n      <td>5</td>\n      <td>14 days, 0:00:00</td>\n      <td>2020-01-24 16:52:23.635327+00:00</td>\n      <td>2020-02-07 16:52:23.635327+00:00</td>\n      <td>Medium Resolution</td>\n    </tr>\n    <tr>\n      <th>2</th>\n      <td>low</td>\n      <td>ON</td>\n      <td>120</td>\n      <td>248 days, 3:49:06.635327</td>\n      <td>2019-06-04 13:03:17+00:00</td>\n      <td>2020-02-07 16:52:23.635327+00:00</td>\n      <td>Low Resolution</td>\n    </tr>\n    <tr>\n      <th>3</th>\n      <td>custom1</td>\n      <td>OFF</td>\n      <td>0</td>\n      <td>1 day, 0:00:00</td>\n      <td>2019-06-04 13:03:17+00:00</td>\n      <td>2019-06-05 13:03:17+00:00</td>\n      <td>Custom Chart</td>\n    </tr>\n  </tbody>\n</table>\n</div>",
      "text/plain": "         chart chart_status  chart_res        chart_range_window  \\\norder                                                              \n0         high           ON          0           3 days, 0:00:00   \n1          med           ON          5          14 days, 0:00:00   \n2          low           ON        120  248 days, 3:49:06.635327   \n3      custom1          OFF          0            1 day, 0:00:00   \n\n                      chart_range_start                   chart_range_end  \\\norder                                                                       \n0      2020-02-04 16:52:23.635327+00:00  2020-02-07 16:52:23.635327+00:00   \n1      2020-01-24 16:52:23.635327+00:00  2020-02-07 16:52:23.635327+00:00   \n2             2019-06-04 13:03:17+00:00  2020-02-07 16:52:23.635327+00:00   \n3             2019-06-04 13:03:17+00:00         2019-06-05 13:03:17+00:00   \n\n             chart_label  \norder                     \n0        High Resolution  \n1      Medium Resolution  \n2         Low Resolution  \n3           Custom Chart  "
     },
     "execution_count": 5,
     "metadata": {},
     "output_type": "execute_result"
    }
   ],
   "source": [
    "charts = []\n",
    "for chart, row in info['charts'].iterrows():\n",
    "    chart_range = date_range(window = row['chart_range_window'], start = set_date(str(row['chart_range_start']), \"UTC\", \"%Y-%m-%d %H:%M:%S\"), end = set_date(str(row['chart_range_end']), \"UTC\", \"%Y-%m-%d %H:%M:%S\"))\n",
    "    info['charts'].loc[chart, 'chart_range_start'] = chart_range[0]\n",
    "    info['charts'].loc[chart, 'chart_range_end'] = chart_range[1]\n",
    "    info['charts'].loc[chart, 'chart_range_window'] = chart_range[1] - chart_range[0]\n",
    "    charts.append(chart)\n",
    "\n",
    "del chart, chart_range, row\n",
    "\n",
    "info['charts']"
   ]
  },
  {
   "cell_type": "markdown",
   "execution_count": null,
   "metadata": {},
   "outputs": [],
   "source": [
    "### Parameters:"
   ]
  },
  {
   "cell_type": "code",
   "execution_count": 6,
   "metadata": {},
   "outputs": [
    {
     "data": {
      "text/html": "<div>\n<style scoped>\n    .dataframe tbody tr th:only-of-type {\n        vertical-align: middle;\n    }\n\n    .dataframe tbody tr th {\n        vertical-align: top;\n    }\n\n    .dataframe thead th {\n        text-align: right;\n    }\n</style>\n<table border=\"1\" class=\"dataframe\">\n  <thead>\n    <tr style=\"text-align: right;\">\n      <th></th>\n      <th>code</th>\n      <th>parameter</th>\n      <th>parameter_ave</th>\n      <th>parameter_lab</th>\n      <th>plot</th>\n      <th>line</th>\n      <th>ribbon</th>\n      <th>bar</th>\n      <th>point</th>\n      <th>colour</th>\n      <th>fill</th>\n      <th>shape</th>\n      <th>line_type</th>\n      <th>bar_order</th>\n      <th>show_in_legend</th>\n      <th>selected_chart_0</th>\n      <th>selected_chart_1</th>\n      <th>selected_chart_2</th>\n      <th>selected_chart_3</th>\n    </tr>\n    <tr>\n      <th>dataset</th>\n      <th></th>\n      <th></th>\n      <th></th>\n      <th></th>\n      <th></th>\n      <th></th>\n      <th></th>\n      <th></th>\n      <th></th>\n      <th></th>\n      <th></th>\n      <th></th>\n      <th></th>\n      <th></th>\n      <th></th>\n      <th></th>\n      <th></th>\n      <th></th>\n      <th></th>\n    </tr>\n  </thead>\n  <tbody>\n    <tr>\n      <th>Sensor</th>\n      <td>A1 V</td>\n      <td>BES_A1__V</td>\n      <td>BES_1__V_ave</td>\n      <td>BES 1A</td>\n      <td>BES_VA_indiv</td>\n      <td>1.0</td>\n      <td>NaN</td>\n      <td>NaN</td>\n      <td>NaN</td>\n      <td>0.0</td>\n      <td>0.0</td>\n      <td>NaN</td>\n      <td>solid</td>\n      <td>NaN</td>\n      <td>True</td>\n      <td>1</td>\n      <td>1</td>\n      <td>1</td>\n      <td>1</td>\n    </tr>\n    <tr>\n      <th>Sensor</th>\n      <td>A2 V</td>\n      <td>BES_A2__V</td>\n      <td>BES_2__V_ave</td>\n      <td>BES 2A</td>\n      <td>BES_VA_indiv</td>\n      <td>1.0</td>\n      <td>NaN</td>\n      <td>NaN</td>\n      <td>NaN</td>\n      <td>3.0</td>\n      <td>3.0</td>\n      <td>NaN</td>\n      <td>solid</td>\n      <td>NaN</td>\n      <td>True</td>\n      <td>1</td>\n      <td>1</td>\n      <td>1</td>\n      <td>1</td>\n    </tr>\n    <tr>\n      <th>Sensor</th>\n      <td>A3 V</td>\n      <td>BES_A3__V</td>\n      <td>BES_3__V_ave</td>\n      <td>BES 3A</td>\n      <td>BES_VA_indiv</td>\n      <td>1.0</td>\n      <td>NaN</td>\n      <td>NaN</td>\n      <td>NaN</td>\n      <td>5.0</td>\n      <td>5.0</td>\n      <td>NaN</td>\n      <td>solid</td>\n      <td>NaN</td>\n      <td>True</td>\n      <td>1</td>\n      <td>1</td>\n      <td>1</td>\n      <td>1</td>\n    </tr>\n    <tr>\n      <th>Sensor</th>\n      <td>A4 V</td>\n      <td>BES_A4__V</td>\n      <td>BES_4__V_ave</td>\n      <td>BES 4A</td>\n      <td>BES_VA_indiv</td>\n      <td>1.0</td>\n      <td>NaN</td>\n      <td>NaN</td>\n      <td>NaN</td>\n      <td>6.0</td>\n      <td>6.0</td>\n      <td>NaN</td>\n      <td>solid</td>\n      <td>NaN</td>\n      <td>True</td>\n      <td>1</td>\n      <td>1</td>\n      <td>1</td>\n      <td>1</td>\n    </tr>\n    <tr>\n      <th>Sensor</th>\n      <td>B1 V</td>\n      <td>BES_B1__V</td>\n      <td>BES_1__V_ave</td>\n      <td>BES 1B</td>\n      <td>BES_VB_indiv</td>\n      <td>1.0</td>\n      <td>NaN</td>\n      <td>NaN</td>\n      <td>NaN</td>\n      <td>0.0</td>\n      <td>0.0</td>\n      <td>NaN</td>\n      <td>longdash</td>\n      <td>NaN</td>\n      <td>True</td>\n      <td>1</td>\n      <td>1</td>\n      <td>1</td>\n      <td>1</td>\n    </tr>\n    <tr>\n      <th>...</th>\n      <td>...</td>\n      <td>...</td>\n      <td>...</td>\n      <td>...</td>\n      <td>...</td>\n      <td>...</td>\n      <td>...</td>\n      <td>...</td>\n      <td>...</td>\n      <td>...</td>\n      <td>...</td>\n      <td>...</td>\n      <td>...</td>\n      <td>...</td>\n      <td>...</td>\n      <td>...</td>\n      <td>...</td>\n      <td>...</td>\n      <td>...</td>\n    </tr>\n    <tr>\n      <th>Events</th>\n      <td>HOSE_B_STATUS</td>\n      <td>HOSE_B_STATUS_EV</td>\n      <td>HOSE_B_STATUS_EV</td>\n      <td>Heated Hose B Status EV</td>\n      <td>TEMP_EVENT_indiv</td>\n      <td>1.0</td>\n      <td>NaN</td>\n      <td>NaN</td>\n      <td>NaN</td>\n      <td>NaN</td>\n      <td>NaN</td>\n      <td>NaN</td>\n      <td>NaN</td>\n      <td>NaN</td>\n      <td>True</td>\n      <td>0</td>\n      <td>0</td>\n      <td>0</td>\n      <td>0</td>\n    </tr>\n    <tr>\n      <th>Events</th>\n      <td>HOSE_C_STATUS</td>\n      <td>HOSE_C_STATUS_EV</td>\n      <td>HOSE_C_STATUS_EV</td>\n      <td>Heated Hose C Status EV</td>\n      <td>TEMP_EVENT_indiv</td>\n      <td>1.0</td>\n      <td>NaN</td>\n      <td>NaN</td>\n      <td>NaN</td>\n      <td>NaN</td>\n      <td>NaN</td>\n      <td>NaN</td>\n      <td>NaN</td>\n      <td>NaN</td>\n      <td>True</td>\n      <td>0</td>\n      <td>0</td>\n      <td>0</td>\n      <td>0</td>\n    </tr>\n    <tr>\n      <th>Events</th>\n      <td>TILT_SP</td>\n      <td>TILT_SP_EV</td>\n      <td>TILT_SP_EV</td>\n      <td>Enclosure Tilt Set Point EV</td>\n      <td>PRESSURE_indiv</td>\n      <td>1.0</td>\n      <td>NaN</td>\n      <td>NaN</td>\n      <td>NaN</td>\n      <td>NaN</td>\n      <td>NaN</td>\n      <td>NaN</td>\n      <td>NaN</td>\n      <td>NaN</td>\n      <td>True</td>\n      <td>0</td>\n      <td>0</td>\n      <td>0</td>\n      <td>0</td>\n    </tr>\n    <tr>\n      <th>Events</th>\n      <td>TILT_AUTO</td>\n      <td>TILT_AUTO_EV</td>\n      <td>TILT_AUTO_EV</td>\n      <td>Enclosure Tilt Automated EV</td>\n      <td>STATUS</td>\n      <td>1.0</td>\n      <td>NaN</td>\n      <td>NaN</td>\n      <td>NaN</td>\n      <td>NaN</td>\n      <td>NaN</td>\n      <td>NaN</td>\n      <td>NaN</td>\n      <td>NaN</td>\n      <td>True</td>\n      <td>0</td>\n      <td>0</td>\n      <td>0</td>\n      <td>0</td>\n    </tr>\n    <tr>\n      <th>Events</th>\n      <td>WAKEUP</td>\n      <td>WAKEUP_EV</td>\n      <td>WAKEUP_EV</td>\n      <td>Wakeup from Restart EV</td>\n      <td>STATUS</td>\n      <td>1.0</td>\n      <td>NaN</td>\n      <td>NaN</td>\n      <td>NaN</td>\n      <td>6.0</td>\n      <td>6.0</td>\n      <td>NaN</td>\n      <td>solid</td>\n      <td>3.0</td>\n      <td>True</td>\n      <td>0</td>\n      <td>0</td>\n      <td>0</td>\n      <td>0</td>\n    </tr>\n  </tbody>\n</table>\n<p>152 rows × 19 columns</p>\n</div>",
      "text/plain": "                  code         parameter     parameter_ave  \\\ndataset                                                      \nSensor            A1 V         BES_A1__V      BES_1__V_ave   \nSensor            A2 V         BES_A2__V      BES_2__V_ave   \nSensor            A3 V         BES_A3__V      BES_3__V_ave   \nSensor            A4 V         BES_A4__V      BES_4__V_ave   \nSensor            B1 V         BES_B1__V      BES_1__V_ave   \n...                ...               ...               ...   \nEvents   HOSE_B_STATUS  HOSE_B_STATUS_EV  HOSE_B_STATUS_EV   \nEvents   HOSE_C_STATUS  HOSE_C_STATUS_EV  HOSE_C_STATUS_EV   \nEvents         TILT_SP        TILT_SP_EV        TILT_SP_EV   \nEvents       TILT_AUTO      TILT_AUTO_EV      TILT_AUTO_EV   \nEvents          WAKEUP         WAKEUP_EV         WAKEUP_EV   \n\n                       parameter_lab              plot  line  ribbon  bar  \\\ndataset                                                                     \nSensor                        BES 1A      BES_VA_indiv   1.0     NaN  NaN   \nSensor                        BES 2A      BES_VA_indiv   1.0     NaN  NaN   \nSensor                        BES 3A      BES_VA_indiv   1.0     NaN  NaN   \nSensor                        BES 4A      BES_VA_indiv   1.0     NaN  NaN   \nSensor                        BES 1B      BES_VB_indiv   1.0     NaN  NaN   \n...                              ...               ...   ...     ...  ...   \nEvents       Heated Hose B Status EV  TEMP_EVENT_indiv   1.0     NaN  NaN   \nEvents       Heated Hose C Status EV  TEMP_EVENT_indiv   1.0     NaN  NaN   \nEvents   Enclosure Tilt Set Point EV    PRESSURE_indiv   1.0     NaN  NaN   \nEvents   Enclosure Tilt Automated EV            STATUS   1.0     NaN  NaN   \nEvents        Wakeup from Restart EV            STATUS   1.0     NaN  NaN   \n\n         point  colour  fill  shape line_type  bar_order  show_in_legend  \\\ndataset                                                                    \nSensor     NaN     0.0   0.0    NaN     solid        NaN            True   \nSensor     NaN     3.0   3.0    NaN     solid        NaN            True   \nSensor     NaN     5.0   5.0    NaN     solid        NaN            True   \nSensor     NaN     6.0   6.0    NaN     solid        NaN            True   \nSensor     NaN     0.0   0.0    NaN  longdash        NaN            True   \n...        ...     ...   ...    ...       ...        ...             ...   \nEvents     NaN     NaN   NaN    NaN       NaN        NaN            True   \nEvents     NaN     NaN   NaN    NaN       NaN        NaN            True   \nEvents     NaN     NaN   NaN    NaN       NaN        NaN            True   \nEvents     NaN     NaN   NaN    NaN       NaN        NaN            True   \nEvents     NaN     6.0   6.0    NaN     solid        3.0            True   \n\n         selected_chart_0  selected_chart_1  selected_chart_2  \\\ndataset                                                         \nSensor                  1                 1                 1   \nSensor                  1                 1                 1   \nSensor                  1                 1                 1   \nSensor                  1                 1                 1   \nSensor                  1                 1                 1   \n...                   ...               ...               ...   \nEvents                  0                 0                 0   \nEvents                  0                 0                 0   \nEvents                  0                 0                 0   \nEvents                  0                 0                 0   \nEvents                  0                 0                 0   \n\n         selected_chart_3  \ndataset                    \nSensor                  1  \nSensor                  1  \nSensor                  1  \nSensor                  1  \nSensor                  1  \n...                   ...  \nEvents                  0  \nEvents                  0  \nEvents                  0  \nEvents                  0  \nEvents                  0  \n\n[152 rows x 19 columns]"
     },
     "execution_count": 6,
     "metadata": {},
     "output_type": "execute_result"
    }
   ],
   "source": [
    "info['parameters']"
   ]
  },
  {
   "cell_type": "code",
   "execution_count": 7,
   "metadata": {},
   "outputs": [
    {
     "data": {
      "text/html": "<div>\n<style scoped>\n    .dataframe tbody tr th:only-of-type {\n        vertical-align: middle;\n    }\n\n    .dataframe tbody tr th {\n        vertical-align: top;\n    }\n\n    .dataframe thead th {\n        text-align: right;\n    }\n</style>\n<table border=\"1\" class=\"dataframe\">\n  <thead>\n    <tr style=\"text-align: right;\">\n      <th></th>\n      <th>parameter_ave</th>\n      <th>parameter_lab</th>\n      <th>plot</th>\n      <th>line</th>\n      <th>ribbon</th>\n      <th>bar</th>\n      <th>point</th>\n      <th>colour</th>\n      <th>fill</th>\n      <th>shape</th>\n      <th>line_type</th>\n      <th>bar_order</th>\n      <th>show_in_legend</th>\n      <th>selected_chart_0</th>\n      <th>selected_chart_1</th>\n      <th>selected_chart_2</th>\n      <th>selected_chart_3</th>\n    </tr>\n    <tr>\n      <th>dataset</th>\n      <th></th>\n      <th></th>\n      <th></th>\n      <th></th>\n      <th></th>\n      <th></th>\n      <th></th>\n      <th></th>\n      <th></th>\n      <th></th>\n      <th></th>\n      <th></th>\n      <th></th>\n      <th></th>\n      <th></th>\n      <th></th>\n      <th></th>\n    </tr>\n  </thead>\n  <tbody>\n    <tr>\n      <th>Sensor_ave</th>\n      <td>BES_1__V_ave</td>\n      <td>BES 1</td>\n      <td>BES_V_ave</td>\n      <td>1.0</td>\n      <td>1.0</td>\n      <td>NaN</td>\n      <td>NaN</td>\n      <td>1</td>\n      <td>1.0</td>\n      <td>NaN</td>\n      <td>solid</td>\n      <td>NaN</td>\n      <td>True</td>\n      <td>1</td>\n      <td>1</td>\n      <td>1</td>\n      <td>1</td>\n    </tr>\n    <tr>\n      <th>Sensor_ave</th>\n      <td>BES_2__V_ave</td>\n      <td>BES 2</td>\n      <td>BES_V_ave</td>\n      <td>1.0</td>\n      <td>1.0</td>\n      <td>NaN</td>\n      <td>NaN</td>\n      <td>4</td>\n      <td>4.0</td>\n      <td>NaN</td>\n      <td>solid</td>\n      <td>NaN</td>\n      <td>True</td>\n      <td>1</td>\n      <td>1</td>\n      <td>1</td>\n      <td>1</td>\n    </tr>\n    <tr>\n      <th>Sensor_ave</th>\n      <td>BES_3__V_ave</td>\n      <td>BES 3</td>\n      <td>BES_V_ave</td>\n      <td>1.0</td>\n      <td>1.0</td>\n      <td>NaN</td>\n      <td>NaN</td>\n      <td>7</td>\n      <td>7.0</td>\n      <td>NaN</td>\n      <td>solid</td>\n      <td>NaN</td>\n      <td>True</td>\n      <td>1</td>\n      <td>1</td>\n      <td>1</td>\n      <td>1</td>\n    </tr>\n    <tr>\n      <th>Sensor_ave</th>\n      <td>BES_4__V_ave</td>\n      <td>BES 4</td>\n      <td>BES_V_ave</td>\n      <td>1.0</td>\n      <td>1.0</td>\n      <td>NaN</td>\n      <td>NaN</td>\n      <td>10</td>\n      <td>10.0</td>\n      <td>NaN</td>\n      <td>solid</td>\n      <td>NaN</td>\n      <td>True</td>\n      <td>1</td>\n      <td>1</td>\n      <td>1</td>\n      <td>1</td>\n    </tr>\n    <tr>\n      <th>Sensor_ave</th>\n      <td>BES_1__C_ave</td>\n      <td>BES 1</td>\n      <td>BES_C_ave</td>\n      <td>1.0</td>\n      <td>1.0</td>\n      <td>NaN</td>\n      <td>NaN</td>\n      <td>1</td>\n      <td>1.0</td>\n      <td>NaN</td>\n      <td>solid</td>\n      <td>NaN</td>\n      <td>True</td>\n      <td>1</td>\n      <td>1</td>\n      <td>1</td>\n      <td>1</td>\n    </tr>\n    <tr>\n      <th>Sensor_ave</th>\n      <td>BES_2__C_ave</td>\n      <td>BES 2</td>\n      <td>BES_C_ave</td>\n      <td>1.0</td>\n      <td>1.0</td>\n      <td>NaN</td>\n      <td>NaN</td>\n      <td>4</td>\n      <td>4.0</td>\n      <td>NaN</td>\n      <td>solid</td>\n      <td>NaN</td>\n      <td>True</td>\n      <td>1</td>\n      <td>1</td>\n      <td>1</td>\n      <td>1</td>\n    </tr>\n    <tr>\n      <th>Sensor_ave</th>\n      <td>BES_3__C_ave</td>\n      <td>BES 3</td>\n      <td>BES_C_ave</td>\n      <td>1.0</td>\n      <td>1.0</td>\n      <td>NaN</td>\n      <td>NaN</td>\n      <td>7</td>\n      <td>7.0</td>\n      <td>NaN</td>\n      <td>solid</td>\n      <td>NaN</td>\n      <td>True</td>\n      <td>1</td>\n      <td>1</td>\n      <td>1</td>\n      <td>1</td>\n    </tr>\n    <tr>\n      <th>Sensor_ave</th>\n      <td>BES_4__C_ave</td>\n      <td>BES 4</td>\n      <td>BES_C_ave</td>\n      <td>1.0</td>\n      <td>1.0</td>\n      <td>NaN</td>\n      <td>NaN</td>\n      <td>10</td>\n      <td>10.0</td>\n      <td>NaN</td>\n      <td>solid</td>\n      <td>NaN</td>\n      <td>True</td>\n      <td>1</td>\n      <td>1</td>\n      <td>1</td>\n      <td>1</td>\n    </tr>\n    <tr>\n      <th>Sensor_ave</th>\n      <td>BES_SUM__V_ave</td>\n      <td>∑ [BESs]</td>\n      <td>BES_V_ave</td>\n      <td>1.0</td>\n      <td>1.0</td>\n      <td>NaN</td>\n      <td>NaN</td>\n      <td>14</td>\n      <td>14.0</td>\n      <td>NaN</td>\n      <td>solid</td>\n      <td>NaN</td>\n      <td>True</td>\n      <td>1</td>\n      <td>1</td>\n      <td>1</td>\n      <td>1</td>\n    </tr>\n    <tr>\n      <th>Sensor_ave</th>\n      <td>BES_SUM__C_ave</td>\n      <td>∑ [BESs]</td>\n      <td>BES_C_ave</td>\n      <td>1.0</td>\n      <td>1.0</td>\n      <td>NaN</td>\n      <td>NaN</td>\n      <td>14</td>\n      <td>14.0</td>\n      <td>NaN</td>\n      <td>solid</td>\n      <td>NaN</td>\n      <td>True</td>\n      <td>1</td>\n      <td>1</td>\n      <td>1</td>\n      <td>1</td>\n    </tr>\n    <tr>\n      <th>Sensor_ave</th>\n      <td>REXT_1_ave</td>\n      <td>BES 1 R[Ext]</td>\n      <td>REXT_ave</td>\n      <td>1.0</td>\n      <td>1.0</td>\n      <td>NaN</td>\n      <td>NaN</td>\n      <td>1</td>\n      <td>1.0</td>\n      <td>NaN</td>\n      <td>solid</td>\n      <td>NaN</td>\n      <td>True</td>\n      <td>1</td>\n      <td>1</td>\n      <td>1</td>\n      <td>1</td>\n    </tr>\n    <tr>\n      <th>Sensor_ave</th>\n      <td>REXT_2_ave</td>\n      <td>BES 2 R[Ext]</td>\n      <td>REXT_ave</td>\n      <td>1.0</td>\n      <td>1.0</td>\n      <td>NaN</td>\n      <td>NaN</td>\n      <td>4</td>\n      <td>4.0</td>\n      <td>NaN</td>\n      <td>solid</td>\n      <td>NaN</td>\n      <td>True</td>\n      <td>1</td>\n      <td>1</td>\n      <td>1</td>\n      <td>1</td>\n    </tr>\n    <tr>\n      <th>Sensor_ave</th>\n      <td>REXT_3_ave</td>\n      <td>BES 3 R[Ext]</td>\n      <td>REXT_ave</td>\n      <td>1.0</td>\n      <td>1.0</td>\n      <td>NaN</td>\n      <td>NaN</td>\n      <td>7</td>\n      <td>7.0</td>\n      <td>NaN</td>\n      <td>solid</td>\n      <td>NaN</td>\n      <td>True</td>\n      <td>1</td>\n      <td>1</td>\n      <td>1</td>\n      <td>1</td>\n    </tr>\n    <tr>\n      <th>Sensor_ave</th>\n      <td>REXT_4_ave</td>\n      <td>BES 4 R[Ext]</td>\n      <td>REXT_ave</td>\n      <td>1.0</td>\n      <td>1.0</td>\n      <td>NaN</td>\n      <td>NaN</td>\n      <td>10</td>\n      <td>10.0</td>\n      <td>NaN</td>\n      <td>solid</td>\n      <td>NaN</td>\n      <td>True</td>\n      <td>1</td>\n      <td>1</td>\n      <td>1</td>\n      <td>1</td>\n    </tr>\n    <tr>\n      <th>Sensor_ave</th>\n      <td>OCP_1_ave</td>\n      <td>BES 1</td>\n      <td>OCP_ave</td>\n      <td>1.0</td>\n      <td>1.0</td>\n      <td>NaN</td>\n      <td>NaN</td>\n      <td>1</td>\n      <td>1.0</td>\n      <td>NaN</td>\n      <td>solid</td>\n      <td>4.0</td>\n      <td>True</td>\n      <td>0</td>\n      <td>0</td>\n      <td>0</td>\n      <td>0</td>\n    </tr>\n    <tr>\n      <th>Sensor_ave</th>\n      <td>OCP_2_ave</td>\n      <td>BES 2</td>\n      <td>OCP_ave</td>\n      <td>1.0</td>\n      <td>1.0</td>\n      <td>NaN</td>\n      <td>NaN</td>\n      <td>4</td>\n      <td>4.0</td>\n      <td>NaN</td>\n      <td>solid</td>\n      <td>3.0</td>\n      <td>True</td>\n      <td>0</td>\n      <td>0</td>\n      <td>0</td>\n      <td>0</td>\n    </tr>\n    <tr>\n      <th>Sensor_ave</th>\n      <td>OCP_3_ave</td>\n      <td>BES 3</td>\n      <td>OCP_ave</td>\n      <td>1.0</td>\n      <td>1.0</td>\n      <td>NaN</td>\n      <td>NaN</td>\n      <td>7</td>\n      <td>7.0</td>\n      <td>NaN</td>\n      <td>solid</td>\n      <td>2.0</td>\n      <td>True</td>\n      <td>0</td>\n      <td>0</td>\n      <td>0</td>\n      <td>0</td>\n    </tr>\n    <tr>\n      <th>Sensor_ave</th>\n      <td>OCP_4_ave</td>\n      <td>BES 4</td>\n      <td>OCP_ave</td>\n      <td>1.0</td>\n      <td>1.0</td>\n      <td>NaN</td>\n      <td>NaN</td>\n      <td>10</td>\n      <td>10.0</td>\n      <td>NaN</td>\n      <td>solid</td>\n      <td>1.0</td>\n      <td>True</td>\n      <td>0</td>\n      <td>0</td>\n      <td>0</td>\n      <td>0</td>\n    </tr>\n    <tr>\n      <th>Sensor_ave</th>\n      <td>TEMP_BES_ave</td>\n      <td>Heated Water Temp</td>\n      <td>TEMP_ave</td>\n      <td>1.0</td>\n      <td>1.0</td>\n      <td>NaN</td>\n      <td>NaN</td>\n      <td>14</td>\n      <td>14.0</td>\n      <td>NaN</td>\n      <td>solid</td>\n      <td>NaN</td>\n      <td>True</td>\n      <td>1</td>\n      <td>1</td>\n      <td>1</td>\n      <td>1</td>\n    </tr>\n    <tr>\n      <th>Sensor_ave</th>\n      <td>TEMP_MAT_ave</td>\n      <td>Heated Mats Temp</td>\n      <td>TEMP_PROCESS_ave</td>\n      <td>1.0</td>\n      <td>1.0</td>\n      <td>NaN</td>\n      <td>NaN</td>\n      <td>12</td>\n      <td>12.0</td>\n      <td>NaN</td>\n      <td>solid</td>\n      <td>NaN</td>\n      <td>True</td>\n      <td>1</td>\n      <td>1</td>\n      <td>1</td>\n      <td>1</td>\n    </tr>\n    <tr>\n      <th>Sensor_ave</th>\n      <td>TEMP_HOSE_ave</td>\n      <td>Heated Hoses Temp</td>\n      <td>TEMP_PROCESS_ave</td>\n      <td>1.0</td>\n      <td>1.0</td>\n      <td>NaN</td>\n      <td>NaN</td>\n      <td>14</td>\n      <td>14.0</td>\n      <td>NaN</td>\n      <td>solid</td>\n      <td>NaN</td>\n      <td>True</td>\n      <td>1</td>\n      <td>1</td>\n      <td>1</td>\n      <td>1</td>\n    </tr>\n    <tr>\n      <th>Sensor_ave</th>\n      <td>PRESSURE_BES_ave</td>\n      <td>BES Pressure</td>\n      <td>PRESSURE_ave</td>\n      <td>1.0</td>\n      <td>1.0</td>\n      <td>NaN</td>\n      <td>NaN</td>\n      <td>14</td>\n      <td>14.0</td>\n      <td>NaN</td>\n      <td>solid</td>\n      <td>NaN</td>\n      <td>True</td>\n      <td>1</td>\n      <td>1</td>\n      <td>1</td>\n      <td>1</td>\n    </tr>\n    <tr>\n      <th>Sensor_ave</th>\n      <td>SENSOR_HOSE_STATUS_ave</td>\n      <td>Heated Hoses Status</td>\n      <td>TEMP_EVENT_ave</td>\n      <td>1.0</td>\n      <td>1.0</td>\n      <td>NaN</td>\n      <td>NaN</td>\n      <td>14</td>\n      <td>14.0</td>\n      <td>NaN</td>\n      <td>solid</td>\n      <td>1.0</td>\n      <td>True</td>\n      <td>1</td>\n      <td>1</td>\n      <td>1</td>\n      <td>1</td>\n    </tr>\n    <tr>\n      <th>Skid_ave</th>\n      <td>Inlet_Temp_ave</td>\n      <td>Pipe Temp (BE:WISE)</td>\n      <td>TEMP_ave</td>\n      <td>1.0</td>\n      <td>1.0</td>\n      <td>NaN</td>\n      <td>NaN</td>\n      <td>2</td>\n      <td>2.0</td>\n      <td>NaN</td>\n      <td>longdash</td>\n      <td>NaN</td>\n      <td>True</td>\n      <td>1</td>\n      <td>1</td>\n      <td>1</td>\n      <td>1</td>\n    </tr>\n    <tr>\n      <th>SampLog_ave</th>\n      <td>BOD5_ave</td>\n      <td>Feed BOD₅</td>\n      <td>BOD</td>\n      <td>NaN</td>\n      <td>NaN</td>\n      <td>NaN</td>\n      <td>1.0</td>\n      <td>1</td>\n      <td>NaN</td>\n      <td>21.0</td>\n      <td>solid</td>\n      <td>NaN</td>\n      <td>True</td>\n      <td>1</td>\n      <td>1</td>\n      <td>1</td>\n      <td>1</td>\n    </tr>\n    <tr>\n      <th>SampLog_ave</th>\n      <td>tCOD_ave</td>\n      <td>Feed tCOD</td>\n      <td>COD</td>\n      <td>NaN</td>\n      <td>NaN</td>\n      <td>NaN</td>\n      <td>1.0</td>\n      <td>1</td>\n      <td>NaN</td>\n      <td>21.0</td>\n      <td>solid</td>\n      <td>NaN</td>\n      <td>True</td>\n      <td>1</td>\n      <td>1</td>\n      <td>1</td>\n      <td>1</td>\n    </tr>\n    <tr>\n      <th>SampLog_ave</th>\n      <td>sCOD_ave</td>\n      <td>Feed sCOD</td>\n      <td>COD</td>\n      <td>NaN</td>\n      <td>NaN</td>\n      <td>NaN</td>\n      <td>1.0</td>\n      <td>2</td>\n      <td>NaN</td>\n      <td>21.0</td>\n      <td>solid</td>\n      <td>NaN</td>\n      <td>True</td>\n      <td>1</td>\n      <td>1</td>\n      <td>1</td>\n      <td>1</td>\n    </tr>\n  </tbody>\n</table>\n</div>",
      "text/plain": "                      parameter_ave        parameter_lab              plot  \\\ndataset                                                                      \nSensor_ave             BES_1__V_ave                BES 1         BES_V_ave   \nSensor_ave             BES_2__V_ave                BES 2         BES_V_ave   \nSensor_ave             BES_3__V_ave                BES 3         BES_V_ave   \nSensor_ave             BES_4__V_ave                BES 4         BES_V_ave   \nSensor_ave             BES_1__C_ave                BES 1         BES_C_ave   \nSensor_ave             BES_2__C_ave                BES 2         BES_C_ave   \nSensor_ave             BES_3__C_ave                BES 3         BES_C_ave   \nSensor_ave             BES_4__C_ave                BES 4         BES_C_ave   \nSensor_ave           BES_SUM__V_ave             ∑ [BESs]         BES_V_ave   \nSensor_ave           BES_SUM__C_ave             ∑ [BESs]         BES_C_ave   \nSensor_ave               REXT_1_ave         BES 1 R[Ext]          REXT_ave   \nSensor_ave               REXT_2_ave         BES 2 R[Ext]          REXT_ave   \nSensor_ave               REXT_3_ave         BES 3 R[Ext]          REXT_ave   \nSensor_ave               REXT_4_ave         BES 4 R[Ext]          REXT_ave   \nSensor_ave                OCP_1_ave                BES 1           OCP_ave   \nSensor_ave                OCP_2_ave                BES 2           OCP_ave   \nSensor_ave                OCP_3_ave                BES 3           OCP_ave   \nSensor_ave                OCP_4_ave                BES 4           OCP_ave   \nSensor_ave             TEMP_BES_ave    Heated Water Temp          TEMP_ave   \nSensor_ave             TEMP_MAT_ave     Heated Mats Temp  TEMP_PROCESS_ave   \nSensor_ave            TEMP_HOSE_ave    Heated Hoses Temp  TEMP_PROCESS_ave   \nSensor_ave         PRESSURE_BES_ave         BES Pressure      PRESSURE_ave   \nSensor_ave   SENSOR_HOSE_STATUS_ave  Heated Hoses Status    TEMP_EVENT_ave   \nSkid_ave             Inlet_Temp_ave  Pipe Temp (BE:WISE)          TEMP_ave   \nSampLog_ave                BOD5_ave            Feed BOD₅               BOD   \nSampLog_ave                tCOD_ave            Feed tCOD               COD   \nSampLog_ave                sCOD_ave            Feed sCOD               COD   \n\n             line  ribbon  bar  point  colour  fill  shape line_type  \\\ndataset                                                                \nSensor_ave    1.0     1.0  NaN    NaN       1   1.0    NaN     solid   \nSensor_ave    1.0     1.0  NaN    NaN       4   4.0    NaN     solid   \nSensor_ave    1.0     1.0  NaN    NaN       7   7.0    NaN     solid   \nSensor_ave    1.0     1.0  NaN    NaN      10  10.0    NaN     solid   \nSensor_ave    1.0     1.0  NaN    NaN       1   1.0    NaN     solid   \nSensor_ave    1.0     1.0  NaN    NaN       4   4.0    NaN     solid   \nSensor_ave    1.0     1.0  NaN    NaN       7   7.0    NaN     solid   \nSensor_ave    1.0     1.0  NaN    NaN      10  10.0    NaN     solid   \nSensor_ave    1.0     1.0  NaN    NaN      14  14.0    NaN     solid   \nSensor_ave    1.0     1.0  NaN    NaN      14  14.0    NaN     solid   \nSensor_ave    1.0     1.0  NaN    NaN       1   1.0    NaN     solid   \nSensor_ave    1.0     1.0  NaN    NaN       4   4.0    NaN     solid   \nSensor_ave    1.0     1.0  NaN    NaN       7   7.0    NaN     solid   \nSensor_ave    1.0     1.0  NaN    NaN      10  10.0    NaN     solid   \nSensor_ave    1.0     1.0  NaN    NaN       1   1.0    NaN     solid   \nSensor_ave    1.0     1.0  NaN    NaN       4   4.0    NaN     solid   \nSensor_ave    1.0     1.0  NaN    NaN       7   7.0    NaN     solid   \nSensor_ave    1.0     1.0  NaN    NaN      10  10.0    NaN     solid   \nSensor_ave    1.0     1.0  NaN    NaN      14  14.0    NaN     solid   \nSensor_ave    1.0     1.0  NaN    NaN      12  12.0    NaN     solid   \nSensor_ave    1.0     1.0  NaN    NaN      14  14.0    NaN     solid   \nSensor_ave    1.0     1.0  NaN    NaN      14  14.0    NaN     solid   \nSensor_ave    1.0     1.0  NaN    NaN      14  14.0    NaN     solid   \nSkid_ave      1.0     1.0  NaN    NaN       2   2.0    NaN  longdash   \nSampLog_ave   NaN     NaN  NaN    1.0       1   NaN   21.0     solid   \nSampLog_ave   NaN     NaN  NaN    1.0       1   NaN   21.0     solid   \nSampLog_ave   NaN     NaN  NaN    1.0       2   NaN   21.0     solid   \n\n             bar_order  show_in_legend  selected_chart_0  selected_chart_1  \\\ndataset                                                                      \nSensor_ave         NaN            True                 1                 1   \nSensor_ave         NaN            True                 1                 1   \nSensor_ave         NaN            True                 1                 1   \nSensor_ave         NaN            True                 1                 1   \nSensor_ave         NaN            True                 1                 1   \nSensor_ave         NaN            True                 1                 1   \nSensor_ave         NaN            True                 1                 1   \nSensor_ave         NaN            True                 1                 1   \nSensor_ave         NaN            True                 1                 1   \nSensor_ave         NaN            True                 1                 1   \nSensor_ave         NaN            True                 1                 1   \nSensor_ave         NaN            True                 1                 1   \nSensor_ave         NaN            True                 1                 1   \nSensor_ave         NaN            True                 1                 1   \nSensor_ave         4.0            True                 0                 0   \nSensor_ave         3.0            True                 0                 0   \nSensor_ave         2.0            True                 0                 0   \nSensor_ave         1.0            True                 0                 0   \nSensor_ave         NaN            True                 1                 1   \nSensor_ave         NaN            True                 1                 1   \nSensor_ave         NaN            True                 1                 1   \nSensor_ave         NaN            True                 1                 1   \nSensor_ave         1.0            True                 1                 1   \nSkid_ave           NaN            True                 1                 1   \nSampLog_ave        NaN            True                 1                 1   \nSampLog_ave        NaN            True                 1                 1   \nSampLog_ave        NaN            True                 1                 1   \n\n             selected_chart_2  selected_chart_3  \ndataset                                          \nSensor_ave                  1                 1  \nSensor_ave                  1                 1  \nSensor_ave                  1                 1  \nSensor_ave                  1                 1  \nSensor_ave                  1                 1  \nSensor_ave                  1                 1  \nSensor_ave                  1                 1  \nSensor_ave                  1                 1  \nSensor_ave                  1                 1  \nSensor_ave                  1                 1  \nSensor_ave                  1                 1  \nSensor_ave                  1                 1  \nSensor_ave                  1                 1  \nSensor_ave                  1                 1  \nSensor_ave                  0                 0  \nSensor_ave                  0                 0  \nSensor_ave                  0                 0  \nSensor_ave                  0                 0  \nSensor_ave                  1                 1  \nSensor_ave                  1                 1  \nSensor_ave                  1                 1  \nSensor_ave                  1                 1  \nSensor_ave                  1                 1  \nSkid_ave                    1                 1  \nSampLog_ave                 1                 1  \nSampLog_ave                 1                 1  \nSampLog_ave                 1                 1  "
     },
     "execution_count": 7,
     "metadata": {},
     "output_type": "execute_result"
    }
   ],
   "source": [
    "info['parameters_ave']"
   ]
  },
  {
   "cell_type": "markdown",
   "execution_count": null,
   "metadata": {},
   "outputs": [],
   "source": [
    "### Plots:"
   ]
  },
  {
   "cell_type": "code",
   "execution_count": 8,
   "metadata": {},
   "outputs": [
    {
     "data": {
      "text/html": "<div>\n<style scoped>\n    .dataframe tbody tr th:only-of-type {\n        vertical-align: middle;\n    }\n\n    .dataframe tbody tr th {\n        vertical-align: top;\n    }\n\n    .dataframe thead th {\n        text-align: right;\n    }\n</style>\n<table border=\"1\" class=\"dataframe\">\n  <thead>\n    <tr style=\"text-align: right;\">\n      <th></th>\n      <th>row</th>\n      <th>col</th>\n      <th>plot</th>\n      <th>plot_lab</th>\n      <th>ylab</th>\n      <th>ymin</th>\n      <th>ymax</th>\n      <th>height</th>\n    </tr>\n    <tr>\n      <th>chart</th>\n      <th></th>\n      <th></th>\n      <th></th>\n      <th></th>\n      <th></th>\n      <th></th>\n      <th></th>\n      <th></th>\n    </tr>\n  </thead>\n  <tbody>\n    <tr>\n      <th>high</th>\n      <td>1</td>\n      <td>1</td>\n      <td>BES.INDIV_CA</td>\n      <td>BES</td>\n      <td>Current Density\\n(μA/cm²)</td>\n      <td>0</td>\n      <td>40</td>\n      <td>10</td>\n    </tr>\n    <tr>\n      <th>high</th>\n      <td>2</td>\n      <td>1</td>\n      <td>BES.INDIV_CB</td>\n      <td>BES</td>\n      <td>Current Density\\n(μA/cm²)</td>\n      <td>0</td>\n      <td>40</td>\n      <td>10</td>\n    </tr>\n    <tr>\n      <th>high</th>\n      <td>3</td>\n      <td>1</td>\n      <td>BES.INDIV_CC</td>\n      <td>BES</td>\n      <td>Current Density\\n(μA/cm²)</td>\n      <td>0</td>\n      <td>40</td>\n      <td>10</td>\n    </tr>\n    <tr>\n      <th>high</th>\n      <td>4</td>\n      <td>1</td>\n      <td>REXT.INDIV</td>\n      <td>REXT</td>\n      <td>R[Ext]\\n(Ω)</td>\n      <td>0</td>\n      <td>400</td>\n      <td>8</td>\n    </tr>\n    <tr>\n      <th>high</th>\n      <td>5</td>\n      <td>1</td>\n      <td>OCP.INDIV</td>\n      <td>OCP</td>\n      <td>OCP</td>\n      <td>0</td>\n      <td>1</td>\n      <td>6</td>\n    </tr>\n    <tr>\n      <th>high</th>\n      <td>6</td>\n      <td>1</td>\n      <td>BOD</td>\n      <td>BOD</td>\n      <td>BOD₅\\n(mg/l O₂)</td>\n      <td>0</td>\n      <td>300</td>\n      <td>10</td>\n    </tr>\n    <tr>\n      <th>high</th>\n      <td>7</td>\n      <td>1</td>\n      <td>COD</td>\n      <td>COD</td>\n      <td>atop(textstyle(!!COD!!),textstyle(!!(mg/l O!![...</td>\n      <td>0</td>\n      <td>600</td>\n      <td>10</td>\n    </tr>\n    <tr>\n      <th>high</th>\n      <td>8</td>\n      <td>1</td>\n      <td>TEMP.INDIV</td>\n      <td>Temperature</td>\n      <td>atop(textstyle(!!Temperature!!),textstyle(!!(°...</td>\n      <td>0</td>\n      <td>60</td>\n      <td>10</td>\n    </tr>\n    <tr>\n      <th>high</th>\n      <td>9</td>\n      <td>1</td>\n      <td>TEMP_PROCESS.INDIV</td>\n      <td>TEMP_PROCESS</td>\n      <td>atop(textstyle(!!Control!!),textstyle(!!Temp (...</td>\n      <td>0</td>\n      <td>150</td>\n      <td>8</td>\n    </tr>\n    <tr>\n      <th>high</th>\n      <td>10</td>\n      <td>1</td>\n      <td>EVENT.INDIV</td>\n      <td>TEMP_EVENT</td>\n      <td>atop(textstyle(!!Heating!!),textstyle(!!Contro...</td>\n      <td>0</td>\n      <td>1</td>\n      <td>3</td>\n    </tr>\n    <tr>\n      <th>high</th>\n      <td>11</td>\n      <td>1</td>\n      <td>pH</td>\n      <td>pH</td>\n      <td>textstyle(!!pH!!)</td>\n      <td>4</td>\n      <td>10</td>\n      <td>10</td>\n    </tr>\n    <tr>\n      <th>high</th>\n      <td>12</td>\n      <td>1</td>\n      <td>Conductivity</td>\n      <td>Conductivity</td>\n      <td>atop(textstyle(!!Conductance!!),textstyle(!!(μ...</td>\n      <td>0</td>\n      <td>2500</td>\n      <td>10</td>\n    </tr>\n    <tr>\n      <th>high</th>\n      <td>13</td>\n      <td>1</td>\n      <td>PRESSURE.INDIV</td>\n      <td>Pressure</td>\n      <td>atop(textstyle(!!Pressure (mbar)!!),textstyle(...</td>\n      <td>-50</td>\n      <td>50</td>\n      <td>10</td>\n    </tr>\n    <tr>\n      <th>high</th>\n      <td>14</td>\n      <td>1</td>\n      <td>DO</td>\n      <td>Dissolved Oxygen</td>\n      <td>atop(textstyle(!!Dissolved!!),textstyle(!!Oxyg...</td>\n      <td>0</td>\n      <td>8</td>\n      <td>10</td>\n    </tr>\n    <tr>\n      <th>high</th>\n      <td>15</td>\n      <td>1</td>\n      <td>Level</td>\n      <td>Levels</td>\n      <td>atop(textstyle(!!River Level (m)!!),textstyle(...</td>\n      <td>0</td>\n      <td>3</td>\n      <td>10</td>\n    </tr>\n    <tr>\n      <th>high</th>\n      <td>16</td>\n      <td>1</td>\n      <td>Pump</td>\n      <td>Pump</td>\n      <td>atop(textstyle(!!Flow rate!!),textstyle(!!(ml/...</td>\n      <td>0</td>\n      <td>30</td>\n      <td>8</td>\n    </tr>\n    <tr>\n      <th>high</th>\n      <td>17</td>\n      <td>1</td>\n      <td>PUMP_EVENT</td>\n      <td>PUMP_EVENT</td>\n      <td>textstyle(!!Pump!!)</td>\n      <td>0</td>\n      <td>1</td>\n      <td>3</td>\n    </tr>\n    <tr>\n      <th>med</th>\n      <td>1</td>\n      <td>1</td>\n      <td>BES.INDIV_CA</td>\n      <td>BES</td>\n      <td>atop(textstyle(!!Current Density!!),textstyle(...</td>\n      <td>0</td>\n      <td>40</td>\n      <td>10</td>\n    </tr>\n    <tr>\n      <th>med</th>\n      <td>2</td>\n      <td>1</td>\n      <td>BES.INDIV_CB</td>\n      <td>BES</td>\n      <td>atop(textstyle(!!Current Density!!),textstyle(...</td>\n      <td>0</td>\n      <td>40</td>\n      <td>10</td>\n    </tr>\n    <tr>\n      <th>med</th>\n      <td>3</td>\n      <td>1</td>\n      <td>BES.INDIV_CC</td>\n      <td>BES</td>\n      <td>atop(textstyle(!!Current Density!!),textstyle(...</td>\n      <td>0</td>\n      <td>40</td>\n      <td>10</td>\n    </tr>\n    <tr>\n      <th>med</th>\n      <td>4</td>\n      <td>1</td>\n      <td>REXT.INDIV</td>\n      <td>REXT</td>\n      <td>atop(R[textstyle(!!Ext!!)],textstyle(!!(!!*Ome...</td>\n      <td>0</td>\n      <td>400</td>\n      <td>8</td>\n    </tr>\n    <tr>\n      <th>med</th>\n      <td>5</td>\n      <td>1</td>\n      <td>OCP.INDIV</td>\n      <td>OCP</td>\n      <td>textstyle(!!OCP!!)</td>\n      <td>0</td>\n      <td>1</td>\n      <td>6</td>\n    </tr>\n    <tr>\n      <th>med</th>\n      <td>6</td>\n      <td>1</td>\n      <td>BOD</td>\n      <td>BOD</td>\n      <td>atop(textstyle(!!BOD!![5]),textstyle(!!(mg/l O...</td>\n      <td>0</td>\n      <td>300</td>\n      <td>10</td>\n    </tr>\n    <tr>\n      <th>med</th>\n      <td>7</td>\n      <td>1</td>\n      <td>COD</td>\n      <td>COD</td>\n      <td>atop(textstyle(!!COD!!),textstyle(!!(mg/l O!![...</td>\n      <td>0</td>\n      <td>600</td>\n      <td>10</td>\n    </tr>\n    <tr>\n      <th>med</th>\n      <td>8</td>\n      <td>1</td>\n      <td>TEMP.INDIV</td>\n      <td>Temperature</td>\n      <td>atop(textstyle(!!Temperature!!),textstyle(!!(°...</td>\n      <td>0</td>\n      <td>60</td>\n      <td>10</td>\n    </tr>\n    <tr>\n      <th>med</th>\n      <td>9</td>\n      <td>1</td>\n      <td>TEMP_PROCESS.INDIV</td>\n      <td>TEMP_PROCESS</td>\n      <td>atop(textstyle(!!Control!!),textstyle(!!Temp (...</td>\n      <td>0</td>\n      <td>150</td>\n      <td>8</td>\n    </tr>\n    <tr>\n      <th>med</th>\n      <td>10</td>\n      <td>1</td>\n      <td>EVENT.INDIV</td>\n      <td>TEMP_EVENT</td>\n      <td>atop(textstyle(!!Heating!!),textstyle(!!Contro...</td>\n      <td>0</td>\n      <td>1</td>\n      <td>3</td>\n    </tr>\n    <tr>\n      <th>med</th>\n      <td>11</td>\n      <td>1</td>\n      <td>pH</td>\n      <td>pH</td>\n      <td>textstyle(!!pH!!)</td>\n      <td>4</td>\n      <td>10</td>\n      <td>10</td>\n    </tr>\n    <tr>\n      <th>med</th>\n      <td>12</td>\n      <td>1</td>\n      <td>Conductivity</td>\n      <td>Conductivity</td>\n      <td>atop(textstyle(!!Conductance!!),textstyle(!!(μ...</td>\n      <td>0</td>\n      <td>2500</td>\n      <td>10</td>\n    </tr>\n    <tr>\n      <th>med</th>\n      <td>13</td>\n      <td>1</td>\n      <td>PRESSURE.INDIV</td>\n      <td>Pressure</td>\n      <td>atop(textstyle(!!Pressure (mbar)!!),textstyle(...</td>\n      <td>-50</td>\n      <td>50</td>\n      <td>10</td>\n    </tr>\n    <tr>\n      <th>med</th>\n      <td>14</td>\n      <td>1</td>\n      <td>DO</td>\n      <td>Dissolved Oxygen</td>\n      <td>atop(textstyle(!!Dissolved!!),textstyle(!!Oxyg...</td>\n      <td>0</td>\n      <td>8</td>\n      <td>10</td>\n    </tr>\n    <tr>\n      <th>med</th>\n      <td>15</td>\n      <td>1</td>\n      <td>Level</td>\n      <td>Levels</td>\n      <td>atop(textstyle(!!River Level (m)!!),textstyle(...</td>\n      <td>0</td>\n      <td>3</td>\n      <td>10</td>\n    </tr>\n    <tr>\n      <th>med</th>\n      <td>16</td>\n      <td>1</td>\n      <td>Pump</td>\n      <td>Pump</td>\n      <td>atop(textstyle(!!Flow rate!!),textstyle(!!(ml/...</td>\n      <td>0</td>\n      <td>30</td>\n      <td>8</td>\n    </tr>\n    <tr>\n      <th>med</th>\n      <td>17</td>\n      <td>1</td>\n      <td>PUMP_EVENT</td>\n      <td>PUMP_EVENT</td>\n      <td>textstyle(!!Pump!!)</td>\n      <td>0</td>\n      <td>1</td>\n      <td>3</td>\n    </tr>\n    <tr>\n      <th>low</th>\n      <td>1</td>\n      <td>1</td>\n      <td>BES.INDIV_CA</td>\n      <td>BES</td>\n      <td>atop(textstyle(!!Current Density!!),textstyle(...</td>\n      <td>0</td>\n      <td>40</td>\n      <td>10</td>\n    </tr>\n    <tr>\n      <th>low</th>\n      <td>2</td>\n      <td>1</td>\n      <td>BES.INDIV_CB</td>\n      <td>BES</td>\n      <td>atop(textstyle(!!Current Density!!),textstyle(...</td>\n      <td>0</td>\n      <td>40</td>\n      <td>10</td>\n    </tr>\n    <tr>\n      <th>low</th>\n      <td>3</td>\n      <td>1</td>\n      <td>BES.INDIV_CC</td>\n      <td>BES</td>\n      <td>atop(textstyle(!!Current Density!!),textstyle(...</td>\n      <td>0</td>\n      <td>40</td>\n      <td>10</td>\n    </tr>\n    <tr>\n      <th>low</th>\n      <td>4</td>\n      <td>1</td>\n      <td>REXT.INDIV</td>\n      <td>REXT</td>\n      <td>atop(R[textstyle(!!Ext!!)],textstyle(!!(!!*Ome...</td>\n      <td>0</td>\n      <td>400</td>\n      <td>8</td>\n    </tr>\n    <tr>\n      <th>low</th>\n      <td>5</td>\n      <td>1</td>\n      <td>OCP.INDIV</td>\n      <td>OCP</td>\n      <td>textstyle(!!OCP!!)</td>\n      <td>0</td>\n      <td>1</td>\n      <td>6</td>\n    </tr>\n    <tr>\n      <th>low</th>\n      <td>6</td>\n      <td>1</td>\n      <td>BOD</td>\n      <td>BOD</td>\n      <td>atop(textstyle(!!BOD!![5]),textstyle(!!(mg/l O...</td>\n      <td>0</td>\n      <td>300</td>\n      <td>10</td>\n    </tr>\n    <tr>\n      <th>low</th>\n      <td>7</td>\n      <td>1</td>\n      <td>COD</td>\n      <td>COD</td>\n      <td>atop(textstyle(!!COD!!),textstyle(!!(mg/l O!![...</td>\n      <td>0</td>\n      <td>600</td>\n      <td>10</td>\n    </tr>\n    <tr>\n      <th>low</th>\n      <td>8</td>\n      <td>1</td>\n      <td>TEMP.INDIV</td>\n      <td>Temperature</td>\n      <td>atop(textstyle(!!Temperature!!),textstyle(!!(°...</td>\n      <td>0</td>\n      <td>60</td>\n      <td>10</td>\n    </tr>\n    <tr>\n      <th>low</th>\n      <td>9</td>\n      <td>1</td>\n      <td>TEMP_PROCESS.INDIV</td>\n      <td>TEMP_PROCESS</td>\n      <td>atop(textstyle(!!Control!!),textstyle(!!Temp (...</td>\n      <td>0</td>\n      <td>150</td>\n      <td>8</td>\n    </tr>\n    <tr>\n      <th>low</th>\n      <td>10</td>\n      <td>1</td>\n      <td>EVENT.INDIV</td>\n      <td>TEMP_EVENT</td>\n      <td>atop(textstyle(!!Heating!!),textstyle(!!Contro...</td>\n      <td>0</td>\n      <td>1</td>\n      <td>3</td>\n    </tr>\n    <tr>\n      <th>low</th>\n      <td>11</td>\n      <td>1</td>\n      <td>pH</td>\n      <td>pH</td>\n      <td>textstyle(!!pH!!)</td>\n      <td>4</td>\n      <td>10</td>\n      <td>10</td>\n    </tr>\n    <tr>\n      <th>low</th>\n      <td>12</td>\n      <td>1</td>\n      <td>Conductivity</td>\n      <td>Conductivity</td>\n      <td>atop(textstyle(!!Conductance!!),textstyle(!!(μ...</td>\n      <td>0</td>\n      <td>2500</td>\n      <td>10</td>\n    </tr>\n    <tr>\n      <th>low</th>\n      <td>13</td>\n      <td>1</td>\n      <td>PRESSURE.INDIV</td>\n      <td>Pressure</td>\n      <td>atop(textstyle(!!Pressure (mbar)!!),textstyle(...</td>\n      <td>-50</td>\n      <td>50</td>\n      <td>10</td>\n    </tr>\n    <tr>\n      <th>low</th>\n      <td>14</td>\n      <td>1</td>\n      <td>DO</td>\n      <td>Dissolved Oxygen</td>\n      <td>atop(textstyle(!!Dissolved!!),textstyle(!!Oxyg...</td>\n      <td>0</td>\n      <td>8</td>\n      <td>10</td>\n    </tr>\n    <tr>\n      <th>low</th>\n      <td>15</td>\n      <td>1</td>\n      <td>Level</td>\n      <td>Levels</td>\n      <td>atop(textstyle(!!River Level (m)!!),textstyle(...</td>\n      <td>0</td>\n      <td>3</td>\n      <td>10</td>\n    </tr>\n    <tr>\n      <th>low</th>\n      <td>16</td>\n      <td>1</td>\n      <td>Pump</td>\n      <td>Pump</td>\n      <td>atop(textstyle(!!Flow rate!!),textstyle(!!(ml/...</td>\n      <td>0</td>\n      <td>30</td>\n      <td>8</td>\n    </tr>\n    <tr>\n      <th>low</th>\n      <td>17</td>\n      <td>1</td>\n      <td>PUMP_EVENT</td>\n      <td>PUMP_EVENT</td>\n      <td>textstyle(!!Pump!!)</td>\n      <td>0</td>\n      <td>1</td>\n      <td>3</td>\n    </tr>\n  </tbody>\n</table>\n</div>",
      "text/plain": "       row  col                plot          plot_lab  \\\nchart                                                   \nhigh     1    1        BES.INDIV_CA               BES   \nhigh     2    1        BES.INDIV_CB               BES   \nhigh     3    1        BES.INDIV_CC               BES   \nhigh     4    1          REXT.INDIV              REXT   \nhigh     5    1           OCP.INDIV               OCP   \nhigh     6    1                 BOD               BOD   \nhigh     7    1                 COD               COD   \nhigh     8    1          TEMP.INDIV       Temperature   \nhigh     9    1  TEMP_PROCESS.INDIV      TEMP_PROCESS   \nhigh    10    1         EVENT.INDIV        TEMP_EVENT   \nhigh    11    1                  pH                pH   \nhigh    12    1        Conductivity      Conductivity   \nhigh    13    1      PRESSURE.INDIV          Pressure   \nhigh    14    1                  DO  Dissolved Oxygen   \nhigh    15    1               Level            Levels   \nhigh    16    1                Pump              Pump   \nhigh    17    1          PUMP_EVENT        PUMP_EVENT   \nmed      1    1        BES.INDIV_CA               BES   \nmed      2    1        BES.INDIV_CB               BES   \nmed      3    1        BES.INDIV_CC               BES   \nmed      4    1          REXT.INDIV              REXT   \nmed      5    1           OCP.INDIV               OCP   \nmed      6    1                 BOD               BOD   \nmed      7    1                 COD               COD   \nmed      8    1          TEMP.INDIV       Temperature   \nmed      9    1  TEMP_PROCESS.INDIV      TEMP_PROCESS   \nmed     10    1         EVENT.INDIV        TEMP_EVENT   \nmed     11    1                  pH                pH   \nmed     12    1        Conductivity      Conductivity   \nmed     13    1      PRESSURE.INDIV          Pressure   \nmed     14    1                  DO  Dissolved Oxygen   \nmed     15    1               Level            Levels   \nmed     16    1                Pump              Pump   \nmed     17    1          PUMP_EVENT        PUMP_EVENT   \nlow      1    1        BES.INDIV_CA               BES   \nlow      2    1        BES.INDIV_CB               BES   \nlow      3    1        BES.INDIV_CC               BES   \nlow      4    1          REXT.INDIV              REXT   \nlow      5    1           OCP.INDIV               OCP   \nlow      6    1                 BOD               BOD   \nlow      7    1                 COD               COD   \nlow      8    1          TEMP.INDIV       Temperature   \nlow      9    1  TEMP_PROCESS.INDIV      TEMP_PROCESS   \nlow     10    1         EVENT.INDIV        TEMP_EVENT   \nlow     11    1                  pH                pH   \nlow     12    1        Conductivity      Conductivity   \nlow     13    1      PRESSURE.INDIV          Pressure   \nlow     14    1                  DO  Dissolved Oxygen   \nlow     15    1               Level            Levels   \nlow     16    1                Pump              Pump   \nlow     17    1          PUMP_EVENT        PUMP_EVENT   \n\n                                                    ylab  ymin  ymax   height  \nchart                                                                          \nhigh                           Current Density\\n(μA/cm²)     0    40       10  \nhigh                           Current Density\\n(μA/cm²)     0    40       10  \nhigh                           Current Density\\n(μA/cm²)     0    40       10  \nhigh                                         R[Ext]\\n(Ω)     0   400        8  \nhigh                                                 OCP     0     1        6  \nhigh                                     BOD₅\\n(mg/l O₂)     0   300       10  \nhigh   atop(textstyle(!!COD!!),textstyle(!!(mg/l O!![...     0   600       10  \nhigh   atop(textstyle(!!Temperature!!),textstyle(!!(°...     0    60       10  \nhigh   atop(textstyle(!!Control!!),textstyle(!!Temp (...     0   150        8  \nhigh   atop(textstyle(!!Heating!!),textstyle(!!Contro...     0     1        3  \nhigh                                   textstyle(!!pH!!)     4    10       10  \nhigh   atop(textstyle(!!Conductance!!),textstyle(!!(μ...     0  2500       10  \nhigh   atop(textstyle(!!Pressure (mbar)!!),textstyle(...   -50    50       10  \nhigh   atop(textstyle(!!Dissolved!!),textstyle(!!Oxyg...     0     8       10  \nhigh   atop(textstyle(!!River Level (m)!!),textstyle(...     0     3       10  \nhigh   atop(textstyle(!!Flow rate!!),textstyle(!!(ml/...     0    30        8  \nhigh                                 textstyle(!!Pump!!)     0     1        3  \nmed    atop(textstyle(!!Current Density!!),textstyle(...     0    40       10  \nmed    atop(textstyle(!!Current Density!!),textstyle(...     0    40       10  \nmed    atop(textstyle(!!Current Density!!),textstyle(...     0    40       10  \nmed    atop(R[textstyle(!!Ext!!)],textstyle(!!(!!*Ome...     0   400        8  \nmed                                   textstyle(!!OCP!!)     0     1        6  \nmed    atop(textstyle(!!BOD!![5]),textstyle(!!(mg/l O...     0   300       10  \nmed    atop(textstyle(!!COD!!),textstyle(!!(mg/l O!![...     0   600       10  \nmed    atop(textstyle(!!Temperature!!),textstyle(!!(°...     0    60       10  \nmed    atop(textstyle(!!Control!!),textstyle(!!Temp (...     0   150        8  \nmed    atop(textstyle(!!Heating!!),textstyle(!!Contro...     0     1        3  \nmed                                    textstyle(!!pH!!)     4    10       10  \nmed    atop(textstyle(!!Conductance!!),textstyle(!!(μ...     0  2500       10  \nmed    atop(textstyle(!!Pressure (mbar)!!),textstyle(...   -50    50       10  \nmed    atop(textstyle(!!Dissolved!!),textstyle(!!Oxyg...     0     8       10  \nmed    atop(textstyle(!!River Level (m)!!),textstyle(...     0     3       10  \nmed    atop(textstyle(!!Flow rate!!),textstyle(!!(ml/...     0    30        8  \nmed                                  textstyle(!!Pump!!)     0     1        3  \nlow    atop(textstyle(!!Current Density!!),textstyle(...     0    40       10  \nlow    atop(textstyle(!!Current Density!!),textstyle(...     0    40       10  \nlow    atop(textstyle(!!Current Density!!),textstyle(...     0    40       10  \nlow    atop(R[textstyle(!!Ext!!)],textstyle(!!(!!*Ome...     0   400        8  \nlow                                   textstyle(!!OCP!!)     0     1        6  \nlow    atop(textstyle(!!BOD!![5]),textstyle(!!(mg/l O...     0   300       10  \nlow    atop(textstyle(!!COD!!),textstyle(!!(mg/l O!![...     0   600       10  \nlow    atop(textstyle(!!Temperature!!),textstyle(!!(°...     0    60       10  \nlow    atop(textstyle(!!Control!!),textstyle(!!Temp (...     0   150        8  \nlow    atop(textstyle(!!Heating!!),textstyle(!!Contro...     0     1        3  \nlow                                    textstyle(!!pH!!)     4    10       10  \nlow    atop(textstyle(!!Conductance!!),textstyle(!!(μ...     0  2500       10  \nlow    atop(textstyle(!!Pressure (mbar)!!),textstyle(...   -50    50       10  \nlow    atop(textstyle(!!Dissolved!!),textstyle(!!Oxyg...     0     8       10  \nlow    atop(textstyle(!!River Level (m)!!),textstyle(...     0     3       10  \nlow    atop(textstyle(!!Flow rate!!),textstyle(!!(ml/...     0    30        8  \nlow                                  textstyle(!!Pump!!)     0     1        3  "
     },
     "execution_count": 8,
     "metadata": {},
     "output_type": "execute_result"
    }
   ],
   "source": [
    "info['plots']"
   ]
  },
  {
   "cell_type": "markdown",
   "execution_count": null,
   "metadata": {},
   "outputs": [],
   "source": [
    "### Colours:"
   ]
  },
  {
   "cell_type": "code",
   "execution_count": 9,
   "metadata": {},
   "outputs": [
    {
     "data": {
      "image/png": "[encoded data removed]",
      "image/svg+xml": "<?xml version=\"1.0\" encoding=\"utf-8\" standalone=\"no\"?>\r\n<!DOCTYPE svg PUBLIC \"-//W3C//DTD SVG 1.1//EN\"\r\n  \"http://www.w3.org/Graphics/SVG/1.1/DTD/svg11.dtd\">\r\n<!-- Created with matplotlib (https://matplotlib.org/) -->\r\n<svg height=\"72.26pt\" version=\"1.1\" viewBox=\"0 0 575.9 72.26\" width=\"575.9pt\" xmlns=\"http://www.w3.org/2000/svg\" xmlns:xlink=\"http://www.w3.org/1999/xlink\">\r\n <defs>\r\n  <style type=\"text/css\">\r\n*{stroke-linecap:butt;stroke-linejoin:round;}\r\n  </style>\r\n </defs>\r\n <g id=\"figure_1\">\r\n  <g id=\"patch_1\">\r\n   <path d=\"M 0 72.26 \r\nL 575.9 72.26 \r\nL 575.9 0 \r\nL 0 0 \r\nz\r\n\" style=\"fill:none;\"/>\r\n  </g>\r\n  <g id=\"axes_1\">\r\n   <g id=\"patch_2\">\r\n    <path d=\"M 10.7 61.56 \r\nL 568.7 61.56 \r\nL 568.7 7.2 \r\nL 10.7 7.2 \r\nz\r\n\" style=\"fill:#ffffff;\"/>\r\n   </g>\r\n   <g clip-path=\"url(#pfef6713410)\">\r\n    <image height=\"55\" id=\"image440684a166\" transform=\"scale(1 -1)translate(0 -55)\" width=\"558\" x=\"10.7\" xlink:href=\"data:image/png;base64,\r\niVBORw0KGgoAAAANSUhEUgAAAi4AAAA3CAYAAAArDMGlAAAABHNCSVQICAgIfAhkiAAAAWRJREFUeJzt1rEtBWAYQFEkEjQatZJQq98K2jfGawxhDpURJNZQK4RGJQZgBc2fL1fOmeCWd//l4vJn7x+73n5MJyz1vDmbTlhm93YynbDU5/nDdMJSR0/v0wlL3X0dTycsdXt6OJ2wzOPr/XTCUt9XN9MJSx1MBwAA/JVxAQAyjAsAkGFcAIAM4wIAZBgXACDDuAAAGcYFAMgwLgBAhnEBADKMCwCQYVwAgAzjAgBkGBcAIMO4AAAZxgUAyDAuAECGcQEAMowLAJBhXACADOMCAGQYFwAgw7gAABnGBQDIMC4AQIZxAQAyjAsAkGFcAIAM4wIAZBgXACDDuAAAGcYFAMgwLgBAhnEBADKMCwCQYVwAgAzjAgBkGBcAIMO4AAAZxgUAyDAuAECGcQEAMowLAJBhXACADOMCAGQYFwAgw7gAABnGBQDIMC4AQIZxAQAyjAsAkGFcAIAM4wIAZBgXACDjF20IDufCfwCiAAAAAElFTkSuQmCC\" y=\"-6.56\"/>\r\n   </g>\r\n   <g id=\"matplotlib.axis_1\">\r\n    <g id=\"xtick_1\">\r\n     <g id=\"line2d_1\">\r\n      <defs>\r\n       <path d=\"M 0 0 \r\nL 0 3.5 \r\n\" id=\"m9d22090ccc\" style=\"stroke:#000000;stroke-width:0.8;\"/>\r\n      </defs>\r\n      <g>\r\n       <use style=\"stroke:#000000;stroke-width:0.8;\" x=\"10.7\" xlink:href=\"#m9d22090ccc\" y=\"61.56\"/>\r\n      </g>\r\n     </g>\r\n    </g>\r\n    <g id=\"xtick_2\">\r\n     <g id=\"line2d_2\">\r\n      <g>\r\n       <use style=\"stroke:#000000;stroke-width:0.8;\" x=\"66.5\" xlink:href=\"#m9d22090ccc\" y=\"61.56\"/>\r\n      </g>\r\n     </g>\r\n    </g>\r\n    <g id=\"xtick_3\">\r\n     <g id=\"line2d_3\">\r\n      <g>\r\n       <use style=\"stroke:#000000;stroke-width:0.8;\" x=\"122.3\" xlink:href=\"#m9d22090ccc\" y=\"61.56\"/>\r\n      </g>\r\n     </g>\r\n    </g>\r\n    <g id=\"xtick_4\">\r\n     <g id=\"line2d_4\">\r\n      <g>\r\n       <use style=\"stroke:#000000;stroke-width:0.8;\" x=\"178.1\" xlink:href=\"#m9d22090ccc\" y=\"61.56\"/>\r\n      </g>\r\n     </g>\r\n    </g>\r\n    <g id=\"xtick_5\">\r\n     <g id=\"line2d_5\">\r\n      <g>\r\n       <use style=\"stroke:#000000;stroke-width:0.8;\" x=\"233.9\" xlink:href=\"#m9d22090ccc\" y=\"61.56\"/>\r\n      </g>\r\n     </g>\r\n    </g>\r\n    <g id=\"xtick_6\">\r\n     <g id=\"line2d_6\">\r\n      <g>\r\n       <use style=\"stroke:#000000;stroke-width:0.8;\" x=\"289.7\" xlink:href=\"#m9d22090ccc\" y=\"61.56\"/>\r\n      </g>\r\n     </g>\r\n    </g>\r\n    <g id=\"xtick_7\">\r\n     <g id=\"line2d_7\">\r\n      <g>\r\n       <use style=\"stroke:#000000;stroke-width:0.8;\" x=\"345.5\" xlink:href=\"#m9d22090ccc\" y=\"61.56\"/>\r\n      </g>\r\n     </g>\r\n    </g>\r\n    <g id=\"xtick_8\">\r\n     <g id=\"line2d_8\">\r\n      <g>\r\n       <use style=\"stroke:#000000;stroke-width:0.8;\" x=\"401.3\" xlink:href=\"#m9d22090ccc\" y=\"61.56\"/>\r\n      </g>\r\n     </g>\r\n    </g>\r\n    <g id=\"xtick_9\">\r\n     <g id=\"line2d_9\">\r\n      <g>\r\n       <use style=\"stroke:#000000;stroke-width:0.8;\" x=\"457.1\" xlink:href=\"#m9d22090ccc\" y=\"61.56\"/>\r\n      </g>\r\n     </g>\r\n    </g>\r\n    <g id=\"xtick_10\">\r\n     <g id=\"line2d_10\">\r\n      <g>\r\n       <use style=\"stroke:#000000;stroke-width:0.8;\" x=\"512.9\" xlink:href=\"#m9d22090ccc\" y=\"61.56\"/>\r\n      </g>\r\n     </g>\r\n    </g>\r\n   </g>\r\n   <g id=\"matplotlib.axis_2\">\r\n    <g id=\"ytick_1\">\r\n     <g id=\"line2d_11\">\r\n      <defs>\r\n       <path d=\"M 0 0 \r\nL -3.5 0 \r\n\" id=\"md9e70b38cf\" style=\"stroke:#000000;stroke-width:0.8;\"/>\r\n      </defs>\r\n      <g>\r\n       <use style=\"stroke:#000000;stroke-width:0.8;\" x=\"10.7\" xlink:href=\"#md9e70b38cf\" y=\"7.2\"/>\r\n      </g>\r\n     </g>\r\n    </g>\r\n    <g id=\"ytick_2\">\r\n     <g id=\"line2d_12\">\r\n      <g>\r\n       <use style=\"stroke:#000000;stroke-width:0.8;\" x=\"10.7\" xlink:href=\"#md9e70b38cf\" y=\"61.56\"/>\r\n      </g>\r\n     </g>\r\n    </g>\r\n   </g>\r\n   <g id=\"patch_3\">\r\n    <path d=\"M 10.7 61.56 \r\nL 10.7 7.2 \r\n\" style=\"fill:none;stroke:#000000;stroke-linecap:square;stroke-linejoin:miter;stroke-width:0.8;\"/>\r\n   </g>\r\n   <g id=\"patch_4\">\r\n    <path d=\"M 568.7 61.56 \r\nL 568.7 7.2 \r\n\" style=\"fill:none;stroke:#000000;stroke-linecap:square;stroke-linejoin:miter;stroke-width:0.8;\"/>\r\n   </g>\r\n   <g id=\"patch_5\">\r\n    <path d=\"M 10.7 61.56 \r\nL 568.7 61.56 \r\n\" style=\"fill:none;stroke:#000000;stroke-linecap:square;stroke-linejoin:miter;stroke-width:0.8;\"/>\r\n   </g>\r\n   <g id=\"patch_6\">\r\n    <path d=\"M 10.7 7.2 \r\nL 568.7 7.2 \r\n\" style=\"fill:none;stroke:#000000;stroke-linecap:square;stroke-linejoin:miter;stroke-width:0.8;\"/>\r\n   </g>\r\n  </g>\r\n </g>\r\n <defs>\r\n  <clipPath id=\"pfef6713410\">\r\n   <rect height=\"54.36\" width=\"558\" x=\"10.7\" y=\"7.2\"/>\r\n  </clipPath>\r\n </defs>\r\n</svg>\r\n",
      "text/plain": "<Figure size 720x72 with 1 Axes>"
     },
     "metadata": {
      "needs_background": "light"
     },
     "output_type": "display_data"
    },
    {
     "data": {
      "image/png": "[encoded data removed]",
      "image/svg+xml": "<?xml version=\"1.0\" encoding=\"utf-8\" standalone=\"no\"?>\r\n<!DOCTYPE svg PUBLIC \"-//W3C//DTD SVG 1.1//EN\"\r\n  \"http://www.w3.org/Graphics/SVG/1.1/DTD/svg11.dtd\">\r\n<!-- Created with matplotlib (https://matplotlib.org/) -->\r\n<svg height=\"72.26pt\" version=\"1.1\" viewBox=\"0 0 575.9 72.26\" width=\"575.9pt\" xmlns=\"http://www.w3.org/2000/svg\" xmlns:xlink=\"http://www.w3.org/1999/xlink\">\r\n <defs>\r\n  <style type=\"text/css\">\r\n*{stroke-linecap:butt;stroke-linejoin:round;}\r\n  </style>\r\n </defs>\r\n <g id=\"figure_1\">\r\n  <g id=\"patch_1\">\r\n   <path d=\"M 0 72.26 \r\nL 575.9 72.26 \r\nL 575.9 0 \r\nL 0 0 \r\nz\r\n\" style=\"fill:none;\"/>\r\n  </g>\r\n  <g id=\"axes_1\">\r\n   <g id=\"patch_2\">\r\n    <path d=\"M 10.7 61.56 \r\nL 568.7 61.56 \r\nL 568.7 7.2 \r\nL 10.7 7.2 \r\nz\r\n\" style=\"fill:#ffffff;\"/>\r\n   </g>\r\n   <g clip-path=\"url(#p68dfce82b0)\">\r\n    <image height=\"55\" id=\"imageaf1f091f2e\" transform=\"scale(1 -1)translate(0 -55)\" width=\"558\" x=\"10.7\" xlink:href=\"data:image/png;base64,\r\niVBORw0KGgoAAAANSUhEUgAAAi4AAAA3CAYAAAArDMGlAAAABHNCSVQICAgIfAhkiAAAAV9JREFUeJzt1qFNA2AYRVGggMYQbINEwjidqwnTIPBMgKshiE5ASFkB8+fLbc6Z4JmX3MvT6/50cc4eD9MLlvrc3k9PWObt+nd6wlI3P7vpCUvdHTfTE5Z6+D5OT1jq+fZ8//fx9T49YanN08v0hKWupgcAAPyXcAEAMoQLAJAhXACADOECAGQIFwAgQ7gAABnCBQDIEC4AQIZwAQAyhAsAkCFcAIAM4QIAZAgXACBDuAAAGcIFAMgQLgBAhnABADKECwCQIVwAgAzhAgBkCBcAIEO4AAAZwgUAyBAuAECGcAEAMoQLAJAhXACADOECAGQIFwAgQ7gAABnCBQDIEC4AQIZwAQAyhAsAkCFcAIAM4QIAZAgXACBDuAAAGcIFAMgQLgBAhnABADKECwCQIVwAgAzhAgBkCBcAIEO4AAAZwgUAyBAuAECGcAEAMoQLAJAhXACADOECAGQIFwAg4w+Ojw+/oOP44gAAAABJRU5ErkJggg==\" y=\"-6.56\"/>\r\n   </g>\r\n   <g id=\"matplotlib.axis_1\">\r\n    <g id=\"xtick_1\">\r\n     <g id=\"line2d_1\">\r\n      <defs>\r\n       <path d=\"M 0 0 \r\nL 0 3.5 \r\n\" id=\"mf27683ffe5\" style=\"stroke:#000000;stroke-width:0.8;\"/>\r\n      </defs>\r\n      <g>\r\n       <use style=\"stroke:#000000;stroke-width:0.8;\" x=\"10.7\" xlink:href=\"#mf27683ffe5\" y=\"61.56\"/>\r\n      </g>\r\n     </g>\r\n    </g>\r\n    <g id=\"xtick_2\">\r\n     <g id=\"line2d_2\">\r\n      <g>\r\n       <use style=\"stroke:#000000;stroke-width:0.8;\" x=\"66.5\" xlink:href=\"#mf27683ffe5\" y=\"61.56\"/>\r\n      </g>\r\n     </g>\r\n    </g>\r\n    <g id=\"xtick_3\">\r\n     <g id=\"line2d_3\">\r\n      <g>\r\n       <use style=\"stroke:#000000;stroke-width:0.8;\" x=\"122.3\" xlink:href=\"#mf27683ffe5\" y=\"61.56\"/>\r\n      </g>\r\n     </g>\r\n    </g>\r\n    <g id=\"xtick_4\">\r\n     <g id=\"line2d_4\">\r\n      <g>\r\n       <use style=\"stroke:#000000;stroke-width:0.8;\" x=\"178.1\" xlink:href=\"#mf27683ffe5\" y=\"61.56\"/>\r\n      </g>\r\n     </g>\r\n    </g>\r\n    <g id=\"xtick_5\">\r\n     <g id=\"line2d_5\">\r\n      <g>\r\n       <use style=\"stroke:#000000;stroke-width:0.8;\" x=\"233.9\" xlink:href=\"#mf27683ffe5\" y=\"61.56\"/>\r\n      </g>\r\n     </g>\r\n    </g>\r\n    <g id=\"xtick_6\">\r\n     <g id=\"line2d_6\">\r\n      <g>\r\n       <use style=\"stroke:#000000;stroke-width:0.8;\" x=\"289.7\" xlink:href=\"#mf27683ffe5\" y=\"61.56\"/>\r\n      </g>\r\n     </g>\r\n    </g>\r\n    <g id=\"xtick_7\">\r\n     <g id=\"line2d_7\">\r\n      <g>\r\n       <use style=\"stroke:#000000;stroke-width:0.8;\" x=\"345.5\" xlink:href=\"#mf27683ffe5\" y=\"61.56\"/>\r\n      </g>\r\n     </g>\r\n    </g>\r\n    <g id=\"xtick_8\">\r\n     <g id=\"line2d_8\">\r\n      <g>\r\n       <use style=\"stroke:#000000;stroke-width:0.8;\" x=\"401.3\" xlink:href=\"#mf27683ffe5\" y=\"61.56\"/>\r\n      </g>\r\n     </g>\r\n    </g>\r\n    <g id=\"xtick_9\">\r\n     <g id=\"line2d_9\">\r\n      <g>\r\n       <use style=\"stroke:#000000;stroke-width:0.8;\" x=\"457.1\" xlink:href=\"#mf27683ffe5\" y=\"61.56\"/>\r\n      </g>\r\n     </g>\r\n    </g>\r\n    <g id=\"xtick_10\">\r\n     <g id=\"line2d_10\">\r\n      <g>\r\n       <use style=\"stroke:#000000;stroke-width:0.8;\" x=\"512.9\" xlink:href=\"#mf27683ffe5\" y=\"61.56\"/>\r\n      </g>\r\n     </g>\r\n    </g>\r\n   </g>\r\n   <g id=\"matplotlib.axis_2\">\r\n    <g id=\"ytick_1\">\r\n     <g id=\"line2d_11\">\r\n      <defs>\r\n       <path d=\"M 0 0 \r\nL -3.5 0 \r\n\" id=\"m264a76adb9\" style=\"stroke:#000000;stroke-width:0.8;\"/>\r\n      </defs>\r\n      <g>\r\n       <use style=\"stroke:#000000;stroke-width:0.8;\" x=\"10.7\" xlink:href=\"#m264a76adb9\" y=\"7.2\"/>\r\n      </g>\r\n     </g>\r\n    </g>\r\n    <g id=\"ytick_2\">\r\n     <g id=\"line2d_12\">\r\n      <g>\r\n       <use style=\"stroke:#000000;stroke-width:0.8;\" x=\"10.7\" xlink:href=\"#m264a76adb9\" y=\"61.56\"/>\r\n      </g>\r\n     </g>\r\n    </g>\r\n   </g>\r\n   <g id=\"patch_3\">\r\n    <path d=\"M 10.7 61.56 \r\nL 10.7 7.2 \r\n\" style=\"fill:none;stroke:#000000;stroke-linecap:square;stroke-linejoin:miter;stroke-width:0.8;\"/>\r\n   </g>\r\n   <g id=\"patch_4\">\r\n    <path d=\"M 568.7 61.56 \r\nL 568.7 7.2 \r\n\" style=\"fill:none;stroke:#000000;stroke-linecap:square;stroke-linejoin:miter;stroke-width:0.8;\"/>\r\n   </g>\r\n   <g id=\"patch_5\">\r\n    <path d=\"M 10.7 61.56 \r\nL 568.7 61.56 \r\n\" style=\"fill:none;stroke:#000000;stroke-linecap:square;stroke-linejoin:miter;stroke-width:0.8;\"/>\r\n   </g>\r\n   <g id=\"patch_6\">\r\n    <path d=\"M 10.7 7.2 \r\nL 568.7 7.2 \r\n\" style=\"fill:none;stroke:#000000;stroke-linecap:square;stroke-linejoin:miter;stroke-width:0.8;\"/>\r\n   </g>\r\n  </g>\r\n </g>\r\n <defs>\r\n  <clipPath id=\"p68dfce82b0\">\r\n   <rect height=\"54.36\" width=\"558\" x=\"10.7\" y=\"7.2\"/>\r\n  </clipPath>\r\n </defs>\r\n</svg>\r\n",
      "text/plain": "<Figure size 720x72 with 1 Axes>"
     },
     "metadata": {
      "needs_background": "light"
     },
     "output_type": "display_data"
    },
    {
     "data": {
      "image/png": "[encoded data removed]",
      "image/svg+xml": "<?xml version=\"1.0\" encoding=\"utf-8\" standalone=\"no\"?>\r\n<!DOCTYPE svg PUBLIC \"-//W3C//DTD SVG 1.1//EN\"\r\n  \"http://www.w3.org/Graphics/SVG/1.1/DTD/svg11.dtd\">\r\n<!-- Created with matplotlib (https://matplotlib.org/) -->\r\n<svg height=\"72.26pt\" version=\"1.1\" viewBox=\"0 0 575.9 72.26\" width=\"575.9pt\" xmlns=\"http://www.w3.org/2000/svg\" xmlns:xlink=\"http://www.w3.org/1999/xlink\">\r\n <defs>\r\n  <style type=\"text/css\">\r\n*{stroke-linecap:butt;stroke-linejoin:round;}\r\n  </style>\r\n </defs>\r\n <g id=\"figure_1\">\r\n  <g id=\"patch_1\">\r\n   <path d=\"M 0 72.26 \r\nL 575.9 72.26 \r\nL 575.9 0 \r\nL 0 0 \r\nz\r\n\" style=\"fill:none;\"/>\r\n  </g>\r\n  <g id=\"axes_1\">\r\n   <g id=\"patch_2\">\r\n    <path d=\"M 10.7 61.56 \r\nL 568.7 61.56 \r\nL 568.7 7.2 \r\nL 10.7 7.2 \r\nz\r\n\" style=\"fill:#ffffff;\"/>\r\n   </g>\r\n   <g clip-path=\"url(#p73f59e9f03)\">\r\n    <image height=\"55\" id=\"image6dadf58c74\" transform=\"scale(1 -1)translate(0 -55)\" width=\"558\" x=\"10.7\" xlink:href=\"data:image/png;base64,\r\niVBORw0KGgoAAAANSUhEUgAAAi4AAAA3CAYAAAArDMGlAAAABHNCSVQICAgIfAhkiAAAAWRJREFUeJzt1qFNA2AYRVGKQGFQSEIQpFOgkbiOgegKFShYhQnYArB4PBJWwPz5cptzJnju3c3Tdvt7csQe7j6mJyz1enMxPWGZl8/z6QlLfV/vpycsdfb2Pj1hqcfN/fSEpXaXx3sNz1+H6QlL/VzdTk9Y6nR6AADAfwkXACBDuAAAGcIFAMgQLgBAhnABADKECwCQIVwAgAzhAgBkCBcAIEO4AAAZwgUAyBAuAECGcAEAMoQLAJAhXACADOECAGQIFwAgQ7gAABnCBQDIEC4AQIZwAQAyhAsAkCFcAIAM4QIAZAgXACBDuAAAGcIFAMgQLgBAhnABADKECwCQIVwAgAzhAgBkCBcAIEO4AAAZwgUAyBAuAECGcAEAMoQLAJAhXACADOECAGQIFwAgQ7gAABnCBQDIEC4AQIZwAQAyhAsAkCFcAIAM4QIAZAgXACBDuAAAGcIFAMgQLgBAhnABADL+ABq8Dn7VSBZHAAAAAElFTkSuQmCC\" y=\"-6.56\"/>\r\n   </g>\r\n   <g id=\"matplotlib.axis_1\">\r\n    <g id=\"xtick_1\">\r\n     <g id=\"line2d_1\">\r\n      <defs>\r\n       <path d=\"M 0 0 \r\nL 0 3.5 \r\n\" id=\"ma4c0d5563f\" style=\"stroke:#000000;stroke-width:0.8;\"/>\r\n      </defs>\r\n      <g>\r\n       <use style=\"stroke:#000000;stroke-width:0.8;\" x=\"10.7\" xlink:href=\"#ma4c0d5563f\" y=\"61.56\"/>\r\n      </g>\r\n     </g>\r\n    </g>\r\n    <g id=\"xtick_2\">\r\n     <g id=\"line2d_2\">\r\n      <g>\r\n       <use style=\"stroke:#000000;stroke-width:0.8;\" x=\"66.5\" xlink:href=\"#ma4c0d5563f\" y=\"61.56\"/>\r\n      </g>\r\n     </g>\r\n    </g>\r\n    <g id=\"xtick_3\">\r\n     <g id=\"line2d_3\">\r\n      <g>\r\n       <use style=\"stroke:#000000;stroke-width:0.8;\" x=\"122.3\" xlink:href=\"#ma4c0d5563f\" y=\"61.56\"/>\r\n      </g>\r\n     </g>\r\n    </g>\r\n    <g id=\"xtick_4\">\r\n     <g id=\"line2d_4\">\r\n      <g>\r\n       <use style=\"stroke:#000000;stroke-width:0.8;\" x=\"178.1\" xlink:href=\"#ma4c0d5563f\" y=\"61.56\"/>\r\n      </g>\r\n     </g>\r\n    </g>\r\n    <g id=\"xtick_5\">\r\n     <g id=\"line2d_5\">\r\n      <g>\r\n       <use style=\"stroke:#000000;stroke-width:0.8;\" x=\"233.9\" xlink:href=\"#ma4c0d5563f\" y=\"61.56\"/>\r\n      </g>\r\n     </g>\r\n    </g>\r\n    <g id=\"xtick_6\">\r\n     <g id=\"line2d_6\">\r\n      <g>\r\n       <use style=\"stroke:#000000;stroke-width:0.8;\" x=\"289.7\" xlink:href=\"#ma4c0d5563f\" y=\"61.56\"/>\r\n      </g>\r\n     </g>\r\n    </g>\r\n    <g id=\"xtick_7\">\r\n     <g id=\"line2d_7\">\r\n      <g>\r\n       <use style=\"stroke:#000000;stroke-width:0.8;\" x=\"345.5\" xlink:href=\"#ma4c0d5563f\" y=\"61.56\"/>\r\n      </g>\r\n     </g>\r\n    </g>\r\n    <g id=\"xtick_8\">\r\n     <g id=\"line2d_8\">\r\n      <g>\r\n       <use style=\"stroke:#000000;stroke-width:0.8;\" x=\"401.3\" xlink:href=\"#ma4c0d5563f\" y=\"61.56\"/>\r\n      </g>\r\n     </g>\r\n    </g>\r\n    <g id=\"xtick_9\">\r\n     <g id=\"line2d_9\">\r\n      <g>\r\n       <use style=\"stroke:#000000;stroke-width:0.8;\" x=\"457.1\" xlink:href=\"#ma4c0d5563f\" y=\"61.56\"/>\r\n      </g>\r\n     </g>\r\n    </g>\r\n    <g id=\"xtick_10\">\r\n     <g id=\"line2d_10\">\r\n      <g>\r\n       <use style=\"stroke:#000000;stroke-width:0.8;\" x=\"512.9\" xlink:href=\"#ma4c0d5563f\" y=\"61.56\"/>\r\n      </g>\r\n     </g>\r\n    </g>\r\n   </g>\r\n   <g id=\"matplotlib.axis_2\">\r\n    <g id=\"ytick_1\">\r\n     <g id=\"line2d_11\">\r\n      <defs>\r\n       <path d=\"M 0 0 \r\nL -3.5 0 \r\n\" id=\"m1ab730146b\" style=\"stroke:#000000;stroke-width:0.8;\"/>\r\n      </defs>\r\n      <g>\r\n       <use style=\"stroke:#000000;stroke-width:0.8;\" x=\"10.7\" xlink:href=\"#m1ab730146b\" y=\"7.2\"/>\r\n      </g>\r\n     </g>\r\n    </g>\r\n    <g id=\"ytick_2\">\r\n     <g id=\"line2d_12\">\r\n      <g>\r\n       <use style=\"stroke:#000000;stroke-width:0.8;\" x=\"10.7\" xlink:href=\"#m1ab730146b\" y=\"61.56\"/>\r\n      </g>\r\n     </g>\r\n    </g>\r\n   </g>\r\n   <g id=\"patch_3\">\r\n    <path d=\"M 10.7 61.56 \r\nL 10.7 7.2 \r\n\" style=\"fill:none;stroke:#000000;stroke-linecap:square;stroke-linejoin:miter;stroke-width:0.8;\"/>\r\n   </g>\r\n   <g id=\"patch_4\">\r\n    <path d=\"M 568.7 61.56 \r\nL 568.7 7.2 \r\n\" style=\"fill:none;stroke:#000000;stroke-linecap:square;stroke-linejoin:miter;stroke-width:0.8;\"/>\r\n   </g>\r\n   <g id=\"patch_5\">\r\n    <path d=\"M 10.7 61.56 \r\nL 568.7 61.56 \r\n\" style=\"fill:none;stroke:#000000;stroke-linecap:square;stroke-linejoin:miter;stroke-width:0.8;\"/>\r\n   </g>\r\n   <g id=\"patch_6\">\r\n    <path d=\"M 10.7 7.2 \r\nL 568.7 7.2 \r\n\" style=\"fill:none;stroke:#000000;stroke-linecap:square;stroke-linejoin:miter;stroke-width:0.8;\"/>\r\n   </g>\r\n  </g>\r\n </g>\r\n <defs>\r\n  <clipPath id=\"p73f59e9f03\">\r\n   <rect height=\"54.36\" width=\"558\" x=\"10.7\" y=\"7.2\"/>\r\n  </clipPath>\r\n </defs>\r\n</svg>\r\n",
      "text/plain": "<Figure size 720x72 with 1 Axes>"
     },
     "metadata": {
      "needs_background": "light"
     },
     "output_type": "display_data"
    }
   ],
   "source": [
    "info['colours']\n",
    "\n",
    "info['colours']['rgb'] = list(zip((info['colours']['r']/255), (info['colours']['g']/255), (info['colours']['b']/255)))\n",
    "info['colours']['rgb_str'] = \"rgb(\" + info['colours']['r'].astype(int).astype(str) + \",\" + info['colours']['g'].astype(int).astype(str) + \",\" + info['colours']['b'].astype(int).astype(str) + \")\"\n",
    "\n",
    "colour_palettes = {}\n",
    "colour_palettes['all'] = info['colours']['rgb'].tolist()\n",
    "\n",
    "for theme in info['colours']['theme'].unique():\n",
    "    colour_palettes[theme] = info['colours'].query('theme == \"' + theme + '\"')['rgb'].tolist()\n",
    "    sns.palplot(colour_palettes[theme])\n",
    "\n",
    "del theme"
   ]
  },
  {
   "cell_type": "code",
   "execution_count": 10,
   "metadata": {},
   "outputs": [
    {
     "data": {
      "image/png": "[encoded data removed]",
      "image/svg+xml": "<?xml version=\"1.0\" encoding=\"utf-8\" standalone=\"no\"?>\r\n<!DOCTYPE svg PUBLIC \"-//W3C//DTD SVG 1.1//EN\"\r\n  \"http://www.w3.org/Graphics/SVG/1.1/DTD/svg11.dtd\">\r\n<!-- Created with matplotlib (https://matplotlib.org/) -->\r\n<svg height=\"72.26pt\" version=\"1.1\" viewBox=\"0 0 241.1 72.26\" width=\"241.1pt\" xmlns=\"http://www.w3.org/2000/svg\" xmlns:xlink=\"http://www.w3.org/1999/xlink\">\r\n <defs>\r\n  <style type=\"text/css\">\r\n*{stroke-linecap:butt;stroke-linejoin:round;}\r\n  </style>\r\n </defs>\r\n <g id=\"figure_1\">\r\n  <g id=\"patch_1\">\r\n   <path d=\"M 0 72.26 \r\nL 241.1 72.26 \r\nL 241.1 0 \r\nL 0 0 \r\nz\r\n\" style=\"fill:none;\"/>\r\n  </g>\r\n  <g id=\"axes_1\">\r\n   <g id=\"patch_2\">\r\n    <path d=\"M 10.7 61.56 \r\nL 233.9 61.56 \r\nL 233.9 7.2 \r\nL 10.7 7.2 \r\nz\r\n\" style=\"fill:#ffffff;\"/>\r\n   </g>\r\n   <g clip-path=\"url(#p0611d987e9)\">\r\n    <image height=\"55\" id=\"imageb28c260e96\" transform=\"scale(1 -1)translate(0 -55)\" width=\"224\" x=\"10.7\" xlink:href=\"data:image/png;base64,\r\niVBORw0KGgoAAAANSUhEUgAAAOAAAAA3CAYAAAAVFkZ2AAAABHNCSVQICAgIfAhkiAAAANVJREFUeJzt00ENwkAAAMG24YMR6qhOeNRBDRJ0EARQFZdN6IyC/ez8eqy/6Y9t+61OGOr7PuqEoZ6fe50w1FIHwJUZEEIGhJABIWRACBkQQgaEkAEhZEAIGRBCBoSQASFkQAgZEEIGhJABIWRACBkQQgaEkAEhZEAIGRBCBoSQASFkQAgZEEIGhJABIWRACBkQQgaEkAEhZEAIGRBCBoSQASFkQAgZEEIGhJABIWRACBkQQgaEkAEhZEAIGRBCBoSQASFkQAgZEEIGhJABIWRACBkQQidoDAcjCAfTMgAAAABJRU5ErkJggg==\" y=\"-6.56\"/>\r\n   </g>\r\n   <g id=\"matplotlib.axis_1\">\r\n    <g id=\"xtick_1\">\r\n     <g id=\"line2d_1\">\r\n      <defs>\r\n       <path d=\"M 0 0 \r\nL 0 3.5 \r\n\" id=\"m91114a06bd\" style=\"stroke:#000000;stroke-width:0.8;\"/>\r\n      </defs>\r\n      <g>\r\n       <use style=\"stroke:#000000;stroke-width:0.8;\" x=\"10.7\" xlink:href=\"#m91114a06bd\" y=\"61.56\"/>\r\n      </g>\r\n     </g>\r\n    </g>\r\n    <g id=\"xtick_2\">\r\n     <g id=\"line2d_2\">\r\n      <g>\r\n       <use style=\"stroke:#000000;stroke-width:0.8;\" x=\"66.5\" xlink:href=\"#m91114a06bd\" y=\"61.56\"/>\r\n      </g>\r\n     </g>\r\n    </g>\r\n    <g id=\"xtick_3\">\r\n     <g id=\"line2d_3\">\r\n      <g>\r\n       <use style=\"stroke:#000000;stroke-width:0.8;\" x=\"122.3\" xlink:href=\"#m91114a06bd\" y=\"61.56\"/>\r\n      </g>\r\n     </g>\r\n    </g>\r\n    <g id=\"xtick_4\">\r\n     <g id=\"line2d_4\">\r\n      <g>\r\n       <use style=\"stroke:#000000;stroke-width:0.8;\" x=\"178.1\" xlink:href=\"#m91114a06bd\" y=\"61.56\"/>\r\n      </g>\r\n     </g>\r\n    </g>\r\n   </g>\r\n   <g id=\"matplotlib.axis_2\">\r\n    <g id=\"ytick_1\">\r\n     <g id=\"line2d_5\">\r\n      <defs>\r\n       <path d=\"M 0 0 \r\nL -3.5 0 \r\n\" id=\"m5d90baabd0\" style=\"stroke:#000000;stroke-width:0.8;\"/>\r\n      </defs>\r\n      <g>\r\n       <use style=\"stroke:#000000;stroke-width:0.8;\" x=\"10.7\" xlink:href=\"#m5d90baabd0\" y=\"7.2\"/>\r\n      </g>\r\n     </g>\r\n    </g>\r\n    <g id=\"ytick_2\">\r\n     <g id=\"line2d_6\">\r\n      <g>\r\n       <use style=\"stroke:#000000;stroke-width:0.8;\" x=\"10.7\" xlink:href=\"#m5d90baabd0\" y=\"61.56\"/>\r\n      </g>\r\n     </g>\r\n    </g>\r\n   </g>\r\n   <g id=\"patch_3\">\r\n    <path d=\"M 10.7 61.56 \r\nL 10.7 7.2 \r\n\" style=\"fill:none;stroke:#000000;stroke-linecap:square;stroke-linejoin:miter;stroke-width:0.8;\"/>\r\n   </g>\r\n   <g id=\"patch_4\">\r\n    <path d=\"M 233.9 61.56 \r\nL 233.9 7.2 \r\n\" style=\"fill:none;stroke:#000000;stroke-linecap:square;stroke-linejoin:miter;stroke-width:0.8;\"/>\r\n   </g>\r\n   <g id=\"patch_5\">\r\n    <path d=\"M 10.7 61.56 \r\nL 233.9 61.56 \r\n\" style=\"fill:none;stroke:#000000;stroke-linecap:square;stroke-linejoin:miter;stroke-width:0.8;\"/>\r\n   </g>\r\n   <g id=\"patch_6\">\r\n    <path d=\"M 10.7 7.2 \r\nL 233.9 7.2 \r\n\" style=\"fill:none;stroke:#000000;stroke-linecap:square;stroke-linejoin:miter;stroke-width:0.8;\"/>\r\n   </g>\r\n  </g>\r\n </g>\r\n <defs>\r\n  <clipPath id=\"p0611d987e9\">\r\n   <rect height=\"54.36\" width=\"223.2\" x=\"10.7\" y=\"7.2\"/>\r\n  </clipPath>\r\n </defs>\r\n</svg>\r\n",
      "text/plain": "<Figure size 288x72 with 1 Axes>"
     },
     "metadata": {
      "needs_background": "light"
     },
     "output_type": "display_data"
    },
    {
     "data": {
      "image/png": "[encoded data removed]",
      "image/svg+xml": "<?xml version=\"1.0\" encoding=\"utf-8\" standalone=\"no\"?>\r\n<!DOCTYPE svg PUBLIC \"-//W3C//DTD SVG 1.1//EN\"\r\n  \"http://www.w3.org/Graphics/SVG/1.1/DTD/svg11.dtd\">\r\n<!-- Created with matplotlib (https://matplotlib.org/) -->\r\n<svg height=\"72.26pt\" version=\"1.1\" viewBox=\"0 0 241.1 72.26\" width=\"241.1pt\" xmlns=\"http://www.w3.org/2000/svg\" xmlns:xlink=\"http://www.w3.org/1999/xlink\">\r\n <defs>\r\n  <style type=\"text/css\">\r\n*{stroke-linecap:butt;stroke-linejoin:round;}\r\n  </style>\r\n </defs>\r\n <g id=\"figure_1\">\r\n  <g id=\"patch_1\">\r\n   <path d=\"M 0 72.26 \r\nL 241.1 72.26 \r\nL 241.1 0 \r\nL 0 0 \r\nz\r\n\" style=\"fill:none;\"/>\r\n  </g>\r\n  <g id=\"axes_1\">\r\n   <g id=\"patch_2\">\r\n    <path d=\"M 10.7 61.56 \r\nL 233.9 61.56 \r\nL 233.9 7.2 \r\nL 10.7 7.2 \r\nz\r\n\" style=\"fill:#ffffff;\"/>\r\n   </g>\r\n   <g clip-path=\"url(#p7f65eff278)\">\r\n    <image height=\"55\" id=\"imagea60852a6ca\" transform=\"scale(1 -1)translate(0 -55)\" width=\"224\" x=\"10.7\" xlink:href=\"data:image/png;base64,\r\niVBORw0KGgoAAAANSUhEUgAAAOAAAAA3CAYAAAAVFkZ2AAAABHNCSVQICAgIfAhkiAAAANVJREFUeJzt00ENwkAAAEGOPz/01Ei91BECSJCAmwpoVVw2aWcU7GfHsb2Ox4X9lnedMNU6PnXCVP/vXidM9awD4M4MCCEDQsiAEDIghAwIIQNCyIAQMiCEDAghA0LIgBAyIIQMCCEDQsiAEDIghAwIIQNCyIAQMiCEDAghA0LIgBAyIIQMCCEDQsiAEDIghAwIIQNCyIAQMiCEDAghA0LIgBAyIIQMCCEDQsiAEDIghAwIIQNCyIAQMiCEDAghA0LIgBAyIIQMCCEDQsiAEDIghAwIoRNGKweG7vwF8gAAAABJRU5ErkJggg==\" y=\"-6.56\"/>\r\n   </g>\r\n   <g id=\"matplotlib.axis_1\">\r\n    <g id=\"xtick_1\">\r\n     <g id=\"line2d_1\">\r\n      <defs>\r\n       <path d=\"M 0 0 \r\nL 0 3.5 \r\n\" id=\"md26d14236e\" style=\"stroke:#000000;stroke-width:0.8;\"/>\r\n      </defs>\r\n      <g>\r\n       <use style=\"stroke:#000000;stroke-width:0.8;\" x=\"10.7\" xlink:href=\"#md26d14236e\" y=\"61.56\"/>\r\n      </g>\r\n     </g>\r\n    </g>\r\n    <g id=\"xtick_2\">\r\n     <g id=\"line2d_2\">\r\n      <g>\r\n       <use style=\"stroke:#000000;stroke-width:0.8;\" x=\"66.5\" xlink:href=\"#md26d14236e\" y=\"61.56\"/>\r\n      </g>\r\n     </g>\r\n    </g>\r\n    <g id=\"xtick_3\">\r\n     <g id=\"line2d_3\">\r\n      <g>\r\n       <use style=\"stroke:#000000;stroke-width:0.8;\" x=\"122.3\" xlink:href=\"#md26d14236e\" y=\"61.56\"/>\r\n      </g>\r\n     </g>\r\n    </g>\r\n    <g id=\"xtick_4\">\r\n     <g id=\"line2d_4\">\r\n      <g>\r\n       <use style=\"stroke:#000000;stroke-width:0.8;\" x=\"178.1\" xlink:href=\"#md26d14236e\" y=\"61.56\"/>\r\n      </g>\r\n     </g>\r\n    </g>\r\n   </g>\r\n   <g id=\"matplotlib.axis_2\">\r\n    <g id=\"ytick_1\">\r\n     <g id=\"line2d_5\">\r\n      <defs>\r\n       <path d=\"M 0 0 \r\nL -3.5 0 \r\n\" id=\"mf651f2ee1f\" style=\"stroke:#000000;stroke-width:0.8;\"/>\r\n      </defs>\r\n      <g>\r\n       <use style=\"stroke:#000000;stroke-width:0.8;\" x=\"10.7\" xlink:href=\"#mf651f2ee1f\" y=\"7.2\"/>\r\n      </g>\r\n     </g>\r\n    </g>\r\n    <g id=\"ytick_2\">\r\n     <g id=\"line2d_6\">\r\n      <g>\r\n       <use style=\"stroke:#000000;stroke-width:0.8;\" x=\"10.7\" xlink:href=\"#mf651f2ee1f\" y=\"61.56\"/>\r\n      </g>\r\n     </g>\r\n    </g>\r\n   </g>\r\n   <g id=\"patch_3\">\r\n    <path d=\"M 10.7 61.56 \r\nL 10.7 7.2 \r\n\" style=\"fill:none;stroke:#000000;stroke-linecap:square;stroke-linejoin:miter;stroke-width:0.8;\"/>\r\n   </g>\r\n   <g id=\"patch_4\">\r\n    <path d=\"M 233.9 61.56 \r\nL 233.9 7.2 \r\n\" style=\"fill:none;stroke:#000000;stroke-linecap:square;stroke-linejoin:miter;stroke-width:0.8;\"/>\r\n   </g>\r\n   <g id=\"patch_5\">\r\n    <path d=\"M 10.7 61.56 \r\nL 233.9 61.56 \r\n\" style=\"fill:none;stroke:#000000;stroke-linecap:square;stroke-linejoin:miter;stroke-width:0.8;\"/>\r\n   </g>\r\n   <g id=\"patch_6\">\r\n    <path d=\"M 10.7 7.2 \r\nL 233.9 7.2 \r\n\" style=\"fill:none;stroke:#000000;stroke-linecap:square;stroke-linejoin:miter;stroke-width:0.8;\"/>\r\n   </g>\r\n  </g>\r\n </g>\r\n <defs>\r\n  <clipPath id=\"p7f65eff278\">\r\n   <rect height=\"54.36\" width=\"223.2\" x=\"10.7\" y=\"7.2\"/>\r\n  </clipPath>\r\n </defs>\r\n</svg>\r\n",
      "text/plain": "<Figure size 288x72 with 1 Axes>"
     },
     "metadata": {
      "needs_background": "light"
     },
     "output_type": "display_data"
    },
    {
     "data": {
      "image/png": "[encoded data removed]",
      "image/svg+xml": "<?xml version=\"1.0\" encoding=\"utf-8\" standalone=\"no\"?>\r\n<!DOCTYPE svg PUBLIC \"-//W3C//DTD SVG 1.1//EN\"\r\n  \"http://www.w3.org/Graphics/SVG/1.1/DTD/svg11.dtd\">\r\n<!-- Created with matplotlib (https://matplotlib.org/) -->\r\n<svg height=\"72.26pt\" version=\"1.1\" viewBox=\"0 0 129.5 72.26\" width=\"129.5pt\" xmlns=\"http://www.w3.org/2000/svg\" xmlns:xlink=\"http://www.w3.org/1999/xlink\">\r\n <defs>\r\n  <style type=\"text/css\">\r\n*{stroke-linecap:butt;stroke-linejoin:round;}\r\n  </style>\r\n </defs>\r\n <g id=\"figure_1\">\r\n  <g id=\"patch_1\">\r\n   <path d=\"M 0 72.26 \r\nL 129.5 72.26 \r\nL 129.5 0 \r\nL 0 0 \r\nz\r\n\" style=\"fill:none;\"/>\r\n  </g>\r\n  <g id=\"axes_1\">\r\n   <g id=\"patch_2\">\r\n    <path d=\"M 10.7 61.56 \r\nL 122.3 61.56 \r\nL 122.3 7.2 \r\nL 10.7 7.2 \r\nz\r\n\" style=\"fill:#ffffff;\"/>\r\n   </g>\r\n   <g clip-path=\"url(#p6d058d81f5)\">\r\n    <image height=\"55\" id=\"imaged66d9ffefe\" transform=\"scale(1 -1)translate(0 -55)\" width=\"112\" x=\"10.7\" xlink:href=\"data:image/png;base64,\r\niVBORw0KGgoAAAANSUhEUgAAAHAAAAA3CAYAAADUvc6fAAAABHNCSVQICAgIfAhkiAAAAKlJREFUeJzt0cENQEAAAEF0468Kf1UpVwEUIXJZmalgk53PY7+nH7vWbXTCp5bRAbxjYJyBcQbGGRhnYJyBcQbGGRhnYJyBcQbGGRhnYJyBcQbGGRhnYJyBcQbGGRhnYJyBcQbGGRhnYJyBcQbGGRhnYJyBcQbGGRhnYJyBcQbGGRhnYJyBcQbGGRhnYJyBcQbGGRhnYJyBcQbGGRhnYJyBcQbGGRhnYNwD/hUD54QWceQAAAAASUVORK5CYII=\" y=\"-6.56\"/>\r\n   </g>\r\n   <g id=\"matplotlib.axis_1\">\r\n    <g id=\"xtick_1\">\r\n     <g id=\"line2d_1\">\r\n      <defs>\r\n       <path d=\"M 0 0 \r\nL 0 3.5 \r\n\" id=\"m46c9613e4a\" style=\"stroke:#000000;stroke-width:0.8;\"/>\r\n      </defs>\r\n      <g>\r\n       <use style=\"stroke:#000000;stroke-width:0.8;\" x=\"10.7\" xlink:href=\"#m46c9613e4a\" y=\"61.56\"/>\r\n      </g>\r\n     </g>\r\n    </g>\r\n    <g id=\"xtick_2\">\r\n     <g id=\"line2d_2\">\r\n      <g>\r\n       <use style=\"stroke:#000000;stroke-width:0.8;\" x=\"66.5\" xlink:href=\"#m46c9613e4a\" y=\"61.56\"/>\r\n      </g>\r\n     </g>\r\n    </g>\r\n   </g>\r\n   <g id=\"matplotlib.axis_2\">\r\n    <g id=\"ytick_1\">\r\n     <g id=\"line2d_3\">\r\n      <defs>\r\n       <path d=\"M 0 0 \r\nL -3.5 0 \r\n\" id=\"ma9fe7ddf25\" style=\"stroke:#000000;stroke-width:0.8;\"/>\r\n      </defs>\r\n      <g>\r\n       <use style=\"stroke:#000000;stroke-width:0.8;\" x=\"10.7\" xlink:href=\"#ma9fe7ddf25\" y=\"7.2\"/>\r\n      </g>\r\n     </g>\r\n    </g>\r\n    <g id=\"ytick_2\">\r\n     <g id=\"line2d_4\">\r\n      <g>\r\n       <use style=\"stroke:#000000;stroke-width:0.8;\" x=\"10.7\" xlink:href=\"#ma9fe7ddf25\" y=\"61.56\"/>\r\n      </g>\r\n     </g>\r\n    </g>\r\n   </g>\r\n   <g id=\"patch_3\">\r\n    <path d=\"M 10.7 61.56 \r\nL 10.7 7.2 \r\n\" style=\"fill:none;stroke:#000000;stroke-linecap:square;stroke-linejoin:miter;stroke-width:0.8;\"/>\r\n   </g>\r\n   <g id=\"patch_4\">\r\n    <path d=\"M 122.3 61.56 \r\nL 122.3 7.2 \r\n\" style=\"fill:none;stroke:#000000;stroke-linecap:square;stroke-linejoin:miter;stroke-width:0.8;\"/>\r\n   </g>\r\n   <g id=\"patch_5\">\r\n    <path d=\"M 10.7 61.56 \r\nL 122.3 61.56 \r\n\" style=\"fill:none;stroke:#000000;stroke-linecap:square;stroke-linejoin:miter;stroke-width:0.8;\"/>\r\n   </g>\r\n   <g id=\"patch_6\">\r\n    <path d=\"M 10.7 7.2 \r\nL 122.3 7.2 \r\n\" style=\"fill:none;stroke:#000000;stroke-linecap:square;stroke-linejoin:miter;stroke-width:0.8;\"/>\r\n   </g>\r\n  </g>\r\n </g>\r\n <defs>\r\n  <clipPath id=\"p6d058d81f5\">\r\n   <rect height=\"54.36\" width=\"111.6\" x=\"10.7\" y=\"7.2\"/>\r\n  </clipPath>\r\n </defs>\r\n</svg>\r\n",
      "text/plain": "<Figure size 144x72 with 1 Axes>"
     },
     "metadata": {
      "needs_background": "light"
     },
     "output_type": "display_data"
    }
   ],
   "source": [
    "sns.palplot([colour_palettes['mid'][i] for i in [0,3,5,6]])\n",
    "sns.palplot([colour_palettes['mid'][i] for i in [1,2,4,7]])\n",
    "sns.palplot([colour_palettes['mid'][i] for i in [8,9]])\n",
    "\n",
    "del colour_palettes"
   ]
  },
  {
   "cell_type": "markdown",
   "execution_count": null,
   "metadata": {},
   "outputs": [],
   "source": [
    "## Import Data\n",
    "### Custom Support Data Functions"
   ]
  },
  {
   "cell_type": "code",
   "execution_count": 11,
   "metadata": {},
   "outputs": [],
   "source": [
    "def get_UO_support_data(dataset_f_info, dataset = \"UO\"):\n",
    "    \n",
    "    def import_UO_log_dates():\n",
    "        UO_log_dates = pd.read_csv(dataset_f_info['supp_data_filepath'][dataset], sep = \"\\t\")\n",
    "        UO_log_dates['start'] = pd.to_datetime(UO_log_dates['start'], format=\"%Y-%m-%d\")\n",
    "        UO_log_dates['end'] = pd.to_datetime(UO_log_dates['end'], format=\"%Y-%m-%d\")\n",
    "        return UO_log_dates\n",
    "    \n",
    "    UO_log_dates = import_UO_log_dates()\n",
    "    \n",
    "    #Check LogDates file\n",
    "    if max(UO_log_dates['end']) < date_now.date() - timedelta(days=1):\n",
    "        print(\"Retrieving latest Urban Observatory data...\")\n",
    "        # api-endpoint \n",
    "        URL = \"http://uoweb3.ncl.ac.uk/api/v1.1/sensors/data/csv/?\"\n",
    "        # location given here \n",
    "        poly = '0103000000010000000600000001000020a2baf9bf58094ee3a2764b4001000020f268fbbf90c059b5b5714b4000000020ba37fbbfc4e78445c6704b4001000020b203fbbf9ce8d60e68714b40010000209a59f9bf346a0efd06714b4001000020a2baf9bf58094ee3a2764b40'\n",
    "        # defining a params dict for the parameters to be sent to the API \n",
    "        PARAMS = {'polygon_wkb': poly,\n",
    "                  'starttime': max(UO_log_dates['end']).strftime(\"%Y%m%d%H%M%S\"), #\"%Y%m%d%H%M%S\"\n",
    "                  'endtime': date_now.strftime(\"%Y%m%d%H%M%S\"), #\"%Y%m%d%H%M%S\"\n",
    "                  'data_variable': 'River Level,Temperature,Rainfall'} \n",
    "        # sending get request and saving the response as response object \n",
    "        data_content = requests.get(url = URL, params = PARAMS).content\n",
    "        UO_data = pd.read_csv(io.StringIO(data_content.decode(\"utf-8\")))\n",
    "        min_date = pd.to_datetime(min(UO_data['Timestamp'])).strftime(\"%Y-%m-%d\")\n",
    "        max_date = pd.to_datetime(max(UO_data['Timestamp'])).strftime(\"%Y-%m-%d\")\n",
    "        \n",
    "        if pd.to_datetime(max_date) > max(UO_log_dates['end']):\n",
    "            UO_data.to_csv(dataset_f_info['data_folder_path'][dataset] + \"UO_data_\" + str(min_date) + \"_to_\" + str(max_date) + \".csv\",\n",
    "                           index = False)\n",
    "            UO_Files = []\n",
    "            for filename in tqdm(os.listdir(str(dataset_f_info['data_folder_path'][dataset])), desc = \"Open existing UO files\"):\n",
    "                if re.search(dataset_f_info['file_pat'][dataset], filename) and not filename.startswith('.'):\n",
    "                    UO_Files.append(filename)\n",
    "            UO_starts = []\n",
    "            for string in UO_Files: UO_starts.append(string[8:18])\n",
    "            UO_ends = []\n",
    "            for string in UO_Files: UO_ends.append(string[22:32])\n",
    "\n",
    "\n",
    "            new_UO_file_data = {'file': UO_Files,\n",
    "                                'start': UO_starts,\n",
    "                                'end': UO_ends}\n",
    "            UO_log_dates_new = pd.DataFrame(new_UO_file_data, columns = ['file', 'start', 'end'])\n",
    "            UO_log_dates_new.to_csv(dataset_f_info['supp_data_filepath'][dataset], index = False, sep = \"\\t\")\n",
    "            print(\"Urban Observatory data updated!\")\n",
    "        else:\n",
    "            print(\"Urban Observatory data up-to-date!\")\n",
    "        \n",
    "    UO_log_dates = import_UO_log_dates\n",
    "    \n",
    "    return UO_log_dates\n",
    "\n",
    "def get_Events_support_data(dataset_f_info, dataset = \"Events\"):\n",
    "    Events_info = pd.read_csv(dataset_f_info['supp_data_filepath'][dataset], sep = \"\\t\", index_col = \"Code\")\n",
    "    return Events_info\n",
    "\n",
    "custom_preimport_functions = {'UO': get_UO_support_data,\n",
    "                              'Events': get_Events_support_data}"
   ]
  },
  {
   "cell_type": "markdown",
   "execution_count": null,
   "metadata": {},
   "outputs": [],
   "source": [
    "### Custom Imported Data Functions"
   ]
  },
  {
   "cell_type": "code",
   "execution_count": 12,
   "metadata": {},
   "outputs": [],
   "source": [
    "def mod_imported_Sensor_data(day_df, filename, dataset_supp_data, dataset_f_info, dataset = \"Sensor\"):\n",
    "    day_df['DateTime'] = day_df['Date'] + \" \" + day_df['Time']\n",
    "    day_df['DateTime'] = pd.to_datetime(day_df['DateTime'], format = '%d/%m/%Y %H:%M:%S')\n",
    "    day_df['DateTime'] = day_df['DateTime'].dt.tz_localize('UTC')\n",
    "    \n",
    "    #Make on/off events integer binary numbers 1/0\n",
    "    #on_events = [\"^ON$\", \"^RUNNING$\", \"^CW$\", \"^AUTO$\"]\n",
    "    #off_events = [\"^OFF$\", \"^STOP$\", \"^CCW$\", \"^MANUAL$\"]\n",
    "\n",
    "    #all_rgx = re.compile(\"|\".join(on_events + off_events))\n",
    "    #on_rgx = re.compile(\"|\".join(on_events))\n",
    "    #off_rgx = re.compile(\"|\".join(off_events))\n",
    "    \n",
    "    #Sensor_events = {'ON': 1,\n",
    "    #                 'RUNNING': 1,\n",
    "    #                 'CW': 1,\n",
    "    #                 'AUTO': 1,\n",
    "    #                 'OFF': 0,\n",
    "    #                 'STOP': 0,\n",
    "    #                 'CCW': 0,\n",
    "    #                 'MANUAL': 0}\n",
    "\n",
    "    #string_cols = (day_df.applymap(type) == str).all(0).values\n",
    "    #for col in day_df.iloc[:, string_cols]:\n",
    "    #    if day_df[col].str.contains(all_rgx).any():\n",
    "    #        day_df[col] = day_df[col].replace(on_rgx, '1', regex=True)\n",
    "    #        day_df[col] = day_df[col].replace(off_rgx, '0', regex=True)\n",
    "    #        day_df[col] = day_df[col].astype(int)\n",
    "    #for col in day_df.iloc[:, string_cols]:\n",
    "    #if day_df.iloc[:, string_cols].str.contains(all_rgx).any():\n",
    "    #day_df[[i for i in list(day_df.columns) if i not in ['DateTime', 'Date', 'Time']]] = \\\n",
    "    #day_df[[i for i in list(day_df.columns) if i not in ['DateTime', 'Date', 'Time']]].replace(Sensor_events).apply(pd.to_numeric)\n",
    "    #day_df.iloc[:, string_cols] = day_df.astype(int)\n",
    "    \n",
    "    #Current density\n",
    "    day_df.iloc[:, day_df.columns.str.contains(\"__C\")] = day_df.iloc[:, day_df.columns.str.contains(\"__C\")]/(math.pi*(0.6)**2*10)\n",
    "    #Sum Current density\n",
    "    day_df.iloc[:, day_df.columns.str.contains(\"SUM__C\")] = day_df.iloc[:, day_df.columns.str.contains(\"SUM__C\")]/4\n",
    "    \n",
    "    #Sensible tilt (up = positive)\n",
    "    day_df['SENSOR_TILT'] = -day_df['SENSOR_TILT']\n",
    "\n",
    "    return(day_df)\n",
    "\n",
    "def mod_imported_Skid_data(day_df, filename, dataset_supp_data, dataset_f_info, dataset = \"Skid\"):\n",
    "    day_df = day_df.rename(columns={\"TIME\": \"DateTime\"})\n",
    "    day_df['DateTime'] = pd.to_datetime(day_df['DateTime'], format = '%Y/%m/%d %H:%M:%S.%f')\n",
    "    day_df['DateTime'] = day_df['DateTime'].dt.tz_localize('UTC')\n",
    "    selected_pars = list(info['parameters'][selected].query('dataset == \"' + dataset + '\"')['parameter'].values)\n",
    "    day_df = day_df[day_df[selected_pars].sum(axis = 1, skipna = True) != 0]\n",
    "    return(day_df)\n",
    "\n",
    "def mod_imported_SampLog_data(day_df, filename, dataset_supp_data, dataset_f_info, dataset = \"SampLog\"):\n",
    "    day_df = day_df.rename(columns={\"Date\": \"DateTime\"})\n",
    "    day_df['DateTime'] = pd.to_datetime(day_df['DateTime'], format = '%d/%m/%Y %H:%M')\n",
    "    day_df['DateTime'] = day_df['DateTime'].dt.tz_localize('Europe/London')\n",
    "    day_df['DateTime'] = day_df['DateTime'].dt.tz_convert('UTC')\n",
    "\n",
    "    selected_read_cols = ['R1', 'R2', 'R3']\n",
    "    day_df[selected_read_cols] = day_df[selected_read_cols].apply(pd.to_numeric, errors='coerce')\n",
    "\n",
    "    #Average readings\n",
    "    day_df['Read_ave'] = day_df[selected_read_cols].mean(axis = 1, skipna = True)\n",
    "    \n",
    "    #Widen DF\n",
    "    day_df_wide = pd.pivot_table(day_df,values='Read_ave',index=['DateTime', 'Location'],columns=['Type','Vial'])\n",
    "    #Fix col header and names\n",
    "    day_df_wide.columns = map(''.join, (str(v) for v in day_df_wide.columns))\n",
    "    day_df_wide.columns = [re.sub(r'\\W', '', i) for i in day_df_wide.columns]\n",
    "    day_df_wide.columns = [s[:len(s)-1] + \"_\" + s[len(s)-1:] for s in day_df_wide.columns]\n",
    "    day_df_wide = day_df_wide.reset_index()\n",
    "    \n",
    "    return(day_df_wide)\n",
    "\n",
    "def mod_imported_NWL_data(day_df, filename, dataset_supp_data, dataset_f_info, dataset = \"NWL\"):\n",
    "    day_df['DateTime'] = day_df['DATE'].astype(str) + \" \" + day_df['TIME']\n",
    "    day_df['DateTime'] = pd.to_datetime(day_df['DateTime'], format = '%Y-%m-%d %H:%M')\n",
    "    day_df['DateTime'] = day_df['DateTime'].dt.tz_localize('Europe/London')\n",
    "    day_df['DateTime'] = day_df['DateTime'].dt.tz_convert('UTC')\n",
    "    \n",
    "    day_df = day_df[day_df['SITE'].str.contains('SETTLED')]\n",
    "    \n",
    "    return(day_df)\n",
    "\n",
    "def mod_imported_UO_data(day_df, filename, dataset_supp_data, dataset_f_info, dataset = \"UO\"):\n",
    "    day_df['DateTime'] = pd.to_datetime(day_df['Timestamp'], format = '%Y-%m-%d %H:%M:%S')\n",
    "    day_df['DateTime'] = day_df['DateTime'].dt.tz_localize('UTC')\n",
    "  \n",
    "    # Create Type column\n",
    "    day_df['Type'] = day_df['Sensor Name'].astype(str) + \"_\" + day_df['Variable']\n",
    "  \n",
    "    #Widen DF\n",
    "    day_df_wide = pd.pivot_table(day_df,values='Value',index=['DateTime'],columns=['Type'])\n",
    "    #Fix col header and names\n",
    "    day_df_wide = day_df_wide.reset_index()\n",
    "    day_df_wide = day_df_wide.rename(columns=dict(zip(info['parameters'].query('dataset == \"' + dataset + '\"')['code'], \n",
    "                                                info['parameters'].query('dataset == \"' + dataset + '\"')['parameter'])))\n",
    "    return(day_df_wide)\n",
    "\n",
    "custom_import_functions = {'Sensor': mod_imported_Sensor_data,\n",
    "                           'Skid': mod_imported_Skid_data,\n",
    "                           'SampLog': mod_imported_SampLog_data,\n",
    "                           'NWL': mod_imported_NWL_data,\n",
    "                           'UO': mod_imported_UO_data}"
   ]
  },
  {
   "cell_type": "markdown",
   "execution_count": null,
   "metadata": {},
   "outputs": [],
   "source": [
    "### Data Import Functions"
   ]
  },
  {
   "cell_type": "code",
   "execution_count": 13,
   "metadata": {},
   "outputs": [],
   "source": [
    "#Data import\n",
    "def import_data(dataset):\n",
    "    dataset_all_days = []\n",
    "    for folder in range(1,len(info['datasets'].query('dataset == \"' + dataset + '\"'))+1):\n",
    "        print(dataset + \": Folder \" + str(folder))\n",
    "        \n",
    "        #Shorthand info:\n",
    "        dataset_f_info = info['datasets'].query('dataset == \"' + dataset + '\" & folder == \"' + str(folder) + '\"')\n",
    "        #File format to import\n",
    "        f_file_import = select_file_importer(dataset, dataset_f_info)\n",
    "        \n",
    "        #Custom pre-import functions\n",
    "        if dataset in custom_preimport_functions:\n",
    "            dataset_supp_data = custom_preimport_functions[dataset](dataset_f_info)\n",
    "        else:\n",
    "            dataset_supp_data = \"\"\n",
    "        #Import files\n",
    "        for filename in tqdm(os.listdir(str(dataset_f_info['data_folder_path'][dataset])), desc = \"Open files to import\"):\n",
    "            if re.search(dataset_f_info['file_pat'][dataset], filename) and not filename.startswith('.'):\n",
    "                day_df = file_import_handler(dataset, dataset_f_info, filename, dataset_supp_data, f_file_import)\n",
    "                # Keep if longer than 0 lines\n",
    "                if len(day_df) > 0:\n",
    "                    #Keep if within DateTime range in Info file\n",
    "                    if max(day_df['DateTime']) >= min(info['charts']['chart_range_start']) and \\\n",
    "                       min(day_df['DateTime']) <= max(info['charts']['chart_range_end']):\n",
    "                        dataset_all_days.append(day_df)\n",
    "    \n",
    "    #Create one dataframe from all days data\n",
    "    dataset_all_data = pd.concat(dataset_all_days, axis=0, ignore_index=True)\n",
    "    dataset_all_data.sort_values(by=['DateTime'], inplace=True)\n",
    "    dataset_all_data = dataset_all_data.reset_index(drop=True)\n",
    "    \n",
    "    dataset_all_data = dataset_all_data[dataset_all_data['DateTime'] >= min(info['charts']['chart_range_start'])]\n",
    "    dataset_all_data = dataset_all_data[dataset_all_data['DateTime'] <= max(info['charts']['chart_range_end'])]\n",
    "    \n",
    "    return(dataset_all_data)\n",
    "\n",
    "#File Import functions\n",
    "def select_file_importer(dataset, dataset_f_info):\n",
    "    if re.search(\"xls\", dataset_f_info['file_pat'][dataset], re.IGNORECASE):\n",
    "        return file_import_functions[\"xls\"]\n",
    "    elif re.search(\"csv\", dataset_f_info['file_pat'][dataset], re.IGNORECASE):\n",
    "        return file_import_functions[\"csv\"]\n",
    "    elif re.search(\"txt\", dataset_f_info['file_pat'][dataset], re.IGNORECASE):\n",
    "        return file_import_functions[\"txt\"]\n",
    "    else:\n",
    "        raise ValueError(\"Unknown file pattern!\")\n",
    "\n",
    "def file_import_xls(dataset, dataset_f_info, filename):\n",
    "    df = pd.read_excel(\"\".join([str(dataset_f_info['data_folder_path'][dataset]), filename]), \n",
    "                       skiprows = dataset_f_info['skiprows'][dataset])\n",
    "    return df\n",
    "\n",
    "def file_import_csv(dataset, dataset_f_info, filename):\n",
    "    df = pd.read_csv(\"\".join([str(dataset_f_info['data_folder_path'][dataset]), filename]), \n",
    "                     skiprows = dataset_f_info['skiprows'][dataset])\n",
    "    return df\n",
    "\n",
    "def file_import_txt(dataset, dataset_f_info, filename):\n",
    "    df = pd.read_csv(\"\".join([str(dataset_f_info['data_folder_path'][dataset]), filename]), \n",
    "                     sep=\"\\t\", skiprows = dataset_f_info['skiprows'][dataset])\n",
    "    return df\n",
    "\n",
    "file_import_functions = {'xls': file_import_xls,\n",
    "                         'csv': file_import_csv,\n",
    "                         'txt': file_import_txt}\n",
    "\n",
    "def file_import_handler(dataset, dataset_f_info, filename, dataset_supp_data, f_file_import):\n",
    "    day_df = f_file_import(dataset, dataset_f_info, filename)\n",
    "    if len(day_df) > 0:\n",
    "        # Name parameter columns\n",
    "        day_df = day_df.rename(columns=dict(zip(info['parameters'].query('dataset == \"' + dataset + '\"')['code'], \n",
    "                                                info['parameters'].query('dataset == \"' + dataset + '\"')['parameter'])))\n",
    "        # Delete unit rows\n",
    "        if not pd.isna(dataset_f_info['Del_unit_rows'][dataset]):\n",
    "            day_df = day_df.drop(0).reset_index()\n",
    "        ##Load custom data mod function?\n",
    "        if dataset in custom_import_functions:\n",
    "            day_df = custom_import_functions[dataset](day_df, filename, dataset_supp_data, dataset_f_info, dataset)\n",
    "        \n",
    "        #Choose selected parameters\n",
    "        selected_pars = list(info['parameters'][selected].query('dataset == \"' + dataset + '\"')['parameter'].values)\n",
    "        day_df = day_df[['DateTime'] + selected_pars]\n",
    "        #Add blank row between files - to be implemented\n",
    "        #if len(day_df) > 0:\n",
    "        #    if not pd.isna(dataset_f_info['Add_blank_rows'][dataset]):\n",
    "        #        day_df = day_df.append(pd.Series(), ignore_index=True)\n",
    "                \n",
    "\n",
    "    return(day_df)"
   ]
  },
  {
   "cell_type": "markdown",
   "execution_count": null,
   "metadata": {},
   "outputs": [],
   "source": [
    "### Data Import"
   ]
  },
  {
   "cell_type": "code",
   "execution_count": 14,
   "metadata": {},
   "outputs": [],
   "source": [
    "selected_cols = [s for s in info['parameters'].columns.to_list() if \"selected\" in s]\n",
    "selected = info['parameters'][selected_cols].isin([1]).any(axis=1)\n",
    "selected_datasets = list(selected[selected == True].index.unique())\n",
    "selected_datasets\n",
    "\n",
    "del selected_cols"
   ]
  },
  {
   "cell_type": "code",
   "execution_count": 15,
   "metadata": {},
   "outputs": [
    {
     "name": "stderr",
     "output_type": "stream",
     "text": "Import data from each dataset:   0%|          | 0/5 [00:00<?, ?it/s]\nOpen files to import:   0%|          | 0/316 [00:00<?, ?it/s]\u001b[ASensor: Folder 1\n\nOpen files to import:   0%|          | 1/316 [00:00<01:19,  3.97it/s]\u001b[A\nOpen files to import:   1%|          | 2/316 [00:00<01:16,  4.11it/s]\u001b[A\nOpen files to import:   1%|          | 3/316 [00:00<01:11,  4.38it/s]\u001b[A\nOpen files to import:   1%|▏         | 4/316 [00:00<01:03,  4.94it/s]\u001b[A\nOpen files to import:   2%|▏         | 5/316 [00:01<01:04,  4.78it/s]\u001b[A\nOpen files to import:   2%|▏         | 6/316 [00:01<01:00,  5.09it/s]\u001b[A\nOpen files to import:   2%|▏         | 7/316 [00:01<00:59,  5.20it/s]\u001b[A\nOpen files to import:   3%|▎         | 8/316 [00:01<00:59,  5.20it/s]\u001b[A\nOpen files to import:   3%|▎         | 9/316 [00:01<00:58,  5.26it/s]\u001b[A\nOpen files to import:   3%|▎         | 10/316 [00:01<00:53,  5.73it/s]\u001b[A\nOpen files to import:   3%|▎         | 11/316 [00:02<00:55,  5.54it/s]\u001b[A\nOpen files to import:   4%|▍         | 12/316 [00:02<00:59,  5.09it/s]\u001b[A\nOpen files to import:   4%|▍         | 13/316 [00:02<00:59,  5.08it/s]\u001b[A\nOpen files to import:   4%|▍         | 14/316 [00:02<01:01,  4.87it/s]\u001b[A\nOpen files to import:   5%|▍         | 15/316 [00:02<01:00,  4.95it/s]\u001b[A\nOpen files to import:   5%|▌         | 16/316 [00:03<01:01,  4.87it/s]\u001b[A\nOpen files to import:   5%|▌         | 17/316 [00:03<01:01,  4.90it/s]\u001b[A\nOpen files to import:   6%|▌         | 18/316 [00:03<01:02,  4.79it/s]\u001b[A\nOpen files to import:   6%|▌         | 19/316 [00:03<01:06,  4.49it/s]\u001b[A\nOpen files to import:   6%|▋         | 20/316 [00:04<01:04,  4.59it/s]\u001b[A\nOpen files to import:   7%|▋         | 21/316 [00:04<01:04,  4.56it/s]\u001b[A\nOpen files to import:   7%|▋         | 22/316 [00:04<01:03,  4.64it/s]\u001b[A\nOpen files to import:   7%|▋         | 23/316 [00:04<00:59,  4.96it/s]\u001b[A\nOpen files to import:   8%|▊         | 24/316 [00:04<01:00,  4.86it/s]\u001b[A\nOpen files to import:   8%|▊         | 25/316 [00:05<00:59,  4.87it/s]\u001b[A\nOpen files to import:   8%|▊         | 26/316 [00:05<00:57,  5.05it/s]\u001b[A\nOpen files to import:   9%|▊         | 27/316 [00:05<01:01,  4.71it/s]\u001b[A\nOpen files to import:   9%|▉         | 28/316 [00:05<00:57,  4.97it/s]\u001b[A\nOpen files to import:   9%|▉         | 29/316 [00:05<01:02,  4.59it/s]\u001b[A\nOpen files to import:   9%|▉         | 30/316 [00:06<01:01,  4.67it/s]\u001b[A\nOpen files to import:  10%|▉         | 31/316 [00:06<00:58,  4.86it/s]\u001b[A\nOpen files to import:  10%|█         | 32/316 [00:06<01:02,  4.52it/s]\u001b[A\nOpen files to import:  10%|█         | 33/316 [00:06<00:59,  4.72it/s]\u001b[A\nOpen files to import:  11%|█         | 34/316 [00:06<01:00,  4.69it/s]\u001b[A\nOpen files to import:  11%|█         | 35/316 [00:07<00:57,  4.87it/s]\u001b[A\nOpen files to import:  11%|█▏        | 36/316 [00:07<00:57,  4.90it/s]\u001b[A\nOpen files to import:  12%|█▏        | 37/316 [00:07<00:58,  4.79it/s]\u001b[A\nOpen files to import:  12%|█▏        | 38/316 [00:07<00:58,  4.76it/s]\u001b[A\nOpen files to import:  12%|█▏        | 39/316 [00:08<01:01,  4.51it/s]\u001b[A\nOpen files to import:  13%|█▎        | 40/316 [00:08<01:10,  3.92it/s]\u001b[A\nOpen files to import:  13%|█▎        | 41/316 [00:08<01:10,  3.90it/s]\u001b[A\nOpen files to import:  13%|█▎        | 42/316 [00:08<01:10,  3.86it/s]\u001b[A\nOpen files to import:  14%|█▎        | 43/316 [00:09<01:16,  3.59it/s]\u001b[A\nOpen files to import:  14%|█▍        | 44/316 [00:09<01:17,  3.53it/s]\u001b[A\nOpen files to import:  14%|█▍        | 45/316 [00:09<01:18,  3.45it/s]\u001b[A\nOpen files to import:  15%|█▍        | 46/316 [00:10<01:14,  3.62it/s]\u001b[A\nOpen files to import:  15%|█▍        | 47/316 [00:10<01:17,  3.49it/s]\u001b[A\nOpen files to import:  15%|█▌        | 48/316 [00:10<01:20,  3.35it/s]\u001b[A\nOpen files to import:  16%|█▌        | 49/316 [00:11<01:21,  3.28it/s]\u001b[A\nOpen files to import:  16%|█▌        | 50/316 [00:11<01:24,  3.15it/s]\u001b[A\nOpen files to import:  16%|█▌        | 51/316 [00:11<01:25,  3.10it/s]\u001b[A\nOpen files to import:  16%|█▋        | 52/316 [00:12<01:25,  3.09it/s]\u001b[A\nOpen files to import:  17%|█▋        | 53/316 [00:12<01:24,  3.11it/s]\u001b[A\nOpen files to import:  17%|█▋        | 54/316 [00:12<01:24,  3.12it/s]\u001b[A\nOpen files to import:  17%|█▋        | 55/316 [00:12<01:23,  3.14it/s]\u001b[A\nOpen files to import:  18%|█▊        | 56/316 [00:13<01:20,  3.24it/s]\u001b[A\nOpen files to import:  18%|█▊        | 57/316 [00:13<01:19,  3.26it/s]\u001b[A\nOpen files to import:  18%|█▊        | 58/316 [00:13<01:19,  3.24it/s]\u001b[A\nOpen files to import:  19%|█▊        | 59/316 [00:14<01:18,  3.27it/s]\u001b[A\nOpen files to import:  19%|█▉        | 60/316 [00:14<01:17,  3.30it/s]\u001b[A\nOpen files to import:  19%|█▉        | 61/316 [00:14<01:17,  3.28it/s]\u001b[A\nOpen files to import:  20%|█▉        | 62/316 [00:15<01:17,  3.27it/s]\u001b[A\nOpen files to import:  20%|█▉        | 63/316 [00:15<01:18,  3.21it/s]\u001b[A\nOpen files to import:  20%|██        | 64/316 [00:15<01:18,  3.20it/s]\u001b[A\nOpen files to import:  21%|██        | 65/316 [00:16<01:15,  3.32it/s]\u001b[A\nOpen files to import:  21%|██        | 66/316 [00:16<01:12,  3.44it/s]\u001b[A\nOpen files to import:  21%|██        | 67/316 [00:16<01:08,  3.63it/s]\u001b[A\nOpen files to import:  22%|██▏       | 68/316 [00:16<01:10,  3.51it/s]\u001b[A\nOpen files to import:  22%|██▏       | 69/316 [00:17<01:11,  3.44it/s]\u001b[A\nOpen files to import:  22%|██▏       | 70/316 [00:17<01:13,  3.35it/s]\u001b[A\nOpen files to import:  22%|██▏       | 71/316 [00:17<01:15,  3.25it/s]\u001b[A\nOpen files to import:  23%|██▎       | 72/316 [00:18<01:14,  3.26it/s]\u001b[A\nOpen files to import:  23%|██▎       | 73/316 [00:18<01:15,  3.23it/s]\u001b[A\nOpen files to import:  23%|██▎       | 74/316 [00:18<01:15,  3.22it/s]\u001b[A\nOpen files to import:  24%|██▎       | 75/316 [00:19<01:14,  3.23it/s]\u001b[A\nOpen files to import:  24%|██▍       | 76/316 [00:19<01:14,  3.23it/s]\u001b[A\nOpen files to import:  24%|██▍       | 77/316 [00:19<01:13,  3.27it/s]\u001b[A\nOpen files to import:  25%|██▍       | 78/316 [00:19<01:13,  3.25it/s]\u001b[A\nOpen files to import:  25%|██▌       | 79/316 [00:20<01:13,  3.21it/s]\u001b[A\nOpen files to import:  25%|██▌       | 80/316 [00:20<01:14,  3.15it/s]\u001b[A\nOpen files to import:  26%|██▌       | 81/316 [00:20<01:14,  3.17it/s]\u001b[A\nOpen files to import:  26%|██▌       | 82/316 [00:21<01:14,  3.15it/s]\u001b[A\nOpen files to import:  26%|██▋       | 83/316 [00:21<01:14,  3.14it/s]\u001b[A\nOpen files to import:  27%|██▋       | 84/316 [00:21<01:13,  3.14it/s]\u001b[A\nOpen files to import:  27%|██▋       | 85/316 [00:22<01:14,  3.10it/s]\u001b[A\nOpen files to import:  27%|██▋       | 86/316 [00:22<01:12,  3.17it/s]\u001b[A\nOpen files to import:  28%|██▊       | 87/316 [00:22<01:10,  3.25it/s]\u001b[A\nOpen files to import:  28%|██▊       | 88/316 [00:23<01:10,  3.23it/s]\u001b[A\nOpen files to import:  28%|██▊       | 89/316 [00:23<01:11,  3.16it/s]\u001b[A\nOpen files to import:  28%|██▊       | 90/316 [00:23<01:10,  3.20it/s]\u001b[A\nOpen files to import:  29%|██▉       | 91/316 [00:24<01:07,  3.32it/s]\u001b[A\nOpen files to import:  29%|██▉       | 92/316 [00:24<01:05,  3.40it/s]\u001b[A\nOpen files to import:  29%|██▉       | 93/316 [00:24<01:03,  3.53it/s]\u001b[A\nOpen files to import:  30%|██▉       | 94/316 [00:24<01:03,  3.48it/s]\u001b[A\nOpen files to import:  30%|███       | 95/316 [00:25<01:03,  3.49it/s]\u001b[A\nOpen files to import:  30%|███       | 96/316 [00:25<00:59,  3.69it/s]\u001b[A\nOpen files to import:  31%|███       | 97/316 [00:25<01:00,  3.65it/s]\u001b[A\nOpen files to import:  31%|███       | 98/316 [00:25<01:00,  3.59it/s]\u001b[A\nOpen files to import:  31%|███▏      | 99/316 [00:26<00:59,  3.66it/s]\u001b[A\nOpen files to import:  32%|███▏      | 100/316 [00:26<01:00,  3.56it/s]\u001b[A\nOpen files to import:  32%|███▏      | 101/316 [00:26<01:01,  3.52it/s]\u001b[A\nOpen files to import:  32%|███▏      | 102/316 [00:27<01:00,  3.56it/s]\u001b[A\nOpen files to import:  33%|███▎      | 103/316 [00:27<01:01,  3.49it/s]\u001b[A\nOpen files to import:  33%|███▎      | 104/316 [00:27<00:59,  3.54it/s]\u001b[A\nOpen files to import:  33%|███▎      | 105/316 [00:27<01:00,  3.47it/s]\u001b[A\nOpen files to import:  34%|███▎      | 106/316 [00:28<00:58,  3.59it/s]\u001b[A\nOpen files to import:  34%|███▍      | 107/316 [00:28<00:55,  3.75it/s]\u001b[A\nOpen files to import:  34%|███▍      | 108/316 [00:28<00:58,  3.57it/s]\u001b[A\nOpen files to import:  34%|███▍      | 109/316 [00:29<00:59,  3.49it/s]\u001b[A\nOpen files to import:  35%|███▍      | 110/316 [00:29<01:01,  3.38it/s]\u001b[A\nOpen files to import:  35%|███▌      | 111/316 [00:29<00:59,  3.44it/s]\u001b[A\nOpen files to import:  35%|███▌      | 112/316 [00:29<01:01,  3.33it/s]\u001b[A\nOpen files to import:  36%|███▌      | 113/316 [00:30<01:00,  3.38it/s]\u001b[A\nOpen files to import:  36%|███▌      | 114/316 [00:30<00:58,  3.43it/s]\u001b[A\nOpen files to import:  36%|███▋      | 115/316 [00:30<00:59,  3.39it/s]\u001b[A\nOpen files to import:  37%|███▋      | 116/316 [00:31<00:55,  3.61it/s]\u001b[A\nOpen files to import:  37%|███▋      | 117/316 [00:31<00:54,  3.67it/s]\u001b[A\nOpen files to import:  37%|███▋      | 118/316 [00:31<00:53,  3.68it/s]\u001b[A\nOpen files to import:  38%|███▊      | 119/316 [00:31<00:53,  3.67it/s]\u001b[A\nOpen files to import:  38%|███▊      | 120/316 [00:32<00:56,  3.49it/s]\u001b[A\nOpen files to import:  38%|███▊      | 121/316 [00:32<00:59,  3.29it/s]\u001b[A\nOpen files to import:  39%|███▊      | 122/316 [00:32<01:00,  3.23it/s]\u001b[A\nOpen files to import:  39%|███▉      | 123/316 [00:33<00:59,  3.25it/s]\u001b[A\nOpen files to import:  39%|███▉      | 124/316 [00:33<01:07,  2.86it/s]\u001b[A\nOpen files to import:  40%|███▉      | 125/316 [00:33<01:07,  2.83it/s]\u001b[A\nOpen files to import:  40%|███▉      | 126/316 [00:34<01:04,  2.94it/s]\u001b[A\nOpen files to import:  40%|████      | 127/316 [00:34<01:03,  2.98it/s]\u001b[A\nOpen files to import:  41%|████      | 128/316 [00:34<01:01,  3.06it/s]\u001b[A\nOpen files to import:  41%|████      | 129/316 [00:35<01:01,  3.05it/s]\u001b[A\nOpen files to import:  41%|████      | 130/316 [00:35<01:03,  2.94it/s]\u001b[A\nOpen files to import:  41%|████▏     | 131/316 [00:35<01:03,  2.89it/s]\u001b[A\nOpen files to import:  42%|████▏     | 132/316 [00:36<01:03,  2.90it/s]\u001b[A\nOpen files to import:  42%|████▏     | 133/316 [00:36<01:09,  2.64it/s]\u001b[A\nOpen files to import:  42%|████▏     | 134/316 [00:37<01:16,  2.39it/s]\u001b[A\nOpen files to import:  43%|████▎     | 135/316 [00:37<01:13,  2.47it/s]\u001b[A\nOpen files to import:  43%|████▎     | 136/316 [00:38<01:10,  2.56it/s]\u001b[A\nOpen files to import:  43%|████▎     | 137/316 [00:38<01:09,  2.58it/s]\u001b[A\nOpen files to import:  44%|████▎     | 138/316 [00:38<01:05,  2.70it/s]\u001b[A\nOpen files to import:  44%|████▍     | 139/316 [00:39<01:03,  2.79it/s]\u001b[A\nOpen files to import:  44%|████▍     | 140/316 [00:39<00:59,  2.94it/s]\u001b[A\nOpen files to import:  45%|████▍     | 141/316 [00:39<00:56,  3.12it/s]\u001b[A\nOpen files to import:  45%|████▍     | 142/316 [00:39<00:55,  3.13it/s]\u001b[A\nOpen files to import:  45%|████▌     | 143/316 [00:40<00:56,  3.09it/s]\u001b[A\nOpen files to import:  46%|████▌     | 144/316 [00:40<00:58,  2.92it/s]\u001b[A\nOpen files to import:  46%|████▌     | 145/316 [00:40<00:56,  3.04it/s]\u001b[A\nOpen files to import:  46%|████▌     | 146/316 [00:41<00:53,  3.16it/s]\u001b[A\nOpen files to import:  47%|████▋     | 147/316 [00:41<00:49,  3.43it/s]\u001b[A\nOpen files to import:  47%|████▋     | 148/316 [00:41<00:47,  3.54it/s]\u001b[A\nOpen files to import:  47%|████▋     | 149/316 [00:42<00:51,  3.27it/s]\u001b[A\nOpen files to import:  47%|████▋     | 150/316 [00:42<00:53,  3.12it/s]\u001b[A\nOpen files to import:  48%|████▊     | 151/316 [00:42<00:52,  3.13it/s]\u001b[A\nOpen files to import:  48%|████▊     | 152/316 [00:43<00:51,  3.20it/s]\u001b[A\nOpen files to import:  48%|████▊     | 153/316 [00:43<00:52,  3.10it/s]\u001b[A\nOpen files to import:  49%|████▊     | 154/316 [00:43<00:48,  3.35it/s]\u001b[A\nOpen files to import:  49%|████▉     | 155/316 [00:43<00:48,  3.33it/s]\u001b[A\nOpen files to import:  49%|████▉     | 156/316 [00:44<00:46,  3.43it/s]\u001b[A\nOpen files to import:  50%|████▉     | 157/316 [00:44<00:46,  3.44it/s]\u001b[A\nOpen files to import:  50%|█████     | 158/316 [00:44<00:47,  3.34it/s]\u001b[A\nOpen files to import:  50%|█████     | 159/316 [00:45<00:49,  3.15it/s]\u001b[A\nOpen files to import:  51%|█████     | 160/316 [00:45<00:49,  3.13it/s]\u001b[A\nOpen files to import:  51%|█████     | 161/316 [00:45<00:48,  3.16it/s]\u001b[A\nOpen files to import:  51%|█████▏    | 162/316 [00:46<01:01,  2.51it/s]\u001b[A\nOpen files to import:  52%|█████▏    | 163/316 [00:46<01:07,  2.28it/s]\u001b[A\nOpen files to import:  52%|█████▏    | 164/316 [00:47<01:10,  2.15it/s]\u001b[A\nOpen files to import:  52%|█████▏    | 165/316 [00:47<01:07,  2.22it/s]\u001b[A\nOpen files to import:  53%|█████▎    | 166/316 [00:48<01:05,  2.28it/s]\u001b[A\nOpen files to import:  53%|█████▎    | 167/316 [00:48<01:09,  2.14it/s]\u001b[A\nOpen files to import:  53%|█████▎    | 168/316 [00:49<01:01,  2.40it/s]\u001b[A\nOpen files to import:  53%|█████▎    | 169/316 [00:49<01:03,  2.31it/s]\u001b[A\nOpen files to import:  54%|█████▍    | 170/316 [00:50<01:01,  2.37it/s]\u001b[A\nOpen files to import:  54%|█████▍    | 171/316 [00:50<01:21,  1.78it/s]\u001b[A\nOpen files to import:  54%|█████▍    | 172/316 [00:51<01:27,  1.64it/s]\u001b[A\nOpen files to import:  55%|█████▍    | 173/316 [00:52<01:26,  1.66it/s]\u001b[A\nOpen files to import:  55%|█████▌    | 174/316 [00:52<01:20,  1.77it/s]\u001b[A\nOpen files to import:  55%|█████▌    | 175/316 [00:53<01:11,  1.98it/s]\u001b[A\nOpen files to import:  56%|█████▌    | 176/316 [00:53<01:07,  2.06it/s]\u001b[A\nOpen files to import:  56%|█████▌    | 177/316 [00:53<01:07,  2.06it/s]\u001b[A\nOpen files to import:  56%|█████▋    | 178/316 [00:54<01:00,  2.27it/s]\u001b[A\nOpen files to import:  57%|█████▋    | 179/316 [00:54<00:57,  2.36it/s]\u001b[A\nOpen files to import:  57%|█████▋    | 180/316 [00:55<00:53,  2.53it/s]\u001b[A\nOpen files to import:  57%|█████▋    | 181/316 [00:55<00:48,  2.77it/s]\u001b[A\nOpen files to import:  58%|█████▊    | 182/316 [00:55<00:47,  2.81it/s]\u001b[A\nOpen files to import:  58%|█████▊    | 183/316 [00:55<00:45,  2.90it/s]\u001b[A\nOpen files to import:  58%|█████▊    | 184/316 [00:56<00:41,  3.18it/s]\u001b[A\nOpen files to import:  59%|█████▊    | 185/316 [00:56<00:38,  3.40it/s]\u001b[A\nOpen files to import:  59%|█████▉    | 186/316 [00:56<00:41,  3.17it/s]\u001b[A\nOpen files to import:  59%|█████▉    | 187/316 [00:57<00:36,  3.49it/s]\u001b[A\nOpen files to import:  59%|█████▉    | 188/316 [00:57<00:36,  3.52it/s]\u001b[A\nOpen files to import:  60%|█████▉    | 189/316 [00:57<00:39,  3.18it/s]\u001b[A\nOpen files to import:  60%|██████    | 190/316 [00:58<00:40,  3.10it/s]\u001b[A\nOpen files to import:  60%|██████    | 191/316 [00:58<00:38,  3.25it/s]\u001b[A\nOpen files to import:  61%|██████    | 192/316 [00:58<00:38,  3.23it/s]\u001b[A\nOpen files to import:  61%|██████    | 193/316 [00:59<00:41,  2.94it/s]\u001b[A\nOpen files to import:  61%|██████▏   | 194/316 [00:59<00:40,  2.99it/s]\u001b[A\nOpen files to import:  62%|██████▏   | 195/316 [00:59<00:39,  3.05it/s]\u001b[A\nOpen files to import:  62%|██████▏   | 196/316 [01:00<00:39,  3.06it/s]\u001b[A\nOpen files to import:  62%|██████▏   | 197/316 [01:00<00:39,  3.03it/s]\u001b[A\nOpen files to import:  63%|██████▎   | 198/316 [01:00<00:42,  2.79it/s]\u001b[A\nOpen files to import:  63%|██████▎   | 199/316 [01:01<00:41,  2.85it/s]\u001b[A\nOpen files to import:  63%|██████▎   | 200/316 [01:01<00:39,  2.91it/s]\u001b[A\nOpen files to import:  64%|██████▎   | 201/316 [01:01<00:42,  2.72it/s]\u001b[A\nOpen files to import:  64%|██████▍   | 202/316 [01:02<00:44,  2.54it/s]\u001b[A\nOpen files to import:  64%|██████▍   | 203/316 [01:02<00:44,  2.54it/s]\u001b[A\nOpen files to import:  65%|██████▍   | 204/316 [01:03<00:46,  2.39it/s]\u001b[A\nOpen files to import:  65%|██████▍   | 205/316 [01:03<00:46,  2.40it/s]\u001b[A"
    }
   ],
   "source": [
    "dataset_data = []\n",
    "for dataset in tqdm(selected_datasets, desc = \"Import data from each dataset\"):\n",
    "    dataset_data.append(import_data(dataset))"
   ]
  },
  {
   "cell_type": "code",
   "execution_count": 0,
   "metadata": {},
   "outputs": [],
   "source": [
    "all_data = pd.concat(dataset_data, axis=0, ignore_index=True, sort=False)\n",
    "all_data.sort_values(by=['DateTime'], inplace=True)\n",
    "cols = ['DateTime']  + [col for col in all_data if col != 'DateTime']\n",
    "all_data = all_data[cols]\n",
    "all_data = all_data.reset_index(drop=True)\n",
    "\n",
    "del selected_datasets, selected, cols, dataset_data, dataset"
   ]
  },
  {
   "cell_type": "code",
   "execution_count": 0,
   "metadata": {},
   "outputs": [],
   "source": [
    "with warnings.catch_warnings():\n",
    "    warnings.filterwarnings('ignore', r'All-NaN (slice|axis) encountered')\n",
    "    warnings.filterwarnings('ignore', r'Degrees of freedom <= 0 for slice.')\n",
    "    ave_cols = []\n",
    "    for col in all_data.columns[1:].to_list():\n",
    "        ave_col = info['parameters'].query('parameter == \"' + col + '\"')['parameter_ave'][0]\n",
    "        if ave_col != col:\n",
    "            if ave_col not in ave_cols:\n",
    "                cols = info['parameters'].query('parameter_ave == \"' + ave_col + '\"')['parameter'].to_list()\n",
    "                all_data[ave_col] = all_data[cols].mean(axis=1)\n",
    "                if len(cols) > 2:\n",
    "                    all_data[ave_col + \"_err\"] = np.nanstd(all_data[cols], axis=1)\n",
    "                elif len(cols) == 2:\n",
    "                    all_data[ave_col + \"_err\"] = np.abs((all_data[cols[0]] - all_data[cols[1]])/2)\n",
    "                else:\n",
    "                    all_data[ave_col + \"_err\"] = 0\n",
    "                ave_cols.append(info['parameters'].query('parameter == \"' + col + '\"')['parameter_ave'][0])\n",
    "\n",
    "del ave_col, col, ave_cols, cols"
   ]
  },
  {
   "cell_type": "code",
   "execution_count": 0,
   "metadata": {},
   "outputs": [],
   "source": [
    "all_data"
   ]
  },
  {
   "cell_type": "code",
   "execution_count": 0,
   "metadata": {},
   "outputs": [],
   "source": [
    "chart_dfs = []\n",
    "for chart in tqdm(charts, desc = \"Assign data to chart DFs\"):\n",
    "    if info['charts'].loc[chart, 'chart_status'] == 'ON':\n",
    "        mask = (all_data['DateTime'] >= info['charts'].loc[chart, 'chart_range_start']) & (all_data['DateTime'] <= info['charts'].loc[chart, 'chart_range_end'])\n",
    "        df = all_data.loc[mask]\n",
    "        if info['charts'].loc[chart, 'chart_res'] != 0:\n",
    "            df = df.resample(\"\".join([str(info['charts'].loc[chart, 'chart_res']), 'T']), on='DateTime').mean()\n",
    "            df = df.reset_index()\n",
    "        else:\n",
    "            df = df.reset_index(drop=True)\n",
    "        chart_dfs.append(df)\n",
    "    else:\n",
    "        chart_dfs.append(\"\")\n",
    "\n",
    "del df, chart, mask, all_data"
   ]
  },
  {
   "cell_type": "code",
   "execution_count": 0,
   "metadata": {},
   "outputs": [],
   "source": [
    "chart_dfs_mlt = []\n",
    "for chart in charts:\n",
    "    if info['charts'].loc[chart, 'chart_status'] == 'ON':\n",
    "        data_cols = []\n",
    "        err_cols = [\"DateTime\"]\n",
    "        for col in chart_dfs[chart].columns:\n",
    "            if not \"_err\" in col:\n",
    "                data_cols.append(col)\n",
    "            else:\n",
    "                err_cols.append(col)\n",
    "\n",
    "        df = chart_dfs[chart][data_cols].melt(id_vars=['DateTime'], var_name='Parameter', value_name='Value')\n",
    "        df_err = chart_dfs[chart][err_cols].melt(id_vars=['DateTime'], var_name='Parameter', value_name='Error')\n",
    "        \n",
    "        df = df.set_index(['DateTime', 'Parameter', df.groupby(['DateTime', 'Parameter']).cumcount()])\n",
    "        df_err['Parameter'] = df_err['Parameter'].str.replace(r'_err', '')\n",
    "        df_err = df_err.set_index(['DateTime', 'Parameter', df_err.groupby(['DateTime', 'Parameter']).cumcount()])\n",
    "        \n",
    "        df3 = (pd.concat([df, df_err],axis=1)\n",
    "        .sort_index(level=2)\n",
    "        .reset_index(level=2, drop=True)\n",
    "        .reset_index())\n",
    "        df3.sort_values(by=['DateTime', 'Parameter'], inplace=True)\n",
    "\n",
    "        chart_dfs_mlt.append(df3)\n",
    "    else:\n",
    "        chart_dfs_mlt.append(\"\")\n",
    "\n",
    "del chart, data_cols, err_cols, col, df, df_err, df3, chart_dfs"
   ]
  },
  {
   "cell_type": "code",
   "execution_count": 0,
   "metadata": {},
   "outputs": [],
   "source": [
    "chart_dfs_mlt"
   ]
  },
  {
   "cell_type": "code",
   "execution_count": 0,
   "metadata": {},
   "outputs": [],
   "source": [
    "plot_pars = []\n",
    "for chart in charts:\n",
    "    if info['charts'].loc[chart, 'chart_status'] == 'ON':\n",
    "        par_info1 = info['parameters'][info['parameters']['parameter'].isin(chart_dfs_mlt[chart].Parameter.unique())].drop(columns=[\"code\", \"parameter_ave\"])\n",
    "        par_info2 = info['parameters_ave'][info['parameters_ave']['parameter_ave'].isin(chart_dfs_mlt[chart].Parameter.unique())].rename(columns={\"parameter_ave\": \"parameter\"})\n",
    "        par_info_all = (par_info1.append(par_info2)).query('selected_chart_' + str(chart) + ' == 1')\n",
    "\n",
    "        #Convert colour id to rgb string\n",
    "        par_info_all['colour'].replace(info['colours']['rgb_str'].to_dict(), inplace=True)\n",
    "        par_info_all['fill'].replace(info['colours']['rgb_str'].to_dict(), inplace=True)\n",
    "\n",
    "        #Set defaults for NAs\n",
    "        par_info_all['colour'].fillna(info['colours'].query(\"theme == 'dark'\")['rgb_str'].to_list()[0], inplace=True)\n",
    "        par_info_all['fill'].fillna(info['colours'].query(\"theme == 'dark'\")['rgb_str'].to_list()[0], inplace=True)\n",
    "        par_info_all['shape'].fillna(1, inplace=True)\n",
    "        par_info_all['line_type'].fillna(\"solid\", inplace=True)\n",
    "        par_info_all['show_in_legend'].fillna(True, inplace=True)\n",
    "        \n",
    "        plot_pars.append(par_info_all)\n",
    "    else:\n",
    "        plot_pars.append(\"\")\n",
    "plot_pars\n",
    "\n",
    "del chart, par_info1, par_info2, par_info_all"
   ]
  },
  {
   "cell_type": "code",
   "execution_count": 0,
   "metadata": {},
   "outputs": [],
   "source": [
    "figs = []\n",
    "for chart in charts:\n",
    "    if info['charts'].loc[chart, 'chart_status'] == 'ON':\n",
    "        fig = go.Figure()\n",
    "        for i in range(0, len(chart_dfs_mlt[chart].Parameter.unique())):\n",
    "            par = chart_dfs_mlt[chart].Parameter.unique()[i]\n",
    "            plot_par = plot_pars[chart].query('parameter == \"' + par + '\"')\n",
    "            x_data = chart_dfs_mlt[chart][chart_dfs_mlt[chart].Parameter == par].DateTime\n",
    "            y_data = chart_dfs_mlt[chart][chart_dfs_mlt[chart].Parameter == par].Value\n",
    "            y_error = chart_dfs_mlt[chart][chart_dfs_mlt[chart].Parameter == par].Error\n",
    "\n",
    "            fig.add_trace(go.Scatter(x=x_data, y=y_data, mode='lines',\n",
    "                                    name=plot_par['parameter_lab'][0], \n",
    "                                    line=dict(color=plot_par['colour'][0], width=1),\n",
    "                                    connectgaps=True, legendgroup=plot_par['parameter_lab'][0], showlegend=bool(plot_par['show_in_legend'][0])\n",
    "                                    ))\n",
    "            figs.append(fig)\n",
    "    else:\n",
    "        figs.append(\"\")\n",
    "\n",
    "del chart, fig, i, par, plot_par, x_data, y_data, y_error"
   ]
  },
  {
   "cell_type": "code",
   "execution_count": 0,
   "metadata": {},
   "outputs": [],
   "source": [
    "figs[0].show()"
   ]
  }
 ],
 "metadata": {
  "kernelspec": {
   "display_name": "Python 3",
   "language": "python",
   "name": "python3"
  },
  "language_info": {
   "codemirror_mode": {
    "name": "ipython",
    "version": 3
   },
   "file_extension": ".py",
   "mimetype": "text/x-python",
   "name": "python",
   "nbconvert_exporter": "python",
   "pygments_lexer": "ipython3",
   "version": "3.7.5-final"
  },
  "varInspector": {
   "cols": {
    "lenName": 16,
    "lenType": 16,
    "lenVar": 40
   },
   "kernels_config": {
    "python": {
     "delete_cmd_postfix": "",
     "delete_cmd_prefix": "del ",
     "library": "var_list.py",
     "varRefreshCmd": "print(var_dic_list())"
    },
    "r": {
     "delete_cmd_postfix": ") ",
     "delete_cmd_prefix": "rm(",
     "library": "var_list.r",
     "varRefreshCmd": "cat(var_dic_list()) "
    }
   },
   "position": {
    "height": "250px",
    "left": "1330px",
    "right": "20px",
    "top": "109px",
    "width": "575px"
   },
   "types_to_exclude": [
    "module",
    "function",
    "builtin_function_or_method",
    "instance",
    "_Feature"
   ],
   "window_display": true
  }
 },
 "nbformat": 4,
 "nbformat_minor": 4
}