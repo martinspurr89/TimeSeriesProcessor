{
 "cells": [
  {
   "cell_type": "markdown",
   "execution_count": null,
   "metadata": {},
   "outputs": [],
   "source": [
    "![ToOL-PRO-BES.png](Info/ToOL-PRO-BES.png)"
   ]
  },
  {
   "cell_type": "markdown",
   "execution_count": null,
   "metadata": {},
   "outputs": [],
   "source": [
    "## Import packages"
   ]
  },
  {
   "cell_type": "code",
   "execution_count": 70,
   "metadata": {},
   "outputs": [],
   "source": [
    "import pandas as pd\n",
    "from tqdm.autonotebook import trange, tqdm\n",
    "\n",
    "from plotly.subplots import make_subplots\n",
    "import plotly.graph_objects as go\n",
    "import datetime\n",
    "from datetime import datetime, timedelta, timezone\n",
    "from pytz import timezone\n",
    "\n",
    "import os\n",
    "import re\n",
    "\n",
    "import dash\n",
    "import dash_core_components as dcc\n",
    "import dash_bootstrap_components as dbc\n",
    "import dash_html_components as html\n",
    "from dash.dependencies import Input, Output, State\n",
    "import time\n",
    "import numpy as np\n",
    "import math\n",
    "import seaborn as sns\n",
    "\n",
    "import requests\n",
    "import io\n",
    "import warnings"
   ]
  },
  {
   "cell_type": "markdown",
   "execution_count": null,
   "metadata": {},
   "outputs": [],
   "source": [
    "## Setup from Info.xlsx"
   ]
  },
  {
   "cell_type": "code",
   "execution_count": 71,
   "metadata": {},
   "outputs": [
    {
     "output_type": "stream",
     "name": "stdout",
     "text": "setup | datasets | charts | plots | parameters | parameters_ave | colours\n"
    }
   ],
   "source": [
    "info = pd.read_excel(\"Info/Info.xlsx\", sheet_name=None, index_col=0)\n",
    "print(*info.keys(), sep = \" | \")"
   ]
  },
  {
   "cell_type": "markdown",
   "execution_count": null,
   "metadata": {},
   "outputs": [],
   "source": [
    "## Functions"
   ]
  },
  {
   "cell_type": "code",
   "execution_count": 72,
   "metadata": {},
   "outputs": [
    {
     "output_type": "execute_result",
     "data": {
      "text/plain": "                                           value\nid                                              \nproject                             ToOLTuBES v2\ndate_start_utc               2019-06-04 13:03:17\ndate_end_utc    2020-02-17 14:08:22.301731+00:00",
      "text/html": "<div>\n<style scoped>\n    .dataframe tbody tr th:only-of-type {\n        vertical-align: middle;\n    }\n\n    .dataframe tbody tr th {\n        vertical-align: top;\n    }\n\n    .dataframe thead th {\n        text-align: right;\n    }\n</style>\n<table border=\"1\" class=\"dataframe\">\n  <thead>\n    <tr style=\"text-align: right;\">\n      <th></th>\n      <th>value</th>\n    </tr>\n    <tr>\n      <th>id</th>\n      <th></th>\n    </tr>\n  </thead>\n  <tbody>\n    <tr>\n      <th>project</th>\n      <td>ToOLTuBES v2</td>\n    </tr>\n    <tr>\n      <th>date_start_utc</th>\n      <td>2019-06-04 13:03:17</td>\n    </tr>\n    <tr>\n      <th>date_end_utc</th>\n      <td>2020-02-17 14:08:22.301731+00:00</td>\n    </tr>\n  </tbody>\n</table>\n</div>"
     },
     "metadata": {},
     "execution_count": 72
    }
   ],
   "source": [
    "# Date Functions\n",
    "def set_date(date_str, old_tz, dt_format = \"%d/%m/%Y %H:%M:%S\"):\n",
    "    if date_str == 'NaT':\n",
    "        return pd.NaT\n",
    "    else:\n",
    "        datetime_set_naive = datetime.strptime(date_str, dt_format)\n",
    "        datetime_set_old = timezone(old_tz).localize(datetime_set_naive)\n",
    "        datetime_set_utc = datetime_set_old.astimezone(timezone('UTC'))\n",
    "        return datetime_set_utc\n",
    "\n",
    "def date_parser(date_, time_, dt_format = \"%d/%m/%Y %H:%M:%S\"):\n",
    "    return set_date(date_ + \" \" + time_, 'UTC', dt_format)\n",
    "\n",
    "def date_parserYMD(date_, time_, dt_format = \"%Y-%m-%d %H:%M:%S\"):\n",
    "    return set_date(date_ + \" \" + time_, 'UTC', dt_format)\n",
    "\n",
    "\n",
    "# Experiment start/end date\n",
    "date_start = set_date(str(info['setup'].loc['date_start_utc','value']), \"UTC\", \"%Y-%m-%d %H:%M:%S\")\n",
    "if pd.isna(info['setup'].loc['date_end_utc','value']):\n",
    "    date_now = datetime.now(timezone('UTC'))\n",
    "    info['setup'].loc['date_end_utc','value'] = date_now\n",
    "else:\n",
    "    date_now = set_date(str(info['setup'].loc['date_end_utc','value']), \"UTC\", \"%Y-%m-%d %H:%M:%S\")\n",
    "\n",
    "# Date Functions continued\n",
    "def date_range(window=-1, start=date_start, end=date_now):\n",
    "    if pd.isna(start):\n",
    "        start = date_start\n",
    "    if pd.isna(end):\n",
    "        end = date_now\n",
    "    if window != -1:\n",
    "        if not pd.isna(window):\n",
    "            start = end - timedelta(days=window)\n",
    "    return start, end\n",
    "\n",
    "info['setup']"
   ]
  },
  {
   "cell_type": "markdown",
   "execution_count": null,
   "metadata": {},
   "outputs": [],
   "source": [
    "## Process Information sheets from Info.xlsx\n",
    "\n",
    "### Datasets:"
   ]
  },
  {
   "cell_type": "code",
   "execution_count": 73,
   "metadata": {},
   "outputs": [
    {
     "output_type": "execute_result",
     "data": {
      "text/plain": "         folder     selection              melt  \\\ndataset                                           \nUO            1       UO.wide           UO.wide   \nNWL           1           NWL               NWL   \nSkid          1          Skid          Skid.ave   \nSkid          2          Skid          Skid.ave   \nSampLog       1  SampLog.wide  SampLog.wide.ave   \nSensor        1        SENSOR            SENSOR   \nEvents        1       EV.wide            EV.ave   \n\n                                          data_folder_path  \\\ndataset                                                      \nUO       C:/Users/Martin/Google Drive/ToOLTuBES/LAB/Dat...   \nNWL      C:/Users/Martin/Google Drive/ToOLTuBES/LAB/Dat...   \nSkid     C:/Users/Martin/Google Drive/BEWISE_shared/Ski...   \nSkid     C:/Users/Martin/Google Drive/BEWISE_shared/Ski...   \nSampLog  C:/Users/Martin/Google Drive/BEWISE_shared/Sam...   \nSensor   C:/Users/Martin/Google Drive/ToOLTuBESv2/LAB/T...   \nEvents   C:/Users/Martin/Google Drive/ToOLTuBESv2/LAB/T...   \n\n                                        supp_data_filepath  \\\ndataset                                                      \nUO       C:/Users/Martin/Google Drive/ToOLTuBES/LAB/Dat...   \nNWL                                                    NaN   \nSkid                                                   NaN   \nSkid                                                   NaN   \nSampLog                                                NaN   \nSensor                                                 NaN   \nEvents   C:/Users/Martin/Google Drive/ToOLTuBESv2/LAB/T...   \n\n                        file_pat  skiprows  Slim  Del_unit_rows  \\\ndataset                                                           \nUO                          .csv         0   1.0            NaN   \nNWL                        .xlsx         2   NaN            1.0   \nSkid                        .CSV         2   NaN            NaN   \nSkid                        .CSV         3   NaN            NaN   \nSampLog                     .csv         0   1.0            NaN   \nSensor   \\d\\d_\\d\\d_\\d\\d\\d\\d\\.csv         0   NaN            NaN   \nEvents                      .csv         0   NaN            NaN   \n\n         Add_blank_rows  \ndataset                  \nUO                  1.0  \nNWL                 NaN  \nSkid                1.0  \nSkid                1.0  \nSampLog             NaN  \nSensor              NaN  \nEvents              NaN  ",
      "text/html": "<div>\n<style scoped>\n    .dataframe tbody tr th:only-of-type {\n        vertical-align: middle;\n    }\n\n    .dataframe tbody tr th {\n        vertical-align: top;\n    }\n\n    .dataframe thead th {\n        text-align: right;\n    }\n</style>\n<table border=\"1\" class=\"dataframe\">\n  <thead>\n    <tr style=\"text-align: right;\">\n      <th></th>\n      <th>folder</th>\n      <th>selection</th>\n      <th>melt</th>\n      <th>data_folder_path</th>\n      <th>supp_data_filepath</th>\n      <th>file_pat</th>\n      <th>skiprows</th>\n      <th>Slim</th>\n      <th>Del_unit_rows</th>\n      <th>Add_blank_rows</th>\n    </tr>\n    <tr>\n      <th>dataset</th>\n      <th></th>\n      <th></th>\n      <th></th>\n      <th></th>\n      <th></th>\n      <th></th>\n      <th></th>\n      <th></th>\n      <th></th>\n      <th></th>\n    </tr>\n  </thead>\n  <tbody>\n    <tr>\n      <th>UO</th>\n      <td>1</td>\n      <td>UO.wide</td>\n      <td>UO.wide</td>\n      <td>C:/Users/Martin/Google Drive/ToOLTuBES/LAB/Dat...</td>\n      <td>C:/Users/Martin/Google Drive/ToOLTuBES/LAB/Dat...</td>\n      <td>.csv</td>\n      <td>0</td>\n      <td>1.0</td>\n      <td>NaN</td>\n      <td>1.0</td>\n    </tr>\n    <tr>\n      <th>NWL</th>\n      <td>1</td>\n      <td>NWL</td>\n      <td>NWL</td>\n      <td>C:/Users/Martin/Google Drive/ToOLTuBES/LAB/Dat...</td>\n      <td>NaN</td>\n      <td>.xlsx</td>\n      <td>2</td>\n      <td>NaN</td>\n      <td>1.0</td>\n      <td>NaN</td>\n    </tr>\n    <tr>\n      <th>Skid</th>\n      <td>1</td>\n      <td>Skid</td>\n      <td>Skid.ave</td>\n      <td>C:/Users/Martin/Google Drive/BEWISE_shared/Ski...</td>\n      <td>NaN</td>\n      <td>.CSV</td>\n      <td>2</td>\n      <td>NaN</td>\n      <td>NaN</td>\n      <td>1.0</td>\n    </tr>\n    <tr>\n      <th>Skid</th>\n      <td>2</td>\n      <td>Skid</td>\n      <td>Skid.ave</td>\n      <td>C:/Users/Martin/Google Drive/BEWISE_shared/Ski...</td>\n      <td>NaN</td>\n      <td>.CSV</td>\n      <td>3</td>\n      <td>NaN</td>\n      <td>NaN</td>\n      <td>1.0</td>\n    </tr>\n    <tr>\n      <th>SampLog</th>\n      <td>1</td>\n      <td>SampLog.wide</td>\n      <td>SampLog.wide.ave</td>\n      <td>C:/Users/Martin/Google Drive/BEWISE_shared/Sam...</td>\n      <td>NaN</td>\n      <td>.csv</td>\n      <td>0</td>\n      <td>1.0</td>\n      <td>NaN</td>\n      <td>NaN</td>\n    </tr>\n    <tr>\n      <th>Sensor</th>\n      <td>1</td>\n      <td>SENSOR</td>\n      <td>SENSOR</td>\n      <td>C:/Users/Martin/Google Drive/ToOLTuBESv2/LAB/T...</td>\n      <td>NaN</td>\n      <td>\\d\\d_\\d\\d_\\d\\d\\d\\d\\.csv</td>\n      <td>0</td>\n      <td>NaN</td>\n      <td>NaN</td>\n      <td>NaN</td>\n    </tr>\n    <tr>\n      <th>Events</th>\n      <td>1</td>\n      <td>EV.wide</td>\n      <td>EV.ave</td>\n      <td>C:/Users/Martin/Google Drive/ToOLTuBESv2/LAB/T...</td>\n      <td>C:/Users/Martin/Google Drive/ToOLTuBESv2/LAB/T...</td>\n      <td>.csv</td>\n      <td>0</td>\n      <td>NaN</td>\n      <td>NaN</td>\n      <td>NaN</td>\n    </tr>\n  </tbody>\n</table>\n</div>"
     },
     "metadata": {},
     "execution_count": 73
    }
   ],
   "source": [
    "info['datasets']"
   ]
  },
  {
   "cell_type": "markdown",
   "execution_count": null,
   "metadata": {},
   "outputs": [],
   "source": [
    "### Chartxs:"
   ]
  },
  {
   "cell_type": "code",
   "execution_count": 74,
   "metadata": {},
   "outputs": [
    {
     "output_type": "execute_result",
     "data": {
      "text/plain": "         chart chart_status  chart_res        chart_range_window  \\\norder                                                              \n0         high           ON          0           3 days, 0:00:00   \n1          med           ON          5          14 days, 0:00:00   \n2          low           ON        120  258 days, 1:05:05.301731   \n3      low_ave           ON        120  258 days, 1:05:05.301731   \n4      custom1          OFF          0            1 day, 0:00:00   \n\n                      chart_range_start                   chart_range_end  \\\norder                                                                       \n0      2020-02-14 14:08:22.301731+00:00  2020-02-17 14:08:22.301731+00:00   \n1      2020-02-03 14:08:22.301731+00:00  2020-02-17 14:08:22.301731+00:00   \n2             2019-06-04 13:03:17+00:00  2020-02-17 14:08:22.301731+00:00   \n3             2019-06-04 13:03:17+00:00  2020-02-17 14:08:22.301731+00:00   \n4             2019-06-04 13:03:17+00:00         2019-06-05 13:03:17+00:00   \n\n                    chart_label  \norder                            \n0               High Resolution  \n1             Medium Resolution  \n2                Low Resolution  \n3      Low Resolution (average)  \n4                  Custom Chart  ",
      "text/html": "<div>\n<style scoped>\n    .dataframe tbody tr th:only-of-type {\n        vertical-align: middle;\n    }\n\n    .dataframe tbody tr th {\n        vertical-align: top;\n    }\n\n    .dataframe thead th {\n        text-align: right;\n    }\n</style>\n<table border=\"1\" class=\"dataframe\">\n  <thead>\n    <tr style=\"text-align: right;\">\n      <th></th>\n      <th>chart</th>\n      <th>chart_status</th>\n      <th>chart_res</th>\n      <th>chart_range_window</th>\n      <th>chart_range_start</th>\n      <th>chart_range_end</th>\n      <th>chart_label</th>\n    </tr>\n    <tr>\n      <th>order</th>\n      <th></th>\n      <th></th>\n      <th></th>\n      <th></th>\n      <th></th>\n      <th></th>\n      <th></th>\n    </tr>\n  </thead>\n  <tbody>\n    <tr>\n      <th>0</th>\n      <td>high</td>\n      <td>ON</td>\n      <td>0</td>\n      <td>3 days, 0:00:00</td>\n      <td>2020-02-14 14:08:22.301731+00:00</td>\n      <td>2020-02-17 14:08:22.301731+00:00</td>\n      <td>High Resolution</td>\n    </tr>\n    <tr>\n      <th>1</th>\n      <td>med</td>\n      <td>ON</td>\n      <td>5</td>\n      <td>14 days, 0:00:00</td>\n      <td>2020-02-03 14:08:22.301731+00:00</td>\n      <td>2020-02-17 14:08:22.301731+00:00</td>\n      <td>Medium Resolution</td>\n    </tr>\n    <tr>\n      <th>2</th>\n      <td>low</td>\n      <td>ON</td>\n      <td>120</td>\n      <td>258 days, 1:05:05.301731</td>\n      <td>2019-06-04 13:03:17+00:00</td>\n      <td>2020-02-17 14:08:22.301731+00:00</td>\n      <td>Low Resolution</td>\n    </tr>\n    <tr>\n      <th>3</th>\n      <td>low_ave</td>\n      <td>ON</td>\n      <td>120</td>\n      <td>258 days, 1:05:05.301731</td>\n      <td>2019-06-04 13:03:17+00:00</td>\n      <td>2020-02-17 14:08:22.301731+00:00</td>\n      <td>Low Resolution (average)</td>\n    </tr>\n    <tr>\n      <th>4</th>\n      <td>custom1</td>\n      <td>OFF</td>\n      <td>0</td>\n      <td>1 day, 0:00:00</td>\n      <td>2019-06-04 13:03:17+00:00</td>\n      <td>2019-06-05 13:03:17+00:00</td>\n      <td>Custom Chart</td>\n    </tr>\n  </tbody>\n</table>\n</div>"
     },
     "metadata": {},
     "execution_count": 74
    }
   ],
   "source": [
    "charts = []\n",
    "for chart, row in info['charts'].iterrows():\n",
    "    chart_range = date_range(window = row['chart_range_window'], start = set_date(str(row['chart_range_start']), \"UTC\", \"%Y-%m-%d %H:%M:%S\"), end = set_date(str(row['chart_range_end']), \"UTC\", \"%Y-%m-%d %H:%M:%S\"))\n",
    "    info['charts'].loc[chart, 'chart_range_start'] = chart_range[0]\n",
    "    info['charts'].loc[chart, 'chart_range_end'] = chart_range[1]\n",
    "    info['charts'].loc[chart, 'chart_range_window'] = chart_range[1] - chart_range[0]\n",
    "    charts.append(chart)\n",
    "\n",
    "del chart, chart_range, row\n",
    "\n",
    "info['charts']"
   ]
  },
  {
   "cell_type": "markdown",
   "execution_count": null,
   "metadata": {},
   "outputs": [],
   "source": [
    "### Parameters:"
   ]
  },
  {
   "cell_type": "code",
   "execution_count": 75,
   "metadata": {},
   "outputs": [
    {
     "output_type": "execute_result",
     "data": {
      "text/plain": "                  code         parameter     parameter_ave  \\\ndataset                                                      \nSensor            A1 V         BES_A1__V      BES_1__V_ave   \nSensor            A2 V         BES_A2__V      BES_2__V_ave   \nSensor            A3 V         BES_A3__V      BES_3__V_ave   \nSensor            A4 V         BES_A4__V      BES_4__V_ave   \nSensor            B1 V         BES_B1__V      BES_1__V_ave   \n...                ...               ...               ...   \nEvents   HOSE_B_STATUS  HOSE_B_STATUS_EV  HOSE_B_STATUS_EV   \nEvents   HOSE_C_STATUS  HOSE_C_STATUS_EV  HOSE_C_STATUS_EV   \nEvents         TILT_SP        TILT_SP_EV        TILT_SP_EV   \nEvents       TILT_AUTO      TILT_AUTO_EV      TILT_AUTO_EV   \nEvents          WAKEUP         WAKEUP_EV         WAKEUP_EV   \n\n                       parameter_lab        plot  line  ribbon  bar  point  \\\ndataset                                                                      \nSensor                        BES 1A      BES_VA   1.0     NaN  NaN    NaN   \nSensor                        BES 2A      BES_VA   1.0     NaN  NaN    NaN   \nSensor                        BES 3A      BES_VA   1.0     NaN  NaN    NaN   \nSensor                        BES 4A      BES_VA   1.0     NaN  NaN    NaN   \nSensor                        BES 1B      BES_VB   1.0     NaN  NaN    NaN   \n...                              ...         ...   ...     ...  ...    ...   \nEvents       Heated Hose B Status EV  TEMP_EVENT   1.0     NaN  NaN    NaN   \nEvents       Heated Hose C Status EV  TEMP_EVENT   1.0     NaN  NaN    NaN   \nEvents   Enclosure Tilt Set Point EV    PRESSURE   1.0     NaN  NaN    NaN   \nEvents   Enclosure Tilt Automated EV      STATUS   1.0     NaN  NaN    NaN   \nEvents        Wakeup from Restart EV      STATUS   1.0     NaN  NaN    NaN   \n\n         colour  fill  shape line_type  bar_order  show_in_legend  \\\ndataset                                                             \nSensor      0.0   0.0    NaN     solid        NaN            True   \nSensor      3.0   3.0    NaN     solid        NaN            True   \nSensor      5.0   5.0    NaN     solid        NaN            True   \nSensor      6.0   6.0    NaN     solid        NaN            True   \nSensor      0.0   0.0    NaN  longdash        NaN            True   \n...         ...   ...    ...       ...        ...             ...   \nEvents      NaN   NaN    NaN       NaN        NaN            True   \nEvents      NaN   NaN    NaN       NaN        NaN            True   \nEvents      NaN   NaN    NaN       NaN        NaN            True   \nEvents      NaN   NaN    NaN       NaN        NaN            True   \nEvents      6.0   6.0    NaN     solid        3.0            True   \n\n         selected_chart_0  selected_chart_1  selected_chart_2  \\\ndataset                                                         \nSensor                  1                 1                 1   \nSensor                  1                 1                 1   \nSensor                  1                 1                 1   \nSensor                  1                 1                 1   \nSensor                  1                 1                 1   \n...                   ...               ...               ...   \nEvents                  0                 0                 0   \nEvents                  0                 0                 0   \nEvents                  0                 0                 0   \nEvents                  0                 0                 0   \nEvents                  0                 0                 0   \n\n         selected_chart_3  \ndataset                    \nSensor                  1  \nSensor                  1  \nSensor                  1  \nSensor                  1  \nSensor                  1  \n...                   ...  \nEvents                  0  \nEvents                  0  \nEvents                  0  \nEvents                  0  \nEvents                  0  \n\n[152 rows x 19 columns]",
      "text/html": "<div>\n<style scoped>\n    .dataframe tbody tr th:only-of-type {\n        vertical-align: middle;\n    }\n\n    .dataframe tbody tr th {\n        vertical-align: top;\n    }\n\n    .dataframe thead th {\n        text-align: right;\n    }\n</style>\n<table border=\"1\" class=\"dataframe\">\n  <thead>\n    <tr style=\"text-align: right;\">\n      <th></th>\n      <th>code</th>\n      <th>parameter</th>\n      <th>parameter_ave</th>\n      <th>parameter_lab</th>\n      <th>plot</th>\n      <th>line</th>\n      <th>ribbon</th>\n      <th>bar</th>\n      <th>point</th>\n      <th>colour</th>\n      <th>fill</th>\n      <th>shape</th>\n      <th>line_type</th>\n      <th>bar_order</th>\n      <th>show_in_legend</th>\n      <th>selected_chart_0</th>\n      <th>selected_chart_1</th>\n      <th>selected_chart_2</th>\n      <th>selected_chart_3</th>\n    </tr>\n    <tr>\n      <th>dataset</th>\n      <th></th>\n      <th></th>\n      <th></th>\n      <th></th>\n      <th></th>\n      <th></th>\n      <th></th>\n      <th></th>\n      <th></th>\n      <th></th>\n      <th></th>\n      <th></th>\n      <th></th>\n      <th></th>\n      <th></th>\n      <th></th>\n      <th></th>\n      <th></th>\n      <th></th>\n    </tr>\n  </thead>\n  <tbody>\n    <tr>\n      <th>Sensor</th>\n      <td>A1 V</td>\n      <td>BES_A1__V</td>\n      <td>BES_1__V_ave</td>\n      <td>BES 1A</td>\n      <td>BES_VA</td>\n      <td>1.0</td>\n      <td>NaN</td>\n      <td>NaN</td>\n      <td>NaN</td>\n      <td>0.0</td>\n      <td>0.0</td>\n      <td>NaN</td>\n      <td>solid</td>\n      <td>NaN</td>\n      <td>True</td>\n      <td>1</td>\n      <td>1</td>\n      <td>1</td>\n      <td>1</td>\n    </tr>\n    <tr>\n      <th>Sensor</th>\n      <td>A2 V</td>\n      <td>BES_A2__V</td>\n      <td>BES_2__V_ave</td>\n      <td>BES 2A</td>\n      <td>BES_VA</td>\n      <td>1.0</td>\n      <td>NaN</td>\n      <td>NaN</td>\n      <td>NaN</td>\n      <td>3.0</td>\n      <td>3.0</td>\n      <td>NaN</td>\n      <td>solid</td>\n      <td>NaN</td>\n      <td>True</td>\n      <td>1</td>\n      <td>1</td>\n      <td>1</td>\n      <td>1</td>\n    </tr>\n    <tr>\n      <th>Sensor</th>\n      <td>A3 V</td>\n      <td>BES_A3__V</td>\n      <td>BES_3__V_ave</td>\n      <td>BES 3A</td>\n      <td>BES_VA</td>\n      <td>1.0</td>\n      <td>NaN</td>\n      <td>NaN</td>\n      <td>NaN</td>\n      <td>5.0</td>\n      <td>5.0</td>\n      <td>NaN</td>\n      <td>solid</td>\n      <td>NaN</td>\n      <td>True</td>\n      <td>1</td>\n      <td>1</td>\n      <td>1</td>\n      <td>1</td>\n    </tr>\n    <tr>\n      <th>Sensor</th>\n      <td>A4 V</td>\n      <td>BES_A4__V</td>\n      <td>BES_4__V_ave</td>\n      <td>BES 4A</td>\n      <td>BES_VA</td>\n      <td>1.0</td>\n      <td>NaN</td>\n      <td>NaN</td>\n      <td>NaN</td>\n      <td>6.0</td>\n      <td>6.0</td>\n      <td>NaN</td>\n      <td>solid</td>\n      <td>NaN</td>\n      <td>True</td>\n      <td>1</td>\n      <td>1</td>\n      <td>1</td>\n      <td>1</td>\n    </tr>\n    <tr>\n      <th>Sensor</th>\n      <td>B1 V</td>\n      <td>BES_B1__V</td>\n      <td>BES_1__V_ave</td>\n      <td>BES 1B</td>\n      <td>BES_VB</td>\n      <td>1.0</td>\n      <td>NaN</td>\n      <td>NaN</td>\n      <td>NaN</td>\n      <td>0.0</td>\n      <td>0.0</td>\n      <td>NaN</td>\n      <td>longdash</td>\n      <td>NaN</td>\n      <td>True</td>\n      <td>1</td>\n      <td>1</td>\n      <td>1</td>\n      <td>1</td>\n    </tr>\n    <tr>\n      <th>...</th>\n      <td>...</td>\n      <td>...</td>\n      <td>...</td>\n      <td>...</td>\n      <td>...</td>\n      <td>...</td>\n      <td>...</td>\n      <td>...</td>\n      <td>...</td>\n      <td>...</td>\n      <td>...</td>\n      <td>...</td>\n      <td>...</td>\n      <td>...</td>\n      <td>...</td>\n      <td>...</td>\n      <td>...</td>\n      <td>...</td>\n      <td>...</td>\n    </tr>\n    <tr>\n      <th>Events</th>\n      <td>HOSE_B_STATUS</td>\n      <td>HOSE_B_STATUS_EV</td>\n      <td>HOSE_B_STATUS_EV</td>\n      <td>Heated Hose B Status EV</td>\n      <td>TEMP_EVENT</td>\n      <td>1.0</td>\n      <td>NaN</td>\n      <td>NaN</td>\n      <td>NaN</td>\n      <td>NaN</td>\n      <td>NaN</td>\n      <td>NaN</td>\n      <td>NaN</td>\n      <td>NaN</td>\n      <td>True</td>\n      <td>0</td>\n      <td>0</td>\n      <td>0</td>\n      <td>0</td>\n    </tr>\n    <tr>\n      <th>Events</th>\n      <td>HOSE_C_STATUS</td>\n      <td>HOSE_C_STATUS_EV</td>\n      <td>HOSE_C_STATUS_EV</td>\n      <td>Heated Hose C Status EV</td>\n      <td>TEMP_EVENT</td>\n      <td>1.0</td>\n      <td>NaN</td>\n      <td>NaN</td>\n      <td>NaN</td>\n      <td>NaN</td>\n      <td>NaN</td>\n      <td>NaN</td>\n      <td>NaN</td>\n      <td>NaN</td>\n      <td>True</td>\n      <td>0</td>\n      <td>0</td>\n      <td>0</td>\n      <td>0</td>\n    </tr>\n    <tr>\n      <th>Events</th>\n      <td>TILT_SP</td>\n      <td>TILT_SP_EV</td>\n      <td>TILT_SP_EV</td>\n      <td>Enclosure Tilt Set Point EV</td>\n      <td>PRESSURE</td>\n      <td>1.0</td>\n      <td>NaN</td>\n      <td>NaN</td>\n      <td>NaN</td>\n      <td>NaN</td>\n      <td>NaN</td>\n      <td>NaN</td>\n      <td>NaN</td>\n      <td>NaN</td>\n      <td>True</td>\n      <td>0</td>\n      <td>0</td>\n      <td>0</td>\n      <td>0</td>\n    </tr>\n    <tr>\n      <th>Events</th>\n      <td>TILT_AUTO</td>\n      <td>TILT_AUTO_EV</td>\n      <td>TILT_AUTO_EV</td>\n      <td>Enclosure Tilt Automated EV</td>\n      <td>STATUS</td>\n      <td>1.0</td>\n      <td>NaN</td>\n      <td>NaN</td>\n      <td>NaN</td>\n      <td>NaN</td>\n      <td>NaN</td>\n      <td>NaN</td>\n      <td>NaN</td>\n      <td>NaN</td>\n      <td>True</td>\n      <td>0</td>\n      <td>0</td>\n      <td>0</td>\n      <td>0</td>\n    </tr>\n    <tr>\n      <th>Events</th>\n      <td>WAKEUP</td>\n      <td>WAKEUP_EV</td>\n      <td>WAKEUP_EV</td>\n      <td>Wakeup from Restart EV</td>\n      <td>STATUS</td>\n      <td>1.0</td>\n      <td>NaN</td>\n      <td>NaN</td>\n      <td>NaN</td>\n      <td>6.0</td>\n      <td>6.0</td>\n      <td>NaN</td>\n      <td>solid</td>\n      <td>3.0</td>\n      <td>True</td>\n      <td>0</td>\n      <td>0</td>\n      <td>0</td>\n      <td>0</td>\n    </tr>\n  </tbody>\n</table>\n<p>152 rows × 19 columns</p>\n</div>"
     },
     "metadata": {},
     "execution_count": 75
    }
   ],
   "source": [
    "info['parameters']"
   ]
  },
  {
   "cell_type": "code",
   "execution_count": 76,
   "metadata": {},
   "outputs": [
    {
     "output_type": "execute_result",
     "data": {
      "text/plain": "                  parameter_ave          parameter_lab          plot  line  \\\ndataset                                                                      \nSensor             BES_1__V_ave                  BES 1         BES_V   1.0   \nSensor             BES_2__V_ave                  BES 2         BES_V   1.0   \nSensor             BES_3__V_ave                  BES 3         BES_V   1.0   \nSensor             BES_4__V_ave                  BES 4         BES_V   1.0   \nSensor             BES_1__C_ave                  BES 1         BES_C   1.0   \nSensor             BES_2__C_ave                  BES 2         BES_C   1.0   \nSensor             BES_3__C_ave                  BES 3         BES_C   1.0   \nSensor             BES_4__C_ave                  BES 4         BES_C   1.0   \nSensor           BES_SUM__V_ave               ∑ [BESs]         BES_V   1.0   \nSensor           BES_SUM__C_ave               ∑ [BESs]         BES_C   1.0   \nSensor               REXT_1_ave  BES 1 R<sub>Ext</sub>          REXT   1.0   \nSensor               REXT_2_ave  BES 2 R<sub>Ext</sub>          REXT   1.0   \nSensor               REXT_3_ave  BES 3 R<sub>Ext</sub>          REXT   1.0   \nSensor               REXT_4_ave  BES 4 R<sub>Ext</sub>          REXT   1.0   \nSensor                OCP_1_ave                  BES 1           OCP   1.0   \nSensor                OCP_2_ave                  BES 2           OCP   1.0   \nSensor                OCP_3_ave                  BES 3           OCP   1.0   \nSensor                OCP_4_ave                  BES 4           OCP   1.0   \nSensor             TEMP_BES_ave      Heated Water Temp          TEMP   1.0   \nSensor             TEMP_MAT_ave       Heated Mats Temp  TEMP_PROCESS   1.0   \nSensor            TEMP_HOSE_ave      Heated Hoses Temp  TEMP_PROCESS   1.0   \nSensor         PRESSURE_BES_ave           BES Pressure      PRESSURE   1.0   \nSensor   SENSOR_HOSE_STATUS_ave    Heated Hoses Status    TEMP_EVENT   1.0   \nSkid             Inlet_Temp_ave    Pipe Temp (BE:WISE)          TEMP   1.0   \nSampLog                BOD5_ave              Feed BOD₅           BOD   NaN   \nSampLog                tCOD_ave              Feed tCOD           COD   NaN   \nSampLog                sCOD_ave              Feed sCOD           COD   NaN   \n\n         ribbon  bar  point  colour  fill  shape line_type  bar_order  \\\ndataset                                                                 \nSensor      1.0  NaN    NaN       1   1.0    NaN     solid        NaN   \nSensor      1.0  NaN    NaN       4   4.0    NaN     solid        NaN   \nSensor      1.0  NaN    NaN       7   7.0    NaN     solid        NaN   \nSensor      1.0  NaN    NaN      10  10.0    NaN     solid        NaN   \nSensor      1.0  NaN    NaN       1   1.0    NaN     solid        NaN   \nSensor      1.0  NaN    NaN       4   4.0    NaN     solid        NaN   \nSensor      1.0  NaN    NaN       7   7.0    NaN     solid        NaN   \nSensor      1.0  NaN    NaN      10  10.0    NaN     solid        NaN   \nSensor      1.0  NaN    NaN      14  14.0    NaN     solid        NaN   \nSensor      1.0  NaN    NaN      14  14.0    NaN     solid        NaN   \nSensor      1.0  NaN    NaN       1   1.0    NaN     solid        NaN   \nSensor      1.0  NaN    NaN       4   4.0    NaN     solid        NaN   \nSensor      1.0  NaN    NaN       7   7.0    NaN     solid        NaN   \nSensor      1.0  NaN    NaN      10  10.0    NaN     solid        NaN   \nSensor      1.0  NaN    NaN       1   1.0    NaN     solid        4.0   \nSensor      1.0  NaN    NaN       4   4.0    NaN     solid        3.0   \nSensor      1.0  NaN    NaN       7   7.0    NaN     solid        2.0   \nSensor      1.0  NaN    NaN      10  10.0    NaN     solid        1.0   \nSensor      1.0  NaN    NaN      14  14.0    NaN     solid        NaN   \nSensor      1.0  NaN    NaN      12  12.0    NaN     solid        NaN   \nSensor      1.0  NaN    NaN      14  14.0    NaN     solid        NaN   \nSensor      1.0  NaN    NaN      14  14.0    NaN     solid        NaN   \nSensor      1.0  NaN    NaN      14  14.0    NaN     solid        1.0   \nSkid        1.0  NaN    NaN       2   2.0    NaN  longdash        NaN   \nSampLog     NaN  NaN    1.0       1   NaN   21.0     solid        NaN   \nSampLog     NaN  NaN    1.0       1   NaN   21.0     solid        NaN   \nSampLog     NaN  NaN    1.0       2   NaN   21.0     solid        NaN   \n\n         show_in_legend  selected_chart_0  selected_chart_1  selected_chart_2  \\\ndataset                                                                         \nSensor             True                 0                 0                 0   \nSensor             True                 0                 0                 0   \nSensor             True                 0                 0                 0   \nSensor             True                 0                 0                 0   \nSensor             True                 0                 0                 0   \nSensor             True                 0                 0                 0   \nSensor             True                 0                 0                 0   \nSensor             True                 0                 0                 0   \nSensor             True                 0                 0                 0   \nSensor             True                 0                 0                 0   \nSensor             True                 0                 0                 0   \nSensor             True                 0                 0                 0   \nSensor             True                 0                 0                 0   \nSensor             True                 0                 0                 0   \nSensor             True                 0                 0                 0   \nSensor             True                 0                 0                 0   \nSensor             True                 0                 0                 0   \nSensor             True                 0                 0                 0   \nSensor             True                 0                 0                 0   \nSensor             True                 0                 0                 0   \nSensor             True                 0                 0                 0   \nSensor             True                 0                 0                 0   \nSensor             True                 0                 0                 0   \nSkid               True                 1                 1                 1   \nSampLog            True                 1                 1                 1   \nSampLog            True                 1                 1                 1   \nSampLog            True                 1                 1                 1   \n\n         selected_chart_3  \ndataset                    \nSensor                  1  \nSensor                  1  \nSensor                  1  \nSensor                  1  \nSensor                  1  \nSensor                  1  \nSensor                  1  \nSensor                  1  \nSensor                  1  \nSensor                  1  \nSensor                  1  \nSensor                  1  \nSensor                  1  \nSensor                  1  \nSensor                  0  \nSensor                  0  \nSensor                  0  \nSensor                  0  \nSensor                  1  \nSensor                  1  \nSensor                  1  \nSensor                  1  \nSensor                  0  \nSkid                    1  \nSampLog                 1  \nSampLog                 1  \nSampLog                 1  ",
      "text/html": "<div>\n<style scoped>\n    .dataframe tbody tr th:only-of-type {\n        vertical-align: middle;\n    }\n\n    .dataframe tbody tr th {\n        vertical-align: top;\n    }\n\n    .dataframe thead th {\n        text-align: right;\n    }\n</style>\n<table border=\"1\" class=\"dataframe\">\n  <thead>\n    <tr style=\"text-align: right;\">\n      <th></th>\n      <th>parameter_ave</th>\n      <th>parameter_lab</th>\n      <th>plot</th>\n      <th>line</th>\n      <th>ribbon</th>\n      <th>bar</th>\n      <th>point</th>\n      <th>colour</th>\n      <th>fill</th>\n      <th>shape</th>\n      <th>line_type</th>\n      <th>bar_order</th>\n      <th>show_in_legend</th>\n      <th>selected_chart_0</th>\n      <th>selected_chart_1</th>\n      <th>selected_chart_2</th>\n      <th>selected_chart_3</th>\n    </tr>\n    <tr>\n      <th>dataset</th>\n      <th></th>\n      <th></th>\n      <th></th>\n      <th></th>\n      <th></th>\n      <th></th>\n      <th></th>\n      <th></th>\n      <th></th>\n      <th></th>\n      <th></th>\n      <th></th>\n      <th></th>\n      <th></th>\n      <th></th>\n      <th></th>\n      <th></th>\n    </tr>\n  </thead>\n  <tbody>\n    <tr>\n      <th>Sensor</th>\n      <td>BES_1__V_ave</td>\n      <td>BES 1</td>\n      <td>BES_V</td>\n      <td>1.0</td>\n      <td>1.0</td>\n      <td>NaN</td>\n      <td>NaN</td>\n      <td>1</td>\n      <td>1.0</td>\n      <td>NaN</td>\n      <td>solid</td>\n      <td>NaN</td>\n      <td>True</td>\n      <td>0</td>\n      <td>0</td>\n      <td>0</td>\n      <td>1</td>\n    </tr>\n    <tr>\n      <th>Sensor</th>\n      <td>BES_2__V_ave</td>\n      <td>BES 2</td>\n      <td>BES_V</td>\n      <td>1.0</td>\n      <td>1.0</td>\n      <td>NaN</td>\n      <td>NaN</td>\n      <td>4</td>\n      <td>4.0</td>\n      <td>NaN</td>\n      <td>solid</td>\n      <td>NaN</td>\n      <td>True</td>\n      <td>0</td>\n      <td>0</td>\n      <td>0</td>\n      <td>1</td>\n    </tr>\n    <tr>\n      <th>Sensor</th>\n      <td>BES_3__V_ave</td>\n      <td>BES 3</td>\n      <td>BES_V</td>\n      <td>1.0</td>\n      <td>1.0</td>\n      <td>NaN</td>\n      <td>NaN</td>\n      <td>7</td>\n      <td>7.0</td>\n      <td>NaN</td>\n      <td>solid</td>\n      <td>NaN</td>\n      <td>True</td>\n      <td>0</td>\n      <td>0</td>\n      <td>0</td>\n      <td>1</td>\n    </tr>\n    <tr>\n      <th>Sensor</th>\n      <td>BES_4__V_ave</td>\n      <td>BES 4</td>\n      <td>BES_V</td>\n      <td>1.0</td>\n      <td>1.0</td>\n      <td>NaN</td>\n      <td>NaN</td>\n      <td>10</td>\n      <td>10.0</td>\n      <td>NaN</td>\n      <td>solid</td>\n      <td>NaN</td>\n      <td>True</td>\n      <td>0</td>\n      <td>0</td>\n      <td>0</td>\n      <td>1</td>\n    </tr>\n    <tr>\n      <th>Sensor</th>\n      <td>BES_1__C_ave</td>\n      <td>BES 1</td>\n      <td>BES_C</td>\n      <td>1.0</td>\n      <td>1.0</td>\n      <td>NaN</td>\n      <td>NaN</td>\n      <td>1</td>\n      <td>1.0</td>\n      <td>NaN</td>\n      <td>solid</td>\n      <td>NaN</td>\n      <td>True</td>\n      <td>0</td>\n      <td>0</td>\n      <td>0</td>\n      <td>1</td>\n    </tr>\n    <tr>\n      <th>Sensor</th>\n      <td>BES_2__C_ave</td>\n      <td>BES 2</td>\n      <td>BES_C</td>\n      <td>1.0</td>\n      <td>1.0</td>\n      <td>NaN</td>\n      <td>NaN</td>\n      <td>4</td>\n      <td>4.0</td>\n      <td>NaN</td>\n      <td>solid</td>\n      <td>NaN</td>\n      <td>True</td>\n      <td>0</td>\n      <td>0</td>\n      <td>0</td>\n      <td>1</td>\n    </tr>\n    <tr>\n      <th>Sensor</th>\n      <td>BES_3__C_ave</td>\n      <td>BES 3</td>\n      <td>BES_C</td>\n      <td>1.0</td>\n      <td>1.0</td>\n      <td>NaN</td>\n      <td>NaN</td>\n      <td>7</td>\n      <td>7.0</td>\n      <td>NaN</td>\n      <td>solid</td>\n      <td>NaN</td>\n      <td>True</td>\n      <td>0</td>\n      <td>0</td>\n      <td>0</td>\n      <td>1</td>\n    </tr>\n    <tr>\n      <th>Sensor</th>\n      <td>BES_4__C_ave</td>\n      <td>BES 4</td>\n      <td>BES_C</td>\n      <td>1.0</td>\n      <td>1.0</td>\n      <td>NaN</td>\n      <td>NaN</td>\n      <td>10</td>\n      <td>10.0</td>\n      <td>NaN</td>\n      <td>solid</td>\n      <td>NaN</td>\n      <td>True</td>\n      <td>0</td>\n      <td>0</td>\n      <td>0</td>\n      <td>1</td>\n    </tr>\n    <tr>\n      <th>Sensor</th>\n      <td>BES_SUM__V_ave</td>\n      <td>∑ [BESs]</td>\n      <td>BES_V</td>\n      <td>1.0</td>\n      <td>1.0</td>\n      <td>NaN</td>\n      <td>NaN</td>\n      <td>14</td>\n      <td>14.0</td>\n      <td>NaN</td>\n      <td>solid</td>\n      <td>NaN</td>\n      <td>True</td>\n      <td>0</td>\n      <td>0</td>\n      <td>0</td>\n      <td>1</td>\n    </tr>\n    <tr>\n      <th>Sensor</th>\n      <td>BES_SUM__C_ave</td>\n      <td>∑ [BESs]</td>\n      <td>BES_C</td>\n      <td>1.0</td>\n      <td>1.0</td>\n      <td>NaN</td>\n      <td>NaN</td>\n      <td>14</td>\n      <td>14.0</td>\n      <td>NaN</td>\n      <td>solid</td>\n      <td>NaN</td>\n      <td>True</td>\n      <td>0</td>\n      <td>0</td>\n      <td>0</td>\n      <td>1</td>\n    </tr>\n    <tr>\n      <th>Sensor</th>\n      <td>REXT_1_ave</td>\n      <td>BES 1 R&lt;sub&gt;Ext&lt;/sub&gt;</td>\n      <td>REXT</td>\n      <td>1.0</td>\n      <td>1.0</td>\n      <td>NaN</td>\n      <td>NaN</td>\n      <td>1</td>\n      <td>1.0</td>\n      <td>NaN</td>\n      <td>solid</td>\n      <td>NaN</td>\n      <td>True</td>\n      <td>0</td>\n      <td>0</td>\n      <td>0</td>\n      <td>1</td>\n    </tr>\n    <tr>\n      <th>Sensor</th>\n      <td>REXT_2_ave</td>\n      <td>BES 2 R&lt;sub&gt;Ext&lt;/sub&gt;</td>\n      <td>REXT</td>\n      <td>1.0</td>\n      <td>1.0</td>\n      <td>NaN</td>\n      <td>NaN</td>\n      <td>4</td>\n      <td>4.0</td>\n      <td>NaN</td>\n      <td>solid</td>\n      <td>NaN</td>\n      <td>True</td>\n      <td>0</td>\n      <td>0</td>\n      <td>0</td>\n      <td>1</td>\n    </tr>\n    <tr>\n      <th>Sensor</th>\n      <td>REXT_3_ave</td>\n      <td>BES 3 R&lt;sub&gt;Ext&lt;/sub&gt;</td>\n      <td>REXT</td>\n      <td>1.0</td>\n      <td>1.0</td>\n      <td>NaN</td>\n      <td>NaN</td>\n      <td>7</td>\n      <td>7.0</td>\n      <td>NaN</td>\n      <td>solid</td>\n      <td>NaN</td>\n      <td>True</td>\n      <td>0</td>\n      <td>0</td>\n      <td>0</td>\n      <td>1</td>\n    </tr>\n    <tr>\n      <th>Sensor</th>\n      <td>REXT_4_ave</td>\n      <td>BES 4 R&lt;sub&gt;Ext&lt;/sub&gt;</td>\n      <td>REXT</td>\n      <td>1.0</td>\n      <td>1.0</td>\n      <td>NaN</td>\n      <td>NaN</td>\n      <td>10</td>\n      <td>10.0</td>\n      <td>NaN</td>\n      <td>solid</td>\n      <td>NaN</td>\n      <td>True</td>\n      <td>0</td>\n      <td>0</td>\n      <td>0</td>\n      <td>1</td>\n    </tr>\n    <tr>\n      <th>Sensor</th>\n      <td>OCP_1_ave</td>\n      <td>BES 1</td>\n      <td>OCP</td>\n      <td>1.0</td>\n      <td>1.0</td>\n      <td>NaN</td>\n      <td>NaN</td>\n      <td>1</td>\n      <td>1.0</td>\n      <td>NaN</td>\n      <td>solid</td>\n      <td>4.0</td>\n      <td>True</td>\n      <td>0</td>\n      <td>0</td>\n      <td>0</td>\n      <td>0</td>\n    </tr>\n    <tr>\n      <th>Sensor</th>\n      <td>OCP_2_ave</td>\n      <td>BES 2</td>\n      <td>OCP</td>\n      <td>1.0</td>\n      <td>1.0</td>\n      <td>NaN</td>\n      <td>NaN</td>\n      <td>4</td>\n      <td>4.0</td>\n      <td>NaN</td>\n      <td>solid</td>\n      <td>3.0</td>\n      <td>True</td>\n      <td>0</td>\n      <td>0</td>\n      <td>0</td>\n      <td>0</td>\n    </tr>\n    <tr>\n      <th>Sensor</th>\n      <td>OCP_3_ave</td>\n      <td>BES 3</td>\n      <td>OCP</td>\n      <td>1.0</td>\n      <td>1.0</td>\n      <td>NaN</td>\n      <td>NaN</td>\n      <td>7</td>\n      <td>7.0</td>\n      <td>NaN</td>\n      <td>solid</td>\n      <td>2.0</td>\n      <td>True</td>\n      <td>0</td>\n      <td>0</td>\n      <td>0</td>\n      <td>0</td>\n    </tr>\n    <tr>\n      <th>Sensor</th>\n      <td>OCP_4_ave</td>\n      <td>BES 4</td>\n      <td>OCP</td>\n      <td>1.0</td>\n      <td>1.0</td>\n      <td>NaN</td>\n      <td>NaN</td>\n      <td>10</td>\n      <td>10.0</td>\n      <td>NaN</td>\n      <td>solid</td>\n      <td>1.0</td>\n      <td>True</td>\n      <td>0</td>\n      <td>0</td>\n      <td>0</td>\n      <td>0</td>\n    </tr>\n    <tr>\n      <th>Sensor</th>\n      <td>TEMP_BES_ave</td>\n      <td>Heated Water Temp</td>\n      <td>TEMP</td>\n      <td>1.0</td>\n      <td>1.0</td>\n      <td>NaN</td>\n      <td>NaN</td>\n      <td>14</td>\n      <td>14.0</td>\n      <td>NaN</td>\n      <td>solid</td>\n      <td>NaN</td>\n      <td>True</td>\n      <td>0</td>\n      <td>0</td>\n      <td>0</td>\n      <td>1</td>\n    </tr>\n    <tr>\n      <th>Sensor</th>\n      <td>TEMP_MAT_ave</td>\n      <td>Heated Mats Temp</td>\n      <td>TEMP_PROCESS</td>\n      <td>1.0</td>\n      <td>1.0</td>\n      <td>NaN</td>\n      <td>NaN</td>\n      <td>12</td>\n      <td>12.0</td>\n      <td>NaN</td>\n      <td>solid</td>\n      <td>NaN</td>\n      <td>True</td>\n      <td>0</td>\n      <td>0</td>\n      <td>0</td>\n      <td>1</td>\n    </tr>\n    <tr>\n      <th>Sensor</th>\n      <td>TEMP_HOSE_ave</td>\n      <td>Heated Hoses Temp</td>\n      <td>TEMP_PROCESS</td>\n      <td>1.0</td>\n      <td>1.0</td>\n      <td>NaN</td>\n      <td>NaN</td>\n      <td>14</td>\n      <td>14.0</td>\n      <td>NaN</td>\n      <td>solid</td>\n      <td>NaN</td>\n      <td>True</td>\n      <td>0</td>\n      <td>0</td>\n      <td>0</td>\n      <td>1</td>\n    </tr>\n    <tr>\n      <th>Sensor</th>\n      <td>PRESSURE_BES_ave</td>\n      <td>BES Pressure</td>\n      <td>PRESSURE</td>\n      <td>1.0</td>\n      <td>1.0</td>\n      <td>NaN</td>\n      <td>NaN</td>\n      <td>14</td>\n      <td>14.0</td>\n      <td>NaN</td>\n      <td>solid</td>\n      <td>NaN</td>\n      <td>True</td>\n      <td>0</td>\n      <td>0</td>\n      <td>0</td>\n      <td>1</td>\n    </tr>\n    <tr>\n      <th>Sensor</th>\n      <td>SENSOR_HOSE_STATUS_ave</td>\n      <td>Heated Hoses Status</td>\n      <td>TEMP_EVENT</td>\n      <td>1.0</td>\n      <td>1.0</td>\n      <td>NaN</td>\n      <td>NaN</td>\n      <td>14</td>\n      <td>14.0</td>\n      <td>NaN</td>\n      <td>solid</td>\n      <td>1.0</td>\n      <td>True</td>\n      <td>0</td>\n      <td>0</td>\n      <td>0</td>\n      <td>0</td>\n    </tr>\n    <tr>\n      <th>Skid</th>\n      <td>Inlet_Temp_ave</td>\n      <td>Pipe Temp (BE:WISE)</td>\n      <td>TEMP</td>\n      <td>1.0</td>\n      <td>1.0</td>\n      <td>NaN</td>\n      <td>NaN</td>\n      <td>2</td>\n      <td>2.0</td>\n      <td>NaN</td>\n      <td>longdash</td>\n      <td>NaN</td>\n      <td>True</td>\n      <td>1</td>\n      <td>1</td>\n      <td>1</td>\n      <td>1</td>\n    </tr>\n    <tr>\n      <th>SampLog</th>\n      <td>BOD5_ave</td>\n      <td>Feed BOD₅</td>\n      <td>BOD</td>\n      <td>NaN</td>\n      <td>NaN</td>\n      <td>NaN</td>\n      <td>1.0</td>\n      <td>1</td>\n      <td>NaN</td>\n      <td>21.0</td>\n      <td>solid</td>\n      <td>NaN</td>\n      <td>True</td>\n      <td>1</td>\n      <td>1</td>\n      <td>1</td>\n      <td>1</td>\n    </tr>\n    <tr>\n      <th>SampLog</th>\n      <td>tCOD_ave</td>\n      <td>Feed tCOD</td>\n      <td>COD</td>\n      <td>NaN</td>\n      <td>NaN</td>\n      <td>NaN</td>\n      <td>1.0</td>\n      <td>1</td>\n      <td>NaN</td>\n      <td>21.0</td>\n      <td>solid</td>\n      <td>NaN</td>\n      <td>True</td>\n      <td>1</td>\n      <td>1</td>\n      <td>1</td>\n      <td>1</td>\n    </tr>\n    <tr>\n      <th>SampLog</th>\n      <td>sCOD_ave</td>\n      <td>Feed sCOD</td>\n      <td>COD</td>\n      <td>NaN</td>\n      <td>NaN</td>\n      <td>NaN</td>\n      <td>1.0</td>\n      <td>2</td>\n      <td>NaN</td>\n      <td>21.0</td>\n      <td>solid</td>\n      <td>NaN</td>\n      <td>True</td>\n      <td>1</td>\n      <td>1</td>\n      <td>1</td>\n      <td>1</td>\n    </tr>\n  </tbody>\n</table>\n</div>"
     },
     "metadata": {},
     "execution_count": 76
    }
   ],
   "source": [
    "info['parameters_ave']"
   ]
  },
  {
   "cell_type": "markdown",
   "execution_count": null,
   "metadata": {},
   "outputs": [],
   "source": [
    "### Plots:"
   ]
  },
  {
   "cell_type": "code",
   "execution_count": 77,
   "metadata": {},
   "outputs": [
    {
     "output_type": "execute_result",
     "data": {
      "text/plain": "       row  col    plot          plot_lab                                ylab  \\\nchart                                                                           \n0        1    1  BES_CA               BES         Current Density<br>(μA/cm²)   \n0        2    1  BES_CB               BES         Current Density<br>(μA/cm²)   \n0        3    1  BES_CC               BES         Current Density<br>(μA/cm²)   \n0        4    1     COD               COD                    COD<br>(mg/l O₂)   \n0        5    1     BOD               BOD                   BOD₅<br>(mg/l O₂)   \n...    ...  ...     ...               ...                                 ...   \n3       11    1    REXT              REXT              R<sub>Ext</sub><br>(Ω)   \n3       12    1     OCP               OCP                                 OCP   \n3       13    1      DO  Dissolved Oxygen          Dissolved<br>Oxygen (mg/l)   \n3       14    1   LEVEL            Levels  River Level (m)<br>& Rainfall (mm)   \n3       15    1   EVENT        TEMP_EVENT                  Heating<br>Control   \n\n       ymin   ymax   height    log  Unnamed: 10  Unnamed: 11  Unnamed: 12  \\\nchart                                                                       \n0         0     40       10  False          NaN          NaN          NaN   \n0         0     40       10  False          NaN          NaN          NaN   \n0         0     40       10  False          NaN          NaN          NaN   \n0         0    600       10  False          NaN          NaN          NaN   \n0         0    300       10  False          NaN          NaN          NaN   \n...     ...    ...      ...    ...          ...          ...          ...   \n3         1  51101        8   True          NaN          NaN          NaN   \n3         0      1        6  False          NaN          NaN          NaN   \n3         0      8       10  False          NaN          NaN          NaN   \n3         0      3       10  False          NaN          NaN          NaN   \n3         0      1        3  False          NaN          NaN          NaN   \n\n       Unnamed: 13  Unnamed: 14  Unnamed: 15 Unnamed: 16  \nchart                                                     \n0              NaN          NaN          NaN         NaN  \n0              NaN          NaN          NaN         NaN  \n0              NaN          NaN          NaN         NaN  \n0              NaN          NaN          NaN         NaN  \n0              NaN          NaN          NaN         NaN  \n...            ...          ...          ...         ...  \n3              NaN          NaN          NaN         NaN  \n3              NaN          NaN          NaN         NaN  \n3              NaN          NaN          NaN         NaN  \n3              NaN          NaN          NaN         NaN  \n3              NaN          NaN          NaN         NaN  \n\n[66 rows x 16 columns]",
      "text/html": "<div>\n<style scoped>\n    .dataframe tbody tr th:only-of-type {\n        vertical-align: middle;\n    }\n\n    .dataframe tbody tr th {\n        vertical-align: top;\n    }\n\n    .dataframe thead th {\n        text-align: right;\n    }\n</style>\n<table border=\"1\" class=\"dataframe\">\n  <thead>\n    <tr style=\"text-align: right;\">\n      <th></th>\n      <th>row</th>\n      <th>col</th>\n      <th>plot</th>\n      <th>plot_lab</th>\n      <th>ylab</th>\n      <th>ymin</th>\n      <th>ymax</th>\n      <th>height</th>\n      <th>log</th>\n      <th>Unnamed: 10</th>\n      <th>Unnamed: 11</th>\n      <th>Unnamed: 12</th>\n      <th>Unnamed: 13</th>\n      <th>Unnamed: 14</th>\n      <th>Unnamed: 15</th>\n      <th>Unnamed: 16</th>\n    </tr>\n    <tr>\n      <th>chart</th>\n      <th></th>\n      <th></th>\n      <th></th>\n      <th></th>\n      <th></th>\n      <th></th>\n      <th></th>\n      <th></th>\n      <th></th>\n      <th></th>\n      <th></th>\n      <th></th>\n      <th></th>\n      <th></th>\n      <th></th>\n      <th></th>\n    </tr>\n  </thead>\n  <tbody>\n    <tr>\n      <th>0</th>\n      <td>1</td>\n      <td>1</td>\n      <td>BES_CA</td>\n      <td>BES</td>\n      <td>Current Density&lt;br&gt;(μA/cm²)</td>\n      <td>0</td>\n      <td>40</td>\n      <td>10</td>\n      <td>False</td>\n      <td>NaN</td>\n      <td>NaN</td>\n      <td>NaN</td>\n      <td>NaN</td>\n      <td>NaN</td>\n      <td>NaN</td>\n      <td>NaN</td>\n    </tr>\n    <tr>\n      <th>0</th>\n      <td>2</td>\n      <td>1</td>\n      <td>BES_CB</td>\n      <td>BES</td>\n      <td>Current Density&lt;br&gt;(μA/cm²)</td>\n      <td>0</td>\n      <td>40</td>\n      <td>10</td>\n      <td>False</td>\n      <td>NaN</td>\n      <td>NaN</td>\n      <td>NaN</td>\n      <td>NaN</td>\n      <td>NaN</td>\n      <td>NaN</td>\n      <td>NaN</td>\n    </tr>\n    <tr>\n      <th>0</th>\n      <td>3</td>\n      <td>1</td>\n      <td>BES_CC</td>\n      <td>BES</td>\n      <td>Current Density&lt;br&gt;(μA/cm²)</td>\n      <td>0</td>\n      <td>40</td>\n      <td>10</td>\n      <td>False</td>\n      <td>NaN</td>\n      <td>NaN</td>\n      <td>NaN</td>\n      <td>NaN</td>\n      <td>NaN</td>\n      <td>NaN</td>\n      <td>NaN</td>\n    </tr>\n    <tr>\n      <th>0</th>\n      <td>4</td>\n      <td>1</td>\n      <td>COD</td>\n      <td>COD</td>\n      <td>COD&lt;br&gt;(mg/l O₂)</td>\n      <td>0</td>\n      <td>600</td>\n      <td>10</td>\n      <td>False</td>\n      <td>NaN</td>\n      <td>NaN</td>\n      <td>NaN</td>\n      <td>NaN</td>\n      <td>NaN</td>\n      <td>NaN</td>\n      <td>NaN</td>\n    </tr>\n    <tr>\n      <th>0</th>\n      <td>5</td>\n      <td>1</td>\n      <td>BOD</td>\n      <td>BOD</td>\n      <td>BOD₅&lt;br&gt;(mg/l O₂)</td>\n      <td>0</td>\n      <td>300</td>\n      <td>10</td>\n      <td>False</td>\n      <td>NaN</td>\n      <td>NaN</td>\n      <td>NaN</td>\n      <td>NaN</td>\n      <td>NaN</td>\n      <td>NaN</td>\n      <td>NaN</td>\n    </tr>\n    <tr>\n      <th>...</th>\n      <td>...</td>\n      <td>...</td>\n      <td>...</td>\n      <td>...</td>\n      <td>...</td>\n      <td>...</td>\n      <td>...</td>\n      <td>...</td>\n      <td>...</td>\n      <td>...</td>\n      <td>...</td>\n      <td>...</td>\n      <td>...</td>\n      <td>...</td>\n      <td>...</td>\n      <td>...</td>\n    </tr>\n    <tr>\n      <th>3</th>\n      <td>11</td>\n      <td>1</td>\n      <td>REXT</td>\n      <td>REXT</td>\n      <td>R&lt;sub&gt;Ext&lt;/sub&gt;&lt;br&gt;(Ω)</td>\n      <td>1</td>\n      <td>51101</td>\n      <td>8</td>\n      <td>True</td>\n      <td>NaN</td>\n      <td>NaN</td>\n      <td>NaN</td>\n      <td>NaN</td>\n      <td>NaN</td>\n      <td>NaN</td>\n      <td>NaN</td>\n    </tr>\n    <tr>\n      <th>3</th>\n      <td>12</td>\n      <td>1</td>\n      <td>OCP</td>\n      <td>OCP</td>\n      <td>OCP</td>\n      <td>0</td>\n      <td>1</td>\n      <td>6</td>\n      <td>False</td>\n      <td>NaN</td>\n      <td>NaN</td>\n      <td>NaN</td>\n      <td>NaN</td>\n      <td>NaN</td>\n      <td>NaN</td>\n      <td>NaN</td>\n    </tr>\n    <tr>\n      <th>3</th>\n      <td>13</td>\n      <td>1</td>\n      <td>DO</td>\n      <td>Dissolved Oxygen</td>\n      <td>Dissolved&lt;br&gt;Oxygen (mg/l)</td>\n      <td>0</td>\n      <td>8</td>\n      <td>10</td>\n      <td>False</td>\n      <td>NaN</td>\n      <td>NaN</td>\n      <td>NaN</td>\n      <td>NaN</td>\n      <td>NaN</td>\n      <td>NaN</td>\n      <td>NaN</td>\n    </tr>\n    <tr>\n      <th>3</th>\n      <td>14</td>\n      <td>1</td>\n      <td>LEVEL</td>\n      <td>Levels</td>\n      <td>River Level (m)&lt;br&gt;&amp; Rainfall (mm)</td>\n      <td>0</td>\n      <td>3</td>\n      <td>10</td>\n      <td>False</td>\n      <td>NaN</td>\n      <td>NaN</td>\n      <td>NaN</td>\n      <td>NaN</td>\n      <td>NaN</td>\n      <td>NaN</td>\n      <td>NaN</td>\n    </tr>\n    <tr>\n      <th>3</th>\n      <td>15</td>\n      <td>1</td>\n      <td>EVENT</td>\n      <td>TEMP_EVENT</td>\n      <td>Heating&lt;br&gt;Control</td>\n      <td>0</td>\n      <td>1</td>\n      <td>3</td>\n      <td>False</td>\n      <td>NaN</td>\n      <td>NaN</td>\n      <td>NaN</td>\n      <td>NaN</td>\n      <td>NaN</td>\n      <td>NaN</td>\n      <td>NaN</td>\n    </tr>\n  </tbody>\n</table>\n<p>66 rows × 16 columns</p>\n</div>"
     },
     "metadata": {},
     "execution_count": 77
    }
   ],
   "source": [
    "info['plots']"
   ]
  },
  {
   "cell_type": "markdown",
   "execution_count": null,
   "metadata": {},
   "outputs": [],
   "source": [
    "### Colours:"
   ]
  },
  {
   "cell_type": "code",
   "execution_count": 78,
   "metadata": {},
   "outputs": [
    {
     "output_type": "display_data",
     "data": {
      "text/plain": "<Figure size 720x72 with 1 Axes>",
      "image/svg+xml": "<?xml version=\"1.0\" encoding=\"utf-8\" standalone=\"no\"?>\r\n<!DOCTYPE svg PUBLIC \"-//W3C//DTD SVG 1.1//EN\"\r\n  \"http://www.w3.org/Graphics/SVG/1.1/DTD/svg11.dtd\">\r\n<!-- Created with matplotlib (https://matplotlib.org/) -->\r\n<svg height=\"72.26pt\" version=\"1.1\" viewBox=\"0 0 575.9 72.26\" width=\"575.9pt\" xmlns=\"http://www.w3.org/2000/svg\" xmlns:xlink=\"http://www.w3.org/1999/xlink\">\r\n <defs>\r\n  <style type=\"text/css\">\r\n*{stroke-linecap:butt;stroke-linejoin:round;}\r\n  </style>\r\n </defs>\r\n <g id=\"figure_1\">\r\n  <g id=\"patch_1\">\r\n   <path d=\"M 0 72.26 \r\nL 575.9 72.26 \r\nL 575.9 0 \r\nL 0 0 \r\nz\r\n\" style=\"fill:none;\"/>\r\n  </g>\r\n  <g id=\"axes_1\">\r\n   <g id=\"patch_2\">\r\n    <path d=\"M 10.7 61.56 \r\nL 568.7 61.56 \r\nL 568.7 7.2 \r\nL 10.7 7.2 \r\nz\r\n\" style=\"fill:#ffffff;\"/>\r\n   </g>\r\n   <g clip-path=\"url(#p6d4c7cd160)\">\r\n    <image height=\"55\" id=\"image7099ee1476\" transform=\"scale(1 -1)translate(0 -55)\" width=\"558\" x=\"10.7\" xlink:href=\"data:image/png;base64,\r\niVBORw0KGgoAAAANSUhEUgAAAi4AAAA3CAYAAAArDMGlAAAABHNCSVQICAgIfAhkiAAAAWRJREFUeJzt1rEtBWAYQFEkEjQatZJQq98K2jfGawxhDpURJNZQK4RGJQZgBc2fL1fOmeCWd//l4vJn7x+73n5MJyz1vDmbTlhm93YynbDU5/nDdMJSR0/v0wlL3X0dTycsdXt6OJ2wzOPr/XTCUt9XN9MJSx1MBwAA/JVxAQAyjAsAkGFcAIAM4wIAZBgXACDDuAAAGcYFAMgwLgBAhnEBADKMCwCQYVwAgAzjAgBkGBcAIMO4AAAZxgUAyDAuAECGcQEAMowLAJBhXACADOMCAGQYFwAgw7gAABnGBQDIMC4AQIZxAQAyjAsAkGFcAIAM4wIAZBgXACDDuAAAGcYFAMgwLgBAhnEBADKMCwCQYVwAgAzjAgBkGBcAIMO4AAAZxgUAyDAuAECGcQEAMowLAJBhXACADOMCAGQYFwAgw7gAABnGBQDIMC4AQIZxAQAyjAsAkGFcAIAM4wIAZBgXACDjF20IDufCfwCiAAAAAElFTkSuQmCC\" y=\"-6.56\"/>\r\n   </g>\r\n   <g id=\"matplotlib.axis_1\">\r\n    <g id=\"xtick_1\">\r\n     <g id=\"line2d_1\">\r\n      <defs>\r\n       <path d=\"M 0 0 \r\nL 0 3.5 \r\n\" id=\"m88672b4428\" style=\"stroke:#000000;stroke-width:0.8;\"/>\r\n      </defs>\r\n      <g>\r\n       <use style=\"stroke:#000000;stroke-width:0.8;\" x=\"10.7\" xlink:href=\"#m88672b4428\" y=\"61.56\"/>\r\n      </g>\r\n     </g>\r\n    </g>\r\n    <g id=\"xtick_2\">\r\n     <g id=\"line2d_2\">\r\n      <g>\r\n       <use style=\"stroke:#000000;stroke-width:0.8;\" x=\"66.5\" xlink:href=\"#m88672b4428\" y=\"61.56\"/>\r\n      </g>\r\n     </g>\r\n    </g>\r\n    <g id=\"xtick_3\">\r\n     <g id=\"line2d_3\">\r\n      <g>\r\n       <use style=\"stroke:#000000;stroke-width:0.8;\" x=\"122.3\" xlink:href=\"#m88672b4428\" y=\"61.56\"/>\r\n      </g>\r\n     </g>\r\n    </g>\r\n    <g id=\"xtick_4\">\r\n     <g id=\"line2d_4\">\r\n      <g>\r\n       <use style=\"stroke:#000000;stroke-width:0.8;\" x=\"178.1\" xlink:href=\"#m88672b4428\" y=\"61.56\"/>\r\n      </g>\r\n     </g>\r\n    </g>\r\n    <g id=\"xtick_5\">\r\n     <g id=\"line2d_5\">\r\n      <g>\r\n       <use style=\"stroke:#000000;stroke-width:0.8;\" x=\"233.9\" xlink:href=\"#m88672b4428\" y=\"61.56\"/>\r\n      </g>\r\n     </g>\r\n    </g>\r\n    <g id=\"xtick_6\">\r\n     <g id=\"line2d_6\">\r\n      <g>\r\n       <use style=\"stroke:#000000;stroke-width:0.8;\" x=\"289.7\" xlink:href=\"#m88672b4428\" y=\"61.56\"/>\r\n      </g>\r\n     </g>\r\n    </g>\r\n    <g id=\"xtick_7\">\r\n     <g id=\"line2d_7\">\r\n      <g>\r\n       <use style=\"stroke:#000000;stroke-width:0.8;\" x=\"345.5\" xlink:href=\"#m88672b4428\" y=\"61.56\"/>\r\n      </g>\r\n     </g>\r\n    </g>\r\n    <g id=\"xtick_8\">\r\n     <g id=\"line2d_8\">\r\n      <g>\r\n       <use style=\"stroke:#000000;stroke-width:0.8;\" x=\"401.3\" xlink:href=\"#m88672b4428\" y=\"61.56\"/>\r\n      </g>\r\n     </g>\r\n    </g>\r\n    <g id=\"xtick_9\">\r\n     <g id=\"line2d_9\">\r\n      <g>\r\n       <use style=\"stroke:#000000;stroke-width:0.8;\" x=\"457.1\" xlink:href=\"#m88672b4428\" y=\"61.56\"/>\r\n      </g>\r\n     </g>\r\n    </g>\r\n    <g id=\"xtick_10\">\r\n     <g id=\"line2d_10\">\r\n      <g>\r\n       <use style=\"stroke:#000000;stroke-width:0.8;\" x=\"512.9\" xlink:href=\"#m88672b4428\" y=\"61.56\"/>\r\n      </g>\r\n     </g>\r\n    </g>\r\n   </g>\r\n   <g id=\"matplotlib.axis_2\">\r\n    <g id=\"ytick_1\">\r\n     <g id=\"line2d_11\">\r\n      <defs>\r\n       <path d=\"M 0 0 \r\nL -3.5 0 \r\n\" id=\"m5f95f5e322\" style=\"stroke:#000000;stroke-width:0.8;\"/>\r\n      </defs>\r\n      <g>\r\n       <use style=\"stroke:#000000;stroke-width:0.8;\" x=\"10.7\" xlink:href=\"#m5f95f5e322\" y=\"7.2\"/>\r\n      </g>\r\n     </g>\r\n    </g>\r\n    <g id=\"ytick_2\">\r\n     <g id=\"line2d_12\">\r\n      <g>\r\n       <use style=\"stroke:#000000;stroke-width:0.8;\" x=\"10.7\" xlink:href=\"#m5f95f5e322\" y=\"61.56\"/>\r\n      </g>\r\n     </g>\r\n    </g>\r\n   </g>\r\n   <g id=\"patch_3\">\r\n    <path d=\"M 10.7 61.56 \r\nL 10.7 7.2 \r\n\" style=\"fill:none;stroke:#000000;stroke-linecap:square;stroke-linejoin:miter;stroke-width:0.8;\"/>\r\n   </g>\r\n   <g id=\"patch_4\">\r\n    <path d=\"M 568.7 61.56 \r\nL 568.7 7.2 \r\n\" style=\"fill:none;stroke:#000000;stroke-linecap:square;stroke-linejoin:miter;stroke-width:0.8;\"/>\r\n   </g>\r\n   <g id=\"patch_5\">\r\n    <path d=\"M 10.7 61.56 \r\nL 568.7 61.56 \r\n\" style=\"fill:none;stroke:#000000;stroke-linecap:square;stroke-linejoin:miter;stroke-width:0.8;\"/>\r\n   </g>\r\n   <g id=\"patch_6\">\r\n    <path d=\"M 10.7 7.2 \r\nL 568.7 7.2 \r\n\" style=\"fill:none;stroke:#000000;stroke-linecap:square;stroke-linejoin:miter;stroke-width:0.8;\"/>\r\n   </g>\r\n  </g>\r\n </g>\r\n <defs>\r\n  <clipPath id=\"p6d4c7cd160\">\r\n   <rect height=\"54.36\" width=\"558\" x=\"10.7\" y=\"7.2\"/>\r\n  </clipPath>\r\n </defs>\r\n</svg>\r\n",
      "image/png": "[encoded data removed]"
     },
     "metadata": {
      "needs_background": "light"
     }
    },
    {
     "output_type": "display_data",
     "data": {
      "text/plain": "<Figure size 720x72 with 1 Axes>",
      "image/svg+xml": "<?xml version=\"1.0\" encoding=\"utf-8\" standalone=\"no\"?>\r\n<!DOCTYPE svg PUBLIC \"-//W3C//DTD SVG 1.1//EN\"\r\n  \"http://www.w3.org/Graphics/SVG/1.1/DTD/svg11.dtd\">\r\n<!-- Created with matplotlib (https://matplotlib.org/) -->\r\n<svg height=\"72.26pt\" version=\"1.1\" viewBox=\"0 0 575.9 72.26\" width=\"575.9pt\" xmlns=\"http://www.w3.org/2000/svg\" xmlns:xlink=\"http://www.w3.org/1999/xlink\">\r\n <defs>\r\n  <style type=\"text/css\">\r\n*{stroke-linecap:butt;stroke-linejoin:round;}\r\n  </style>\r\n </defs>\r\n <g id=\"figure_1\">\r\n  <g id=\"patch_1\">\r\n   <path d=\"M 0 72.26 \r\nL 575.9 72.26 \r\nL 575.9 0 \r\nL 0 0 \r\nz\r\n\" style=\"fill:none;\"/>\r\n  </g>\r\n  <g id=\"axes_1\">\r\n   <g id=\"patch_2\">\r\n    <path d=\"M 10.7 61.56 \r\nL 568.7 61.56 \r\nL 568.7 7.2 \r\nL 10.7 7.2 \r\nz\r\n\" style=\"fill:#ffffff;\"/>\r\n   </g>\r\n   <g clip-path=\"url(#p6f57c6ea40)\">\r\n    <image height=\"55\" id=\"image9e5599b966\" transform=\"scale(1 -1)translate(0 -55)\" width=\"558\" x=\"10.7\" xlink:href=\"data:image/png;base64,\r\niVBORw0KGgoAAAANSUhEUgAAAi4AAAA3CAYAAAArDMGlAAAABHNCSVQICAgIfAhkiAAAAV9JREFUeJzt1qFNA2AYRVGggMYQbINEwjidqwnTIPBMgKshiE5ASFkB8+fLbc6Z4JmX3MvT6/50cc4eD9MLlvrc3k9PWObt+nd6wlI3P7vpCUvdHTfTE5Z6+D5OT1jq+fZ8//fx9T49YanN08v0hKWupgcAAPyXcAEAMoQLAJAhXACADOECAGQIFwAgQ7gAABnCBQDIEC4AQIZwAQAyhAsAkCFcAIAM4QIAZAgXACBDuAAAGcIFAMgQLgBAhnABADKECwCQIVwAgAzhAgBkCBcAIEO4AAAZwgUAyBAuAECGcAEAMoQLAJAhXACADOECAGQIFwAgQ7gAABnCBQDIEC4AQIZwAQAyhAsAkCFcAIAM4QIAZAgXACBDuAAAGcIFAMgQLgBAhnABADKECwCQIVwAgAzhAgBkCBcAIEO4AAAZwgUAyBAuAECGcAEAMoQLAJAhXACADOECAGQIFwAg4w+Ojw+/oOP44gAAAABJRU5ErkJggg==\" y=\"-6.56\"/>\r\n   </g>\r\n   <g id=\"matplotlib.axis_1\">\r\n    <g id=\"xtick_1\">\r\n     <g id=\"line2d_1\">\r\n      <defs>\r\n       <path d=\"M 0 0 \r\nL 0 3.5 \r\n\" id=\"m2e6f246587\" style=\"stroke:#000000;stroke-width:0.8;\"/>\r\n      </defs>\r\n      <g>\r\n       <use style=\"stroke:#000000;stroke-width:0.8;\" x=\"10.7\" xlink:href=\"#m2e6f246587\" y=\"61.56\"/>\r\n      </g>\r\n     </g>\r\n    </g>\r\n    <g id=\"xtick_2\">\r\n     <g id=\"line2d_2\">\r\n      <g>\r\n       <use style=\"stroke:#000000;stroke-width:0.8;\" x=\"66.5\" xlink:href=\"#m2e6f246587\" y=\"61.56\"/>\r\n      </g>\r\n     </g>\r\n    </g>\r\n    <g id=\"xtick_3\">\r\n     <g id=\"line2d_3\">\r\n      <g>\r\n       <use style=\"stroke:#000000;stroke-width:0.8;\" x=\"122.3\" xlink:href=\"#m2e6f246587\" y=\"61.56\"/>\r\n      </g>\r\n     </g>\r\n    </g>\r\n    <g id=\"xtick_4\">\r\n     <g id=\"line2d_4\">\r\n      <g>\r\n       <use style=\"stroke:#000000;stroke-width:0.8;\" x=\"178.1\" xlink:href=\"#m2e6f246587\" y=\"61.56\"/>\r\n      </g>\r\n     </g>\r\n    </g>\r\n    <g id=\"xtick_5\">\r\n     <g id=\"line2d_5\">\r\n      <g>\r\n       <use style=\"stroke:#000000;stroke-width:0.8;\" x=\"233.9\" xlink:href=\"#m2e6f246587\" y=\"61.56\"/>\r\n      </g>\r\n     </g>\r\n    </g>\r\n    <g id=\"xtick_6\">\r\n     <g id=\"line2d_6\">\r\n      <g>\r\n       <use style=\"stroke:#000000;stroke-width:0.8;\" x=\"289.7\" xlink:href=\"#m2e6f246587\" y=\"61.56\"/>\r\n      </g>\r\n     </g>\r\n    </g>\r\n    <g id=\"xtick_7\">\r\n     <g id=\"line2d_7\">\r\n      <g>\r\n       <use style=\"stroke:#000000;stroke-width:0.8;\" x=\"345.5\" xlink:href=\"#m2e6f246587\" y=\"61.56\"/>\r\n      </g>\r\n     </g>\r\n    </g>\r\n    <g id=\"xtick_8\">\r\n     <g id=\"line2d_8\">\r\n      <g>\r\n       <use style=\"stroke:#000000;stroke-width:0.8;\" x=\"401.3\" xlink:href=\"#m2e6f246587\" y=\"61.56\"/>\r\n      </g>\r\n     </g>\r\n    </g>\r\n    <g id=\"xtick_9\">\r\n     <g id=\"line2d_9\">\r\n      <g>\r\n       <use style=\"stroke:#000000;stroke-width:0.8;\" x=\"457.1\" xlink:href=\"#m2e6f246587\" y=\"61.56\"/>\r\n      </g>\r\n     </g>\r\n    </g>\r\n    <g id=\"xtick_10\">\r\n     <g id=\"line2d_10\">\r\n      <g>\r\n       <use style=\"stroke:#000000;stroke-width:0.8;\" x=\"512.9\" xlink:href=\"#m2e6f246587\" y=\"61.56\"/>\r\n      </g>\r\n     </g>\r\n    </g>\r\n   </g>\r\n   <g id=\"matplotlib.axis_2\">\r\n    <g id=\"ytick_1\">\r\n     <g id=\"line2d_11\">\r\n      <defs>\r\n       <path d=\"M 0 0 \r\nL -3.5 0 \r\n\" id=\"maf2fcd0ed8\" style=\"stroke:#000000;stroke-width:0.8;\"/>\r\n      </defs>\r\n      <g>\r\n       <use style=\"stroke:#000000;stroke-width:0.8;\" x=\"10.7\" xlink:href=\"#maf2fcd0ed8\" y=\"7.2\"/>\r\n      </g>\r\n     </g>\r\n    </g>\r\n    <g id=\"ytick_2\">\r\n     <g id=\"line2d_12\">\r\n      <g>\r\n       <use style=\"stroke:#000000;stroke-width:0.8;\" x=\"10.7\" xlink:href=\"#maf2fcd0ed8\" y=\"61.56\"/>\r\n      </g>\r\n     </g>\r\n    </g>\r\n   </g>\r\n   <g id=\"patch_3\">\r\n    <path d=\"M 10.7 61.56 \r\nL 10.7 7.2 \r\n\" style=\"fill:none;stroke:#000000;stroke-linecap:square;stroke-linejoin:miter;stroke-width:0.8;\"/>\r\n   </g>\r\n   <g id=\"patch_4\">\r\n    <path d=\"M 568.7 61.56 \r\nL 568.7 7.2 \r\n\" style=\"fill:none;stroke:#000000;stroke-linecap:square;stroke-linejoin:miter;stroke-width:0.8;\"/>\r\n   </g>\r\n   <g id=\"patch_5\">\r\n    <path d=\"M 10.7 61.56 \r\nL 568.7 61.56 \r\n\" style=\"fill:none;stroke:#000000;stroke-linecap:square;stroke-linejoin:miter;stroke-width:0.8;\"/>\r\n   </g>\r\n   <g id=\"patch_6\">\r\n    <path d=\"M 10.7 7.2 \r\nL 568.7 7.2 \r\n\" style=\"fill:none;stroke:#000000;stroke-linecap:square;stroke-linejoin:miter;stroke-width:0.8;\"/>\r\n   </g>\r\n  </g>\r\n </g>\r\n <defs>\r\n  <clipPath id=\"p6f57c6ea40\">\r\n   <rect height=\"54.36\" width=\"558\" x=\"10.7\" y=\"7.2\"/>\r\n  </clipPath>\r\n </defs>\r\n</svg>\r\n",
      "image/png": "[encoded data removed]"
     },
     "metadata": {
      "needs_background": "light"
     }
    },
    {
     "output_type": "display_data",
     "data": {
      "text/plain": "<Figure size 792x72 with 1 Axes>",
      "image/svg+xml": "<?xml version=\"1.0\" encoding=\"utf-8\" standalone=\"no\"?>\r\n<!DOCTYPE svg PUBLIC \"-//W3C//DTD SVG 1.1//EN\"\r\n  \"http://www.w3.org/Graphics/SVG/1.1/DTD/svg11.dtd\">\r\n<!-- Created with matplotlib (https://matplotlib.org/) -->\r\n<svg height=\"72.26pt\" version=\"1.1\" viewBox=\"0 0 631.7 72.26\" width=\"631.7pt\" xmlns=\"http://www.w3.org/2000/svg\" xmlns:xlink=\"http://www.w3.org/1999/xlink\">\r\n <defs>\r\n  <style type=\"text/css\">\r\n*{stroke-linecap:butt;stroke-linejoin:round;}\r\n  </style>\r\n </defs>\r\n <g id=\"figure_1\">\r\n  <g id=\"patch_1\">\r\n   <path d=\"M 0 72.26 \r\nL 631.7 72.26 \r\nL 631.7 0 \r\nL 0 0 \r\nz\r\n\" style=\"fill:none;\"/>\r\n  </g>\r\n  <g id=\"axes_1\">\r\n   <g id=\"patch_2\">\r\n    <path d=\"M 10.7 61.56 \r\nL 624.5 61.56 \r\nL 624.5 7.2 \r\nL 10.7 7.2 \r\nz\r\n\" style=\"fill:#ffffff;\"/>\r\n   </g>\r\n   <g clip-path=\"url(#pf925672a1f)\">\r\n    <image height=\"55\" id=\"imagebcb7bc72ca\" transform=\"scale(1 -1)translate(0 -55)\" width=\"614\" x=\"10.7\" xlink:href=\"data:image/png;base64,\r\niVBORw0KGgoAAAANSUhEUgAAAmYAAAA3CAYAAACmYYbxAAAABHNCSVQICAgIfAhkiAAAAXhJREFUeJzt1iEyBHAchmErSIokGiOYPYUsansMwRUEiUvsAZzALVB1XSQ4w39+7+w8zwm+9r2bp+329+iA3d18TE9Y6vXqbHrCMi+fp9MTlvq+fJiesNTJ2/v0hKXuN7fTE5banR/uNTx/PU5PWOrn4np6wlL7/X56wlLH0wMAAPgnzAAAIoQZAECEMAMAiBBmAAARwgwAIEKYAQBECDMAgAhhBgAQIcwAACKEGQBAhDADAIgQZgAAEcIMACBCmAEARAgzAIAIYQYAECHMAAAihBkAQIQwAwCIEGYAABHCDAAgQpgBAEQIMwCACGEGABAhzAAAIoQZAECEMAMAiBBmAAARwgwAIEKYAQBECDMAgAhhBgAQIcwAACKEGQBAhDADAIgQZgAAEcIMACBCmAEARAgzAIAIYQYAECHMAAAihBkAQIQwAwCIEGYAABHCDAAgQpgBAEQIMwCACGEGABAhzAAAIoQZAECEMAMAiBBmAAARwgwAIOIPl1wQbTQFLhoAAAAASUVORK5CYII=\" y=\"-6.56\"/>\r\n   </g>\r\n   <g id=\"matplotlib.axis_1\">\r\n    <g id=\"xtick_1\">\r\n     <g id=\"line2d_1\">\r\n      <defs>\r\n       <path d=\"M 0 0 \r\nL 0 3.5 \r\n\" id=\"mf0f4aaae03\" style=\"stroke:#000000;stroke-width:0.8;\"/>\r\n      </defs>\r\n      <g>\r\n       <use style=\"stroke:#000000;stroke-width:0.8;\" x=\"10.7\" xlink:href=\"#mf0f4aaae03\" y=\"61.56\"/>\r\n      </g>\r\n     </g>\r\n    </g>\r\n    <g id=\"xtick_2\">\r\n     <g id=\"line2d_2\">\r\n      <g>\r\n       <use style=\"stroke:#000000;stroke-width:0.8;\" x=\"66.5\" xlink:href=\"#mf0f4aaae03\" y=\"61.56\"/>\r\n      </g>\r\n     </g>\r\n    </g>\r\n    <g id=\"xtick_3\">\r\n     <g id=\"line2d_3\">\r\n      <g>\r\n       <use style=\"stroke:#000000;stroke-width:0.8;\" x=\"122.3\" xlink:href=\"#mf0f4aaae03\" y=\"61.56\"/>\r\n      </g>\r\n     </g>\r\n    </g>\r\n    <g id=\"xtick_4\">\r\n     <g id=\"line2d_4\">\r\n      <g>\r\n       <use style=\"stroke:#000000;stroke-width:0.8;\" x=\"178.1\" xlink:href=\"#mf0f4aaae03\" y=\"61.56\"/>\r\n      </g>\r\n     </g>\r\n    </g>\r\n    <g id=\"xtick_5\">\r\n     <g id=\"line2d_5\">\r\n      <g>\r\n       <use style=\"stroke:#000000;stroke-width:0.8;\" x=\"233.9\" xlink:href=\"#mf0f4aaae03\" y=\"61.56\"/>\r\n      </g>\r\n     </g>\r\n    </g>\r\n    <g id=\"xtick_6\">\r\n     <g id=\"line2d_6\">\r\n      <g>\r\n       <use style=\"stroke:#000000;stroke-width:0.8;\" x=\"289.7\" xlink:href=\"#mf0f4aaae03\" y=\"61.56\"/>\r\n      </g>\r\n     </g>\r\n    </g>\r\n    <g id=\"xtick_7\">\r\n     <g id=\"line2d_7\">\r\n      <g>\r\n       <use style=\"stroke:#000000;stroke-width:0.8;\" x=\"345.5\" xlink:href=\"#mf0f4aaae03\" y=\"61.56\"/>\r\n      </g>\r\n     </g>\r\n    </g>\r\n    <g id=\"xtick_8\">\r\n     <g id=\"line2d_8\">\r\n      <g>\r\n       <use style=\"stroke:#000000;stroke-width:0.8;\" x=\"401.3\" xlink:href=\"#mf0f4aaae03\" y=\"61.56\"/>\r\n      </g>\r\n     </g>\r\n    </g>\r\n    <g id=\"xtick_9\">\r\n     <g id=\"line2d_9\">\r\n      <g>\r\n       <use style=\"stroke:#000000;stroke-width:0.8;\" x=\"457.1\" xlink:href=\"#mf0f4aaae03\" y=\"61.56\"/>\r\n      </g>\r\n     </g>\r\n    </g>\r\n    <g id=\"xtick_10\">\r\n     <g id=\"line2d_10\">\r\n      <g>\r\n       <use style=\"stroke:#000000;stroke-width:0.8;\" x=\"512.9\" xlink:href=\"#mf0f4aaae03\" y=\"61.56\"/>\r\n      </g>\r\n     </g>\r\n    </g>\r\n    <g id=\"xtick_11\">\r\n     <g id=\"line2d_11\">\r\n      <g>\r\n       <use style=\"stroke:#000000;stroke-width:0.8;\" x=\"568.7\" xlink:href=\"#mf0f4aaae03\" y=\"61.56\"/>\r\n      </g>\r\n     </g>\r\n    </g>\r\n   </g>\r\n   <g id=\"matplotlib.axis_2\">\r\n    <g id=\"ytick_1\">\r\n     <g id=\"line2d_12\">\r\n      <defs>\r\n       <path d=\"M 0 0 \r\nL -3.5 0 \r\n\" id=\"m3db2ed4ae5\" style=\"stroke:#000000;stroke-width:0.8;\"/>\r\n      </defs>\r\n      <g>\r\n       <use style=\"stroke:#000000;stroke-width:0.8;\" x=\"10.7\" xlink:href=\"#m3db2ed4ae5\" y=\"7.2\"/>\r\n      </g>\r\n     </g>\r\n    </g>\r\n    <g id=\"ytick_2\">\r\n     <g id=\"line2d_13\">\r\n      <g>\r\n       <use style=\"stroke:#000000;stroke-width:0.8;\" x=\"10.7\" xlink:href=\"#m3db2ed4ae5\" y=\"61.56\"/>\r\n      </g>\r\n     </g>\r\n    </g>\r\n   </g>\r\n   <g id=\"patch_3\">\r\n    <path d=\"M 10.7 61.56 \r\nL 10.7 7.2 \r\n\" style=\"fill:none;stroke:#000000;stroke-linecap:square;stroke-linejoin:miter;stroke-width:0.8;\"/>\r\n   </g>\r\n   <g id=\"patch_4\">\r\n    <path d=\"M 624.5 61.56 \r\nL 624.5 7.2 \r\n\" style=\"fill:none;stroke:#000000;stroke-linecap:square;stroke-linejoin:miter;stroke-width:0.8;\"/>\r\n   </g>\r\n   <g id=\"patch_5\">\r\n    <path d=\"M 10.7 61.56 \r\nL 624.5 61.56 \r\n\" style=\"fill:none;stroke:#000000;stroke-linecap:square;stroke-linejoin:miter;stroke-width:0.8;\"/>\r\n   </g>\r\n   <g id=\"patch_6\">\r\n    <path d=\"M 10.7 7.2 \r\nL 624.5 7.2 \r\n\" style=\"fill:none;stroke:#000000;stroke-linecap:square;stroke-linejoin:miter;stroke-width:0.8;\"/>\r\n   </g>\r\n  </g>\r\n </g>\r\n <defs>\r\n  <clipPath id=\"pf925672a1f\">\r\n   <rect height=\"54.36\" width=\"613.8\" x=\"10.7\" y=\"7.2\"/>\r\n  </clipPath>\r\n </defs>\r\n</svg>\r\n",
      "image/png": "[encoded data removed]"
     },
     "metadata": {
      "needs_background": "light"
     }
    }
   ],
   "source": [
    "info['colours']\n",
    "\n",
    "info['colours']['rgb'] = list(zip((info['colours']['r']/255), (info['colours']['g']/255), (info['colours']['b']/255)))\n",
    "info['colours']['rgb_str'] = \"rgb(\" + info['colours']['r'].astype(int).astype(str) + \",\" + info['colours']['g'].astype(int).astype(str) + \",\" + info['colours']['b'].astype(int).astype(str) + \")\"\n",
    "\n",
    "colour_palettes = {}\n",
    "colour_palettes['all'] = info['colours']['rgb'].tolist()\n",
    "\n",
    "for theme in info['colours']['theme'].unique():\n",
    "    colour_palettes[theme] = info['colours'].query('theme == \"' + theme + '\"')['rgb'].tolist()\n",
    "    sns.palplot(colour_palettes[theme])\n",
    "\n",
    "del theme"
   ]
  },
  {
   "cell_type": "code",
   "execution_count": 79,
   "metadata": {},
   "outputs": [
    {
     "output_type": "display_data",
     "data": {
      "text/plain": "<Figure size 288x72 with 1 Axes>",
      "image/svg+xml": "<?xml version=\"1.0\" encoding=\"utf-8\" standalone=\"no\"?>\r\n<!DOCTYPE svg PUBLIC \"-//W3C//DTD SVG 1.1//EN\"\r\n  \"http://www.w3.org/Graphics/SVG/1.1/DTD/svg11.dtd\">\r\n<!-- Created with matplotlib (https://matplotlib.org/) -->\r\n<svg height=\"72.26pt\" version=\"1.1\" viewBox=\"0 0 241.1 72.26\" width=\"241.1pt\" xmlns=\"http://www.w3.org/2000/svg\" xmlns:xlink=\"http://www.w3.org/1999/xlink\">\r\n <defs>\r\n  <style type=\"text/css\">\r\n*{stroke-linecap:butt;stroke-linejoin:round;}\r\n  </style>\r\n </defs>\r\n <g id=\"figure_1\">\r\n  <g id=\"patch_1\">\r\n   <path d=\"M 0 72.26 \r\nL 241.1 72.26 \r\nL 241.1 0 \r\nL 0 0 \r\nz\r\n\" style=\"fill:none;\"/>\r\n  </g>\r\n  <g id=\"axes_1\">\r\n   <g id=\"patch_2\">\r\n    <path d=\"M 10.7 61.56 \r\nL 233.9 61.56 \r\nL 233.9 7.2 \r\nL 10.7 7.2 \r\nz\r\n\" style=\"fill:#ffffff;\"/>\r\n   </g>\r\n   <g clip-path=\"url(#p6c346c1ead)\">\r\n    <image height=\"55\" id=\"imageb88f3843c1\" transform=\"scale(1 -1)translate(0 -55)\" width=\"224\" x=\"10.7\" xlink:href=\"data:image/png;base64,\r\niVBORw0KGgoAAAANSUhEUgAAAOAAAAA3CAYAAAAVFkZ2AAAABHNCSVQICAgIfAhkiAAAANVJREFUeJzt00ENwkAAAMG24YMR6qhOeNRBDRJ0EARQFZdN6IyC/ez8eqy/6Y9t+61OGOr7PuqEoZ6fe50w1FIHwJUZEEIGhJABIWRACBkQQgaEkAEhZEAIGRBCBoSQASFkQAgZEEIGhJABIWRACBkQQgaEkAEhZEAIGRBCBoSQASFkQAgZEEIGhJABIWRACBkQQgaEkAEhZEAIGRBCBoSQASFkQAgZEEIGhJABIWRACBkQQgaEkAEhZEAIGRBCBoSQASFkQAgZEEIGhJABIWRACBkQQidoDAcjCAfTMgAAAABJRU5ErkJggg==\" y=\"-6.56\"/>\r\n   </g>\r\n   <g id=\"matplotlib.axis_1\">\r\n    <g id=\"xtick_1\">\r\n     <g id=\"line2d_1\">\r\n      <defs>\r\n       <path d=\"M 0 0 \r\nL 0 3.5 \r\n\" id=\"m4798c269cb\" style=\"stroke:#000000;stroke-width:0.8;\"/>\r\n      </defs>\r\n      <g>\r\n       <use style=\"stroke:#000000;stroke-width:0.8;\" x=\"10.7\" xlink:href=\"#m4798c269cb\" y=\"61.56\"/>\r\n      </g>\r\n     </g>\r\n    </g>\r\n    <g id=\"xtick_2\">\r\n     <g id=\"line2d_2\">\r\n      <g>\r\n       <use style=\"stroke:#000000;stroke-width:0.8;\" x=\"66.5\" xlink:href=\"#m4798c269cb\" y=\"61.56\"/>\r\n      </g>\r\n     </g>\r\n    </g>\r\n    <g id=\"xtick_3\">\r\n     <g id=\"line2d_3\">\r\n      <g>\r\n       <use style=\"stroke:#000000;stroke-width:0.8;\" x=\"122.3\" xlink:href=\"#m4798c269cb\" y=\"61.56\"/>\r\n      </g>\r\n     </g>\r\n    </g>\r\n    <g id=\"xtick_4\">\r\n     <g id=\"line2d_4\">\r\n      <g>\r\n       <use style=\"stroke:#000000;stroke-width:0.8;\" x=\"178.1\" xlink:href=\"#m4798c269cb\" y=\"61.56\"/>\r\n      </g>\r\n     </g>\r\n    </g>\r\n   </g>\r\n   <g id=\"matplotlib.axis_2\">\r\n    <g id=\"ytick_1\">\r\n     <g id=\"line2d_5\">\r\n      <defs>\r\n       <path d=\"M 0 0 \r\nL -3.5 0 \r\n\" id=\"me0eb606c67\" style=\"stroke:#000000;stroke-width:0.8;\"/>\r\n      </defs>\r\n      <g>\r\n       <use style=\"stroke:#000000;stroke-width:0.8;\" x=\"10.7\" xlink:href=\"#me0eb606c67\" y=\"7.2\"/>\r\n      </g>\r\n     </g>\r\n    </g>\r\n    <g id=\"ytick_2\">\r\n     <g id=\"line2d_6\">\r\n      <g>\r\n       <use style=\"stroke:#000000;stroke-width:0.8;\" x=\"10.7\" xlink:href=\"#me0eb606c67\" y=\"61.56\"/>\r\n      </g>\r\n     </g>\r\n    </g>\r\n   </g>\r\n   <g id=\"patch_3\">\r\n    <path d=\"M 10.7 61.56 \r\nL 10.7 7.2 \r\n\" style=\"fill:none;stroke:#000000;stroke-linecap:square;stroke-linejoin:miter;stroke-width:0.8;\"/>\r\n   </g>\r\n   <g id=\"patch_4\">\r\n    <path d=\"M 233.9 61.56 \r\nL 233.9 7.2 \r\n\" style=\"fill:none;stroke:#000000;stroke-linecap:square;stroke-linejoin:miter;stroke-width:0.8;\"/>\r\n   </g>\r\n   <g id=\"patch_5\">\r\n    <path d=\"M 10.7 61.56 \r\nL 233.9 61.56 \r\n\" style=\"fill:none;stroke:#000000;stroke-linecap:square;stroke-linejoin:miter;stroke-width:0.8;\"/>\r\n   </g>\r\n   <g id=\"patch_6\">\r\n    <path d=\"M 10.7 7.2 \r\nL 233.9 7.2 \r\n\" style=\"fill:none;stroke:#000000;stroke-linecap:square;stroke-linejoin:miter;stroke-width:0.8;\"/>\r\n   </g>\r\n  </g>\r\n </g>\r\n <defs>\r\n  <clipPath id=\"p6c346c1ead\">\r\n   <rect height=\"54.36\" width=\"223.2\" x=\"10.7\" y=\"7.2\"/>\r\n  </clipPath>\r\n </defs>\r\n</svg>\r\n",
      "image/png": "[encoded data removed]"
     },
     "metadata": {
      "needs_background": "light"
     }
    },
    {
     "output_type": "display_data",
     "data": {
      "text/plain": "<Figure size 288x72 with 1 Axes>",
      "image/svg+xml": "<?xml version=\"1.0\" encoding=\"utf-8\" standalone=\"no\"?>\r\n<!DOCTYPE svg PUBLIC \"-//W3C//DTD SVG 1.1//EN\"\r\n  \"http://www.w3.org/Graphics/SVG/1.1/DTD/svg11.dtd\">\r\n<!-- Created with matplotlib (https://matplotlib.org/) -->\r\n<svg height=\"72.26pt\" version=\"1.1\" viewBox=\"0 0 241.1 72.26\" width=\"241.1pt\" xmlns=\"http://www.w3.org/2000/svg\" xmlns:xlink=\"http://www.w3.org/1999/xlink\">\r\n <defs>\r\n  <style type=\"text/css\">\r\n*{stroke-linecap:butt;stroke-linejoin:round;}\r\n  </style>\r\n </defs>\r\n <g id=\"figure_1\">\r\n  <g id=\"patch_1\">\r\n   <path d=\"M 0 72.26 \r\nL 241.1 72.26 \r\nL 241.1 0 \r\nL 0 0 \r\nz\r\n\" style=\"fill:none;\"/>\r\n  </g>\r\n  <g id=\"axes_1\">\r\n   <g id=\"patch_2\">\r\n    <path d=\"M 10.7 61.56 \r\nL 233.9 61.56 \r\nL 233.9 7.2 \r\nL 10.7 7.2 \r\nz\r\n\" style=\"fill:#ffffff;\"/>\r\n   </g>\r\n   <g clip-path=\"url(#pb2746a2b23)\">\r\n    <image height=\"55\" id=\"image207906664c\" transform=\"scale(1 -1)translate(0 -55)\" width=\"224\" x=\"10.7\" xlink:href=\"data:image/png;base64,\r\niVBORw0KGgoAAAANSUhEUgAAAOAAAAA3CAYAAAAVFkZ2AAAABHNCSVQICAgIfAhkiAAAANVJREFUeJzt00ENwkAAAEGOPz/01Ei91BECSJCAmwpoVVw2aWcU7GfHsb2Ox4X9lnedMNU6PnXCVP/vXidM9awD4M4MCCEDQsiAEDIghAwIIQNCyIAQMiCEDAghA0LIgBAyIIQMCCEDQsiAEDIghAwIIQNCyIAQMiCEDAghA0LIgBAyIIQMCCEDQsiAEDIghAwIIQNCyIAQMiCEDAghA0LIgBAyIIQMCCEDQsiAEDIghAwIIQNCyIAQMiCEDAghA0LIgBAyIIQMCCEDQsiAEDIghAwIoRNGKweG7vwF8gAAAABJRU5ErkJggg==\" y=\"-6.56\"/>\r\n   </g>\r\n   <g id=\"matplotlib.axis_1\">\r\n    <g id=\"xtick_1\">\r\n     <g id=\"line2d_1\">\r\n      <defs>\r\n       <path d=\"M 0 0 \r\nL 0 3.5 \r\n\" id=\"m361f034fe0\" style=\"stroke:#000000;stroke-width:0.8;\"/>\r\n      </defs>\r\n      <g>\r\n       <use style=\"stroke:#000000;stroke-width:0.8;\" x=\"10.7\" xlink:href=\"#m361f034fe0\" y=\"61.56\"/>\r\n      </g>\r\n     </g>\r\n    </g>\r\n    <g id=\"xtick_2\">\r\n     <g id=\"line2d_2\">\r\n      <g>\r\n       <use style=\"stroke:#000000;stroke-width:0.8;\" x=\"66.5\" xlink:href=\"#m361f034fe0\" y=\"61.56\"/>\r\n      </g>\r\n     </g>\r\n    </g>\r\n    <g id=\"xtick_3\">\r\n     <g id=\"line2d_3\">\r\n      <g>\r\n       <use style=\"stroke:#000000;stroke-width:0.8;\" x=\"122.3\" xlink:href=\"#m361f034fe0\" y=\"61.56\"/>\r\n      </g>\r\n     </g>\r\n    </g>\r\n    <g id=\"xtick_4\">\r\n     <g id=\"line2d_4\">\r\n      <g>\r\n       <use style=\"stroke:#000000;stroke-width:0.8;\" x=\"178.1\" xlink:href=\"#m361f034fe0\" y=\"61.56\"/>\r\n      </g>\r\n     </g>\r\n    </g>\r\n   </g>\r\n   <g id=\"matplotlib.axis_2\">\r\n    <g id=\"ytick_1\">\r\n     <g id=\"line2d_5\">\r\n      <defs>\r\n       <path d=\"M 0 0 \r\nL -3.5 0 \r\n\" id=\"mdc1334336e\" style=\"stroke:#000000;stroke-width:0.8;\"/>\r\n      </defs>\r\n      <g>\r\n       <use style=\"stroke:#000000;stroke-width:0.8;\" x=\"10.7\" xlink:href=\"#mdc1334336e\" y=\"7.2\"/>\r\n      </g>\r\n     </g>\r\n    </g>\r\n    <g id=\"ytick_2\">\r\n     <g id=\"line2d_6\">\r\n      <g>\r\n       <use style=\"stroke:#000000;stroke-width:0.8;\" x=\"10.7\" xlink:href=\"#mdc1334336e\" y=\"61.56\"/>\r\n      </g>\r\n     </g>\r\n    </g>\r\n   </g>\r\n   <g id=\"patch_3\">\r\n    <path d=\"M 10.7 61.56 \r\nL 10.7 7.2 \r\n\" style=\"fill:none;stroke:#000000;stroke-linecap:square;stroke-linejoin:miter;stroke-width:0.8;\"/>\r\n   </g>\r\n   <g id=\"patch_4\">\r\n    <path d=\"M 233.9 61.56 \r\nL 233.9 7.2 \r\n\" style=\"fill:none;stroke:#000000;stroke-linecap:square;stroke-linejoin:miter;stroke-width:0.8;\"/>\r\n   </g>\r\n   <g id=\"patch_5\">\r\n    <path d=\"M 10.7 61.56 \r\nL 233.9 61.56 \r\n\" style=\"fill:none;stroke:#000000;stroke-linecap:square;stroke-linejoin:miter;stroke-width:0.8;\"/>\r\n   </g>\r\n   <g id=\"patch_6\">\r\n    <path d=\"M 10.7 7.2 \r\nL 233.9 7.2 \r\n\" style=\"fill:none;stroke:#000000;stroke-linecap:square;stroke-linejoin:miter;stroke-width:0.8;\"/>\r\n   </g>\r\n  </g>\r\n </g>\r\n <defs>\r\n  <clipPath id=\"pb2746a2b23\">\r\n   <rect height=\"54.36\" width=\"223.2\" x=\"10.7\" y=\"7.2\"/>\r\n  </clipPath>\r\n </defs>\r\n</svg>\r\n",
      "image/png": "[encoded data removed]"
     },
     "metadata": {
      "needs_background": "light"
     }
    },
    {
     "output_type": "display_data",
     "data": {
      "text/plain": "<Figure size 144x72 with 1 Axes>",
      "image/svg+xml": "<?xml version=\"1.0\" encoding=\"utf-8\" standalone=\"no\"?>\r\n<!DOCTYPE svg PUBLIC \"-//W3C//DTD SVG 1.1//EN\"\r\n  \"http://www.w3.org/Graphics/SVG/1.1/DTD/svg11.dtd\">\r\n<!-- Created with matplotlib (https://matplotlib.org/) -->\r\n<svg height=\"72.26pt\" version=\"1.1\" viewBox=\"0 0 129.5 72.26\" width=\"129.5pt\" xmlns=\"http://www.w3.org/2000/svg\" xmlns:xlink=\"http://www.w3.org/1999/xlink\">\r\n <defs>\r\n  <style type=\"text/css\">\r\n*{stroke-linecap:butt;stroke-linejoin:round;}\r\n  </style>\r\n </defs>\r\n <g id=\"figure_1\">\r\n  <g id=\"patch_1\">\r\n   <path d=\"M 0 72.26 \r\nL 129.5 72.26 \r\nL 129.5 0 \r\nL 0 0 \r\nz\r\n\" style=\"fill:none;\"/>\r\n  </g>\r\n  <g id=\"axes_1\">\r\n   <g id=\"patch_2\">\r\n    <path d=\"M 10.7 61.56 \r\nL 122.3 61.56 \r\nL 122.3 7.2 \r\nL 10.7 7.2 \r\nz\r\n\" style=\"fill:#ffffff;\"/>\r\n   </g>\r\n   <g clip-path=\"url(#p38a56fe443)\">\r\n    <image height=\"55\" id=\"image8e13aa7369\" transform=\"scale(1 -1)translate(0 -55)\" width=\"112\" x=\"10.7\" xlink:href=\"data:image/png;base64,\r\niVBORw0KGgoAAAANSUhEUgAAAHAAAAA3CAYAAADUvc6fAAAABHNCSVQICAgIfAhkiAAAAKlJREFUeJzt0cENQEAAAEF0468Kf1UpVwEUIXJZmalgk53PY7+nH7vWbXTCp5bRAbxjYJyBcQbGGRhnYJyBcQbGGRhnYJyBcQbGGRhnYJyBcQbGGRhnYJyBcQbGGRhnYJyBcQbGGRhnYJyBcQbGGRhnYJyBcQbGGRhnYJyBcQbGGRhnYJyBcQbGGRhnYJyBcQbGGRhnYJyBcQbGGRhnYJyBcQbGGRhnYNwD/hUD54QWceQAAAAASUVORK5CYII=\" y=\"-6.56\"/>\r\n   </g>\r\n   <g id=\"matplotlib.axis_1\">\r\n    <g id=\"xtick_1\">\r\n     <g id=\"line2d_1\">\r\n      <defs>\r\n       <path d=\"M 0 0 \r\nL 0 3.5 \r\n\" id=\"mf60f082842\" style=\"stroke:#000000;stroke-width:0.8;\"/>\r\n      </defs>\r\n      <g>\r\n       <use style=\"stroke:#000000;stroke-width:0.8;\" x=\"10.7\" xlink:href=\"#mf60f082842\" y=\"61.56\"/>\r\n      </g>\r\n     </g>\r\n    </g>\r\n    <g id=\"xtick_2\">\r\n     <g id=\"line2d_2\">\r\n      <g>\r\n       <use style=\"stroke:#000000;stroke-width:0.8;\" x=\"66.5\" xlink:href=\"#mf60f082842\" y=\"61.56\"/>\r\n      </g>\r\n     </g>\r\n    </g>\r\n   </g>\r\n   <g id=\"matplotlib.axis_2\">\r\n    <g id=\"ytick_1\">\r\n     <g id=\"line2d_3\">\r\n      <defs>\r\n       <path d=\"M 0 0 \r\nL -3.5 0 \r\n\" id=\"mdcf3d0f793\" style=\"stroke:#000000;stroke-width:0.8;\"/>\r\n      </defs>\r\n      <g>\r\n       <use style=\"stroke:#000000;stroke-width:0.8;\" x=\"10.7\" xlink:href=\"#mdcf3d0f793\" y=\"7.2\"/>\r\n      </g>\r\n     </g>\r\n    </g>\r\n    <g id=\"ytick_2\">\r\n     <g id=\"line2d_4\">\r\n      <g>\r\n       <use style=\"stroke:#000000;stroke-width:0.8;\" x=\"10.7\" xlink:href=\"#mdcf3d0f793\" y=\"61.56\"/>\r\n      </g>\r\n     </g>\r\n    </g>\r\n   </g>\r\n   <g id=\"patch_3\">\r\n    <path d=\"M 10.7 61.56 \r\nL 10.7 7.2 \r\n\" style=\"fill:none;stroke:#000000;stroke-linecap:square;stroke-linejoin:miter;stroke-width:0.8;\"/>\r\n   </g>\r\n   <g id=\"patch_4\">\r\n    <path d=\"M 122.3 61.56 \r\nL 122.3 7.2 \r\n\" style=\"fill:none;stroke:#000000;stroke-linecap:square;stroke-linejoin:miter;stroke-width:0.8;\"/>\r\n   </g>\r\n   <g id=\"patch_5\">\r\n    <path d=\"M 10.7 61.56 \r\nL 122.3 61.56 \r\n\" style=\"fill:none;stroke:#000000;stroke-linecap:square;stroke-linejoin:miter;stroke-width:0.8;\"/>\r\n   </g>\r\n   <g id=\"patch_6\">\r\n    <path d=\"M 10.7 7.2 \r\nL 122.3 7.2 \r\n\" style=\"fill:none;stroke:#000000;stroke-linecap:square;stroke-linejoin:miter;stroke-width:0.8;\"/>\r\n   </g>\r\n  </g>\r\n </g>\r\n <defs>\r\n  <clipPath id=\"p38a56fe443\">\r\n   <rect height=\"54.36\" width=\"111.6\" x=\"10.7\" y=\"7.2\"/>\r\n  </clipPath>\r\n </defs>\r\n</svg>\r\n",
      "image/png": "[encoded data removed]"
     },
     "metadata": {
      "needs_background": "light"
     }
    }
   ],
   "source": [
    "sns.palplot([colour_palettes['mid'][i] for i in [0,3,5,6]])\n",
    "sns.palplot([colour_palettes['mid'][i] for i in [1,2,4,7]])\n",
    "sns.palplot([colour_palettes['mid'][i] for i in [8,9]])\n",
    "\n",
    "del colour_palettes"
   ]
  },
  {
   "cell_type": "markdown",
   "execution_count": null,
   "metadata": {},
   "outputs": [],
   "source": [
    "## Import Data\n",
    "### Custom Support Data Functions"
   ]
  },
  {
   "cell_type": "code",
   "execution_count": 80,
   "metadata": {},
   "outputs": [],
   "source": [
    "def get_UO_support_data(dataset_f_info, dataset = \"UO\"):\n",
    "    \n",
    "    def import_UO_log_dates():\n",
    "        UO_log_dates = pd.read_csv(dataset_f_info['supp_data_filepath'][dataset], sep = \"\\t\")\n",
    "        UO_log_dates['start'] = pd.to_datetime(UO_log_dates['start'], format=\"%Y-%m-%d\")\n",
    "        UO_log_dates['end'] = pd.to_datetime(UO_log_dates['end'], format=\"%Y-%m-%d\")\n",
    "        return UO_log_dates\n",
    "    \n",
    "    UO_log_dates = import_UO_log_dates()\n",
    "    \n",
    "    #Check LogDates file\n",
    "    if max(UO_log_dates['end']) < date_now.date() - timedelta(days=1):\n",
    "        #print(\"Retrieving latest Urban Observatory data...\")\n",
    "        # api-endpoint \n",
    "        URL = \"http://uoweb3.ncl.ac.uk/api/v1.1/sensors/data/csv/?\"\n",
    "        # location given here \n",
    "        poly = '0103000000010000000600000001000020a2baf9bf58094ee3a2764b4001000020f268fbbf90c059b5b5714b4000000020ba37fbbfc4e78445c6704b4001000020b203fbbf9ce8d60e68714b40010000209a59f9bf346a0efd06714b4001000020a2baf9bf58094ee3a2764b40'\n",
    "        # defining a params dict for the parameters to be sent to the API \n",
    "        PARAMS = {'polygon_wkb': poly,\n",
    "                  'starttime': max(UO_log_dates['end']).strftime(\"%Y%m%d%H%M%S\"), #\"%Y%m%d%H%M%S\"\n",
    "                  'endtime': date_now.strftime(\"%Y%m%d%H%M%S\"), #\"%Y%m%d%H%M%S\"\n",
    "                  'data_variable': 'River Level,Temperature,Rainfall'} \n",
    "        # sending get request and saving the response as response object \n",
    "        data_content = requests.get(url = URL, params = PARAMS).content\n",
    "        UO_data = pd.read_csv(io.StringIO(data_content.decode(\"utf-8\")))\n",
    "        min_date = pd.to_datetime(min(UO_data['Timestamp'])).strftime(\"%Y-%m-%d\")\n",
    "        max_date = pd.to_datetime(max(UO_data['Timestamp'])).strftime(\"%Y-%m-%d\")\n",
    "        \n",
    "        if pd.to_datetime(max_date) > max(UO_log_dates['end']):\n",
    "            UO_data.to_csv(dataset_f_info['data_folder_path'][dataset] + \"UO_data_\" + str(min_date) + \"_to_\" + str(max_date) + \".csv\",\n",
    "                           index = False)\n",
    "            UO_Files = []\n",
    "            for filename in tqdm(os.listdir(str(dataset_f_info['data_folder_path'][dataset])), desc = \"Open existing UO files\"):\n",
    "                if re.search(dataset_f_info['file_pat'][dataset], filename) and not filename.startswith('.'):\n",
    "                    UO_Files.append(filename)\n",
    "            UO_starts = []\n",
    "            for string in UO_Files: UO_starts.append(string[8:18])\n",
    "            UO_ends = []\n",
    "            for string in UO_Files: UO_ends.append(string[22:32])\n",
    "\n",
    "\n",
    "            new_UO_file_data = {'file': UO_Files,\n",
    "                                'start': UO_starts,\n",
    "                                'end': UO_ends}\n",
    "            UO_log_dates_new = pd.DataFrame(new_UO_file_data, columns = ['file', 'start', 'end'])\n",
    "            UO_log_dates_new.to_csv(dataset_f_info['supp_data_filepath'][dataset], index = False, sep = \"\\t\")\n",
    "            print(\"Urban Observatory data updated!\")\n",
    "        else:\n",
    "            print(\"Urban Observatory data up-to-date!\")\n",
    "        \n",
    "    UO_log_dates = import_UO_log_dates\n",
    "    \n",
    "    return UO_log_dates\n",
    "\n",
    "def get_Events_support_data(dataset_f_info, dataset = \"Events\"):\n",
    "    Events_info = pd.read_csv(dataset_f_info['supp_data_filepath'][dataset], sep = \"\\t\", index_col = \"Code\")\n",
    "    return Events_info\n",
    "\n",
    "custom_preimport_functions = {'UO': get_UO_support_data,\n",
    "                              'Events': get_Events_support_data}"
   ]
  },
  {
   "cell_type": "markdown",
   "execution_count": null,
   "metadata": {},
   "outputs": [],
   "source": [
    "### Custom Imported Data Functions"
   ]
  },
  {
   "cell_type": "code",
   "execution_count": 81,
   "metadata": {},
   "outputs": [],
   "source": [
    "def mod_imported_Sensor_data(day_df, filename, dataset_supp_data, dataset_f_info, dataset = \"Sensor\"):\n",
    "    day_df['DateTime'] = day_df['Date'] + \" \" + day_df['Time']\n",
    "    day_df['DateTime'] = pd.to_datetime(day_df['DateTime'], format = '%d/%m/%Y %H:%M:%S')\n",
    "    day_df['DateTime'] = day_df['DateTime'].dt.tz_localize('UTC')\n",
    "    \n",
    "    #Make on/off events integer binary numbers 1/0\n",
    "    #on_events = [\"^ON$\", \"^RUNNING$\", \"^CW$\", \"^AUTO$\"]\n",
    "    #off_events = [\"^OFF$\", \"^STOP$\", \"^CCW$\", \"^MANUAL$\"]\n",
    "\n",
    "    #all_rgx = re.compile(\"|\".join(on_events + off_events))\n",
    "    #on_rgx = re.compile(\"|\".join(on_events))\n",
    "    #off_rgx = re.compile(\"|\".join(off_events))\n",
    "    \n",
    "    #Sensor_events = {'ON': 1,\n",
    "    #                 'RUNNING': 1,\n",
    "    #                 'CW': 1,\n",
    "    #                 'AUTO': 1,\n",
    "    #                 'OFF': 0,\n",
    "    #                 'STOP': 0,\n",
    "    #                 'CCW': 0,\n",
    "    #                 'MANUAL': 0}\n",
    "\n",
    "    #string_cols = (day_df.applymap(type) == str).all(0).values\n",
    "    #for col in day_df.iloc[:, string_cols]:\n",
    "    #    if day_df[col].str.contains(all_rgx).any():\n",
    "    #        day_df[col] = day_df[col].replace(on_rgx, '1', regex=True)\n",
    "    #        day_df[col] = day_df[col].replace(off_rgx, '0', regex=True)\n",
    "    #        day_df[col] = day_df[col].astype(int)\n",
    "    #for col in day_df.iloc[:, string_cols]:\n",
    "    #if day_df.iloc[:, string_cols].str.contains(all_rgx).any():\n",
    "    #day_df[[i for i in list(day_df.columns) if i not in ['DateTime', 'Date', 'Time']]] = \\\n",
    "    #day_df[[i for i in list(day_df.columns) if i not in ['DateTime', 'Date', 'Time']]].replace(Sensor_events).apply(pd.to_numeric)\n",
    "    #day_df.iloc[:, string_cols] = day_df.astype(int)\n",
    "    \n",
    "    #Current density\n",
    "    day_df.iloc[:, day_df.columns.str.contains(\"__C\")] = day_df.iloc[:, day_df.columns.str.contains(\"__C\")]/(math.pi*(0.6)**2*10)\n",
    "    #Sum Current density\n",
    "    day_df.iloc[:, day_df.columns.str.contains(\"SUM__C\")] = day_df.iloc[:, day_df.columns.str.contains(\"SUM__C\")]/4\n",
    "    \n",
    "    #Sensible tilt (up = positive)\n",
    "    day_df['SENSOR_TILT'] = -day_df['SENSOR_TILT']\n",
    "\n",
    "    return(day_df)\n",
    "\n",
    "def mod_imported_Skid_data(day_df, filename, dataset_supp_data, dataset_f_info, dataset = \"Skid\"):\n",
    "    day_df = day_df.rename(columns={\"TIME\": \"DateTime\"})\n",
    "    day_df['DateTime'] = pd.to_datetime(day_df['DateTime'], format = '%Y/%m/%d %H:%M:%S.%f')\n",
    "    day_df['DateTime'] = day_df['DateTime'].dt.tz_localize('UTC')\n",
    "    selected_pars = list(info['parameters'][selected].query('dataset == \"' + dataset + '\"')['parameter'].values)\n",
    "    day_df = day_df[day_df[selected_pars].sum(axis = 1, skipna = True) != 0]\n",
    "    return(day_df)\n",
    "\n",
    "def mod_imported_SampLog_data(day_df, filename, dataset_supp_data, dataset_f_info, dataset = \"SampLog\"):\n",
    "    day_df = day_df.rename(columns={\"Date\": \"DateTime\"})\n",
    "    day_df['DateTime'] = pd.to_datetime(day_df['DateTime'], format = '%d/%m/%Y %H:%M')\n",
    "    day_df['DateTime'] = day_df['DateTime'].dt.tz_localize('Europe/London')\n",
    "    day_df['DateTime'] = day_df['DateTime'].dt.tz_convert('UTC')\n",
    "\n",
    "    selected_read_cols = ['R1', 'R2', 'R3']\n",
    "    day_df[selected_read_cols] = day_df[selected_read_cols].apply(pd.to_numeric, errors='coerce')\n",
    "\n",
    "    #Average readings\n",
    "    day_df['Read_ave'] = day_df[selected_read_cols].mean(axis = 1, skipna = True)\n",
    "    \n",
    "    #Widen DF\n",
    "    day_df_wide = pd.pivot_table(day_df,values='Read_ave',index=['DateTime', 'Location'],columns=['Type','Vial'])\n",
    "    #Fix col header and names\n",
    "    day_df_wide.columns = map(''.join, (str(v) for v in day_df_wide.columns))\n",
    "    day_df_wide.columns = [re.sub(r'\\W', '', i) for i in day_df_wide.columns]\n",
    "    day_df_wide.columns = [s[:len(s)-1] + \"_\" + s[len(s)-1:] for s in day_df_wide.columns]\n",
    "    day_df_wide = day_df_wide.reset_index()\n",
    "    \n",
    "    return(day_df_wide)\n",
    "\n",
    "def mod_imported_NWL_data(day_df, filename, dataset_supp_data, dataset_f_info, dataset = \"NWL\"):\n",
    "    day_df['DateTime'] = day_df['DATE'].astype(str) + \" \" + day_df['TIME']\n",
    "    day_df['DateTime'] = pd.to_datetime(day_df['DateTime'], format = '%Y-%m-%d %H:%M')\n",
    "    day_df['DateTime'] = day_df['DateTime'].dt.tz_localize('Europe/London')\n",
    "    day_df['DateTime'] = day_df['DateTime'].dt.tz_convert('UTC')\n",
    "    \n",
    "    day_df = day_df[day_df['SITE'].str.contains('SETTLED')]\n",
    "    \n",
    "    return(day_df)\n",
    "\n",
    "def mod_imported_UO_data(day_df, filename, dataset_supp_data, dataset_f_info, dataset = \"UO\"):\n",
    "    day_df['DateTime'] = pd.to_datetime(day_df['Timestamp'], format = '%Y-%m-%d %H:%M:%S')\n",
    "    day_df['DateTime'] = day_df['DateTime'].dt.tz_localize('UTC')\n",
    "  \n",
    "    # Create Type column\n",
    "    day_df['Type'] = day_df['Sensor Name'].astype(str) + \"_\" + day_df['Variable']\n",
    "  \n",
    "    #Widen DF\n",
    "    day_df_wide = pd.pivot_table(day_df,values='Value',index=['DateTime'],columns=['Type'])\n",
    "    #Fix col header and names\n",
    "    day_df_wide = day_df_wide.reset_index()\n",
    "    day_df_wide = day_df_wide.rename(columns=dict(zip(info['parameters'].query('dataset == \"' + dataset + '\"')['code'], \n",
    "                                                info['parameters'].query('dataset == \"' + dataset + '\"')['parameter'])))\n",
    "    return(day_df_wide)\n",
    "\n",
    "custom_import_functions = {'Sensor': mod_imported_Sensor_data,\n",
    "                           'Skid': mod_imported_Skid_data,\n",
    "                           'SampLog': mod_imported_SampLog_data,\n",
    "                           'NWL': mod_imported_NWL_data,\n",
    "                           'UO': mod_imported_UO_data}"
   ]
  },
  {
   "cell_type": "markdown",
   "execution_count": null,
   "metadata": {},
   "outputs": [],
   "source": [
    "### Data Import Functions"
   ]
  },
  {
   "cell_type": "code",
   "execution_count": 82,
   "metadata": {},
   "outputs": [],
   "source": [
    "#Data import\n",
    "def import_data(dataset):\n",
    "    dataset_all_days = []\n",
    "    for folder in range(1,len(info['datasets'].query('dataset == \"' + dataset + '\"'))+1):\n",
    "        #print(dataset + \": Folder \" + str(folder))\n",
    "        \n",
    "        #Shorthand info:\n",
    "        dataset_f_info = info['datasets'].query('dataset == \"' + dataset + '\" & folder == \"' + str(folder) + '\"')\n",
    "        #File format to import\n",
    "        f_file_import = select_file_importer(dataset, dataset_f_info)\n",
    "        \n",
    "        #Custom pre-import functions\n",
    "        if dataset in custom_preimport_functions:\n",
    "            dataset_supp_data = custom_preimport_functions[dataset](dataset_f_info)\n",
    "        else:\n",
    "            dataset_supp_data = \"\"\n",
    "        #Import files\n",
    "        for filename in tqdm(os.listdir(str(dataset_f_info['data_folder_path'][dataset])), desc = \"Open files to import\"):\n",
    "            if re.search(dataset_f_info['file_pat'][dataset], filename) and not filename.startswith('.'):\n",
    "                day_df = file_import_handler(dataset, dataset_f_info, filename, dataset_supp_data, f_file_import)\n",
    "                # Keep if longer than 0 lines\n",
    "                if len(day_df) > 0:\n",
    "                    #Keep if within DateTime range in Info file\n",
    "                    if max(day_df['DateTime']) >= min(info['charts']['chart_range_start']) and \\\n",
    "                       min(day_df['DateTime']) <= max(info['charts']['chart_range_end']):\n",
    "                        dataset_all_days.append(day_df)\n",
    "    \n",
    "    #Create one dataframe from all days data\n",
    "    dataset_all_data = pd.concat(dataset_all_days, axis=0, ignore_index=True)\n",
    "    dataset_all_data.sort_values(by=['DateTime'], inplace=True)\n",
    "    dataset_all_data = dataset_all_data.reset_index(drop=True)\n",
    "    \n",
    "    dataset_all_data = dataset_all_data[dataset_all_data['DateTime'] >= min(info['charts']['chart_range_start'])]\n",
    "    dataset_all_data = dataset_all_data[dataset_all_data['DateTime'] <= max(info['charts']['chart_range_end'])]\n",
    "    \n",
    "    return(dataset_all_data)\n",
    "\n",
    "#File Import functions\n",
    "def select_file_importer(dataset, dataset_f_info):\n",
    "    if re.search(\"xls\", dataset_f_info['file_pat'][dataset], re.IGNORECASE):\n",
    "        return file_import_functions[\"xls\"]\n",
    "    elif re.search(\"csv\", dataset_f_info['file_pat'][dataset], re.IGNORECASE):\n",
    "        return file_import_functions[\"csv\"]\n",
    "    elif re.search(\"txt\", dataset_f_info['file_pat'][dataset], re.IGNORECASE):\n",
    "        return file_import_functions[\"txt\"]\n",
    "    else:\n",
    "        raise ValueError(\"Unknown file pattern!\")\n",
    "\n",
    "def file_import_xls(dataset, dataset_f_info, filename):\n",
    "    df = pd.read_excel(\"\".join([str(dataset_f_info['data_folder_path'][dataset]), filename]), \n",
    "                       skiprows = dataset_f_info['skiprows'][dataset])\n",
    "    return df\n",
    "\n",
    "def file_import_csv(dataset, dataset_f_info, filename):\n",
    "    df = pd.read_csv(\"\".join([str(dataset_f_info['data_folder_path'][dataset]), filename]), \n",
    "                     skiprows = dataset_f_info['skiprows'][dataset])\n",
    "    return df\n",
    "\n",
    "def file_import_txt(dataset, dataset_f_info, filename):\n",
    "    df = pd.read_csv(\"\".join([str(dataset_f_info['data_folder_path'][dataset]), filename]), \n",
    "                     sep=\"\\t\", skiprows = dataset_f_info['skiprows'][dataset])\n",
    "    return df\n",
    "\n",
    "file_import_functions = {'xls': file_import_xls,\n",
    "                         'csv': file_import_csv,\n",
    "                         'txt': file_import_txt}\n",
    "\n",
    "def file_import_handler(dataset, dataset_f_info, filename, dataset_supp_data, f_file_import):\n",
    "    day_df = f_file_import(dataset, dataset_f_info, filename)\n",
    "    if len(day_df) > 0:\n",
    "        # Name parameter columns\n",
    "        day_df = day_df.rename(columns=dict(zip(info['parameters'].query('dataset == \"' + dataset + '\"')['code'], \n",
    "                                                info['parameters'].query('dataset == \"' + dataset + '\"')['parameter'])))\n",
    "        # Delete unit rows\n",
    "        if not pd.isna(dataset_f_info['Del_unit_rows'][dataset]):\n",
    "            day_df = day_df.drop(0).reset_index()\n",
    "        ##Load custom data mod function?\n",
    "        if dataset in custom_import_functions:\n",
    "            day_df = custom_import_functions[dataset](day_df, filename, dataset_supp_data, dataset_f_info, dataset)\n",
    "        \n",
    "        #Choose parameters included in parameters sheet\n",
    "        selected_pars = list(info['parameters'].query('dataset == \"' + dataset + '\"')['parameter'].values)\n",
    "        day_df = day_df[['DateTime'] + selected_pars]\n",
    "        #Add blank row between files - to be implemented\n",
    "        #if len(day_df) > 0:\n",
    "        #    if not pd.isna(dataset_f_info['Add_blank_rows'][dataset]):\n",
    "        #        day_df = day_df.append(pd.Series(), ignore_index=True)\n",
    "                \n",
    "\n",
    "    return(day_df)"
   ]
  },
  {
   "cell_type": "markdown",
   "execution_count": null,
   "metadata": {},
   "outputs": [],
   "source": [
    "### Data Import"
   ]
  },
  {
   "cell_type": "code",
   "execution_count": 112,
   "metadata": {},
   "outputs": [],
   "source": [
    "selected_cols = [s for s in info['parameters'].columns.to_list() if \"selected\" in s]\n",
    "selected = info['parameters'][selected_cols].isin([1]).any(axis=1)\n",
    "\n",
    "selected_cols_ave = [s for s in info['parameters_ave'].columns.to_list() if \"selected\" in s]\n",
    "selected_ave = info['parameters_ave'][selected_cols_ave].isin([1]).any(axis=1)\n",
    "\n",
    "selected_datasets = list(selected[selected].index.unique().values) + list(selected_ave[selected_ave].index.unique().values)\n",
    "selected_datasets = [x for i, x in enumerate(selected_datasets) if i == selected_datasets.index(x)]\n",
    "\n",
    "del selected_cols, selected_cols_ave"
   ]
  },
  {
   "cell_type": "code",
   "execution_count": 105,
   "metadata": {},
   "outputs": [
    {
     "output_type": "stream",
     "name": "stderr",
     "text": "  6.06it/s]\u001b[A\nOpen files to import:  26%|██▋       | 95/359 [00:16<00:45,  5.84it/s]\u001b[A\nOpen files to import:  27%|██▋       | 96/359 [00:16<00:47,  5.49it/s]\u001b[A\nOpen files to import:  27%|██▋       | 97/359 [00:16<00:48,  5.43it/s]\u001b[A\nOpen files to import:  27%|██▋       | 98/359 [00:16<00:42,  6.18it/s]\u001b[A\nOpen files to import:  28%|██▊       | 100/359 [00:16<00:35,  7.32it/s]\u001b[A\nOpen files to import:  28%|██▊       | 101/359 [00:17<00:33,  7.72it/s]\u001b[A\nOpen files to import:  28%|██▊       | 102/359 [00:17<00:31,  8.22it/s]\u001b[A\nOpen files to import:  29%|██▊       | 103/359 [00:17<00:30,  8.32it/s]\u001b[A\nOpen files to import:  29%|██▉       | 105/359 [00:17<00:27,  9.40it/s]\u001b[A\nOpen files to import:  30%|██▉       | 107/359 [00:17<00:30,  8.34it/s]\u001b[A\nOpen files to import:  30%|███       | 108/359 [00:17<00:31,  8.01it/s]\u001b[A\nOpen files to import:  30%|███       | 109/359 [00:18<00:35,  7.07it/s]\u001b[A\nOpen files to import:  31%|███       | 110/359 [00:18<00:36,  6.84it/s]\u001b[A\nOpen files to import:  31%|███       | 111/359 [00:18<00:38,  6.50it/s]\u001b[A\nOpen files to import:  31%|███       | 112/359 [00:18<00:38,  6.35it/s]\u001b[A\nOpen files to import:  31%|███▏      | 113/359 [00:18<00:38,  6.45it/s]\u001b[A\nOpen files to import:  32%|███▏      | 114/359 [00:18<00:40,  6.12it/s]\u001b[A\nOpen files to import:  32%|███▏      | 115/359 [00:19<00:38,  6.31it/s]\u001b[A\nOpen files to import:  32%|███▏      | 116/359 [00:19<00:39,  6.21it/s]\u001b[A\nOpen files to import:  33%|███▎      | 117/359 [00:19<00:39,  6.08it/s]\u001b[A\nOpen files to import:  33%|███▎      | 118/359 [00:19<00:38,  6.33it/s]\u001b[A\nOpen files to import:  33%|███▎      | 120/359 [00:19<00:35,  6.66it/s]\u001b[A\nOpen files to import:  34%|███▎      | 121/359 [00:19<00:34,  6.88it/s]\u001b[A\nOpen files to import:  34%|███▍      | 122/359 [00:20<00:40,  5.79it/s]\u001b[A\nOpen files to import:  34%|███▍      | 123/359 [00:20<00:41,  5.75it/s]\u001b[A\nOpen files to import:  35%|███▍      | 124/359 [00:20<00:36,  6.36it/s]\u001b[A\nOpen files to import:  35%|███▍      | 125/359 [00:20<00:37,  6.21it/s]\u001b[A\nOpen files to import:  35%|███▌      | 126/359 [00:20<00:36,  6.30it/s]\u001b[A\nOpen files to import:  35%|███▌      | 127/359 [00:20<00:37,  6.21it/s]\u001b[A\nOpen files to import:  36%|███▌      | 128/359 [00:21<00:39,  5.89it/s]\u001b[A\nOpen files to import:  36%|███▌      | 129/359 [00:21<00:37,  6.20it/s]\u001b[A\nOpen files to import:  36%|███▌      | 130/359 [00:21<00:39,  5.87it/s]\u001b[A\nOpen files to import:  36%|███▋      | 131/359 [00:21<00:37,  6.08it/s]\u001b[A\nOpen files to import:  37%|███▋      | 132/359 [00:21<00:36,  6.24it/s]\u001b[A\nOpen files to import:  37%|███▋      | 133/359 [00:21<00:34,  6.64it/s]\u001b[A\nOpen files to import:  37%|███▋      | 134/359 [00:22<00:32,  6.85it/s]\u001b[A\nOpen files to import:  38%|███▊      | 135/359 [00:22<00:33,  6.64it/s]\u001b[A\nOpen files to import:  38%|███▊      | 136/359 [00:22<00:36,  6.05it/s]\u001b[A\nOpen files to import:  38%|███▊      | 137/359 [00:22<00:34,  6.35it/s]\u001b[A\nOpen files to import:  38%|███▊      | 138/359 [00:22<00:37,  5.95it/s]\u001b[A\nOpen files to import:  39%|███▊      | 139/359 [00:22<00:35,  6.24it/s]\u001b[A\nOpen files to import:  39%|███▉      | 140/359 [00:23<00:35,  6.18it/s]\u001b[A\nOpen files to import:  39%|███▉      | 141/359 [00:23<00:37,  5.77it/s]\u001b[A\nOpen files to import:  40%|███▉      | 142/359 [00:23<00:41,  5.28it/s]\u001b[A\nOpen files to import:  40%|███▉      | 143/359 [00:23<00:41,  5.25it/s]\u001b[A\nOpen files to import:  40%|████      | 144/359 [00:23<00:39,  5.49it/s]\u001b[A\nOpen files to import:  40%|████      | 145/359 [00:23<00:34,  6.14it/s]\u001b[A\nOpen files to import:  41%|████      | 146/359 [00:24<00:31,  6.84it/s]\u001b[A\nOpen files to import:  41%|████      | 147/359 [00:24<00:31,  6.79it/s]\u001b[A\nOpen files to import:  41%|████      | 148/359 [00:24<00:29,  7.13it/s]\u001b[A\nOpen files to import:  42%|████▏     | 150/359 [00:24<00:25,  8.07it/s]\u001b[A\nOpen files to import:  42%|████▏     | 152/359 [00:24<00:22,  9.39it/s]\u001b[A\nOpen files to import:  43%|████▎     | 154/359 [00:24<00:23,  8.77it/s]\u001b[A\nOpen files to import:  43%|████▎     | 155/359 [00:25<00:24,  8.35it/s]\u001b[A\nOpen files to import:  43%|████▎     | 156/359 [00:25<00:28,  7.16it/s]\u001b[A\nOpen files to import:  44%|████▎     | 157/359 [00:25<00:30,  6.60it/s]\u001b[A\nOpen files to import:  44%|████▍     | 158/359 [00:25<00:33,  6.06it/s]\u001b[A\nOpen files to import:  44%|████▍     | 159/359 [00:25<00:38,  5.18it/s]\u001b[A\nOpen files to import:  45%|████▍     | 160/359 [00:26<00:43,  4.60it/s]\u001b[A\nOpen files to import:  45%|████▍     | 161/359 [00:26<00:40,  4.93it/s]\u001b[A\nOpen files to import:  45%|████▌     | 162/359 [00:26<00:37,  5.25it/s]\u001b[A\nOpen files to import:  45%|████▌     | 163/359 [00:26<00:36,  5.31it/s]\u001b[A\nOpen files to import:  46%|████▌     | 164/359 [00:26<00:33,  5.76it/s]\u001b[A\nOpen files to import:  46%|████▌     | 165/359 [00:26<00:35,  5.47it/s]\u001b[A\nOpen files to import:  46%|████▌     | 166/359 [00:27<00:33,  5.76it/s]\u001b[A\nOpen files to import:  47%|████▋     | 167/359 [00:27<00:33,  5.77it/s]\u001b[A\nOpen files to import:  47%|████▋     | 168/359 [00:27<00:33,  5.72it/s]\u001b[A\nOpen files to import:  47%|████▋     | 169/359 [00:27<00:30,  6.18it/s]\u001b[A\nOpen files to import:  47%|████▋     | 170/359 [00:27<00:30,  6.17it/s]\u001b[A\nOpen files to import:  48%|████▊     | 171/359 [00:27<00:31,  5.98it/s]\u001b[A\nOpen files to import:  48%|████▊     | 172/359 [00:28<00:30,  6.11it/s]\u001b[A\nOpen files to import:  48%|████▊     | 173/359 [00:28<00:31,  5.88it/s]\u001b[A\nOpen files to import:  48%|████▊     | 174/359 [00:28<00:30,  6.00it/s]\u001b[A\nOpen files to import:  49%|████▊     | 175/359 [00:28<00:31,  5.80it/s]\u001b[A\nOpen files to import:  49%|████▉     | 176/359 [00:28<00:29,  6.26it/s]\u001b[A\nOpen files to import:  50%|████▉     | 178/359 [00:28<00:26,  6.77it/s]\u001b[A\nOpen files to import:  50%|████▉     | 179/359 [00:29<00:28,  6.37it/s]\u001b[A\nOpen files to import:  50%|█████     | 180/359 [00:29<00:29,  6.07it/s]\u001b[A\nOpen files to import:  50%|█████     | 181/359 [00:29<00:31,  5.68it/s]\u001b[A\nOpen files to import:  51%|█████     | 182/359 [00:29<00:29,  6.05it/s]\u001b[A\nOpen files to import:  51%|█████     | 183/359 [00:29<00:29,  6.03it/s]\u001b[A\nOpen files to import:  51%|█████▏    | 184/359 [00:30<00:27,  6.25it/s]\u001b[A\nOpen files to import:  52%|█████▏    | 185/359 [00:30<00:30,  5.64it/s]\u001b[A\nOpen files to import:  52%|█████▏    | 186/359 [00:30<00:31,  5.57it/s]\u001b[A\nOpen files to import:  52%|█████▏    | 187/359 [00:30<00:28,  5.96it/s]\u001b[A\nOpen files to import:  52%|█████▏    | 188/359 [00:30<00:28,  5.90it/s]\u001b[A\nOpen files to import:  53%|█████▎    | 189/359 [00:30<00:29,  5.85it/s]\u001b[A\nOpen files to import:  53%|█████▎    | 190/359 [00:31<00:27,  6.11it/s]\u001b[A\nOpen files to import:  53%|█████▎    | 191/359 [00:31<00:25,  6.63it/s]\u001b[A\nOpen files to import:  53%|█████▎    | 192/359 [00:31<00:26,  6.25it/s]\u001b[A\nOpen files to import:  54%|█████▍    | 193/359 [00:31<00:27,  5.95it/s]\u001b[A\nOpen files to import:  54%|█████▍    | 194/359 [00:31<00:27,  6.03it/s]\u001b[A\nOpen files to import:  54%|█████▍    | 195/359 [00:31<00:26,  6.30it/s]\u001b[A\nOpen files to import:  55%|█████▍    | 196/359 [00:32<00:26,  6.17it/s]\u001b[A\nOpen files to import:  55%|█████▍    | 197/359 [00:32<00:26,  6.22it/s]\u001b[A\nOpen files to import:  55%|█████▌    | 198/359 [00:32<00:25,  6.32it/s]\u001b[A\nOpen files to import:  55%|█████▌    | 199/359 [00:32<00:27,  5.78it/s]\u001b[A\nOpen files to import:  56%|█████▌    | 200/359 [00:32<00:26,  5.96it/s]\u001b[A\nOpen files to import:  56%|█████▌    | 201/359 [00:32<00:25,  6.11it/s]\u001b[A\nOpen files to import:  56%|█████▋    | 202/359 [00:33<00:25,  6.05it/s]\u001b[A\nOpen files to import:  57%|█████▋    | 203/359 [00:33<00:24,  6.39it/s]\u001b[A\nOpen files to import:  57%|█████▋    | 204/359 [00:33<00:25,  6.11it/s]\u001b[A\nOpen files to import:  57%|█████▋    | 205/359 [00:33<00:25,  6.01it/s]\u001b[A\nOpen files to import:  57%|█████▋    | 206/359 [00:33<00:25,  6.09it/s]\u001b[A\nOpen files to import:  58%|█████▊    | 207/359 [00:33<00:25,  5.87it/s]\u001b[A\nOpen files to import:  58%|█████▊    | 208/359 [00:33<00:24,  6.18it/s]\u001b[A\nOpen files to import:  58%|█████▊    | 209/359 [00:34<00:25,  5.77it/s]\u001b[A\nOpen files to import:  58%|█████▊    | 210/359 [00:34<00:25,  5.84it/s]\u001b[A\nOpen files to import:  59%|█████▉    | 211/359 [00:34<00:27,  5.41it/s]\u001b[A\nOpen files to import:  59%|█████▉    | 212/359 [00:34<00:25,  5.74it/s]\u001b[A\nOpen files to import:  59%|█████▉    | 213/359 [00:34<00:24,  5.95it/s]\u001b[A\nOpen files to import:  60%|█████▉    | 214/359 [00:35<00:24,  5.88it/s]\u001b[A\nOpen files to import:  60%|██████    | 216/359 [00:35<00:22,  6.41it/s]\u001b[A\nOpen files to import:  60%|██████    | 217/359 [00:35<00:23,  6.04it/s]\u001b[A\nOpen files to import:  61%|██████    | 218/359 [00:35<00:22,  6.32it/s]\u001b[A\nOpen files to import:  61%|██████    | 219/359 [00:35<00:22,  6.16it/s]\u001b[A\nOpen files to import:  61%|██████▏   | 220/359 [00:35<00:22,  6.23it/s]\u001b[A\nOpen files to import:  62%|██████▏   | 221/359 [00:36<00:21,  6.44it/s]\u001b[A\nOpen files to import:  62%|██████▏   | 222/359 [00:36<00:24,  5.61it/s]\u001b[A\nOpen files to import:  62%|██████▏   | 223/359 [00:36<00:23,  5.88it/s]\u001b[A\nOpen files to import:  62%|██████▏   | 224/359 [00:36<00:23,  5.70it/s]\u001b[A\nOpen files to import:  63%|██████▎   | 225/359 [00:36<00:23,  5.64it/s]\u001b[A\nOpen files to import:  63%|██████▎   | 226/359 [00:36<00:22,  5.91it/s]\u001b[A\nOpen files to import:  63%|██████▎   | 227/359 [00:37<00:23,  5.63it/s]\u001b[A\nOpen files to import:  64%|██████▎   | 228/359 [00:37<00:22,  5.92it/s]\u001b[A\nOpen files to import:  64%|██████▍   | 229/359 [00:37<00:22,  5.90it/s]\u001b[A\nOpen files to import:  64%|██████▍   | 230/359 [00:37<00:21,  5.92it/s]\u001b[A\nOpen files to import:  64%|██████▍   | 231/359 [00:37<00:20,  6.18it/s]\u001b[A\nOpen files to import:  65%|██████▍   | 232/359 [00:37<00:20,  6.11it/s]\u001b[A\nOpen files to import:  65%|██████▍   | 233/359 [00:38<00:20,  6.17it/s]\u001b[A\nOpen files to import:  65%|██████▌   | 234/359 [00:38<00:20,  5.98it/s]\u001b[A\nOpen files to import:  65%|██████▌   | 235/359 [00:38<00:21,  5.89it/s]\u001b[A\nOpen files to import:  66%|██████▌   | 236/359 [00:38<00:19,  6.25it/s]\u001b[A\nOpen files to import:  66%|██████▌   | 237/359 [00:38<00:20,  6.01it/s]\u001b[A\nOpen files to import:  66%|██████▋   | 238/359 [00:38<00:19,  6.20it/s]\u001b[A\nOpen files to import:  67%|██████▋   | 239/359 [00:39<00:18,  6.38it/s]\u001b[A\nOpen files to import:  67%|██████▋   | 240/359 [00:39<00:19,  6.13it/s]\u001b[A\nOpen files to import:  67%|██████▋   | 241/359 [00:39<00:18,  6.31it/s]\u001b[A\nOpen files to import:  67%|██████▋   | 242/359 [00:39<00:18,  6.28it/s]\u001b[A\nOpen files to import:  68%|██████▊   | 243/359 [00:39<00:19,  5.92it/s]\u001b[A\nOpen files to import:  68%|██████▊   | 244/359 [00:39<00:19,  5.87it/s]\u001b[A\nOpen files to import:  68%|██████▊   | 245/359 [00:40<00:20,  5.63it/s]\u001b[A\nOpen files to import:  69%|██████▊   | 246/359 [00:40<00:19,  5.83it/s]\u001b[A\nOpen files to import:  69%|██████▉   | 247/359 [00:40<00:19,  5.86it/s]\u001b[A\nOpen files to import:  69%|██████▉   | 248/359 [00:40<00:18,  5.89it/s]\u001b[A\nOpen files to import:  69%|██████▉   | 249/359 [00:40<00:18,  6.09it/s]\u001b[A\nOpen files to import:  70%|██████▉   | 250/359 [00:40<00:18,  5.91it/s]\u001b[A\nOpen files to import:  70%|██████▉   | 251/359 [00:41<00:17,  6.12it/s]\u001b[A\nOpen files to import:  70%|███████   | 252/359 [00:41<00:17,  6.02it/s]\u001b[A\nOpen files to import:  70%|███████   | 253/359 [00:41<00:17,  6.02it/s]\u001b[A\nOpen files to import:  71%|███████   | 254/359 [00:41<00:17,  6.06it/s]\u001b[A\nOpen files to import:  71%|███████   | 255/359 [00:41<00:17,  5.80it/s]\u001b[A\nOpen files to import:  71%|███████▏  | 256/359 [00:42<00:17,  5.82it/s]\u001b[A\nOpen files to import:  72%|███████▏  | 257/359 [00:42<00:17,  5.84it/s]\u001b[A\nOpen files to import:  72%|███████▏  | 258/359 [00:42<00:17,  5.72it/s]\u001b[A\nOpen files to import:  72%|███████▏  | 259/359 [00:42<00:16,  6.17it/s]\u001b[A\nOpen files to import:  72%|███████▏  | 260/359 [00:42<00:17,  5.76it/s]\u001b[A\nOpen files to import:  73%|███████▎  | 261/359 [00:42<00:16,  6.08it/s]\u001b[A\nOpen files to import:  73%|███████▎  | 262/359 [00:42<00:15,  6.16it/s]\u001b[A\nOpen files to import:  73%|███████▎  | 263/359 [00:43<00:15,  6.11it/s]\u001b[A\nOpen files to import:  74%|███████▎  | 264/359 [00:43<00:15,  6.31it/s]\u001b[A\nOpen files to import:  74%|███████▍  | 265/359 [00:43<00:15,  5.88it/s]\u001b[A\nOpen files to import:  74%|███████▍  | 266/359 [00:43<00:15,  5.95it/s]\u001b[A\nOpen files to import:  74%|███████▍  | 267/359 [00:43<00:15,  6.05it/s]\u001b[A\nOpen files to import:  75%|███████▍  | 268/359 [00:43<00:14,  6.13it/s]\u001b[A\nOpen files to import:  75%|███████▍  | 269/359 [00:44<00:14,  6.30it/s]\u001b[A\nOpen files to import:  75%|███████▌  | 270/359 [00:44<00:14,  6.14it/s]\u001b[A\nOpen files to import:  75%|███████▌  | 271/359 [00:44<00:14,  6.19it/s]\u001b[A\nOpen files to import:  76%|███████▌  | 272/359 [00:44<00:13,  6.40it/s]\u001b[A\nOpen files to import:  76%|███████▌  | 273/359 [00:44<00:14,  5.95it/s]\u001b[A\nOpen files to import:  76%|███████▋  | 274/359 [00:44<00:13,  6.15it/s]\u001b[A\nOpen files to import:  77%|███████▋  | 275/359 [00:45<00:14,  5.69it/s]\u001b[A\nOpen files to import:  77%|███████▋  | 276/359 [00:45<00:14,  5.54it/s]\u001b[A\nOpen files to import:  77%|███████▋  | 277/359 [00:45<00:13,  6.00it/s]\u001b[A\nOpen files to import:  77%|███████▋  | 278/359 [00:45<00:13,  5.81it/s]\u001b[A\nOpen files to import:  78%|███████▊  | 279/359 [00:45<00:13,  6.00it/s]\u001b[A\nOpen files to import:  78%|███████▊  | 280/359 [00:45<00:12,  6.10it/s]\u001b[A\nOpen files to import:  78%|███████▊  | 281/359 [00:46<00:13,  5.84it/s]\u001b[A\nOpen files to import:  79%|███████▊  | 282/359 [00:46<00:12,  5.98it/s]\u001b[A\nOpen files to import:  79%|███████▉  | 283/359 [00:46<00:13,  5.57it/s]\u001b[A\nOpen files to import:  79%|███████▉  | 284/359 [00:46<00:13,  5.70it/s]\u001b[A\nOpen files to import:  79%|███████▉  | 285/359 [00:46<00:14,  5.20it/s]\u001b[A\nOpen files to import:  80%|███████▉  | 286/359 [00:47<00:13,  5.42it/s]\u001b[A\nOpen files to import:  80%|███████▉  | 287/359 [00:47<00:12,  5.76it/s]\u001b[A\nOpen files to import:  80%|████████  | 288/359 [00:47<00:13,  5.44it/s]\u001b[A\nOpen files to import:  81%|████████  | 290/359 [00:47<00:11,  5.94it/s]\u001b[A\nOpen files to import:  81%|████████  | 291/359 [00:47<00:12,  5.56it/s]\u001b[A\nOpen files to import:  81%|████████▏ | 292/359 [00:48<00:11,  5.88it/s]\u001b[A\nOpen files to import:  82%|████████▏ | 293/359 [00:48<00:11,  5.80it/s]\u001b[A\nOpen files to import:  82%|████████▏ | 294/359 [00:48<00:11,  5.70it/s]\u001b[A\nOpen files to import:  82%|████████▏ | 295/359 [00:48<00:10,  5.92it/s]\u001b[A\nOpen files to import:  82%|████████▏ | 296/359 [00:48<00:11,  5.58it/s]\u001b[A\nOpen files to import:  83%|████████▎ | 297/359 [00:48<00:10,  5.99it/s]\u001b[A\nOpen files to import:  83%|████████▎ | 298/359 [00:49<00:10,  5.99it/s]\u001b[A\nOpen files to import:  83%|████████▎ | 299/359 [00:49<00:10,  5.97it/s]\u001b[A\nOpen files to import:  84%|████████▎ | 300/359 [00:49<00:10,  5.90it/s]\u001b[A\nOpen files to import:  84%|████████▍ | 301/359 [00:49<00:09,  5.91it/s]\u001b[A\nOpen files to import:  84%|████████▍ | 302/359 [00:49<00:09,  6.21it/s]\u001b[A\nOpen files to import:  84%|████████▍ | 303/359 [00:49<00:09,  6.19it/s]\u001b[A\nOpen files to import:  85%|████████▍ | 304/359 [00:50<00:08,  6.15it/s]\u001b[A\nOpen files to import:  85%|████████▍ | 305/359 [00:50<00:08,  6.26it/s]\u001b[A\nOpen files to import:  85%|████████▌ | 306/359 [00:50<00:09,  5.69it/s]\u001b[A\nOpen files to import:  86%|████████▌ | 307/359 [00:50<00:09,  5.63it/s]\u001b[A\nOpen files to import:  86%|████████▌ | 308/359 [00:50<00:09,  5.59it/s]\u001b[A\nOpen files to import:  86%|████████▌ | 309/359 [00:50<00:08,  5.70it/s]\u001b[A\nOpen files to import:  86%|████████▋ | 310/359 [00:51<00:08,  6.12it/s]\u001b[A\nOpen files to import:  87%|████████▋ | 311/359 [00:51<00:08,  5.74it/s]\u001b[A\nOpen files to import:  87%|████████▋ | 312/359 [00:51<00:07,  5.92it/s]\u001b[A\nOpen files to import:  87%|████████▋ | 313/359 [00:51<00:07,  5.84it/s]\u001b[A\nOpen files to import:  87%|████████▋ | 314/359 [00:51<00:07,  5.83it/s]\u001b[A\nOpen files to import:  88%|████████▊ | 315/359 [00:51<00:07,  6.11it/s]\u001b[A\nOpen files to import:  88%|████████▊ | 316/359 [00:52<00:07,  5.80it/s]\u001b[A\nOpen files to import:  88%|████████▊ | 317/359 [00:52<00:07,  5.96it/s]\u001b[A\nOpen files to import:  89%|████████▊ | 318/359 [00:52<00:06,  5.91it/s]\u001b[A\nOpen files to import:  89%|████████▉ | 319/359 [00:52<00:06,  5.83it/s]\u001b[A\nOpen files to import:  89%|████████▉ | 320/359 [00:52<00:06,  6.07it/s]\u001b[A\nOpen files to import:  89%|████████▉ | 321/359 [00:52<00:06,  5.78it/s]\u001b[A\nOpen files to import:  90%|████████▉ | 322/359 [00:53<00:05,  6.21it/s]\u001b[A\nOpen files to import:  90%|████████▉ | 323/359 [00:53<00:06,  5.84it/s]\u001b[A\nOpen files to import:  90%|█████████ | 324/359 [00:53<00:05,  5.91it/s]\u001b[A\nOpen files to import:  91%|█████████ | 325/359 [00:53<00:05,  6.43it/s]\u001b[A\nOpen files to import:  91%|█████████ | 326/359 [00:53<00:04,  6.62it/s]\u001b[A\nOpen files to import:  91%|█████████ | 327/359 [00:53<00:04,  6.78it/s]\u001b[A\nOpen files to import:  92%|█████████▏| 329/359 [00:54<00:03,  8.16it/s]\u001b[A\nOpen files to import:  92%|█████████▏| 330/359 [00:54<00:03,  7.72it/s]\u001b[A\nOpen files to import:  92%|█████████▏| 331/359 [00:54<00:03,  7.30it/s]\u001b[A\nOpen files to import:  92%|█████████▏| 332/359 [00:54<00:04,  6.46it/s]\u001b[A\nOpen files to import:  93%|█████████▎| 333/359 [00:54<00:04,  6.03it/s]\u001b[A\nOpen files to import:  93%|█████████▎| 334/359 [00:54<00:04,  6.10it/s]\u001b[A\nOpen files to import:  93%|█████████▎| 335/359 [00:55<00:04,  5.94it/s]\u001b[A\nOpen files to import:  94%|█████████▎| 336/359 [00:55<00:03,  5.97it/s]\u001b[A\nOpen files to import:  94%|█████████▍| 337/359 [00:55<00:04,  4.64it/s]\u001b[A\nOpen files to import:  94%|█████████▍| 338/359 [00:55<00:04,  4.39it/s]\u001b[A\nOpen files to import:  94%|█████████▍| 339/359 [00:56<00:05,  3.87it/s]\u001b[A\nOpen files to import:  95%|█████████▍| 340/359 [00:56<00:04,  4.32it/s]\u001b[A\nOpen files to import:  95%|█████████▍| 341/359 [00:56<00:04,  4.36it/s]\u001b[A\nOpen files to import:  95%|█████████▌| 342/359 [00:56<00:03,  4.73it/s]\u001b[A\nOpen files to import:  96%|█████████▌| 343/359 [00:56<00:03,  4.37it/s]\u001b[A\nOpen files to import:  96%|█████████▌| 344/359 [00:57<00:03,  4.83it/s]\u001b[A\nOpen files to import:  96%|█████████▌| 345/359 [00:57<00:02,  4.85it/s]\u001b[A\nOpen files to import:  96%|█████████▋| 346/359 [00:57<00:02,  5.09it/s]\u001b[A\nOpen files to import:  97%|█████████▋| 347/359 [00:57<00:02,  5.48it/s]\u001b[A\nOpen files to import:  97%|█████████▋| 348/359 [00:57<00:02,  5.28it/s]\u001b[A\nOpen files to import:  97%|█████████▋| 349/359 [00:58<00:01,  5.56it/s]\u001b[A\nOpen files to import:  97%|█████████▋| 350/359 [00:58<00:01,  5.29it/s]\u001b[A\nOpen files to import:  98%|█████████▊| 351/359 [00:58<00:01,  5.56it/s]\u001b[A\nOpen files to import:  98%|█████████▊| 352/359 [00:58<00:01,  5.65it/s]\u001b[A\nOpen files to import:  98%|█████████▊| 353/359 [00:58<00:01,  5.43it/s]\u001b[A\nOpen files to import:  99%|█████████▊| 354/359 [00:58<00:00,  5.69it/s]\u001b[A\nOpen files to import:  99%|█████████▉| 355/359 [00:59<00:00,  5.35it/s]\u001b[A\nOpen files to import:  99%|█████████▉| 356/359 [00:59<00:00,  5.74it/s]\u001b[A\nOpen files to import: 100%|██████████| 359/359 [00:59<00:00,  6.04it/s]\nImport data from each dataset:  40%|████      | 2/5 [03:37<06:02, 120.91s/it]\nOpen files to import:   0%|          | 0/7 [00:00<?, ?it/s]\u001b[A\nOpen files to import:  14%|█▍        | 1/7 [00:00<00:01,  4.56it/s]\u001b[A\nOpen files to import:  29%|██▊       | 2/7 [00:00<00:01,  4.81it/s]\u001b[A\nOpen files to import:  43%|████▎     | 3/7 [00:00<00:00,  5.20it/s]\u001b[A\nOpen files to import:  57%|█████▋    | 4/7 [00:00<00:00,  5.01it/s]\u001b[A\nOpen files to import:  71%|███████▏  | 5/7 [00:00<00:00,  5.47it/s]\u001b[A\nOpen files to import: 100%|██████████| 7/7 [00:01<00:00,  6.02it/s]\nImport data from each dataset:  60%|██████    | 3/5 [03:39<02:50, 85.01s/it]\nOpen files to import:   0%|          | 0/4 [00:00<?, ?it/s]\u001b[AUrban Observatory data up-to-date!\n\nOpen files to import: 100%|██████████| 4/4 [00:15<00:00,  3.75s/it]\nImport data from each dataset:  80%|████████  | 4/5 [03:58<01:05, 65.31s/it]\nOpen files to import:   0%|          | 0/4 [00:00<?, ?it/s]\u001b[A\nOpen files to import: 100%|██████████| 4/4 [00:00<00:00, 13.15it/s]\nImport data from each dataset: 100%|██████████| 5/5 [03:58<00:00, 47.78s/it]\n"
    }
   ],
   "source": [
    "dataset_data = []\n",
    "for dataset in tqdm(selected_datasets, desc = \"Import data from each dataset\"):\n",
    "    dataset_data.append(import_data(dataset))"
   ]
  },
  {
   "cell_type": "code",
   "execution_count": 111,
   "metadata": {},
   "outputs": [
    {
     "output_type": "error",
     "ename": "NameError",
     "evalue": "name 'dataset_data' is not defined",
     "traceback": [
      "\u001b[1;31m---------------------------------------------------------------------------\u001b[0m",
      "\u001b[1;31mNameError\u001b[0m                                 Traceback (most recent call last)",
      "\u001b[1;32m<ipython-input-111-cf9f92914bb8>\u001b[0m in \u001b[0;36m<module>\u001b[1;34m\u001b[0m\n\u001b[1;32m----> 1\u001b[1;33m \u001b[0mall_data\u001b[0m \u001b[1;33m=\u001b[0m \u001b[0mpd\u001b[0m\u001b[1;33m.\u001b[0m\u001b[0mconcat\u001b[0m\u001b[1;33m(\u001b[0m\u001b[0mdataset_data\u001b[0m\u001b[1;33m,\u001b[0m \u001b[0maxis\u001b[0m\u001b[1;33m=\u001b[0m\u001b[1;36m0\u001b[0m\u001b[1;33m,\u001b[0m \u001b[0mignore_index\u001b[0m\u001b[1;33m=\u001b[0m\u001b[1;32mTrue\u001b[0m\u001b[1;33m,\u001b[0m \u001b[0msort\u001b[0m\u001b[1;33m=\u001b[0m\u001b[1;32mFalse\u001b[0m\u001b[1;33m)\u001b[0m\u001b[1;33m\u001b[0m\u001b[1;33m\u001b[0m\u001b[0m\n\u001b[0m\u001b[0;32m      2\u001b[0m \u001b[0mall_data\u001b[0m\u001b[1;33m.\u001b[0m\u001b[0msort_values\u001b[0m\u001b[1;33m(\u001b[0m\u001b[0mby\u001b[0m\u001b[1;33m=\u001b[0m\u001b[1;33m[\u001b[0m\u001b[1;34m'DateTime'\u001b[0m\u001b[1;33m]\u001b[0m\u001b[1;33m,\u001b[0m \u001b[0minplace\u001b[0m\u001b[1;33m=\u001b[0m\u001b[1;32mTrue\u001b[0m\u001b[1;33m)\u001b[0m\u001b[1;33m\u001b[0m\u001b[1;33m\u001b[0m\u001b[0m\n\u001b[0;32m      3\u001b[0m \u001b[0mcols\u001b[0m \u001b[1;33m=\u001b[0m \u001b[1;33m[\u001b[0m\u001b[1;34m'DateTime'\u001b[0m\u001b[1;33m]\u001b[0m  \u001b[1;33m+\u001b[0m \u001b[1;33m[\u001b[0m\u001b[0mcol\u001b[0m \u001b[1;32mfor\u001b[0m \u001b[0mcol\u001b[0m \u001b[1;32min\u001b[0m \u001b[0mall_data\u001b[0m \u001b[1;32mif\u001b[0m \u001b[0mcol\u001b[0m \u001b[1;33m!=\u001b[0m \u001b[1;34m'DateTime'\u001b[0m\u001b[1;33m]\u001b[0m\u001b[1;33m\u001b[0m\u001b[1;33m\u001b[0m\u001b[0m\n\u001b[0;32m      4\u001b[0m \u001b[0mall_data\u001b[0m \u001b[1;33m=\u001b[0m \u001b[0mall_data\u001b[0m\u001b[1;33m[\u001b[0m\u001b[0mcols\u001b[0m\u001b[1;33m]\u001b[0m\u001b[1;33m\u001b[0m\u001b[1;33m\u001b[0m\u001b[0m\n\u001b[0;32m      5\u001b[0m \u001b[0mall_data\u001b[0m \u001b[1;33m=\u001b[0m \u001b[0mall_data\u001b[0m\u001b[1;33m.\u001b[0m\u001b[0mreset_index\u001b[0m\u001b[1;33m(\u001b[0m\u001b[0mdrop\u001b[0m\u001b[1;33m=\u001b[0m\u001b[1;32mTrue\u001b[0m\u001b[1;33m)\u001b[0m\u001b[1;33m\u001b[0m\u001b[1;33m\u001b[0m\u001b[0m\n",
      "\u001b[1;31mNameError\u001b[0m: name 'dataset_data' is not defined"
     ]
    }
   ],
   "source": [
    "all_data = pd.concat(dataset_data, axis=0, ignore_index=True, sort=False)\n",
    "all_data.sort_values(by=['DateTime'], inplace=True)\n",
    "cols = ['DateTime']  + [col for col in all_data if col != 'DateTime']\n",
    "all_data = all_data[cols]\n",
    "all_data = all_data.reset_index(drop=True)\n",
    "\n",
    "del selected_datasets, cols, dataset_data, dataset"
   ]
  },
  {
   "cell_type": "code",
   "execution_count": 107,
   "metadata": {},
   "outputs": [],
   "source": [
    "with warnings.catch_warnings():\n",
    "    warnings.filterwarnings('ignore', r'All-NaN (slice|axis) encountered')\n",
    "    warnings.filterwarnings('ignore', r'Degrees of freedom <= 0 for slice.')\n",
    "    ave_cols = []\n",
    "    for col in all_data.columns[1:].to_list():\n",
    "        ave_col = info['parameters'].query('parameter == \"' + col + '\"')['parameter_ave'][0]\n",
    "        if ave_col != col:\n",
    "            if ave_col not in ave_cols:\n",
    "                cols = info['parameters'].query('parameter_ave == \"' + ave_col + '\"')['parameter'].to_list()\n",
    "                all_data[ave_col] = all_data[cols].mean(axis=1)\n",
    "                if len(cols) > 2:\n",
    "                    all_data[ave_col + \"_err\"] = np.nanstd(all_data[cols], axis=1)\n",
    "                elif len(cols) == 2:\n",
    "                    all_data[ave_col + \"_err\"] = np.abs((all_data[cols[0]] - all_data[cols[1]])/2)\n",
    "                else:\n",
    "                    all_data[ave_col + \"_err\"] = 0\n",
    "                ave_cols.append(info['parameters'].query('parameter == \"' + col + '\"')['parameter_ave'][0])\n",
    "\n",
    "del ave_col, col, ave_cols, cols"
   ]
  },
  {
   "cell_type": "code",
   "execution_count": 113,
   "metadata": {},
   "outputs": [
    {
     "output_type": "execute_result",
     "data": {
      "text/plain": "['BES_A1__V',\n 'BES_A2__V',\n 'BES_A3__V',\n 'BES_A4__V',\n 'BES_B1__V',\n 'BES_B2__V',\n 'BES_B3__V',\n 'BES_B4__V',\n 'BES_C1__V',\n 'BES_C2__V',\n 'BES_C3__V',\n 'BES_C4__V',\n 'BES_A1__C',\n 'BES_A2__C',\n 'BES_A3__C',\n 'BES_A4__C',\n 'BES_B1__C',\n 'BES_B2__C',\n 'BES_B3__C',\n 'BES_B4__C',\n 'BES_C1__C',\n 'BES_C2__C',\n 'BES_C3__C',\n 'BES_C4__C',\n 'BES_A_SUM__V',\n 'BES_B_SUM__V',\n 'BES_C_SUM__V',\n 'BES_A_SUM__C',\n 'BES_B_SUM__C',\n 'BES_C_SUM__C',\n 'REXT_A1',\n 'REXT_A2',\n 'REXT_A3',\n 'REXT_A4',\n 'REXT_B1',\n 'REXT_B2',\n 'REXT_B3',\n 'REXT_B4',\n 'REXT_C1',\n 'REXT_C2',\n 'REXT_C3',\n 'REXT_C4',\n 'PUMP_SP',\n 'PUMP_FR',\n 'TEMP_SP',\n 'TEMP_OS',\n 'TEMP_BES_A',\n 'TEMP_BES_B',\n 'TEMP_BES_C',\n 'TEMP_BOX',\n 'TEMP_AMB',\n 'TEMP_HOSE_A',\n 'TEMP_HOSE_B',\n 'TEMP_HOSE_C',\n 'TEMP_MAT_1',\n 'TEMP_MAT_2',\n 'TEMP_MAT_3',\n 'PRESSURE_OS',\n 'PRESSURE_A',\n 'PRESSURE_B',\n 'PRESSURE_C',\n 'SENSOR_pH',\n 'SENSOR_CONDUCTIVITY',\n 'SENSOR_TILT',\n 'Inlet_pH',\n 'Inlet_DO',\n 'NWL_BOD5',\n 'NWL_Cd',\n 'NWL_tCOD',\n 'NWL_Fe_total',\n 'NWL_Nitrate',\n 'NWL_Nitrite',\n 'NWL_N_Ammon',\n 'NWL_Oil',\n 'NWL_Phosphate',\n 'NWL_P_total',\n 'NWL_SSe',\n 'NWL_SSu',\n 'NWL_pH',\n 'WU_Temp',\n 'EA_Uplevel',\n 'EA_Downlevel',\n 'WU_Rainfall',\n 'BES_1__V_ave',\n 'BES_2__V_ave',\n 'BES_3__V_ave',\n 'BES_4__V_ave',\n 'BES_1__C_ave',\n 'BES_2__C_ave',\n 'BES_3__C_ave',\n 'BES_4__C_ave',\n 'BES_SUM__V_ave',\n 'BES_SUM__C_ave',\n 'REXT_1_ave',\n 'REXT_2_ave',\n 'REXT_3_ave',\n 'REXT_4_ave',\n 'TEMP_BES_ave',\n 'TEMP_MAT_ave',\n 'TEMP_HOSE_ave',\n 'PRESSURE_BES_ave',\n 'Inlet_Temp_ave',\n 'BOD5_ave',\n 'tCOD_ave',\n 'sCOD_ave',\n 'BES_1__V_ave_err',\n 'BES_2__V_ave_err',\n 'BES_3__V_ave_err',\n 'BES_4__V_ave_err',\n 'BES_1__C_ave_err',\n 'BES_2__C_ave_err',\n 'BES_3__C_ave_err',\n 'BES_4__C_ave_err',\n 'BES_SUM__V_ave_err',\n 'BES_SUM__C_ave_err',\n 'REXT_1_ave_err',\n 'REXT_2_ave_err',\n 'REXT_3_ave_err',\n 'REXT_4_ave_err',\n 'TEMP_BES_ave_err',\n 'TEMP_MAT_ave_err',\n 'TEMP_HOSE_ave_err',\n 'PRESSURE_BES_ave_err',\n 'Inlet_Temp_ave_err',\n 'BOD5_ave_err',\n 'tCOD_ave_err',\n 'sCOD_ave_err']"
     },
     "metadata": {},
     "execution_count": 113
    }
   ],
   "source": [
    "ave_pars = list(info['parameters_ave'][selected_ave]['parameter_ave'].values)\n",
    "err_pars = [ave_par + \"_err\" for ave_par in ave_pars]\n",
    "\n",
    "selected_pars = list(info['parameters'][selected]['parameter'].values) + ave_pars + err_pars\n",
    "\n",
    "del selected, selected_ave, ave_pars, err_pars"
   ]
  },
  {
   "cell_type": "code",
   "execution_count": 114,
   "metadata": {},
   "outputs": [
    {
     "output_type": "execute_result",
     "data": {
      "text/plain": "                        DateTime  BES_A1__V  BES_A2__V  BES_A3__V  BES_A4__V  \\\n0      2019-06-04 13:03:45+00:00       44.0      219.2      213.0      221.8   \n1      2019-06-04 13:04:45+00:00       95.1      231.7      244.1      221.9   \n2      2019-06-04 13:05:45+00:00       64.9      217.5      225.8      222.2   \n3      2019-06-04 13:06:45+00:00       58.9      217.3      217.9      220.2   \n4      2019-06-04 13:07:45+00:00       58.9      208.6      217.5      221.2   \n...                          ...        ...        ...        ...        ...   \n410020 2020-02-17 14:04:20+00:00       48.4       34.8       23.8       25.3   \n410021 2020-02-17 14:05:20+00:00       48.1       34.8       23.2       25.2   \n410022 2020-02-17 14:06:20+00:00       48.1       34.8       23.1       25.2   \n410023 2020-02-17 14:07:20+00:00       48.0       35.2       23.5       25.1   \n410024 2020-02-17 14:08:20+00:00       48.3       35.0       23.9       25.7   \n\n        BES_B1__V  BES_B2__V  BES_B3__V  BES_B4__V  BES_C1__V  ...  \\\n0           288.2      289.0      328.2      329.1      245.9  ...   \n1           288.6      282.9      325.6      327.3      274.5  ...   \n2           288.4      289.3      329.5      329.5      248.4  ...   \n3           293.2      290.5      330.3      329.6      248.8  ...   \n4           297.8      291.0      330.4      329.7      248.6  ...   \n...           ...        ...        ...        ...        ...  ...   \n410020       61.6       28.2       17.1       16.7       44.8  ...   \n410021       61.3       27.9       16.8       16.3       44.7  ...   \n410022       61.6       28.0       17.0       16.3       45.0  ...   \n410023       61.6       28.3       17.1       16.8       45.1  ...   \n410024       61.6       28.0       17.5       16.9       45.2  ...   \n\n        REXT_3_ave_err  REXT_4_ave_err  TEMP_BES_ave_err  TEMP_MAT_ave_err  \\\n0                  NaN             NaN          0.294392          2.160247   \n1                  NaN             NaN          0.339935          2.054805   \n2                  NaN             NaN          0.385861          1.414214   \n3                  NaN             NaN          0.385861          2.054805   \n4                  NaN             NaN          0.309121          2.054805   \n...                ...             ...               ...               ...   \n410020             0.0             0.0          0.047140          7.788881   \n410021             0.0             0.0          0.081650          7.760298   \n410022             0.0             0.0          0.169967          7.788881   \n410023             0.0             0.0          0.262467          7.788881   \n410024             0.0             0.0          0.124722          7.788881   \n\n        TEMP_HOSE_ave_err  PRESSURE_BES_ave_err  Inlet_Temp_ave_err  \\\n0                0.471405              3.299832                 NaN   \n1                1.699673              3.299832                 NaN   \n2                1.414214              3.299832                 NaN   \n3                0.942809              3.299832                 NaN   \n4                0.816497              3.299832                 NaN   \n...                   ...                   ...                 ...   \n410020           3.091206              5.249339                 NaN   \n410021           3.399346              5.185450                 NaN   \n410022           3.559026              4.921608                 NaN   \n410023           2.828427              4.898979                 NaN   \n410024           3.299832              5.715476                 NaN   \n\n        BOD5_ave_err  tCOD_ave_err  sCOD_ave_err  \n0                NaN           NaN           NaN  \n1                NaN           NaN           NaN  \n2                NaN           NaN           NaN  \n3                NaN           NaN           NaN  \n4                NaN           NaN           NaN  \n...              ...           ...           ...  \n410020           NaN           NaN           NaN  \n410021           NaN           NaN           NaN  \n410022           NaN           NaN           NaN  \n410023           NaN           NaN           NaN  \n410024           NaN           NaN           NaN  \n\n[410025 rows x 128 columns]",
      "text/html": "<div>\n<style scoped>\n    .dataframe tbody tr th:only-of-type {\n        vertical-align: middle;\n    }\n\n    .dataframe tbody tr th {\n        vertical-align: top;\n    }\n\n    .dataframe thead th {\n        text-align: right;\n    }\n</style>\n<table border=\"1\" class=\"dataframe\">\n  <thead>\n    <tr style=\"text-align: right;\">\n      <th></th>\n      <th>DateTime</th>\n      <th>BES_A1__V</th>\n      <th>BES_A2__V</th>\n      <th>BES_A3__V</th>\n      <th>BES_A4__V</th>\n      <th>BES_B1__V</th>\n      <th>BES_B2__V</th>\n      <th>BES_B3__V</th>\n      <th>BES_B4__V</th>\n      <th>BES_C1__V</th>\n      <th>...</th>\n      <th>REXT_3_ave_err</th>\n      <th>REXT_4_ave_err</th>\n      <th>TEMP_BES_ave_err</th>\n      <th>TEMP_MAT_ave_err</th>\n      <th>TEMP_HOSE_ave_err</th>\n      <th>PRESSURE_BES_ave_err</th>\n      <th>Inlet_Temp_ave_err</th>\n      <th>BOD5_ave_err</th>\n      <th>tCOD_ave_err</th>\n      <th>sCOD_ave_err</th>\n    </tr>\n  </thead>\n  <tbody>\n    <tr>\n      <th>0</th>\n      <td>2019-06-04 13:03:45+00:00</td>\n      <td>44.0</td>\n      <td>219.2</td>\n      <td>213.0</td>\n      <td>221.8</td>\n      <td>288.2</td>\n      <td>289.0</td>\n      <td>328.2</td>\n      <td>329.1</td>\n      <td>245.9</td>\n      <td>...</td>\n      <td>NaN</td>\n      <td>NaN</td>\n      <td>0.294392</td>\n      <td>2.160247</td>\n      <td>0.471405</td>\n      <td>3.299832</td>\n      <td>NaN</td>\n      <td>NaN</td>\n      <td>NaN</td>\n      <td>NaN</td>\n    </tr>\n    <tr>\n      <th>1</th>\n      <td>2019-06-04 13:04:45+00:00</td>\n      <td>95.1</td>\n      <td>231.7</td>\n      <td>244.1</td>\n      <td>221.9</td>\n      <td>288.6</td>\n      <td>282.9</td>\n      <td>325.6</td>\n      <td>327.3</td>\n      <td>274.5</td>\n      <td>...</td>\n      <td>NaN</td>\n      <td>NaN</td>\n      <td>0.339935</td>\n      <td>2.054805</td>\n      <td>1.699673</td>\n      <td>3.299832</td>\n      <td>NaN</td>\n      <td>NaN</td>\n      <td>NaN</td>\n      <td>NaN</td>\n    </tr>\n    <tr>\n      <th>2</th>\n      <td>2019-06-04 13:05:45+00:00</td>\n      <td>64.9</td>\n      <td>217.5</td>\n      <td>225.8</td>\n      <td>222.2</td>\n      <td>288.4</td>\n      <td>289.3</td>\n      <td>329.5</td>\n      <td>329.5</td>\n      <td>248.4</td>\n      <td>...</td>\n      <td>NaN</td>\n      <td>NaN</td>\n      <td>0.385861</td>\n      <td>1.414214</td>\n      <td>1.414214</td>\n      <td>3.299832</td>\n      <td>NaN</td>\n      <td>NaN</td>\n      <td>NaN</td>\n      <td>NaN</td>\n    </tr>\n    <tr>\n      <th>3</th>\n      <td>2019-06-04 13:06:45+00:00</td>\n      <td>58.9</td>\n      <td>217.3</td>\n      <td>217.9</td>\n      <td>220.2</td>\n      <td>293.2</td>\n      <td>290.5</td>\n      <td>330.3</td>\n      <td>329.6</td>\n      <td>248.8</td>\n      <td>...</td>\n      <td>NaN</td>\n      <td>NaN</td>\n      <td>0.385861</td>\n      <td>2.054805</td>\n      <td>0.942809</td>\n      <td>3.299832</td>\n      <td>NaN</td>\n      <td>NaN</td>\n      <td>NaN</td>\n      <td>NaN</td>\n    </tr>\n    <tr>\n      <th>4</th>\n      <td>2019-06-04 13:07:45+00:00</td>\n      <td>58.9</td>\n      <td>208.6</td>\n      <td>217.5</td>\n      <td>221.2</td>\n      <td>297.8</td>\n      <td>291.0</td>\n      <td>330.4</td>\n      <td>329.7</td>\n      <td>248.6</td>\n      <td>...</td>\n      <td>NaN</td>\n      <td>NaN</td>\n      <td>0.309121</td>\n      <td>2.054805</td>\n      <td>0.816497</td>\n      <td>3.299832</td>\n      <td>NaN</td>\n      <td>NaN</td>\n      <td>NaN</td>\n      <td>NaN</td>\n    </tr>\n    <tr>\n      <th>...</th>\n      <td>...</td>\n      <td>...</td>\n      <td>...</td>\n      <td>...</td>\n      <td>...</td>\n      <td>...</td>\n      <td>...</td>\n      <td>...</td>\n      <td>...</td>\n      <td>...</td>\n      <td>...</td>\n      <td>...</td>\n      <td>...</td>\n      <td>...</td>\n      <td>...</td>\n      <td>...</td>\n      <td>...</td>\n      <td>...</td>\n      <td>...</td>\n      <td>...</td>\n      <td>...</td>\n    </tr>\n    <tr>\n      <th>410020</th>\n      <td>2020-02-17 14:04:20+00:00</td>\n      <td>48.4</td>\n      <td>34.8</td>\n      <td>23.8</td>\n      <td>25.3</td>\n      <td>61.6</td>\n      <td>28.2</td>\n      <td>17.1</td>\n      <td>16.7</td>\n      <td>44.8</td>\n      <td>...</td>\n      <td>0.0</td>\n      <td>0.0</td>\n      <td>0.047140</td>\n      <td>7.788881</td>\n      <td>3.091206</td>\n      <td>5.249339</td>\n      <td>NaN</td>\n      <td>NaN</td>\n      <td>NaN</td>\n      <td>NaN</td>\n    </tr>\n    <tr>\n      <th>410021</th>\n      <td>2020-02-17 14:05:20+00:00</td>\n      <td>48.1</td>\n      <td>34.8</td>\n      <td>23.2</td>\n      <td>25.2</td>\n      <td>61.3</td>\n      <td>27.9</td>\n      <td>16.8</td>\n      <td>16.3</td>\n      <td>44.7</td>\n      <td>...</td>\n      <td>0.0</td>\n      <td>0.0</td>\n      <td>0.081650</td>\n      <td>7.760298</td>\n      <td>3.399346</td>\n      <td>5.185450</td>\n      <td>NaN</td>\n      <td>NaN</td>\n      <td>NaN</td>\n      <td>NaN</td>\n    </tr>\n    <tr>\n      <th>410022</th>\n      <td>2020-02-17 14:06:20+00:00</td>\n      <td>48.1</td>\n      <td>34.8</td>\n      <td>23.1</td>\n      <td>25.2</td>\n      <td>61.6</td>\n      <td>28.0</td>\n      <td>17.0</td>\n      <td>16.3</td>\n      <td>45.0</td>\n      <td>...</td>\n      <td>0.0</td>\n      <td>0.0</td>\n      <td>0.169967</td>\n      <td>7.788881</td>\n      <td>3.559026</td>\n      <td>4.921608</td>\n      <td>NaN</td>\n      <td>NaN</td>\n      <td>NaN</td>\n      <td>NaN</td>\n    </tr>\n    <tr>\n      <th>410023</th>\n      <td>2020-02-17 14:07:20+00:00</td>\n      <td>48.0</td>\n      <td>35.2</td>\n      <td>23.5</td>\n      <td>25.1</td>\n      <td>61.6</td>\n      <td>28.3</td>\n      <td>17.1</td>\n      <td>16.8</td>\n      <td>45.1</td>\n      <td>...</td>\n      <td>0.0</td>\n      <td>0.0</td>\n      <td>0.262467</td>\n      <td>7.788881</td>\n      <td>2.828427</td>\n      <td>4.898979</td>\n      <td>NaN</td>\n      <td>NaN</td>\n      <td>NaN</td>\n      <td>NaN</td>\n    </tr>\n    <tr>\n      <th>410024</th>\n      <td>2020-02-17 14:08:20+00:00</td>\n      <td>48.3</td>\n      <td>35.0</td>\n      <td>23.9</td>\n      <td>25.7</td>\n      <td>61.6</td>\n      <td>28.0</td>\n      <td>17.5</td>\n      <td>16.9</td>\n      <td>45.2</td>\n      <td>...</td>\n      <td>0.0</td>\n      <td>0.0</td>\n      <td>0.124722</td>\n      <td>7.788881</td>\n      <td>3.299832</td>\n      <td>5.715476</td>\n      <td>NaN</td>\n      <td>NaN</td>\n      <td>NaN</td>\n      <td>NaN</td>\n    </tr>\n  </tbody>\n</table>\n<p>410025 rows × 128 columns</p>\n</div>"
     },
     "metadata": {},
     "execution_count": 114
    }
   ],
   "source": [
    "all_data = all_data[[\"DateTime\"]+ selected_pars]"
   ]
  },
  {
   "cell_type": "code",
   "execution_count": null,
   "metadata": {},
   "outputs": [],
   "source": [
    "chart_dfs = []\n",
    "for chart in tqdm(charts, desc = \"Assign data to chart DFs\"):\n",
    "    if info['charts'].loc[chart, 'chart_status'] == 'ON':\n",
    "        mask = (all_data['DateTime'] >= info['charts'].loc[chart, 'chart_range_start']) & (all_data['DateTime'] <= info['charts'].loc[chart, 'chart_range_end'])\n",
    "        df = all_data.loc[mask]\n",
    "        if info['charts'].loc[chart, 'chart_res'] != 0:\n",
    "            df = df.resample(\"\".join([str(info['charts'].loc[chart, 'chart_res']), 'T']), on='DateTime').mean()\n",
    "            df = df.reset_index()\n",
    "        else:\n",
    "            df = df.reset_index(drop=True)\n",
    "        chart_dfs.append(df)\n",
    "    else:\n",
    "        chart_dfs.append(\"\")\n",
    "\n",
    "del df, chart, mask, all_data"
   ]
  },
  {
   "cell_type": "code",
   "execution_count": null,
   "metadata": {},
   "outputs": [],
   "source": [
    "#Create plot dictionary\n",
    "plot_dict = dict(zip(info['parameters']['parameter'], info['parameters']['plot']))\n",
    "plot_dict2 = dict(zip(info['parameters_ave']['parameter_ave'], info['parameters_ave']['plot']))\n",
    "plot_dict.update(plot_dict2)\n",
    "\n",
    "chart_dfs_mlt = []\n",
    "for chart in charts:\n",
    "    if info['charts'].loc[chart, 'chart_status'] == 'ON':\n",
    "        data_cols = []\n",
    "        err_cols = [\"DateTime\"]\n",
    "\n",
    "        criteria = chart_dfs[chart].isna().all()\n",
    "        wide_data = chart_dfs[chart][criteria.index[-criteria]]\n",
    "\n",
    "        for col in wide_data.columns:\n",
    "            if not \"_err\" in col:\n",
    "                data_cols.append(col)\n",
    "            else:\n",
    "                err_cols.append(col)\n",
    "\n",
    "        df = wide_data[data_cols].melt(id_vars=['DateTime'], var_name='Parameter', value_name='Value')\n",
    "        df_err = wide_data[err_cols].melt(id_vars=['DateTime'], var_name='Parameter', value_name='Error')\n",
    "        \n",
    "        df = df.set_index(['DateTime', 'Parameter', df.groupby(['DateTime', 'Parameter']).cumcount()])\n",
    "        df_err['Parameter'] = df_err['Parameter'].str.replace(r'_err', '')\n",
    "        df_err = df_err.set_index(['DateTime', 'Parameter', df_err.groupby(['DateTime', 'Parameter']).cumcount()])\n",
    "        \n",
    "        df3 = (pd.concat([df, df_err],axis=1)\n",
    "        .sort_index(level=2)\n",
    "        .reset_index(level=2, drop=True)\n",
    "        .reset_index())\n",
    "        df3.sort_values(by=['DateTime', 'Parameter'], inplace=True)\n",
    "\n",
    "        #Assign plots\n",
    "        df3.loc[:,'Plot'] = df3['Parameter'].map(plot_dict)\n",
    "\n",
    "        chart_dfs_mlt.append(df3)\n",
    "    else:\n",
    "        chart_dfs_mlt.append(pd.DataFrame())\n",
    "\n",
    "del chart, data_cols, err_cols, col, df, df_err, df3, chart_dfs, plot_dict, plot_dict2, wide_data, criteria"
   ]
  },
  {
   "cell_type": "code",
   "execution_count": null,
   "metadata": {},
   "outputs": [],
   "source": [
    "chart_dfs_mlt"
   ]
  },
  {
   "cell_type": "code",
   "execution_count": null,
   "metadata": {},
   "outputs": [],
   "source": [
    "plot_pars = []\n",
    "for chart in charts:\n",
    "    if info['charts'].loc[chart, 'chart_status'] == 'ON':\n",
    "        par_info1 = info['parameters'][info['parameters']['parameter'].isin(chart_dfs_mlt[chart].Parameter.unique())].drop(columns=[\"code\", \"parameter_ave\"])\n",
    "        par_info2 = info['parameters_ave'][info['parameters_ave']['parameter_ave'].isin(chart_dfs_mlt[chart].Parameter.unique())].rename(columns={\"parameter_ave\": \"parameter\"})\n",
    "        par_info_all = (par_info1.append(par_info2)).query('selected_chart_' + str(chart) + ' == 1')\n",
    "\n",
    "        #Convert colour id to rgb string\n",
    "        par_info_all['colour'].replace(info['colours']['rgb_str'].to_dict(), inplace=True)\n",
    "        par_info_all['fill'].replace(info['colours']['rgb_str'].to_dict(), inplace=True)\n",
    "\n",
    "        #Set defaults for NAs\n",
    "        par_info_all['colour'].fillna(info['colours'].query(\"theme == 'dark'\")['rgb_str'].to_list()[0], inplace=True)\n",
    "        par_info_all['fill'].fillna(info['colours'].query(\"theme == 'dark'\")['rgb_str'].to_list()[0], inplace=True)\n",
    "        par_info_all['shape'].fillna(1, inplace=True)\n",
    "        par_info_all['line_type'].fillna(\"solid\", inplace=True)\n",
    "        par_info_all['show_in_legend'].fillna(True, inplace=True)\n",
    "        \n",
    "        plot_pars.append(par_info_all)\n",
    "    else:\n",
    "        plot_pars.append(pd.DataFrame())\n",
    "plot_pars\n",
    "\n",
    "del chart, par_info1, par_info2, par_info_all"
   ]
  },
  {
   "cell_type": "code",
   "execution_count": null,
   "metadata": {},
   "outputs": [],
   "source": [
    "#Export data to temp files\n",
    "if not os.path.exists(\"images\"):\n",
    "    os.mkdir(\"imaTemp_Data\n",
    "for A in info:\n",
    "    info[A].to_csv(\"Temp_Data/info_\" + str(A) + \".csv\", encoding='utf-8')\n",
    "for i, A in enumerate(chart_dfs_mlt):\n",
    "    A.to_csv(\"Temp_Data/chart_dfs_mlt_\" + str(i) + \".csv\", encoding='utf-8', index=False)\n",
    "for i, A in enumerate(plot_pars):\n",
    "    A.to_csv(\"Temp_Data/plot_pars_\" + str(i) + \".csv\", encoding='utf-8')"
   ]
  }
 ],
 "metadata": {
  "kernelspec": {
   "display_name": "Python 3",
   "language": "python",
   "name": "python3"
  },
  "language_info": {
   "codemirror_mode": {
    "name": "ipython",
    "version": 3
   },
   "file_extension": ".py",
   "mimetype": "text/x-python",
   "name": "python",
   "nbconvert_exporter": "python",
   "pygments_lexer": "ipython3",
   "version": "3.7.3-final"
  },
  "varInspector": {
   "cols": {
    "lenName": 16,
    "lenType": 16,
    "lenVar": 40
   },
   "kernels_config": {
    "python": {
     "delete_cmd_postfix": "",
     "delete_cmd_prefix": "del ",
     "library": "var_list.py",
     "varRefreshCmd": "print(var_dic_list())"
    },
    "r": {
     "delete_cmd_postfix": ") ",
     "delete_cmd_prefix": "rm(",
     "library": "var_list.r",
     "varRefreshCmd": "cat(var_dic_list()) "
    }
   },
   "position": {
    "height": "250px",
    "left": "1330px",
    "right": "20px",
    "top": "109px",
    "width": "575px"
   },
   "types_to_exclude": [
    "module",
    "function",
    "builtin_function_or_method",
    "instance",
    "_Feature"
   ],
   "window_display": true
  }
 },
 "nbformat": 4,
 "nbformat_minor": 4
}