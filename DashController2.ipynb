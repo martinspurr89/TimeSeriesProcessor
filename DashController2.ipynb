{
 "cells": [
  {
   "cell_type": "markdown",
   "execution_count": null,
   "metadata": {},
   "outputs": [],
   "source": [
    "![ToOL-PRO-BES.png](Info/ToOL-PRO-BES.png)"
   ]
  },
  {
   "cell_type": "markdown",
   "execution_count": null,
   "metadata": {},
   "outputs": [],
   "source": [
    "## Import packages"
   ]
  },
  {
   "cell_type": "code",
   "execution_count": 43,
   "metadata": {},
   "outputs": [],
   "source": [
    "import pandas as pd\n",
    "from tqdm.autonotebook import trange, tqdm\n",
    "\n",
    "from plotly.subplots import make_subplots\n",
    "import plotly.graph_objects as go\n",
    "import datetime\n",
    "from datetime import datetime, timedelta, timezone\n",
    "from pytz import timezone\n",
    "\n",
    "import os\n",
    "import re\n",
    "\n",
    "import dash\n",
    "import dash_core_components as dcc\n",
    "import dash_bootstrap_components as dbc\n",
    "import dash_html_components as html\n",
    "from dash.dependencies import Input, Output, State\n",
    "import time\n",
    "import numpy as np\n",
    "import math\n",
    "import seaborn as sns\n",
    "\n",
    "import requests\n",
    "import io\n",
    "import warnings"
   ]
  },
  {
   "cell_type": "markdown",
   "execution_count": null,
   "metadata": {},
   "outputs": [],
   "source": [
    "## Setup from Info.xlsx"
   ]
  },
  {
   "cell_type": "code",
   "execution_count": 44,
   "metadata": {},
   "outputs": [
    {
     "name": "stdout",
     "output_type": "stream",
     "text": "setup | datasets | charts | plots | parameters | parameters_ave | colours\n"
    }
   ],
   "source": [
    "info = pd.read_excel(\"Info/Info.xlsx\", sheet_name=None, index_col=0)\n",
    "print(*info.keys(), sep = \" | \")"
   ]
  },
  {
   "cell_type": "markdown",
   "execution_count": null,
   "metadata": {},
   "outputs": [],
   "source": [
    "## Functions"
   ]
  },
  {
   "cell_type": "code",
   "execution_count": 45,
   "metadata": {},
   "outputs": [
    {
     "data": {
      "text/html": "<div>\n<style scoped>\n    .dataframe tbody tr th:only-of-type {\n        vertical-align: middle;\n    }\n\n    .dataframe tbody tr th {\n        vertical-align: top;\n    }\n\n    .dataframe thead th {\n        text-align: right;\n    }\n</style>\n<table border=\"1\" class=\"dataframe\">\n  <thead>\n    <tr style=\"text-align: right;\">\n      <th></th>\n      <th>value</th>\n    </tr>\n    <tr>\n      <th>id</th>\n      <th></th>\n    </tr>\n  </thead>\n  <tbody>\n    <tr>\n      <th>project</th>\n      <td>ToOLTuBES v2</td>\n    </tr>\n    <tr>\n      <th>date_start_utc</th>\n      <td>2019-06-04 13:03:17</td>\n    </tr>\n    <tr>\n      <th>date_end_utc</th>\n      <td>2020-02-26 09:30:16.541359+00:00</td>\n    </tr>\n  </tbody>\n</table>\n</div>",
      "text/plain": "                                           value\nid                                              \nproject                             ToOLTuBES v2\ndate_start_utc               2019-06-04 13:03:17\ndate_end_utc    2020-02-26 09:30:16.541359+00:00"
     },
     "execution_count": 45,
     "metadata": {},
     "output_type": "execute_result"
    }
   ],
   "source": [
    "# Date Functions\n",
    "def set_date(date_str, old_tz, dt_format = \"%d/%m/%Y %H:%M:%S\"):\n",
    "    if date_str == 'NaT':\n",
    "        return pd.NaT\n",
    "    else:\n",
    "        datetime_set_naive = datetime.strptime(date_str, dt_format)\n",
    "        datetime_set_old = timezone(old_tz).localize(datetime_set_naive)\n",
    "        datetime_set_utc = datetime_set_old.astimezone(timezone('UTC'))\n",
    "        return datetime_set_utc\n",
    "\n",
    "def date_parser(date_, time_, dt_format = \"%d/%m/%Y %H:%M:%S\"):\n",
    "    return set_date(date_ + \" \" + time_, 'UTC', dt_format)\n",
    "\n",
    "def date_parserYMD(date_, time_, dt_format = \"%Y-%m-%d %H:%M:%S\"):\n",
    "    return set_date(date_ + \" \" + time_, 'UTC', dt_format)\n",
    "\n",
    "\n",
    "# Experiment start/end date\n",
    "date_start = set_date(str(info['setup'].loc['date_start_utc','value']), \"UTC\", \"%Y-%m-%d %H:%M:%S\")\n",
    "if pd.isna(info['setup'].loc['date_end_utc','value']):\n",
    "    date_now = datetime.now(timezone('UTC'))\n",
    "    info['setup'].loc['date_end_utc','value'] = date_now\n",
    "else:\n",
    "    date_now = set_date(str(info['setup'].loc['date_end_utc','value']), \"UTC\", \"%Y-%m-%d %H:%M:%S\")\n",
    "\n",
    "# Date Functions continued\n",
    "def date_range(window=-1, start=date_start, end=date_now):\n",
    "    if pd.isna(start):\n",
    "        start = date_start\n",
    "    if pd.isna(end):\n",
    "        end = date_now\n",
    "    if window != -1:\n",
    "        if not pd.isna(window):\n",
    "            start = end - timedelta(days=window)\n",
    "    return start, end\n",
    "\n",
    "info['setup']"
   ]
  },
  {
   "cell_type": "markdown",
   "execution_count": null,
   "metadata": {},
   "outputs": [],
   "source": [
    "## Process Information sheets from Info.xlsx\n",
    "\n",
    "### Datasets:"
   ]
  },
  {
   "cell_type": "code",
   "execution_count": 46,
   "metadata": {},
   "outputs": [
    {
     "data": {
      "text/html": "<div>\n<style scoped>\n    .dataframe tbody tr th:only-of-type {\n        vertical-align: middle;\n    }\n\n    .dataframe tbody tr th {\n        vertical-align: top;\n    }\n\n    .dataframe thead th {\n        text-align: right;\n    }\n</style>\n<table border=\"1\" class=\"dataframe\">\n  <thead>\n    <tr style=\"text-align: right;\">\n      <th></th>\n      <th>folder</th>\n      <th>selection</th>\n      <th>melt</th>\n      <th>data_folder_path</th>\n      <th>supp_data_filepath</th>\n      <th>file_pat</th>\n      <th>skiprows</th>\n      <th>Slim</th>\n      <th>Del_unit_rows</th>\n      <th>Add_blank_rows</th>\n    </tr>\n    <tr>\n      <th>dataset</th>\n      <th></th>\n      <th></th>\n      <th></th>\n      <th></th>\n      <th></th>\n      <th></th>\n      <th></th>\n      <th></th>\n      <th></th>\n      <th></th>\n    </tr>\n  </thead>\n  <tbody>\n    <tr>\n      <th>UO</th>\n      <td>1</td>\n      <td>UO.wide</td>\n      <td>UO.wide</td>\n      <td>C:/Users/nms198/Google Drive/ToOLTuBES/LAB/Dat...</td>\n      <td>C:/Users/nms198/Google Drive/ToOLTuBES/LAB/Dat...</td>\n      <td>.csv</td>\n      <td>0</td>\n      <td>1.0</td>\n      <td>NaN</td>\n      <td>1.0</td>\n    </tr>\n    <tr>\n      <th>NWL</th>\n      <td>1</td>\n      <td>NWL</td>\n      <td>NWL</td>\n      <td>C:/Users/nms198/Google Drive/ToOLTuBES/LAB/Dat...</td>\n      <td>NaN</td>\n      <td>.xlsx</td>\n      <td>2</td>\n      <td>NaN</td>\n      <td>1.0</td>\n      <td>NaN</td>\n    </tr>\n    <tr>\n      <th>Skid</th>\n      <td>1</td>\n      <td>Skid</td>\n      <td>Skid.ave</td>\n      <td>C:/Users/nms198/Google Drive/BEWISE_shared/Ski...</td>\n      <td>NaN</td>\n      <td>.CSV</td>\n      <td>2</td>\n      <td>NaN</td>\n      <td>NaN</td>\n      <td>1.0</td>\n    </tr>\n    <tr>\n      <th>Skid</th>\n      <td>2</td>\n      <td>Skid</td>\n      <td>Skid.ave</td>\n      <td>C:/Users/nms198/Google Drive/BEWISE_shared/Ski...</td>\n      <td>NaN</td>\n      <td>.CSV</td>\n      <td>3</td>\n      <td>NaN</td>\n      <td>NaN</td>\n      <td>1.0</td>\n    </tr>\n    <tr>\n      <th>SampLog</th>\n      <td>1</td>\n      <td>SampLog.wide</td>\n      <td>SampLog.wide.ave</td>\n      <td>C:/Users/nms198/Google Drive/BEWISE_shared/Sam...</td>\n      <td>NaN</td>\n      <td>.csv</td>\n      <td>0</td>\n      <td>1.0</td>\n      <td>NaN</td>\n      <td>NaN</td>\n    </tr>\n    <tr>\n      <th>Sensor</th>\n      <td>1</td>\n      <td>SENSOR</td>\n      <td>SENSOR</td>\n      <td>C:/Users/nms198/Google Drive/ToOLTuBESv2/LAB/T...</td>\n      <td>NaN</td>\n      <td>\\d\\d_\\d\\d_\\d\\d\\d\\d\\.csv</td>\n      <td>0</td>\n      <td>NaN</td>\n      <td>NaN</td>\n      <td>NaN</td>\n    </tr>\n    <tr>\n      <th>Events</th>\n      <td>1</td>\n      <td>EV.wide</td>\n      <td>EV.ave</td>\n      <td>C:/Users/nms198/Google Drive/ToOLTuBESv2/LAB/T...</td>\n      <td>C:/Users/nms198/Google Drive/ToOLTuBESv2/LAB/T...</td>\n      <td>.csv</td>\n      <td>0</td>\n      <td>NaN</td>\n      <td>NaN</td>\n      <td>NaN</td>\n    </tr>\n  </tbody>\n</table>\n</div>",
      "text/plain": "         folder     selection              melt  \\\ndataset                                           \nUO            1       UO.wide           UO.wide   \nNWL           1           NWL               NWL   \nSkid          1          Skid          Skid.ave   \nSkid          2          Skid          Skid.ave   \nSampLog       1  SampLog.wide  SampLog.wide.ave   \nSensor        1        SENSOR            SENSOR   \nEvents        1       EV.wide            EV.ave   \n\n                                          data_folder_path  \\\ndataset                                                      \nUO       C:/Users/nms198/Google Drive/ToOLTuBES/LAB/Dat...   \nNWL      C:/Users/nms198/Google Drive/ToOLTuBES/LAB/Dat...   \nSkid     C:/Users/nms198/Google Drive/BEWISE_shared/Ski...   \nSkid     C:/Users/nms198/Google Drive/BEWISE_shared/Ski...   \nSampLog  C:/Users/nms198/Google Drive/BEWISE_shared/Sam...   \nSensor   C:/Users/nms198/Google Drive/ToOLTuBESv2/LAB/T...   \nEvents   C:/Users/nms198/Google Drive/ToOLTuBESv2/LAB/T...   \n\n                                        supp_data_filepath  \\\ndataset                                                      \nUO       C:/Users/nms198/Google Drive/ToOLTuBES/LAB/Dat...   \nNWL                                                    NaN   \nSkid                                                   NaN   \nSkid                                                   NaN   \nSampLog                                                NaN   \nSensor                                                 NaN   \nEvents   C:/Users/nms198/Google Drive/ToOLTuBESv2/LAB/T...   \n\n                        file_pat  skiprows  Slim  Del_unit_rows  \\\ndataset                                                           \nUO                          .csv         0   1.0            NaN   \nNWL                        .xlsx         2   NaN            1.0   \nSkid                        .CSV         2   NaN            NaN   \nSkid                        .CSV         3   NaN            NaN   \nSampLog                     .csv         0   1.0            NaN   \nSensor   \\d\\d_\\d\\d_\\d\\d\\d\\d\\.csv         0   NaN            NaN   \nEvents                      .csv         0   NaN            NaN   \n\n         Add_blank_rows  \ndataset                  \nUO                  1.0  \nNWL                 NaN  \nSkid                1.0  \nSkid                1.0  \nSampLog             NaN  \nSensor              NaN  \nEvents              NaN  "
     },
     "execution_count": 46,
     "metadata": {},
     "output_type": "execute_result"
    }
   ],
   "source": [
    "info['datasets']"
   ]
  },
  {
   "cell_type": "markdown",
   "execution_count": null,
   "metadata": {},
   "outputs": [],
   "source": [
    "### Chartxs:"
   ]
  },
  {
   "cell_type": "code",
   "execution_count": 47,
   "metadata": {},
   "outputs": [
    {
     "data": {
      "text/html": "<div>\n<style scoped>\n    .dataframe tbody tr th:only-of-type {\n        vertical-align: middle;\n    }\n\n    .dataframe tbody tr th {\n        vertical-align: top;\n    }\n\n    .dataframe thead th {\n        text-align: right;\n    }\n</style>\n<table border=\"1\" class=\"dataframe\">\n  <thead>\n    <tr style=\"text-align: right;\">\n      <th></th>\n      <th>chart</th>\n      <th>chart_status</th>\n      <th>chart_res</th>\n      <th>chart_range_window</th>\n      <th>chart_range_start</th>\n      <th>chart_range_end</th>\n      <th>chart_label</th>\n    </tr>\n    <tr>\n      <th>order</th>\n      <th></th>\n      <th></th>\n      <th></th>\n      <th></th>\n      <th></th>\n      <th></th>\n      <th></th>\n    </tr>\n  </thead>\n  <tbody>\n    <tr>\n      <th>0</th>\n      <td>high</td>\n      <td>ON</td>\n      <td>0</td>\n      <td>3 days, 0:00:00</td>\n      <td>2020-02-23 09:30:16.541359+00:00</td>\n      <td>2020-02-26 09:30:16.541359+00:00</td>\n      <td>High Resolution</td>\n    </tr>\n    <tr>\n      <th>1</th>\n      <td>med</td>\n      <td>ON</td>\n      <td>5</td>\n      <td>14 days, 0:00:00</td>\n      <td>2020-02-12 09:30:16.541359+00:00</td>\n      <td>2020-02-26 09:30:16.541359+00:00</td>\n      <td>Medium Resolution</td>\n    </tr>\n    <tr>\n      <th>2</th>\n      <td>low</td>\n      <td>ON</td>\n      <td>120</td>\n      <td>266 days, 20:26:59.541359</td>\n      <td>2019-06-04 13:03:17+00:00</td>\n      <td>2020-02-26 09:30:16.541359+00:00</td>\n      <td>Low Resolution</td>\n    </tr>\n    <tr>\n      <th>3</th>\n      <td>low_ave</td>\n      <td>ON</td>\n      <td>120</td>\n      <td>266 days, 20:26:59.541359</td>\n      <td>2019-06-04 13:03:17+00:00</td>\n      <td>2020-02-26 09:30:16.541359+00:00</td>\n      <td>Low Resolution (average)</td>\n    </tr>\n    <tr>\n      <th>4</th>\n      <td>custom1</td>\n      <td>OFF</td>\n      <td>0</td>\n      <td>1 day, 0:00:00</td>\n      <td>2019-06-04 13:03:17+00:00</td>\n      <td>2019-06-05 13:03:17+00:00</td>\n      <td>Custom Chart</td>\n    </tr>\n  </tbody>\n</table>\n</div>",
      "text/plain": "         chart chart_status  chart_res         chart_range_window  \\\norder                                                               \n0         high           ON          0            3 days, 0:00:00   \n1          med           ON          5           14 days, 0:00:00   \n2          low           ON        120  266 days, 20:26:59.541359   \n3      low_ave           ON        120  266 days, 20:26:59.541359   \n4      custom1          OFF          0             1 day, 0:00:00   \n\n                      chart_range_start                   chart_range_end  \\\norder                                                                       \n0      2020-02-23 09:30:16.541359+00:00  2020-02-26 09:30:16.541359+00:00   \n1      2020-02-12 09:30:16.541359+00:00  2020-02-26 09:30:16.541359+00:00   \n2             2019-06-04 13:03:17+00:00  2020-02-26 09:30:16.541359+00:00   \n3             2019-06-04 13:03:17+00:00  2020-02-26 09:30:16.541359+00:00   \n4             2019-06-04 13:03:17+00:00         2019-06-05 13:03:17+00:00   \n\n                    chart_label  \norder                            \n0               High Resolution  \n1             Medium Resolution  \n2                Low Resolution  \n3      Low Resolution (average)  \n4                  Custom Chart  "
     },
     "execution_count": 47,
     "metadata": {},
     "output_type": "execute_result"
    }
   ],
   "source": [
    "charts = []\n",
    "for chart, row in info['charts'].iterrows():\n",
    "    chart_range = date_range(window = row['chart_range_window'], start = set_date(str(row['chart_range_start']), \"UTC\", \"%Y-%m-%d %H:%M:%S\"), end = set_date(str(row['chart_range_end']), \"UTC\", \"%Y-%m-%d %H:%M:%S\"))\n",
    "    info['charts'].loc[chart, 'chart_range_start'] = chart_range[0]\n",
    "    info['charts'].loc[chart, 'chart_range_end'] = chart_range[1]\n",
    "    info['charts'].loc[chart, 'chart_range_window'] = chart_range[1] - chart_range[0]\n",
    "    charts.append(chart)\n",
    "\n",
    "del chart, chart_range, row\n",
    "\n",
    "info['charts']"
   ]
  },
  {
   "cell_type": "markdown",
   "execution_count": null,
   "metadata": {},
   "outputs": [],
   "source": [
    "### Parameters:"
   ]
  },
  {
   "cell_type": "code",
   "execution_count": 48,
   "metadata": {},
   "outputs": [
    {
     "data": {
      "text/html": "<div>\n<style scoped>\n    .dataframe tbody tr th:only-of-type {\n        vertical-align: middle;\n    }\n\n    .dataframe tbody tr th {\n        vertical-align: top;\n    }\n\n    .dataframe thead th {\n        text-align: right;\n    }\n</style>\n<table border=\"1\" class=\"dataframe\">\n  <thead>\n    <tr style=\"text-align: right;\">\n      <th></th>\n      <th>code</th>\n      <th>parameter</th>\n      <th>parameter_ave</th>\n      <th>parameter_lab</th>\n      <th>plot</th>\n      <th>line</th>\n      <th>ribbon</th>\n      <th>bar</th>\n      <th>point</th>\n      <th>colour</th>\n      <th>fill</th>\n      <th>shape</th>\n      <th>line_type</th>\n      <th>bar_order</th>\n      <th>show_in_legend</th>\n      <th>selected_chart_0</th>\n      <th>selected_chart_1</th>\n      <th>selected_chart_2</th>\n      <th>selected_chart_3</th>\n    </tr>\n    <tr>\n      <th>dataset</th>\n      <th></th>\n      <th></th>\n      <th></th>\n      <th></th>\n      <th></th>\n      <th></th>\n      <th></th>\n      <th></th>\n      <th></th>\n      <th></th>\n      <th></th>\n      <th></th>\n      <th></th>\n      <th></th>\n      <th></th>\n      <th></th>\n      <th></th>\n      <th></th>\n      <th></th>\n    </tr>\n  </thead>\n  <tbody>\n    <tr>\n      <th>Sensor</th>\n      <td>A1 V</td>\n      <td>BES_A1__V</td>\n      <td>BES_1__V_ave</td>\n      <td>BES 1A</td>\n      <td>BES_VA</td>\n      <td>True</td>\n      <td>False</td>\n      <td>False</td>\n      <td>False</td>\n      <td>0.0</td>\n      <td>0.0</td>\n      <td>NaN</td>\n      <td>solid</td>\n      <td>NaN</td>\n      <td>True</td>\n      <td>1</td>\n      <td>1</td>\n      <td>1</td>\n      <td>1</td>\n    </tr>\n    <tr>\n      <th>Sensor</th>\n      <td>A2 V</td>\n      <td>BES_A2__V</td>\n      <td>BES_2__V_ave</td>\n      <td>BES 2A</td>\n      <td>BES_VA</td>\n      <td>True</td>\n      <td>False</td>\n      <td>False</td>\n      <td>False</td>\n      <td>3.0</td>\n      <td>3.0</td>\n      <td>NaN</td>\n      <td>solid</td>\n      <td>NaN</td>\n      <td>True</td>\n      <td>1</td>\n      <td>1</td>\n      <td>1</td>\n      <td>1</td>\n    </tr>\n    <tr>\n      <th>Sensor</th>\n      <td>A3 V</td>\n      <td>BES_A3__V</td>\n      <td>BES_3__V_ave</td>\n      <td>BES 3A</td>\n      <td>BES_VA</td>\n      <td>True</td>\n      <td>False</td>\n      <td>False</td>\n      <td>False</td>\n      <td>5.0</td>\n      <td>5.0</td>\n      <td>NaN</td>\n      <td>solid</td>\n      <td>NaN</td>\n      <td>True</td>\n      <td>1</td>\n      <td>1</td>\n      <td>1</td>\n      <td>1</td>\n    </tr>\n    <tr>\n      <th>Sensor</th>\n      <td>A4 V</td>\n      <td>BES_A4__V</td>\n      <td>BES_4__V_ave</td>\n      <td>BES 4A</td>\n      <td>BES_VA</td>\n      <td>True</td>\n      <td>False</td>\n      <td>False</td>\n      <td>False</td>\n      <td>6.0</td>\n      <td>6.0</td>\n      <td>NaN</td>\n      <td>solid</td>\n      <td>NaN</td>\n      <td>True</td>\n      <td>1</td>\n      <td>1</td>\n      <td>1</td>\n      <td>1</td>\n    </tr>\n    <tr>\n      <th>Sensor</th>\n      <td>B1 V</td>\n      <td>BES_B1__V</td>\n      <td>BES_1__V_ave</td>\n      <td>BES 1B</td>\n      <td>BES_VB</td>\n      <td>True</td>\n      <td>False</td>\n      <td>False</td>\n      <td>False</td>\n      <td>0.0</td>\n      <td>0.0</td>\n      <td>NaN</td>\n      <td>longdash</td>\n      <td>NaN</td>\n      <td>True</td>\n      <td>1</td>\n      <td>1</td>\n      <td>1</td>\n      <td>1</td>\n    </tr>\n    <tr>\n      <th>...</th>\n      <td>...</td>\n      <td>...</td>\n      <td>...</td>\n      <td>...</td>\n      <td>...</td>\n      <td>...</td>\n      <td>...</td>\n      <td>...</td>\n      <td>...</td>\n      <td>...</td>\n      <td>...</td>\n      <td>...</td>\n      <td>...</td>\n      <td>...</td>\n      <td>...</td>\n      <td>...</td>\n      <td>...</td>\n      <td>...</td>\n      <td>...</td>\n    </tr>\n    <tr>\n      <th>Events</th>\n      <td>HOSE_B_STATUS</td>\n      <td>HOSE_B_STATUS_EV</td>\n      <td>HOSE_B_STATUS_EV</td>\n      <td>Heated Hose B Status EV</td>\n      <td>TEMP_EVENT</td>\n      <td>True</td>\n      <td>False</td>\n      <td>False</td>\n      <td>False</td>\n      <td>NaN</td>\n      <td>NaN</td>\n      <td>NaN</td>\n      <td>NaN</td>\n      <td>NaN</td>\n      <td>True</td>\n      <td>0</td>\n      <td>0</td>\n      <td>0</td>\n      <td>0</td>\n    </tr>\n    <tr>\n      <th>Events</th>\n      <td>HOSE_C_STATUS</td>\n      <td>HOSE_C_STATUS_EV</td>\n      <td>HOSE_C_STATUS_EV</td>\n      <td>Heated Hose C Status EV</td>\n      <td>TEMP_EVENT</td>\n      <td>True</td>\n      <td>False</td>\n      <td>False</td>\n      <td>False</td>\n      <td>NaN</td>\n      <td>NaN</td>\n      <td>NaN</td>\n      <td>NaN</td>\n      <td>NaN</td>\n      <td>True</td>\n      <td>0</td>\n      <td>0</td>\n      <td>0</td>\n      <td>0</td>\n    </tr>\n    <tr>\n      <th>Events</th>\n      <td>TILT_SP</td>\n      <td>TILT_SP_EV</td>\n      <td>TILT_SP_EV</td>\n      <td>Enclosure Tilt Set Point EV</td>\n      <td>PRESSURE</td>\n      <td>True</td>\n      <td>False</td>\n      <td>False</td>\n      <td>False</td>\n      <td>NaN</td>\n      <td>NaN</td>\n      <td>NaN</td>\n      <td>NaN</td>\n      <td>NaN</td>\n      <td>True</td>\n      <td>0</td>\n      <td>0</td>\n      <td>0</td>\n      <td>0</td>\n    </tr>\n    <tr>\n      <th>Events</th>\n      <td>TILT_AUTO</td>\n      <td>TILT_AUTO_EV</td>\n      <td>TILT_AUTO_EV</td>\n      <td>Enclosure Tilt Automated EV</td>\n      <td>STATUS</td>\n      <td>True</td>\n      <td>False</td>\n      <td>False</td>\n      <td>False</td>\n      <td>NaN</td>\n      <td>NaN</td>\n      <td>NaN</td>\n      <td>NaN</td>\n      <td>NaN</td>\n      <td>True</td>\n      <td>0</td>\n      <td>0</td>\n      <td>0</td>\n      <td>0</td>\n    </tr>\n    <tr>\n      <th>Events</th>\n      <td>WAKEUP</td>\n      <td>WAKEUP_EV</td>\n      <td>WAKEUP_EV</td>\n      <td>Wakeup from Restart EV</td>\n      <td>STATUS</td>\n      <td>True</td>\n      <td>False</td>\n      <td>False</td>\n      <td>False</td>\n      <td>6.0</td>\n      <td>6.0</td>\n      <td>NaN</td>\n      <td>solid</td>\n      <td>3.0</td>\n      <td>True</td>\n      <td>0</td>\n      <td>0</td>\n      <td>0</td>\n      <td>0</td>\n    </tr>\n  </tbody>\n</table>\n<p>152 rows × 19 columns</p>\n</div>",
      "text/plain": "                  code         parameter     parameter_ave  \\\ndataset                                                      \nSensor            A1 V         BES_A1__V      BES_1__V_ave   \nSensor            A2 V         BES_A2__V      BES_2__V_ave   \nSensor            A3 V         BES_A3__V      BES_3__V_ave   \nSensor            A4 V         BES_A4__V      BES_4__V_ave   \nSensor            B1 V         BES_B1__V      BES_1__V_ave   \n...                ...               ...               ...   \nEvents   HOSE_B_STATUS  HOSE_B_STATUS_EV  HOSE_B_STATUS_EV   \nEvents   HOSE_C_STATUS  HOSE_C_STATUS_EV  HOSE_C_STATUS_EV   \nEvents         TILT_SP        TILT_SP_EV        TILT_SP_EV   \nEvents       TILT_AUTO      TILT_AUTO_EV      TILT_AUTO_EV   \nEvents          WAKEUP         WAKEUP_EV         WAKEUP_EV   \n\n                       parameter_lab        plot  line  ribbon    bar  point  \\\ndataset                                                                        \nSensor                        BES 1A      BES_VA  True   False  False  False   \nSensor                        BES 2A      BES_VA  True   False  False  False   \nSensor                        BES 3A      BES_VA  True   False  False  False   \nSensor                        BES 4A      BES_VA  True   False  False  False   \nSensor                        BES 1B      BES_VB  True   False  False  False   \n...                              ...         ...   ...     ...    ...    ...   \nEvents       Heated Hose B Status EV  TEMP_EVENT  True   False  False  False   \nEvents       Heated Hose C Status EV  TEMP_EVENT  True   False  False  False   \nEvents   Enclosure Tilt Set Point EV    PRESSURE  True   False  False  False   \nEvents   Enclosure Tilt Automated EV      STATUS  True   False  False  False   \nEvents        Wakeup from Restart EV      STATUS  True   False  False  False   \n\n         colour  fill  shape line_type  bar_order  show_in_legend  \\\ndataset                                                             \nSensor      0.0   0.0    NaN     solid        NaN            True   \nSensor      3.0   3.0    NaN     solid        NaN            True   \nSensor      5.0   5.0    NaN     solid        NaN            True   \nSensor      6.0   6.0    NaN     solid        NaN            True   \nSensor      0.0   0.0    NaN  longdash        NaN            True   \n...         ...   ...    ...       ...        ...             ...   \nEvents      NaN   NaN    NaN       NaN        NaN            True   \nEvents      NaN   NaN    NaN       NaN        NaN            True   \nEvents      NaN   NaN    NaN       NaN        NaN            True   \nEvents      NaN   NaN    NaN       NaN        NaN            True   \nEvents      6.0   6.0    NaN     solid        3.0            True   \n\n         selected_chart_0  selected_chart_1  selected_chart_2  \\\ndataset                                                         \nSensor                  1                 1                 1   \nSensor                  1                 1                 1   \nSensor                  1                 1                 1   \nSensor                  1                 1                 1   \nSensor                  1                 1                 1   \n...                   ...               ...               ...   \nEvents                  0                 0                 0   \nEvents                  0                 0                 0   \nEvents                  0                 0                 0   \nEvents                  0                 0                 0   \nEvents                  0                 0                 0   \n\n         selected_chart_3  \ndataset                    \nSensor                  1  \nSensor                  1  \nSensor                  1  \nSensor                  1  \nSensor                  1  \n...                   ...  \nEvents                  0  \nEvents                  0  \nEvents                  0  \nEvents                  0  \nEvents                  0  \n\n[152 rows x 19 columns]"
     },
     "execution_count": 48,
     "metadata": {},
     "output_type": "execute_result"
    }
   ],
   "source": [
    "info['parameters']"
   ]
  },
  {
   "cell_type": "code",
   "execution_count": 49,
   "metadata": {},
   "outputs": [
    {
     "data": {
      "text/html": "<div>\n<style scoped>\n    .dataframe tbody tr th:only-of-type {\n        vertical-align: middle;\n    }\n\n    .dataframe tbody tr th {\n        vertical-align: top;\n    }\n\n    .dataframe thead th {\n        text-align: right;\n    }\n</style>\n<table border=\"1\" class=\"dataframe\">\n  <thead>\n    <tr style=\"text-align: right;\">\n      <th></th>\n      <th>parameter_ave</th>\n      <th>parameter_lab</th>\n      <th>plot</th>\n      <th>line</th>\n      <th>ribbon</th>\n      <th>bar</th>\n      <th>point</th>\n      <th>colour</th>\n      <th>fill</th>\n      <th>shape</th>\n      <th>line_type</th>\n      <th>bar_order</th>\n      <th>show_in_legend</th>\n      <th>selected_chart_0</th>\n      <th>selected_chart_1</th>\n      <th>selected_chart_2</th>\n      <th>selected_chart_3</th>\n    </tr>\n    <tr>\n      <th>dataset</th>\n      <th></th>\n      <th></th>\n      <th></th>\n      <th></th>\n      <th></th>\n      <th></th>\n      <th></th>\n      <th></th>\n      <th></th>\n      <th></th>\n      <th></th>\n      <th></th>\n      <th></th>\n      <th></th>\n      <th></th>\n      <th></th>\n      <th></th>\n    </tr>\n  </thead>\n  <tbody>\n    <tr>\n      <th>Sensor</th>\n      <td>BES_1__V_ave</td>\n      <td>BES 1</td>\n      <td>BES_V</td>\n      <td>True</td>\n      <td>True</td>\n      <td>False</td>\n      <td>False</td>\n      <td>0</td>\n      <td>0</td>\n      <td>NaN</td>\n      <td>solid</td>\n      <td>NaN</td>\n      <td>True</td>\n      <td>0</td>\n      <td>0</td>\n      <td>0</td>\n      <td>1</td>\n    </tr>\n    <tr>\n      <th>Sensor</th>\n      <td>BES_2__V_ave</td>\n      <td>BES 2</td>\n      <td>BES_V</td>\n      <td>True</td>\n      <td>True</td>\n      <td>False</td>\n      <td>False</td>\n      <td>3</td>\n      <td>3</td>\n      <td>NaN</td>\n      <td>solid</td>\n      <td>NaN</td>\n      <td>True</td>\n      <td>0</td>\n      <td>0</td>\n      <td>0</td>\n      <td>1</td>\n    </tr>\n    <tr>\n      <th>Sensor</th>\n      <td>BES_3__V_ave</td>\n      <td>BES 3</td>\n      <td>BES_V</td>\n      <td>True</td>\n      <td>True</td>\n      <td>False</td>\n      <td>False</td>\n      <td>5</td>\n      <td>5</td>\n      <td>NaN</td>\n      <td>solid</td>\n      <td>NaN</td>\n      <td>True</td>\n      <td>0</td>\n      <td>0</td>\n      <td>0</td>\n      <td>1</td>\n    </tr>\n    <tr>\n      <th>Sensor</th>\n      <td>BES_4__V_ave</td>\n      <td>BES 4</td>\n      <td>BES_V</td>\n      <td>True</td>\n      <td>True</td>\n      <td>False</td>\n      <td>False</td>\n      <td>6</td>\n      <td>6</td>\n      <td>NaN</td>\n      <td>solid</td>\n      <td>NaN</td>\n      <td>True</td>\n      <td>0</td>\n      <td>0</td>\n      <td>0</td>\n      <td>1</td>\n    </tr>\n    <tr>\n      <th>Sensor</th>\n      <td>BES_1__C_ave</td>\n      <td>BES 1</td>\n      <td>BES_C</td>\n      <td>True</td>\n      <td>True</td>\n      <td>False</td>\n      <td>False</td>\n      <td>0</td>\n      <td>0</td>\n      <td>NaN</td>\n      <td>solid</td>\n      <td>NaN</td>\n      <td>True</td>\n      <td>0</td>\n      <td>0</td>\n      <td>0</td>\n      <td>1</td>\n    </tr>\n    <tr>\n      <th>Sensor</th>\n      <td>BES_2__C_ave</td>\n      <td>BES 2</td>\n      <td>BES_C</td>\n      <td>True</td>\n      <td>True</td>\n      <td>False</td>\n      <td>False</td>\n      <td>3</td>\n      <td>3</td>\n      <td>NaN</td>\n      <td>solid</td>\n      <td>NaN</td>\n      <td>True</td>\n      <td>0</td>\n      <td>0</td>\n      <td>0</td>\n      <td>1</td>\n    </tr>\n    <tr>\n      <th>Sensor</th>\n      <td>BES_3__C_ave</td>\n      <td>BES 3</td>\n      <td>BES_C</td>\n      <td>True</td>\n      <td>True</td>\n      <td>False</td>\n      <td>False</td>\n      <td>5</td>\n      <td>5</td>\n      <td>NaN</td>\n      <td>solid</td>\n      <td>NaN</td>\n      <td>True</td>\n      <td>0</td>\n      <td>0</td>\n      <td>0</td>\n      <td>1</td>\n    </tr>\n    <tr>\n      <th>Sensor</th>\n      <td>BES_4__C_ave</td>\n      <td>BES 4</td>\n      <td>BES_C</td>\n      <td>True</td>\n      <td>True</td>\n      <td>False</td>\n      <td>False</td>\n      <td>6</td>\n      <td>6</td>\n      <td>NaN</td>\n      <td>solid</td>\n      <td>NaN</td>\n      <td>True</td>\n      <td>0</td>\n      <td>0</td>\n      <td>0</td>\n      <td>1</td>\n    </tr>\n    <tr>\n      <th>Sensor</th>\n      <td>BES_SUM__V_ave</td>\n      <td>∑ [BESs]</td>\n      <td>BES_V</td>\n      <td>True</td>\n      <td>True</td>\n      <td>False</td>\n      <td>False</td>\n      <td>29</td>\n      <td>29</td>\n      <td>NaN</td>\n      <td>solid</td>\n      <td>NaN</td>\n      <td>True</td>\n      <td>0</td>\n      <td>0</td>\n      <td>0</td>\n      <td>1</td>\n    </tr>\n    <tr>\n      <th>Sensor</th>\n      <td>BES_SUM__C_ave</td>\n      <td>∑ [BESs]</td>\n      <td>BES_C</td>\n      <td>True</td>\n      <td>True</td>\n      <td>False</td>\n      <td>False</td>\n      <td>29</td>\n      <td>29</td>\n      <td>NaN</td>\n      <td>solid</td>\n      <td>NaN</td>\n      <td>True</td>\n      <td>0</td>\n      <td>0</td>\n      <td>0</td>\n      <td>1</td>\n    </tr>\n    <tr>\n      <th>Sensor</th>\n      <td>REXT_1_ave</td>\n      <td>BES 1 R&lt;sub&gt;Ext&lt;/sub&gt;</td>\n      <td>REXT</td>\n      <td>True</td>\n      <td>True</td>\n      <td>False</td>\n      <td>False</td>\n      <td>0</td>\n      <td>0</td>\n      <td>NaN</td>\n      <td>solid</td>\n      <td>NaN</td>\n      <td>True</td>\n      <td>0</td>\n      <td>0</td>\n      <td>0</td>\n      <td>1</td>\n    </tr>\n    <tr>\n      <th>Sensor</th>\n      <td>REXT_2_ave</td>\n      <td>BES 2 R&lt;sub&gt;Ext&lt;/sub&gt;</td>\n      <td>REXT</td>\n      <td>True</td>\n      <td>True</td>\n      <td>False</td>\n      <td>False</td>\n      <td>3</td>\n      <td>3</td>\n      <td>NaN</td>\n      <td>solid</td>\n      <td>NaN</td>\n      <td>True</td>\n      <td>0</td>\n      <td>0</td>\n      <td>0</td>\n      <td>1</td>\n    </tr>\n    <tr>\n      <th>Sensor</th>\n      <td>REXT_3_ave</td>\n      <td>BES 3 R&lt;sub&gt;Ext&lt;/sub&gt;</td>\n      <td>REXT</td>\n      <td>True</td>\n      <td>True</td>\n      <td>False</td>\n      <td>False</td>\n      <td>5</td>\n      <td>5</td>\n      <td>NaN</td>\n      <td>solid</td>\n      <td>NaN</td>\n      <td>True</td>\n      <td>0</td>\n      <td>0</td>\n      <td>0</td>\n      <td>1</td>\n    </tr>\n    <tr>\n      <th>Sensor</th>\n      <td>REXT_4_ave</td>\n      <td>BES 4 R&lt;sub&gt;Ext&lt;/sub&gt;</td>\n      <td>REXT</td>\n      <td>True</td>\n      <td>True</td>\n      <td>False</td>\n      <td>False</td>\n      <td>6</td>\n      <td>6</td>\n      <td>NaN</td>\n      <td>solid</td>\n      <td>NaN</td>\n      <td>True</td>\n      <td>0</td>\n      <td>0</td>\n      <td>0</td>\n      <td>1</td>\n    </tr>\n    <tr>\n      <th>Sensor</th>\n      <td>OCP_1_ave</td>\n      <td>BES 1</td>\n      <td>OCP</td>\n      <td>True</td>\n      <td>True</td>\n      <td>False</td>\n      <td>False</td>\n      <td>0</td>\n      <td>0</td>\n      <td>NaN</td>\n      <td>solid</td>\n      <td>4.0</td>\n      <td>True</td>\n      <td>0</td>\n      <td>0</td>\n      <td>0</td>\n      <td>0</td>\n    </tr>\n    <tr>\n      <th>Sensor</th>\n      <td>OCP_2_ave</td>\n      <td>BES 2</td>\n      <td>OCP</td>\n      <td>True</td>\n      <td>True</td>\n      <td>False</td>\n      <td>False</td>\n      <td>3</td>\n      <td>3</td>\n      <td>NaN</td>\n      <td>solid</td>\n      <td>3.0</td>\n      <td>True</td>\n      <td>0</td>\n      <td>0</td>\n      <td>0</td>\n      <td>0</td>\n    </tr>\n    <tr>\n      <th>Sensor</th>\n      <td>OCP_3_ave</td>\n      <td>BES 3</td>\n      <td>OCP</td>\n      <td>True</td>\n      <td>True</td>\n      <td>False</td>\n      <td>False</td>\n      <td>5</td>\n      <td>5</td>\n      <td>NaN</td>\n      <td>solid</td>\n      <td>2.0</td>\n      <td>True</td>\n      <td>0</td>\n      <td>0</td>\n      <td>0</td>\n      <td>0</td>\n    </tr>\n    <tr>\n      <th>Sensor</th>\n      <td>OCP_4_ave</td>\n      <td>BES 4</td>\n      <td>OCP</td>\n      <td>True</td>\n      <td>True</td>\n      <td>False</td>\n      <td>False</td>\n      <td>6</td>\n      <td>6</td>\n      <td>NaN</td>\n      <td>solid</td>\n      <td>1.0</td>\n      <td>True</td>\n      <td>0</td>\n      <td>0</td>\n      <td>0</td>\n      <td>0</td>\n    </tr>\n    <tr>\n      <th>Sensor</th>\n      <td>TEMP_BES_ave</td>\n      <td>Heated Water Temp</td>\n      <td>TEMP</td>\n      <td>True</td>\n      <td>True</td>\n      <td>False</td>\n      <td>False</td>\n      <td>3</td>\n      <td>3</td>\n      <td>NaN</td>\n      <td>solid</td>\n      <td>NaN</td>\n      <td>True</td>\n      <td>0</td>\n      <td>0</td>\n      <td>0</td>\n      <td>1</td>\n    </tr>\n    <tr>\n      <th>Sensor</th>\n      <td>TEMP_MAT_ave</td>\n      <td>Heated Mats Temp</td>\n      <td>TEMP_PROCESS</td>\n      <td>True</td>\n      <td>True</td>\n      <td>False</td>\n      <td>False</td>\n      <td>2</td>\n      <td>2</td>\n      <td>NaN</td>\n      <td>solid</td>\n      <td>NaN</td>\n      <td>True</td>\n      <td>0</td>\n      <td>0</td>\n      <td>0</td>\n      <td>1</td>\n    </tr>\n    <tr>\n      <th>Sensor</th>\n      <td>TEMP_HOSE_ave</td>\n      <td>Heated Hoses Temp</td>\n      <td>TEMP_PROCESS</td>\n      <td>True</td>\n      <td>True</td>\n      <td>False</td>\n      <td>False</td>\n      <td>3</td>\n      <td>3</td>\n      <td>NaN</td>\n      <td>solid</td>\n      <td>NaN</td>\n      <td>True</td>\n      <td>0</td>\n      <td>0</td>\n      <td>0</td>\n      <td>1</td>\n    </tr>\n    <tr>\n      <th>Sensor</th>\n      <td>PRESSURE_BES_ave</td>\n      <td>BES Pressure</td>\n      <td>PRESSURE</td>\n      <td>True</td>\n      <td>True</td>\n      <td>False</td>\n      <td>False</td>\n      <td>4</td>\n      <td>4</td>\n      <td>NaN</td>\n      <td>solid</td>\n      <td>NaN</td>\n      <td>True</td>\n      <td>0</td>\n      <td>0</td>\n      <td>0</td>\n      <td>1</td>\n    </tr>\n    <tr>\n      <th>Sensor</th>\n      <td>SENSOR_HOSE_STATUS_ave</td>\n      <td>Heated Hoses Status</td>\n      <td>TEMP_EVENT</td>\n      <td>True</td>\n      <td>True</td>\n      <td>False</td>\n      <td>False</td>\n      <td>3</td>\n      <td>3</td>\n      <td>NaN</td>\n      <td>solid</td>\n      <td>1.0</td>\n      <td>True</td>\n      <td>0</td>\n      <td>0</td>\n      <td>0</td>\n      <td>0</td>\n    </tr>\n    <tr>\n      <th>Skid</th>\n      <td>Inlet_Temp_ave</td>\n      <td>Pipe Temp (BE:WISE)</td>\n      <td>TEMP</td>\n      <td>True</td>\n      <td>True</td>\n      <td>False</td>\n      <td>False</td>\n      <td>0</td>\n      <td>0</td>\n      <td>NaN</td>\n      <td>longdash</td>\n      <td>NaN</td>\n      <td>True</td>\n      <td>1</td>\n      <td>1</td>\n      <td>1</td>\n      <td>1</td>\n    </tr>\n    <tr>\n      <th>SampLog</th>\n      <td>BOD5_ave</td>\n      <td>Feed BOD₅</td>\n      <td>BOD</td>\n      <td>True</td>\n      <td>False</td>\n      <td>False</td>\n      <td>True</td>\n      <td>4</td>\n      <td>14</td>\n      <td>21.0</td>\n      <td>solid</td>\n      <td>NaN</td>\n      <td>True</td>\n      <td>1</td>\n      <td>1</td>\n      <td>1</td>\n      <td>1</td>\n    </tr>\n    <tr>\n      <th>SampLog</th>\n      <td>tCOD_ave</td>\n      <td>Feed tCOD</td>\n      <td>COD</td>\n      <td>True</td>\n      <td>False</td>\n      <td>False</td>\n      <td>True</td>\n      <td>1</td>\n      <td>11</td>\n      <td>21.0</td>\n      <td>solid</td>\n      <td>NaN</td>\n      <td>True</td>\n      <td>1</td>\n      <td>1</td>\n      <td>1</td>\n      <td>1</td>\n    </tr>\n    <tr>\n      <th>SampLog</th>\n      <td>sCOD_ave</td>\n      <td>Feed sCOD</td>\n      <td>COD</td>\n      <td>True</td>\n      <td>False</td>\n      <td>False</td>\n      <td>True</td>\n      <td>4</td>\n      <td>14</td>\n      <td>21.0</td>\n      <td>solid</td>\n      <td>NaN</td>\n      <td>True</td>\n      <td>1</td>\n      <td>1</td>\n      <td>1</td>\n      <td>1</td>\n    </tr>\n  </tbody>\n</table>\n</div>",
      "text/plain": "                  parameter_ave          parameter_lab          plot  line  \\\ndataset                                                                      \nSensor             BES_1__V_ave                  BES 1         BES_V  True   \nSensor             BES_2__V_ave                  BES 2         BES_V  True   \nSensor             BES_3__V_ave                  BES 3         BES_V  True   \nSensor             BES_4__V_ave                  BES 4         BES_V  True   \nSensor             BES_1__C_ave                  BES 1         BES_C  True   \nSensor             BES_2__C_ave                  BES 2         BES_C  True   \nSensor             BES_3__C_ave                  BES 3         BES_C  True   \nSensor             BES_4__C_ave                  BES 4         BES_C  True   \nSensor           BES_SUM__V_ave               ∑ [BESs]         BES_V  True   \nSensor           BES_SUM__C_ave               ∑ [BESs]         BES_C  True   \nSensor               REXT_1_ave  BES 1 R<sub>Ext</sub>          REXT  True   \nSensor               REXT_2_ave  BES 2 R<sub>Ext</sub>          REXT  True   \nSensor               REXT_3_ave  BES 3 R<sub>Ext</sub>          REXT  True   \nSensor               REXT_4_ave  BES 4 R<sub>Ext</sub>          REXT  True   \nSensor                OCP_1_ave                  BES 1           OCP  True   \nSensor                OCP_2_ave                  BES 2           OCP  True   \nSensor                OCP_3_ave                  BES 3           OCP  True   \nSensor                OCP_4_ave                  BES 4           OCP  True   \nSensor             TEMP_BES_ave      Heated Water Temp          TEMP  True   \nSensor             TEMP_MAT_ave       Heated Mats Temp  TEMP_PROCESS  True   \nSensor            TEMP_HOSE_ave      Heated Hoses Temp  TEMP_PROCESS  True   \nSensor         PRESSURE_BES_ave           BES Pressure      PRESSURE  True   \nSensor   SENSOR_HOSE_STATUS_ave    Heated Hoses Status    TEMP_EVENT  True   \nSkid             Inlet_Temp_ave    Pipe Temp (BE:WISE)          TEMP  True   \nSampLog                BOD5_ave              Feed BOD₅           BOD  True   \nSampLog                tCOD_ave              Feed tCOD           COD  True   \nSampLog                sCOD_ave              Feed sCOD           COD  True   \n\n         ribbon    bar  point  colour  fill  shape line_type  bar_order  \\\ndataset                                                                   \nSensor     True  False  False       0     0    NaN     solid        NaN   \nSensor     True  False  False       3     3    NaN     solid        NaN   \nSensor     True  False  False       5     5    NaN     solid        NaN   \nSensor     True  False  False       6     6    NaN     solid        NaN   \nSensor     True  False  False       0     0    NaN     solid        NaN   \nSensor     True  False  False       3     3    NaN     solid        NaN   \nSensor     True  False  False       5     5    NaN     solid        NaN   \nSensor     True  False  False       6     6    NaN     solid        NaN   \nSensor     True  False  False      29    29    NaN     solid        NaN   \nSensor     True  False  False      29    29    NaN     solid        NaN   \nSensor     True  False  False       0     0    NaN     solid        NaN   \nSensor     True  False  False       3     3    NaN     solid        NaN   \nSensor     True  False  False       5     5    NaN     solid        NaN   \nSensor     True  False  False       6     6    NaN     solid        NaN   \nSensor     True  False  False       0     0    NaN     solid        4.0   \nSensor     True  False  False       3     3    NaN     solid        3.0   \nSensor     True  False  False       5     5    NaN     solid        2.0   \nSensor     True  False  False       6     6    NaN     solid        1.0   \nSensor     True  False  False       3     3    NaN     solid        NaN   \nSensor     True  False  False       2     2    NaN     solid        NaN   \nSensor     True  False  False       3     3    NaN     solid        NaN   \nSensor     True  False  False       4     4    NaN     solid        NaN   \nSensor     True  False  False       3     3    NaN     solid        1.0   \nSkid       True  False  False       0     0    NaN  longdash        NaN   \nSampLog   False  False   True       4    14   21.0     solid        NaN   \nSampLog   False  False   True       1    11   21.0     solid        NaN   \nSampLog   False  False   True       4    14   21.0     solid        NaN   \n\n         show_in_legend  selected_chart_0  selected_chart_1  selected_chart_2  \\\ndataset                                                                         \nSensor             True                 0                 0                 0   \nSensor             True                 0                 0                 0   \nSensor             True                 0                 0                 0   \nSensor             True                 0                 0                 0   \nSensor             True                 0                 0                 0   \nSensor             True                 0                 0                 0   \nSensor             True                 0                 0                 0   \nSensor             True                 0                 0                 0   \nSensor             True                 0                 0                 0   \nSensor             True                 0                 0                 0   \nSensor             True                 0                 0                 0   \nSensor             True                 0                 0                 0   \nSensor             True                 0                 0                 0   \nSensor             True                 0                 0                 0   \nSensor             True                 0                 0                 0   \nSensor             True                 0                 0                 0   \nSensor             True                 0                 0                 0   \nSensor             True                 0                 0                 0   \nSensor             True                 0                 0                 0   \nSensor             True                 0                 0                 0   \nSensor             True                 0                 0                 0   \nSensor             True                 0                 0                 0   \nSensor             True                 0                 0                 0   \nSkid               True                 1                 1                 1   \nSampLog            True                 1                 1                 1   \nSampLog            True                 1                 1                 1   \nSampLog            True                 1                 1                 1   \n\n         selected_chart_3  \ndataset                    \nSensor                  1  \nSensor                  1  \nSensor                  1  \nSensor                  1  \nSensor                  1  \nSensor                  1  \nSensor                  1  \nSensor                  1  \nSensor                  1  \nSensor                  1  \nSensor                  1  \nSensor                  1  \nSensor                  1  \nSensor                  1  \nSensor                  0  \nSensor                  0  \nSensor                  0  \nSensor                  0  \nSensor                  1  \nSensor                  1  \nSensor                  1  \nSensor                  1  \nSensor                  0  \nSkid                    1  \nSampLog                 1  \nSampLog                 1  \nSampLog                 1  "
     },
     "execution_count": 49,
     "metadata": {},
     "output_type": "execute_result"
    }
   ],
   "source": [
    "info['parameters_ave']"
   ]
  },
  {
   "cell_type": "markdown",
   "execution_count": null,
   "metadata": {},
   "outputs": [],
   "source": [
    "### Plots:"
   ]
  },
  {
   "cell_type": "code",
   "execution_count": 50,
   "metadata": {},
   "outputs": [
    {
     "data": {
      "text/html": "<div>\n<style scoped>\n    .dataframe tbody tr th:only-of-type {\n        vertical-align: middle;\n    }\n\n    .dataframe tbody tr th {\n        vertical-align: top;\n    }\n\n    .dataframe thead th {\n        text-align: right;\n    }\n</style>\n<table border=\"1\" class=\"dataframe\">\n  <thead>\n    <tr style=\"text-align: right;\">\n      <th></th>\n      <th>row</th>\n      <th>col</th>\n      <th>plot</th>\n      <th>plot_lab</th>\n      <th>ylab</th>\n      <th>ymin</th>\n      <th>ymax</th>\n      <th>height</th>\n      <th>log</th>\n      <th>Unnamed: 10</th>\n      <th>Unnamed: 11</th>\n      <th>Unnamed: 12</th>\n      <th>Unnamed: 13</th>\n      <th>Unnamed: 14</th>\n      <th>Unnamed: 15</th>\n      <th>Unnamed: 16</th>\n    </tr>\n    <tr>\n      <th>chart</th>\n      <th></th>\n      <th></th>\n      <th></th>\n      <th></th>\n      <th></th>\n      <th></th>\n      <th></th>\n      <th></th>\n      <th></th>\n      <th></th>\n      <th></th>\n      <th></th>\n      <th></th>\n      <th></th>\n      <th></th>\n      <th></th>\n    </tr>\n  </thead>\n  <tbody>\n    <tr>\n      <th>0</th>\n      <td>1</td>\n      <td>1</td>\n      <td>BES_CA</td>\n      <td>BES</td>\n      <td>Current Density&lt;br&gt;(μA/cm²)</td>\n      <td>0</td>\n      <td>40</td>\n      <td>10</td>\n      <td>False</td>\n      <td>NaN</td>\n      <td>NaN</td>\n      <td>NaN</td>\n      <td>NaN</td>\n      <td>NaN</td>\n      <td>NaN</td>\n      <td>NaN</td>\n    </tr>\n    <tr>\n      <th>0</th>\n      <td>2</td>\n      <td>1</td>\n      <td>BES_CB</td>\n      <td>BES</td>\n      <td>Current Density&lt;br&gt;(μA/cm²)</td>\n      <td>0</td>\n      <td>40</td>\n      <td>10</td>\n      <td>False</td>\n      <td>NaN</td>\n      <td>NaN</td>\n      <td>NaN</td>\n      <td>NaN</td>\n      <td>NaN</td>\n      <td>NaN</td>\n      <td>NaN</td>\n    </tr>\n    <tr>\n      <th>0</th>\n      <td>3</td>\n      <td>1</td>\n      <td>BES_CC</td>\n      <td>BES</td>\n      <td>Current Density&lt;br&gt;(μA/cm²)</td>\n      <td>0</td>\n      <td>40</td>\n      <td>10</td>\n      <td>False</td>\n      <td>NaN</td>\n      <td>NaN</td>\n      <td>NaN</td>\n      <td>NaN</td>\n      <td>NaN</td>\n      <td>NaN</td>\n      <td>NaN</td>\n    </tr>\n    <tr>\n      <th>0</th>\n      <td>4</td>\n      <td>1</td>\n      <td>COD</td>\n      <td>COD</td>\n      <td>COD&lt;br&gt;(mg/l O₂)</td>\n      <td>0</td>\n      <td>600</td>\n      <td>10</td>\n      <td>False</td>\n      <td>NaN</td>\n      <td>NaN</td>\n      <td>NaN</td>\n      <td>NaN</td>\n      <td>NaN</td>\n      <td>NaN</td>\n      <td>NaN</td>\n    </tr>\n    <tr>\n      <th>0</th>\n      <td>5</td>\n      <td>1</td>\n      <td>BOD</td>\n      <td>BOD</td>\n      <td>BOD₅&lt;br&gt;(mg/l O₂)</td>\n      <td>0</td>\n      <td>400</td>\n      <td>10</td>\n      <td>False</td>\n      <td>NaN</td>\n      <td>NaN</td>\n      <td>NaN</td>\n      <td>NaN</td>\n      <td>NaN</td>\n      <td>NaN</td>\n      <td>NaN</td>\n    </tr>\n    <tr>\n      <th>...</th>\n      <td>...</td>\n      <td>...</td>\n      <td>...</td>\n      <td>...</td>\n      <td>...</td>\n      <td>...</td>\n      <td>...</td>\n      <td>...</td>\n      <td>...</td>\n      <td>...</td>\n      <td>...</td>\n      <td>...</td>\n      <td>...</td>\n      <td>...</td>\n      <td>...</td>\n      <td>...</td>\n    </tr>\n    <tr>\n      <th>3</th>\n      <td>11</td>\n      <td>1</td>\n      <td>REXT</td>\n      <td>REXT</td>\n      <td>R&lt;sub&gt;Ext&lt;/sub&gt;&lt;br&gt;(Ω)</td>\n      <td>1</td>\n      <td>51101</td>\n      <td>8</td>\n      <td>True</td>\n      <td>NaN</td>\n      <td>NaN</td>\n      <td>NaN</td>\n      <td>NaN</td>\n      <td>NaN</td>\n      <td>NaN</td>\n      <td>NaN</td>\n    </tr>\n    <tr>\n      <th>3</th>\n      <td>12</td>\n      <td>1</td>\n      <td>OCP</td>\n      <td>OCP</td>\n      <td>OCP</td>\n      <td>0</td>\n      <td>1</td>\n      <td>6</td>\n      <td>False</td>\n      <td>NaN</td>\n      <td>NaN</td>\n      <td>NaN</td>\n      <td>NaN</td>\n      <td>NaN</td>\n      <td>NaN</td>\n      <td>NaN</td>\n    </tr>\n    <tr>\n      <th>3</th>\n      <td>13</td>\n      <td>1</td>\n      <td>DO</td>\n      <td>Dissolved Oxygen</td>\n      <td>Dissolved&lt;br&gt;Oxygen (mg/l)</td>\n      <td>0</td>\n      <td>8</td>\n      <td>10</td>\n      <td>False</td>\n      <td>NaN</td>\n      <td>NaN</td>\n      <td>NaN</td>\n      <td>NaN</td>\n      <td>NaN</td>\n      <td>NaN</td>\n      <td>NaN</td>\n    </tr>\n    <tr>\n      <th>3</th>\n      <td>14</td>\n      <td>1</td>\n      <td>LEVEL</td>\n      <td>Levels</td>\n      <td>River Level (m)&lt;br&gt;&amp; Rainfall (mm)</td>\n      <td>0</td>\n      <td>3</td>\n      <td>10</td>\n      <td>False</td>\n      <td>NaN</td>\n      <td>NaN</td>\n      <td>NaN</td>\n      <td>NaN</td>\n      <td>NaN</td>\n      <td>NaN</td>\n      <td>NaN</td>\n    </tr>\n    <tr>\n      <th>3</th>\n      <td>15</td>\n      <td>1</td>\n      <td>EVENT</td>\n      <td>TEMP_EVENT</td>\n      <td>Heating&lt;br&gt;Control</td>\n      <td>0</td>\n      <td>1</td>\n      <td>3</td>\n      <td>False</td>\n      <td>NaN</td>\n      <td>NaN</td>\n      <td>NaN</td>\n      <td>NaN</td>\n      <td>NaN</td>\n      <td>NaN</td>\n      <td>NaN</td>\n    </tr>\n  </tbody>\n</table>\n<p>66 rows × 16 columns</p>\n</div>",
      "text/plain": "       row  col    plot          plot_lab                                ylab  \\\nchart                                                                           \n0        1    1  BES_CA               BES         Current Density<br>(μA/cm²)   \n0        2    1  BES_CB               BES         Current Density<br>(μA/cm²)   \n0        3    1  BES_CC               BES         Current Density<br>(μA/cm²)   \n0        4    1     COD               COD                    COD<br>(mg/l O₂)   \n0        5    1     BOD               BOD                   BOD₅<br>(mg/l O₂)   \n...    ...  ...     ...               ...                                 ...   \n3       11    1    REXT              REXT              R<sub>Ext</sub><br>(Ω)   \n3       12    1     OCP               OCP                                 OCP   \n3       13    1      DO  Dissolved Oxygen          Dissolved<br>Oxygen (mg/l)   \n3       14    1   LEVEL            Levels  River Level (m)<br>& Rainfall (mm)   \n3       15    1   EVENT        TEMP_EVENT                  Heating<br>Control   \n\n       ymin   ymax   height    log  Unnamed: 10  Unnamed: 11  Unnamed: 12  \\\nchart                                                                       \n0         0     40       10  False          NaN          NaN          NaN   \n0         0     40       10  False          NaN          NaN          NaN   \n0         0     40       10  False          NaN          NaN          NaN   \n0         0    600       10  False          NaN          NaN          NaN   \n0         0    400       10  False          NaN          NaN          NaN   \n...     ...    ...      ...    ...          ...          ...          ...   \n3         1  51101        8   True          NaN          NaN          NaN   \n3         0      1        6  False          NaN          NaN          NaN   \n3         0      8       10  False          NaN          NaN          NaN   \n3         0      3       10  False          NaN          NaN          NaN   \n3         0      1        3  False          NaN          NaN          NaN   \n\n       Unnamed: 13  Unnamed: 14  Unnamed: 15 Unnamed: 16  \nchart                                                     \n0              NaN          NaN          NaN         NaN  \n0              NaN          NaN          NaN         NaN  \n0              NaN          NaN          NaN         NaN  \n0              NaN          NaN          NaN         NaN  \n0              NaN          NaN          NaN         NaN  \n...            ...          ...          ...         ...  \n3              NaN          NaN          NaN         NaN  \n3              NaN          NaN          NaN         NaN  \n3              NaN          NaN          NaN         NaN  \n3              NaN          NaN          NaN         NaN  \n3              NaN          NaN          NaN         NaN  \n\n[66 rows x 16 columns]"
     },
     "execution_count": 50,
     "metadata": {},
     "output_type": "execute_result"
    }
   ],
   "source": [
    "info['plots']"
   ]
  },
  {
   "cell_type": "markdown",
   "execution_count": null,
   "metadata": {},
   "outputs": [],
   "source": [
    "### Colours:"
   ]
  },
  {
   "cell_type": "code",
   "execution_count": 51,
   "metadata": {},
   "outputs": [
    {
     "data": {
      "image/png": "[encoded data removed]",
      "image/svg+xml": "<?xml version=\"1.0\" encoding=\"utf-8\" standalone=\"no\"?>\r\n<!DOCTYPE svg PUBLIC \"-//W3C//DTD SVG 1.1//EN\"\r\n  \"http://www.w3.org/Graphics/SVG/1.1/DTD/svg11.dtd\">\r\n<!-- Created with matplotlib (https://matplotlib.org/) -->\r\n<svg height=\"72.26pt\" version=\"1.1\" viewBox=\"0 0 575.9 72.26\" width=\"575.9pt\" xmlns=\"http://www.w3.org/2000/svg\" xmlns:xlink=\"http://www.w3.org/1999/xlink\">\r\n <defs>\r\n  <style type=\"text/css\">\r\n*{stroke-linecap:butt;stroke-linejoin:round;}\r\n  </style>\r\n </defs>\r\n <g id=\"figure_1\">\r\n  <g id=\"patch_1\">\r\n   <path d=\"M 0 72.26 \r\nL 575.9 72.26 \r\nL 575.9 0 \r\nL 0 0 \r\nz\r\n\" style=\"fill:none;\"/>\r\n  </g>\r\n  <g id=\"axes_1\">\r\n   <g id=\"patch_2\">\r\n    <path d=\"M 10.7 61.56 \r\nL 568.7 61.56 \r\nL 568.7 7.2 \r\nL 10.7 7.2 \r\nz\r\n\" style=\"fill:#ffffff;\"/>\r\n   </g>\r\n   <g clip-path=\"url(#p71eb73e907)\">\r\n    <image height=\"55\" id=\"image411afc3aac\" transform=\"scale(1 -1)translate(0 -55)\" width=\"558\" x=\"10.7\" xlink:href=\"data:image/png;base64,\r\niVBORw0KGgoAAAANSUhEUgAAAi4AAAA3CAYAAAArDMGlAAAABHNCSVQICAgIfAhkiAAAAWRJREFUeJzt1rEtBWAYQFEkEjQatZJQq98K2jfGawxhDpURJNZQK4RGJQZgBc2fL1fOmeCWd//l4vJn7x+73n5MJyz1vDmbTlhm93YynbDU5/nDdMJSR0/v0wlL3X0dTycsdXt6OJ2wzOPr/XTCUt9XN9MJSx1MBwAA/JVxAQAyjAsAkGFcAIAM4wIAZBgXACDDuAAAGcYFAMgwLgBAhnEBADKMCwCQYVwAgAzjAgBkGBcAIMO4AAAZxgUAyDAuAECGcQEAMowLAJBhXACADOMCAGQYFwAgw7gAABnGBQDIMC4AQIZxAQAyjAsAkGFcAIAM4wIAZBgXACDDuAAAGcYFAMgwLgBAhnEBADKMCwCQYVwAgAzjAgBkGBcAIMO4AAAZxgUAyDAuAECGcQEAMowLAJBhXACADOMCAGQYFwAgw7gAABnGBQDIMC4AQIZxAQAyjAsAkGFcAIAM4wIAZBgXACDjF20IDufCfwCiAAAAAElFTkSuQmCC\" y=\"-6.56\"/>\r\n   </g>\r\n   <g id=\"matplotlib.axis_1\">\r\n    <g id=\"xtick_1\">\r\n     <g id=\"line2d_1\">\r\n      <defs>\r\n       <path d=\"M 0 0 \r\nL 0 3.5 \r\n\" id=\"m916e2b6965\" style=\"stroke:#000000;stroke-width:0.8;\"/>\r\n      </defs>\r\n      <g>\r\n       <use style=\"stroke:#000000;stroke-width:0.8;\" x=\"10.7\" xlink:href=\"#m916e2b6965\" y=\"61.56\"/>\r\n      </g>\r\n     </g>\r\n    </g>\r\n    <g id=\"xtick_2\">\r\n     <g id=\"line2d_2\">\r\n      <g>\r\n       <use style=\"stroke:#000000;stroke-width:0.8;\" x=\"66.5\" xlink:href=\"#m916e2b6965\" y=\"61.56\"/>\r\n      </g>\r\n     </g>\r\n    </g>\r\n    <g id=\"xtick_3\">\r\n     <g id=\"line2d_3\">\r\n      <g>\r\n       <use style=\"stroke:#000000;stroke-width:0.8;\" x=\"122.3\" xlink:href=\"#m916e2b6965\" y=\"61.56\"/>\r\n      </g>\r\n     </g>\r\n    </g>\r\n    <g id=\"xtick_4\">\r\n     <g id=\"line2d_4\">\r\n      <g>\r\n       <use style=\"stroke:#000000;stroke-width:0.8;\" x=\"178.1\" xlink:href=\"#m916e2b6965\" y=\"61.56\"/>\r\n      </g>\r\n     </g>\r\n    </g>\r\n    <g id=\"xtick_5\">\r\n     <g id=\"line2d_5\">\r\n      <g>\r\n       <use style=\"stroke:#000000;stroke-width:0.8;\" x=\"233.9\" xlink:href=\"#m916e2b6965\" y=\"61.56\"/>\r\n      </g>\r\n     </g>\r\n    </g>\r\n    <g id=\"xtick_6\">\r\n     <g id=\"line2d_6\">\r\n      <g>\r\n       <use style=\"stroke:#000000;stroke-width:0.8;\" x=\"289.7\" xlink:href=\"#m916e2b6965\" y=\"61.56\"/>\r\n      </g>\r\n     </g>\r\n    </g>\r\n    <g id=\"xtick_7\">\r\n     <g id=\"line2d_7\">\r\n      <g>\r\n       <use style=\"stroke:#000000;stroke-width:0.8;\" x=\"345.5\" xlink:href=\"#m916e2b6965\" y=\"61.56\"/>\r\n      </g>\r\n     </g>\r\n    </g>\r\n    <g id=\"xtick_8\">\r\n     <g id=\"line2d_8\">\r\n      <g>\r\n       <use style=\"stroke:#000000;stroke-width:0.8;\" x=\"401.3\" xlink:href=\"#m916e2b6965\" y=\"61.56\"/>\r\n      </g>\r\n     </g>\r\n    </g>\r\n    <g id=\"xtick_9\">\r\n     <g id=\"line2d_9\">\r\n      <g>\r\n       <use style=\"stroke:#000000;stroke-width:0.8;\" x=\"457.1\" xlink:href=\"#m916e2b6965\" y=\"61.56\"/>\r\n      </g>\r\n     </g>\r\n    </g>\r\n    <g id=\"xtick_10\">\r\n     <g id=\"line2d_10\">\r\n      <g>\r\n       <use style=\"stroke:#000000;stroke-width:0.8;\" x=\"512.9\" xlink:href=\"#m916e2b6965\" y=\"61.56\"/>\r\n      </g>\r\n     </g>\r\n    </g>\r\n   </g>\r\n   <g id=\"matplotlib.axis_2\">\r\n    <g id=\"ytick_1\">\r\n     <g id=\"line2d_11\">\r\n      <defs>\r\n       <path d=\"M 0 0 \r\nL -3.5 0 \r\n\" id=\"med13d95737\" style=\"stroke:#000000;stroke-width:0.8;\"/>\r\n      </defs>\r\n      <g>\r\n       <use style=\"stroke:#000000;stroke-width:0.8;\" x=\"10.7\" xlink:href=\"#med13d95737\" y=\"7.2\"/>\r\n      </g>\r\n     </g>\r\n    </g>\r\n    <g id=\"ytick_2\">\r\n     <g id=\"line2d_12\">\r\n      <g>\r\n       <use style=\"stroke:#000000;stroke-width:0.8;\" x=\"10.7\" xlink:href=\"#med13d95737\" y=\"61.56\"/>\r\n      </g>\r\n     </g>\r\n    </g>\r\n   </g>\r\n   <g id=\"patch_3\">\r\n    <path d=\"M 10.7 61.56 \r\nL 10.7 7.2 \r\n\" style=\"fill:none;stroke:#000000;stroke-linecap:square;stroke-linejoin:miter;stroke-width:0.8;\"/>\r\n   </g>\r\n   <g id=\"patch_4\">\r\n    <path d=\"M 568.7 61.56 \r\nL 568.7 7.2 \r\n\" style=\"fill:none;stroke:#000000;stroke-linecap:square;stroke-linejoin:miter;stroke-width:0.8;\"/>\r\n   </g>\r\n   <g id=\"patch_5\">\r\n    <path d=\"M 10.7 61.56 \r\nL 568.7 61.56 \r\n\" style=\"fill:none;stroke:#000000;stroke-linecap:square;stroke-linejoin:miter;stroke-width:0.8;\"/>\r\n   </g>\r\n   <g id=\"patch_6\">\r\n    <path d=\"M 10.7 7.2 \r\nL 568.7 7.2 \r\n\" style=\"fill:none;stroke:#000000;stroke-linecap:square;stroke-linejoin:miter;stroke-width:0.8;\"/>\r\n   </g>\r\n  </g>\r\n </g>\r\n <defs>\r\n  <clipPath id=\"p71eb73e907\">\r\n   <rect height=\"54.36\" width=\"558\" x=\"10.7\" y=\"7.2\"/>\r\n  </clipPath>\r\n </defs>\r\n</svg>\r\n",
      "text/plain": "<Figure size 720x72 with 1 Axes>"
     },
     "metadata": {
      "needs_background": "light"
     },
     "output_type": "display_data"
    },
    {
     "data": {
      "image/png": "[encoded data removed]",
      "image/svg+xml": "<?xml version=\"1.0\" encoding=\"utf-8\" standalone=\"no\"?>\r\n<!DOCTYPE svg PUBLIC \"-//W3C//DTD SVG 1.1//EN\"\r\n  \"http://www.w3.org/Graphics/SVG/1.1/DTD/svg11.dtd\">\r\n<!-- Created with matplotlib (https://matplotlib.org/) -->\r\n<svg height=\"72.26pt\" version=\"1.1\" viewBox=\"0 0 575.9 72.26\" width=\"575.9pt\" xmlns=\"http://www.w3.org/2000/svg\" xmlns:xlink=\"http://www.w3.org/1999/xlink\">\r\n <defs>\r\n  <style type=\"text/css\">\r\n*{stroke-linecap:butt;stroke-linejoin:round;}\r\n  </style>\r\n </defs>\r\n <g id=\"figure_1\">\r\n  <g id=\"patch_1\">\r\n   <path d=\"M 0 72.26 \r\nL 575.9 72.26 \r\nL 575.9 0 \r\nL 0 0 \r\nz\r\n\" style=\"fill:none;\"/>\r\n  </g>\r\n  <g id=\"axes_1\">\r\n   <g id=\"patch_2\">\r\n    <path d=\"M 10.7 61.56 \r\nL 568.7 61.56 \r\nL 568.7 7.2 \r\nL 10.7 7.2 \r\nz\r\n\" style=\"fill:#ffffff;\"/>\r\n   </g>\r\n   <g clip-path=\"url(#p3b817c4272)\">\r\n    <image height=\"55\" id=\"imagebab9c1867a\" transform=\"scale(1 -1)translate(0 -55)\" width=\"558\" x=\"10.7\" xlink:href=\"data:image/png;base64,\r\niVBORw0KGgoAAAANSUhEUgAAAi4AAAA3CAYAAAArDMGlAAAABHNCSVQICAgIfAhkiAAAAV9JREFUeJzt1qFNA2AYRVGggMYQbINEwjidqwnTIPBMgKshiE5ASFkB8+fLbc6Z4JmX3MvT6/50cc4eD9MLlvrc3k9PWObt+nd6wlI3P7vpCUvdHTfTE5Z6+D5OT1jq+fZ8//fx9T49YanN08v0hKWupgcAAPyXcAEAMoQLAJAhXACADOECAGQIFwAgQ7gAABnCBQDIEC4AQIZwAQAyhAsAkCFcAIAM4QIAZAgXACBDuAAAGcIFAMgQLgBAhnABADKECwCQIVwAgAzhAgBkCBcAIEO4AAAZwgUAyBAuAECGcAEAMoQLAJAhXACADOECAGQIFwAgQ7gAABnCBQDIEC4AQIZwAQAyhAsAkCFcAIAM4QIAZAgXACBDuAAAGcIFAMgQLgBAhnABADKECwCQIVwAgAzhAgBkCBcAIEO4AAAZwgUAyBAuAECGcAEAMoQLAJAhXACADOECAGQIFwAg4w+Ojw+/oOP44gAAAABJRU5ErkJggg==\" y=\"-6.56\"/>\r\n   </g>\r\n   <g id=\"matplotlib.axis_1\">\r\n    <g id=\"xtick_1\">\r\n     <g id=\"line2d_1\">\r\n      <defs>\r\n       <path d=\"M 0 0 \r\nL 0 3.5 \r\n\" id=\"me6de055908\" style=\"stroke:#000000;stroke-width:0.8;\"/>\r\n      </defs>\r\n      <g>\r\n       <use style=\"stroke:#000000;stroke-width:0.8;\" x=\"10.7\" xlink:href=\"#me6de055908\" y=\"61.56\"/>\r\n      </g>\r\n     </g>\r\n    </g>\r\n    <g id=\"xtick_2\">\r\n     <g id=\"line2d_2\">\r\n      <g>\r\n       <use style=\"stroke:#000000;stroke-width:0.8;\" x=\"66.5\" xlink:href=\"#me6de055908\" y=\"61.56\"/>\r\n      </g>\r\n     </g>\r\n    </g>\r\n    <g id=\"xtick_3\">\r\n     <g id=\"line2d_3\">\r\n      <g>\r\n       <use style=\"stroke:#000000;stroke-width:0.8;\" x=\"122.3\" xlink:href=\"#me6de055908\" y=\"61.56\"/>\r\n      </g>\r\n     </g>\r\n    </g>\r\n    <g id=\"xtick_4\">\r\n     <g id=\"line2d_4\">\r\n      <g>\r\n       <use style=\"stroke:#000000;stroke-width:0.8;\" x=\"178.1\" xlink:href=\"#me6de055908\" y=\"61.56\"/>\r\n      </g>\r\n     </g>\r\n    </g>\r\n    <g id=\"xtick_5\">\r\n     <g id=\"line2d_5\">\r\n      <g>\r\n       <use style=\"stroke:#000000;stroke-width:0.8;\" x=\"233.9\" xlink:href=\"#me6de055908\" y=\"61.56\"/>\r\n      </g>\r\n     </g>\r\n    </g>\r\n    <g id=\"xtick_6\">\r\n     <g id=\"line2d_6\">\r\n      <g>\r\n       <use style=\"stroke:#000000;stroke-width:0.8;\" x=\"289.7\" xlink:href=\"#me6de055908\" y=\"61.56\"/>\r\n      </g>\r\n     </g>\r\n    </g>\r\n    <g id=\"xtick_7\">\r\n     <g id=\"line2d_7\">\r\n      <g>\r\n       <use style=\"stroke:#000000;stroke-width:0.8;\" x=\"345.5\" xlink:href=\"#me6de055908\" y=\"61.56\"/>\r\n      </g>\r\n     </g>\r\n    </g>\r\n    <g id=\"xtick_8\">\r\n     <g id=\"line2d_8\">\r\n      <g>\r\n       <use style=\"stroke:#000000;stroke-width:0.8;\" x=\"401.3\" xlink:href=\"#me6de055908\" y=\"61.56\"/>\r\n      </g>\r\n     </g>\r\n    </g>\r\n    <g id=\"xtick_9\">\r\n     <g id=\"line2d_9\">\r\n      <g>\r\n       <use style=\"stroke:#000000;stroke-width:0.8;\" x=\"457.1\" xlink:href=\"#me6de055908\" y=\"61.56\"/>\r\n      </g>\r\n     </g>\r\n    </g>\r\n    <g id=\"xtick_10\">\r\n     <g id=\"line2d_10\">\r\n      <g>\r\n       <use style=\"stroke:#000000;stroke-width:0.8;\" x=\"512.9\" xlink:href=\"#me6de055908\" y=\"61.56\"/>\r\n      </g>\r\n     </g>\r\n    </g>\r\n   </g>\r\n   <g id=\"matplotlib.axis_2\">\r\n    <g id=\"ytick_1\">\r\n     <g id=\"line2d_11\">\r\n      <defs>\r\n       <path d=\"M 0 0 \r\nL -3.5 0 \r\n\" id=\"m2b4835f467\" style=\"stroke:#000000;stroke-width:0.8;\"/>\r\n      </defs>\r\n      <g>\r\n       <use style=\"stroke:#000000;stroke-width:0.8;\" x=\"10.7\" xlink:href=\"#m2b4835f467\" y=\"7.2\"/>\r\n      </g>\r\n     </g>\r\n    </g>\r\n    <g id=\"ytick_2\">\r\n     <g id=\"line2d_12\">\r\n      <g>\r\n       <use style=\"stroke:#000000;stroke-width:0.8;\" x=\"10.7\" xlink:href=\"#m2b4835f467\" y=\"61.56\"/>\r\n      </g>\r\n     </g>\r\n    </g>\r\n   </g>\r\n   <g id=\"patch_3\">\r\n    <path d=\"M 10.7 61.56 \r\nL 10.7 7.2 \r\n\" style=\"fill:none;stroke:#000000;stroke-linecap:square;stroke-linejoin:miter;stroke-width:0.8;\"/>\r\n   </g>\r\n   <g id=\"patch_4\">\r\n    <path d=\"M 568.7 61.56 \r\nL 568.7 7.2 \r\n\" style=\"fill:none;stroke:#000000;stroke-linecap:square;stroke-linejoin:miter;stroke-width:0.8;\"/>\r\n   </g>\r\n   <g id=\"patch_5\">\r\n    <path d=\"M 10.7 61.56 \r\nL 568.7 61.56 \r\n\" style=\"fill:none;stroke:#000000;stroke-linecap:square;stroke-linejoin:miter;stroke-width:0.8;\"/>\r\n   </g>\r\n   <g id=\"patch_6\">\r\n    <path d=\"M 10.7 7.2 \r\nL 568.7 7.2 \r\n\" style=\"fill:none;stroke:#000000;stroke-linecap:square;stroke-linejoin:miter;stroke-width:0.8;\"/>\r\n   </g>\r\n  </g>\r\n </g>\r\n <defs>\r\n  <clipPath id=\"p3b817c4272\">\r\n   <rect height=\"54.36\" width=\"558\" x=\"10.7\" y=\"7.2\"/>\r\n  </clipPath>\r\n </defs>\r\n</svg>\r\n",
      "text/plain": "<Figure size 720x72 with 1 Axes>"
     },
     "metadata": {
      "needs_background": "light"
     },
     "output_type": "display_data"
    },
    {
     "data": {
      "image/png": "[encoded data removed]",
      "image/svg+xml": "<?xml version=\"1.0\" encoding=\"utf-8\" standalone=\"no\"?>\r\n<!DOCTYPE svg PUBLIC \"-//W3C//DTD SVG 1.1//EN\"\r\n  \"http://www.w3.org/Graphics/SVG/1.1/DTD/svg11.dtd\">\r\n<!-- Created with matplotlib (https://matplotlib.org/) -->\r\n<svg height=\"72.26pt\" version=\"1.1\" viewBox=\"0 0 631.7 72.26\" width=\"631.7pt\" xmlns=\"http://www.w3.org/2000/svg\" xmlns:xlink=\"http://www.w3.org/1999/xlink\">\r\n <defs>\r\n  <style type=\"text/css\">\r\n*{stroke-linecap:butt;stroke-linejoin:round;}\r\n  </style>\r\n </defs>\r\n <g id=\"figure_1\">\r\n  <g id=\"patch_1\">\r\n   <path d=\"M 0 72.26 \r\nL 631.7 72.26 \r\nL 631.7 0 \r\nL 0 0 \r\nz\r\n\" style=\"fill:none;\"/>\r\n  </g>\r\n  <g id=\"axes_1\">\r\n   <g id=\"patch_2\">\r\n    <path d=\"M 10.7 61.56 \r\nL 624.5 61.56 \r\nL 624.5 7.2 \r\nL 10.7 7.2 \r\nz\r\n\" style=\"fill:#ffffff;\"/>\r\n   </g>\r\n   <g clip-path=\"url(#p761f73bc63)\">\r\n    <image height=\"55\" id=\"imagebd1e44688a\" transform=\"scale(1 -1)translate(0 -55)\" width=\"614\" x=\"10.7\" xlink:href=\"data:image/png;base64,\r\niVBORw0KGgoAAAANSUhEUgAAAmYAAAA3CAYAAACmYYbxAAAABHNCSVQICAgIfAhkiAAAAXhJREFUeJzt1iEyBHAchmErSIokGiOYPYUsansMwRUEiUvsAZzALVB1XSQ4w39+7+w8zwm+9r2bp+329+iA3d18TE9Y6vXqbHrCMi+fp9MTlvq+fJiesNTJ2/v0hKXuN7fTE5banR/uNTx/PU5PWOrn4np6wlL7/X56wlLH0wMAAPgnzAAAIoQZAECEMAMAiBBmAAARwgwAIEKYAQBECDMAgAhhBgAQIcwAACKEGQBAhDADAIgQZgAAEcIMACBCmAEARAgzAIAIYQYAECHMAAAihBkAQIQwAwCIEGYAABHCDAAgQpgBAEQIMwCACGEGABAhzAAAIoQZAECEMAMAiBBmAAARwgwAIEKYAQBECDMAgAhhBgAQIcwAACKEGQBAhDADAIgQZgAAEcIMACBCmAEARAgzAIAIYQYAECHMAAAihBkAQIQwAwCIEGYAABHCDAAgQpgBAEQIMwCACGEGABAhzAAAIoQZAECEMAMAiBBmAAARwgwAIOIPl1wQbTQFLhoAAAAASUVORK5CYII=\" y=\"-6.56\"/>\r\n   </g>\r\n   <g id=\"matplotlib.axis_1\">\r\n    <g id=\"xtick_1\">\r\n     <g id=\"line2d_1\">\r\n      <defs>\r\n       <path d=\"M 0 0 \r\nL 0 3.5 \r\n\" id=\"m1cfc860b9f\" style=\"stroke:#000000;stroke-width:0.8;\"/>\r\n      </defs>\r\n      <g>\r\n       <use style=\"stroke:#000000;stroke-width:0.8;\" x=\"10.7\" xlink:href=\"#m1cfc860b9f\" y=\"61.56\"/>\r\n      </g>\r\n     </g>\r\n    </g>\r\n    <g id=\"xtick_2\">\r\n     <g id=\"line2d_2\">\r\n      <g>\r\n       <use style=\"stroke:#000000;stroke-width:0.8;\" x=\"66.5\" xlink:href=\"#m1cfc860b9f\" y=\"61.56\"/>\r\n      </g>\r\n     </g>\r\n    </g>\r\n    <g id=\"xtick_3\">\r\n     <g id=\"line2d_3\">\r\n      <g>\r\n       <use style=\"stroke:#000000;stroke-width:0.8;\" x=\"122.3\" xlink:href=\"#m1cfc860b9f\" y=\"61.56\"/>\r\n      </g>\r\n     </g>\r\n    </g>\r\n    <g id=\"xtick_4\">\r\n     <g id=\"line2d_4\">\r\n      <g>\r\n       <use style=\"stroke:#000000;stroke-width:0.8;\" x=\"178.1\" xlink:href=\"#m1cfc860b9f\" y=\"61.56\"/>\r\n      </g>\r\n     </g>\r\n    </g>\r\n    <g id=\"xtick_5\">\r\n     <g id=\"line2d_5\">\r\n      <g>\r\n       <use style=\"stroke:#000000;stroke-width:0.8;\" x=\"233.9\" xlink:href=\"#m1cfc860b9f\" y=\"61.56\"/>\r\n      </g>\r\n     </g>\r\n    </g>\r\n    <g id=\"xtick_6\">\r\n     <g id=\"line2d_6\">\r\n      <g>\r\n       <use style=\"stroke:#000000;stroke-width:0.8;\" x=\"289.7\" xlink:href=\"#m1cfc860b9f\" y=\"61.56\"/>\r\n      </g>\r\n     </g>\r\n    </g>\r\n    <g id=\"xtick_7\">\r\n     <g id=\"line2d_7\">\r\n      <g>\r\n       <use style=\"stroke:#000000;stroke-width:0.8;\" x=\"345.5\" xlink:href=\"#m1cfc860b9f\" y=\"61.56\"/>\r\n      </g>\r\n     </g>\r\n    </g>\r\n    <g id=\"xtick_8\">\r\n     <g id=\"line2d_8\">\r\n      <g>\r\n       <use style=\"stroke:#000000;stroke-width:0.8;\" x=\"401.3\" xlink:href=\"#m1cfc860b9f\" y=\"61.56\"/>\r\n      </g>\r\n     </g>\r\n    </g>\r\n    <g id=\"xtick_9\">\r\n     <g id=\"line2d_9\">\r\n      <g>\r\n       <use style=\"stroke:#000000;stroke-width:0.8;\" x=\"457.1\" xlink:href=\"#m1cfc860b9f\" y=\"61.56\"/>\r\n      </g>\r\n     </g>\r\n    </g>\r\n    <g id=\"xtick_10\">\r\n     <g id=\"line2d_10\">\r\n      <g>\r\n       <use style=\"stroke:#000000;stroke-width:0.8;\" x=\"512.9\" xlink:href=\"#m1cfc860b9f\" y=\"61.56\"/>\r\n      </g>\r\n     </g>\r\n    </g>\r\n    <g id=\"xtick_11\">\r\n     <g id=\"line2d_11\">\r\n      <g>\r\n       <use style=\"stroke:#000000;stroke-width:0.8;\" x=\"568.7\" xlink:href=\"#m1cfc860b9f\" y=\"61.56\"/>\r\n      </g>\r\n     </g>\r\n    </g>\r\n   </g>\r\n   <g id=\"matplotlib.axis_2\">\r\n    <g id=\"ytick_1\">\r\n     <g id=\"line2d_12\">\r\n      <defs>\r\n       <path d=\"M 0 0 \r\nL -3.5 0 \r\n\" id=\"mc5cade2dd6\" style=\"stroke:#000000;stroke-width:0.8;\"/>\r\n      </defs>\r\n      <g>\r\n       <use style=\"stroke:#000000;stroke-width:0.8;\" x=\"10.7\" xlink:href=\"#mc5cade2dd6\" y=\"7.2\"/>\r\n      </g>\r\n     </g>\r\n    </g>\r\n    <g id=\"ytick_2\">\r\n     <g id=\"line2d_13\">\r\n      <g>\r\n       <use style=\"stroke:#000000;stroke-width:0.8;\" x=\"10.7\" xlink:href=\"#mc5cade2dd6\" y=\"61.56\"/>\r\n      </g>\r\n     </g>\r\n    </g>\r\n   </g>\r\n   <g id=\"patch_3\">\r\n    <path d=\"M 10.7 61.56 \r\nL 10.7 7.2 \r\n\" style=\"fill:none;stroke:#000000;stroke-linecap:square;stroke-linejoin:miter;stroke-width:0.8;\"/>\r\n   </g>\r\n   <g id=\"patch_4\">\r\n    <path d=\"M 624.5 61.56 \r\nL 624.5 7.2 \r\n\" style=\"fill:none;stroke:#000000;stroke-linecap:square;stroke-linejoin:miter;stroke-width:0.8;\"/>\r\n   </g>\r\n   <g id=\"patch_5\">\r\n    <path d=\"M 10.7 61.56 \r\nL 624.5 61.56 \r\n\" style=\"fill:none;stroke:#000000;stroke-linecap:square;stroke-linejoin:miter;stroke-width:0.8;\"/>\r\n   </g>\r\n   <g id=\"patch_6\">\r\n    <path d=\"M 10.7 7.2 \r\nL 624.5 7.2 \r\n\" style=\"fill:none;stroke:#000000;stroke-linecap:square;stroke-linejoin:miter;stroke-width:0.8;\"/>\r\n   </g>\r\n  </g>\r\n </g>\r\n <defs>\r\n  <clipPath id=\"p761f73bc63\">\r\n   <rect height=\"54.36\" width=\"613.8\" x=\"10.7\" y=\"7.2\"/>\r\n  </clipPath>\r\n </defs>\r\n</svg>\r\n",
      "text/plain": "<Figure size 792x72 with 1 Axes>"
     },
     "metadata": {
      "needs_background": "light"
     },
     "output_type": "display_data"
    }
   ],
   "source": [
    "info['colours']\n",
    "\n",
    "info['colours']['rgb'] = list(zip((info['colours']['r']/255), (info['colours']['g']/255), (info['colours']['b']/255)))\n",
    "info['colours']['rgba_str'] = \"rgba(\" + info['colours']['r'].astype(int).astype(str) + \",\" + info['colours']['g'].astype(int).astype(str) + \",\" + info['colours']['b'].astype(int).astype(str) + \",1)\"\n",
    "\n",
    "colour_palettes = {}\n",
    "colour_palettes['all'] = info['colours']['rgb'].tolist()\n",
    "\n",
    "for theme in info['colours']['theme'].unique():\n",
    "    colour_palettes[theme] = info['colours'].query('theme == \"' + theme + '\"')['rgb'].tolist()\n",
    "    sns.palplot(colour_palettes[theme])\n",
    "\n",
    "del theme"
   ]
  },
  {
   "cell_type": "code",
   "execution_count": 52,
   "metadata": {},
   "outputs": [
    {
     "data": {
      "image/png": "[encoded data removed]",
      "image/svg+xml": "<?xml version=\"1.0\" encoding=\"utf-8\" standalone=\"no\"?>\r\n<!DOCTYPE svg PUBLIC \"-//W3C//DTD SVG 1.1//EN\"\r\n  \"http://www.w3.org/Graphics/SVG/1.1/DTD/svg11.dtd\">\r\n<!-- Created with matplotlib (https://matplotlib.org/) -->\r\n<svg height=\"72.26pt\" version=\"1.1\" viewBox=\"0 0 241.1 72.26\" width=\"241.1pt\" xmlns=\"http://www.w3.org/2000/svg\" xmlns:xlink=\"http://www.w3.org/1999/xlink\">\r\n <defs>\r\n  <style type=\"text/css\">\r\n*{stroke-linecap:butt;stroke-linejoin:round;}\r\n  </style>\r\n </defs>\r\n <g id=\"figure_1\">\r\n  <g id=\"patch_1\">\r\n   <path d=\"M 0 72.26 \r\nL 241.1 72.26 \r\nL 241.1 0 \r\nL 0 0 \r\nz\r\n\" style=\"fill:none;\"/>\r\n  </g>\r\n  <g id=\"axes_1\">\r\n   <g id=\"patch_2\">\r\n    <path d=\"M 10.7 61.56 \r\nL 233.9 61.56 \r\nL 233.9 7.2 \r\nL 10.7 7.2 \r\nz\r\n\" style=\"fill:#ffffff;\"/>\r\n   </g>\r\n   <g clip-path=\"url(#pc5b0aaac9e)\">\r\n    <image height=\"55\" id=\"image0129a6802a\" transform=\"scale(1 -1)translate(0 -55)\" width=\"224\" x=\"10.7\" xlink:href=\"data:image/png;base64,\r\niVBORw0KGgoAAAANSUhEUgAAAOAAAAA3CAYAAAAVFkZ2AAAABHNCSVQICAgIfAhkiAAAANVJREFUeJzt00ENwkAAAMG24YMR6qhOeNRBDRJ0EARQFZdN6IyC/ez8eqy/6Y9t+61OGOr7PuqEoZ6fe50w1FIHwJUZEEIGhJABIWRACBkQQgaEkAEhZEAIGRBCBoSQASFkQAgZEEIGhJABIWRACBkQQgaEkAEhZEAIGRBCBoSQASFkQAgZEEIGhJABIWRACBkQQgaEkAEhZEAIGRBCBoSQASFkQAgZEEIGhJABIWRACBkQQgaEkAEhZEAIGRBCBoSQASFkQAgZEEIGhJABIWRACBkQQidoDAcjCAfTMgAAAABJRU5ErkJggg==\" y=\"-6.56\"/>\r\n   </g>\r\n   <g id=\"matplotlib.axis_1\">\r\n    <g id=\"xtick_1\">\r\n     <g id=\"line2d_1\">\r\n      <defs>\r\n       <path d=\"M 0 0 \r\nL 0 3.5 \r\n\" id=\"m8c13bf6f62\" style=\"stroke:#000000;stroke-width:0.8;\"/>\r\n      </defs>\r\n      <g>\r\n       <use style=\"stroke:#000000;stroke-width:0.8;\" x=\"10.7\" xlink:href=\"#m8c13bf6f62\" y=\"61.56\"/>\r\n      </g>\r\n     </g>\r\n    </g>\r\n    <g id=\"xtick_2\">\r\n     <g id=\"line2d_2\">\r\n      <g>\r\n       <use style=\"stroke:#000000;stroke-width:0.8;\" x=\"66.5\" xlink:href=\"#m8c13bf6f62\" y=\"61.56\"/>\r\n      </g>\r\n     </g>\r\n    </g>\r\n    <g id=\"xtick_3\">\r\n     <g id=\"line2d_3\">\r\n      <g>\r\n       <use style=\"stroke:#000000;stroke-width:0.8;\" x=\"122.3\" xlink:href=\"#m8c13bf6f62\" y=\"61.56\"/>\r\n      </g>\r\n     </g>\r\n    </g>\r\n    <g id=\"xtick_4\">\r\n     <g id=\"line2d_4\">\r\n      <g>\r\n       <use style=\"stroke:#000000;stroke-width:0.8;\" x=\"178.1\" xlink:href=\"#m8c13bf6f62\" y=\"61.56\"/>\r\n      </g>\r\n     </g>\r\n    </g>\r\n   </g>\r\n   <g id=\"matplotlib.axis_2\">\r\n    <g id=\"ytick_1\">\r\n     <g id=\"line2d_5\">\r\n      <defs>\r\n       <path d=\"M 0 0 \r\nL -3.5 0 \r\n\" id=\"m573a7f1953\" style=\"stroke:#000000;stroke-width:0.8;\"/>\r\n      </defs>\r\n      <g>\r\n       <use style=\"stroke:#000000;stroke-width:0.8;\" x=\"10.7\" xlink:href=\"#m573a7f1953\" y=\"7.2\"/>\r\n      </g>\r\n     </g>\r\n    </g>\r\n    <g id=\"ytick_2\">\r\n     <g id=\"line2d_6\">\r\n      <g>\r\n       <use style=\"stroke:#000000;stroke-width:0.8;\" x=\"10.7\" xlink:href=\"#m573a7f1953\" y=\"61.56\"/>\r\n      </g>\r\n     </g>\r\n    </g>\r\n   </g>\r\n   <g id=\"patch_3\">\r\n    <path d=\"M 10.7 61.56 \r\nL 10.7 7.2 \r\n\" style=\"fill:none;stroke:#000000;stroke-linecap:square;stroke-linejoin:miter;stroke-width:0.8;\"/>\r\n   </g>\r\n   <g id=\"patch_4\">\r\n    <path d=\"M 233.9 61.56 \r\nL 233.9 7.2 \r\n\" style=\"fill:none;stroke:#000000;stroke-linecap:square;stroke-linejoin:miter;stroke-width:0.8;\"/>\r\n   </g>\r\n   <g id=\"patch_5\">\r\n    <path d=\"M 10.7 61.56 \r\nL 233.9 61.56 \r\n\" style=\"fill:none;stroke:#000000;stroke-linecap:square;stroke-linejoin:miter;stroke-width:0.8;\"/>\r\n   </g>\r\n   <g id=\"patch_6\">\r\n    <path d=\"M 10.7 7.2 \r\nL 233.9 7.2 \r\n\" style=\"fill:none;stroke:#000000;stroke-linecap:square;stroke-linejoin:miter;stroke-width:0.8;\"/>\r\n   </g>\r\n  </g>\r\n </g>\r\n <defs>\r\n  <clipPath id=\"pc5b0aaac9e\">\r\n   <rect height=\"54.36\" width=\"223.2\" x=\"10.7\" y=\"7.2\"/>\r\n  </clipPath>\r\n </defs>\r\n</svg>\r\n",
      "text/plain": "<Figure size 288x72 with 1 Axes>"
     },
     "metadata": {
      "needs_background": "light"
     },
     "output_type": "display_data"
    },
    {
     "data": {
      "image/png": "[encoded data removed]",
      "image/svg+xml": "<?xml version=\"1.0\" encoding=\"utf-8\" standalone=\"no\"?>\r\n<!DOCTYPE svg PUBLIC \"-//W3C//DTD SVG 1.1//EN\"\r\n  \"http://www.w3.org/Graphics/SVG/1.1/DTD/svg11.dtd\">\r\n<!-- Created with matplotlib (https://matplotlib.org/) -->\r\n<svg height=\"72.26pt\" version=\"1.1\" viewBox=\"0 0 241.1 72.26\" width=\"241.1pt\" xmlns=\"http://www.w3.org/2000/svg\" xmlns:xlink=\"http://www.w3.org/1999/xlink\">\r\n <defs>\r\n  <style type=\"text/css\">\r\n*{stroke-linecap:butt;stroke-linejoin:round;}\r\n  </style>\r\n </defs>\r\n <g id=\"figure_1\">\r\n  <g id=\"patch_1\">\r\n   <path d=\"M 0 72.26 \r\nL 241.1 72.26 \r\nL 241.1 0 \r\nL 0 0 \r\nz\r\n\" style=\"fill:none;\"/>\r\n  </g>\r\n  <g id=\"axes_1\">\r\n   <g id=\"patch_2\">\r\n    <path d=\"M 10.7 61.56 \r\nL 233.9 61.56 \r\nL 233.9 7.2 \r\nL 10.7 7.2 \r\nz\r\n\" style=\"fill:#ffffff;\"/>\r\n   </g>\r\n   <g clip-path=\"url(#p14bb4ab395)\">\r\n    <image height=\"55\" id=\"image8f250900f2\" transform=\"scale(1 -1)translate(0 -55)\" width=\"224\" x=\"10.7\" xlink:href=\"data:image/png;base64,\r\niVBORw0KGgoAAAANSUhEUgAAAOAAAAA3CAYAAAAVFkZ2AAAABHNCSVQICAgIfAhkiAAAANVJREFUeJzt00ENwkAAAEGOPz/01Ei91BECSJCAmwpoVVw2aWcU7GfHsb2Ox4X9lnedMNU6PnXCVP/vXidM9awD4M4MCCEDQsiAEDIghAwIIQNCyIAQMiCEDAghA0LIgBAyIIQMCCEDQsiAEDIghAwIIQNCyIAQMiCEDAghA0LIgBAyIIQMCCEDQsiAEDIghAwIIQNCyIAQMiCEDAghA0LIgBAyIIQMCCEDQsiAEDIghAwIIQNCyIAQMiCEDAghA0LIgBAyIIQMCCEDQsiAEDIghAwIoRNGKweG7vwF8gAAAABJRU5ErkJggg==\" y=\"-6.56\"/>\r\n   </g>\r\n   <g id=\"matplotlib.axis_1\">\r\n    <g id=\"xtick_1\">\r\n     <g id=\"line2d_1\">\r\n      <defs>\r\n       <path d=\"M 0 0 \r\nL 0 3.5 \r\n\" id=\"m449b935c3e\" style=\"stroke:#000000;stroke-width:0.8;\"/>\r\n      </defs>\r\n      <g>\r\n       <use style=\"stroke:#000000;stroke-width:0.8;\" x=\"10.7\" xlink:href=\"#m449b935c3e\" y=\"61.56\"/>\r\n      </g>\r\n     </g>\r\n    </g>\r\n    <g id=\"xtick_2\">\r\n     <g id=\"line2d_2\">\r\n      <g>\r\n       <use style=\"stroke:#000000;stroke-width:0.8;\" x=\"66.5\" xlink:href=\"#m449b935c3e\" y=\"61.56\"/>\r\n      </g>\r\n     </g>\r\n    </g>\r\n    <g id=\"xtick_3\">\r\n     <g id=\"line2d_3\">\r\n      <g>\r\n       <use style=\"stroke:#000000;stroke-width:0.8;\" x=\"122.3\" xlink:href=\"#m449b935c3e\" y=\"61.56\"/>\r\n      </g>\r\n     </g>\r\n    </g>\r\n    <g id=\"xtick_4\">\r\n     <g id=\"line2d_4\">\r\n      <g>\r\n       <use style=\"stroke:#000000;stroke-width:0.8;\" x=\"178.1\" xlink:href=\"#m449b935c3e\" y=\"61.56\"/>\r\n      </g>\r\n     </g>\r\n    </g>\r\n   </g>\r\n   <g id=\"matplotlib.axis_2\">\r\n    <g id=\"ytick_1\">\r\n     <g id=\"line2d_5\">\r\n      <defs>\r\n       <path d=\"M 0 0 \r\nL -3.5 0 \r\n\" id=\"m91c4cffad4\" style=\"stroke:#000000;stroke-width:0.8;\"/>\r\n      </defs>\r\n      <g>\r\n       <use style=\"stroke:#000000;stroke-width:0.8;\" x=\"10.7\" xlink:href=\"#m91c4cffad4\" y=\"7.2\"/>\r\n      </g>\r\n     </g>\r\n    </g>\r\n    <g id=\"ytick_2\">\r\n     <g id=\"line2d_6\">\r\n      <g>\r\n       <use style=\"stroke:#000000;stroke-width:0.8;\" x=\"10.7\" xlink:href=\"#m91c4cffad4\" y=\"61.56\"/>\r\n      </g>\r\n     </g>\r\n    </g>\r\n   </g>\r\n   <g id=\"patch_3\">\r\n    <path d=\"M 10.7 61.56 \r\nL 10.7 7.2 \r\n\" style=\"fill:none;stroke:#000000;stroke-linecap:square;stroke-linejoin:miter;stroke-width:0.8;\"/>\r\n   </g>\r\n   <g id=\"patch_4\">\r\n    <path d=\"M 233.9 61.56 \r\nL 233.9 7.2 \r\n\" style=\"fill:none;stroke:#000000;stroke-linecap:square;stroke-linejoin:miter;stroke-width:0.8;\"/>\r\n   </g>\r\n   <g id=\"patch_5\">\r\n    <path d=\"M 10.7 61.56 \r\nL 233.9 61.56 \r\n\" style=\"fill:none;stroke:#000000;stroke-linecap:square;stroke-linejoin:miter;stroke-width:0.8;\"/>\r\n   </g>\r\n   <g id=\"patch_6\">\r\n    <path d=\"M 10.7 7.2 \r\nL 233.9 7.2 \r\n\" style=\"fill:none;stroke:#000000;stroke-linecap:square;stroke-linejoin:miter;stroke-width:0.8;\"/>\r\n   </g>\r\n  </g>\r\n </g>\r\n <defs>\r\n  <clipPath id=\"p14bb4ab395\">\r\n   <rect height=\"54.36\" width=\"223.2\" x=\"10.7\" y=\"7.2\"/>\r\n  </clipPath>\r\n </defs>\r\n</svg>\r\n",
      "text/plain": "<Figure size 288x72 with 1 Axes>"
     },
     "metadata": {
      "needs_background": "light"
     },
     "output_type": "display_data"
    },
    {
     "data": {
      "image/png": "[encoded data removed]",
      "image/svg+xml": "<?xml version=\"1.0\" encoding=\"utf-8\" standalone=\"no\"?>\r\n<!DOCTYPE svg PUBLIC \"-//W3C//DTD SVG 1.1//EN\"\r\n  \"http://www.w3.org/Graphics/SVG/1.1/DTD/svg11.dtd\">\r\n<!-- Created with matplotlib (https://matplotlib.org/) -->\r\n<svg height=\"72.26pt\" version=\"1.1\" viewBox=\"0 0 129.5 72.26\" width=\"129.5pt\" xmlns=\"http://www.w3.org/2000/svg\" xmlns:xlink=\"http://www.w3.org/1999/xlink\">\r\n <defs>\r\n  <style type=\"text/css\">\r\n*{stroke-linecap:butt;stroke-linejoin:round;}\r\n  </style>\r\n </defs>\r\n <g id=\"figure_1\">\r\n  <g id=\"patch_1\">\r\n   <path d=\"M 0 72.26 \r\nL 129.5 72.26 \r\nL 129.5 0 \r\nL 0 0 \r\nz\r\n\" style=\"fill:none;\"/>\r\n  </g>\r\n  <g id=\"axes_1\">\r\n   <g id=\"patch_2\">\r\n    <path d=\"M 10.7 61.56 \r\nL 122.3 61.56 \r\nL 122.3 7.2 \r\nL 10.7 7.2 \r\nz\r\n\" style=\"fill:#ffffff;\"/>\r\n   </g>\r\n   <g clip-path=\"url(#pb7548f86b0)\">\r\n    <image height=\"55\" id=\"image8474e20577\" transform=\"scale(1 -1)translate(0 -55)\" width=\"112\" x=\"10.7\" xlink:href=\"data:image/png;base64,\r\niVBORw0KGgoAAAANSUhEUgAAAHAAAAA3CAYAAADUvc6fAAAABHNCSVQICAgIfAhkiAAAAKlJREFUeJzt0cENQEAAAEF0468Kf1UpVwEUIXJZmalgk53PY7+nH7vWbXTCp5bRAbxjYJyBcQbGGRhnYJyBcQbGGRhnYJyBcQbGGRhnYJyBcQbGGRhnYJyBcQbGGRhnYJyBcQbGGRhnYJyBcQbGGRhnYJyBcQbGGRhnYJyBcQbGGRhnYJyBcQbGGRhnYJyBcQbGGRhnYJyBcQbGGRhnYJyBcQbGGRhnYNwD/hUD54QWceQAAAAASUVORK5CYII=\" y=\"-6.56\"/>\r\n   </g>\r\n   <g id=\"matplotlib.axis_1\">\r\n    <g id=\"xtick_1\">\r\n     <g id=\"line2d_1\">\r\n      <defs>\r\n       <path d=\"M 0 0 \r\nL 0 3.5 \r\n\" id=\"me4cf308ac2\" style=\"stroke:#000000;stroke-width:0.8;\"/>\r\n      </defs>\r\n      <g>\r\n       <use style=\"stroke:#000000;stroke-width:0.8;\" x=\"10.7\" xlink:href=\"#me4cf308ac2\" y=\"61.56\"/>\r\n      </g>\r\n     </g>\r\n    </g>\r\n    <g id=\"xtick_2\">\r\n     <g id=\"line2d_2\">\r\n      <g>\r\n       <use style=\"stroke:#000000;stroke-width:0.8;\" x=\"66.5\" xlink:href=\"#me4cf308ac2\" y=\"61.56\"/>\r\n      </g>\r\n     </g>\r\n    </g>\r\n   </g>\r\n   <g id=\"matplotlib.axis_2\">\r\n    <g id=\"ytick_1\">\r\n     <g id=\"line2d_3\">\r\n      <defs>\r\n       <path d=\"M 0 0 \r\nL -3.5 0 \r\n\" id=\"m41db9e02b3\" style=\"stroke:#000000;stroke-width:0.8;\"/>\r\n      </defs>\r\n      <g>\r\n       <use style=\"stroke:#000000;stroke-width:0.8;\" x=\"10.7\" xlink:href=\"#m41db9e02b3\" y=\"7.2\"/>\r\n      </g>\r\n     </g>\r\n    </g>\r\n    <g id=\"ytick_2\">\r\n     <g id=\"line2d_4\">\r\n      <g>\r\n       <use style=\"stroke:#000000;stroke-width:0.8;\" x=\"10.7\" xlink:href=\"#m41db9e02b3\" y=\"61.56\"/>\r\n      </g>\r\n     </g>\r\n    </g>\r\n   </g>\r\n   <g id=\"patch_3\">\r\n    <path d=\"M 10.7 61.56 \r\nL 10.7 7.2 \r\n\" style=\"fill:none;stroke:#000000;stroke-linecap:square;stroke-linejoin:miter;stroke-width:0.8;\"/>\r\n   </g>\r\n   <g id=\"patch_4\">\r\n    <path d=\"M 122.3 61.56 \r\nL 122.3 7.2 \r\n\" style=\"fill:none;stroke:#000000;stroke-linecap:square;stroke-linejoin:miter;stroke-width:0.8;\"/>\r\n   </g>\r\n   <g id=\"patch_5\">\r\n    <path d=\"M 10.7 61.56 \r\nL 122.3 61.56 \r\n\" style=\"fill:none;stroke:#000000;stroke-linecap:square;stroke-linejoin:miter;stroke-width:0.8;\"/>\r\n   </g>\r\n   <g id=\"patch_6\">\r\n    <path d=\"M 10.7 7.2 \r\nL 122.3 7.2 \r\n\" style=\"fill:none;stroke:#000000;stroke-linecap:square;stroke-linejoin:miter;stroke-width:0.8;\"/>\r\n   </g>\r\n  </g>\r\n </g>\r\n <defs>\r\n  <clipPath id=\"pb7548f86b0\">\r\n   <rect height=\"54.36\" width=\"111.6\" x=\"10.7\" y=\"7.2\"/>\r\n  </clipPath>\r\n </defs>\r\n</svg>\r\n",
      "text/plain": "<Figure size 144x72 with 1 Axes>"
     },
     "metadata": {
      "needs_background": "light"
     },
     "output_type": "display_data"
    }
   ],
   "source": [
    "sns.palplot([colour_palettes['mid'][i] for i in [0,3,5,6]])\n",
    "sns.palplot([colour_palettes['mid'][i] for i in [1,2,4,7]])\n",
    "sns.palplot([colour_palettes['mid'][i] for i in [8,9]])\n",
    "\n",
    "del colour_palettes"
   ]
  },
  {
   "cell_type": "markdown",
   "execution_count": null,
   "metadata": {},
   "outputs": [],
   "source": [
    "## Import Data\n",
    "### Custom Support Data Functions"
   ]
  },
  {
   "cell_type": "code",
   "execution_count": 53,
   "metadata": {},
   "outputs": [],
   "source": [
    "def get_UO_support_data(dataset_f_info, dataset = \"UO\"):\n",
    "    \n",
    "    def import_UO_log_dates():\n",
    "        UO_log_dates = pd.read_csv(dataset_f_info['supp_data_filepath'][dataset], sep = \"\\t\")\n",
    "        UO_log_dates['start'] = pd.to_datetime(UO_log_dates['start'], format=\"%Y-%m-%d\")\n",
    "        UO_log_dates['end'] = pd.to_datetime(UO_log_dates['end'], format=\"%Y-%m-%d\")\n",
    "        return UO_log_dates\n",
    "    \n",
    "    UO_log_dates = import_UO_log_dates()\n",
    "    \n",
    "    #Check LogDates file\n",
    "    if max(UO_log_dates['end']) < date_now.date() - timedelta(days=1):\n",
    "        #print(\"Retrieving latest Urban Observatory data...\")\n",
    "        # api-endpoint \n",
    "        URL = \"http://uoweb3.ncl.ac.uk/api/v1.1/sensors/data/csv/?\"\n",
    "        # location given here \n",
    "        poly = '0103000000010000000600000001000020a2baf9bf58094ee3a2764b4001000020f268fbbf90c059b5b5714b4000000020ba37fbbfc4e78445c6704b4001000020b203fbbf9ce8d60e68714b40010000209a59f9bf346a0efd06714b4001000020a2baf9bf58094ee3a2764b40'\n",
    "        # defining a params dict for the parameters to be sent to the API \n",
    "        PARAMS = {'polygon_wkb': poly,\n",
    "                  'starttime': max(UO_log_dates['end']).strftime(\"%Y%m%d%H%M%S\"), #\"%Y%m%d%H%M%S\"\n",
    "                  'endtime': date_now.strftime(\"%Y%m%d%H%M%S\"), #\"%Y%m%d%H%M%S\"\n",
    "                  'data_variable': 'River Level,Temperature,Rainfall'} \n",
    "        # sending get request and saving the response as response object \n",
    "        data_content = requests.get(url = URL, params = PARAMS).content\n",
    "        UO_data = pd.read_csv(io.StringIO(data_content.decode(\"utf-8\")))\n",
    "        min_date = pd.to_datetime(min(UO_data['Timestamp'])).strftime(\"%Y-%m-%d\")\n",
    "        max_date = pd.to_datetime(max(UO_data['Timestamp'])).strftime(\"%Y-%m-%d\")\n",
    "        \n",
    "        if pd.to_datetime(max_date) > max(UO_log_dates['end']):\n",
    "            UO_data.to_csv(dataset_f_info['data_folder_path'][dataset] + \"UO_data_\" + str(min_date) + \"_to_\" + str(max_date) + \".csv\",\n",
    "                           index = False)\n",
    "            UO_Files = []\n",
    "            for filename in tqdm(os.listdir(str(dataset_f_info['data_folder_path'][dataset])), desc = \"Open existing UO files\"):\n",
    "                if re.search(dataset_f_info['file_pat'][dataset], filename) and not filename.startswith('.'):\n",
    "                    UO_Files.append(filename)\n",
    "            UO_starts = []\n",
    "            for string in UO_Files: UO_starts.append(string[8:18])\n",
    "            UO_ends = []\n",
    "            for string in UO_Files: UO_ends.append(string[22:32])\n",
    "\n",
    "\n",
    "            new_UO_file_data = {'file': UO_Files,\n",
    "                                'start': UO_starts,\n",
    "                                'end': UO_ends}\n",
    "            UO_log_dates_new = pd.DataFrame(new_UO_file_data, columns = ['file', 'start', 'end'])\n",
    "            UO_log_dates_new.to_csv(dataset_f_info['supp_data_filepath'][dataset], index = False, sep = \"\\t\")\n",
    "            print(\"Urban Observatory data updated!\")\n",
    "        else:\n",
    "            print(\"Urban Observatory data up-to-date!\")\n",
    "        \n",
    "    UO_log_dates = import_UO_log_dates\n",
    "    \n",
    "    return UO_log_dates\n",
    "\n",
    "def get_Events_support_data(dataset_f_info, dataset = \"Events\"):\n",
    "    Events_info = pd.read_csv(dataset_f_info['supp_data_filepath'][dataset], sep = \"\\t\", index_col = \"Code\")\n",
    "    return Events_info\n",
    "\n",
    "custom_preimport_functions = {'UO': get_UO_support_data,\n",
    "                              'Events': get_Events_support_data}"
   ]
  },
  {
   "cell_type": "markdown",
   "execution_count": null,
   "metadata": {},
   "outputs": [],
   "source": [
    "### Custom Imported Data Functions"
   ]
  },
  {
   "cell_type": "code",
   "execution_count": 114,
   "metadata": {},
   "outputs": [],
   "source": [
    "def mod_imported_Sensor_data(day_df, filename, dataset_supp_data, dataset_f_info, dataset = \"Sensor\"):\n",
    "    day_df['DateTime'] = day_df['Date'] + \" \" + day_df['Time']\n",
    "    day_df['DateTime'] = pd.to_datetime(day_df['DateTime'], format = '%d/%m/%Y %H:%M:%S')\n",
    "    day_df['DateTime'] = day_df['DateTime'].dt.tz_localize('UTC')\n",
    "    \n",
    "    #Make on/off events integer binary numbers 1/0\n",
    "    #on_events = [\"^ON$\", \"^RUNNING$\", \"^CW$\", \"^AUTO$\"]\n",
    "    #off_events = [\"^OFF$\", \"^STOP$\", \"^CCW$\", \"^MANUAL$\"]\n",
    "\n",
    "    #all_rgx = re.compile(\"|\".join(on_events + off_events))\n",
    "    #on_rgx = re.compile(\"|\".join(on_events))\n",
    "    #off_rgx = re.compile(\"|\".join(off_events))\n",
    "    \n",
    "    #Sensor_events = {'ON': 1,\n",
    "    #                 'RUNNING': 1,\n",
    "    #                 'CW': 1,\n",
    "    #                 'AUTO': 1,\n",
    "    #                 'OFF': 0,\n",
    "    #                 'STOP': 0,\n",
    "    #                 'CCW': 0,\n",
    "    #                 'MANUAL': 0}\n",
    "\n",
    "    #string_cols = (day_df.applymap(type) == str).all(0).values\n",
    "    #for col in day_df.iloc[:, string_cols]:\n",
    "    #    if day_df[col].str.contains(all_rgx).any():\n",
    "    #        day_df[col] = day_df[col].replace(on_rgx, '1', regex=True)\n",
    "    #        day_df[col] = day_df[col].replace(off_rgx, '0', regex=True)\n",
    "    #        day_df[col] = day_df[col].astype(int)\n",
    "    #for col in day_df.iloc[:, string_cols]:\n",
    "    #if day_df.iloc[:, string_cols].str.contains(all_rgx).any():\n",
    "    #day_df[[i for i in list(day_df.columns) if i not in ['DateTime', 'Date', 'Time']]] = \\\n",
    "    #day_df[[i for i in list(day_df.columns) if i not in ['DateTime', 'Date', 'Time']]].replace(Sensor_events).apply(pd.to_numeric)\n",
    "    #day_df.iloc[:, string_cols] = day_df.astype(int)\n",
    "    \n",
    "    #Current density\n",
    "    day_df.iloc[:, day_df.columns.str.contains(\"__C\")] = day_df.iloc[:, day_df.columns.str.contains(\"__C\")]/(math.pi*(0.6)**2*10)\n",
    "    #Sum Current density\n",
    "    day_df.iloc[:, day_df.columns.str.contains(\"SUM__C\")] = day_df.iloc[:, day_df.columns.str.contains(\"SUM__C\")]/4\n",
    "    \n",
    "    #Sensible tilt (up = positive)\n",
    "    day_df['SENSOR_TILT'] = -day_df['SENSOR_TILT']\n",
    "\n",
    "    return(day_df)\n",
    "\n",
    "def mod_imported_Skid_data(day_df, filename, dataset_supp_data, dataset_f_info, dataset = \"Skid\"):\n",
    "    day_df = day_df.rename(columns={\"TIME\": \"DateTime\"})\n",
    "    day_df['DateTime'] = pd.to_datetime(day_df['DateTime'], format = '%Y/%m/%d %H:%M:%S.%f')\n",
    "    day_df['DateTime'] = day_df['DateTime'].dt.tz_localize('UTC')\n",
    "    selected_pars = list(info['parameters'][selected].query('dataset == \"' + dataset + '\"')['parameter'].values)\n",
    "    day_df = day_df[day_df[selected_pars].sum(axis = 1, skipna = True) != 0]\n",
    "    return(day_df)\n",
    "\n",
    "def mod_imported_SampLog_data(day_df, filename, dataset_supp_data, dataset_f_info, dataset = \"SampLog\"):\n",
    "    day_df = day_df.rename(columns={\"Date\": \"DateTime\"})\n",
    "    day_df['DateTime'] = pd.to_datetime(day_df['DateTime'], format = '%d/%m/%Y %H:%M')\n",
    "    day_df['DateTime'] = day_df['DateTime'].dt.tz_localize('Europe/London')\n",
    "    day_df['DateTime'] = day_df['DateTime'].dt.tz_convert('UTC')\n",
    "\n",
    "    selected_read_cols = ['R1', 'R2', 'R3']\n",
    "    day_df[selected_read_cols] = day_df[selected_read_cols].apply(pd.to_numeric, errors='coerce')\n",
    "\n",
    "    #Average readings\n",
    "    day_df['Read_ave'] = day_df[selected_read_cols].mean(axis = 1, skipna = True)\n",
    "    \n",
    "    #Widen DF\n",
    "    day_df_wide = pd.pivot_table(day_df,values='Read_ave',index=['DateTime', 'Location'],columns=['Type','Vial'])\n",
    "    #Fix col header and names\n",
    "    day_df_wide.columns = map(''.join, (str(v) for v in day_df_wide.columns))\n",
    "    day_df_wide.columns = [re.sub(r'\\W', '', i) for i in day_df_wide.columns]\n",
    "    day_df_wide.columns = [s[:len(s)-1] + \"_\" + s[len(s)-1:] for s in day_df_wide.columns]\n",
    "    day_df_wide = day_df_wide.reset_index()\n",
    "    \n",
    "    return(day_df_wide)\n",
    "\n",
    "def mod_imported_NWL_data(day_df, filename, dataset_supp_data, dataset_f_info, dataset = \"NWL\"):\n",
    "    day_df['DateTime'] = day_df['DATE'].astype(str) + \" \" + day_df['TIME']\n",
    "    day_df['DateTime'] = pd.to_datetime(day_df['DateTime'], format = '%Y-%m-%d %H:%M')\n",
    "    day_df['DateTime'] = day_df['DateTime'].dt.tz_localize('Europe/London')\n",
    "    day_df['DateTime'] = day_df['DateTime'].dt.tz_convert('UTC')\n",
    "    \n",
    "    day_df = day_df[day_df['SITE'].str.contains('SETTLED')]\n",
    "    \n",
    "    return(day_df)\n",
    "\n",
    "def mod_imported_UO_data(day_df, filename, dataset_supp_data, dataset_f_info, dataset = \"UO\"):\n",
    "    day_df['DateTime'] = pd.to_datetime(day_df['Timestamp'], format = '%Y-%m-%d %H:%M:%S')\n",
    "    day_df['DateTime'] = day_df['DateTime'].dt.tz_localize('UTC')\n",
    "  \n",
    "    # Create Type column\n",
    "    day_df['Type'] = day_df['Sensor Name'].astype(str) + \"_\" + day_df['Variable']\n",
    "  \n",
    "    #Widen DF\n",
    "    day_df_wide = pd.pivot_table(day_df,values='Value',index=['DateTime'],columns=['Type'])\n",
    "    #Fix col header and names\n",
    "    day_df_wide = day_df_wide.reset_index()\n",
    "    day_df_wide = day_df_wide.rename(columns=dict(zip(info['parameters'].query('dataset == \"' + dataset + '\"')['code'], \n",
    "                                                info['parameters'].query('dataset == \"' + dataset + '\"')['parameter'])))\n",
    "    return(day_df_wide)\n",
    "\n",
    "custom_import_functions = {'Sensor': mod_imported_Sensor_data,\n",
    "                           'Skid': mod_imported_Skid_data,\n",
    "                           'SampLog': mod_imported_SampLog_data,\n",
    "                           'NWL': mod_imported_NWL_data,\n",
    "                           'UO': mod_imported_UO_data}"
   ]
  },
  {
   "cell_type": "markdown",
   "execution_count": null,
   "metadata": {},
   "outputs": [],
   "source": [
    "### Data Import Functions"
   ]
  },
  {
   "cell_type": "code",
   "execution_count": 133,
   "metadata": {},
   "outputs": [],
   "source": [
    "#Data import\n",
    "def import_data(dataset):\n",
    "    dataset_all_days = []\n",
    "    for folder in range(1,len(info['datasets'].query('dataset == \"' + dataset + '\"'))+1):\n",
    "        #print(dataset + \": Folder \" + str(folder))\n",
    "        \n",
    "        #Shorthand info:\n",
    "        dataset_f_info = info['datasets'].query('dataset == \"' + dataset + '\" & folder == \"' + str(folder) + '\"')\n",
    "        #File format to import\n",
    "        f_file_import = select_file_importer(dataset, dataset_f_info)\n",
    "        \n",
    "        #Custom pre-import functions\n",
    "        if dataset in custom_preimport_functions:\n",
    "            dataset_supp_data = custom_preimport_functions[dataset](dataset_f_info)\n",
    "        else:\n",
    "            dataset_supp_data = \"\"\n",
    "        #Import files\n",
    "        for filename in tqdm(os.listdir(str(dataset_f_info['data_folder_path'][dataset])), desc = \"Open files to import\"):\n",
    "            if re.search(dataset_f_info['file_pat'][dataset], filename) and not filename.startswith('.'):\n",
    "                day_df = file_import_handler(dataset, dataset_f_info, filename, dataset_supp_data, f_file_import)\n",
    "                # Keep if longer than 0 lines\n",
    "                if len(day_df) > 0:\n",
    "                    #Keep if within DateTime range in Info file\n",
    "                    if max(day_df['DateTime']) >= min(info['charts']['chart_range_start']) and \\\n",
    "                       min(day_df['DateTime']) <= max(info['charts']['chart_range_end']):\n",
    "                        dataset_all_days.append(day_df)\n",
    "    \n",
    "    #Create one dataframe from all days data\n",
    "    dataset_all_data = pd.concat(dataset_all_days, axis=0, ignore_index=True)\n",
    "    dataset_all_data.sort_values(by=['DateTime'], inplace=True)\n",
    "    dataset_all_data = dataset_all_data.reset_index(drop=True)\n",
    "    \n",
    "    dataset_all_data = dataset_all_data[dataset_all_data['DateTime'] >= min(info['charts']['chart_range_start'])]\n",
    "    dataset_all_data = dataset_all_data[dataset_all_data['DateTime'] <= max(info['charts']['chart_range_end'])]\n",
    "    \n",
    "    return(dataset_all_data)\n",
    "\n",
    "#File Import functions\n",
    "def select_file_importer(dataset, dataset_f_info):\n",
    "    if re.search(\"xls\", dataset_f_info['file_pat'][dataset], re.IGNORECASE):\n",
    "        return file_import_functions[\"xls\"]\n",
    "    elif re.search(\"csv\", dataset_f_info['file_pat'][dataset], re.IGNORECASE):\n",
    "        return file_import_functions[\"csv\"]\n",
    "    elif re.search(\"txt\", dataset_f_info['file_pat'][dataset], re.IGNORECASE):\n",
    "        return file_import_functions[\"txt\"]\n",
    "    else:\n",
    "        raise ValueError(\"Unknown file pattern!\")\n",
    "\n",
    "def file_import_xls(dataset, dataset_f_info, filename):\n",
    "    df = pd.read_excel(\"\".join([str(dataset_f_info['data_folder_path'][dataset]), filename]), \n",
    "                       skiprows = dataset_f_info['skiprows'][dataset])\n",
    "    return df\n",
    "\n",
    "def file_import_csv(dataset, dataset_f_info, filename):\n",
    "    df = pd.read_csv(\"\".join([str(dataset_f_info['data_folder_path'][dataset]), filename]), \n",
    "                     skiprows = dataset_f_info['skiprows'][dataset])\n",
    "    return df\n",
    "\n",
    "def file_import_txt(dataset, dataset_f_info, filename):\n",
    "    df = pd.read_csv(\"\".join([str(dataset_f_info['data_folder_path'][dataset]), filename]), \n",
    "                     sep=\"\\t\", skiprows = dataset_f_info['skiprows'][dataset])\n",
    "    return df\n",
    "\n",
    "file_import_functions = {'xls': file_import_xls,\n",
    "                         'csv': file_import_csv,\n",
    "                         'txt': file_import_txt}\n",
    "\n",
    "def file_import_handler(dataset, dataset_f_info, filename, dataset_supp_data, f_file_import):\n",
    "    day_df = f_file_import(dataset, dataset_f_info, filename)\n",
    "    if len(day_df) > 0:\n",
    "        # Name parameter columns\n",
    "        day_df = day_df.rename(columns=dict(zip(info['parameters'].query('dataset == \"' + dataset + '\"')['code'], \n",
    "                                                info['parameters'].query('dataset == \"' + dataset + '\"')['parameter'])))\n",
    "        # Delete unit rows\n",
    "        if not pd.isna(dataset_f_info['Del_unit_rows'][dataset]):\n",
    "            day_df = day_df.drop(0).reset_index()\n",
    "        ##Load custom data mod function?\n",
    "        if dataset in custom_import_functions:\n",
    "            day_df = custom_import_functions[dataset](day_df, filename, dataset_supp_data, dataset_f_info, dataset)\n",
    "        \n",
    "        #Choose parameters included in parameters sheet\n",
    "        selected_pars = list(info['parameters'].query('dataset == \"' + dataset + '\"')['parameter'].values)\n",
    "        day_df = day_df[['DateTime'] + selected_pars]\n",
    "\n",
    "        #Make floats\n",
    "        for col in selected_pars:\n",
    "            try:\n",
    "                day_df[col] = day_df[col].astype(float)\n",
    "            except:\n",
    "                pass\n",
    "\n",
    "        #Add blank row between files - to be implemented\n",
    "        #if len(day_df) > 0:\n",
    "        #    if not pd.isna(dataset_f_info['Add_blank_rows'][dataset]):\n",
    "        #        day_df = day_df.append(pd.Series(), ignore_index=True)\n",
    "                \n",
    "\n",
    "    return(day_df)"
   ]
  },
  {
   "cell_type": "markdown",
   "execution_count": null,
   "metadata": {},
   "outputs": [],
   "source": [
    "### Data Import"
   ]
  },
  {
   "cell_type": "code",
   "execution_count": 134,
   "metadata": {},
   "outputs": [],
   "source": [
    "selected_cols = [s for s in info['parameters'].columns.to_list() if \"selected\" in s]\n",
    "selected = info['parameters'][selected_cols].isin([1]).any(axis=1)\n",
    "\n",
    "selected_cols_ave = [s for s in info['parameters_ave'].columns.to_list() if \"selected\" in s]\n",
    "selected_ave = info['parameters_ave'][selected_cols_ave].isin([1]).any(axis=1)\n",
    "\n",
    "selected_datasets = list(selected[selected].index.unique().values) + list(selected_ave[selected_ave].index.unique().values)\n",
    "selected_datasets = [x for i, x in enumerate(selected_datasets) if i == selected_datasets.index(x)]\n",
    "\n",
    "del selected_cols, selected_cols_ave"
   ]
  },
  {
   "cell_type": "code",
   "execution_count": 135,
   "metadata": {},
   "outputs": [
    {
     "name": "stderr",
     "output_type": "stream",
     "text": "es to import:  18%|█▊        | 61/335 [00:03<00:15, 17.73it/s]\u001b[A\nOpen files to import:  19%|█▉        | 63/335 [00:03<00:15, 17.32it/s]\u001b[A\nOpen files to import:  19%|█▉        | 65/335 [00:03<00:15, 17.54it/s]\u001b[A\nOpen files to import:  20%|██        | 67/335 [00:03<00:14, 18.07it/s]\u001b[A\nOpen files to import:  21%|██        | 69/335 [00:03<00:14, 17.74it/s]\u001b[A\nOpen files to import:  21%|██        | 71/335 [00:03<00:14, 17.88it/s]\u001b[A\nOpen files to import:  22%|██▏       | 73/335 [00:04<00:14, 17.61it/s]\u001b[A\nOpen files to import:  22%|██▏       | 75/335 [00:04<00:15, 17.15it/s]\u001b[A\nOpen files to import:  23%|██▎       | 77/335 [00:04<00:15, 17.10it/s]\u001b[A\nOpen files to import:  24%|██▎       | 79/335 [00:04<00:15, 16.98it/s]\u001b[A\nOpen files to import:  24%|██▍       | 81/335 [00:04<00:14, 17.21it/s]\u001b[A\nOpen files to import:  25%|██▍       | 83/335 [00:04<00:14, 17.14it/s]\u001b[A\nOpen files to import:  25%|██▌       | 85/335 [00:04<00:14, 16.97it/s]\u001b[A\nOpen files to import:  26%|██▌       | 87/335 [00:04<00:14, 17.15it/s]\u001b[A\nOpen files to import:  27%|██▋       | 89/335 [00:04<00:14, 17.55it/s]\u001b[A\nOpen files to import:  27%|██▋       | 91/335 [00:05<00:13, 17.56it/s]\u001b[A\nOpen files to import:  28%|██▊       | 93/335 [00:05<00:13, 17.52it/s]\u001b[A\nOpen files to import:  28%|██▊       | 95/335 [00:05<00:13, 17.23it/s]\u001b[A\nOpen files to import:  29%|██▉       | 97/335 [00:05<00:13, 17.11it/s]\u001b[A\nOpen files to import:  30%|██▉       | 99/335 [00:05<00:13, 17.39it/s]\u001b[A\nOpen files to import:  30%|███       | 101/335 [00:05<00:13, 17.45it/s]\u001b[A\nOpen files to import:  31%|███       | 103/335 [00:05<00:13, 17.09it/s]\u001b[A\nOpen files to import:  31%|███▏      | 105/335 [00:05<00:13, 17.10it/s]\u001b[A\nOpen files to import:  32%|███▏      | 107/335 [00:06<00:13, 16.98it/s]\u001b[A\nOpen files to import:  33%|███▎      | 109/335 [00:06<00:13, 17.16it/s]\u001b[A\nOpen files to import:  33%|███▎      | 111/335 [00:06<00:12, 17.75it/s]\u001b[A\nOpen files to import:  34%|███▎      | 113/335 [00:06<00:12, 17.47it/s]\u001b[A\nOpen files to import:  34%|███▍      | 115/335 [00:06<00:12, 17.28it/s]\u001b[A\nOpen files to import:  35%|███▍      | 117/335 [00:06<00:12, 16.83it/s]\u001b[A\nOpen files to import:  36%|███▌      | 119/335 [00:06<00:12, 17.14it/s]\u001b[A\nOpen files to import:  36%|███▌      | 121/335 [00:06<00:12, 17.32it/s]\u001b[A\nOpen files to import:  37%|███▋      | 123/335 [00:06<00:12, 17.58it/s]\u001b[A\nOpen files to import:  37%|███▋      | 125/335 [00:07<00:11, 17.77it/s]\u001b[A\nOpen files to import:  38%|███▊      | 127/335 [00:07<00:11, 17.49it/s]\u001b[A\nOpen files to import:  39%|███▊      | 129/335 [00:07<00:12, 17.16it/s]\u001b[A\nOpen files to import:  39%|███▉      | 131/335 [00:07<00:11, 17.42it/s]\u001b[A\nOpen files to import:  40%|███▉      | 133/335 [00:07<00:11, 17.99it/s]\u001b[A\nOpen files to import:  40%|████      | 135/335 [00:07<00:11, 18.06it/s]\u001b[A\nOpen files to import:  41%|████      | 137/335 [00:07<00:11, 17.92it/s]\u001b[A\nOpen files to import:  41%|████▏     | 139/335 [00:07<00:10, 18.01it/s]\u001b[A\nOpen files to import:  42%|████▏     | 141/335 [00:07<00:10, 18.03it/s]\u001b[A\nOpen files to import:  43%|████▎     | 143/335 [00:08<00:10, 17.99it/s]\u001b[A\nOpen files to import:  43%|████▎     | 145/335 [00:08<00:10, 18.21it/s]\u001b[A\nOpen files to import:  44%|████▍     | 147/335 [00:08<00:10, 17.87it/s]\u001b[A\nOpen files to import:  44%|████▍     | 149/335 [00:08<00:10, 17.88it/s]\u001b[A\nOpen files to import:  45%|████▌     | 151/335 [00:08<00:10, 17.99it/s]\u001b[A\nOpen files to import:  46%|████▌     | 153/335 [00:08<00:10, 18.01it/s]\u001b[A\nOpen files to import:  46%|████▋     | 155/335 [00:08<00:09, 18.38it/s]\u001b[A\nOpen files to import:  47%|████▋     | 157/335 [00:08<00:09, 18.64it/s]\u001b[A\nOpen files to import:  47%|████▋     | 159/335 [00:08<00:10, 17.23it/s]\u001b[A\nOpen files to import:  48%|████▊     | 161/335 [00:09<00:10, 17.38it/s]\u001b[A\nOpen files to import:  49%|████▊     | 163/335 [00:09<00:09, 17.67it/s]\u001b[A\nOpen files to import:  49%|████▉     | 165/335 [00:09<00:09, 17.93it/s]\u001b[A\nOpen files to import:  50%|████▉     | 167/335 [00:09<00:09, 17.78it/s]\u001b[A\nOpen files to import:  50%|█████     | 169/335 [00:09<00:09, 17.91it/s]\u001b[A\nOpen files to import:  51%|█████     | 171/335 [00:09<00:09, 17.40it/s]\u001b[A\nOpen files to import:  52%|█████▏    | 173/335 [00:09<00:09, 17.41it/s]\u001b[A\nOpen files to import:  52%|█████▏    | 175/335 [00:09<00:09, 17.42it/s]\u001b[A\nOpen files to import:  53%|█████▎    | 177/335 [00:09<00:08, 17.89it/s]\u001b[A\nOpen files to import:  53%|█████▎    | 179/335 [00:10<00:08, 17.89it/s]\u001b[A\nOpen files to import:  54%|█████▍    | 181/335 [00:10<00:08, 17.48it/s]\u001b[A\nOpen files to import:  55%|█████▍    | 183/335 [00:10<00:08, 17.74it/s]\u001b[A\nOpen files to import:  55%|█████▌    | 185/335 [00:10<00:08, 17.33it/s]\u001b[A\nOpen files to import:  56%|█████▌    | 187/335 [00:10<00:08, 17.64it/s]\u001b[A\nOpen files to import:  56%|█████▋    | 189/335 [00:10<00:08, 18.00it/s]\u001b[A\nOpen files to import:  57%|█████▋    | 191/335 [00:10<00:07, 18.02it/s]\u001b[A\nOpen files to import:  58%|█████▊    | 193/335 [00:10<00:07, 17.89it/s]\u001b[A\nOpen files to import:  58%|█████▊    | 195/335 [00:10<00:07, 17.99it/s]\u001b[A\nOpen files to import:  59%|█████▉    | 197/335 [00:11<00:07, 17.92it/s]\u001b[A\nOpen files to import:  59%|█████▉    | 199/335 [00:11<00:07, 17.82it/s]\u001b[A\nOpen files to import:  60%|██████    | 201/335 [00:11<00:07, 18.18it/s]\u001b[A\nOpen files to import:  61%|██████    | 203/335 [00:11<00:07, 18.10it/s]\u001b[A\nOpen files to import:  61%|██████    | 205/335 [00:11<00:07, 18.09it/s]\u001b[A\nOpen files to import:  62%|██████▏   | 207/335 [00:11<00:07, 18.03it/s]\u001b[A\nOpen files to import:  62%|██████▏   | 209/335 [00:11<00:06, 18.29it/s]\u001b[A\nOpen files to import:  63%|██████▎   | 211/335 [00:11<00:06, 18.47it/s]\u001b[A\nOpen files to import:  64%|██████▎   | 213/335 [00:11<00:06, 18.10it/s]\u001b[A\nOpen files to import:  64%|██████▍   | 215/335 [00:12<00:06, 17.75it/s]\u001b[A\nOpen files to import:  65%|██████▍   | 217/335 [00:12<00:06, 17.80it/s]\u001b[A\nOpen files to import:  65%|██████▌   | 219/335 [00:12<00:06, 17.79it/s]\u001b[A\nOpen files to import:  66%|██████▌   | 221/335 [00:12<00:06, 18.21it/s]\u001b[A\nOpen files to import:  67%|██████▋   | 223/335 [00:14<00:40,  2.76it/s]\u001b[A\nOpen files to import:  67%|██████▋   | 225/335 [00:14<00:30,  3.65it/s]\u001b[A\nOpen files to import:  68%|██████▊   | 227/335 [00:14<00:22,  4.78it/s]\u001b[A\nOpen files to import:  68%|██████▊   | 229/335 [00:14<00:17,  6.10it/s]\u001b[A\nOpen files to import:  69%|██████▉   | 231/335 [00:15<00:13,  7.63it/s]\u001b[A\nOpen files to import:  70%|██████▉   | 233/335 [00:15<00:11,  9.22it/s]\u001b[A\nOpen files to import:  70%|███████   | 235/335 [00:15<00:09, 10.60it/s]\u001b[A\nOpen files to import:  71%|███████   | 237/335 [00:15<00:08, 11.72it/s]\u001b[A\nOpen files to import:  71%|███████▏  | 239/335 [00:15<00:07, 12.72it/s]\u001b[A\nOpen files to import:  72%|███████▏  | 241/335 [00:15<00:06, 13.88it/s]\u001b[A\nOpen files to import:  73%|███████▎  | 243/335 [00:15<00:06, 14.78it/s]\u001b[A\nOpen files to import:  73%|███████▎  | 245/335 [00:15<00:05, 15.00it/s]\u001b[A\nOpen files to import:  74%|███████▎  | 247/335 [00:16<00:05, 15.66it/s]\u001b[A\nOpen files to import:  74%|███████▍  | 249/335 [00:16<00:05, 15.70it/s]\u001b[A\nOpen files to import:  75%|███████▍  | 251/335 [00:16<00:05, 16.03it/s]\u001b[A\nOpen files to import:  76%|███████▌  | 253/335 [00:16<00:04, 16.63it/s]\u001b[A\nOpen files to import:  76%|███████▌  | 255/335 [00:16<00:04, 17.08it/s]\u001b[A\nOpen files to import:  77%|███████▋  | 257/335 [00:16<00:04, 16.93it/s]\u001b[A\nOpen files to import:  77%|███████▋  | 259/335 [00:16<00:04, 16.82it/s]\u001b[A\nOpen files to import:  78%|███████▊  | 261/335 [00:16<00:04, 16.96it/s]\u001b[A\nOpen files to import:  79%|███████▊  | 263/335 [00:16<00:04, 17.14it/s]\u001b[A\nOpen files to import:  79%|███████▉  | 265/335 [00:17<00:03, 17.83it/s]\u001b[A\nOpen files to import:  80%|███████▉  | 267/335 [00:17<00:03, 17.80it/s]\u001b[A\nOpen files to import:  80%|████████  | 269/335 [00:17<00:03, 17.78it/s]\u001b[A\nOpen files to import:  81%|████████  | 271/335 [00:17<00:03, 17.54it/s]\u001b[A\nOpen files to import:  81%|████████▏ | 273/335 [00:17<00:03, 17.65it/s]\u001b[A\nOpen files to import:  82%|████████▏ | 275/335 [00:17<00:03, 17.91it/s]\u001b[A\nOpen files to import:  83%|████████▎ | 277/335 [00:17<00:03, 18.01it/s]\u001b[A\nOpen files to import:  83%|████████▎ | 279/335 [00:17<00:03, 17.67it/s]\u001b[A\nOpen files to import:  84%|████████▍ | 281/335 [00:17<00:03, 17.88it/s]\u001b[A\nOpen files to import:  84%|████████▍ | 283/335 [00:18<00:02, 17.47it/s]\u001b[A\nOpen files to import:  85%|████████▌ | 285/335 [00:18<00:02, 17.60it/s]\u001b[A\nOpen files to import:  86%|████████▌ | 287/335 [00:18<00:02, 18.06it/s]\u001b[A\nOpen files to import:  86%|████████▋ | 289/335 [00:18<00:02, 17.75it/s]\u001b[A\nOpen files to import:  87%|████████▋ | 291/335 [00:18<00:02, 17.94it/s]\u001b[A\nOpen files to import:  87%|████████▋ | 293/335 [00:18<00:02, 17.74it/s]\u001b[A\nOpen files to import:  88%|████████▊ | 295/335 [00:18<00:02, 17.28it/s]\u001b[A\nOpen files to import:  89%|████████▊ | 297/335 [00:18<00:02, 17.60it/s]\u001b[A\nOpen files to import:  89%|████████▉ | 299/335 [00:18<00:02, 17.65it/s]\u001b[A\nOpen files to import:  90%|████████▉ | 301/335 [00:19<00:01, 17.00it/s]\u001b[A\nOpen files to import:  90%|█████████ | 303/335 [00:19<00:01, 16.83it/s]\u001b[A\nOpen files to import:  91%|█████████ | 305/335 [00:19<00:01, 16.96it/s]\u001b[A\nOpen files to import:  92%|█████████▏| 307/335 [00:19<00:01, 16.89it/s]\u001b[A\nOpen files to import:  92%|█████████▏| 309/335 [00:19<00:01, 17.01it/s]\u001b[A\nOpen files to import:  93%|█████████▎| 311/335 [00:19<00:01, 17.05it/s]\u001b[A\nOpen files to import:  93%|█████████▎| 313/335 [00:19<00:01, 16.61it/s]\u001b[A\nOpen files to import:  94%|█████████▍| 315/335 [00:19<00:01, 16.93it/s]\u001b[A\nOpen files to import:  95%|█████████▍| 317/335 [00:20<00:01, 16.99it/s]\u001b[A\nOpen files to import:  96%|█████████▌| 320/335 [00:20<00:00, 17.90it/s]\u001b[A\nOpen files to import:  96%|█████████▌| 322/335 [00:20<00:00, 17.81it/s]\u001b[A\nOpen files to import:  97%|█████████▋| 324/335 [00:20<00:00, 17.20it/s]\u001b[A\nOpen files to import:  97%|█████████▋| 326/335 [00:20<00:00, 17.13it/s]\u001b[A\nOpen files to import:  98%|█████████▊| 328/335 [00:20<00:00, 16.75it/s]\u001b[A\nOpen files to import:  99%|█████████▊| 330/335 [00:20<00:00, 17.26it/s]\u001b[A\nOpen files to import:  99%|█████████▉| 332/335 [00:20<00:00, 17.82it/s]\u001b[A\nOpen files to import: 100%|██████████| 335/335 [00:21<00:00, 15.94it/s]\nImport data from each dataset:  20%|██        | 1/5 [00:22<01:28, 22.21s/it]\nOpen files to import:   0%|          | 0/173 [00:00<?, ?it/s]\u001b[A\nOpen files to import:   3%|▎         | 5/173 [00:00<00:03, 48.67it/s]\u001b[A\nOpen files to import:   6%|▋         | 11/173 [00:00<00:03, 49.96it/s]\u001b[A\nOpen files to import:  10%|▉         | 17/173 [00:00<00:03, 50.38it/s]\u001b[A\nOpen files to import:  13%|█▎        | 22/173 [00:00<00:03, 48.70it/s]\u001b[A\nOpen files to import:  16%|█▌        | 28/173 [00:00<00:02, 50.48it/s]\u001b[A\nOpen files to import:  19%|█▉        | 33/173 [00:00<00:02, 49.93it/s]\u001b[A\nOpen files to import:  22%|██▏       | 38/173 [00:00<00:02, 47.98it/s]\u001b[A\nOpen files to import:  25%|██▍       | 43/173 [00:00<00:02, 48.32it/s]\u001b[A\nOpen files to import:  28%|██▊       | 48/173 [00:00<00:02, 48.01it/s]\u001b[A\nOpen files to import:  31%|███       | 53/173 [00:01<00:02, 45.83it/s]\u001b[A\nOpen files to import:  34%|███▎      | 58/173 [00:01<00:02, 45.26it/s]\u001b[A\nOpen files to import:  36%|███▋      | 63/173 [00:01<00:02, 46.36it/s]\u001b[A\nOpen files to import:  39%|███▉      | 68/173 [00:01<00:02, 45.99it/s]\u001b[A\nOpen files to import:  43%|████▎     | 74/173 [00:01<00:02, 47.16it/s]\u001b[A\nOpen files to import:  46%|████▌     | 80/173 [00:01<00:01, 48.36it/s]\u001b[A\nOpen files to import:  50%|████▉     | 86/173 [00:01<00:01, 47.87it/s]\u001b[A\nOpen files to import:  53%|█████▎    | 91/173 [00:01<00:01, 47.16it/s]\u001b[A\nOpen files to import:  55%|█████▌    | 96/173 [00:02<00:01, 46.94it/s]\u001b[A\nOpen files to import:  58%|█████▊    | 101/173 [00:02<00:01, 47.58it/s]\u001b[A\nOpen files to import:  62%|██████▏   | 107/173 [00:02<00:01, 50.13it/s]\u001b[A\nOpen files to import:  66%|██████▌   | 114/173 [00:02<00:01, 53.09it/s]\u001b[A\nOpen files to import:  70%|██████▉   | 121/173 [00:02<00:00, 54.99it/s]\u001b[A\nOpen files to import:  73%|███████▎  | 127/173 [00:02<00:00, 55.35it/s]\u001b[A\nOpen files to import:  77%|███████▋  | 133/173 [00:02<00:00, 55.25it/s]\u001b[A\nOpen files to import:  80%|████████  | 139/173 [00:02<00:00, 54.34it/s]\u001b[A\nOpen files to import:  84%|████████▍ | 145/173 [00:02<00:00, 55.04it/s]\u001b[A\nOpen files to import:  87%|████████▋ | 151/173 [00:02<00:00, 55.40it/s]\u001b[A\nOpen files to import:  91%|█████████ | 157/173 [00:03<00:00, 54.72it/s]\u001b[A\nOpen files to import:  94%|█████████▍| 163/173 [00:03<00:00, 54.57it/s]\u001b[A\nOpen files to import: 100%|██████████| 173/173 [00:03<00:00, 51.24it/s]\n\nOpen files to import:   0%|          | 0/371 [00:00<?, ?it/s]\u001b[A\nOpen files to import:   1%|          | 4/371 [00:00<00:10, 36.13it/s]\u001b[A\nOpen files to import:   2%|▏         | 7/371 [00:00<00:11, 32.11it/s]\u001b[A\nOpen files to import:   3%|▎         | 12/371 [00:00<00:10, 35.31it/s]\u001b[A\nOpen files to import:   4%|▍         | 16/371 [00:00<00:09, 35.76it/s]\u001b[A\nOpen files to import:   6%|▌         | 21/371 [00:00<00:09, 36.72it/s]\u001b[A\nOpen files to import:   7%|▋         | 26/371 [00:00<00:09, 36.60it/s]\u001b[A\nOpen files to import:   8%|▊         | 30/371 [00:00<00:09, 36.66it/s]\u001b[A\nOpen files to import:   9%|▉         | 34/371 [00:00<00:09, 35.63it/s]\u001b[A\nOpen files to import:  10%|█         | 38/371 [00:01<00:09, 35.58it/s]\u001b[A\nOpen files to import:  11%|█▏        | 42/371 [00:01<00:09, 35.94it/s]\u001b[A\nOpen files to import:  12%|█▏        | 46/371 [00:01<00:08, 36.49it/s]\u001b[A\nOpen files to import:  13%|█▎        | 50/371 [00:01<00:08, 36.68it/s]\u001b[A\nOpen files to import:  15%|█▍        | 54/371 [00:01<00:08, 36.71it/s]\u001b[A\nOpen files to import:  16%|█▌        | 58/371 [00:01<00:09, 33.51it/s]\u001b[A\nOpen files to import:  17%|█▋        | 62/371 [00:01<00:09, 32.83it/s]\u001b[A\nOpen files to import:  18%|█▊        | 66/371 [00:01<00:09, 33.50it/s]\u001b[A\nOpen files to import:  19%|█▉        | 70/371 [00:01<00:09, 33.23it/s]\u001b[A\nOpen files to import:  20%|█▉        | 74/371 [00:02<00:08, 34.05it/s]\u001b[A\nOpen files to import:  21%|██        | 78/371 [00:02<00:08, 33.69it/s]\u001b[A\nOpen files to import:  22%|██▏       | 82/371 [00:02<00:08, 34.30it/s]\u001b[A\nOpen files to import:  23%|██▎       | 86/371 [00:02<00:08, 34.56it/s]\u001b[A\nOpen files to import:  24%|██▍       | 90/371 [00:02<00:08, 34.38it/s]\u001b[A\nOpen files to import:  25%|██▌       | 94/371 [00:02<00:07, 35.17it/s]\u001b[A\nOpen files to import:  27%|██▋       | 99/371 [00:02<00:07, 37.41it/s]\u001b[A\nOpen files to import:  28%|██▊       | 105/371 [00:02<00:06, 41.94it/s]\u001b[A\nOpen files to import:  30%|██▉       | 110/371 [00:03<00:06, 39.98it/s]\u001b[A\nOpen files to import:  31%|███       | 115/371 [00:03<00:06, 38.02it/s]\u001b[A\nOpen files to import:  32%|███▏      | 119/371 [00:03<00:06, 38.40it/s]\u001b[A\nOpen files to import:  33%|███▎      | 123/371 [00:03<00:06, 36.76it/s]\u001b[A\nOpen files to import:  34%|███▍      | 127/371 [00:03<00:06, 36.27it/s]\u001b[A\nOpen files to import:  35%|███▌      | 131/371 [00:03<00:06, 35.74it/s]\u001b[A\nOpen files to import:  36%|███▋      | 135/371 [00:03<00:06, 36.75it/s]\u001b[A\nOpen files to import:  37%|███▋      | 139/371 [00:03<00:06, 36.46it/s]\u001b[A\nOpen files to import:  39%|███▊      | 143/371 [00:03<00:06, 35.50it/s]\u001b[A\nOpen files to import:  40%|███▉      | 147/371 [00:04<00:06, 35.97it/s]\u001b[A\nOpen files to import:  41%|████      | 153/371 [00:04<00:05, 39.77it/s]\u001b[A\nOpen files to import:  43%|████▎     | 158/371 [00:04<00:05, 37.97it/s]\u001b[A\nOpen files to import:  44%|████▎     | 162/371 [00:04<00:05, 35.80it/s]\u001b[A\nOpen files to import:  45%|████▍     | 166/371 [00:04<00:05, 34.77it/s]\u001b[A\nOpen files to import:  46%|████▌     | 170/371 [00:04<00:05, 35.26it/s]\u001b[A\nOpen files to import:  47%|████▋     | 174/371 [00:04<00:05, 35.71it/s]\u001b[A\nOpen files to import:  48%|████▊     | 179/371 [00:04<00:05, 36.84it/s]\u001b[A\nOpen files to import:  49%|████▉     | 183/371 [00:05<00:05, 37.14it/s]\u001b[A\nOpen files to import:  50%|█████     | 187/371 [00:05<00:04, 37.03it/s]\u001b[A\nOpen files to import:  51%|█████▏    | 191/371 [00:05<00:04, 36.46it/s]\u001b[A\nOpen files to import:  53%|█████▎    | 195/371 [00:05<00:05, 34.84it/s]\u001b[A\nOpen files to import:  54%|█████▎    | 199/371 [00:05<00:04, 34.95it/s]\u001b[A\nOpen files to import:  55%|█████▍    | 203/371 [00:05<00:04, 34.38it/s]\u001b[A\nOpen files to import:  56%|█████▌    | 207/371 [00:05<00:04, 34.80it/s]\u001b[A\nOpen files to import:  57%|█████▋    | 211/371 [00:05<00:04, 34.55it/s]\u001b[A\nOpen files to import:  58%|█████▊    | 215/371 [00:05<00:04, 35.48it/s]\u001b[A\nOpen files to import:  59%|█████▉    | 219/371 [00:06<00:04, 35.29it/s]\u001b[A\nOpen files to import:  60%|██████    | 223/371 [00:06<00:04, 35.54it/s]\u001b[A\nOpen files to import:  61%|██████    | 227/371 [00:06<00:04, 34.43it/s]\u001b[A\nOpen files to import:  62%|██████▏   | 231/371 [00:06<00:04, 34.65it/s]\u001b[A\nOpen files to import:  63%|██████▎   | 235/371 [00:06<00:03, 34.72it/s]\u001b[A\nOpen files to import:  64%|██████▍   | 239/371 [00:06<00:03, 35.29it/s]\u001b[A\nOpen files to import:  65%|██████▌   | 243/371 [00:06<00:03, 35.44it/s]\u001b[A\nOpen files to import:  67%|██████▋   | 247/371 [00:06<00:03, 35.46it/s]\u001b[A\nOpen files to import:  68%|██████▊   | 251/371 [00:06<00:03, 35.10it/s]\u001b[A\nOpen files to import:  69%|██████▊   | 255/371 [00:07<00:03, 34.05it/s]\u001b[A\nOpen files to import:  70%|██████▉   | 259/371 [00:07<00:03, 34.03it/s]\u001b[A\nOpen files to import:  71%|███████   | 263/371 [00:07<00:03, 33.85it/s]\u001b[A\nOpen files to import:  72%|███████▏  | 267/371 [00:07<00:03, 33.63it/s]\u001b[A\nOpen files to import:  73%|███████▎  | 271/371 [00:07<00:02, 33.70it/s]\u001b[A\nOpen files to import:  74%|███████▍  | 275/371 [00:07<00:02, 34.13it/s]\u001b[A\nOpen files to import:  75%|███████▌  | 279/371 [00:07<00:02, 34.53it/s]\u001b[A\nOpen files to import:  76%|███████▋  | 283/371 [00:07<00:02, 34.63it/s]\u001b[A\nOpen files to import:  77%|███████▋  | 287/371 [00:08<00:02, 35.06it/s]\u001b[A\nOpen files to import:  78%|███████▊  | 291/371 [00:08<00:02, 36.34it/s]\u001b[A\nOpen files to import:  80%|███████▉  | 295/371 [00:08<00:02, 35.89it/s]\u001b[A\nOpen files to import:  81%|████████  | 299/371 [00:08<00:02, 35.31it/s]\u001b[A\nOpen files to import:  82%|████████▏ | 303/371 [00:08<00:01, 34.36it/s]\u001b[A\nOpen files to import:  83%|████████▎ | 307/371 [00:08<00:01, 34.43it/s]\u001b[A\nOpen files to import:  84%|████████▍ | 311/371 [00:08<00:01, 34.29it/s]\u001b[A\nOpen files to import:  85%|████████▍ | 315/371 [00:08<00:01, 34.47it/s]\u001b[A\nOpen files to import:  86%|████████▌ | 319/371 [00:08<00:01, 34.95it/s]\u001b[A\nOpen files to import:  87%|████████▋ | 323/371 [00:09<00:01, 34.93it/s]\u001b[A\nOpen files to import:  88%|████████▊ | 327/371 [00:09<00:01, 35.09it/s]\u001b[A\nOpen files to import:  89%|████████▉ | 332/371 [00:09<00:01, 34.72it/s]\u001b[A\nOpen files to import:  91%|█████████ | 336/371 [00:09<00:01, 34.14it/s]\u001b[A\nOpen files to import:  92%|█████████▏| 340/371 [00:09<00:00, 34.01it/s]\u001b[A\nOpen files to import:  93%|█████████▎| 344/371 [00:09<00:00, 34.09it/s]\u001b[A\nOpen files to import:  94%|█████████▍| 348/371 [00:09<00:00, 33.05it/s]\u001b[A\nOpen files to import:  95%|█████████▍| 352/371 [00:09<00:00, 30.86it/s]\u001b[A\nOpen files to import:  96%|█████████▌| 356/371 [00:10<00:00, 31.52it/s]\u001b[A\nOpen files to import:  97%|█████████▋| 360/371 [00:10<00:00, 30.60it/s]\u001b[A\nOpen files to import:  98%|█████████▊| 364/371 [00:10<00:00, 30.12it/s]\u001b[A\nOpen files to import: 100%|██████████| 371/371 [00:10<00:00, 35.25it/s]\nImport data from each dataset:  40%|████      | 2/5 [00:36<00:59, 19.72s/it]\nOpen files to import:   0%|          | 0/7 [00:00<?, ?it/s]\u001b[A\nOpen files to import: 100%|██████████| 7/7 [00:00<00:00, 34.07it/s]\nImport data from each dataset:  60%|██████    | 3/5 [00:36<00:27, 13.87s/it]\nOpen files to import:   0%|          | 0/4 [00:00<?, ?it/s]\u001b[AUrban Observatory data up-to-date!\n\nOpen files to import: 100%|██████████| 4/4 [00:02<00:00,  1.77it/s]\nImport data from each dataset:  80%|████████  | 4/5 [00:39<00:10, 10.58s/it]\nOpen files to import: 100%|██████████| 4/4 [00:00<00:00, 105.50it/s]\nImport data from each dataset: 100%|██████████| 5/5 [00:39<00:00,  7.86s/it]\n"
    }
   ],
   "source": [
    "dataset_data = []\n",
    "for dataset in tqdm(selected_datasets, desc = \"Import data from each dataset\"):\n",
    "    dataset_data.append(import_data(dataset))"
   ]
  },
  {
   "cell_type": "code",
   "execution_count": 136,
   "metadata": {},
   "outputs": [],
   "source": [
    "all_data = pd.concat(dataset_data, axis=0, ignore_index=True, sort=False)\n",
    "all_data.sort_values(by=['DateTime'], inplace=True)\n",
    "cols = ['DateTime']  + [col for col in all_data if col != 'DateTime']\n",
    "all_data = all_data[cols]\n",
    "all_data = all_data.reset_index(drop=True)\n",
    "\n",
    "del selected_datasets, cols, dataset_data, dataset"
   ]
  },
  {
   "cell_type": "code",
   "execution_count": 137,
   "metadata": {},
   "outputs": [],
   "source": [
    "with warnings.catch_warnings():\n",
    "    warnings.filterwarnings('ignore', r'All-NaN (slice|axis) encountered')\n",
    "    warnings.filterwarnings('ignore', r'Degrees of freedom <= 0 for slice.')\n",
    "    ave_cols = []\n",
    "    for col in all_data.columns[1:].to_list():\n",
    "        ave_col = info['parameters'].query('parameter == \"' + col + '\"')['parameter_ave'][0]\n",
    "        if ave_col != col:\n",
    "            if ave_col not in ave_cols:\n",
    "                cols = info['parameters'].query('parameter_ave == \"' + ave_col + '\"')['parameter'].to_list()\n",
    "                all_data[ave_col] = all_data[cols].mean(axis=1)\n",
    "                if len(cols) > 2:\n",
    "                    all_data[ave_col + \"_err\"] = np.nanstd(all_data[cols], axis=1)\n",
    "                elif len(cols) == 2:\n",
    "                    all_data[ave_col + \"_err\"] = np.abs((all_data[cols[0]] - all_data[cols[1]])/2)\n",
    "                else:\n",
    "                    all_data[ave_col + \"_err\"] = 0\n",
    "                ave_cols.append(info['parameters'].query('parameter == \"' + col + '\"')['parameter_ave'][0])\n",
    "\n",
    "del ave_col, col, ave_cols, cols"
   ]
  },
  {
   "cell_type": "code",
   "execution_count": 138,
   "metadata": {},
   "outputs": [],
   "source": [
    "ave_pars = list(info['parameters_ave'][selected_ave]['parameter_ave'].values)\n",
    "err_pars = [ave_par + \"_err\" for ave_par in ave_pars]\n",
    "\n",
    "selected_pars = list(info['parameters'][selected]['parameter'].values) + ave_pars + err_pars\n",
    "\n",
    "del selected, selected_ave, ave_pars, err_pars"
   ]
  },
  {
   "cell_type": "code",
   "execution_count": 139,
   "metadata": {},
   "outputs": [],
   "source": [
    "all_data = all_data[[\"DateTime\"]+ selected_pars]"
   ]
  },
  {
   "cell_type": "code",
   "execution_count": 140,
   "metadata": {},
   "outputs": [
    {
     "name": "stderr",
     "output_type": "stream",
     "text": "Assign data to chart DFs: 100%|██████████| 5/5 [00:01<00:00,  4.38it/s]\n"
    }
   ],
   "source": [
    "chart_dfs = []\n",
    "for chart in tqdm(charts, desc = \"Assign data to chart DFs\"):\n",
    "    if info['charts'].loc[chart, 'chart_status'] == 'ON':\n",
    "        mask = (all_data['DateTime'] >= info['charts'].loc[chart, 'chart_range_start']) & (all_data['DateTime'] <= info['charts'].loc[chart, 'chart_range_end'])\n",
    "        df = all_data.loc[mask]\n",
    "        if info['charts'].loc[chart, 'chart_res'] != 0:\n",
    "            df = df.resample(\"\".join([str(info['charts'].loc[chart, 'chart_res']), 'T']), on='DateTime').mean()\n",
    "            df = df.reset_index()\n",
    "        else:\n",
    "            df = df.reset_index(drop=True)\n",
    "        chart_dfs.append(df)\n",
    "    else:\n",
    "        chart_dfs.append(\"\")\n",
    "\n",
    "#del df, chart, mask, all_data"
   ]
  },
  {
   "cell_type": "code",
   "execution_count": 21,
   "metadata": {},
   "outputs": [],
   "source": [
    "#Create plot dictionary\n",
    "plot_dict = dict(zip(info['parameters']['parameter'], info['parameters']['plot']))\n",
    "plot_dict2 = dict(zip(info['parameters_ave']['parameter_ave'], info['parameters_ave']['plot']))\n",
    "plot_dict.update(plot_dict2)\n",
    "\n",
    "chart_dfs_mlt = []\n",
    "for chart in charts:\n",
    "    if info['charts'].loc[chart, 'chart_status'] == 'ON':\n",
    "        data_cols = []\n",
    "        err_cols = [\"DateTime\"]\n",
    "\n",
    "        criteria = chart_dfs[chart].isna().all()\n",
    "        wide_data = chart_dfs[chart][criteria.index[-criteria]]\n",
    "\n",
    "        for col in wide_data.columns:\n",
    "            if not \"_err\" in col:\n",
    "                data_cols.append(col)\n",
    "            else:\n",
    "                err_cols.append(col)\n",
    "\n",
    "        df = wide_data[data_cols].melt(id_vars=['DateTime'], var_name='Parameter', value_name='Value')\n",
    "        df_err = wide_data[err_cols].melt(id_vars=['DateTime'], var_name='Parameter', value_name='Error')\n",
    "        \n",
    "        df = df.set_index(['DateTime', 'Parameter', df.groupby(['DateTime', 'Parameter']).cumcount()])\n",
    "        df_err['Parameter'] = df_err['Parameter'].str.replace(r'_err', '')\n",
    "        df_err = df_err.set_index(['DateTime', 'Parameter', df_err.groupby(['DateTime', 'Parameter']).cumcount()])\n",
    "        \n",
    "        df3 = (pd.concat([df, df_err],axis=1)\n",
    "        .sort_index(level=2)\n",
    "        .reset_index(level=2, drop=True)\n",
    "        .reset_index())\n",
    "        df3.sort_values(by=['DateTime', 'Parameter'], inplace=True)\n",
    "\n",
    "        #Assign plots\n",
    "        df3.loc[:,'Plot'] = df3['Parameter'].map(plot_dict)\n",
    "\n",
    "        chart_dfs_mlt.append(df3)\n",
    "    else:\n",
    "        chart_dfs_mlt.append(pd.DataFrame())\n",
    "\n",
    "del chart, data_cols, err_cols, col, df, df_err, df3, chart_dfs, plot_dict, plot_dict2, wide_data, criteria"
   ]
  },
  {
   "cell_type": "code",
   "execution_count": 22,
   "metadata": {},
   "outputs": [
    {
     "data": {
      "text/plain": "[                        DateTime     Parameter      Value      Error  \\\n 0      2020-02-16 11:00:22+00:00  BES_1__C_ave   4.323709   0.982974   \n 1      2020-02-16 11:00:22+00:00  BES_1__V_ave  97.600000  22.191139   \n 2      2020-02-16 11:00:22+00:00  BES_2__C_ave   1.861818   0.063384   \n 3      2020-02-16 11:00:22+00:00  BES_2__V_ave  42.033333   1.433721   \n 4      2020-02-16 11:00:22+00:00  BES_3__C_ave   1.482794   0.231322   \n ...                          ...           ...        ...        ...   \n 350381 2020-02-19 10:59:21+00:00    TEMP_MAT_2  88.000000        NaN   \n 350382 2020-02-19 10:59:21+00:00    TEMP_MAT_3  69.000000        NaN   \n 350383 2020-02-19 10:59:21+00:00  TEMP_MAT_ave  79.000000   7.788881   \n 350384 2020-02-19 10:59:21+00:00       TEMP_OS   9.300000        NaN   \n 350385 2020-02-19 10:59:21+00:00       TEMP_SP  25.000000        NaN   \n \n                 Plot  \n 0              BES_C  \n 1              BES_V  \n 2              BES_C  \n 3              BES_V  \n 4              BES_C  \n ...              ...  \n 350381  TEMP_PROCESS  \n 350382  TEMP_PROCESS  \n 350383  TEMP_PROCESS  \n 350384          TEMP  \n 350385          TEMP  \n \n [350386 rows x 5 columns],\n                         DateTime     Parameter      Value     Error  \\\n 0      2020-02-05 11:00:00+00:00  BES_1__C_ave   5.601900  0.740164   \n 1      2020-02-05 11:00:00+00:00  BES_1__V_ave  19.006667  2.511504   \n 2      2020-02-05 11:00:00+00:00  BES_2__C_ave   5.053641  0.227481   \n 3      2020-02-05 11:00:00+00:00  BES_2__V_ave  17.146667  0.771716   \n 4      2020-02-05 11:00:00+00:00  BES_3__C_ave   4.540749  0.219487   \n ...                          ...           ...        ...       ...   \n 342715 2020-02-19 10:55:00+00:00    TEMP_MAT_2  87.800000       NaN   \n 342716 2020-02-19 10:55:00+00:00    TEMP_MAT_3  69.000000       NaN   \n 342717 2020-02-19 10:55:00+00:00  TEMP_MAT_ave  78.933333  7.712845   \n 342718 2020-02-19 10:55:00+00:00       TEMP_OS   9.220000       NaN   \n 342719 2020-02-19 10:55:00+00:00       TEMP_SP  25.000000       NaN   \n \n                 Plot  \n 0              BES_C  \n 1              BES_V  \n 2              BES_C  \n 3              BES_V  \n 4              BES_C  \n ...              ...  \n 342715  TEMP_PROCESS  \n 342716  TEMP_PROCESS  \n 342717  TEMP_PROCESS  \n 342718          TEMP  \n 342719          TEMP  \n \n [342720 rows x 5 columns],\n                         DateTime     Parameter       Value      Error  \\\n 0      2019-06-04 12:00:00+00:00  BES_1__C_ave         NaN        NaN   \n 1      2019-06-04 12:00:00+00:00  BES_1__V_ave  384.320833  22.059613   \n 2      2019-06-04 12:00:00+00:00  BES_2__C_ave         NaN        NaN   \n 3      2019-06-04 12:00:00+00:00  BES_2__V_ave  362.151190  16.444433   \n 4      2019-06-04 12:00:00+00:00  BES_3__C_ave         NaN        NaN   \n ...                          ...           ...         ...        ...   \n 280795 2020-02-19 10:00:00+00:00  TEMP_MAT_ave   72.205556   7.155522   \n 280796 2020-02-19 10:00:00+00:00       TEMP_OS    9.138333        NaN   \n 280797 2020-02-19 10:00:00+00:00       TEMP_SP   25.000000        NaN   \n 280798 2020-02-19 10:00:00+00:00      sCOD_ave         NaN        NaN   \n 280799 2020-02-19 10:00:00+00:00      tCOD_ave         NaN        NaN   \n \n                 Plot  \n 0              BES_C  \n 1              BES_V  \n 2              BES_C  \n 3              BES_V  \n 4              BES_C  \n ...              ...  \n 280795  TEMP_PROCESS  \n 280796          TEMP  \n 280797          TEMP  \n 280798           COD  \n 280799           COD  \n \n [280800 rows x 5 columns],\n                         DateTime     Parameter       Value      Error  \\\n 0      2019-06-04 12:00:00+00:00  BES_1__C_ave         NaN        NaN   \n 1      2019-06-04 12:00:00+00:00  BES_1__V_ave  384.320833  22.059613   \n 2      2019-06-04 12:00:00+00:00  BES_2__C_ave         NaN        NaN   \n 3      2019-06-04 12:00:00+00:00  BES_2__V_ave  362.151190  16.444433   \n 4      2019-06-04 12:00:00+00:00  BES_3__C_ave         NaN        NaN   \n ...                          ...           ...         ...        ...   \n 280795 2020-02-19 10:00:00+00:00  TEMP_MAT_ave   72.205556   7.155522   \n 280796 2020-02-19 10:00:00+00:00       TEMP_OS    9.138333        NaN   \n 280797 2020-02-19 10:00:00+00:00       TEMP_SP   25.000000        NaN   \n 280798 2020-02-19 10:00:00+00:00      sCOD_ave         NaN        NaN   \n 280799 2020-02-19 10:00:00+00:00      tCOD_ave         NaN        NaN   \n \n                 Plot  \n 0              BES_C  \n 1              BES_V  \n 2              BES_C  \n 3              BES_V  \n 4              BES_C  \n ...              ...  \n 280795  TEMP_PROCESS  \n 280796          TEMP  \n 280797          TEMP  \n 280798           COD  \n 280799           COD  \n \n [280800 rows x 5 columns],\n Empty DataFrame\n Columns: []\n Index: []]"
     },
     "execution_count": 22,
     "metadata": {},
     "output_type": "execute_result"
    }
   ],
   "source": [
    "chart_dfs_mlt"
   ]
  },
  {
   "cell_type": "code",
   "execution_count": 42,
   "metadata": {},
   "outputs": [
    {
     "data": {
      "text/plain": "[                   parameter      parameter_lab          plot  line  ribbon  \\\n dataset                                                                       \n Sensor             BES_A1__V             BES 1A        BES_VA  True   False   \n Sensor             BES_A2__V             BES 2A        BES_VA  True   False   \n Sensor             BES_A3__V             BES 3A        BES_VA  True   False   \n Sensor             BES_A4__V             BES 4A        BES_VA  True   False   \n Sensor             BES_B1__V             BES 1B        BES_VB  True   False   \n ...                      ...                ...           ...   ...     ...   \n Sensor            PRESSURE_B    Line B Pressure      PRESSURE  True   False   \n Sensor            PRESSURE_C    Line C Pressure      PRESSURE  True   False   \n Sensor             SENSOR_pH            Feed pH            pH  True   False   \n Sensor   SENSOR_CONDUCTIVITY  Feed Conductivity  CONDUCTIVITY  True   False   \n Sensor           SENSOR_TILT     Enclosure Tilt      PRESSURE  True   False   \n \n            bar  point               colour                 fill  shape  \\\n dataset                                                                  \n Sensor   False  False    rgba(213,38,39,1)    rgba(213,38,39,1)    1.0   \n Sensor   False  False    rgba(43,159,43,1)    rgba(43,159,43,1)    1.0   \n Sensor   False  False   rgba(30,118,179,1)   rgba(30,118,179,1)    1.0   \n Sensor   False  False  rgba(147,103,188,1)  rgba(147,103,188,1)    1.0   \n Sensor   False  False    rgba(213,38,39,1)    rgba(213,38,39,1)    1.0   \n ...        ...    ...                  ...                  ...    ...   \n Sensor   False  False   rgba(187,188,33,1)   rgba(187,188,33,1)    1.0   \n Sensor   False  False   rgba(22,189,206,1)   rgba(22,189,206,1)    1.0   \n Sensor   False  False    rgba(139,85,74,1)    rgba(139,85,74,1)    1.0   \n Sensor   False  False    rgba(139,85,74,1)    rgba(139,85,74,1)    1.0   \n Sensor   False  False  rgba(126,126,126,1)  rgba(126,126,126,1)    1.0   \n \n         line_type  bar_order  show_in_legend  selected_chart_0  \\\n dataset                                                          \n Sensor      solid        NaN            True                 1   \n Sensor      solid        NaN            True                 1   \n Sensor      solid        NaN            True                 1   \n Sensor      solid        NaN            True                 1   \n Sensor   longdash        NaN            True                 1   \n ...           ...        ...             ...               ...   \n Sensor      solid        NaN            True                 1   \n Sensor      solid        NaN            True                 1   \n Sensor      solid        NaN            True                 1   \n Sensor      solid        NaN            True                 1   \n Sensor      solid        NaN            True                 1   \n \n          selected_chart_1  selected_chart_2  selected_chart_3  \n dataset                                                        \n Sensor                  1                 1                 1  \n Sensor                  1                 1                 1  \n Sensor                  1                 1                 1  \n Sensor                  1                 1                 1  \n Sensor                  1                 1                 1  \n ...                   ...               ...               ...  \n Sensor                  1                 1                 0  \n Sensor                  1                 1                 0  \n Sensor                  1                 1                 1  \n Sensor                  1                 1                 1  \n Sensor                  1                 1                 1  \n \n [64 rows x 17 columns],\n                    parameter        parameter_lab          plot  line  ribbon  \\\n dataset                                                                         \n Sensor             BES_A1__V               BES 1A        BES_VA  True   False   \n Sensor             BES_A2__V               BES 2A        BES_VA  True   False   \n Sensor             BES_A3__V               BES 3A        BES_VA  True   False   \n Sensor             BES_A4__V               BES 4A        BES_VA  True   False   \n Sensor             BES_B1__V               BES 1B        BES_VB  True   False   \n ...                      ...                  ...           ...   ...     ...   \n Sensor   SENSOR_CONDUCTIVITY    Feed Conductivity  CONDUCTIVITY  True   False   \n Sensor           SENSOR_TILT       Enclosure Tilt      PRESSURE  True   False   \n Skid                Inlet_pH    Pipe pH (BE:WISE)            pH  True   False   \n Skid                Inlet_DO    Pipe DO (BE:WISE)            DO  True   False   \n Skid          Inlet_Temp_ave  Pipe Temp (BE:WISE)          TEMP  True    True   \n \n            bar  point               colour                 fill  shape  \\\n dataset                                                                  \n Sensor   False  False    rgba(213,38,39,1)    rgba(213,38,39,1)    1.0   \n Sensor   False  False    rgba(43,159,43,1)    rgba(43,159,43,1)    1.0   \n Sensor   False  False   rgba(30,118,179,1)   rgba(30,118,179,1)    1.0   \n Sensor   False  False  rgba(147,103,188,1)  rgba(147,103,188,1)    1.0   \n Sensor   False  False    rgba(213,38,39,1)    rgba(213,38,39,1)    1.0   \n ...        ...    ...                  ...                  ...    ...   \n Sensor   False  False    rgba(139,85,74,1)    rgba(139,85,74,1)    1.0   \n Sensor   False  False  rgba(126,126,126,1)  rgba(126,126,126,1)    1.0   \n Skid     False  False    rgba(213,38,39,1)    rgba(137,41,41,1)    1.0   \n Skid     False  False    rgba(213,38,39,1)    rgba(137,41,41,1)    1.0   \n Skid     False  False    rgba(213,38,39,1)  rgba(213,38,39,0.5)    1.0   \n \n         line_type  bar_order  show_in_legend  selected_chart_0  \\\n dataset                                                          \n Sensor      solid        NaN            True                 1   \n Sensor      solid        NaN            True                 1   \n Sensor      solid        NaN            True                 1   \n Sensor      solid        NaN            True                 1   \n Sensor   longdash        NaN            True                 1   \n ...           ...        ...             ...               ...   \n Sensor      solid        NaN            True                 1   \n Sensor      solid        NaN            True                 1   \n Skid     longdash        NaN            True                 1   \n Skid     longdash        NaN            True                 1   \n Skid     longdash        NaN            True                 1   \n \n          selected_chart_1  selected_chart_2  selected_chart_3  \n dataset                                                        \n Sensor                  1                 1                 1  \n Sensor                  1                 1                 1  \n Sensor                  1                 1                 1  \n Sensor                  1                 1                 1  \n Sensor                  1                 1                 1  \n ...                   ...               ...               ...  \n Sensor                  1                 1                 1  \n Sensor                  1                 1                 1  \n Skid                    1                 1                 1  \n Skid                    1                 1                 1  \n Skid                    1                 1                 1  \n \n [67 rows x 17 columns],\n               parameter          parameter_lab    plot  line  ribbon    bar  \\\n dataset                                                                       \n Sensor        BES_A1__V                 BES 1A  BES_VA  True   False  False   \n Sensor        BES_A2__V                 BES 2A  BES_VA  True   False  False   \n Sensor        BES_A3__V                 BES 3A  BES_VA  True   False  False   \n Sensor        BES_A4__V                 BES 4A  BES_VA  True   False  False   \n Sensor        BES_B1__V                 BES 1B  BES_VB  True   False  False   \n ...                 ...                    ...     ...   ...     ...    ...   \n UO         EA_Downlevel  Downstream River (EA)   LEVEL  True   False  False   \n Skid     Inlet_Temp_ave    Pipe Temp (BE:WISE)    TEMP  True    True  False   \n SampLog        BOD5_ave              Feed BOD₅     BOD  True   False  False   \n SampLog        tCOD_ave              Feed tCOD     COD  True   False  False   \n SampLog        sCOD_ave              Feed sCOD     COD  True   False  False   \n \n          point               colour                 fill  shape line_type  \\\n dataset                                                                     \n Sensor   False    rgba(213,38,39,1)    rgba(213,38,39,1)    1.0     solid   \n Sensor   False    rgba(43,159,43,1)    rgba(43,159,43,1)    1.0     solid   \n Sensor   False   rgba(30,118,179,1)   rgba(30,118,179,1)    1.0     solid   \n Sensor   False  rgba(147,103,188,1)  rgba(147,103,188,1)    1.0     solid   \n Sensor   False    rgba(213,38,39,1)    rgba(213,38,39,1)    1.0  longdash   \n ...        ...                  ...                  ...    ...       ...   \n UO       False   rgba(187,188,33,1)    rgba(137,41,41,1)    1.0   dotdash   \n Skid     False    rgba(213,38,39,1)  rgba(213,38,39,0.5)    1.0  longdash   \n SampLog   True   rgba(22,189,206,1)    rgba(137,41,41,1)   21.0     solid   \n SampLog   True   rgba(255,126,13,1)    rgba(137,41,41,1)   21.0     solid   \n SampLog   True   rgba(22,189,206,1)    rgba(137,41,41,1)   21.0     solid   \n \n          bar_order  show_in_legend  selected_chart_0  selected_chart_1  \\\n dataset                                                                  \n Sensor         NaN            True                 1                 1   \n Sensor         NaN            True                 1                 1   \n Sensor         NaN            True                 1                 1   \n Sensor         NaN            True                 1                 1   \n Sensor         NaN            True                 1                 1   \n ...            ...             ...               ...               ...   \n UO             NaN            True                 1                 1   \n Skid           NaN            True                 1                 1   \n SampLog        NaN            True                 1                 1   \n SampLog        NaN            True                 1                 1   \n SampLog        NaN            True                 1                 1   \n \n          selected_chart_2  selected_chart_3  \n dataset                                      \n Sensor                  1                 1  \n Sensor                  1                 1  \n Sensor                  1                 1  \n Sensor                  1                 1  \n Sensor                  1                 1  \n ...                   ...               ...  \n UO                      1                 1  \n Skid                    1                 1  \n SampLog                 1                 1  \n SampLog                 1                 1  \n SampLog                 1                 1  \n \n [72 rows x 17 columns],\n                 parameter        parameter_lab      plot  line  ribbon    bar  \\\n dataset                                                                         \n Sensor          BES_A1__V               BES 1A    BES_VA  True   False  False   \n Sensor          BES_A2__V               BES 2A    BES_VA  True   False  False   \n Sensor          BES_A3__V               BES 3A    BES_VA  True   False  False   \n Sensor          BES_A4__V               BES 4A    BES_VA  True   False  False   \n Sensor          BES_B1__V               BES 1B    BES_VB  True   False  False   \n ...                   ...                  ...       ...   ...     ...    ...   \n Sensor   PRESSURE_BES_ave         BES Pressure  PRESSURE  True    True  False   \n Skid       Inlet_Temp_ave  Pipe Temp (BE:WISE)      TEMP  True    True  False   \n SampLog          BOD5_ave            Feed BOD₅       BOD  True   False  False   \n SampLog          tCOD_ave            Feed tCOD       COD  True   False  False   \n SampLog          sCOD_ave            Feed sCOD       COD  True   False  False   \n \n          point               colour                  fill  shape line_type  \\\n dataset                                                                      \n Sensor   False    rgba(213,38,39,1)     rgba(213,38,39,1)    1.0     solid   \n Sensor   False    rgba(43,159,43,1)     rgba(43,159,43,1)    1.0     solid   \n Sensor   False   rgba(30,118,179,1)    rgba(30,118,179,1)    1.0     solid   \n Sensor   False  rgba(147,103,188,1)   rgba(147,103,188,1)    1.0     solid   \n Sensor   False    rgba(213,38,39,1)     rgba(213,38,39,1)    1.0  longdash   \n ...        ...                  ...                   ...    ...       ...   \n Sensor   False   rgba(22,189,206,1)  rgba(22,189,206,0.5)    1.0     solid   \n Skid     False    rgba(213,38,39,1)   rgba(213,38,39,0.5)    1.0  longdash   \n SampLog   True   rgba(22,189,206,1)     rgba(137,41,41,1)   21.0     solid   \n SampLog   True   rgba(255,126,13,1)     rgba(137,41,41,1)   21.0     solid   \n SampLog   True   rgba(22,189,206,1)     rgba(137,41,41,1)   21.0     solid   \n \n          bar_order  show_in_legend  selected_chart_0  selected_chart_1  \\\n dataset                                                                  \n Sensor         NaN            True                 1                 1   \n Sensor         NaN            True                 1                 1   \n Sensor         NaN            True                 1                 1   \n Sensor         NaN            True                 1                 1   \n Sensor         NaN            True                 1                 1   \n ...            ...             ...               ...               ...   \n Sensor         NaN            True                 0                 0   \n Skid           NaN            True                 1                 1   \n SampLog        NaN            True                 1                 1   \n SampLog        NaN            True                 1                 1   \n SampLog        NaN            True                 1                 1   \n \n          selected_chart_2  selected_chart_3  \n dataset                                      \n Sensor                  1                 1  \n Sensor                  1                 1  \n Sensor                  1                 1  \n Sensor                  1                 1  \n Sensor                  1                 1  \n ...                   ...               ...  \n Sensor                  0                 1  \n Skid                    1                 1  \n SampLog                 1                 1  \n SampLog                 1                 1  \n SampLog                 1                 1  \n \n [66 rows x 17 columns],\n Empty DataFrame\n Columns: []\n Index: []]"
     },
     "execution_count": 42,
     "metadata": {},
     "output_type": "execute_result"
    }
   ],
   "source": [
    "plot_pars = []\n",
    "for chart in charts:\n",
    "    if info['charts'].loc[chart, 'chart_status'] == 'ON':\n",
    "        par_info1 = info['parameters'][info['parameters']['parameter'].isin(chart_dfs_mlt[chart].Parameter.unique())].drop(columns=[\"code\", \"parameter_ave\"])\n",
    "        par_info2 = info['parameters_ave'][info['parameters_ave']['parameter_ave'].isin(chart_dfs_mlt[chart].Parameter.unique())].rename(columns={\"parameter_ave\": \"parameter\"})\n",
    "        par_info_all = (par_info1.append(par_info2)).query('selected_chart_' + str(chart) + ' == 1')\n",
    "\n",
    "        #Convert colour id to rgb string\n",
    "        par_info_all['colour'].replace(info['colours']['rgba_str'].to_dict(), inplace=True)\n",
    "        par_info_all['fill'].replace(info['colours']['rgba_str'].to_dict(), inplace=True)\n",
    "\n",
    "        #Set defaults for NAs\n",
    "        par_info_all['colour'].fillna(info['colours'].query(\"theme == 'dark'\")['rgba_str'].to_list()[0], inplace=True)\n",
    "        par_info_all['fill'].fillna(info['colours'].query(\"theme == 'dark'\")['rgba_str'].to_list()[0], inplace=True)\n",
    "        par_info_all['shape'].fillna(1, inplace=True)\n",
    "        par_info_all['line_type'].fillna(\"solid\", inplace=True)\n",
    "        par_info_all['show_in_legend'].fillna(True, inplace=True)\n",
    "\n",
    "        par_info_all.loc[par_info_all['ribbon'] == True, 'fill'] = par_info_all.loc[par_info_all['ribbon'] == True, 'fill'].str.replace(\",1\\)\", \",0.5)\")\n",
    "        \n",
    "        plot_pars.append(par_info_all)\n",
    "    else:\n",
    "        plot_pars.append(pd.DataFrame())\n",
    "plot_pars\n",
    "\n",
    "#del chart, par_info1, par_info2, par_info_all"
   ]
  },
  {
   "cell_type": "code",
   "execution_count": 45,
   "metadata": {},
   "outputs": [],
   "source": [
    "#Export data to temp files\n",
    "if not os.path.exists(\"Temp_Data\"):\n",
    "    os.mkdir(\"Temp_Data\")\n",
    "for A in info:\n",
    "    info[A].to_csv(\"Temp_Data/info_\" + str(A) + \".csv\", encoding='utf-8')\n",
    "for i, A in enumerate(chart_dfs_mlt):\n",
    "    A.to_csv(\"Temp_Data/chart_dfs_mlt_\" + str(i) + \".csv\", encoding='utf-8', index=False)\n",
    "for i, A in enumerate(plot_pars):\n",
    "    A.to_csv(\"Temp_Data/plot_pars_\" + str(i) + \".csv\", encoding='utf-8')"
   ]
  }
 ],
 "metadata": {
  "kernelspec": {
   "display_name": "Python 3",
   "language": "python",
   "name": "python3"
  },
  "language_info": {
   "codemirror_mode": {
    "name": "ipython",
    "version": 3
   },
   "file_extension": ".py",
   "mimetype": "text/x-python",
   "name": "python",
   "nbconvert_exporter": "python",
   "pygments_lexer": "ipython3",
   "version": "3.7.6-final"
  },
  "varInspector": {
   "cols": {
    "lenName": 16,
    "lenType": 16,
    "lenVar": 40
   },
   "kernels_config": {
    "python": {
     "delete_cmd_postfix": "",
     "delete_cmd_prefix": "del ",
     "library": "var_list.py",
     "varRefreshCmd": "print(var_dic_list())"
    },
    "r": {
     "delete_cmd_postfix": ") ",
     "delete_cmd_prefix": "rm(",
     "library": "var_list.r",
     "varRefreshCmd": "cat(var_dic_list()) "
    }
   },
   "position": {
    "height": "250px",
    "left": "1330px",
    "right": "20px",
    "top": "109px",
    "width": "575px"
   },
   "types_to_exclude": [
    "module",
    "function",
    "builtin_function_or_method",
    "instance",
    "_Feature"
   ],
   "window_display": true
  }
 },
 "nbformat": 4,
 "nbformat_minor": 4
}