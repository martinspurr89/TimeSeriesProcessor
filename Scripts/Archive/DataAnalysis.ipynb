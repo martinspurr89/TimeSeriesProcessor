{
 "cells": [
  {
   "cell_type": "code",
   "execution_count": 13,
   "metadata": {},
   "outputs": [],
   "source": [
    "from pathlib import Path\n",
    "import pickle"
   ]
  },
  {
   "cell_type": "code",
   "execution_count": 2,
   "metadata": {
    "tags": []
   },
   "outputs": [],
   "source": [
    "import config\n",
    "import ProcessData"
   ]
  },
  {
   "cell_type": "code",
   "execution_count": 11,
   "metadata": {},
   "outputs": [],
   "source": [
    "config.io_dir = Path('C:/Users/nms198/OneDrive - Newcastle University/3_Coding/Python/Rod_BES_BEWISE')\n",
    "config.update = True\n",
    "config.verbose = True"
   ]
  },
  {
   "cell_type": "code",
   "execution_count": 14,
   "metadata": {
    "tags": []
   },
   "outputs": [],
   "source": [
    "def getConfigCharts():\n",
    "    pfile_path = config.io_dir / \"Temp\" / 'config.pkl'\n",
    "    if os.path.exists(pfile_path) and config.update:\n",
    "        with open(pfile_path, 'rb') as pfile:\n",
    "            items = pickle.load(pfile)\n",
    "        for key in list(items.keys()):\n",
    "            config.config[key] = items[key]\n",
    "    else:\n",
    "        print(\"No pickled config.pkl data file exists - processing data!\")\n",
    "        ProcessData.main()\n",
    "\n",
    "getConfigCharts()"
   ]
  },
  {
   "cell_type": "code",
   "execution_count": 19,
   "metadata": {},
   "outputs": [
    {
     "output_type": "execute_result",
     "data": {
      "text/plain": "                       DateTime  PUMP_SP  TILT_SP  TEMP_SP  BES_A1__V  \\\n0     2020-06-09 00:00:29+00:00     10.0      0.0     18.0       70.5   \n1     2020-06-09 00:01:27+00:00     10.0      0.0     18.0       70.5   \n2     2020-06-09 00:02:28+00:00     10.0      0.0     18.0       70.2   \n3     2020-06-09 00:03:28+00:00     10.0      0.0     18.0       70.2   \n4     2020-06-09 00:04:28+00:00     10.0      0.0     18.0       71.2   \n...                         ...      ...      ...      ...        ...   \n56440 2020-07-21 16:02:02+00:00     10.0      0.0     20.0      113.6   \n56441 2020-07-21 16:03:01+00:00     10.0      0.0     20.0      113.0   \n56442 2020-07-21 16:04:01+00:00     10.0      0.0     20.0      113.0   \n56443 2020-07-21 16:05:01+00:00     10.0      0.0     20.0      113.0   \n56444 2020-07-21 16:06:01+00:00     10.0      0.0     20.0      113.0   \n\n       BES_A2__V  BES_A3__V  BES_A4__V  BES_B1__V  BES_B2__V  ...  \\\n0           44.6       64.3       46.8       99.0       84.8  ...   \n1           43.9       64.0       46.8       99.0       84.8  ...   \n2           44.2       64.0       46.5       99.4       84.8  ...   \n3           44.6       63.7       46.8      100.0       85.1  ...   \n4           45.2       64.7       47.2      100.3       85.4  ...   \n...          ...        ...        ...        ...        ...  ...   \n56440      105.9       85.7       95.5      168.8      156.8  ...   \n56441      105.9       85.7       94.5      169.1      156.8  ...   \n56442      105.5       84.8       94.5      169.1      156.4  ...   \n56443      106.2       85.7       94.8      169.4      156.8  ...   \n56444      105.5       85.1       94.8      169.1      157.1  ...   \n\n       REXT_1_ave_err  REXT_2_ave_err  REXT_3_ave_err  REXT_4_ave_err  \\\n0          801.387685     1461.354014             0.0             0.0   \n1          801.387685     1461.354014             0.0             0.0   \n2          801.387685     1461.354014             0.0             0.0   \n3          801.387685     1461.354014             0.0             0.0   \n4          801.387685     1461.354014             0.0             0.0   \n...               ...             ...             ...             ...   \n56440        0.000000        0.000000             0.0             0.0   \n56441        0.000000        0.000000             0.0             0.0   \n56442        0.000000        0.000000             0.0             0.0   \n56443        0.000000        0.000000             0.0             0.0   \n56444        0.000000        0.000000             0.0             0.0   \n\n       BES_1__C_ave_err  BES_2__C_ave_err  BES_3__C_ave_err  BES_4__C_ave_err  \\\n0             92.230520         13.802496          0.408248          5.883499   \n1             92.338399         13.876679          0.449691          5.809379   \n2             91.720820         13.841323          0.432049          5.843705   \n3             91.633946         13.841323          0.648074          5.883499   \n4             93.224937         13.880202          0.355903          5.798850   \n...                 ...               ...               ...               ...   \n56440         11.312628         11.748191          7.989298          2.101322   \n56441         11.477224         11.748191          7.989298          2.358436   \n56442         11.473738         11.661999          8.175302          2.201515   \n56443         11.562103         11.745070          7.961574          2.215601   \n56444         11.474706         11.846050          8.168639          2.182252   \n\n       BES_SUM__V_ave_err  BES_SUM__C_ave_err  \n0               44.270105           77.146455  \n1               44.374192           77.068123  \n2               44.882736           76.589918  \n3               45.278324           76.289230  \n4               44.911493           78.243821  \n...                   ...                 ...  \n56440           61.752697           31.000753  \n56441           62.806811           31.487246  \n56442           62.585106           31.356693  \n56443           62.440852           31.341985  \n56444           63.105538           31.593389  \n\n[56445 rows x 102 columns]",
      "text/html": "<div>\n<style scoped>\n    .dataframe tbody tr th:only-of-type {\n        vertical-align: middle;\n    }\n\n    .dataframe tbody tr th {\n        vertical-align: top;\n    }\n\n    .dataframe thead th {\n        text-align: right;\n    }\n</style>\n<table border=\"1\" class=\"dataframe\">\n  <thead>\n    <tr style=\"text-align: right;\">\n      <th></th>\n      <th>DateTime</th>\n      <th>PUMP_SP</th>\n      <th>TILT_SP</th>\n      <th>TEMP_SP</th>\n      <th>BES_A1__V</th>\n      <th>BES_A2__V</th>\n      <th>BES_A3__V</th>\n      <th>BES_A4__V</th>\n      <th>BES_B1__V</th>\n      <th>BES_B2__V</th>\n      <th>...</th>\n      <th>REXT_1_ave_err</th>\n      <th>REXT_2_ave_err</th>\n      <th>REXT_3_ave_err</th>\n      <th>REXT_4_ave_err</th>\n      <th>BES_1__C_ave_err</th>\n      <th>BES_2__C_ave_err</th>\n      <th>BES_3__C_ave_err</th>\n      <th>BES_4__C_ave_err</th>\n      <th>BES_SUM__V_ave_err</th>\n      <th>BES_SUM__C_ave_err</th>\n    </tr>\n  </thead>\n  <tbody>\n    <tr>\n      <th>0</th>\n      <td>2020-06-09 00:00:29+00:00</td>\n      <td>10.0</td>\n      <td>0.0</td>\n      <td>18.0</td>\n      <td>70.5</td>\n      <td>44.6</td>\n      <td>64.3</td>\n      <td>46.8</td>\n      <td>99.0</td>\n      <td>84.8</td>\n      <td>...</td>\n      <td>801.387685</td>\n      <td>1461.354014</td>\n      <td>0.0</td>\n      <td>0.0</td>\n      <td>92.230520</td>\n      <td>13.802496</td>\n      <td>0.408248</td>\n      <td>5.883499</td>\n      <td>44.270105</td>\n      <td>77.146455</td>\n    </tr>\n    <tr>\n      <th>1</th>\n      <td>2020-06-09 00:01:27+00:00</td>\n      <td>10.0</td>\n      <td>0.0</td>\n      <td>18.0</td>\n      <td>70.5</td>\n      <td>43.9</td>\n      <td>64.0</td>\n      <td>46.8</td>\n      <td>99.0</td>\n      <td>84.8</td>\n      <td>...</td>\n      <td>801.387685</td>\n      <td>1461.354014</td>\n      <td>0.0</td>\n      <td>0.0</td>\n      <td>92.338399</td>\n      <td>13.876679</td>\n      <td>0.449691</td>\n      <td>5.809379</td>\n      <td>44.374192</td>\n      <td>77.068123</td>\n    </tr>\n    <tr>\n      <th>2</th>\n      <td>2020-06-09 00:02:28+00:00</td>\n      <td>10.0</td>\n      <td>0.0</td>\n      <td>18.0</td>\n      <td>70.2</td>\n      <td>44.2</td>\n      <td>64.0</td>\n      <td>46.5</td>\n      <td>99.4</td>\n      <td>84.8</td>\n      <td>...</td>\n      <td>801.387685</td>\n      <td>1461.354014</td>\n      <td>0.0</td>\n      <td>0.0</td>\n      <td>91.720820</td>\n      <td>13.841323</td>\n      <td>0.432049</td>\n      <td>5.843705</td>\n      <td>44.882736</td>\n      <td>76.589918</td>\n    </tr>\n    <tr>\n      <th>3</th>\n      <td>2020-06-09 00:03:28+00:00</td>\n      <td>10.0</td>\n      <td>0.0</td>\n      <td>18.0</td>\n      <td>70.2</td>\n      <td>44.6</td>\n      <td>63.7</td>\n      <td>46.8</td>\n      <td>100.0</td>\n      <td>85.1</td>\n      <td>...</td>\n      <td>801.387685</td>\n      <td>1461.354014</td>\n      <td>0.0</td>\n      <td>0.0</td>\n      <td>91.633946</td>\n      <td>13.841323</td>\n      <td>0.648074</td>\n      <td>5.883499</td>\n      <td>45.278324</td>\n      <td>76.289230</td>\n    </tr>\n    <tr>\n      <th>4</th>\n      <td>2020-06-09 00:04:28+00:00</td>\n      <td>10.0</td>\n      <td>0.0</td>\n      <td>18.0</td>\n      <td>71.2</td>\n      <td>45.2</td>\n      <td>64.7</td>\n      <td>47.2</td>\n      <td>100.3</td>\n      <td>85.4</td>\n      <td>...</td>\n      <td>801.387685</td>\n      <td>1461.354014</td>\n      <td>0.0</td>\n      <td>0.0</td>\n      <td>93.224937</td>\n      <td>13.880202</td>\n      <td>0.355903</td>\n      <td>5.798850</td>\n      <td>44.911493</td>\n      <td>78.243821</td>\n    </tr>\n    <tr>\n      <th>...</th>\n      <td>...</td>\n      <td>...</td>\n      <td>...</td>\n      <td>...</td>\n      <td>...</td>\n      <td>...</td>\n      <td>...</td>\n      <td>...</td>\n      <td>...</td>\n      <td>...</td>\n      <td>...</td>\n      <td>...</td>\n      <td>...</td>\n      <td>...</td>\n      <td>...</td>\n      <td>...</td>\n      <td>...</td>\n      <td>...</td>\n      <td>...</td>\n      <td>...</td>\n      <td>...</td>\n    </tr>\n    <tr>\n      <th>56440</th>\n      <td>2020-07-21 16:02:02+00:00</td>\n      <td>10.0</td>\n      <td>0.0</td>\n      <td>20.0</td>\n      <td>113.6</td>\n      <td>105.9</td>\n      <td>85.7</td>\n      <td>95.5</td>\n      <td>168.8</td>\n      <td>156.8</td>\n      <td>...</td>\n      <td>0.000000</td>\n      <td>0.000000</td>\n      <td>0.0</td>\n      <td>0.0</td>\n      <td>11.312628</td>\n      <td>11.748191</td>\n      <td>7.989298</td>\n      <td>2.101322</td>\n      <td>61.752697</td>\n      <td>31.000753</td>\n    </tr>\n    <tr>\n      <th>56441</th>\n      <td>2020-07-21 16:03:01+00:00</td>\n      <td>10.0</td>\n      <td>0.0</td>\n      <td>20.0</td>\n      <td>113.0</td>\n      <td>105.9</td>\n      <td>85.7</td>\n      <td>94.5</td>\n      <td>169.1</td>\n      <td>156.8</td>\n      <td>...</td>\n      <td>0.000000</td>\n      <td>0.000000</td>\n      <td>0.0</td>\n      <td>0.0</td>\n      <td>11.477224</td>\n      <td>11.748191</td>\n      <td>7.989298</td>\n      <td>2.358436</td>\n      <td>62.806811</td>\n      <td>31.487246</td>\n    </tr>\n    <tr>\n      <th>56442</th>\n      <td>2020-07-21 16:04:01+00:00</td>\n      <td>10.0</td>\n      <td>0.0</td>\n      <td>20.0</td>\n      <td>113.0</td>\n      <td>105.5</td>\n      <td>84.8</td>\n      <td>94.5</td>\n      <td>169.1</td>\n      <td>156.4</td>\n      <td>...</td>\n      <td>0.000000</td>\n      <td>0.000000</td>\n      <td>0.0</td>\n      <td>0.0</td>\n      <td>11.473738</td>\n      <td>11.661999</td>\n      <td>8.175302</td>\n      <td>2.201515</td>\n      <td>62.585106</td>\n      <td>31.356693</td>\n    </tr>\n    <tr>\n      <th>56443</th>\n      <td>2020-07-21 16:05:01+00:00</td>\n      <td>10.0</td>\n      <td>0.0</td>\n      <td>20.0</td>\n      <td>113.0</td>\n      <td>106.2</td>\n      <td>85.7</td>\n      <td>94.8</td>\n      <td>169.4</td>\n      <td>156.8</td>\n      <td>...</td>\n      <td>0.000000</td>\n      <td>0.000000</td>\n      <td>0.0</td>\n      <td>0.0</td>\n      <td>11.562103</td>\n      <td>11.745070</td>\n      <td>7.961574</td>\n      <td>2.215601</td>\n      <td>62.440852</td>\n      <td>31.341985</td>\n    </tr>\n    <tr>\n      <th>56444</th>\n      <td>2020-07-21 16:06:01+00:00</td>\n      <td>10.0</td>\n      <td>0.0</td>\n      <td>20.0</td>\n      <td>113.0</td>\n      <td>105.5</td>\n      <td>85.1</td>\n      <td>94.8</td>\n      <td>169.1</td>\n      <td>157.1</td>\n      <td>...</td>\n      <td>0.000000</td>\n      <td>0.000000</td>\n      <td>0.0</td>\n      <td>0.0</td>\n      <td>11.474706</td>\n      <td>11.846050</td>\n      <td>8.168639</td>\n      <td>2.182252</td>\n      <td>63.105538</td>\n      <td>31.593389</td>\n    </tr>\n  </tbody>\n</table>\n<p>56445 rows × 102 columns</p>\n</div>"
     },
     "metadata": {},
     "execution_count": 19
    }
   ],
   "source": [
    "config.config['all_data']"
   ]
  }
 ],
 "metadata": {
  "language_info": {
   "codemirror_mode": {
    "name": "ipython",
    "version": 3
   },
   "file_extension": ".py",
   "mimetype": "text/x-python",
   "name": "python",
   "nbconvert_exporter": "python",
   "pygments_lexer": "ipython3",
   "version": 3
  },
  "orig_nbformat": 2,
  "kernelspec": {
   "name": "python_defaultSpec_1595492300709",
   "display_name": "Python 3.7.3 64-bit (conda)"
  }
 },
 "nbformat": 4,
 "nbformat_minor": 2
}