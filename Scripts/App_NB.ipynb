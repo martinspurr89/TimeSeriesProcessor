{
 "cells": [
  {
   "cell_type": "code",
   "execution_count": 1,
   "metadata": {},
   "outputs": [],
   "source": [
    "# -*- coding: utf-8 -*-\n",
    "\n",
    "# Run this app with `python app.py` and\n",
    "# visit http://127.0.0.1:8050/ in your web browser.\n",
    "import sys\n",
    "import getopt\n",
    "import os\n",
    "from pathlib import Path\n",
    "import pickle\n",
    "\n",
    "#import dash\n",
    "from jupyter_plotly_dash import JupyterDash\n",
    "import dash_core_components as dcc\n",
    "import dash_html_components as html\n",
    "from dash.dependencies import Input, Output, State\n",
    "import time\n",
    "from pytz import timezone, utc\n",
    "import base64\n",
    "import humanize\n",
    "\n",
    "from config import *\n",
    "\n",
    "def helper():\n",
    "    print(\"Help\")\n",
    "\n",
    "def processArguments():\n",
    "    global io_dir\n",
    "    io_dir = Path('C://Users//nms198//OneDrive - Newcastle University//3_Coding//Python//Rod_BES_BEWISE')\n",
    "    #global verbose\n",
    "    #try:\n",
    "    #    opts, args = getopt.getopt(sys.argv[1:], \"d:uv\", [\"io_dir=\", \"update\"])\n",
    "    #except getopt.GetoptError as err:\n",
    "    #    # print help information and exit:\n",
    "    #    print(str(err))  # will print something like \"option -a not recognized\"\n",
    "    #    sys.exit(2)\n",
    "    #for opt, arg in opts:\n",
    "    #    if opt == \"-v\":\n",
    "    #        verbose = True\n",
    "    #    elif opt in (\"-h\", \"--help\"):\n",
    "    #        helper()\n",
    "    #        sys.exit()\n",
    "    #    elif opt in (\"-d\", \"--io_dir\"):\n",
    "    #        io_dir = Path(arg)\n",
    "    #        assert os.path.exists(io_dir), \"Folder does not exist at, \"+str(folder)\n",
    "    #    else:\n",
    "    #        assert False, \"unhandled option\"\n",
    "\n",
    "def getConfigCharts(io_dir):\n",
    "    global config\n",
    "    pfile_path = io_dir / \"Temp\" / 'config.pkl'\n",
    "    if os.path.exists(pfile_path):\n",
    "        with open(pfile_path, 'rb') as pfile:\n",
    "            items = pickle.load(pfile)\n",
    "        for key in list(items.keys()):\n",
    "            config[key] = items[key]\n",
    "    else:\n",
    "        print(\"No pickled config.pkl data file exists - processing data!\")\n",
    "        import ProcessData\n",
    "        ProcessData.main()\n",
    "\n",
    "\n",
    "processArguments()\n",
    "getConfigCharts(io_dir)"
   ]
  },
  {
   "cell_type": "code",
   "execution_count": 2,
   "metadata": {
    "tags": []
   },
   "outputs": [
    {
     "output_type": "stream",
     "name": "stdout",
     "text": "App ready: 2020-07-21 14:48:46+00:00\n"
    }
   ],
   "source": [
    "external_stylesheets = ['https://codepen.io/chriddyp/pen/bWLwgP.css']\n",
    "app = JupyterDash('__name__')\n",
    "#app = dash.Dash(__name__, external_stylesheets=external_stylesheets)\n",
    "\n",
    "image_filename = 'assets\\ToOL-PRO-BES.png' # replace with your own image\n",
    "encoded_image = base64.b64encode(open(image_filename, 'rb').read())\n",
    "\n",
    "card_style = {\"box-shadow\": \"0 4px 5px 0 rgba(0,0,0,0.14), 0 1px 10px 0 rgba(0,0,0,0.12), 0 2px 4px -1px rgba(0,0,0,0.3)\"}\n",
    "\n",
    "#app.scripts.config.serve_locally = True\n",
    "\n",
    "tabs_init = []\n",
    "tab_ids = {}\n",
    "t = 0\n",
    "for chart in config['charts']:\n",
    "    tab_name = \"tab-\" + str(t)\n",
    "    tab_ids[tab_name] = chart\n",
    "    tabs_init.append(dcc.Tab(label=config['info']['charts']['chart_label'][chart], value=tab_name, style={'backgroundColor': '#f5f5f5'}))\n",
    "    t += 1\n",
    "\n",
    "diff = datetime.now(timezone('UTC')) - config['date_end']\n",
    "last_date = humanize.naturaldelta(diff)\n",
    "update_text = html.Div(html.P('Data last retrieved ' + last_date + ' ago'))\n",
    "\n",
    "app.layout = html.Div(children=[\n",
    "    #html.Div([html.Img(src=app.get_asset_url('ToOL-PRO-BES.png'), style={'width':'90%', 'max-width': '100%'})], style={'textAlign': 'center'}),\n",
    "    html.Div([html.Img(src='data:image/png;base64,{}'.format(encoded_image.decode()), style={'width':'90%', 'max-width': '100%'})], style={'textAlign': 'center'}),\n",
    "    update_text,\n",
    "    html.Div(children=[\n",
    "        dcc.Tabs(id=\"tabs\",\n",
    "            value=\"tab-0\",\n",
    "            children=tabs_init),\n",
    "\n",
    "        html.Div(children=[\n",
    "            dcc.Loading(id='tabs-content')\n",
    "        ]),\n",
    "    ]),\n",
    "])\n",
    "\n",
    "@app.callback(Output('tabs-content', 'children'),\n",
    "            [Input('tabs', 'value')])\n",
    "def render_content(tab):\n",
    "    time.sleep(2)\n",
    "    content = []\n",
    "    for plot in range(0,len(config['dcc_chart_figs'][tab_ids[tab]])):\n",
    "        content.append(html.Div(id='loading', children=config['dcc_chart_figs'][tab_ids[tab]][plot]))\n",
    "    return html.Div(id='loading', children=content)\n",
    "\n",
    "print(\"App ready: \" + str(config['date_end']))"
   ]
  },
  {
   "cell_type": "code",
   "execution_count": 3,
   "metadata": {},
   "outputs": [
    {
     "output_type": "execute_result",
     "data": {
      "text/plain": "<jupyter_plotly_dash.dash_wrapper.JupyterDash at 0x1f0337b0358>",
      "text/html": "<div>\n  <iframe src=\"/app/endpoints/43f2289135254d9984116b0487195b39/\" width=800 height=600 frameborder=\"0\"></iframe>\n  <hr/><a href=\"/app/endpoints/43f2289135254d9984116b0487195b39/\" target=\"_new\">Open in new window</a> for /app/endpoints/43f2289135254d9984116b0487195b39/\n</div>"
     },
     "metadata": {},
     "execution_count": 3
    }
   ],
   "source": [
    "app"
   ]
  }
 ],
 "metadata": {
  "kernelspec": {
   "display_name": "Python 3",
   "language": "python",
   "name": "python3"
  },
  "language_info": {
   "codemirror_mode": {
    "name": "ipython",
    "version": 3
   },
   "file_extension": ".py",
   "mimetype": "text/x-python",
   "name": "python",
   "nbconvert_exporter": "python",
   "pygments_lexer": "ipython3",
   "version": "3.7.3"
  }
 },
 "nbformat": 4,
 "nbformat_minor": 4
}